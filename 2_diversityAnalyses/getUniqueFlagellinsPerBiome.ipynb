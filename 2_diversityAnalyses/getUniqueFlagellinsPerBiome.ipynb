{
 "cells": [
  {
   "cell_type": "markdown",
   "id": "a5d1d2ad-64ee-4513-aa01-724a82c4dc49",
   "metadata": {},
   "source": [
    "# Get Unique Flagellins across biomes"
   ]
  },
  {
   "cell_type": "markdown",
   "id": "39306e9e-a1a7-45a9-93f1-22730757e2cb",
   "metadata": {},
   "source": [
    "#### Load libraries"
   ]
  },
  {
   "cell_type": "code",
   "execution_count": 1,
   "id": "af66fc47-b379-4237-a4c8-66bb6a45758b",
   "metadata": {
    "collapsed": true,
    "jupyter": {
     "outputs_hidden": true
    },
    "tags": []
   },
   "outputs": [
    {
     "name": "stderr",
     "output_type": "stream",
     "text": [
      "── \u001b[1mAttaching packages\u001b[22m ──────────────────────────────────────────────────────────────────── tidyverse 1.3.2 ──\n",
      "\u001b[32m✔\u001b[39m \u001b[34mggplot2\u001b[39m 3.4.4     \u001b[32m✔\u001b[39m \u001b[34mpurrr  \u001b[39m 1.0.2\n",
      "\u001b[32m✔\u001b[39m \u001b[34mtibble \u001b[39m 3.2.1     \u001b[32m✔\u001b[39m \u001b[34mdplyr  \u001b[39m 1.1.4\n",
      "\u001b[32m✔\u001b[39m \u001b[34mtidyr  \u001b[39m 1.3.0     \u001b[32m✔\u001b[39m \u001b[34mstringr\u001b[39m 1.5.1\n",
      "\u001b[32m✔\u001b[39m \u001b[34mreadr  \u001b[39m 2.1.4     \u001b[32m✔\u001b[39m \u001b[34mforcats\u001b[39m 1.0.0\n",
      "── \u001b[1mConflicts\u001b[22m ─────────────────────────────────────────────────────────────────────── tidyverse_conflicts() ──\n",
      "\u001b[31m✖\u001b[39m \u001b[34mdplyr\u001b[39m::\u001b[32marrange()\u001b[39m   masks \u001b[34mplyr\u001b[39m::arrange()\n",
      "\u001b[31m✖\u001b[39m \u001b[34mpurrr\u001b[39m::\u001b[32mcompact()\u001b[39m   masks \u001b[34mplyr\u001b[39m::compact()\n",
      "\u001b[31m✖\u001b[39m \u001b[34mdplyr\u001b[39m::\u001b[32mcount()\u001b[39m     masks \u001b[34mplyr\u001b[39m::count()\n",
      "\u001b[31m✖\u001b[39m \u001b[34mdplyr\u001b[39m::\u001b[32mdesc()\u001b[39m      masks \u001b[34mplyr\u001b[39m::desc()\n",
      "\u001b[31m✖\u001b[39m \u001b[34mdplyr\u001b[39m::\u001b[32mfailwith()\u001b[39m  masks \u001b[34mplyr\u001b[39m::failwith()\n",
      "\u001b[31m✖\u001b[39m \u001b[34mdplyr\u001b[39m::\u001b[32mfilter()\u001b[39m    masks \u001b[34mstats\u001b[39m::filter()\n",
      "\u001b[31m✖\u001b[39m \u001b[34mdplyr\u001b[39m::\u001b[32mid()\u001b[39m        masks \u001b[34mplyr\u001b[39m::id()\n",
      "\u001b[31m✖\u001b[39m \u001b[34mdplyr\u001b[39m::\u001b[32mlag()\u001b[39m       masks \u001b[34mstats\u001b[39m::lag()\n",
      "\u001b[31m✖\u001b[39m \u001b[34mdplyr\u001b[39m::\u001b[32mmutate()\u001b[39m    masks \u001b[34mplyr\u001b[39m::mutate()\n",
      "\u001b[31m✖\u001b[39m \u001b[34mdplyr\u001b[39m::\u001b[32mrename()\u001b[39m    masks \u001b[34mplyr\u001b[39m::rename()\n",
      "\u001b[31m✖\u001b[39m \u001b[34mdplyr\u001b[39m::\u001b[32msummarise()\u001b[39m masks \u001b[34mplyr\u001b[39m::summarise()\n",
      "\u001b[31m✖\u001b[39m \u001b[34mdplyr\u001b[39m::\u001b[32msummarize()\u001b[39m masks \u001b[34mplyr\u001b[39m::summarize()\n",
      "\n",
      "microViz version 0.9.6 - Copyright (C) 2022 David Barnett\n",
      "* Website: https://david-barnett.github.io/microViz/\n",
      "* Useful? For citation info, run: citation('microViz')\n",
      "* Silence: suppressPackageStartupMessages(library(microViz))\n",
      "\n",
      "\n",
      "\n",
      "Attaching package: ‘metagMisc’\n",
      "\n",
      "\n",
      "The following object is masked from ‘package:purrr’:\n",
      "\n",
      "    some\n",
      "\n",
      "\n",
      "Loading required package: viridisLite\n",
      "\n",
      "Loading required package: lattice\n",
      "\n",
      "This is vegan 2.6-4\n",
      "\n"
     ]
    }
   ],
   "source": [
    "library(plyr)\n",
    "library(tidyverse)\n",
    "library(stringr)\n",
    "library(phyloseq)\n",
    "library(microViz)\n",
    "library(metagMisc)\n",
    "library(ggplot2)\n",
    "library(ggsci)\n",
    "library(viridis)\n",
    "library(conflicted)\n",
    "library(gridExtra)\n",
    "library(permute)\n",
    "library(grid) \n",
    "library(knitr)\n",
    "library(cowplot)\n",
    "library(vegan)\n",
    "library(ggpubr)"
   ]
  },
  {
   "cell_type": "markdown",
   "id": "79d3de3f-e447-48b1-97d0-5bfb45060ee2",
   "metadata": {},
   "source": [
    "#### Declare conflict preferences"
   ]
  },
  {
   "cell_type": "code",
   "execution_count": 2,
   "id": "ff22da75-e1f9-418e-92e0-6e6cdb2d970e",
   "metadata": {},
   "outputs": [
    {
     "name": "stderr",
     "output_type": "stream",
     "text": [
      "\u001b[1m\u001b[22m\u001b[90m[conflicted]\u001b[39m Will prefer \u001b[1m\u001b[34mdplyr\u001b[39m\u001b[22m::filter over any other package.\n",
      "\u001b[1m\u001b[22m\u001b[90m[conflicted]\u001b[39m Will prefer \u001b[1m\u001b[34mdplyr\u001b[39m\u001b[22m::rename over any other package.\n",
      "\u001b[1m\u001b[22m\u001b[90m[conflicted]\u001b[39m Will prefer \u001b[1m\u001b[34mdplyr\u001b[39m\u001b[22m::mutate over any other package.\n",
      "\u001b[1m\u001b[22m\u001b[90m[conflicted]\u001b[39m Will prefer \u001b[1m\u001b[34mdplyr\u001b[39m\u001b[22m::count over any other package.\n"
     ]
    }
   ],
   "source": [
    "conflict_prefer(\"filter\",\"dplyr\")\n",
    "conflict_prefer(\"rename\",\"dplyr\")\n",
    "conflict_prefer(\"mutate\",\"dplyr\")\n",
    "conflict_prefer(\"count\",\"dplyr\")"
   ]
  },
  {
   "cell_type": "code",
   "execution_count": 13,
   "id": "dcddc329-f5b8-4da9-b35a-9cb174792da8",
   "metadata": {},
   "outputs": [],
   "source": [
    "#Import miscellaneous functions for plots and edger\n",
    "source(\"/ebio/abt3_projects2/Flagellin_Diversity/code/notebooks/FlagellinDiversity/plots_functions.r\")"
   ]
  },
  {
   "cell_type": "code",
   "execution_count": 77,
   "id": "8f7ef3fd-ce88-48c6-b51a-4901954cb065",
   "metadata": {},
   "outputs": [],
   "source": [
    "filterTaxa_All = readRDS(\"filter_taxa_All_subsampled_median.rds\")#,#\"filter_taxa_All_count_subsampled.median.rds\")"
   ]
  },
  {
   "cell_type": "code",
   "execution_count": 5,
   "id": "f2c7363e-74a7-433c-9f36-863765fb6656",
   "metadata": {
    "tags": []
   },
   "outputs": [
    {
     "name": "stderr",
     "output_type": "stream",
     "text": [
      "\u001b[1mRows: \u001b[22m\u001b[34m9963\u001b[39m \u001b[1mColumns: \u001b[22m\u001b[34m13\u001b[39m\n",
      "\u001b[36m──\u001b[39m \u001b[1mColumn specification\u001b[22m \u001b[36m─────────────────────────────────────────────────────────────────────────────────────\u001b[39m\n",
      "\u001b[1mDelimiter:\u001b[22m \"\\t\"\n",
      "\u001b[31mchr\u001b[39m (9): Accession, ncbi_phylum, Domain, Phylum, Class, Order, Family, Genus...\n",
      "\u001b[32mdbl\u001b[39m (4): length, HVR_length, ncbi_taxid, genome_size\n",
      "\n",
      "\u001b[36mℹ\u001b[39m Use `spec()` to retrieve the full column specification for this data.\n",
      "\u001b[36mℹ\u001b[39m Specify the column types or set `show_col_types = FALSE` to quiet this message.\n"
     ]
    }
   ],
   "source": [
    "taxonomy.db  = read_tsv(\"../flagellin_phylogeny/fla.sb.taxonomy.length.tsv\")"
   ]
  },
  {
   "cell_type": "code",
   "execution_count": 6,
   "id": "e24ce922-4ab4-4db2-95f5-8d3d29825b75",
   "metadata": {
    "tags": []
   },
   "outputs": [],
   "source": [
    "#Create individual subsets of phyloseq objects for each category\n",
    "ps.animals=subset_samples(filterTaxa_All,category==\"Animal\")\n",
    "ps.plants=subset_samples(filterTaxa_All,category==\"Plants\")\n",
    "ps.env=subset_samples(filterTaxa_All,category==\"Environmental\")"
   ]
  },
  {
   "cell_type": "code",
   "execution_count": 7,
   "id": "d8e6a6f6-f601-4552-8abc-b8e9ca979126",
   "metadata": {},
   "outputs": [
    {
     "data": {
      "text/html": [
       "99"
      ],
      "text/latex": [
       "99"
      ],
      "text/markdown": [
       "99"
      ],
      "text/plain": [
       "[1] 99"
      ]
     },
     "metadata": {},
     "output_type": "display_data"
    }
   ],
   "source": [
    "length(sample_names(ps.env))"
   ]
  },
  {
   "cell_type": "code",
   "execution_count": 14,
   "id": "5b20ca78-7323-457e-9259-6a7cfee6fa28",
   "metadata": {},
   "outputs": [],
   "source": [
    "#Create counts matrix with summary stats\n",
    "counts.animals = createCountsMatrix(ps.animals)  \n",
    "counts.env = createCountsMatrix(ps.env)\n",
    "counts.plants = createCountsMatrix(ps.plants)"
   ]
  },
  {
   "cell_type": "code",
   "execution_count": 15,
   "id": "5db356a8-9cbb-408b-a0c0-d5cd9389da40",
   "metadata": {},
   "outputs": [
    {
     "name": "stderr",
     "output_type": "stream",
     "text": [
      "\u001b[1m\u001b[22mJoining with `by = join_by(Accession)`\n"
     ]
    }
   ],
   "source": [
    "#Join all matrices\n",
    "countsAllBiomes = full_join(counts.animals,counts.env,by=\"Accession\") %>%\n",
    "       full_join(counts.plants)"
   ]
  },
  {
   "cell_type": "code",
   "execution_count": 16,
   "id": "852998e0-d28a-41d0-89c7-89e38122655f",
   "metadata": {},
   "outputs": [
    {
     "data": {
      "text/html": [
       "<table class=\"dataframe\">\n",
       "<caption>A data.frame: 6 × 16</caption>\n",
       "<thead>\n",
       "\t<tr><th></th><th scope=col>Accession</th><th scope=col>category.x</th><th scope=col>totalCount_Animal</th><th scope=col>NoSamples.x</th><th scope=col>ProportionIn_Animal</th><th scope=col>PresentIn_Animal</th><th scope=col>category.y</th><th scope=col>totalCount_Environmental</th><th scope=col>NoSamples.y</th><th scope=col>ProportionIn_Environmental</th><th scope=col>PresentIn_Environmental</th><th scope=col>category</th><th scope=col>totalCount_Plants</th><th scope=col>NoSamples</th><th scope=col>ProportionIn_Plants</th><th scope=col>PresentIn_Plants</th></tr>\n",
       "\t<tr><th></th><th scope=col>&lt;chr&gt;</th><th scope=col>&lt;chr&gt;</th><th scope=col>&lt;dbl&gt;</th><th scope=col>&lt;int&gt;</th><th scope=col>&lt;dbl&gt;</th><th scope=col>&lt;lgl&gt;</th><th scope=col>&lt;chr&gt;</th><th scope=col>&lt;dbl&gt;</th><th scope=col>&lt;int&gt;</th><th scope=col>&lt;dbl&gt;</th><th scope=col>&lt;lgl&gt;</th><th scope=col>&lt;chr&gt;</th><th scope=col>&lt;dbl&gt;</th><th scope=col>&lt;int&gt;</th><th scope=col>&lt;dbl&gt;</th><th scope=col>&lt;lgl&gt;</th></tr>\n",
       "</thead>\n",
       "<tbody>\n",
       "\t<tr><th scope=row>1</th><td>WP_018305791.1</td><td>Animal</td><td>68</td><td>178</td><td>0.382022472</td><td>TRUE</td><td>Environmental</td><td>120</td><td>99</td><td>1.2121212</td><td>TRUE</td><td>Plants</td><td>15</td><td>75</td><td>0.20000000</td><td>TRUE</td></tr>\n",
       "\t<tr><th scope=row>2</th><td>KJS48310.1    </td><td>Animal</td><td> 1</td><td>178</td><td>0.005617978</td><td>TRUE</td><td>Environmental</td><td> 54</td><td>99</td><td>0.5454545</td><td>TRUE</td><td>Plants</td><td> 4</td><td>75</td><td>0.05333333</td><td>TRUE</td></tr>\n",
       "\t<tr><th scope=row>3</th><td>EHQ91627.1    </td><td>Animal</td><td> 1</td><td>178</td><td>0.005617978</td><td>TRUE</td><td>Environmental</td><td> 18</td><td>99</td><td>0.1818182</td><td>TRUE</td><td>Plants</td><td> 2</td><td>75</td><td>0.02666667</td><td>TRUE</td></tr>\n",
       "\t<tr><th scope=row>4</th><td>KRE97958.1    </td><td>Animal</td><td> 4</td><td>178</td><td>0.022471910</td><td>TRUE</td><td>Environmental</td><td> 38</td><td>99</td><td>0.3838384</td><td>TRUE</td><td>Plants</td><td> 3</td><td>75</td><td>0.04000000</td><td>TRUE</td></tr>\n",
       "\t<tr><th scope=row>5</th><td>WP_039230967.1</td><td>Animal</td><td> 2</td><td>178</td><td>0.011235955</td><td>TRUE</td><td>Environmental</td><td>156</td><td>99</td><td>1.5757576</td><td>TRUE</td><td>Plants</td><td>11</td><td>75</td><td>0.14666667</td><td>TRUE</td></tr>\n",
       "\t<tr><th scope=row>6</th><td>ESU34160.1    </td><td>Animal</td><td>10</td><td>178</td><td>0.056179775</td><td>TRUE</td><td>Environmental</td><td> 31</td><td>99</td><td>0.3131313</td><td>TRUE</td><td>Plants</td><td> 5</td><td>75</td><td>0.06666667</td><td>TRUE</td></tr>\n",
       "</tbody>\n",
       "</table>\n"
      ],
      "text/latex": [
       "A data.frame: 6 × 16\n",
       "\\begin{tabular}{r|llllllllllllllll}\n",
       "  & Accession & category.x & totalCount\\_Animal & NoSamples.x & ProportionIn\\_Animal & PresentIn\\_Animal & category.y & totalCount\\_Environmental & NoSamples.y & ProportionIn\\_Environmental & PresentIn\\_Environmental & category & totalCount\\_Plants & NoSamples & ProportionIn\\_Plants & PresentIn\\_Plants\\\\\n",
       "  & <chr> & <chr> & <dbl> & <int> & <dbl> & <lgl> & <chr> & <dbl> & <int> & <dbl> & <lgl> & <chr> & <dbl> & <int> & <dbl> & <lgl>\\\\\n",
       "\\hline\n",
       "\t1 & WP\\_018305791.1 & Animal & 68 & 178 & 0.382022472 & TRUE & Environmental & 120 & 99 & 1.2121212 & TRUE & Plants & 15 & 75 & 0.20000000 & TRUE\\\\\n",
       "\t2 & KJS48310.1     & Animal &  1 & 178 & 0.005617978 & TRUE & Environmental &  54 & 99 & 0.5454545 & TRUE & Plants &  4 & 75 & 0.05333333 & TRUE\\\\\n",
       "\t3 & EHQ91627.1     & Animal &  1 & 178 & 0.005617978 & TRUE & Environmental &  18 & 99 & 0.1818182 & TRUE & Plants &  2 & 75 & 0.02666667 & TRUE\\\\\n",
       "\t4 & KRE97958.1     & Animal &  4 & 178 & 0.022471910 & TRUE & Environmental &  38 & 99 & 0.3838384 & TRUE & Plants &  3 & 75 & 0.04000000 & TRUE\\\\\n",
       "\t5 & WP\\_039230967.1 & Animal &  2 & 178 & 0.011235955 & TRUE & Environmental & 156 & 99 & 1.5757576 & TRUE & Plants & 11 & 75 & 0.14666667 & TRUE\\\\\n",
       "\t6 & ESU34160.1     & Animal & 10 & 178 & 0.056179775 & TRUE & Environmental &  31 & 99 & 0.3131313 & TRUE & Plants &  5 & 75 & 0.06666667 & TRUE\\\\\n",
       "\\end{tabular}\n"
      ],
      "text/markdown": [
       "\n",
       "A data.frame: 6 × 16\n",
       "\n",
       "| <!--/--> | Accession &lt;chr&gt; | category.x &lt;chr&gt; | totalCount_Animal &lt;dbl&gt; | NoSamples.x &lt;int&gt; | ProportionIn_Animal &lt;dbl&gt; | PresentIn_Animal &lt;lgl&gt; | category.y &lt;chr&gt; | totalCount_Environmental &lt;dbl&gt; | NoSamples.y &lt;int&gt; | ProportionIn_Environmental &lt;dbl&gt; | PresentIn_Environmental &lt;lgl&gt; | category &lt;chr&gt; | totalCount_Plants &lt;dbl&gt; | NoSamples &lt;int&gt; | ProportionIn_Plants &lt;dbl&gt; | PresentIn_Plants &lt;lgl&gt; |\n",
       "|---|---|---|---|---|---|---|---|---|---|---|---|---|---|---|---|---|\n",
       "| 1 | WP_018305791.1 | Animal | 68 | 178 | 0.382022472 | TRUE | Environmental | 120 | 99 | 1.2121212 | TRUE | Plants | 15 | 75 | 0.20000000 | TRUE |\n",
       "| 2 | KJS48310.1     | Animal |  1 | 178 | 0.005617978 | TRUE | Environmental |  54 | 99 | 0.5454545 | TRUE | Plants |  4 | 75 | 0.05333333 | TRUE |\n",
       "| 3 | EHQ91627.1     | Animal |  1 | 178 | 0.005617978 | TRUE | Environmental |  18 | 99 | 0.1818182 | TRUE | Plants |  2 | 75 | 0.02666667 | TRUE |\n",
       "| 4 | KRE97958.1     | Animal |  4 | 178 | 0.022471910 | TRUE | Environmental |  38 | 99 | 0.3838384 | TRUE | Plants |  3 | 75 | 0.04000000 | TRUE |\n",
       "| 5 | WP_039230967.1 | Animal |  2 | 178 | 0.011235955 | TRUE | Environmental | 156 | 99 | 1.5757576 | TRUE | Plants | 11 | 75 | 0.14666667 | TRUE |\n",
       "| 6 | ESU34160.1     | Animal | 10 | 178 | 0.056179775 | TRUE | Environmental |  31 | 99 | 0.3131313 | TRUE | Plants |  5 | 75 | 0.06666667 | TRUE |\n",
       "\n"
      ],
      "text/plain": [
       "  Accession      category.x totalCount_Animal NoSamples.x ProportionIn_Animal\n",
       "1 WP_018305791.1 Animal     68                178         0.382022472        \n",
       "2 KJS48310.1     Animal      1                178         0.005617978        \n",
       "3 EHQ91627.1     Animal      1                178         0.005617978        \n",
       "4 KRE97958.1     Animal      4                178         0.022471910        \n",
       "5 WP_039230967.1 Animal      2                178         0.011235955        \n",
       "6 ESU34160.1     Animal     10                178         0.056179775        \n",
       "  PresentIn_Animal category.y    totalCount_Environmental NoSamples.y\n",
       "1 TRUE             Environmental 120                      99         \n",
       "2 TRUE             Environmental  54                      99         \n",
       "3 TRUE             Environmental  18                      99         \n",
       "4 TRUE             Environmental  38                      99         \n",
       "5 TRUE             Environmental 156                      99         \n",
       "6 TRUE             Environmental  31                      99         \n",
       "  ProportionIn_Environmental PresentIn_Environmental category totalCount_Plants\n",
       "1 1.2121212                  TRUE                    Plants   15               \n",
       "2 0.5454545                  TRUE                    Plants    4               \n",
       "3 0.1818182                  TRUE                    Plants    2               \n",
       "4 0.3838384                  TRUE                    Plants    3               \n",
       "5 1.5757576                  TRUE                    Plants   11               \n",
       "6 0.3131313                  TRUE                    Plants    5               \n",
       "  NoSamples ProportionIn_Plants PresentIn_Plants\n",
       "1 75        0.20000000          TRUE            \n",
       "2 75        0.05333333          TRUE            \n",
       "3 75        0.02666667          TRUE            \n",
       "4 75        0.04000000          TRUE            \n",
       "5 75        0.14666667          TRUE            \n",
       "6 75        0.06666667          TRUE            "
      ]
     },
     "metadata": {},
     "output_type": "display_data"
    }
   ],
   "source": [
    "head(countsAllBiomes)"
   ]
  },
  {
   "cell_type": "code",
   "execution_count": 17,
   "id": "40e1ee7d-5776-4804-ac66-54f4e3c2d751",
   "metadata": {},
   "outputs": [
    {
     "data": {
      "image/png": "[encoded data removed]",
      "text/plain": [
       "Plot with title “Histogram of countsAllBiomes$ProportionIn_Animal”"
      ]
     },
     "metadata": {
      "image/png": {
       "height": 420,
       "width": 420
      }
     },
     "output_type": "display_data"
    }
   ],
   "source": [
    "hist(countsAllBiomes$ProportionIn_Animal,breaks=2000,xlim=c(0,0.3))"
   ]
  },
  {
   "cell_type": "code",
   "execution_count": 18,
   "id": "1fa52d54-c09c-4ef0-b803-f250eedbdccd",
   "metadata": {},
   "outputs": [
    {
     "data": {
      "text/html": [
       "<strong>10%:</strong> 0.00561797752808989"
      ],
      "text/latex": [
       "\\textbf{10\\textbackslash{}\\%:} 0.00561797752808989"
      ],
      "text/markdown": [
       "**10%:** 0.00561797752808989"
      ],
      "text/plain": [
       "        10% \n",
       "0.005617978 "
      ]
     },
     "metadata": {},
     "output_type": "display_data"
    },
    {
     "data": {
      "text/html": [
       "<strong>25%:</strong> 0.0168539325842697"
      ],
      "text/latex": [
       "\\textbf{25\\textbackslash{}\\%:} 0.0168539325842697"
      ],
      "text/markdown": [
       "**25%:** 0.0168539325842697"
      ],
      "text/plain": [
       "       25% \n",
       "0.01685393 "
      ]
     },
     "metadata": {},
     "output_type": "display_data"
    },
    {
     "data": {
      "text/html": [
       "<strong>50%:</strong> 0.0393258426966292"
      ],
      "text/latex": [
       "\\textbf{50\\textbackslash{}\\%:} 0.0393258426966292"
      ],
      "text/markdown": [
       "**50%:** 0.0393258426966292"
      ],
      "text/plain": [
       "       50% \n",
       "0.03932584 "
      ]
     },
     "metadata": {},
     "output_type": "display_data"
    }
   ],
   "source": [
    "#Check quantiles in proportion distribution\n",
    "quantile(countsAllBiomes$ProportionIn_Animal,0.10)\n",
    "quantile(countsAllBiomes$ProportionIn_Animal,0.25)\n",
    "quantile(countsAllBiomes$ProportionIn_Animal,0.50)\n"
   ]
  },
  {
   "cell_type": "code",
   "execution_count": 19,
   "id": "a2b84db6-f81a-47cc-9c0e-3ef62ee53750",
   "metadata": {},
   "outputs": [
    {
     "data": {
      "text/html": [
       "<strong>10%:</strong> 0.111111111111111"
      ],
      "text/latex": [
       "\\textbf{10\\textbackslash{}\\%:} 0.111111111111111"
      ],
      "text/markdown": [
       "**10%:** 0.111111111111111"
      ],
      "text/plain": [
       "      10% \n",
       "0.1111111 "
      ]
     },
     "metadata": {},
     "output_type": "display_data"
    },
    {
     "data": {
      "text/html": [
       "<strong>25%:</strong> 0.191919191919192"
      ],
      "text/latex": [
       "\\textbf{25\\textbackslash{}\\%:} 0.191919191919192"
      ],
      "text/markdown": [
       "**25%:** 0.191919191919192"
      ],
      "text/plain": [
       "      25% \n",
       "0.1919192 "
      ]
     },
     "metadata": {},
     "output_type": "display_data"
    },
    {
     "data": {
      "text/html": [
       "<strong>50%:</strong> 0.313131313131313"
      ],
      "text/latex": [
       "\\textbf{50\\textbackslash{}\\%:} 0.313131313131313"
      ],
      "text/markdown": [
       "**50%:** 0.313131313131313"
      ],
      "text/plain": [
       "      50% \n",
       "0.3131313 "
      ]
     },
     "metadata": {},
     "output_type": "display_data"
    }
   ],
   "source": [
    "#Check quantiles in proportion distribution\n",
    "quantile(countsAllBiomes$ProportionIn_Environmental,0.10)\n",
    "quantile(countsAllBiomes$ProportionIn_Environmental,0.25)\n",
    "quantile(countsAllBiomes$ProportionIn_Environmental,0.50)\n"
   ]
  },
  {
   "cell_type": "code",
   "execution_count": 20,
   "id": "8f1a564c-8f55-4a3b-ba61-fb7e77fe1fef",
   "metadata": {},
   "outputs": [
    {
     "data": {
      "text/html": [
       "<strong>10%:</strong> 0"
      ],
      "text/latex": [
       "\\textbf{10\\textbackslash{}\\%:} 0"
      ],
      "text/markdown": [
       "**10%:** 0"
      ],
      "text/plain": [
       "10% \n",
       "  0 "
      ]
     },
     "metadata": {},
     "output_type": "display_data"
    },
    {
     "data": {
      "text/html": [
       "<strong>25%:</strong> 0.0266666666666667"
      ],
      "text/latex": [
       "\\textbf{25\\textbackslash{}\\%:} 0.0266666666666667"
      ],
      "text/markdown": [
       "**25%:** 0.0266666666666667"
      ],
      "text/plain": [
       "       25% \n",
       "0.02666667 "
      ]
     },
     "metadata": {},
     "output_type": "display_data"
    },
    {
     "data": {
      "text/html": [
       "<strong>50%:</strong> 0.0533333333333333"
      ],
      "text/latex": [
       "\\textbf{50\\textbackslash{}\\%:} 0.0533333333333333"
      ],
      "text/markdown": [
       "**50%:** 0.0533333333333333"
      ],
      "text/plain": [
       "       50% \n",
       "0.05333333 "
      ]
     },
     "metadata": {},
     "output_type": "display_data"
    }
   ],
   "source": [
    "#Check quantiles in proportion distribution\n",
    "quantile(countsAllBiomes$ProportionIn_Plants,0.10)\n",
    "quantile(countsAllBiomes$ProportionIn_Plants,0.25)\n",
    "quantile(countsAllBiomes$ProportionIn_Plants,0.50)\n"
   ]
  },
  {
   "cell_type": "markdown",
   "id": "e2b7f124-5c5c-4070-a610-f305c9f80c95",
   "metadata": {},
   "source": [
    "### Identify unique flagellins in each biome from an all-to-all comparison"
   ]
  },
  {
   "cell_type": "raw",
   "id": "f768d89f-8f85-4955-af69-84a5a51b6ce3",
   "metadata": {},
   "source": [
    "I used 0.25 quantile for Plants as the 0.10 quantile=0, so I took the next quantile. For animals and environmental, I took the 0.10 quantile"
   ]
  },
  {
   "cell_type": "code",
   "execution_count": 21,
   "id": "8e12bf0c-798e-479f-b798-00b1ceb3c0e2",
   "metadata": {},
   "outputs": [],
   "source": [
    "OnlyPlants = filter(countsAllBiomes,c(\n",
    "                    ProportionIn_Environmental< quantile(countsAllBiomes$ProportionIn_Environmental,0.10) &\n",
    "                    PresentIn_Animal == FALSE &\n",
    "                    #ProportionIn_Animal < quantile(countsAllBiomes$ProportionIn_Animal,0.10) &\n",
    "                    PresentIn_Plants == TRUE))%>%\n",
    "                    mutate(UniqueIn = \"Plants\")\n"
   ]
  },
  {
   "cell_type": "code",
   "execution_count": 22,
   "id": "74dcd85f-d590-4f5e-8dfa-70f54c524ef5",
   "metadata": {},
   "outputs": [],
   "source": [
    "OnlyEnv = filter(countsAllBiomes,c(\n",
    "                    PresentIn_Environmental == TRUE &\n",
    "                    ProportionIn_Animal < quantile(countsAllBiomes$ProportionIn_Animal,0.10) &\n",
    "                    ProportionIn_Plants < quantile(countsAllBiomes$ProportionIn_Plants,0.25)))%>%\n",
    "                    mutate(UniqueIn = \"Env\")\n"
   ]
  },
  {
   "cell_type": "code",
   "execution_count": 23,
   "id": "81d26493-4c3b-46d3-9c01-1c4c9bbf7869",
   "metadata": {},
   "outputs": [],
   "source": [
    "#Here I reduced the threshold for environmental -more astringent-\n",
    "OnlyAnimal = filter(countsAllBiomes,c(\n",
    "                    PresentIn_Animal == TRUE &\n",
    "                    PresentIn_Environmental == FALSE &\n",
    "                    #ProportionIn_Environmental < quantile(countsAllBiomes$ProportionIn_Environmental,0.10) &\n",
    "                    ProportionIn_Plants < quantile(countsAllBiomes$ProportionIn_Plants,0.25) ))%>%\n",
    "                    mutate(UniqueIn = \"Animal\")"
   ]
  },
  {
   "cell_type": "code",
   "execution_count": 24,
   "id": "ed155eec-04c3-454c-829a-1479ad3d573f",
   "metadata": {},
   "outputs": [
    {
     "data": {
      "text/html": [
       "11"
      ],
      "text/latex": [
       "11"
      ],
      "text/markdown": [
       "11"
      ],
      "text/plain": [
       "[1] 11"
      ]
     },
     "metadata": {},
     "output_type": "display_data"
    },
    {
     "data": {
      "text/html": [
       "12"
      ],
      "text/latex": [
       "12"
      ],
      "text/markdown": [
       "12"
      ],
      "text/plain": [
       "[1] 12"
      ]
     },
     "metadata": {},
     "output_type": "display_data"
    },
    {
     "data": {
      "text/html": [
       "18"
      ],
      "text/latex": [
       "18"
      ],
      "text/markdown": [
       "18"
      ],
      "text/plain": [
       "[1] 18"
      ]
     },
     "metadata": {},
     "output_type": "display_data"
    }
   ],
   "source": [
    "nrow(OnlyPlants)\n",
    "nrow(OnlyEnv)\n",
    "nrow(OnlyAnimal)"
   ]
  },
  {
   "cell_type": "markdown",
   "id": "c5031157-7f22-4ebb-9c90-f3934aa2e5f8",
   "metadata": {},
   "source": [
    "### Annotate unique flagellins taxonomy"
   ]
  },
  {
   "cell_type": "code",
   "execution_count": 25,
   "id": "4d1de9ab-2dee-4987-b73c-424f4f5e9578",
   "metadata": {
    "tags": []
   },
   "outputs": [],
   "source": [
    "uniqueSets = list(Animal=OnlyAnimal,Plants=OnlyPlants,Env=OnlyEnv)\n",
    "\n",
    "getTaxonomy = function(setList){\n",
    "    taxonomy.table = inner_join(setList,taxonomy.db,by=\"Accession\")\n",
    "    \n",
    "    return(taxonomy.table)\n",
    "}\n",
    "\n",
    "taxUnique = lapply(uniqueSets,getTaxonomy)\n",
    "taxUniqueAll = bind_rows(taxUnique)"
   ]
  },
  {
   "cell_type": "code",
   "execution_count": 70,
   "id": "6abf40d3-27d5-4ea1-8c46-d4f2d8bf2753",
   "metadata": {},
   "outputs": [
    {
     "data": {
      "text/html": [
       "<table class=\"dataframe\">\n",
       "<caption>A data.frame: 12 × 29</caption>\n",
       "<thead>\n",
       "\t<tr><th scope=col>Accession</th><th scope=col>category.x</th><th scope=col>totalCount_Animal</th><th scope=col>NoSamples.x</th><th scope=col>ProportionIn_Animal</th><th scope=col>PresentIn_Animal</th><th scope=col>category.y</th><th scope=col>totalCount_Environmental</th><th scope=col>NoSamples.y</th><th scope=col>ProportionIn_Environmental</th><th scope=col>⋯</th><th scope=col>ncbi_taxid</th><th scope=col>ncbi_phylum</th><th scope=col>Domain</th><th scope=col>Phylum</th><th scope=col>Class</th><th scope=col>Order</th><th scope=col>Family</th><th scope=col>Genus</th><th scope=col>Species</th><th scope=col>genome_size</th></tr>\n",
       "\t<tr><th scope=col>&lt;chr&gt;</th><th scope=col>&lt;chr&gt;</th><th scope=col>&lt;dbl&gt;</th><th scope=col>&lt;int&gt;</th><th scope=col>&lt;dbl&gt;</th><th scope=col>&lt;lgl&gt;</th><th scope=col>&lt;chr&gt;</th><th scope=col>&lt;dbl&gt;</th><th scope=col>&lt;int&gt;</th><th scope=col>&lt;dbl&gt;</th><th scope=col>⋯</th><th scope=col>&lt;dbl&gt;</th><th scope=col>&lt;chr&gt;</th><th scope=col>&lt;chr&gt;</th><th scope=col>&lt;chr&gt;</th><th scope=col>&lt;chr&gt;</th><th scope=col>&lt;chr&gt;</th><th scope=col>&lt;chr&gt;</th><th scope=col>&lt;chr&gt;</th><th scope=col>&lt;chr&gt;</th><th scope=col>&lt;dbl&gt;</th></tr>\n",
       "</thead>\n",
       "<tbody>\n",
       "\t<tr><td>WP_025409266.1</td><td>Animal</td><td>0</td><td>178</td><td>0</td><td>FALSE</td><td>Environmental</td><td> 26</td><td>99</td><td>0.2626263</td><td>⋯</td><td> 861299</td><td>Gemmatimonadetes</td><td>d__Bacteria</td><td>p__Gemmatimonadota</td><td>c__Gemmatimonadetes   </td><td>o__Gemmatimonadales</td><td>f__Gemmatimonadaceae</td><td>g__Gemmatirosa     </td><td>s__Gemmatirosa kalamazoonesis   </td><td>7479215</td></tr>\n",
       "\t<tr><td>WP_019646457.1</td><td>Animal</td><td>0</td><td>178</td><td>0</td><td>FALSE</td><td>Environmental</td><td> 39</td><td>99</td><td>0.3939394</td><td>⋯</td><td>    189</td><td>Proteobacteria  </td><td>d__Bacteria</td><td>p__Proteobacteria </td><td>c__Alphaproteobacteria</td><td>o__Rhodospirillales</td><td>f__Rhodospirillaceae</td><td>g__Novispirillum   </td><td>s__Novispirillum itersonii_A    </td><td>4464517</td></tr>\n",
       "\t<tr><td>WP_062014281.1</td><td>Animal</td><td>0</td><td>178</td><td>0</td><td>FALSE</td><td>Environmental</td><td> 24</td><td>99</td><td>0.2424242</td><td>⋯</td><td>1638163</td><td>Proteobacteria  </td><td>d__Bacteria</td><td>p__Proteobacteria </td><td>c__Alphaproteobacteria</td><td>o__Rhizobiales     </td><td>f__Rhizobiaceae     </td><td>g__Aureimonas      </td><td>s__Aureimonas sp001463765       </td><td>4496098</td></tr>\n",
       "\t<tr><td>KZL24862.1    </td><td>Animal</td><td>0</td><td>178</td><td>0</td><td>FALSE</td><td>Environmental</td><td> 34</td><td>99</td><td>0.3434343</td><td>⋯</td><td> 989422</td><td>Proteobacteria  </td><td>d__Bacteria</td><td>p__Proteobacteria </td><td>c__Alphaproteobacteria</td><td>o__Rhizobiales     </td><td>f__Stappiaceae      </td><td>g__Pseudovibrio    </td><td>s__Pseudovibrio sp001623075     </td><td>5875058</td></tr>\n",
       "\t<tr><td>GBF57702.1    </td><td>Animal</td><td>0</td><td>178</td><td>0</td><td>FALSE</td><td>Environmental</td><td>119</td><td>99</td><td>1.2020202</td><td>⋯</td><td>1445552</td><td>Proteobacteria  </td><td>d__Bacteria</td><td>p__Proteobacteria </td><td>c__Alphaproteobacteria</td><td>o__Caulobacterales </td><td>f__Hyphomonadaceae  </td><td>g__Phycosocius     </td><td>s__Phycosocius bacilliformis    </td><td>3332539</td></tr>\n",
       "\t<tr><td>WP_115593367.1</td><td>Animal</td><td>0</td><td>178</td><td>0</td><td>FALSE</td><td>Environmental</td><td> 61</td><td>99</td><td>0.6161616</td><td>⋯</td><td>1938339</td><td>Proteobacteria  </td><td>d__Bacteria</td><td>p__Proteobacteria </td><td>c__Gammaproteobacteria</td><td>o__Enterobacterales</td><td>f__Alteromonadaceae </td><td>g__Alteromonas_D   </td><td>s__Alteromonas_D aestuariivivens</td><td>3848892</td></tr>\n",
       "\t<tr><td>PYE32768.1    </td><td>Animal</td><td>0</td><td>178</td><td>0</td><td>FALSE</td><td>Environmental</td><td> 74</td><td>99</td><td>0.7474747</td><td>⋯</td><td> 263723</td><td>Proteobacteria  </td><td>d__Bacteria</td><td>p__Proteobacteria </td><td>c__Gammaproteobacteria</td><td>o__Enterobacterales</td><td>f__Alteromonadaceae </td><td>g__Idiomarina      </td><td>s__Idiomarina fontislapidosi    </td><td>2862757</td></tr>\n",
       "\t<tr><td>SER07934.1    </td><td>Animal</td><td>0</td><td>178</td><td>0</td><td>FALSE</td><td>Environmental</td><td>130</td><td>99</td><td>1.3131313</td><td>⋯</td><td> 355243</td><td>Proteobacteria  </td><td>d__Bacteria</td><td>p__Proteobacteria </td><td>c__Gammaproteobacteria</td><td>o__Pseudomonadales </td><td>f__Nitrincolaceae   </td><td>g__Amphritea       </td><td>s__Amphritea atlantica          </td><td>4735181</td></tr>\n",
       "\t<tr><td>ALA90499.1    </td><td>Animal</td><td>0</td><td>178</td><td>0</td><td>FALSE</td><td>Environmental</td><td> 26</td><td>99</td><td>0.2626263</td><td>⋯</td><td>  40324</td><td>Proteobacteria  </td><td>d__Bacteria</td><td>p__Proteobacteria </td><td>c__Gammaproteobacteria</td><td>o__Xanthomonadales </td><td>f__Xanthomonadaceae </td><td>g__Stenotrophomonas</td><td>s__Stenotrophomonas sp003086775 </td><td>4300149</td></tr>\n",
       "\t<tr><td>WP_101892983.1</td><td>Animal</td><td>0</td><td>178</td><td>0</td><td>FALSE</td><td>Environmental</td><td> 40</td><td>99</td><td>0.4040404</td><td>⋯</td><td>1917421</td><td>Proteobacteria  </td><td>d__Bacteria</td><td>p__Proteobacteria </td><td>c__Gammaproteobacteria</td><td>o__Pseudomonadales </td><td>f__Ketobacteraceae  </td><td>g__Ketobacter      </td><td>s__Ketobacter alkanivorans      </td><td>4914503</td></tr>\n",
       "\t<tr><td>WP_068614852.1</td><td>Animal</td><td>0</td><td>178</td><td>0</td><td>FALSE</td><td>Environmental</td><td>210</td><td>99</td><td>2.1212121</td><td>⋯</td><td>1548547</td><td>Proteobacteria  </td><td>d__Bacteria</td><td>p__Proteobacteria </td><td>c__Gammaproteobacteria</td><td>o__Woeseiales      </td><td>f__Woeseiaceae      </td><td>g__Woeseia         </td><td>s__Woeseia oceani               </td><td>4059891</td></tr>\n",
       "\t<tr><td>AFA47646.1    </td><td>Animal</td><td>0</td><td>178</td><td>0</td><td>FALSE</td><td>Environmental</td><td> 33</td><td>99</td><td>0.3333333</td><td>⋯</td><td> 931626</td><td>Firmicutes      </td><td>d__Bacteria</td><td>p__Firmicutes_A   </td><td>c__Clostridia         </td><td>o__Eubacteriales   </td><td>f__Eubacteriaceae   </td><td>g__Acetobacterium  </td><td>s__Acetobacterium woodii        </td><td>4044777</td></tr>\n",
       "</tbody>\n",
       "</table>\n"
      ],
      "text/latex": [
       "A data.frame: 12 × 29\n",
       "\\begin{tabular}{lllllllllllllllllllll}\n",
       " Accession & category.x & totalCount\\_Animal & NoSamples.x & ProportionIn\\_Animal & PresentIn\\_Animal & category.y & totalCount\\_Environmental & NoSamples.y & ProportionIn\\_Environmental & ⋯ & ncbi\\_taxid & ncbi\\_phylum & Domain & Phylum & Class & Order & Family & Genus & Species & genome\\_size\\\\\n",
       " <chr> & <chr> & <dbl> & <int> & <dbl> & <lgl> & <chr> & <dbl> & <int> & <dbl> & ⋯ & <dbl> & <chr> & <chr> & <chr> & <chr> & <chr> & <chr> & <chr> & <chr> & <dbl>\\\\\n",
       "\\hline\n",
       "\t WP\\_025409266.1 & Animal & 0 & 178 & 0 & FALSE & Environmental &  26 & 99 & 0.2626263 & ⋯ &  861299 & Gemmatimonadetes & d\\_\\_Bacteria & p\\_\\_Gemmatimonadota & c\\_\\_Gemmatimonadetes    & o\\_\\_Gemmatimonadales & f\\_\\_Gemmatimonadaceae & g\\_\\_Gemmatirosa      & s\\_\\_Gemmatirosa kalamazoonesis    & 7479215\\\\\n",
       "\t WP\\_019646457.1 & Animal & 0 & 178 & 0 & FALSE & Environmental &  39 & 99 & 0.3939394 & ⋯ &     189 & Proteobacteria   & d\\_\\_Bacteria & p\\_\\_Proteobacteria  & c\\_\\_Alphaproteobacteria & o\\_\\_Rhodospirillales & f\\_\\_Rhodospirillaceae & g\\_\\_Novispirillum    & s\\_\\_Novispirillum itersonii\\_A     & 4464517\\\\\n",
       "\t WP\\_062014281.1 & Animal & 0 & 178 & 0 & FALSE & Environmental &  24 & 99 & 0.2424242 & ⋯ & 1638163 & Proteobacteria   & d\\_\\_Bacteria & p\\_\\_Proteobacteria  & c\\_\\_Alphaproteobacteria & o\\_\\_Rhizobiales      & f\\_\\_Rhizobiaceae      & g\\_\\_Aureimonas       & s\\_\\_Aureimonas sp001463765        & 4496098\\\\\n",
       "\t KZL24862.1     & Animal & 0 & 178 & 0 & FALSE & Environmental &  34 & 99 & 0.3434343 & ⋯ &  989422 & Proteobacteria   & d\\_\\_Bacteria & p\\_\\_Proteobacteria  & c\\_\\_Alphaproteobacteria & o\\_\\_Rhizobiales      & f\\_\\_Stappiaceae       & g\\_\\_Pseudovibrio     & s\\_\\_Pseudovibrio sp001623075      & 5875058\\\\\n",
       "\t GBF57702.1     & Animal & 0 & 178 & 0 & FALSE & Environmental & 119 & 99 & 1.2020202 & ⋯ & 1445552 & Proteobacteria   & d\\_\\_Bacteria & p\\_\\_Proteobacteria  & c\\_\\_Alphaproteobacteria & o\\_\\_Caulobacterales  & f\\_\\_Hyphomonadaceae   & g\\_\\_Phycosocius      & s\\_\\_Phycosocius bacilliformis     & 3332539\\\\\n",
       "\t WP\\_115593367.1 & Animal & 0 & 178 & 0 & FALSE & Environmental &  61 & 99 & 0.6161616 & ⋯ & 1938339 & Proteobacteria   & d\\_\\_Bacteria & p\\_\\_Proteobacteria  & c\\_\\_Gammaproteobacteria & o\\_\\_Enterobacterales & f\\_\\_Alteromonadaceae  & g\\_\\_Alteromonas\\_D    & s\\_\\_Alteromonas\\_D aestuariivivens & 3848892\\\\\n",
       "\t PYE32768.1     & Animal & 0 & 178 & 0 & FALSE & Environmental &  74 & 99 & 0.7474747 & ⋯ &  263723 & Proteobacteria   & d\\_\\_Bacteria & p\\_\\_Proteobacteria  & c\\_\\_Gammaproteobacteria & o\\_\\_Enterobacterales & f\\_\\_Alteromonadaceae  & g\\_\\_Idiomarina       & s\\_\\_Idiomarina fontislapidosi     & 2862757\\\\\n",
       "\t SER07934.1     & Animal & 0 & 178 & 0 & FALSE & Environmental & 130 & 99 & 1.3131313 & ⋯ &  355243 & Proteobacteria   & d\\_\\_Bacteria & p\\_\\_Proteobacteria  & c\\_\\_Gammaproteobacteria & o\\_\\_Pseudomonadales  & f\\_\\_Nitrincolaceae    & g\\_\\_Amphritea        & s\\_\\_Amphritea atlantica           & 4735181\\\\\n",
       "\t ALA90499.1     & Animal & 0 & 178 & 0 & FALSE & Environmental &  26 & 99 & 0.2626263 & ⋯ &   40324 & Proteobacteria   & d\\_\\_Bacteria & p\\_\\_Proteobacteria  & c\\_\\_Gammaproteobacteria & o\\_\\_Xanthomonadales  & f\\_\\_Xanthomonadaceae  & g\\_\\_Stenotrophomonas & s\\_\\_Stenotrophomonas sp003086775  & 4300149\\\\\n",
       "\t WP\\_101892983.1 & Animal & 0 & 178 & 0 & FALSE & Environmental &  40 & 99 & 0.4040404 & ⋯ & 1917421 & Proteobacteria   & d\\_\\_Bacteria & p\\_\\_Proteobacteria  & c\\_\\_Gammaproteobacteria & o\\_\\_Pseudomonadales  & f\\_\\_Ketobacteraceae   & g\\_\\_Ketobacter       & s\\_\\_Ketobacter alkanivorans       & 4914503\\\\\n",
       "\t WP\\_068614852.1 & Animal & 0 & 178 & 0 & FALSE & Environmental & 210 & 99 & 2.1212121 & ⋯ & 1548547 & Proteobacteria   & d\\_\\_Bacteria & p\\_\\_Proteobacteria  & c\\_\\_Gammaproteobacteria & o\\_\\_Woeseiales       & f\\_\\_Woeseiaceae       & g\\_\\_Woeseia          & s\\_\\_Woeseia oceani                & 4059891\\\\\n",
       "\t AFA47646.1     & Animal & 0 & 178 & 0 & FALSE & Environmental &  33 & 99 & 0.3333333 & ⋯ &  931626 & Firmicutes       & d\\_\\_Bacteria & p\\_\\_Firmicutes\\_A    & c\\_\\_Clostridia          & o\\_\\_Eubacteriales    & f\\_\\_Eubacteriaceae    & g\\_\\_Acetobacterium   & s\\_\\_Acetobacterium woodii         & 4044777\\\\\n",
       "\\end{tabular}\n"
      ],
      "text/markdown": [
       "\n",
       "A data.frame: 12 × 29\n",
       "\n",
       "| Accession &lt;chr&gt; | category.x &lt;chr&gt; | totalCount_Animal &lt;dbl&gt; | NoSamples.x &lt;int&gt; | ProportionIn_Animal &lt;dbl&gt; | PresentIn_Animal &lt;lgl&gt; | category.y &lt;chr&gt; | totalCount_Environmental &lt;dbl&gt; | NoSamples.y &lt;int&gt; | ProportionIn_Environmental &lt;dbl&gt; | ⋯ ⋯ | ncbi_taxid &lt;dbl&gt; | ncbi_phylum &lt;chr&gt; | Domain &lt;chr&gt; | Phylum &lt;chr&gt; | Class &lt;chr&gt; | Order &lt;chr&gt; | Family &lt;chr&gt; | Genus &lt;chr&gt; | Species &lt;chr&gt; | genome_size &lt;dbl&gt; |\n",
       "|---|---|---|---|---|---|---|---|---|---|---|---|---|---|---|---|---|---|---|---|---|\n",
       "| WP_025409266.1 | Animal | 0 | 178 | 0 | FALSE | Environmental |  26 | 99 | 0.2626263 | ⋯ |  861299 | Gemmatimonadetes | d__Bacteria | p__Gemmatimonadota | c__Gemmatimonadetes    | o__Gemmatimonadales | f__Gemmatimonadaceae | g__Gemmatirosa      | s__Gemmatirosa kalamazoonesis    | 7479215 |\n",
       "| WP_019646457.1 | Animal | 0 | 178 | 0 | FALSE | Environmental |  39 | 99 | 0.3939394 | ⋯ |     189 | Proteobacteria   | d__Bacteria | p__Proteobacteria  | c__Alphaproteobacteria | o__Rhodospirillales | f__Rhodospirillaceae | g__Novispirillum    | s__Novispirillum itersonii_A     | 4464517 |\n",
       "| WP_062014281.1 | Animal | 0 | 178 | 0 | FALSE | Environmental |  24 | 99 | 0.2424242 | ⋯ | 1638163 | Proteobacteria   | d__Bacteria | p__Proteobacteria  | c__Alphaproteobacteria | o__Rhizobiales      | f__Rhizobiaceae      | g__Aureimonas       | s__Aureimonas sp001463765        | 4496098 |\n",
       "| KZL24862.1     | Animal | 0 | 178 | 0 | FALSE | Environmental |  34 | 99 | 0.3434343 | ⋯ |  989422 | Proteobacteria   | d__Bacteria | p__Proteobacteria  | c__Alphaproteobacteria | o__Rhizobiales      | f__Stappiaceae       | g__Pseudovibrio     | s__Pseudovibrio sp001623075      | 5875058 |\n",
       "| GBF57702.1     | Animal | 0 | 178 | 0 | FALSE | Environmental | 119 | 99 | 1.2020202 | ⋯ | 1445552 | Proteobacteria   | d__Bacteria | p__Proteobacteria  | c__Alphaproteobacteria | o__Caulobacterales  | f__Hyphomonadaceae   | g__Phycosocius      | s__Phycosocius bacilliformis     | 3332539 |\n",
       "| WP_115593367.1 | Animal | 0 | 178 | 0 | FALSE | Environmental |  61 | 99 | 0.6161616 | ⋯ | 1938339 | Proteobacteria   | d__Bacteria | p__Proteobacteria  | c__Gammaproteobacteria | o__Enterobacterales | f__Alteromonadaceae  | g__Alteromonas_D    | s__Alteromonas_D aestuariivivens | 3848892 |\n",
       "| PYE32768.1     | Animal | 0 | 178 | 0 | FALSE | Environmental |  74 | 99 | 0.7474747 | ⋯ |  263723 | Proteobacteria   | d__Bacteria | p__Proteobacteria  | c__Gammaproteobacteria | o__Enterobacterales | f__Alteromonadaceae  | g__Idiomarina       | s__Idiomarina fontislapidosi     | 2862757 |\n",
       "| SER07934.1     | Animal | 0 | 178 | 0 | FALSE | Environmental | 130 | 99 | 1.3131313 | ⋯ |  355243 | Proteobacteria   | d__Bacteria | p__Proteobacteria  | c__Gammaproteobacteria | o__Pseudomonadales  | f__Nitrincolaceae    | g__Amphritea        | s__Amphritea atlantica           | 4735181 |\n",
       "| ALA90499.1     | Animal | 0 | 178 | 0 | FALSE | Environmental |  26 | 99 | 0.2626263 | ⋯ |   40324 | Proteobacteria   | d__Bacteria | p__Proteobacteria  | c__Gammaproteobacteria | o__Xanthomonadales  | f__Xanthomonadaceae  | g__Stenotrophomonas | s__Stenotrophomonas sp003086775  | 4300149 |\n",
       "| WP_101892983.1 | Animal | 0 | 178 | 0 | FALSE | Environmental |  40 | 99 | 0.4040404 | ⋯ | 1917421 | Proteobacteria   | d__Bacteria | p__Proteobacteria  | c__Gammaproteobacteria | o__Pseudomonadales  | f__Ketobacteraceae   | g__Ketobacter       | s__Ketobacter alkanivorans       | 4914503 |\n",
       "| WP_068614852.1 | Animal | 0 | 178 | 0 | FALSE | Environmental | 210 | 99 | 2.1212121 | ⋯ | 1548547 | Proteobacteria   | d__Bacteria | p__Proteobacteria  | c__Gammaproteobacteria | o__Woeseiales       | f__Woeseiaceae       | g__Woeseia          | s__Woeseia oceani                | 4059891 |\n",
       "| AFA47646.1     | Animal | 0 | 178 | 0 | FALSE | Environmental |  33 | 99 | 0.3333333 | ⋯ |  931626 | Firmicutes       | d__Bacteria | p__Firmicutes_A    | c__Clostridia          | o__Eubacteriales    | f__Eubacteriaceae    | g__Acetobacterium   | s__Acetobacterium woodii         | 4044777 |\n",
       "\n"
      ],
      "text/plain": [
       "   Accession      category.x totalCount_Animal NoSamples.x ProportionIn_Animal\n",
       "1  WP_025409266.1 Animal     0                 178         0                  \n",
       "2  WP_019646457.1 Animal     0                 178         0                  \n",
       "3  WP_062014281.1 Animal     0                 178         0                  \n",
       "4  KZL24862.1     Animal     0                 178         0                  \n",
       "5  GBF57702.1     Animal     0                 178         0                  \n",
       "6  WP_115593367.1 Animal     0                 178         0                  \n",
       "7  PYE32768.1     Animal     0                 178         0                  \n",
       "8  SER07934.1     Animal     0                 178         0                  \n",
       "9  ALA90499.1     Animal     0                 178         0                  \n",
       "10 WP_101892983.1 Animal     0                 178         0                  \n",
       "11 WP_068614852.1 Animal     0                 178         0                  \n",
       "12 AFA47646.1     Animal     0                 178         0                  \n",
       "   PresentIn_Animal category.y    totalCount_Environmental NoSamples.y\n",
       "1  FALSE            Environmental  26                      99         \n",
       "2  FALSE            Environmental  39                      99         \n",
       "3  FALSE            Environmental  24                      99         \n",
       "4  FALSE            Environmental  34                      99         \n",
       "5  FALSE            Environmental 119                      99         \n",
       "6  FALSE            Environmental  61                      99         \n",
       "7  FALSE            Environmental  74                      99         \n",
       "8  FALSE            Environmental 130                      99         \n",
       "9  FALSE            Environmental  26                      99         \n",
       "10 FALSE            Environmental  40                      99         \n",
       "11 FALSE            Environmental 210                      99         \n",
       "12 FALSE            Environmental  33                      99         \n",
       "   ProportionIn_Environmental ⋯ ncbi_taxid ncbi_phylum      Domain     \n",
       "1  0.2626263                  ⋯  861299    Gemmatimonadetes d__Bacteria\n",
       "2  0.3939394                  ⋯     189    Proteobacteria   d__Bacteria\n",
       "3  0.2424242                  ⋯ 1638163    Proteobacteria   d__Bacteria\n",
       "4  0.3434343                  ⋯  989422    Proteobacteria   d__Bacteria\n",
       "5  1.2020202                  ⋯ 1445552    Proteobacteria   d__Bacteria\n",
       "6  0.6161616                  ⋯ 1938339    Proteobacteria   d__Bacteria\n",
       "7  0.7474747                  ⋯  263723    Proteobacteria   d__Bacteria\n",
       "8  1.3131313                  ⋯  355243    Proteobacteria   d__Bacteria\n",
       "9  0.2626263                  ⋯   40324    Proteobacteria   d__Bacteria\n",
       "10 0.4040404                  ⋯ 1917421    Proteobacteria   d__Bacteria\n",
       "11 2.1212121                  ⋯ 1548547    Proteobacteria   d__Bacteria\n",
       "12 0.3333333                  ⋯  931626    Firmicutes       d__Bacteria\n",
       "   Phylum             Class                  Order              \n",
       "1  p__Gemmatimonadota c__Gemmatimonadetes    o__Gemmatimonadales\n",
       "2  p__Proteobacteria  c__Alphaproteobacteria o__Rhodospirillales\n",
       "3  p__Proteobacteria  c__Alphaproteobacteria o__Rhizobiales     \n",
       "4  p__Proteobacteria  c__Alphaproteobacteria o__Rhizobiales     \n",
       "5  p__Proteobacteria  c__Alphaproteobacteria o__Caulobacterales \n",
       "6  p__Proteobacteria  c__Gammaproteobacteria o__Enterobacterales\n",
       "7  p__Proteobacteria  c__Gammaproteobacteria o__Enterobacterales\n",
       "8  p__Proteobacteria  c__Gammaproteobacteria o__Pseudomonadales \n",
       "9  p__Proteobacteria  c__Gammaproteobacteria o__Xanthomonadales \n",
       "10 p__Proteobacteria  c__Gammaproteobacteria o__Pseudomonadales \n",
       "11 p__Proteobacteria  c__Gammaproteobacteria o__Woeseiales      \n",
       "12 p__Firmicutes_A    c__Clostridia          o__Eubacteriales   \n",
       "   Family               Genus               Species                         \n",
       "1  f__Gemmatimonadaceae g__Gemmatirosa      s__Gemmatirosa kalamazoonesis   \n",
       "2  f__Rhodospirillaceae g__Novispirillum    s__Novispirillum itersonii_A    \n",
       "3  f__Rhizobiaceae      g__Aureimonas       s__Aureimonas sp001463765       \n",
       "4  f__Stappiaceae       g__Pseudovibrio     s__Pseudovibrio sp001623075     \n",
       "5  f__Hyphomonadaceae   g__Phycosocius      s__Phycosocius bacilliformis    \n",
       "6  f__Alteromonadaceae  g__Alteromonas_D    s__Alteromonas_D aestuariivivens\n",
       "7  f__Alteromonadaceae  g__Idiomarina       s__Idiomarina fontislapidosi    \n",
       "8  f__Nitrincolaceae    g__Amphritea        s__Amphritea atlantica          \n",
       "9  f__Xanthomonadaceae  g__Stenotrophomonas s__Stenotrophomonas sp003086775 \n",
       "10 f__Ketobacteraceae   g__Ketobacter       s__Ketobacter alkanivorans      \n",
       "11 f__Woeseiaceae       g__Woeseia          s__Woeseia oceani               \n",
       "12 f__Eubacteriaceae    g__Acetobacterium   s__Acetobacterium woodii        \n",
       "   genome_size\n",
       "1  7479215    \n",
       "2  4464517    \n",
       "3  4496098    \n",
       "4  5875058    \n",
       "5  3332539    \n",
       "6  3848892    \n",
       "7  2862757    \n",
       "8  4735181    \n",
       "9  4300149    \n",
       "10 4914503    \n",
       "11 4059891    \n",
       "12 4044777    "
      ]
     },
     "metadata": {},
     "output_type": "display_data"
    }
   ],
   "source": [
    "taxUnique$Env"
   ]
  },
  {
   "cell_type": "markdown",
   "id": "3de147c3-dc1e-4455-99c4-aa6cddfc35e2",
   "metadata": {},
   "source": [
    "### Filter and export sequences from unique flagellins"
   ]
  },
  {
   "cell_type": "code",
   "execution_count": 27,
   "id": "4e310ca0-6cc8-41a4-9e83-3e00a19bc9c6",
   "metadata": {},
   "outputs": [],
   "source": [
    "library(seqinr)"
   ]
  },
  {
   "cell_type": "code",
   "execution_count": 28,
   "id": "757f21cc-a611-4e36-8970-2cfdf41887b2",
   "metadata": {},
   "outputs": [],
   "source": [
    "#Flagellin multifasta\n",
    "flagellins.markers.sb=seqinr::read.fasta(\"/ebio/abt3_projects/small_projects/aborbon/Thesis_FlagellinDiversity/1_shortbred/out.finalmap.faa\",seqtype=\"AA\")"
   ]
  },
  {
   "cell_type": "code",
   "execution_count": 29,
   "id": "fd9b3d10-ce0a-454a-90c1-9ebbbcae213b",
   "metadata": {},
   "outputs": [],
   "source": [
    "categoriesToExport = c(\"Animal\",\"Plants\",\"Env\")"
   ]
  },
  {
   "cell_type": "code",
   "execution_count": 387,
   "id": "ec67c19d-30ad-4132-8b4d-bf9057b1f42c",
   "metadata": {},
   "outputs": [],
   "source": [
    "for (category in categoriesToExport) {\n",
    "  output_file <- paste(\"edgeR/subsampled_opt1/uniqueFlagellinsBiome/uniqueFla_\", category, \".faa\", sep = \"\")\n",
    "  export_sequences_to_fasta(sequence_fasta = flagellins.markers.sb,\n",
    "                            seqList = taxUnique,\n",
    "                            category = category,\n",
    "                            output_file = output_file)\n",
    "}"
   ]
  },
  {
   "cell_type": "code",
   "execution_count": 423,
   "id": "4a0acdfc-6c18-47d1-b871-eeec101563ae",
   "metadata": {},
   "outputs": [],
   "source": [
    "write_lines(taxUnique$Env$Accession,\"edgeR/subsampled_opt1/uniqueFlagellinsBiome/uniqueFla_Accession_Env.tsv\")"
   ]
  },
  {
   "cell_type": "code",
   "execution_count": 30,
   "id": "852b828e-78c5-4161-ac65-8551582d5da9",
   "metadata": {},
   "outputs": [
    {
     "data": {
      "text/html": [
       "<table class=\"dataframe\">\n",
       "<caption>A data.frame: 6 × 29</caption>\n",
       "<thead>\n",
       "\t<tr><th></th><th scope=col>Accession</th><th scope=col>category.x</th><th scope=col>totalCount_Animal</th><th scope=col>NoSamples.x</th><th scope=col>ProportionIn_Animal</th><th scope=col>PresentIn_Animal</th><th scope=col>category.y</th><th scope=col>totalCount_Environmental</th><th scope=col>NoSamples.y</th><th scope=col>ProportionIn_Environmental</th><th scope=col>⋯</th><th scope=col>ncbi_taxid</th><th scope=col>ncbi_phylum</th><th scope=col>Domain</th><th scope=col>Phylum</th><th scope=col>Class</th><th scope=col>Order</th><th scope=col>Family</th><th scope=col>Genus</th><th scope=col>Species</th><th scope=col>genome_size</th></tr>\n",
       "\t<tr><th></th><th scope=col>&lt;chr&gt;</th><th scope=col>&lt;chr&gt;</th><th scope=col>&lt;dbl&gt;</th><th scope=col>&lt;int&gt;</th><th scope=col>&lt;dbl&gt;</th><th scope=col>&lt;lgl&gt;</th><th scope=col>&lt;chr&gt;</th><th scope=col>&lt;dbl&gt;</th><th scope=col>&lt;int&gt;</th><th scope=col>&lt;dbl&gt;</th><th scope=col>⋯</th><th scope=col>&lt;dbl&gt;</th><th scope=col>&lt;chr&gt;</th><th scope=col>&lt;chr&gt;</th><th scope=col>&lt;chr&gt;</th><th scope=col>&lt;chr&gt;</th><th scope=col>&lt;chr&gt;</th><th scope=col>&lt;chr&gt;</th><th scope=col>&lt;chr&gt;</th><th scope=col>&lt;chr&gt;</th><th scope=col>&lt;dbl&gt;</th></tr>\n",
       "</thead>\n",
       "<tbody>\n",
       "\t<tr><th scope=row>1</th><td>WP_022758790.1</td><td>Animal</td><td>111</td><td>178</td><td>0.6235955</td><td>TRUE</td><td>Environmental</td><td>0</td><td>99</td><td>0</td><td>⋯</td><td>    831</td><td>Firmicutes    </td><td>d__Bacteria</td><td>p__Firmicutes_A  </td><td>c__Clostridia         </td><td>o__Lachnospirales  </td><td>f__Lachnospiraceae   </td><td>g__Pseudobutyrivibrio   </td><td>s__Pseudobutyrivibrio fibrisolvens_A</td><td>3164379</td></tr>\n",
       "\t<tr><th scope=row>2</th><td>ONG15595.1    </td><td>Animal</td><td>479</td><td>178</td><td>2.6910112</td><td>TRUE</td><td>Environmental</td><td>0</td><td>99</td><td>0</td><td>⋯</td><td>    562</td><td>Proteobacteria</td><td>d__Bacteria</td><td>p__Proteobacteria</td><td>c__Gammaproteobacteria</td><td>o__Enterobacterales</td><td>f__Enterobacteriaceae</td><td>g__Escherichia          </td><td>s__Escherichia coli_D               </td><td>5232730</td></tr>\n",
       "\t<tr><th scope=row>3</th><td>EGC94816.1    </td><td>Animal</td><td>941</td><td>178</td><td>5.2865169</td><td>TRUE</td><td>Environmental</td><td>0</td><td>99</td><td>0</td><td>⋯</td><td> 981367</td><td>Proteobacteria</td><td>d__Bacteria</td><td>p__Proteobacteria</td><td>c__Gammaproteobacteria</td><td>o__Enterobacterales</td><td>f__Enterobacteriaceae</td><td>g__Escherichia          </td><td>s__Escherichia fergusonii           </td><td>4866106</td></tr>\n",
       "\t<tr><th scope=row>4</th><td>CBL40883.1    </td><td>Animal</td><td>155</td><td>178</td><td>0.8707865</td><td>TRUE</td><td>Environmental</td><td>0</td><td>99</td><td>0</td><td>⋯</td><td> 245014</td><td>Firmicutes    </td><td>d__Bacteria</td><td>p__Firmicutes_A  </td><td>c__Clostridia         </td><td>o__Lachnospirales  </td><td>f__Lachnospiraceae   </td><td>g__CAG-81               </td><td>s__CAG-81 sp900066535               </td><td>3601020</td></tr>\n",
       "\t<tr><th scope=row>5</th><td>OUP02704.1    </td><td>Animal</td><td>328</td><td>178</td><td>1.8426966</td><td>TRUE</td><td>Environmental</td><td>0</td><td>99</td><td>0</td><td>⋯</td><td>1965587</td><td>Firmicutes    </td><td>d__Bacteria</td><td>p__Firmicutes_A  </td><td>c__Clostridia         </td><td>o__Oscillospirales </td><td>f__Acutalibacteraceae</td><td>g__Hydrogeniiclostridium</td><td>s__Hydrogeniiclostridium sp002160025</td><td>3721138</td></tr>\n",
       "\t<tr><th scope=row>6</th><td>OLR54261.1    </td><td>Animal</td><td> 58</td><td>178</td><td>0.3258427</td><td>TRUE</td><td>Environmental</td><td>0</td><td>99</td><td>0</td><td>⋯</td><td>1261634</td><td>Firmicutes    </td><td>d__Bacteria</td><td>p__Firmicutes_A  </td><td>c__Clostridia         </td><td>o__Lachnospirales  </td><td>f__Lachnospiraceae   </td><td>g__14-2                 </td><td>s__14-2 sp001940225                 </td><td>3360661</td></tr>\n",
       "</tbody>\n",
       "</table>\n"
      ],
      "text/latex": [
       "A data.frame: 6 × 29\n",
       "\\begin{tabular}{r|lllllllllllllllllllll}\n",
       "  & Accession & category.x & totalCount\\_Animal & NoSamples.x & ProportionIn\\_Animal & PresentIn\\_Animal & category.y & totalCount\\_Environmental & NoSamples.y & ProportionIn\\_Environmental & ⋯ & ncbi\\_taxid & ncbi\\_phylum & Domain & Phylum & Class & Order & Family & Genus & Species & genome\\_size\\\\\n",
       "  & <chr> & <chr> & <dbl> & <int> & <dbl> & <lgl> & <chr> & <dbl> & <int> & <dbl> & ⋯ & <dbl> & <chr> & <chr> & <chr> & <chr> & <chr> & <chr> & <chr> & <chr> & <dbl>\\\\\n",
       "\\hline\n",
       "\t1 & WP\\_022758790.1 & Animal & 111 & 178 & 0.6235955 & TRUE & Environmental & 0 & 99 & 0 & ⋯ &     831 & Firmicutes     & d\\_\\_Bacteria & p\\_\\_Firmicutes\\_A   & c\\_\\_Clostridia          & o\\_\\_Lachnospirales   & f\\_\\_Lachnospiraceae    & g\\_\\_Pseudobutyrivibrio    & s\\_\\_Pseudobutyrivibrio fibrisolvens\\_A & 3164379\\\\\n",
       "\t2 & ONG15595.1     & Animal & 479 & 178 & 2.6910112 & TRUE & Environmental & 0 & 99 & 0 & ⋯ &     562 & Proteobacteria & d\\_\\_Bacteria & p\\_\\_Proteobacteria & c\\_\\_Gammaproteobacteria & o\\_\\_Enterobacterales & f\\_\\_Enterobacteriaceae & g\\_\\_Escherichia           & s\\_\\_Escherichia coli\\_D                & 5232730\\\\\n",
       "\t3 & EGC94816.1     & Animal & 941 & 178 & 5.2865169 & TRUE & Environmental & 0 & 99 & 0 & ⋯ &  981367 & Proteobacteria & d\\_\\_Bacteria & p\\_\\_Proteobacteria & c\\_\\_Gammaproteobacteria & o\\_\\_Enterobacterales & f\\_\\_Enterobacteriaceae & g\\_\\_Escherichia           & s\\_\\_Escherichia fergusonii            & 4866106\\\\\n",
       "\t4 & CBL40883.1     & Animal & 155 & 178 & 0.8707865 & TRUE & Environmental & 0 & 99 & 0 & ⋯ &  245014 & Firmicutes     & d\\_\\_Bacteria & p\\_\\_Firmicutes\\_A   & c\\_\\_Clostridia          & o\\_\\_Lachnospirales   & f\\_\\_Lachnospiraceae    & g\\_\\_CAG-81                & s\\_\\_CAG-81 sp900066535                & 3601020\\\\\n",
       "\t5 & OUP02704.1     & Animal & 328 & 178 & 1.8426966 & TRUE & Environmental & 0 & 99 & 0 & ⋯ & 1965587 & Firmicutes     & d\\_\\_Bacteria & p\\_\\_Firmicutes\\_A   & c\\_\\_Clostridia          & o\\_\\_Oscillospirales  & f\\_\\_Acutalibacteraceae & g\\_\\_Hydrogeniiclostridium & s\\_\\_Hydrogeniiclostridium sp002160025 & 3721138\\\\\n",
       "\t6 & OLR54261.1     & Animal &  58 & 178 & 0.3258427 & TRUE & Environmental & 0 & 99 & 0 & ⋯ & 1261634 & Firmicutes     & d\\_\\_Bacteria & p\\_\\_Firmicutes\\_A   & c\\_\\_Clostridia          & o\\_\\_Lachnospirales   & f\\_\\_Lachnospiraceae    & g\\_\\_14-2                  & s\\_\\_14-2 sp001940225                  & 3360661\\\\\n",
       "\\end{tabular}\n"
      ],
      "text/markdown": [
       "\n",
       "A data.frame: 6 × 29\n",
       "\n",
       "| <!--/--> | Accession &lt;chr&gt; | category.x &lt;chr&gt; | totalCount_Animal &lt;dbl&gt; | NoSamples.x &lt;int&gt; | ProportionIn_Animal &lt;dbl&gt; | PresentIn_Animal &lt;lgl&gt; | category.y &lt;chr&gt; | totalCount_Environmental &lt;dbl&gt; | NoSamples.y &lt;int&gt; | ProportionIn_Environmental &lt;dbl&gt; | ⋯ ⋯ | ncbi_taxid &lt;dbl&gt; | ncbi_phylum &lt;chr&gt; | Domain &lt;chr&gt; | Phylum &lt;chr&gt; | Class &lt;chr&gt; | Order &lt;chr&gt; | Family &lt;chr&gt; | Genus &lt;chr&gt; | Species &lt;chr&gt; | genome_size &lt;dbl&gt; |\n",
       "|---|---|---|---|---|---|---|---|---|---|---|---|---|---|---|---|---|---|---|---|---|---|\n",
       "| 1 | WP_022758790.1 | Animal | 111 | 178 | 0.6235955 | TRUE | Environmental | 0 | 99 | 0 | ⋯ |     831 | Firmicutes     | d__Bacteria | p__Firmicutes_A   | c__Clostridia          | o__Lachnospirales   | f__Lachnospiraceae    | g__Pseudobutyrivibrio    | s__Pseudobutyrivibrio fibrisolvens_A | 3164379 |\n",
       "| 2 | ONG15595.1     | Animal | 479 | 178 | 2.6910112 | TRUE | Environmental | 0 | 99 | 0 | ⋯ |     562 | Proteobacteria | d__Bacteria | p__Proteobacteria | c__Gammaproteobacteria | o__Enterobacterales | f__Enterobacteriaceae | g__Escherichia           | s__Escherichia coli_D                | 5232730 |\n",
       "| 3 | EGC94816.1     | Animal | 941 | 178 | 5.2865169 | TRUE | Environmental | 0 | 99 | 0 | ⋯ |  981367 | Proteobacteria | d__Bacteria | p__Proteobacteria | c__Gammaproteobacteria | o__Enterobacterales | f__Enterobacteriaceae | g__Escherichia           | s__Escherichia fergusonii            | 4866106 |\n",
       "| 4 | CBL40883.1     | Animal | 155 | 178 | 0.8707865 | TRUE | Environmental | 0 | 99 | 0 | ⋯ |  245014 | Firmicutes     | d__Bacteria | p__Firmicutes_A   | c__Clostridia          | o__Lachnospirales   | f__Lachnospiraceae    | g__CAG-81                | s__CAG-81 sp900066535                | 3601020 |\n",
       "| 5 | OUP02704.1     | Animal | 328 | 178 | 1.8426966 | TRUE | Environmental | 0 | 99 | 0 | ⋯ | 1965587 | Firmicutes     | d__Bacteria | p__Firmicutes_A   | c__Clostridia          | o__Oscillospirales  | f__Acutalibacteraceae | g__Hydrogeniiclostridium | s__Hydrogeniiclostridium sp002160025 | 3721138 |\n",
       "| 6 | OLR54261.1     | Animal |  58 | 178 | 0.3258427 | TRUE | Environmental | 0 | 99 | 0 | ⋯ | 1261634 | Firmicutes     | d__Bacteria | p__Firmicutes_A   | c__Clostridia          | o__Lachnospirales   | f__Lachnospiraceae    | g__14-2                  | s__14-2 sp001940225                  | 3360661 |\n",
       "\n"
      ],
      "text/plain": [
       "  Accession      category.x totalCount_Animal NoSamples.x ProportionIn_Animal\n",
       "1 WP_022758790.1 Animal     111               178         0.6235955          \n",
       "2 ONG15595.1     Animal     479               178         2.6910112          \n",
       "3 EGC94816.1     Animal     941               178         5.2865169          \n",
       "4 CBL40883.1     Animal     155               178         0.8707865          \n",
       "5 OUP02704.1     Animal     328               178         1.8426966          \n",
       "6 OLR54261.1     Animal      58               178         0.3258427          \n",
       "  PresentIn_Animal category.y    totalCount_Environmental NoSamples.y\n",
       "1 TRUE             Environmental 0                        99         \n",
       "2 TRUE             Environmental 0                        99         \n",
       "3 TRUE             Environmental 0                        99         \n",
       "4 TRUE             Environmental 0                        99         \n",
       "5 TRUE             Environmental 0                        99         \n",
       "6 TRUE             Environmental 0                        99         \n",
       "  ProportionIn_Environmental ⋯ ncbi_taxid ncbi_phylum    Domain     \n",
       "1 0                          ⋯     831    Firmicutes     d__Bacteria\n",
       "2 0                          ⋯     562    Proteobacteria d__Bacteria\n",
       "3 0                          ⋯  981367    Proteobacteria d__Bacteria\n",
       "4 0                          ⋯  245014    Firmicutes     d__Bacteria\n",
       "5 0                          ⋯ 1965587    Firmicutes     d__Bacteria\n",
       "6 0                          ⋯ 1261634    Firmicutes     d__Bacteria\n",
       "  Phylum            Class                  Order              \n",
       "1 p__Firmicutes_A   c__Clostridia          o__Lachnospirales  \n",
       "2 p__Proteobacteria c__Gammaproteobacteria o__Enterobacterales\n",
       "3 p__Proteobacteria c__Gammaproteobacteria o__Enterobacterales\n",
       "4 p__Firmicutes_A   c__Clostridia          o__Lachnospirales  \n",
       "5 p__Firmicutes_A   c__Clostridia          o__Oscillospirales \n",
       "6 p__Firmicutes_A   c__Clostridia          o__Lachnospirales  \n",
       "  Family                Genus                   \n",
       "1 f__Lachnospiraceae    g__Pseudobutyrivibrio   \n",
       "2 f__Enterobacteriaceae g__Escherichia          \n",
       "3 f__Enterobacteriaceae g__Escherichia          \n",
       "4 f__Lachnospiraceae    g__CAG-81               \n",
       "5 f__Acutalibacteraceae g__Hydrogeniiclostridium\n",
       "6 f__Lachnospiraceae    g__14-2                 \n",
       "  Species                              genome_size\n",
       "1 s__Pseudobutyrivibrio fibrisolvens_A 3164379    \n",
       "2 s__Escherichia coli_D                5232730    \n",
       "3 s__Escherichia fergusonii            4866106    \n",
       "4 s__CAG-81 sp900066535                3601020    \n",
       "5 s__Hydrogeniiclostridium sp002160025 3721138    \n",
       "6 s__14-2 sp001940225                  3360661    "
      ]
     },
     "metadata": {},
     "output_type": "display_data"
    }
   ],
   "source": [
    "head(taxUniqueAll)"
   ]
  },
  {
   "cell_type": "code",
   "execution_count": 31,
   "id": "98d19bda-8a38-436e-afc6-87ea0fd54c42",
   "metadata": {},
   "outputs": [],
   "source": [
    "allUnique = flagellins.markers.sb[c(which(names(flagellins.markers.sb)%in%taxUniqueAll$Accession))]\n",
    "write.fasta(sequences=allUnique,names=names(allUnique),nbchar=80,file.out=\"edgeR/subsampled_opt1/uniqueFlagellinsBiome/allunique.faa\")"
   ]
  },
  {
   "cell_type": "code",
   "execution_count": 32,
   "id": "0625e4ad-28d1-4515-8b6c-e05e0bb3f682",
   "metadata": {},
   "outputs": [
    {
     "data": {
      "text/html": [
       "<style>\n",
       ".list-inline {list-style: none; margin:0; padding: 0}\n",
       ".list-inline>li {display: inline-block}\n",
       ".list-inline>li:not(:last-child)::after {content: \"\\00b7\"; padding: 0 .5ex}\n",
       "</style>\n",
       "<ol class=list-inline><li>'Accession'</li><li>'category.x'</li><li>'totalCount_Animal'</li><li>'NoSamples.x'</li><li>'ProportionIn_Animal'</li><li>'PresentIn_Animal'</li><li>'category.y'</li><li>'totalCount_Environmental'</li><li>'NoSamples.y'</li><li>'ProportionIn_Environmental'</li><li>'PresentIn_Environmental'</li><li>'category'</li><li>'totalCount_Plants'</li><li>'NoSamples'</li><li>'ProportionIn_Plants'</li><li>'PresentIn_Plants'</li><li>'UniqueIn'</li><li>'length'</li><li>'HVR_length'</li><li>'ncbi_taxid'</li><li>'ncbi_phylum'</li><li>'Domain'</li><li>'Phylum'</li><li>'Class'</li><li>'Order'</li><li>'Family'</li><li>'Genus'</li><li>'Species'</li><li>'genome_size'</li></ol>\n"
      ],
      "text/latex": [
       "\\begin{enumerate*}\n",
       "\\item 'Accession'\n",
       "\\item 'category.x'\n",
       "\\item 'totalCount\\_Animal'\n",
       "\\item 'NoSamples.x'\n",
       "\\item 'ProportionIn\\_Animal'\n",
       "\\item 'PresentIn\\_Animal'\n",
       "\\item 'category.y'\n",
       "\\item 'totalCount\\_Environmental'\n",
       "\\item 'NoSamples.y'\n",
       "\\item 'ProportionIn\\_Environmental'\n",
       "\\item 'PresentIn\\_Environmental'\n",
       "\\item 'category'\n",
       "\\item 'totalCount\\_Plants'\n",
       "\\item 'NoSamples'\n",
       "\\item 'ProportionIn\\_Plants'\n",
       "\\item 'PresentIn\\_Plants'\n",
       "\\item 'UniqueIn'\n",
       "\\item 'length'\n",
       "\\item 'HVR\\_length'\n",
       "\\item 'ncbi\\_taxid'\n",
       "\\item 'ncbi\\_phylum'\n",
       "\\item 'Domain'\n",
       "\\item 'Phylum'\n",
       "\\item 'Class'\n",
       "\\item 'Order'\n",
       "\\item 'Family'\n",
       "\\item 'Genus'\n",
       "\\item 'Species'\n",
       "\\item 'genome\\_size'\n",
       "\\end{enumerate*}\n"
      ],
      "text/markdown": [
       "1. 'Accession'\n",
       "2. 'category.x'\n",
       "3. 'totalCount_Animal'\n",
       "4. 'NoSamples.x'\n",
       "5. 'ProportionIn_Animal'\n",
       "6. 'PresentIn_Animal'\n",
       "7. 'category.y'\n",
       "8. 'totalCount_Environmental'\n",
       "9. 'NoSamples.y'\n",
       "10. 'ProportionIn_Environmental'\n",
       "11. 'PresentIn_Environmental'\n",
       "12. 'category'\n",
       "13. 'totalCount_Plants'\n",
       "14. 'NoSamples'\n",
       "15. 'ProportionIn_Plants'\n",
       "16. 'PresentIn_Plants'\n",
       "17. 'UniqueIn'\n",
       "18. 'length'\n",
       "19. 'HVR_length'\n",
       "20. 'ncbi_taxid'\n",
       "21. 'ncbi_phylum'\n",
       "22. 'Domain'\n",
       "23. 'Phylum'\n",
       "24. 'Class'\n",
       "25. 'Order'\n",
       "26. 'Family'\n",
       "27. 'Genus'\n",
       "28. 'Species'\n",
       "29. 'genome_size'\n",
       "\n",
       "\n"
      ],
      "text/plain": [
       " [1] \"Accession\"                  \"category.x\"                \n",
       " [3] \"totalCount_Animal\"          \"NoSamples.x\"               \n",
       " [5] \"ProportionIn_Animal\"        \"PresentIn_Animal\"          \n",
       " [7] \"category.y\"                 \"totalCount_Environmental\"  \n",
       " [9] \"NoSamples.y\"                \"ProportionIn_Environmental\"\n",
       "[11] \"PresentIn_Environmental\"    \"category\"                  \n",
       "[13] \"totalCount_Plants\"          \"NoSamples\"                 \n",
       "[15] \"ProportionIn_Plants\"        \"PresentIn_Plants\"          \n",
       "[17] \"UniqueIn\"                   \"length\"                    \n",
       "[19] \"HVR_length\"                 \"ncbi_taxid\"                \n",
       "[21] \"ncbi_phylum\"                \"Domain\"                    \n",
       "[23] \"Phylum\"                     \"Class\"                     \n",
       "[25] \"Order\"                      \"Family\"                    \n",
       "[27] \"Genus\"                      \"Species\"                   \n",
       "[29] \"genome_size\"               "
      ]
     },
     "metadata": {},
     "output_type": "display_data"
    }
   ],
   "source": [
    "names(taxUniqueAll)"
   ]
  },
  {
   "cell_type": "code",
   "execution_count": 138,
   "id": "f1349b7e-ee8f-42f5-b04f-08238f8eb927",
   "metadata": {},
   "outputs": [
    {
     "data": {
      "text/html": [
       "<table class=\"dataframe\">\n",
       "<caption>A data.frame: 3 × 2</caption>\n",
       "<thead>\n",
       "\t<tr><th scope=col>UniqueIn</th><th scope=col>n</th></tr>\n",
       "\t<tr><th scope=col>&lt;chr&gt;</th><th scope=col>&lt;int&gt;</th></tr>\n",
       "</thead>\n",
       "<tbody>\n",
       "\t<tr><td>Animal</td><td>18</td></tr>\n",
       "\t<tr><td>Env   </td><td>12</td></tr>\n",
       "\t<tr><td>Plants</td><td>11</td></tr>\n",
       "</tbody>\n",
       "</table>\n"
      ],
      "text/latex": [
       "A data.frame: 3 × 2\n",
       "\\begin{tabular}{ll}\n",
       " UniqueIn & n\\\\\n",
       " <chr> & <int>\\\\\n",
       "\\hline\n",
       "\t Animal & 18\\\\\n",
       "\t Env    & 12\\\\\n",
       "\t Plants & 11\\\\\n",
       "\\end{tabular}\n"
      ],
      "text/markdown": [
       "\n",
       "A data.frame: 3 × 2\n",
       "\n",
       "| UniqueIn &lt;chr&gt; | n &lt;int&gt; |\n",
       "|---|---|\n",
       "| Animal | 18 |\n",
       "| Env    | 12 |\n",
       "| Plants | 11 |\n",
       "\n"
      ],
      "text/plain": [
       "  UniqueIn n \n",
       "1 Animal   18\n",
       "2 Env      12\n",
       "3 Plants   11"
      ]
     },
     "metadata": {},
     "output_type": "display_data"
    }
   ],
   "source": [
    "count(taxUniqueAll,UniqueIn)"
   ]
  },
  {
   "cell_type": "code",
   "execution_count": 139,
   "id": "3536b161-2372-4138-870d-190866547d81",
   "metadata": {},
   "outputs": [
    {
     "data": {
      "text/html": [
       "<style>\n",
       ".list-inline {list-style: none; margin:0; padding: 0}\n",
       ".list-inline>li {display: inline-block}\n",
       ".list-inline>li:not(:last-child)::after {content: \"\\00b7\"; padding: 0 .5ex}\n",
       "</style>\n",
       "<ol class=list-inline><li>'Accession'</li><li>'category.x'</li><li>'totalCount_Animal'</li><li>'NoSamples.x'</li><li>'ProportionIn_Animal'</li><li>'PresentIn_Animal'</li><li>'category.y'</li><li>'totalCount_Environmental'</li><li>'NoSamples.y'</li><li>'ProportionIn_Environmental'</li><li>'PresentIn_Environmental'</li><li>'category'</li><li>'totalCount_Plants'</li><li>'NoSamples'</li><li>'ProportionIn_Plants'</li><li>'PresentIn_Plants'</li><li>'UniqueIn'</li><li>'length'</li><li>'HVR_length'</li><li>'ncbi_taxid'</li><li>'ncbi_phylum'</li><li>'Domain'</li><li>'Phylum'</li><li>'Class'</li><li>'Order'</li><li>'Family'</li><li>'Genus'</li><li>'Species'</li><li>'genome_size'</li></ol>\n"
      ],
      "text/latex": [
       "\\begin{enumerate*}\n",
       "\\item 'Accession'\n",
       "\\item 'category.x'\n",
       "\\item 'totalCount\\_Animal'\n",
       "\\item 'NoSamples.x'\n",
       "\\item 'ProportionIn\\_Animal'\n",
       "\\item 'PresentIn\\_Animal'\n",
       "\\item 'category.y'\n",
       "\\item 'totalCount\\_Environmental'\n",
       "\\item 'NoSamples.y'\n",
       "\\item 'ProportionIn\\_Environmental'\n",
       "\\item 'PresentIn\\_Environmental'\n",
       "\\item 'category'\n",
       "\\item 'totalCount\\_Plants'\n",
       "\\item 'NoSamples'\n",
       "\\item 'ProportionIn\\_Plants'\n",
       "\\item 'PresentIn\\_Plants'\n",
       "\\item 'UniqueIn'\n",
       "\\item 'length'\n",
       "\\item 'HVR\\_length'\n",
       "\\item 'ncbi\\_taxid'\n",
       "\\item 'ncbi\\_phylum'\n",
       "\\item 'Domain'\n",
       "\\item 'Phylum'\n",
       "\\item 'Class'\n",
       "\\item 'Order'\n",
       "\\item 'Family'\n",
       "\\item 'Genus'\n",
       "\\item 'Species'\n",
       "\\item 'genome\\_size'\n",
       "\\end{enumerate*}\n"
      ],
      "text/markdown": [
       "1. 'Accession'\n",
       "2. 'category.x'\n",
       "3. 'totalCount_Animal'\n",
       "4. 'NoSamples.x'\n",
       "5. 'ProportionIn_Animal'\n",
       "6. 'PresentIn_Animal'\n",
       "7. 'category.y'\n",
       "8. 'totalCount_Environmental'\n",
       "9. 'NoSamples.y'\n",
       "10. 'ProportionIn_Environmental'\n",
       "11. 'PresentIn_Environmental'\n",
       "12. 'category'\n",
       "13. 'totalCount_Plants'\n",
       "14. 'NoSamples'\n",
       "15. 'ProportionIn_Plants'\n",
       "16. 'PresentIn_Plants'\n",
       "17. 'UniqueIn'\n",
       "18. 'length'\n",
       "19. 'HVR_length'\n",
       "20. 'ncbi_taxid'\n",
       "21. 'ncbi_phylum'\n",
       "22. 'Domain'\n",
       "23. 'Phylum'\n",
       "24. 'Class'\n",
       "25. 'Order'\n",
       "26. 'Family'\n",
       "27. 'Genus'\n",
       "28. 'Species'\n",
       "29. 'genome_size'\n",
       "\n",
       "\n"
      ],
      "text/plain": [
       " [1] \"Accession\"                  \"category.x\"                \n",
       " [3] \"totalCount_Animal\"          \"NoSamples.x\"               \n",
       " [5] \"ProportionIn_Animal\"        \"PresentIn_Animal\"          \n",
       " [7] \"category.y\"                 \"totalCount_Environmental\"  \n",
       " [9] \"NoSamples.y\"                \"ProportionIn_Environmental\"\n",
       "[11] \"PresentIn_Environmental\"    \"category\"                  \n",
       "[13] \"totalCount_Plants\"          \"NoSamples\"                 \n",
       "[15] \"ProportionIn_Plants\"        \"PresentIn_Plants\"          \n",
       "[17] \"UniqueIn\"                   \"length\"                    \n",
       "[19] \"HVR_length\"                 \"ncbi_taxid\"                \n",
       "[21] \"ncbi_phylum\"                \"Domain\"                    \n",
       "[23] \"Phylum\"                     \"Class\"                     \n",
       "[25] \"Order\"                      \"Family\"                    \n",
       "[27] \"Genus\"                      \"Species\"                   \n",
       "[29] \"genome_size\"               "
      ]
     },
     "metadata": {},
     "output_type": "display_data"
    }
   ],
   "source": [
    "names(taxUniqueAll)"
   ]
  },
  {
   "cell_type": "code",
   "execution_count": 141,
   "id": "d790251e-2b8c-46ab-b730-f7fb427b68cb",
   "metadata": {},
   "outputs": [],
   "source": [
    "colors.fam.unique = count(taxUniqueAll,Family) %>%\n",
    "                    cbind(categorical_colors)"
   ]
  },
  {
   "cell_type": "code",
   "execution_count": 143,
   "id": "27c504cf-78fa-42a1-bd02-f6d384df9e9f",
   "metadata": {},
   "outputs": [],
   "source": [
    "taxUniqueAll.cols = taxUniqueAll %>%\n",
    "                    inner_join(colors.fam.unique,by=\"Family\") %>%\n",
    "                    select(Accession,categorical_colors,Family)%>%\n",
    "                    mutate(Family=str_remove_all(Family,\"f__\"))"
   ]
  },
  {
   "cell_type": "code",
   "execution_count": 147,
   "id": "7ee02470-b070-4df7-9df9-df866c6bd1d9",
   "metadata": {},
   "outputs": [],
   "source": [
    "write_tsv(taxUniqueAll.cols,\"../FlagellinDiversity/output_files/itol.colors.family.unique.tsv\")"
   ]
  },
  {
   "cell_type": "code",
   "execution_count": 131,
   "id": "0b33c919-fc4f-4eb0-a9f7-27321725d208",
   "metadata": {},
   "outputs": [],
   "source": [
    "categorical_colors <- c(\n",
    "  \"#4E79A7\", # Soft Blue\n",
    "  \"#F28E2B\", # Muted Orange\n",
    "  \"#E15759\", # Soft Red\n",
    "  \"#76B7B2\", # Muted Teal\n",
    "  \"#59A14F\", # Soft Green\n",
    "  \"#EDC948\", # Muted Yellow\n",
    "  \"#B07AA1\", # Soft Purple\n",
    "  \"#FF9DA7\", # Soft Pink\n",
    "  \"#9C755F\", # Muted Brown\n",
    "  \"#BAB0AC\", # Soft Grey\n",
    "  \"#D37295\", # Muted Pink\n",
    "  \"#A0CBE8\", # Light Blue\n",
    "  \"#FFD92F\", # Soft Yellow\n",
    "  \"#B6992D\", # Olive Green\n",
    "  \"#499894\", # Muted Green-Blue\n",
    "  \"#86BCB6\"  # Soft Turquoise\n",
    ")"
   ]
  },
  {
   "cell_type": "code",
   "execution_count": 136,
   "id": "245e9b5d-4c66-4c31-8763-e5a2eced832c",
   "metadata": {},
   "outputs": [
    {
     "ename": "ERROR",
     "evalue": "Error: 'print_palette' is not an exported object from 'namespace:scales'\n",
     "output_type": "error",
     "traceback": [
      "Error: 'print_palette' is not an exported object from 'namespace:scales'\nTraceback:\n"
     ]
    }
   ],
   "source": [
    "scales::print_palette(categorical_colors)"
   ]
  },
  {
   "cell_type": "code",
   "execution_count": 405,
   "id": "87eb9129-ad51-44e1-b0fd-db3b470489ce",
   "metadata": {},
   "outputs": [],
   "source": [
    "write_tsv(taxUniqueAll,\"edgeR/subsampled_opt1/uniqueFlagellinsBiome/allUnique_metadata.tsv\")"
   ]
  },
  {
   "cell_type": "code",
   "execution_count": 85,
   "id": "7b970402-d437-4727-acd6-b02b018a8f87",
   "metadata": {},
   "outputs": [
    {
     "name": "stderr",
     "output_type": "stream",
     "text": [
      "\u001b[1mRows: \u001b[22m\u001b[34m11\u001b[39m \u001b[1mColumns: \u001b[22m\u001b[34m2\u001b[39m\n",
      "\u001b[36m──\u001b[39m \u001b[1mColumn specification\u001b[22m \u001b[36m─────────────────────────────────────────────────────────────────────────────────────\u001b[39m\n",
      "\u001b[1mDelimiter:\u001b[22m \"\\t\"\n",
      "\u001b[31mchr\u001b[39m (2): biome, color\n",
      "\n",
      "\u001b[36mℹ\u001b[39m Use `spec()` to retrieve the full column specification for this data.\n",
      "\u001b[36mℹ\u001b[39m Specify the column types or set `show_col_types = FALSE` to quiet this message.\n"
     ]
    }
   ],
   "source": [
    "colors.map = read_tsv(\"../FlagellinDiversity/Figures/colors.map.tsv\")"
   ]
  },
  {
   "cell_type": "code",
   "execution_count": 87,
   "id": "4f1039ea-6b03-40e4-b12b-1751cfa7a7c4",
   "metadata": {},
   "outputs": [
    {
     "data": {
      "text/html": [
       "<table class=\"dataframe\">\n",
       "<caption>A tibble: 4 × 2</caption>\n",
       "<thead>\n",
       "\t<tr><th scope=col>biome</th><th scope=col>color</th></tr>\n",
       "\t<tr><th scope=col>&lt;chr&gt;</th><th scope=col>&lt;chr&gt;</th></tr>\n",
       "</thead>\n",
       "<tbody>\n",
       "\t<tr><td>Environmental  </td><td>#E64B35FF</td></tr>\n",
       "\t<tr><td>Host-associated</td><td>#4DBBD5FF</td></tr>\n",
       "\t<tr><td>Plants         </td><td>#00A087FF</td></tr>\n",
       "\t<tr><td>Animal         </td><td>#3C5488FF</td></tr>\n",
       "</tbody>\n",
       "</table>\n"
      ],
      "text/latex": [
       "A tibble: 4 × 2\n",
       "\\begin{tabular}{ll}\n",
       " biome & color\\\\\n",
       " <chr> & <chr>\\\\\n",
       "\\hline\n",
       "\t Environmental   & \\#E64B35FF\\\\\n",
       "\t Host-associated & \\#4DBBD5FF\\\\\n",
       "\t Plants          & \\#00A087FF\\\\\n",
       "\t Animal          & \\#3C5488FF\\\\\n",
       "\\end{tabular}\n"
      ],
      "text/markdown": [
       "\n",
       "A tibble: 4 × 2\n",
       "\n",
       "| biome &lt;chr&gt; | color &lt;chr&gt; |\n",
       "|---|---|\n",
       "| Environmental   | #E64B35FF |\n",
       "| Host-associated | #4DBBD5FF |\n",
       "| Plants          | #00A087FF |\n",
       "| Animal          | #3C5488FF |\n",
       "\n"
      ],
      "text/plain": [
       "  biome           color    \n",
       "1 Environmental   #E64B35FF\n",
       "2 Host-associated #4DBBD5FF\n",
       "3 Plants          #00A087FF\n",
       "4 Animal          #3C5488FF"
      ]
     },
     "metadata": {},
     "output_type": "display_data"
    }
   ],
   "source": [
    "colors.map[1:4,]"
   ]
  },
  {
   "cell_type": "code",
   "execution_count": 157,
   "id": "a4ab0d4f-525f-4d9e-9e2f-5b0b692d5b07",
   "metadata": {},
   "outputs": [
    {
     "data": {
      "text/html": [
       "313.818181818182"
      ],
      "text/latex": [
       "313.818181818182"
      ],
      "text/markdown": [
       "313.818181818182"
      ],
      "text/plain": [
       "[1] 313.8182"
      ]
     },
     "metadata": {},
     "output_type": "display_data"
    },
    {
     "data": {
      "text/html": [
       "360"
      ],
      "text/latex": [
       "360"
      ],
      "text/markdown": [
       "360"
      ],
      "text/plain": [
       "[1] 360"
      ]
     },
     "metadata": {},
     "output_type": "display_data"
    },
    {
     "data": {
      "text/html": [
       "417.166666666667"
      ],
      "text/latex": [
       "417.166666666667"
      ],
      "text/markdown": [
       "417.166666666667"
      ],
      "text/plain": [
       "[1] 417.1667"
      ]
     },
     "metadata": {},
     "output_type": "display_data"
    }
   ],
   "source": [
    "mean(filter(taxUniqueAll,UniqueIn==\"Plants\")$length)\n",
    "mean(filter(taxUniqueAll,UniqueIn==\"Animal\")$length)\n",
    "mean(filter(taxUniqueAll,UniqueIn==\"Env\")$length)"
   ]
  },
  {
   "cell_type": "code",
   "execution_count": 156,
   "id": "d4688035-9e6e-4a7e-9670-4ef0d97c94df",
   "metadata": {},
   "outputs": [
    {
     "data": {
      "text/html": [
       "40.8774220855919"
      ],
      "text/latex": [
       "40.8774220855919"
      ],
      "text/markdown": [
       "40.8774220855919"
      ],
      "text/plain": [
       "[1] 40.87742"
      ]
     },
     "metadata": {},
     "output_type": "display_data"
    },
    {
     "data": {
      "text/html": [
       "108.132271941794"
      ],
      "text/latex": [
       "108.132271941794"
      ],
      "text/markdown": [
       "108.132271941794"
      ],
      "text/plain": [
       "[1] 108.1323"
      ]
     },
     "metadata": {},
     "output_type": "display_data"
    },
    {
     "data": {
      "text/html": [
       "117.297472136858"
      ],
      "text/latex": [
       "117.297472136858"
      ],
      "text/markdown": [
       "117.297472136858"
      ],
      "text/plain": [
       "[1] 117.2975"
      ]
     },
     "metadata": {},
     "output_type": "display_data"
    }
   ],
   "source": [
    "sd(filter(taxUniqueAll,UniqueIn==\"Plants\")$length)\n",
    "sd(filter(taxUniqueAll,UniqueIn==\"Animal\")$length)\n",
    "sd(filter(taxUniqueAll,UniqueIn==\"Env\")$length)"
   ]
  },
  {
   "cell_type": "code",
   "execution_count": 128,
   "id": "ddda460e-a006-4697-9ea1-44fd012c00cf",
   "metadata": {},
   "outputs": [],
   "source": [
    "figures_path = \"/ebio/abt3_projects2/Flagellin_Diversity/code/notebooks/FlagellinDiversity/Figures\""
   ]
  },
  {
   "cell_type": "code",
   "execution_count": 148,
   "id": "1e924295-9127-4c3c-b3e6-56813d3bcb4f",
   "metadata": {},
   "outputs": [
    {
     "name": "stderr",
     "output_type": "stream",
     "text": [
      "Warning message in wilcox.test.default(c(393, 225, 495, 276, 528, 270, 273, 284, :\n",
      "“cannot compute exact p-value with ties”\n",
      "Warning message in wilcox.test.default(c(393, 225, 495, 276, 528, 270, 273, 284, :\n",
      "“cannot compute exact p-value with ties”\n",
      "Warning message in wilcox.test.default(c(540, 317, 555, 361, 274, 282, 273, 502, :\n",
      "“cannot compute exact p-value with ties”\n"
     ]
    },
    {
     "data": {
      "text/html": [
       "<strong>png:</strong> 2"
      ],
      "text/latex": [
       "\\textbf{png:} 2"
      ],
      "text/markdown": [
       "**png:** 2"
      ],
      "text/plain": [
       "png \n",
       "  2 "
      ]
     },
     "metadata": {},
     "output_type": "display_data"
    }
   ],
   "source": [
    "\n",
    "pdf(file.path(figures_path,\"Figure13A.pdf\"), width = 6, height = 6)\n",
    "my_comparisons = list(c(\"Animal\",\"Env\"),c(\"Animal\",\"Plants\"),c(\"Env\",\"Plants\"))\n",
    "\n",
    "ggboxplot(data=taxUniqueAll, x = \"UniqueIn\", y = \"length\",\n",
    "           xlab = \"Unique in\", ylab = \"Sequence Length (AA)\",\n",
    "           fill=\"UniqueIn\",\n",
    "         alpha=0.8)+\n",
    "stat_compare_means(comparisons = my_comparisons, mathod = \"wilcox.test\",label.y = c(600,635,640))+\n",
    "stat_compare_means(label.y=700)+ \n",
    "    scale_fill_manual(values = c(\"Env\"=\"#E64B35FF\",\n",
    "                                 \"Animal\"=\"#3C5488FF\",\n",
    "                                 \"Plants\"=\"#00A087FF\"))+\n",
    "geom_jitter(width=0.1,alpha=0.6)+\n",
    "  theme_classic() +\n",
    "  theme(text = element_text(size = 14),\n",
    "        axis.text.x = element_text(angle = 0,size=14),\n",
    "        legend.position = \"none\",\n",
    "        plot.title = element_text(hjust = 0.5),\n",
    "        plot.tag = element_text(size=20,face=\"bold\"))+\n",
    "labs(tag = \"A\")\n",
    "dev.off()"
   ]
  },
  {
   "cell_type": "code",
   "execution_count": 36,
   "id": "92840dfa-ecb0-4fb7-ab44-5fce2cda82ee",
   "metadata": {},
   "outputs": [
    {
     "data": {
      "text/plain": [
       "\n",
       "\tKruskal-Wallis rank sum test\n",
       "\n",
       "data:  length by UniqueIn\n",
       "Kruskal-Wallis chi-squared = 4.1682, df = 2, p-value = 0.1244\n"
      ]
     },
     "metadata": {},
     "output_type": "display_data"
    }
   ],
   "source": [
    "kruskal.test(data=taxUniqueAll, length~UniqueIn)"
   ]
  },
  {
   "cell_type": "code",
   "execution_count": 446,
   "id": "e7f4c5e8-7484-48a2-a456-29948bbcd467",
   "metadata": {},
   "outputs": [
    {
     "data": {
      "text/html": [
       "<style>\n",
       ".list-inline {list-style: none; margin:0; padding: 0}\n",
       ".list-inline>li {display: inline-block}\n",
       ".list-inline>li:not(:last-child)::after {content: \"\\00b7\"; padding: 0 .5ex}\n",
       "</style>\n",
       "<ol class=list-inline><li>'Accession'</li><li>'category.x'</li><li>'totalCount_Animal'</li><li>'NoSamples.x'</li><li>'ProportionIn_Animal'</li><li>'PresentIn_Animal'</li><li>'category.y'</li><li>'totalCount_Environmental'</li><li>'NoSamples.y'</li><li>'ProportionIn_Environmental'</li><li>'PresentIn_Environmental'</li><li>'category'</li><li>'totalCount_Plants'</li><li>'NoSamples'</li><li>'ProportionIn_Plants'</li><li>'PresentIn_Plants'</li><li>'UniqueIn'</li><li>'length'</li><li>'HVR_length'</li><li>'ncbi_taxid'</li><li>'ncbi_phylum'</li><li>'Domain'</li><li>'Phylum'</li><li>'Class'</li><li>'Order'</li><li>'Family'</li><li>'Genus'</li><li>'Species'</li><li>'genome_size'</li></ol>\n"
      ],
      "text/latex": [
       "\\begin{enumerate*}\n",
       "\\item 'Accession'\n",
       "\\item 'category.x'\n",
       "\\item 'totalCount\\_Animal'\n",
       "\\item 'NoSamples.x'\n",
       "\\item 'ProportionIn\\_Animal'\n",
       "\\item 'PresentIn\\_Animal'\n",
       "\\item 'category.y'\n",
       "\\item 'totalCount\\_Environmental'\n",
       "\\item 'NoSamples.y'\n",
       "\\item 'ProportionIn\\_Environmental'\n",
       "\\item 'PresentIn\\_Environmental'\n",
       "\\item 'category'\n",
       "\\item 'totalCount\\_Plants'\n",
       "\\item 'NoSamples'\n",
       "\\item 'ProportionIn\\_Plants'\n",
       "\\item 'PresentIn\\_Plants'\n",
       "\\item 'UniqueIn'\n",
       "\\item 'length'\n",
       "\\item 'HVR\\_length'\n",
       "\\item 'ncbi\\_taxid'\n",
       "\\item 'ncbi\\_phylum'\n",
       "\\item 'Domain'\n",
       "\\item 'Phylum'\n",
       "\\item 'Class'\n",
       "\\item 'Order'\n",
       "\\item 'Family'\n",
       "\\item 'Genus'\n",
       "\\item 'Species'\n",
       "\\item 'genome\\_size'\n",
       "\\end{enumerate*}\n"
      ],
      "text/markdown": [
       "1. 'Accession'\n",
       "2. 'category.x'\n",
       "3. 'totalCount_Animal'\n",
       "4. 'NoSamples.x'\n",
       "5. 'ProportionIn_Animal'\n",
       "6. 'PresentIn_Animal'\n",
       "7. 'category.y'\n",
       "8. 'totalCount_Environmental'\n",
       "9. 'NoSamples.y'\n",
       "10. 'ProportionIn_Environmental'\n",
       "11. 'PresentIn_Environmental'\n",
       "12. 'category'\n",
       "13. 'totalCount_Plants'\n",
       "14. 'NoSamples'\n",
       "15. 'ProportionIn_Plants'\n",
       "16. 'PresentIn_Plants'\n",
       "17. 'UniqueIn'\n",
       "18. 'length'\n",
       "19. 'HVR_length'\n",
       "20. 'ncbi_taxid'\n",
       "21. 'ncbi_phylum'\n",
       "22. 'Domain'\n",
       "23. 'Phylum'\n",
       "24. 'Class'\n",
       "25. 'Order'\n",
       "26. 'Family'\n",
       "27. 'Genus'\n",
       "28. 'Species'\n",
       "29. 'genome_size'\n",
       "\n",
       "\n"
      ],
      "text/plain": [
       " [1] \"Accession\"                  \"category.x\"                \n",
       " [3] \"totalCount_Animal\"          \"NoSamples.x\"               \n",
       " [5] \"ProportionIn_Animal\"        \"PresentIn_Animal\"          \n",
       " [7] \"category.y\"                 \"totalCount_Environmental\"  \n",
       " [9] \"NoSamples.y\"                \"ProportionIn_Environmental\"\n",
       "[11] \"PresentIn_Environmental\"    \"category\"                  \n",
       "[13] \"totalCount_Plants\"          \"NoSamples\"                 \n",
       "[15] \"ProportionIn_Plants\"        \"PresentIn_Plants\"          \n",
       "[17] \"UniqueIn\"                   \"length\"                    \n",
       "[19] \"HVR_length\"                 \"ncbi_taxid\"                \n",
       "[21] \"ncbi_phylum\"                \"Domain\"                    \n",
       "[23] \"Phylum\"                     \"Class\"                     \n",
       "[25] \"Order\"                      \"Family\"                    \n",
       "[27] \"Genus\"                      \"Species\"                   \n",
       "[29] \"genome_size\"               "
      ]
     },
     "metadata": {},
     "output_type": "display_data"
    }
   ],
   "source": [
    "names(taxUniqueAll)"
   ]
  },
  {
   "cell_type": "code",
   "execution_count": 468,
   "id": "f96f2c93-8a52-40a9-9ee1-91599c7c4e62",
   "metadata": {},
   "outputs": [
    {
     "data": {
      "text/plain": [
       "\n",
       "\tPearson's product-moment correlation\n",
       "\n",
       "data:  genome_size and length\n",
       "t = 0.34641, df = 16, p-value = 0.7335\n",
       "alternative hypothesis: true correlation is not equal to 0\n",
       "95 percent confidence interval:\n",
       " -0.3965639  0.5317315\n",
       "sample estimates:\n",
       "       cor \n",
       "0.08628049 \n"
      ]
     },
     "metadata": {},
     "output_type": "display_data"
    }
   ],
   "source": [
    "cor.test(formula = ~ genome_size + length,\n",
    "         data = taxUniqueAll,\n",
    "        subset = UniqueIn == \"Animal\")\n"
   ]
  },
  {
   "cell_type": "code",
   "execution_count": 42,
   "id": "e30e6528-e8bc-41d4-a15e-5edab02d51a6",
   "metadata": {},
   "outputs": [
    {
     "data": {
      "image/png": "[encoded data removed]",
      "text/plain": [
       "plot without title"
      ]
     },
     "metadata": {
      "image/png": {
       "height": 300,
       "width": 600
      }
     },
     "output_type": "display_data"
    }
   ],
   "source": [
    "options(repr.plot.width=10,repr.plot.height=5)\n",
    "ggscatter(taxUniqueAll, x =\"genome_size\", y= \"length\",\n",
    "         add = \"reg.line\", conf.int = TRUE,\n",
    "         cor.coef = TRUE, cor.method = \"spearman\",\n",
    "         xlab = \"Genome size\", ylab=\"seqLength\",\n",
    "         add.params = list(color = \"darkred\",\n",
    "                          fill = \"darkgrey\"))+facet_wrap(~UniqueIn,scales = \"free_x\")"
   ]
  },
  {
   "cell_type": "code",
   "execution_count": 445,
   "id": "5afd149e-2c8c-45b5-a2f3-11f3b4eee532",
   "metadata": {
    "collapsed": true,
    "jupyter": {
     "outputs_hidden": true
    },
    "tags": []
   },
   "outputs": [
    {
     "name": "stderr",
     "output_type": "stream",
     "text": [
      "ERROR while rich displaying an object: \u001b[1m\u001b[33mError\u001b[39m in `combine_vars()`:\u001b[22m\n",
      "\u001b[33m!\u001b[39m At least one layer must contain all faceting variables: `UniqueIn`.\n",
      "* Plot is missing `UniqueIn`\n",
      "* Layer 1 is missing `UniqueIn`\n",
      "\n",
      "Traceback:\n",
      "1. tryCatch(withCallingHandlers({\n",
      " .     if (!mime %in% names(repr::mime2repr)) \n",
      " .         stop(\"No repr_* for mimetype \", mime, \" in repr::mime2repr\")\n",
      " .     rpr <- repr::mime2repr[[mime]](obj)\n",
      " .     if (is.null(rpr)) \n",
      " .         return(NULL)\n",
      " .     prepare_content(is.raw(rpr), rpr)\n",
      " . }, error = error_handler), error = outer_handler)\n",
      "2. tryCatchList(expr, classes, parentenv, handlers)\n",
      "3. tryCatchOne(expr, names, parentenv, handlers[[1L]])\n",
      "4. doTryCatch(return(expr), name, parentenv, handler)\n",
      "5. withCallingHandlers({\n",
      " .     if (!mime %in% names(repr::mime2repr)) \n",
      " .         stop(\"No repr_* for mimetype \", mime, \" in repr::mime2repr\")\n",
      " .     rpr <- repr::mime2repr[[mime]](obj)\n",
      " .     if (is.null(rpr)) \n",
      " .         return(NULL)\n",
      " .     prepare_content(is.raw(rpr), rpr)\n",
      " . }, error = error_handler)\n",
      "6. repr::mime2repr[[mime]](obj)\n",
      "7. repr_text.default(obj)\n",
      "8. paste(capture.output(print(obj)), collapse = \"\\n\")\n",
      "9. capture.output(print(obj))\n",
      "10. withVisible(...elt(i))\n",
      "11. print(obj)\n",
      "12. print.ggplot(obj)\n",
      "13. ggplot_build(x)\n",
      "14. ggplot_build.ggplot(x)\n",
      "15. layout$setup(data, plot$data, plot$plot_env)\n",
      "16. f(..., self = self)\n",
      "17. self$facet$compute_layout(data, self$facet_params)\n",
      "18. f(...)\n",
      "19. unrowname(combine_vars(data, params$plot_env, vars, drop = params$drop))\n",
      "20. is.data.frame(x)\n",
      "21. combine_vars(data, params$plot_env, vars, drop = params$drop)\n",
      "22. abort(glue(\"At least one layer must contain all faceting variables: {var_list(names(vars))}.\\n\", \n",
      "  .     glue_collapse(glue(\"* {name} is missing {missing_txt}\"), \n",
      "  .         \"\\n\", last = \"\\n\")))\n",
      "23. signal_abort(cnd, .file)\n"
     ]
    }
   ],
   "source": [
    "#Summarize number of flagellins per species\n",
    "#options(repr.plot.width = 6,repr.plot.height=10)\n",
    "ggplot(count(taxUniqueAll,Genus,sort=TRUE)[1:50,],aes(y=reorder(Genus,n),x=n))+\n",
    "geom_bar(stat=\"identity\",width=0.7)+\n",
    "theme_bw()+\n",
    "theme(axis.text.x = element_text(size=15),\n",
    "     axis.text.y = element_text(size=15))+\n",
    "facet_wrap(~UniqueIn)"
   ]
  },
  {
   "cell_type": "markdown",
   "id": "2f175171-d90c-4d92-8a6f-07bf9489cf37",
   "metadata": {},
   "source": [
    "## Within animals"
   ]
  },
  {
   "cell_type": "code",
   "execution_count": 66,
   "id": "c725968c-cbfb-4a9c-936f-2a49b40318ee",
   "metadata": {},
   "outputs": [],
   "source": [
    "## Get counts matrix from a phyloseq object, based on the category value           \n",
    "createCountsMatrix = function(ps_object,mapping_variable){\n",
    "    OTU1 = as(otu_table(ps_object),\"matrix\")\n",
    "    #if(taxa_are_rows(ps_object)){OTU1 <- t(OTU1)}\n",
    "    OTUdf = as.data.frame(OTU1)\n",
    "    OTUdf = rownames_to_column(OTUdf,var=\"Accession\")\n",
    "    \n",
    "    #Read metadata table from phyloseq object\n",
    "    metadata = as_tibble(ps_object@sam_data)\n",
    "    category.value = metadata$mapping_variable[1]\n",
    "    print(category.value)\n",
    "    \n",
    "    #Read taxonomy table from phyloseq object\n",
    "    #Finish this section: Create the vector with corresponding taxonomy for each accession, to further add to the output.table\n",
    "    #taxonomy = as_tibble(ps_object@tax_table) %>%\n",
    "     #          rownames_to_column(var = \"Accession\")\n",
    "#    species = select(taxonomy,Species)\n",
    "    \n",
    "    #Create table and assign category\n",
    "    output.table = mutate(OTUdf,totalCount= rowSums(across(where(is.numeric))))%>%\n",
    "                mutate(category = category.value) %>%\n",
    "                mutate(NoSamples = nrow(metadata)) %>%\n",
    "                mutate(ProportionInCategory = totalCount/NoSamples) %>%\n",
    "                mutate(PresentInCategory = ifelse(ProportionInCategory>0,TRUE,FALSE))%>%\n",
    "                select(Accession,\n",
    "                   mapping_variable,\n",
    "                   totalCount,\n",
    "                   NoSamples,\n",
    "                   ProportionInCategory,\n",
    "                   PresentInCategory)%>%\n",
    "                rename_with(~paste0(\"ProportionIn_\",category.value),ProportionInCategory)%>%\n",
    "                rename_with(~paste0(\"PresentIn_\",category.value),PresentInCategory)%>%\n",
    "                rename_with(~paste0(\"totalCount_\",category.value),totalCount)\n",
    "\n",
    "    #mutate(category.table,ExtractCategorypresent = ifelse(rowSums(select(.,-c(Sample,category)))>0,TRUE,FALSE))\n",
    "    \n",
    "    return(output.table)\n",
    "}"
   ]
  },
  {
   "cell_type": "code",
   "execution_count": 78,
   "id": "d00db144-ed73-46db-9327-1710b44e008b",
   "metadata": {
    "tags": []
   },
   "outputs": [
    {
     "ename": "ERROR",
     "evalue": "Error in print(mapping_variable): object 'biome_2' not found\n",
     "output_type": "error",
     "traceback": [
      "Error in print(mapping_variable): object 'biome_2' not found\nTraceback:\n",
      "1. createCountsMatrix(ps.mammals, biome_2)",
      "2. print(mapping_variable)   # at line 7 of file <text>"
     ]
    }
   ],
   "source": [
    "counts.mammals = createCountsMatrix(ps.mammals,biome_2)  "
   ]
  },
  {
   "cell_type": "code",
   "execution_count": 43,
   "id": "10822269-7e64-4518-98ef-b1a71cc34f22",
   "metadata": {
    "tags": []
   },
   "outputs": [],
   "source": [
    "#Create individual subsets of phyloseq objects for each category\n",
    "ps.mammals=subset_samples(filterTaxa_All,biome_2==\"Mammalia\")\n",
    "ps.aves=subset_samples(filterTaxa_All,biome_2==\"Aves\")\n",
    "ps.reptiles=subset_samples(filterTaxa_All,biome_2==\"Reptilia\")\n",
    "ps.amphibia=subset_samples(filterTaxa_All,biome_2==\"Amphibia\")\n",
    "ps.fish=subset_samples(filterTaxa_All,biome_2==\"Actinopterygii\")"
   ]
  },
  {
   "cell_type": "code",
   "execution_count": 76,
   "id": "2ec3f85f-479d-430c-b2e5-01c011533bb0",
   "metadata": {},
   "outputs": [
    {
     "ename": "ERROR",
     "evalue": "Error in print(mapping_variable): object 'biome_2' not found\n",
     "output_type": "error",
     "traceback": [
      "Error in print(mapping_variable): object 'biome_2' not found\nTraceback:\n",
      "1. createCountsMatrix(ps.mammals, biome_2)",
      "2. print(mapping_variable)   # at line 7 of file <text>"
     ]
    }
   ],
   "source": [
    "counts.mammals = createCountsMatrix(ps.mammals,biome_2)  "
   ]
  },
  {
   "cell_type": "code",
   "execution_count": 53,
   "id": "5c5a969f-bdef-4be8-b20e-d6ac0c3182c3",
   "metadata": {},
   "outputs": [
    {
     "name": "stderr",
     "output_type": "stream",
     "text": [
      "Warning message:\n",
      "“Unknown or uninitialised column: `mapping_variable`.”\n"
     ]
    },
    {
     "ename": "ERROR",
     "evalue": "\u001b[1m\u001b[33mError\u001b[39m in `select()`:\u001b[22m\n\u001b[33m!\u001b[39m Can't subset columns that don't exist.\n\u001b[31m✖\u001b[39m Column `category` doesn't exist.\n",
     "output_type": "error",
     "traceback": [
      "\u001b[1m\u001b[33mError\u001b[39m in `select()`:\u001b[22m\n\u001b[33m!\u001b[39m Can't subset columns that don't exist.\n\u001b[31m✖\u001b[39m Column `category` doesn't exist.\nTraceback:\n",
      "1. createCountsMatrix(ps.mammals, biome_2)",
      "2. mutate(OTUdf, totalCount = rowSums(across(where(is.numeric)))) %>% \n .     mutate(category = category.value) %>% mutate(NoSamples = nrow(metadata)) %>% \n .     mutate(ProportionInCategory = totalCount/NoSamples) %>% mutate(PresentInCategory = ifelse(ProportionInCategory > \n .     0, TRUE, FALSE)) %>% select(Accession, category, totalCount, \n .     NoSamples, ProportionInCategory, PresentInCategory) %>% rename_with(~paste0(\"ProportionIn_\", \n .     category.value), ProportionInCategory) %>% rename_with(~paste0(\"PresentIn_\", \n .     category.value), PresentInCategory) %>% rename_with(~paste0(\"totalCount_\", \n .     category.value), totalCount)   # at line 19-27 of file <text>",
      "3. rename_with(., ~paste0(\"totalCount_\", category.value), totalCount)",
      "4. rename_with(., ~paste0(\"PresentIn_\", category.value), PresentInCategory)",
      "5. rename_with(., ~paste0(\"ProportionIn_\", category.value), ProportionInCategory)",
      "6. select(., Accession, category, totalCount, NoSamples, ProportionInCategory, \n .     PresentInCategory)",
      "7. select.data.frame(., Accession, category, totalCount, NoSamples, \n .     ProportionInCategory, PresentInCategory)",
      "8. tidyselect::eval_select(expr(c(...)), data = .data, error_call = error_call)",
      "9. eval_select_impl(data, names(data), as_quosure(expr, env), include = include, \n .     exclude = exclude, strict = strict, name_spec = name_spec, \n .     allow_rename = allow_rename, allow_empty = allow_empty, allow_predicates = allow_predicates, \n .     error_call = error_call, )",
      "10. with_subscript_errors(out <- vars_select_eval(vars, expr, strict = strict, \n  .     data = x, name_spec = name_spec, uniquely_named = uniquely_named, \n  .     allow_rename = allow_rename, allow_empty = allow_empty, allow_predicates = allow_predicates, \n  .     type = type, error_call = error_call), type = type)",
      "11. try_fetch(expr, vctrs_error_subscript = function(cnd) {\n  .     cnd$subscript_action <- subscript_action(type)\n  .     cnd$subscript_elt <- \"column\"\n  .     cnd_signal(cnd)\n  . })",
      "12. withCallingHandlers(expr, condition = function(cnd) {\n  .     {\n  .         .__handler_frame__. <- TRUE\n  .         .__setup_frame__. <- frame\n  .         if (inherits(cnd, \"message\")) {\n  .             except <- c(\"warning\", \"error\")\n  .         }\n  .         else if (inherits(cnd, \"warning\")) {\n  .             except <- \"error\"\n  .         }\n  .         else {\n  .             except <- \"\"\n  .         }\n  .     }\n  .     while (!is_null(cnd)) {\n  .         if (inherits(cnd, \"vctrs_error_subscript\")) {\n  .             out <- handlers[[1L]](cnd)\n  .             if (!inherits(out, \"rlang_zap\")) \n  .                 throw(out)\n  .         }\n  .         inherit <- .subset2(.subset2(cnd, \"rlang\"), \"inherit\")\n  .         if (is_false(inherit)) {\n  .             return()\n  .         }\n  .         cnd <- .subset2(cnd, \"parent\")\n  .     }\n  . })",
      "13. vars_select_eval(vars, expr, strict = strict, data = x, name_spec = name_spec, \n  .     uniquely_named = uniquely_named, allow_rename = allow_rename, \n  .     allow_empty = allow_empty, allow_predicates = allow_predicates, \n  .     type = type, error_call = error_call)",
      "14. walk_data_tree(expr, data_mask, context_mask)",
      "15. eval_c(expr, data_mask, context_mask)",
      "16. reduce_sels(node, data_mask, context_mask, init = init)",
      "17. walk_data_tree(new, data_mask, context_mask)",
      "18. as_indices_sel_impl(out, vars = vars, strict = strict, data = data, \n  .     allow_predicates = allow_predicates, call = error_call, arg = as_label(expr))",
      "19. as_indices_impl(x, vars, call = call, arg = arg, strict = strict)",
      "20. chr_as_locations(x, vars, call = call, arg = arg)",
      "21. vctrs::vec_as_location(x, n = length(vars), names = vars, call = call, \n  .     arg = arg)",
      "22. (function () \n  . stop_subscript_oob(i = i, subscript_type = subscript_type, names = names, \n  .     subscript_action = subscript_action, subscript_arg = subscript_arg, \n  .     call = call))()",
      "23. stop_subscript_oob(i = i, subscript_type = subscript_type, names = names, \n  .     subscript_action = subscript_action, subscript_arg = subscript_arg, \n  .     call = call)",
      "24. stop_subscript(class = \"vctrs_error_subscript_oob\", i = i, subscript_type = subscript_type, \n  .     ..., call = call)",
      "25. abort(class = c(class, \"vctrs_error_subscript\"), i = i, ..., \n  .     call = call)",
      "26. signal_abort(cnd, .file)",
      "27. signalCondition(cnd)",
      "28. (function (cnd) \n  . {\n  .     {\n  .         .__handler_frame__. <- TRUE\n  .         .__setup_frame__. <- frame\n  .         if (inherits(cnd, \"message\")) {\n  .             except <- c(\"warning\", \"error\")\n  .         }\n  .         else if (inherits(cnd, \"warning\")) {\n  .             except <- \"error\"\n  .         }\n  .         else {\n  .             except <- \"\"\n  .         }\n  .     }\n  .     while (!is_null(cnd)) {\n  .         if (inherits(cnd, \"vctrs_error_subscript\")) {\n  .             out <- handlers[[1L]](cnd)\n  .             if (!inherits(out, \"rlang_zap\")) \n  .                 throw(out)\n  .         }\n  .         inherit <- .subset2(.subset2(cnd, \"rlang\"), \"inherit\")\n  .         if (is_false(inherit)) {\n  .             return()\n  .         }\n  .         cnd <- .subset2(cnd, \"parent\")\n  .     }\n  . })(structure(list(message = \"\", trace = structure(list(call = list(\n  .     IRkernel::main(), kernel$run(), handle_shell(), executor$execute(msg), \n  .     tryCatch(evaluate(request$content$code, envir = .GlobalEnv, \n  .         output_handler = oh, stop_on_error = 1L), interrupt = function(cond) {\n  .         log_debug(\"Interrupt during execution\")\n  .         interrupted <<- TRUE\n  .     }, error = .self$handle_error), tryCatchList(expr, classes, \n  .         parentenv, handlers), tryCatchOne(tryCatchList(expr, \n  .         names[-nh], parentenv, handlers[-nh]), names[nh], parentenv, \n  .         handlers[[nh]]), doTryCatch(return(expr), name, parentenv, \n  .         handler), tryCatchList(expr, names[-nh], parentenv, handlers[-nh]), \n  .     tryCatchOne(expr, names, parentenv, handlers[[1L]]), doTryCatch(return(expr), \n  .         name, parentenv, handler), evaluate(request$content$code, \n  .         envir = .GlobalEnv, output_handler = oh, stop_on_error = 1L), \n  .     evaluate_call(expr, parsed$src[[i]], envir = envir, enclos = enclos, \n  .         debug = debug, last = i == length(out), use_try = stop_on_error != \n  .             2L, keep_warning = keep_warning, keep_message = keep_message, \n  .         log_echo = log_echo, log_warning = log_warning, output_handler = output_handler, \n  .         include_timing = include_timing), timing_fn(handle(ev <- withCallingHandlers(withVisible(eval_with_user_handlers(expr, \n  .         envir, enclos, user_handlers)), warning = wHandler, error = eHandler, \n  .         message = mHandler))), handle(ev <- withCallingHandlers(withVisible(eval_with_user_handlers(expr, \n  .         envir, enclos, user_handlers)), warning = wHandler, error = eHandler, \n  .         message = mHandler)), try(f, silent = TRUE), tryCatch(expr, \n  .         error = function(e) {\n  .             call <- conditionCall(e)\n  .             if (!is.null(call)) {\n  .                 if (identical(call[[1L]], quote(doTryCatch))) \n  .                   call <- sys.call(-4L)\n  .                 dcall <- deparse(call, nlines = 1L)\n  .                 prefix <- paste(\"Error in\", dcall, \": \")\n  .                 LONG <- 75L\n  .                 sm <- strsplit(conditionMessage(e), \"\\n\")[[1L]]\n  .                 w <- 14L + nchar(dcall, type = \"w\") + nchar(sm[1L], \n  .                   type = \"w\")\n  .                 if (is.na(w)) \n  .                   w <- 14L + nchar(dcall, type = \"b\") + nchar(sm[1L], \n  .                     type = \"b\")\n  .                 if (w > LONG) \n  .                   prefix <- paste0(prefix, \"\\n  \")\n  .             }\n  .             else prefix <- \"Error : \"\n  .             msg <- paste0(prefix, conditionMessage(e), \"\\n\")\n  .             .Internal(seterrmessage(msg[1L]))\n  .             if (!silent && isTRUE(getOption(\"show.error.messages\"))) {\n  .                 cat(msg, file = outFile)\n  .                 .Internal(printDeferredWarnings())\n  .             }\n  .             invisible(structure(msg, class = \"try-error\", condition = e))\n  .         }), tryCatchList(expr, classes, parentenv, handlers), \n  .     tryCatchOne(expr, names, parentenv, handlers[[1L]]), doTryCatch(return(expr), \n  .         name, parentenv, handler), withCallingHandlers(withVisible(eval_with_user_handlers(expr, \n  .         envir, enclos, user_handlers)), warning = wHandler, error = eHandler, \n  .         message = mHandler), withVisible(eval_with_user_handlers(expr, \n  .         envir, enclos, user_handlers)), eval_with_user_handlers(expr, \n  .         envir, enclos, user_handlers), eval(expr, envir, enclos), \n  .     eval(expr, envir, enclos), createCountsMatrix(ps.mammals, \n  .         biome_2), mutate(OTUdf, totalCount = rowSums(across(where(is.numeric)))) %>% \n  .         mutate(category = category.value) %>% mutate(NoSamples = nrow(metadata)) %>% \n  .         mutate(ProportionInCategory = totalCount/NoSamples) %>% \n  .         mutate(PresentInCategory = ifelse(ProportionInCategory > \n  .             0, TRUE, FALSE)) %>% select(Accession, category, \n  .         totalCount, NoSamples, ProportionInCategory, PresentInCategory) %>% \n  .         rename_with(~paste0(\"ProportionIn_\", category.value), \n  .             ProportionInCategory) %>% rename_with(~paste0(\"PresentIn_\", \n  .         category.value), PresentInCategory) %>% rename_with(~paste0(\"totalCount_\", \n  .         category.value), totalCount), rename_with(., ~paste0(\"totalCount_\", \n  .         category.value), totalCount), rename_with(., ~paste0(\"PresentIn_\", \n  .         category.value), PresentInCategory), rename_with(., ~paste0(\"ProportionIn_\", \n  .         category.value), ProportionInCategory), select(., Accession, \n  .         category, totalCount, NoSamples, ProportionInCategory, \n  .         PresentInCategory), select.data.frame(., Accession, category, \n  .         totalCount, NoSamples, ProportionInCategory, PresentInCategory), \n  .     tidyselect::eval_select(expr(c(...)), data = .data, error_call = error_call), \n  .     eval_select_impl(data, names(data), as_quosure(expr, env), \n  .         include = include, exclude = exclude, strict = strict, \n  .         name_spec = name_spec, allow_rename = allow_rename, allow_empty = allow_empty, \n  .         allow_predicates = allow_predicates, error_call = error_call, \n  .         ), with_subscript_errors(out <- vars_select_eval(vars, \n  .         expr, strict = strict, data = x, name_spec = name_spec, \n  .         uniquely_named = uniquely_named, allow_rename = allow_rename, \n  .         allow_empty = allow_empty, allow_predicates = allow_predicates, \n  .         type = type, error_call = error_call), type = type), \n  .     try_fetch(expr, vctrs_error_subscript = function(cnd) {\n  .         cnd$subscript_action <- subscript_action(type)\n  .         cnd$subscript_elt <- \"column\"\n  .         cnd_signal(cnd)\n  .     }), withCallingHandlers(expr, condition = function(cnd) {\n  .         {\n  .             .__handler_frame__. <- TRUE\n  .             .__setup_frame__. <- frame\n  .             if (inherits(cnd, \"message\")) {\n  .                 except <- c(\"warning\", \"error\")\n  .             }\n  .             else if (inherits(cnd, \"warning\")) {\n  .                 except <- \"error\"\n  .             }\n  .             else {\n  .                 except <- \"\"\n  .             }\n  .         }\n  .         while (!is_null(cnd)) {\n  .             if (inherits(cnd, \"vctrs_error_subscript\")) {\n  .                 out <- handlers[[1L]](cnd)\n  .                 if (!inherits(out, \"rlang_zap\")) \n  .                   throw(out)\n  .             }\n  .             inherit <- .subset2(.subset2(cnd, \"rlang\"), \"inherit\")\n  .             if (is_false(inherit)) {\n  .                 return()\n  .             }\n  .             cnd <- .subset2(cnd, \"parent\")\n  .         }\n  .     }), vars_select_eval(vars, expr, strict = strict, data = x, \n  .         name_spec = name_spec, uniquely_named = uniquely_named, \n  .         allow_rename = allow_rename, allow_empty = allow_empty, \n  .         allow_predicates = allow_predicates, type = type, error_call = error_call), \n  .     walk_data_tree(expr, data_mask, context_mask), eval_c(expr, \n  .         data_mask, context_mask), reduce_sels(node, data_mask, \n  .         context_mask, init = init), walk_data_tree(new, data_mask, \n  .         context_mask), as_indices_sel_impl(out, vars = vars, \n  .         strict = strict, data = data, allow_predicates = allow_predicates, \n  .         call = error_call, arg = as_label(expr)), as_indices_impl(x, \n  .         vars, call = call, arg = arg, strict = strict), chr_as_locations(x, \n  .         vars, call = call, arg = arg), vctrs::vec_as_location(x, \n  .         n = length(vars), names = vars, call = call, arg = arg), \n  .     `<fn>`(), stop_subscript_oob(i = i, subscript_type = subscript_type, \n  .         names = names, subscript_action = subscript_action, subscript_arg = subscript_arg, \n  .         call = call), stop_subscript(class = \"vctrs_error_subscript_oob\", \n  .         i = i, subscript_type = subscript_type, ..., call = call), \n  .     abort(class = c(class, \"vctrs_error_subscript\"), i = i, ..., \n  .         call = call)), parent = c(0L, 1L, 2L, 3L, 4L, 5L, 6L, \n  . 7L, 6L, 9L, 10L, 4L, 12L, 13L, 13L, 15L, 16L, 17L, 18L, 19L, \n  . 13L, 13L, 13L, 23L, 24L, 0L, 26L, 0L, 0L, 0L, 0L, 0L, 32L, 33L, \n  . 34L, 35L, 36L, 34L, 38L, 39L, 40L, 41L, 42L, 43L, 44L, 45L, 0L, \n  . 47L, 48L, 49L), visible = c(TRUE, TRUE, TRUE, TRUE, TRUE, TRUE, \n  . TRUE, TRUE, TRUE, TRUE, TRUE, TRUE, TRUE, TRUE, TRUE, TRUE, TRUE, \n  . TRUE, TRUE, TRUE, TRUE, TRUE, TRUE, TRUE, TRUE, TRUE, TRUE, TRUE, \n  . TRUE, TRUE, TRUE, TRUE, FALSE, FALSE, FALSE, FALSE, FALSE, FALSE, \n  . FALSE, FALSE, FALSE, FALSE, FALSE, FALSE, FALSE, FALSE, FALSE, \n  . FALSE, FALSE, FALSE), namespace = c(\"IRkernel\", NA, \"IRkernel\", \n  . NA, \"base\", \"base\", \"base\", \"base\", \"base\", \"base\", \"base\", \"evaluate\", \n  . \"evaluate\", \"evaluate\", \"evaluate\", \"base\", \"base\", \"base\", \"base\", \n  . \"base\", \"base\", \"base\", \"evaluate\", \"base\", \"base\", NA, NA, \"dplyr\", \n  . \"dplyr\", \"dplyr\", \"dplyr\", \"dplyr\", \"tidyselect\", \"tidyselect\", \n  . \"tidyselect\", \"rlang\", \"base\", \"tidyselect\", \"tidyselect\", \"tidyselect\", \n  . \"tidyselect\", \"tidyselect\", \"tidyselect\", \"tidyselect\", \"tidyselect\", \n  . \"vctrs\", \"vctrs\", \"vctrs\", \"vctrs\", \"rlang\"), scope = c(\"::\", \n  . NA, \"local\", NA, \"::\", \"local\", \"local\", \"local\", \"local\", \"local\", \n  . \"local\", \"::\", \":::\", \"local\", \"local\", \"::\", \"::\", \"local\", \n  . \"local\", \"local\", \"::\", \"::\", \":::\", \"::\", \"::\", \"global\", NA, \n  . \"::\", \"::\", \"::\", \"::\", \":::\", \"::\", \":::\", \":::\", \"::\", \"::\", \n  . \":::\", \":::\", \":::\", \":::\", \":::\", \":::\", \":::\", \":::\", \"::\", \n  . \"local\", \":::\", \":::\", \"::\"), error_frame = c(FALSE, FALSE, FALSE, \n  . FALSE, FALSE, FALSE, FALSE, FALSE, FALSE, FALSE, FALSE, FALSE, \n  . FALSE, FALSE, FALSE, FALSE, FALSE, FALSE, FALSE, FALSE, FALSE, \n  . FALSE, FALSE, FALSE, FALSE, FALSE, FALSE, FALSE, FALSE, FALSE, \n  . FALSE, TRUE, FALSE, FALSE, FALSE, FALSE, FALSE, FALSE, FALSE, \n  . FALSE, FALSE, FALSE, FALSE, FALSE, FALSE, FALSE, FALSE, FALSE, \n  . FALSE, FALSE)), row.names = c(NA, -50L), version = 2L, class = c(\"rlang_trace\", \n  . \"rlib_trace\", \"tbl\", \"data.frame\")), parent = NULL, i = \"category\", \n  .     subscript_type = \"character\", names = c(\"Accession\", \"ERS1353920\", \n  .     \"ERS1353922\", \"ERS2085321\", \"ERS723593\", \"ERS723666\", \"ERS723671\", \n  .     \"ERS970222\", \"ERS970396\", \"SRS429584\", \"X10_House_Mouse\", \n  .     \"X11_Onager\", \"X120_Alpine_Shrew\", \"X136_Domestic_Pig\", \"X154_Tree_Shrew\", \n  .     \"X197_Human\", \"X221_Alpine_Ibex\", \"X240_Southern_White_cheeked_Gibbon\", \n  .     \"X288_Common_Brushtail\", \"X340_Western_Lowland_Gorilla\", \n  .     \"X362_Gray_Four_eyed_Opossum\", \"X366_fail_Tomes_Spiny_Rat\", \n  .     \"X368_European_Ground_Squirrel\", \"X376_Kulan\", \"X403_Chacma_Baboon\", \n  .     \"X410_Impala\", \"X423_Quagga\", \"X431_Quagga\", \"X435_Bactrian_Camel\", \n  .     \"X74_Steppe_Polecat\", \"X77_Onager\", \"X85_Domestic_Dog\", \"AC667\", \n  .     \"Apalw14\", \"APF105\", \"AsenLink1\", \"AsenLink2\", \"BWC2063\", \n  .     \"Gor12\", \"JB12\", \"JB17\", \"LagEllis1\", \"LagEllis5\", \"Lc310\", \n  .     \"Ptr11\", \"RC2071\", \"RC2098\", \"100UNCULTURED_S7\", \"26UNCULTURED_S4\", \n  .     \"2UNCULTURED_S1\", \"lucaAR31_S16\", \"lucaAR32_S17\", \"totalCount\", \n  .     \"NoSamples\", \"ProportionInCategory\", \"PresentInCategory\"), \n  .     subscript_action = NULL, subscript_arg = \"category\", rlang = list(\n  .         inherit = TRUE), call = select(., Accession, category, \n  .         totalCount, NoSamples, ProportionInCategory, PresentInCategory)), class = c(\"vctrs_error_subscript_oob\", \n  . \"vctrs_error_subscript\", \"rlang_error\", \"error\", \"condition\")))",
      "29. handlers[[1L]](cnd)",
      "30. cnd_signal(cnd)",
      "31. signal_abort(cnd)"
     ]
    }
   ],
   "source": [
    "#Create counts matrix with summary stats\n",
    "counts.mammals = createCountsMatrix(ps.mammals,biome_2)  \n",
    "counts.aves = createCountsMatrix(ps.aves,biome_2)\n",
    "counts.reptiles = createCountsMatrix(ps.reptiles,biome_2)\n",
    "counts.amphibia = createCountsMatrix(ps.amphibia,biome_2)\n",
    "counts.fish = createCountsMatrix(ps.fish,biome_2)"
   ]
  },
  {
   "cell_type": "code",
   "execution_count": 51,
   "id": "9957cd61-40ea-46cd-acc9-adfbf1179e10",
   "metadata": {},
   "outputs": [
    {
     "data": {
      "text/html": [
       "<table class=\"dataframe\">\n",
       "<caption>A data.frame: 1971 × 6</caption>\n",
       "<thead>\n",
       "\t<tr><th scope=col>Accession</th><th scope=col>category</th><th scope=col>totalCount_Animal</th><th scope=col>NoSamples</th><th scope=col>ProportionIn_Animal</th><th scope=col>PresentIn_Animal</th></tr>\n",
       "\t<tr><th scope=col>&lt;chr&gt;</th><th scope=col>&lt;chr&gt;</th><th scope=col>&lt;dbl&gt;</th><th scope=col>&lt;int&gt;</th><th scope=col>&lt;dbl&gt;</th><th scope=col>&lt;lgl&gt;</th></tr>\n",
       "</thead>\n",
       "<tbody>\n",
       "\t<tr><td>WP_018305791.1</td><td>Animal</td><td>14</td><td>51</td><td>0.27450980</td><td> TRUE</td></tr>\n",
       "\t<tr><td>KJS48310.1    </td><td>Animal</td><td> 1</td><td>51</td><td>0.01960784</td><td> TRUE</td></tr>\n",
       "\t<tr><td>EHQ91627.1    </td><td>Animal</td><td> 0</td><td>51</td><td>0.00000000</td><td>FALSE</td></tr>\n",
       "\t<tr><td>KRE97958.1    </td><td>Animal</td><td> 0</td><td>51</td><td>0.00000000</td><td>FALSE</td></tr>\n",
       "\t<tr><td>WP_039230967.1</td><td>Animal</td><td> 0</td><td>51</td><td>0.00000000</td><td>FALSE</td></tr>\n",
       "\t<tr><td>ESU34160.1    </td><td>Animal</td><td> 2</td><td>51</td><td>0.03921569</td><td> TRUE</td></tr>\n",
       "\t<tr><td>KMY55506.1    </td><td>Animal</td><td> 2</td><td>51</td><td>0.03921569</td><td> TRUE</td></tr>\n",
       "\t<tr><td>WP_087615600.1</td><td>Animal</td><td> 2</td><td>51</td><td>0.03921569</td><td> TRUE</td></tr>\n",
       "\t<tr><td>WP_039042127.1</td><td>Animal</td><td> 3</td><td>51</td><td>0.05882353</td><td> TRUE</td></tr>\n",
       "\t<tr><td>PTY75990.1    </td><td>Animal</td><td> 0</td><td>51</td><td>0.00000000</td><td>FALSE</td></tr>\n",
       "\t<tr><td>WP_077624765.1</td><td>Animal</td><td> 0</td><td>51</td><td>0.00000000</td><td>FALSE</td></tr>\n",
       "\t<tr><td>WP_019721686.1</td><td>Animal</td><td> 3</td><td>51</td><td>0.05882353</td><td> TRUE</td></tr>\n",
       "\t<tr><td>PGK31169.1    </td><td>Animal</td><td> 3</td><td>51</td><td>0.05882353</td><td> TRUE</td></tr>\n",
       "\t<tr><td>WP_062514727.1</td><td>Animal</td><td> 3</td><td>51</td><td>0.05882353</td><td> TRUE</td></tr>\n",
       "\t<tr><td>OZT13038.1    </td><td>Animal</td><td> 3</td><td>51</td><td>0.05882353</td><td> TRUE</td></tr>\n",
       "\t<tr><td>WP_110928827.1</td><td>Animal</td><td> 2</td><td>51</td><td>0.03921569</td><td> TRUE</td></tr>\n",
       "\t<tr><td>WP_017379004.1</td><td>Animal</td><td> 2</td><td>51</td><td>0.03921569</td><td> TRUE</td></tr>\n",
       "\t<tr><td>WP_063233915.1</td><td>Animal</td><td> 0</td><td>51</td><td>0.00000000</td><td>FALSE</td></tr>\n",
       "\t<tr><td>WP_089361969.1</td><td>Animal</td><td> 0</td><td>51</td><td>0.00000000</td><td>FALSE</td></tr>\n",
       "\t<tr><td>WP_082824266.1</td><td>Animal</td><td> 0</td><td>51</td><td>0.00000000</td><td>FALSE</td></tr>\n",
       "\t<tr><td>KMY43055.1    </td><td>Animal</td><td> 3</td><td>51</td><td>0.05882353</td><td> TRUE</td></tr>\n",
       "\t<tr><td>WP_058382098.1</td><td>Animal</td><td> 1</td><td>51</td><td>0.01960784</td><td> TRUE</td></tr>\n",
       "\t<tr><td>CEG24360.1    </td><td>Animal</td><td> 8</td><td>51</td><td>0.15686275</td><td> TRUE</td></tr>\n",
       "\t<tr><td>PJJ23062.1    </td><td>Animal</td><td>18</td><td>51</td><td>0.35294118</td><td> TRUE</td></tr>\n",
       "\t<tr><td>PZE19284.1    </td><td>Animal</td><td> 5</td><td>51</td><td>0.09803922</td><td> TRUE</td></tr>\n",
       "\t<tr><td>WP_088009532.1</td><td>Animal</td><td> 5</td><td>51</td><td>0.09803922</td><td> TRUE</td></tr>\n",
       "\t<tr><td>WP_078543852.1</td><td>Animal</td><td> 0</td><td>51</td><td>0.00000000</td><td>FALSE</td></tr>\n",
       "\t<tr><td>WP_028783867.1</td><td>Animal</td><td> 0</td><td>51</td><td>0.00000000</td><td>FALSE</td></tr>\n",
       "\t<tr><td>WP_019380815.1</td><td>Animal</td><td> 2</td><td>51</td><td>0.03921569</td><td> TRUE</td></tr>\n",
       "\t<tr><td>PGR04074.1    </td><td>Animal</td><td> 1</td><td>51</td><td>0.01960784</td><td> TRUE</td></tr>\n",
       "\t<tr><td>⋮</td><td>⋮</td><td>⋮</td><td>⋮</td><td>⋮</td><td>⋮</td></tr>\n",
       "\t<tr><td>PWI25796.1    </td><td>Animal</td><td> 1</td><td>51</td><td>0.01960784</td><td> TRUE</td></tr>\n",
       "\t<tr><td>AWE06388.1    </td><td>Animal</td><td> 4</td><td>51</td><td>0.07843137</td><td> TRUE</td></tr>\n",
       "\t<tr><td>PKA85261.1    </td><td>Animal</td><td> 0</td><td>51</td><td>0.00000000</td><td>FALSE</td></tr>\n",
       "\t<tr><td>WP_046525279.1</td><td>Animal</td><td> 3</td><td>51</td><td>0.05882353</td><td> TRUE</td></tr>\n",
       "\t<tr><td>WP_090762162.1</td><td>Animal</td><td> 2</td><td>51</td><td>0.03921569</td><td> TRUE</td></tr>\n",
       "\t<tr><td>WP_077601772.1</td><td>Animal</td><td> 0</td><td>51</td><td>0.00000000</td><td>FALSE</td></tr>\n",
       "\t<tr><td>WP_050351719.1</td><td>Animal</td><td> 1</td><td>51</td><td>0.01960784</td><td> TRUE</td></tr>\n",
       "\t<tr><td>WP_054405410.1</td><td>Animal</td><td>14</td><td>51</td><td>0.27450980</td><td> TRUE</td></tr>\n",
       "\t<tr><td>WP_044481008.1</td><td>Animal</td><td> 0</td><td>51</td><td>0.00000000</td><td>FALSE</td></tr>\n",
       "\t<tr><td>KQY92049.1    </td><td>Animal</td><td> 0</td><td>51</td><td>0.00000000</td><td>FALSE</td></tr>\n",
       "\t<tr><td>WP_026588933.1</td><td>Animal</td><td> 1</td><td>51</td><td>0.01960784</td><td> TRUE</td></tr>\n",
       "\t<tr><td>KGJ50137.1    </td><td>Animal</td><td> 0</td><td>51</td><td>0.00000000</td><td>FALSE</td></tr>\n",
       "\t<tr><td>WP_025162501.1</td><td>Animal</td><td> 8</td><td>51</td><td>0.15686275</td><td> TRUE</td></tr>\n",
       "\t<tr><td>WP_025162502.1</td><td>Animal</td><td>32</td><td>51</td><td>0.62745098</td><td> TRUE</td></tr>\n",
       "\t<tr><td>STO07506.1    </td><td>Animal</td><td> 3</td><td>51</td><td>0.05882353</td><td> TRUE</td></tr>\n",
       "\t<tr><td>AWI13573.1    </td><td>Animal</td><td> 3</td><td>51</td><td>0.05882353</td><td> TRUE</td></tr>\n",
       "\t<tr><td>OMD74617.1    </td><td>Animal</td><td> 0</td><td>51</td><td>0.00000000</td><td>FALSE</td></tr>\n",
       "\t<tr><td>WP_096273813.1</td><td>Animal</td><td> 0</td><td>51</td><td>0.00000000</td><td>FALSE</td></tr>\n",
       "\t<tr><td>WP_042142556.1</td><td>Animal</td><td> 0</td><td>51</td><td>0.00000000</td><td>FALSE</td></tr>\n",
       "\t<tr><td>WP_080623791.1</td><td>Animal</td><td>52</td><td>51</td><td>1.01960784</td><td> TRUE</td></tr>\n",
       "\t<tr><td>PTA84247.1    </td><td>Animal</td><td> 0</td><td>51</td><td>0.00000000</td><td>FALSE</td></tr>\n",
       "\t<tr><td>WP_117730004.1</td><td>Animal</td><td> 4</td><td>51</td><td>0.07843137</td><td> TRUE</td></tr>\n",
       "\t<tr><td>AKP76066.1    </td><td>Animal</td><td> 2</td><td>51</td><td>0.03921569</td><td> TRUE</td></tr>\n",
       "\t<tr><td>RDW20767.1    </td><td>Animal</td><td> 1</td><td>51</td><td>0.01960784</td><td> TRUE</td></tr>\n",
       "\t<tr><td>PLR90813.1    </td><td>Animal</td><td> 0</td><td>51</td><td>0.00000000</td><td>FALSE</td></tr>\n",
       "\t<tr><td>WP_055738703.1</td><td>Animal</td><td> 0</td><td>51</td><td>0.00000000</td><td>FALSE</td></tr>\n",
       "\t<tr><td>WP_010676911.1</td><td>Animal</td><td> 0</td><td>51</td><td>0.00000000</td><td>FALSE</td></tr>\n",
       "\t<tr><td>EPR26812.1    </td><td>Animal</td><td> 1</td><td>51</td><td>0.01960784</td><td> TRUE</td></tr>\n",
       "\t<tr><td>PIC98532.1    </td><td>Animal</td><td> 0</td><td>51</td><td>0.00000000</td><td>FALSE</td></tr>\n",
       "\t<tr><td>PID08009.1    </td><td>Animal</td><td> 2</td><td>51</td><td>0.03921569</td><td> TRUE</td></tr>\n",
       "</tbody>\n",
       "</table>\n"
      ],
      "text/latex": [
       "A data.frame: 1971 × 6\n",
       "\\begin{tabular}{llllll}\n",
       " Accession & category & totalCount\\_Animal & NoSamples & ProportionIn\\_Animal & PresentIn\\_Animal\\\\\n",
       " <chr> & <chr> & <dbl> & <int> & <dbl> & <lgl>\\\\\n",
       "\\hline\n",
       "\t WP\\_018305791.1 & Animal & 14 & 51 & 0.27450980 &  TRUE\\\\\n",
       "\t KJS48310.1     & Animal &  1 & 51 & 0.01960784 &  TRUE\\\\\n",
       "\t EHQ91627.1     & Animal &  0 & 51 & 0.00000000 & FALSE\\\\\n",
       "\t KRE97958.1     & Animal &  0 & 51 & 0.00000000 & FALSE\\\\\n",
       "\t WP\\_039230967.1 & Animal &  0 & 51 & 0.00000000 & FALSE\\\\\n",
       "\t ESU34160.1     & Animal &  2 & 51 & 0.03921569 &  TRUE\\\\\n",
       "\t KMY55506.1     & Animal &  2 & 51 & 0.03921569 &  TRUE\\\\\n",
       "\t WP\\_087615600.1 & Animal &  2 & 51 & 0.03921569 &  TRUE\\\\\n",
       "\t WP\\_039042127.1 & Animal &  3 & 51 & 0.05882353 &  TRUE\\\\\n",
       "\t PTY75990.1     & Animal &  0 & 51 & 0.00000000 & FALSE\\\\\n",
       "\t WP\\_077624765.1 & Animal &  0 & 51 & 0.00000000 & FALSE\\\\\n",
       "\t WP\\_019721686.1 & Animal &  3 & 51 & 0.05882353 &  TRUE\\\\\n",
       "\t PGK31169.1     & Animal &  3 & 51 & 0.05882353 &  TRUE\\\\\n",
       "\t WP\\_062514727.1 & Animal &  3 & 51 & 0.05882353 &  TRUE\\\\\n",
       "\t OZT13038.1     & Animal &  3 & 51 & 0.05882353 &  TRUE\\\\\n",
       "\t WP\\_110928827.1 & Animal &  2 & 51 & 0.03921569 &  TRUE\\\\\n",
       "\t WP\\_017379004.1 & Animal &  2 & 51 & 0.03921569 &  TRUE\\\\\n",
       "\t WP\\_063233915.1 & Animal &  0 & 51 & 0.00000000 & FALSE\\\\\n",
       "\t WP\\_089361969.1 & Animal &  0 & 51 & 0.00000000 & FALSE\\\\\n",
       "\t WP\\_082824266.1 & Animal &  0 & 51 & 0.00000000 & FALSE\\\\\n",
       "\t KMY43055.1     & Animal &  3 & 51 & 0.05882353 &  TRUE\\\\\n",
       "\t WP\\_058382098.1 & Animal &  1 & 51 & 0.01960784 &  TRUE\\\\\n",
       "\t CEG24360.1     & Animal &  8 & 51 & 0.15686275 &  TRUE\\\\\n",
       "\t PJJ23062.1     & Animal & 18 & 51 & 0.35294118 &  TRUE\\\\\n",
       "\t PZE19284.1     & Animal &  5 & 51 & 0.09803922 &  TRUE\\\\\n",
       "\t WP\\_088009532.1 & Animal &  5 & 51 & 0.09803922 &  TRUE\\\\\n",
       "\t WP\\_078543852.1 & Animal &  0 & 51 & 0.00000000 & FALSE\\\\\n",
       "\t WP\\_028783867.1 & Animal &  0 & 51 & 0.00000000 & FALSE\\\\\n",
       "\t WP\\_019380815.1 & Animal &  2 & 51 & 0.03921569 &  TRUE\\\\\n",
       "\t PGR04074.1     & Animal &  1 & 51 & 0.01960784 &  TRUE\\\\\n",
       "\t ⋮ & ⋮ & ⋮ & ⋮ & ⋮ & ⋮\\\\\n",
       "\t PWI25796.1     & Animal &  1 & 51 & 0.01960784 &  TRUE\\\\\n",
       "\t AWE06388.1     & Animal &  4 & 51 & 0.07843137 &  TRUE\\\\\n",
       "\t PKA85261.1     & Animal &  0 & 51 & 0.00000000 & FALSE\\\\\n",
       "\t WP\\_046525279.1 & Animal &  3 & 51 & 0.05882353 &  TRUE\\\\\n",
       "\t WP\\_090762162.1 & Animal &  2 & 51 & 0.03921569 &  TRUE\\\\\n",
       "\t WP\\_077601772.1 & Animal &  0 & 51 & 0.00000000 & FALSE\\\\\n",
       "\t WP\\_050351719.1 & Animal &  1 & 51 & 0.01960784 &  TRUE\\\\\n",
       "\t WP\\_054405410.1 & Animal & 14 & 51 & 0.27450980 &  TRUE\\\\\n",
       "\t WP\\_044481008.1 & Animal &  0 & 51 & 0.00000000 & FALSE\\\\\n",
       "\t KQY92049.1     & Animal &  0 & 51 & 0.00000000 & FALSE\\\\\n",
       "\t WP\\_026588933.1 & Animal &  1 & 51 & 0.01960784 &  TRUE\\\\\n",
       "\t KGJ50137.1     & Animal &  0 & 51 & 0.00000000 & FALSE\\\\\n",
       "\t WP\\_025162501.1 & Animal &  8 & 51 & 0.15686275 &  TRUE\\\\\n",
       "\t WP\\_025162502.1 & Animal & 32 & 51 & 0.62745098 &  TRUE\\\\\n",
       "\t STO07506.1     & Animal &  3 & 51 & 0.05882353 &  TRUE\\\\\n",
       "\t AWI13573.1     & Animal &  3 & 51 & 0.05882353 &  TRUE\\\\\n",
       "\t OMD74617.1     & Animal &  0 & 51 & 0.00000000 & FALSE\\\\\n",
       "\t WP\\_096273813.1 & Animal &  0 & 51 & 0.00000000 & FALSE\\\\\n",
       "\t WP\\_042142556.1 & Animal &  0 & 51 & 0.00000000 & FALSE\\\\\n",
       "\t WP\\_080623791.1 & Animal & 52 & 51 & 1.01960784 &  TRUE\\\\\n",
       "\t PTA84247.1     & Animal &  0 & 51 & 0.00000000 & FALSE\\\\\n",
       "\t WP\\_117730004.1 & Animal &  4 & 51 & 0.07843137 &  TRUE\\\\\n",
       "\t AKP76066.1     & Animal &  2 & 51 & 0.03921569 &  TRUE\\\\\n",
       "\t RDW20767.1     & Animal &  1 & 51 & 0.01960784 &  TRUE\\\\\n",
       "\t PLR90813.1     & Animal &  0 & 51 & 0.00000000 & FALSE\\\\\n",
       "\t WP\\_055738703.1 & Animal &  0 & 51 & 0.00000000 & FALSE\\\\\n",
       "\t WP\\_010676911.1 & Animal &  0 & 51 & 0.00000000 & FALSE\\\\\n",
       "\t EPR26812.1     & Animal &  1 & 51 & 0.01960784 &  TRUE\\\\\n",
       "\t PIC98532.1     & Animal &  0 & 51 & 0.00000000 & FALSE\\\\\n",
       "\t PID08009.1     & Animal &  2 & 51 & 0.03921569 &  TRUE\\\\\n",
       "\\end{tabular}\n"
      ],
      "text/markdown": [
       "\n",
       "A data.frame: 1971 × 6\n",
       "\n",
       "| Accession &lt;chr&gt; | category &lt;chr&gt; | totalCount_Animal &lt;dbl&gt; | NoSamples &lt;int&gt; | ProportionIn_Animal &lt;dbl&gt; | PresentIn_Animal &lt;lgl&gt; |\n",
       "|---|---|---|---|---|---|\n",
       "| WP_018305791.1 | Animal | 14 | 51 | 0.27450980 |  TRUE |\n",
       "| KJS48310.1     | Animal |  1 | 51 | 0.01960784 |  TRUE |\n",
       "| EHQ91627.1     | Animal |  0 | 51 | 0.00000000 | FALSE |\n",
       "| KRE97958.1     | Animal |  0 | 51 | 0.00000000 | FALSE |\n",
       "| WP_039230967.1 | Animal |  0 | 51 | 0.00000000 | FALSE |\n",
       "| ESU34160.1     | Animal |  2 | 51 | 0.03921569 |  TRUE |\n",
       "| KMY55506.1     | Animal |  2 | 51 | 0.03921569 |  TRUE |\n",
       "| WP_087615600.1 | Animal |  2 | 51 | 0.03921569 |  TRUE |\n",
       "| WP_039042127.1 | Animal |  3 | 51 | 0.05882353 |  TRUE |\n",
       "| PTY75990.1     | Animal |  0 | 51 | 0.00000000 | FALSE |\n",
       "| WP_077624765.1 | Animal |  0 | 51 | 0.00000000 | FALSE |\n",
       "| WP_019721686.1 | Animal |  3 | 51 | 0.05882353 |  TRUE |\n",
       "| PGK31169.1     | Animal |  3 | 51 | 0.05882353 |  TRUE |\n",
       "| WP_062514727.1 | Animal |  3 | 51 | 0.05882353 |  TRUE |\n",
       "| OZT13038.1     | Animal |  3 | 51 | 0.05882353 |  TRUE |\n",
       "| WP_110928827.1 | Animal |  2 | 51 | 0.03921569 |  TRUE |\n",
       "| WP_017379004.1 | Animal |  2 | 51 | 0.03921569 |  TRUE |\n",
       "| WP_063233915.1 | Animal |  0 | 51 | 0.00000000 | FALSE |\n",
       "| WP_089361969.1 | Animal |  0 | 51 | 0.00000000 | FALSE |\n",
       "| WP_082824266.1 | Animal |  0 | 51 | 0.00000000 | FALSE |\n",
       "| KMY43055.1     | Animal |  3 | 51 | 0.05882353 |  TRUE |\n",
       "| WP_058382098.1 | Animal |  1 | 51 | 0.01960784 |  TRUE |\n",
       "| CEG24360.1     | Animal |  8 | 51 | 0.15686275 |  TRUE |\n",
       "| PJJ23062.1     | Animal | 18 | 51 | 0.35294118 |  TRUE |\n",
       "| PZE19284.1     | Animal |  5 | 51 | 0.09803922 |  TRUE |\n",
       "| WP_088009532.1 | Animal |  5 | 51 | 0.09803922 |  TRUE |\n",
       "| WP_078543852.1 | Animal |  0 | 51 | 0.00000000 | FALSE |\n",
       "| WP_028783867.1 | Animal |  0 | 51 | 0.00000000 | FALSE |\n",
       "| WP_019380815.1 | Animal |  2 | 51 | 0.03921569 |  TRUE |\n",
       "| PGR04074.1     | Animal |  1 | 51 | 0.01960784 |  TRUE |\n",
       "| ⋮ | ⋮ | ⋮ | ⋮ | ⋮ | ⋮ |\n",
       "| PWI25796.1     | Animal |  1 | 51 | 0.01960784 |  TRUE |\n",
       "| AWE06388.1     | Animal |  4 | 51 | 0.07843137 |  TRUE |\n",
       "| PKA85261.1     | Animal |  0 | 51 | 0.00000000 | FALSE |\n",
       "| WP_046525279.1 | Animal |  3 | 51 | 0.05882353 |  TRUE |\n",
       "| WP_090762162.1 | Animal |  2 | 51 | 0.03921569 |  TRUE |\n",
       "| WP_077601772.1 | Animal |  0 | 51 | 0.00000000 | FALSE |\n",
       "| WP_050351719.1 | Animal |  1 | 51 | 0.01960784 |  TRUE |\n",
       "| WP_054405410.1 | Animal | 14 | 51 | 0.27450980 |  TRUE |\n",
       "| WP_044481008.1 | Animal |  0 | 51 | 0.00000000 | FALSE |\n",
       "| KQY92049.1     | Animal |  0 | 51 | 0.00000000 | FALSE |\n",
       "| WP_026588933.1 | Animal |  1 | 51 | 0.01960784 |  TRUE |\n",
       "| KGJ50137.1     | Animal |  0 | 51 | 0.00000000 | FALSE |\n",
       "| WP_025162501.1 | Animal |  8 | 51 | 0.15686275 |  TRUE |\n",
       "| WP_025162502.1 | Animal | 32 | 51 | 0.62745098 |  TRUE |\n",
       "| STO07506.1     | Animal |  3 | 51 | 0.05882353 |  TRUE |\n",
       "| AWI13573.1     | Animal |  3 | 51 | 0.05882353 |  TRUE |\n",
       "| OMD74617.1     | Animal |  0 | 51 | 0.00000000 | FALSE |\n",
       "| WP_096273813.1 | Animal |  0 | 51 | 0.00000000 | FALSE |\n",
       "| WP_042142556.1 | Animal |  0 | 51 | 0.00000000 | FALSE |\n",
       "| WP_080623791.1 | Animal | 52 | 51 | 1.01960784 |  TRUE |\n",
       "| PTA84247.1     | Animal |  0 | 51 | 0.00000000 | FALSE |\n",
       "| WP_117730004.1 | Animal |  4 | 51 | 0.07843137 |  TRUE |\n",
       "| AKP76066.1     | Animal |  2 | 51 | 0.03921569 |  TRUE |\n",
       "| RDW20767.1     | Animal |  1 | 51 | 0.01960784 |  TRUE |\n",
       "| PLR90813.1     | Animal |  0 | 51 | 0.00000000 | FALSE |\n",
       "| WP_055738703.1 | Animal |  0 | 51 | 0.00000000 | FALSE |\n",
       "| WP_010676911.1 | Animal |  0 | 51 | 0.00000000 | FALSE |\n",
       "| EPR26812.1     | Animal |  1 | 51 | 0.01960784 |  TRUE |\n",
       "| PIC98532.1     | Animal |  0 | 51 | 0.00000000 | FALSE |\n",
       "| PID08009.1     | Animal |  2 | 51 | 0.03921569 |  TRUE |\n",
       "\n"
      ],
      "text/plain": [
       "     Accession      category totalCount_Animal NoSamples ProportionIn_Animal\n",
       "1    WP_018305791.1 Animal   14                51        0.27450980         \n",
       "2    KJS48310.1     Animal    1                51        0.01960784         \n",
       "3    EHQ91627.1     Animal    0                51        0.00000000         \n",
       "4    KRE97958.1     Animal    0                51        0.00000000         \n",
       "5    WP_039230967.1 Animal    0                51        0.00000000         \n",
       "6    ESU34160.1     Animal    2                51        0.03921569         \n",
       "7    KMY55506.1     Animal    2                51        0.03921569         \n",
       "8    WP_087615600.1 Animal    2                51        0.03921569         \n",
       "9    WP_039042127.1 Animal    3                51        0.05882353         \n",
       "10   PTY75990.1     Animal    0                51        0.00000000         \n",
       "11   WP_077624765.1 Animal    0                51        0.00000000         \n",
       "12   WP_019721686.1 Animal    3                51        0.05882353         \n",
       "13   PGK31169.1     Animal    3                51        0.05882353         \n",
       "14   WP_062514727.1 Animal    3                51        0.05882353         \n",
       "15   OZT13038.1     Animal    3                51        0.05882353         \n",
       "16   WP_110928827.1 Animal    2                51        0.03921569         \n",
       "17   WP_017379004.1 Animal    2                51        0.03921569         \n",
       "18   WP_063233915.1 Animal    0                51        0.00000000         \n",
       "19   WP_089361969.1 Animal    0                51        0.00000000         \n",
       "20   WP_082824266.1 Animal    0                51        0.00000000         \n",
       "21   KMY43055.1     Animal    3                51        0.05882353         \n",
       "22   WP_058382098.1 Animal    1                51        0.01960784         \n",
       "23   CEG24360.1     Animal    8                51        0.15686275         \n",
       "24   PJJ23062.1     Animal   18                51        0.35294118         \n",
       "25   PZE19284.1     Animal    5                51        0.09803922         \n",
       "26   WP_088009532.1 Animal    5                51        0.09803922         \n",
       "27   WP_078543852.1 Animal    0                51        0.00000000         \n",
       "28   WP_028783867.1 Animal    0                51        0.00000000         \n",
       "29   WP_019380815.1 Animal    2                51        0.03921569         \n",
       "30   PGR04074.1     Animal    1                51        0.01960784         \n",
       "⋮    ⋮              ⋮        ⋮                 ⋮         ⋮                  \n",
       "1942 PWI25796.1     Animal    1                51        0.01960784         \n",
       "1943 AWE06388.1     Animal    4                51        0.07843137         \n",
       "1944 PKA85261.1     Animal    0                51        0.00000000         \n",
       "1945 WP_046525279.1 Animal    3                51        0.05882353         \n",
       "1946 WP_090762162.1 Animal    2                51        0.03921569         \n",
       "1947 WP_077601772.1 Animal    0                51        0.00000000         \n",
       "1948 WP_050351719.1 Animal    1                51        0.01960784         \n",
       "1949 WP_054405410.1 Animal   14                51        0.27450980         \n",
       "1950 WP_044481008.1 Animal    0                51        0.00000000         \n",
       "1951 KQY92049.1     Animal    0                51        0.00000000         \n",
       "1952 WP_026588933.1 Animal    1                51        0.01960784         \n",
       "1953 KGJ50137.1     Animal    0                51        0.00000000         \n",
       "1954 WP_025162501.1 Animal    8                51        0.15686275         \n",
       "1955 WP_025162502.1 Animal   32                51        0.62745098         \n",
       "1956 STO07506.1     Animal    3                51        0.05882353         \n",
       "1957 AWI13573.1     Animal    3                51        0.05882353         \n",
       "1958 OMD74617.1     Animal    0                51        0.00000000         \n",
       "1959 WP_096273813.1 Animal    0                51        0.00000000         \n",
       "1960 WP_042142556.1 Animal    0                51        0.00000000         \n",
       "1961 WP_080623791.1 Animal   52                51        1.01960784         \n",
       "1962 PTA84247.1     Animal    0                51        0.00000000         \n",
       "1963 WP_117730004.1 Animal    4                51        0.07843137         \n",
       "1964 AKP76066.1     Animal    2                51        0.03921569         \n",
       "1965 RDW20767.1     Animal    1                51        0.01960784         \n",
       "1966 PLR90813.1     Animal    0                51        0.00000000         \n",
       "1967 WP_055738703.1 Animal    0                51        0.00000000         \n",
       "1968 WP_010676911.1 Animal    0                51        0.00000000         \n",
       "1969 EPR26812.1     Animal    1                51        0.01960784         \n",
       "1970 PIC98532.1     Animal    0                51        0.00000000         \n",
       "1971 PID08009.1     Animal    2                51        0.03921569         \n",
       "     PresentIn_Animal\n",
       "1     TRUE           \n",
       "2     TRUE           \n",
       "3    FALSE           \n",
       "4    FALSE           \n",
       "5    FALSE           \n",
       "6     TRUE           \n",
       "7     TRUE           \n",
       "8     TRUE           \n",
       "9     TRUE           \n",
       "10   FALSE           \n",
       "11   FALSE           \n",
       "12    TRUE           \n",
       "13    TRUE           \n",
       "14    TRUE           \n",
       "15    TRUE           \n",
       "16    TRUE           \n",
       "17    TRUE           \n",
       "18   FALSE           \n",
       "19   FALSE           \n",
       "20   FALSE           \n",
       "21    TRUE           \n",
       "22    TRUE           \n",
       "23    TRUE           \n",
       "24    TRUE           \n",
       "25    TRUE           \n",
       "26    TRUE           \n",
       "27   FALSE           \n",
       "28   FALSE           \n",
       "29    TRUE           \n",
       "30    TRUE           \n",
       "⋮    ⋮               \n",
       "1942  TRUE           \n",
       "1943  TRUE           \n",
       "1944 FALSE           \n",
       "1945  TRUE           \n",
       "1946  TRUE           \n",
       "1947 FALSE           \n",
       "1948  TRUE           \n",
       "1949  TRUE           \n",
       "1950 FALSE           \n",
       "1951 FALSE           \n",
       "1952  TRUE           \n",
       "1953 FALSE           \n",
       "1954  TRUE           \n",
       "1955  TRUE           \n",
       "1956  TRUE           \n",
       "1957  TRUE           \n",
       "1958 FALSE           \n",
       "1959 FALSE           \n",
       "1960 FALSE           \n",
       "1961  TRUE           \n",
       "1962 FALSE           \n",
       "1963  TRUE           \n",
       "1964  TRUE           \n",
       "1965  TRUE           \n",
       "1966 FALSE           \n",
       "1967 FALSE           \n",
       "1968 FALSE           \n",
       "1969  TRUE           \n",
       "1970 FALSE           \n",
       "1971  TRUE           "
      ]
     },
     "metadata": {},
     "output_type": "display_data"
    }
   ],
   "source": [
    "counts.fish"
   ]
  },
  {
   "cell_type": "code",
   "execution_count": 47,
   "id": "caa11cd3-7a48-4edd-b28a-555af3f553fc",
   "metadata": {},
   "outputs": [],
   "source": [
    "#Join all matrices\n",
    "countsAllAnimals = full_join(counts.mammals,counts.aves,by=\"Accession\") %>%\n",
    "       full_join(counts.reptiles,by=\"Accession\")%>%\n",
    "       full_join(counts.amphibia,by=\"Accession\")%>%\n",
    "       full_join(counts.fish,by=\"Accession\")"
   ]
  },
  {
   "cell_type": "code",
   "execution_count": 49,
   "id": "104a07fb-1186-4bec-921f-990cc23212df",
   "metadata": {},
   "outputs": [
    {
     "data": {
      "text/html": [
       "<strong>10%:</strong> 0"
      ],
      "text/latex": [
       "\\textbf{10\\textbackslash{}\\%:} 0"
      ],
      "text/markdown": [
       "**10%:** 0"
      ],
      "text/plain": [
       "10% \n",
       "  0 "
      ]
     },
     "metadata": {},
     "output_type": "display_data"
    },
    {
     "data": {
      "text/html": [
       "<strong>25%:</strong> 0"
      ],
      "text/latex": [
       "\\textbf{25\\textbackslash{}\\%:} 0"
      ],
      "text/markdown": [
       "**25%:** 0"
      ],
      "text/plain": [
       "25% \n",
       "  0 "
      ]
     },
     "metadata": {},
     "output_type": "display_data"
    },
    {
     "data": {
      "text/html": [
       "<strong>50%:</strong> 0"
      ],
      "text/latex": [
       "\\textbf{50\\textbackslash{}\\%:} 0"
      ],
      "text/markdown": [
       "**50%:** 0"
      ],
      "text/plain": [
       "50% \n",
       "  0 "
      ]
     },
     "metadata": {},
     "output_type": "display_data"
    }
   ],
   "source": [
    "#Check quantiles in proportion distribution\n",
    "quantile(countsAllAnimals$ProportionIn_Animal.x,0.10)\n",
    "quantile(countsAllAnimals$ProportionIn_Animal,0.25)\n",
    "quantile(countsAllAnimals$ProportionIn_Animal,0.50)\n"
   ]
  },
  {
   "cell_type": "code",
   "execution_count": 50,
   "id": "f11c3c42-6224-4798-9fdd-5e7382c14b43",
   "metadata": {},
   "outputs": [
    {
     "data": {
      "text/html": [
       "<table class=\"dataframe\">\n",
       "<caption>A data.frame: 6 × 26</caption>\n",
       "<thead>\n",
       "\t<tr><th></th><th scope=col>Accession</th><th scope=col>category.x</th><th scope=col>totalCount_Animal.x</th><th scope=col>NoSamples.x</th><th scope=col>ProportionIn_Animal.x</th><th scope=col>PresentIn_Animal.x</th><th scope=col>category.y</th><th scope=col>totalCount_Animal.y</th><th scope=col>NoSamples.y</th><th scope=col>ProportionIn_Animal.y</th><th scope=col>⋯</th><th scope=col>category.y.y</th><th scope=col>totalCount_Animal.y.y</th><th scope=col>NoSamples.y.y</th><th scope=col>ProportionIn_Animal.y.y</th><th scope=col>PresentIn_Animal.y.y</th><th scope=col>category</th><th scope=col>totalCount_Animal</th><th scope=col>NoSamples</th><th scope=col>ProportionIn_Animal</th><th scope=col>PresentIn_Animal</th></tr>\n",
       "\t<tr><th></th><th scope=col>&lt;chr&gt;</th><th scope=col>&lt;chr&gt;</th><th scope=col>&lt;dbl&gt;</th><th scope=col>&lt;int&gt;</th><th scope=col>&lt;dbl&gt;</th><th scope=col>&lt;lgl&gt;</th><th scope=col>&lt;chr&gt;</th><th scope=col>&lt;dbl&gt;</th><th scope=col>&lt;int&gt;</th><th scope=col>&lt;dbl&gt;</th><th scope=col>⋯</th><th scope=col>&lt;chr&gt;</th><th scope=col>&lt;dbl&gt;</th><th scope=col>&lt;int&gt;</th><th scope=col>&lt;dbl&gt;</th><th scope=col>&lt;lgl&gt;</th><th scope=col>&lt;chr&gt;</th><th scope=col>&lt;dbl&gt;</th><th scope=col>&lt;int&gt;</th><th scope=col>&lt;dbl&gt;</th><th scope=col>&lt;lgl&gt;</th></tr>\n",
       "</thead>\n",
       "<tbody>\n",
       "\t<tr><th scope=row>1</th><td>WP_018305791.1</td><td>Animal</td><td>11</td><td>51</td><td>0.21568627</td><td> TRUE</td><td>Animal</td><td>40</td><td>51</td><td>0.78431373</td><td>⋯</td><td>Animal</td><td>3</td><td>11</td><td>0.27272727</td><td> TRUE</td><td>Animal</td><td>14</td><td>51</td><td>0.27450980</td><td> TRUE</td></tr>\n",
       "\t<tr><th scope=row>2</th><td>KJS48310.1    </td><td>Animal</td><td> 0</td><td>51</td><td>0.00000000</td><td>FALSE</td><td>Animal</td><td> 0</td><td>51</td><td>0.00000000</td><td>⋯</td><td>Animal</td><td>0</td><td>11</td><td>0.00000000</td><td>FALSE</td><td>Animal</td><td> 1</td><td>51</td><td>0.01960784</td><td> TRUE</td></tr>\n",
       "\t<tr><th scope=row>3</th><td>EHQ91627.1    </td><td>Animal</td><td> 0</td><td>51</td><td>0.00000000</td><td>FALSE</td><td>Animal</td><td> 1</td><td>51</td><td>0.01960784</td><td>⋯</td><td>Animal</td><td>0</td><td>11</td><td>0.00000000</td><td>FALSE</td><td>Animal</td><td> 0</td><td>51</td><td>0.00000000</td><td>FALSE</td></tr>\n",
       "\t<tr><th scope=row>4</th><td>KRE97958.1    </td><td>Animal</td><td> 3</td><td>51</td><td>0.05882353</td><td> TRUE</td><td>Animal</td><td> 1</td><td>51</td><td>0.01960784</td><td>⋯</td><td>Animal</td><td>0</td><td>11</td><td>0.00000000</td><td>FALSE</td><td>Animal</td><td> 0</td><td>51</td><td>0.00000000</td><td>FALSE</td></tr>\n",
       "\t<tr><th scope=row>5</th><td>WP_039230967.1</td><td>Animal</td><td> 0</td><td>51</td><td>0.00000000</td><td>FALSE</td><td>Animal</td><td> 2</td><td>51</td><td>0.03921569</td><td>⋯</td><td>Animal</td><td>0</td><td>11</td><td>0.00000000</td><td>FALSE</td><td>Animal</td><td> 0</td><td>51</td><td>0.00000000</td><td>FALSE</td></tr>\n",
       "\t<tr><th scope=row>6</th><td>ESU34160.1    </td><td>Animal</td><td> 5</td><td>51</td><td>0.09803922</td><td> TRUE</td><td>Animal</td><td> 2</td><td>51</td><td>0.03921569</td><td>⋯</td><td>Animal</td><td>1</td><td>11</td><td>0.09090909</td><td> TRUE</td><td>Animal</td><td> 2</td><td>51</td><td>0.03921569</td><td> TRUE</td></tr>\n",
       "</tbody>\n",
       "</table>\n"
      ],
      "text/latex": [
       "A data.frame: 6 × 26\n",
       "\\begin{tabular}{r|lllllllllllllllllllll}\n",
       "  & Accession & category.x & totalCount\\_Animal.x & NoSamples.x & ProportionIn\\_Animal.x & PresentIn\\_Animal.x & category.y & totalCount\\_Animal.y & NoSamples.y & ProportionIn\\_Animal.y & ⋯ & category.y.y & totalCount\\_Animal.y.y & NoSamples.y.y & ProportionIn\\_Animal.y.y & PresentIn\\_Animal.y.y & category & totalCount\\_Animal & NoSamples & ProportionIn\\_Animal & PresentIn\\_Animal\\\\\n",
       "  & <chr> & <chr> & <dbl> & <int> & <dbl> & <lgl> & <chr> & <dbl> & <int> & <dbl> & ⋯ & <chr> & <dbl> & <int> & <dbl> & <lgl> & <chr> & <dbl> & <int> & <dbl> & <lgl>\\\\\n",
       "\\hline\n",
       "\t1 & WP\\_018305791.1 & Animal & 11 & 51 & 0.21568627 &  TRUE & Animal & 40 & 51 & 0.78431373 & ⋯ & Animal & 3 & 11 & 0.27272727 &  TRUE & Animal & 14 & 51 & 0.27450980 &  TRUE\\\\\n",
       "\t2 & KJS48310.1     & Animal &  0 & 51 & 0.00000000 & FALSE & Animal &  0 & 51 & 0.00000000 & ⋯ & Animal & 0 & 11 & 0.00000000 & FALSE & Animal &  1 & 51 & 0.01960784 &  TRUE\\\\\n",
       "\t3 & EHQ91627.1     & Animal &  0 & 51 & 0.00000000 & FALSE & Animal &  1 & 51 & 0.01960784 & ⋯ & Animal & 0 & 11 & 0.00000000 & FALSE & Animal &  0 & 51 & 0.00000000 & FALSE\\\\\n",
       "\t4 & KRE97958.1     & Animal &  3 & 51 & 0.05882353 &  TRUE & Animal &  1 & 51 & 0.01960784 & ⋯ & Animal & 0 & 11 & 0.00000000 & FALSE & Animal &  0 & 51 & 0.00000000 & FALSE\\\\\n",
       "\t5 & WP\\_039230967.1 & Animal &  0 & 51 & 0.00000000 & FALSE & Animal &  2 & 51 & 0.03921569 & ⋯ & Animal & 0 & 11 & 0.00000000 & FALSE & Animal &  0 & 51 & 0.00000000 & FALSE\\\\\n",
       "\t6 & ESU34160.1     & Animal &  5 & 51 & 0.09803922 &  TRUE & Animal &  2 & 51 & 0.03921569 & ⋯ & Animal & 1 & 11 & 0.09090909 &  TRUE & Animal &  2 & 51 & 0.03921569 &  TRUE\\\\\n",
       "\\end{tabular}\n"
      ],
      "text/markdown": [
       "\n",
       "A data.frame: 6 × 26\n",
       "\n",
       "| <!--/--> | Accession &lt;chr&gt; | category.x &lt;chr&gt; | totalCount_Animal.x &lt;dbl&gt; | NoSamples.x &lt;int&gt; | ProportionIn_Animal.x &lt;dbl&gt; | PresentIn_Animal.x &lt;lgl&gt; | category.y &lt;chr&gt; | totalCount_Animal.y &lt;dbl&gt; | NoSamples.y &lt;int&gt; | ProportionIn_Animal.y &lt;dbl&gt; | ⋯ ⋯ | category.y.y &lt;chr&gt; | totalCount_Animal.y.y &lt;dbl&gt; | NoSamples.y.y &lt;int&gt; | ProportionIn_Animal.y.y &lt;dbl&gt; | PresentIn_Animal.y.y &lt;lgl&gt; | category &lt;chr&gt; | totalCount_Animal &lt;dbl&gt; | NoSamples &lt;int&gt; | ProportionIn_Animal &lt;dbl&gt; | PresentIn_Animal &lt;lgl&gt; |\n",
       "|---|---|---|---|---|---|---|---|---|---|---|---|---|---|---|---|---|---|---|---|---|---|\n",
       "| 1 | WP_018305791.1 | Animal | 11 | 51 | 0.21568627 |  TRUE | Animal | 40 | 51 | 0.78431373 | ⋯ | Animal | 3 | 11 | 0.27272727 |  TRUE | Animal | 14 | 51 | 0.27450980 |  TRUE |\n",
       "| 2 | KJS48310.1     | Animal |  0 | 51 | 0.00000000 | FALSE | Animal |  0 | 51 | 0.00000000 | ⋯ | Animal | 0 | 11 | 0.00000000 | FALSE | Animal |  1 | 51 | 0.01960784 |  TRUE |\n",
       "| 3 | EHQ91627.1     | Animal |  0 | 51 | 0.00000000 | FALSE | Animal |  1 | 51 | 0.01960784 | ⋯ | Animal | 0 | 11 | 0.00000000 | FALSE | Animal |  0 | 51 | 0.00000000 | FALSE |\n",
       "| 4 | KRE97958.1     | Animal |  3 | 51 | 0.05882353 |  TRUE | Animal |  1 | 51 | 0.01960784 | ⋯ | Animal | 0 | 11 | 0.00000000 | FALSE | Animal |  0 | 51 | 0.00000000 | FALSE |\n",
       "| 5 | WP_039230967.1 | Animal |  0 | 51 | 0.00000000 | FALSE | Animal |  2 | 51 | 0.03921569 | ⋯ | Animal | 0 | 11 | 0.00000000 | FALSE | Animal |  0 | 51 | 0.00000000 | FALSE |\n",
       "| 6 | ESU34160.1     | Animal |  5 | 51 | 0.09803922 |  TRUE | Animal |  2 | 51 | 0.03921569 | ⋯ | Animal | 1 | 11 | 0.09090909 |  TRUE | Animal |  2 | 51 | 0.03921569 |  TRUE |\n",
       "\n"
      ],
      "text/plain": [
       "  Accession      category.x totalCount_Animal.x NoSamples.x\n",
       "1 WP_018305791.1 Animal     11                  51         \n",
       "2 KJS48310.1     Animal      0                  51         \n",
       "3 EHQ91627.1     Animal      0                  51         \n",
       "4 KRE97958.1     Animal      3                  51         \n",
       "5 WP_039230967.1 Animal      0                  51         \n",
       "6 ESU34160.1     Animal      5                  51         \n",
       "  ProportionIn_Animal.x PresentIn_Animal.x category.y totalCount_Animal.y\n",
       "1 0.21568627             TRUE              Animal     40                 \n",
       "2 0.00000000            FALSE              Animal      0                 \n",
       "3 0.00000000            FALSE              Animal      1                 \n",
       "4 0.05882353             TRUE              Animal      1                 \n",
       "5 0.00000000            FALSE              Animal      2                 \n",
       "6 0.09803922             TRUE              Animal      2                 \n",
       "  NoSamples.y ProportionIn_Animal.y ⋯ category.y.y totalCount_Animal.y.y\n",
       "1 51          0.78431373            ⋯ Animal       3                    \n",
       "2 51          0.00000000            ⋯ Animal       0                    \n",
       "3 51          0.01960784            ⋯ Animal       0                    \n",
       "4 51          0.01960784            ⋯ Animal       0                    \n",
       "5 51          0.03921569            ⋯ Animal       0                    \n",
       "6 51          0.03921569            ⋯ Animal       1                    \n",
       "  NoSamples.y.y ProportionIn_Animal.y.y PresentIn_Animal.y.y category\n",
       "1 11            0.27272727               TRUE                Animal  \n",
       "2 11            0.00000000              FALSE                Animal  \n",
       "3 11            0.00000000              FALSE                Animal  \n",
       "4 11            0.00000000              FALSE                Animal  \n",
       "5 11            0.00000000              FALSE                Animal  \n",
       "6 11            0.09090909               TRUE                Animal  \n",
       "  totalCount_Animal NoSamples ProportionIn_Animal PresentIn_Animal\n",
       "1 14                51        0.27450980           TRUE           \n",
       "2  1                51        0.01960784           TRUE           \n",
       "3  0                51        0.00000000          FALSE           \n",
       "4  0                51        0.00000000          FALSE           \n",
       "5  0                51        0.00000000          FALSE           \n",
       "6  2                51        0.03921569           TRUE           "
      ]
     },
     "metadata": {},
     "output_type": "display_data"
    }
   ],
   "source": [
    "head(countsAllAnimals)"
   ]
  },
  {
   "cell_type": "code",
   "execution_count": 21,
   "id": "274889ad-30cd-44a8-bb5f-92b5f14763ba",
   "metadata": {},
   "outputs": [],
   "source": [
    "OnlyMammals = filter(countsAllBiomes,c(\n",
    "                    ProportionIn_Environmental< quantile(countsAllBiomes$ProportionIn_Environmental,0.10) &\n",
    "                    PresentIn_Animal == FALSE &\n",
    "                    #ProportionIn_Animal < quantile(countsAllBiomes$ProportionIn_Animal,0.10) &\n",
    "                    PresentIn_Plants == TRUE))%>%\n",
    "                    mutate(UniqueIn = \"Plants\")\n"
   ]
  }
 ],
 "metadata": {
  "kernelspec": {
   "display_name": "R4.2.1 (py3_fla_2022)",
   "language": "R",
   "name": "py3_fla_2022-r"
  },
  "language_info": {
   "codemirror_mode": "r",
   "file_extension": ".r",
   "mimetype": "text/x-r-source",
   "name": "R",
   "pygments_lexer": "r",
   "version": "4.2.3"
  }
 },
 "nbformat": 4,
 "nbformat_minor": 5
}
