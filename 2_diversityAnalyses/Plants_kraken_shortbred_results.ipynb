{
 "cells": [
  {
   "cell_type": "raw",
   "id": "4b70d6e8",
   "metadata": {},
   "source": [
    "---\n",
    "title: \"Kraken/Shortbred flagellome results - plants\"\n",
    "output: github_document\n",
    "---"
   ]
  },
  {
   "cell_type": "code",
   "execution_count": null,
   "id": "8b369fa4",
   "metadata": {},
   "outputs": [],
   "source": [
    "library(tidyverse)\n",
    "library(dplyr)\n",
    "library(stringr)\n",
    "library(microViz)\n",
    "library(metagMisc)\n",
    "library(phyloseq)\n",
    "library(phylosignal)\n",
    "library(ggplot2)\n",
    "library(ggsci)\n",
    "library(viridis)\n",
    "library(vegan)"
   ]
  },
  {
   "cell_type": "markdown",
   "id": "aa21ef33",
   "metadata": {
    "lines_to_next_cell": 0
   },
   "source": [
    "#Plants results\n",
    "\n",
    "###Import kraken results - Plants"
   ]
  },
  {
   "cell_type": "code",
   "execution_count": null,
   "id": "f9532e8a",
   "metadata": {},
   "outputs": [],
   "source": [
    "kraken.plants=read_tsv(\"/ebio/abt3_scratch/aborbon/taxonomy_profiles/plants/llmgp/llmgp/output_plants/kraken/all-combined-bracken.tsv\",col_names=TRUE)\n",
    "kraken.plants\n",
    "\n",
    "#Relative abundance\n",
    "kraken.plants.frac=select(kraken.plants,name,taxonomy_id,taxonomy,ends_with(\"frac\"))\n",
    "colnames(kraken.plants.frac)=gsub(\"_frac\",\"\",colnames(kraken.plants.frac))\n",
    "kraken.plants\n",
    "\n",
    "#Counts\n",
    "kraken.plants.num=select(kraken.plants,name,taxonomy_id,taxonomy,ends_with(\"num\"))\n",
    "colnames(kraken.plants.num)=gsub(\"_num\",\"\",colnames(kraken.plants.frac))"
   ]
  },
  {
   "cell_type": "markdown",
   "id": "35b50f66",
   "metadata": {
    "lines_to_next_cell": 0
   },
   "source": [
    "###Create OTU table from kraken results"
   ]
  },
  {
   "cell_type": "code",
   "execution_count": null,
   "id": "9f7e3455",
   "metadata": {},
   "outputs": [],
   "source": [
    "#otu counts\n",
    "kraken_plants_otus=kraken.plants.frac %>%\n",
    "  select(-c(taxonomy_id,taxonomy))\n",
    "\n",
    "otus_kraken.plants=otu_table(kraken_plants_otus[,2:ncol(kraken_plants_otus)],taxa_are_rows = TRUE)\n",
    "rownames(otus_kraken.plants)=kraken_plants_otus$name\n",
    "otus_kraken.plants\n",
    "\n",
    "#taxonomy table\n",
    "tax.kraken.plants=kraken.plants %>%\n",
    "  select(name,taxonomy)\n",
    "\n",
    "tax.kraken.plants=tax_table(as.matrix(tax.kraken.plants[,2:ncol(tax.kraken.plants)]))\n",
    "rownames(tax.kraken.plants)=kraken.plants$name\n",
    "\n",
    "\n",
    "#metadata\n",
    "View(mappingAll)\n",
    "#ps_plants=ps_filter(filt.ps.normAll, biome_2 == \"Plants\")\n",
    "mapping_ps_plants=sample_data(filter(mappingAll,biome_2==\"Plants\"))\n",
    "rownames(mapping_ps_plants)=(filter(mappingAll,biome_2==\"Plants\"))$Sample\n",
    "\n",
    "\n",
    "#Phyloseq kraken amato\n",
    "ps.kraken.plants=phyloseq(otus_kraken.plants,tax.kraken.plants,mapping_ps_plants)\n",
    "ps.kraken.plants"
   ]
  },
  {
   "cell_type": "code",
   "execution_count": null,
   "id": "22e3e0fe",
   "metadata": {},
   "outputs": [],
   "source": [
    "\n",
    "#Filter based on prevalence\n",
    "filter_taxa_All.plants = phyloseq_filter_prevalence(ps.kraken.plants, prev.trh = 0.05, abund.trh = NULL,\n",
    "  threshold_condition = \"OR\", abund.type = \"total\") #943 taxa and 809 samples\n",
    "\n",
    "#Prune samples without any OTU\n",
    "filter_taxa_All2.plants=prune_samples(sample_sums(filter_taxa_All.plants)>0,filter_taxa_All.plants)\n",
    "filter_taxa_All2.plants\n",
    "\n",
    "#Normalize relative abundances\n",
    "filt.ps.relab.normAll.plants  = transform_sample_counts(filter_taxa_All2.plants, function(x) (x / sum(x)) ) %>%\n",
    "                                ps_filter(biome_3 != \"bioreactor metagenome\")%>%\n",
    "                                ps_filter(!is.na(family))\n",
    "\n",
    "filt.ps.relab.normAll.plants@sam_data"
   ]
  },
  {
   "cell_type": "code",
   "execution_count": null,
   "id": "e7ac140a",
   "metadata": {},
   "outputs": [],
   "source": [
    "diss.jacc.plants=phyloseq_group_dissimilarity(filt.ps.relab.normAll.plants,group=\"biome_3\",method=\"jaccard\",between_groups = FALSE)+\n",
    "  ggtitle(\"Jaccard\")+\n",
    "  geom_point()+\n",
    "  scale_fill_lancet(alpha=0.7)\n",
    "  \n",
    "diss.bray.plants=phyloseq_group_dissimilarity(filt.ps.relab.normAll.plants,group=\"biome_3\",method=\"bray\",between_groups = FALSE)+\n",
    "  ggtitle(\"Bray-Curtis\")+\n",
    "  geom_point()+\n",
    "  scale_fill_lancet(alpha=0.7)\n",
    "\n",
    "#diss.bray.plants.fam=phyloseq_group_dissimilarity(filt.ps.relab.normAll.plants,group=\"family\",method=\"bray\",between_groups = FALSE)+ggtitle(\"Bray-Curtis\")+geom_point()\n",
    "\n",
    "# diss.unifrac1=phyloseq_group_dissimilarity(filt.ps.relab.normAll.vert,group=\"biome_1\",method=\"unifrac\",between_groups = FALSE)+ggtitle(\"uUniFrac\")\n",
    "# diss.wunifrac1=phyloseq_group_dissimilarity(filt.ps.relab.normAll.vert,group=\"biome_1\",method=\"wunifrac\",between_groups = FALSE)+ggtitle(\"wUniFrac\")\n",
    "\n",
    "diss.jacc.plants\n",
    "diss.bray.plants"
   ]
  },
  {
   "cell_type": "markdown",
   "id": "aa688028",
   "metadata": {
    "lines_to_next_cell": 0
   },
   "source": [
    "#Ordination plots with non-phylogenetic metrics - microbiome"
   ]
  },
  {
   "cell_type": "code",
   "execution_count": null,
   "id": "9e386fdc",
   "metadata": {},
   "outputs": [],
   "source": [
    "plot_ordination(physeq = filt.ps.relab.normAll.plants,ordinate(filt.ps.relab.normAll.plants,distance=\"jaccard\",method=\"PCoA\"),type=\"samples\",color=\"family\")+\n",
    "  theme_bw()+\n",
    "  geom_point(size=2)+\n",
    "  scale_color_lancet()+\n",
    "  ggtitle(\"Jaccard\")\n",
    "\n",
    "plot_ordination(physeq = filt.ps.relab.normAll.plants,ordinate(filt.ps.relab.normAll.plants,distance=\"bray\",method=\"PCoA\"),type=\"samples\",color=\"family\")+\n",
    "  theme_bw()+\n",
    "  geom_point(size=2)+\n",
    "  scale_color_lancet()+\n",
    "  ggtitle(\"BrayCurtis\")"
   ]
  },
  {
   "cell_type": "code",
   "execution_count": null,
   "id": "ae883d7c",
   "metadata": {
    "lines_to_next_cell": 2
   },
   "outputs": [],
   "source": [
    "diss.plants.ubiom.bray.fam=phyloseq_group_dissimilarity((ps_filter(filt.ps.relab.normAll.plants,family!=\"Asparagaceae\")),group=\"family\",method=\"bray\",between_groups = FALSE,notch=FALSE)+ggtitle(\"uBiome-Bray-Curtis\")\n",
    "diss.plants.ubiom.bray.fam"
   ]
  },
  {
   "cell_type": "markdown",
   "id": "e3eddb24",
   "metadata": {
    "lines_to_next_cell": 0
   },
   "source": [
    "#Mantel test for Plants results"
   ]
  },
  {
   "cell_type": "code",
   "execution_count": null,
   "id": "d53437e6",
   "metadata": {
    "lines_to_next_cell": 2
   },
   "outputs": [],
   "source": [
    "#Subset results of flagellome for plantsbauer dataset\n",
    "ps_fla.plants=ps_filter(filt.ps.relab.normAll, biome_2 == \"Plants\")\n",
    "ps_fla.plants"
   ]
  },
  {
   "cell_type": "markdown",
   "id": "4cdb3beb",
   "metadata": {
    "lines_to_next_cell": 0
   },
   "source": [
    "##"
   ]
  },
  {
   "cell_type": "code",
   "execution_count": null,
   "id": "23e8c272",
   "metadata": {},
   "outputs": [],
   "source": [
    "#Match samples from flagellin results amd overal microbiome results\n",
    "tmp.sam.plants=filt.ps.relab.normAll.plants@sam_data\n",
    "\n",
    "#Filtered flagellome phyloseq to match the same samples than the microbiome results (less samples)\n",
    "ps.filtab.plants=phyloseq(filt.ps.relab.normAll@otu_table,filt.ps.relab.normAll@tax_table,tmp.sam.plants)\n",
    "\n",
    "#Distance matrices\n",
    "bray.plants.fla=distance(ps.filtab.plants,method=\"bray\")\n",
    "bray.plants.ubiom=distance(filt.ps.relab.normAll.plants,method=\"bray\")\n",
    "\n",
    "mantel.plants=mantel(bray.plants.fla,bray.plants.ubiom,method=\"spearman\",permutations=9999)\n",
    "mantel.plants"
   ]
  },
  {
   "cell_type": "markdown",
   "id": "06d55595",
   "metadata": {
    "lines_to_next_cell": 0
   },
   "source": [
    "#Overall microbiome compositon in plants dataset"
   ]
  },
  {
   "cell_type": "code",
   "execution_count": null,
   "id": "c482ac52",
   "metadata": {},
   "outputs": [],
   "source": [
    "ps.filtab.plants\n",
    "\n",
    "#Flagellome\n",
    "plot_ordination(physeq = filt.ps.relab.normAll.plants,ordinate(filt.ps.relab.normAll.plants,distance=\"bray\",method=\"PCoA\"),type=\"samples\",color=\"biome_3\")+\n",
    "  theme_bw()+\n",
    "  geom_point(size=2)+\n",
    "  scale_color_viridis_d()+\n",
    "  ggtitle(\"BrayCurtis\")\n",
    "\n",
    "phyloseq_group_dissimilarity(ps.filt.ab.amato,group=\"family\",method=\"bray\",between_groups = FALSE)+ggtitle(\"Bray-Curtis\")"
   ]
  },
  {
   "cell_type": "markdown",
   "id": "b273fc86",
   "metadata": {
    "lines_to_next_cell": 0
   },
   "source": [
    "#Alpha diversity with absolute counts"
   ]
  },
  {
   "cell_type": "code",
   "execution_count": null,
   "id": "79015fac",
   "metadata": {},
   "outputs": [],
   "source": [
    "kraken_plants_otus.num=kraken.plants.num %>%\n",
    "  select(-c(taxonomy_id,taxonomy))\n",
    "\n",
    "otus_kraken.plants.num=otu_table(kraken_plants_otus.num[,2:ncol(kraken_plants_otus.num)],taxa_are_rows = TRUE)\n",
    "rownames(otus_kraken.plants.num)=kraken_plants_otus.num$name\n",
    "#otus_kraken.plants\n",
    "\n",
    "ps.kraken.plants.num=phyloseq(otus_kraken.plants.num,tax.kraken.plants,mapping_ps_plants)%>%\n",
    "                                ps_filter(biome_3 != \"bioreactor metagenome\")%>%\n",
    "                                ps_filter(!is.na(family))\n",
    "#ps.kraken.plants\n",
    "\n",
    "#Filter based on prevalence\n",
    "filter_taxa_plants.tmp1 = phyloseq_filter_prevalence(ps.kraken.plants.num, prev.trh = 0.05, abund.trh = NULL,\n",
    "  threshold_condition = \"OR\", abund.type = \"total\") #943 taxa and 809 samples\n",
    "\n",
    "#Prune samples without any OTU\n",
    "filter_taxa_tmp2=prune_samples(sample_sums(filter_taxa_plants.tmp1)>0,filter_taxa_plants.tmp1)\n",
    "filter_taxa_tmp2\n",
    "\n",
    "#Normalize relative abundances\n",
    "filt.ps.relab.normAll.plants.num  = transform_sample_counts(filter_taxa_tmp2, function(x) (x / sum(x)) ) \n",
    "\n"
   ]
  },
  {
   "cell_type": "markdown",
   "id": "a53c87d7",
   "metadata": {
    "lines_to_next_cell": 0
   },
   "source": [
    "#Procrustes analysis with microbiome and flagellome matrices"
   ]
  },
  {
   "cell_type": "code",
   "execution_count": null,
   "id": "07e6eb9b",
   "metadata": {
    "lines_to_next_cell": 0
   },
   "outputs": [],
   "source": [
    "richness=plot_richness(filter_taxa_tmp2,measures=c(\"observed\",\"chao1\",\"shannon\"),color=\"biome_3\",x=\"biome_3\")+\n",
    "  geom_boxplot()\n",
    "richness"
   ]
  },
  {
   "cell_type": "markdown",
   "id": "399ae2a8",
   "metadata": {},
   "source": []
  }
 ],
 "metadata": {
  "jupytext": {
   "cell_metadata_filter": "-all",
   "main_language": "R",
   "notebook_metadata_filter": "-all"
  },
  "kernelspec": {
   "display_name": "R4.2.1 (py3_fla_2022)",
   "language": "R",
   "name": "py3_fla_2022-r"
  },
  "language_info": {
   "codemirror_mode": "r",
   "file_extension": ".r",
   "mimetype": "text/x-r-source",
   "name": "R",
   "pygments_lexer": "r",
   "version": "4.2.2"
  }
 },
 "nbformat": 4,
 "nbformat_minor": 5
}
