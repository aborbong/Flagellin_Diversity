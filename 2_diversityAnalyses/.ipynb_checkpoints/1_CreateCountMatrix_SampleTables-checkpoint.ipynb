{
 "cells": [
  {
   "cell_type": "raw",
   "id": "65a22b9b",
   "metadata": {},
   "source": [
    "---\n",
    "title: \"Create feature tables - shortbred results\"\n",
    "author: \"Andrea Borbon\"\n",
    "output: github_document\n",
    "---"
   ]
  },
  {
   "cell_type": "code",
   "execution_count": null,
   "id": "0522ec1a",
   "metadata": {
    "name": "setup",
    "tags": [
     "remove_cell"
    ]
   },
   "outputs": [],
   "source": [
    "knitr::opts_knit$set(root.dir = '/tmp')"
   ]
  },
  {
   "cell_type": "markdown",
   "id": "bee4c088",
   "metadata": {
    "lines_to_next_cell": 0
   },
   "source": [
    "###Load libraries"
   ]
  },
  {
   "cell_type": "code",
   "execution_count": 75,
   "id": "47a15244",
   "metadata": {},
   "outputs": [],
   "source": [
    "library(tidyverse)\n",
    "library(stringr)\n",
    "library(conflicted)\n",
    "library(phyloseq)"
   ]
  },
  {
   "cell_type": "code",
   "execution_count": 3,
   "id": "bf54c74e-41cf-4a11-b54c-82b9bdf4d469",
   "metadata": {},
   "outputs": [
    {
     "name": "stderr",
     "output_type": "stream",
     "text": [
      "[conflicted] Will prefer \u001b[34mdplyr::filter\u001b[39m over any other package\n",
      "[conflicted] Will prefer \u001b[34mdplyr::rename\u001b[39m over any other package\n",
      "[conflicted] Will prefer \u001b[34mdplyr::mutate\u001b[39m over any other package\n"
     ]
    }
   ],
   "source": [
    "conflict_prefer(\"filter\",\"dplyr\")\n",
    "conflict_prefer(\"rename\",\"dplyr\")\n",
    "conflict_prefer(\"mutate\",\"dplyr\")"
   ]
  },
  {
   "cell_type": "markdown",
   "id": "60945baf-3653-435d-8002-e3d0ed7da978",
   "metadata": {},
   "source": [
    "# Create features tables for each dataset"
   ]
  },
  {
   "cell_type": "markdown",
   "id": "4c5d545d-4a10-4d74-9fea-80acdbedfcd6",
   "metadata": {},
   "source": [
    "# 1. Muehlbauer samples"
   ]
  },
  {
   "cell_type": "raw",
   "id": "9a7820a1-d512-46d9-bba9-2380ada244c2",
   "metadata": {},
   "source": [
    "%%sh\n",
    "wd=/tmp/global2/aborbon/shortbred_quantify/quantify_muehlbauer/results_R\n",
    "ls quantify*txt | awk '{print $NF}' > filenames_muehl.tsv"
   ]
  },
  {
   "cell_type": "markdown",
   "id": "84479f1f-ee68-4855-9cbf-8fa2f44c63ae",
   "metadata": {},
   "source": [
    "## 1.1. Import tables"
   ]
  },
  {
   "cell_type": "code",
   "execution_count": 132,
   "id": "f79a2b56-56be-4734-b62c-4a9e102740cf",
   "metadata": {},
   "outputs": [],
   "source": [
    "setwd(\"/tmp/global2/aborbon/shortbred_quantify/quantify_muehlbauer/results_R/\")\n",
    "tmp.muehl=list.files(path = \"/tmp/global2/aborbon/shortbred_quantify/quantify_muehlbauer/results_R/\" ,pattern = \"*.txt\")\n",
    "myfiles.muehl = lapply(tmp.muehl, read.delim)"
   ]
  },
  {
   "cell_type": "markdown",
   "id": "1c68b32e-094b-4907-97de-d52e2b3e1e0f",
   "metadata": {},
   "source": [
    "## 1.2. Sample names"
   ]
  },
  {
   "cell_type": "code",
   "execution_count": 102,
   "id": "dd148004-8250-4a52-8c9b-1453c08248f9",
   "metadata": {},
   "outputs": [],
   "source": [
    "sample.names.muehl <- as_tibble(sapply(strsplit(basename(tmp.muehl), \"quantify\"), `[`, 2))%>%\n",
    "  filter(!is.na(value))"
   ]
  },
  {
   "cell_type": "code",
   "execution_count": 134,
   "id": "de4d271f-d416-492f-858e-58c40f9ac411",
   "metadata": {},
   "outputs": [
    {
     "name": "stderr",
     "output_type": "stream",
     "text": [
      "\u001b[1mRows: \u001b[22m\u001b[34m19\u001b[39m \u001b[1mColumns: \u001b[22m\u001b[34m1\u001b[39m\n",
      "\u001b[36m──\u001b[39m \u001b[1mColumn specification\u001b[22m \u001b[36m────────────────────────────────────────────────────────────────────────────────────────────────────────────────────────────────────────────────────────\u001b[39m\n",
      "\u001b[1mDelimiter:\u001b[22m \"\\t\"\n",
      "\u001b[31mchr\u001b[39m (1): X1\n",
      "\n",
      "\u001b[36mℹ\u001b[39m Use `spec()` to retrieve the full column specification for this data.\n",
      "\u001b[36mℹ\u001b[39m Specify the column types or set `show_col_types = FALSE` to quiet this message.\n"
     ]
    }
   ],
   "source": [
    "filenamesMuehl=read_tsv(\"/tmp/global2/aborbon/shortbred_quantify/quantify_muehlbauer/results_R/filenames_muehl.tsv\",col_names=F)%>%\n",
    "  cbind(sample.names.muehl)%>%\n",
    "  mutate(Sample=str_remove_all(value,\"(?<=\\\\d).txt\"),.keep=\"unused\")"
   ]
  },
  {
   "cell_type": "code",
   "execution_count": 96,
   "id": "520b9121-6aab-49da-997c-7b1a7a8bfbbf",
   "metadata": {},
   "outputs": [
    {
     "data": {
      "text/html": [
       "<table class=\"dataframe\">\n",
       "<caption>A data.frame: 6 × 4</caption>\n",
       "<thead>\n",
       "\t<tr><th></th><th scope=col>Family</th><th scope=col>Count</th><th scope=col>Hits</th><th scope=col>TotMarkerLength</th></tr>\n",
       "\t<tr><th></th><th scope=col>&lt;chr&gt;</th><th scope=col>&lt;dbl&gt;</th><th scope=col>&lt;int&gt;</th><th scope=col>&lt;int&gt;</th></tr>\n",
       "</thead>\n",
       "<tbody>\n",
       "\t<tr><th scope=row>1</th><td>AAA26278_1</td><td>0</td><td>0</td><td>242</td></tr>\n",
       "\t<tr><th scope=row>2</th><td>AAA62843_1</td><td>0</td><td>0</td><td>300</td></tr>\n",
       "\t<tr><th scope=row>3</th><td>AAA62844_1</td><td>0</td><td>0</td><td>300</td></tr>\n",
       "\t<tr><th scope=row>4</th><td>AAB33952_1</td><td>0</td><td>0</td><td> 33</td></tr>\n",
       "\t<tr><th scope=row>5</th><td>AAB82613_1</td><td>0</td><td>0</td><td>300</td></tr>\n",
       "\t<tr><th scope=row>6</th><td>AAC38200_1</td><td>0</td><td>0</td><td>300</td></tr>\n",
       "</tbody>\n",
       "</table>\n"
      ],
      "text/latex": [
       "A data.frame: 6 × 4\n",
       "\\begin{tabular}{r|llll}\n",
       "  & Family & Count & Hits & TotMarkerLength\\\\\n",
       "  & <chr> & <dbl> & <int> & <int>\\\\\n",
       "\\hline\n",
       "\t1 & AAA26278\\_1 & 0 & 0 & 242\\\\\n",
       "\t2 & AAA62843\\_1 & 0 & 0 & 300\\\\\n",
       "\t3 & AAA62844\\_1 & 0 & 0 & 300\\\\\n",
       "\t4 & AAB33952\\_1 & 0 & 0 &  33\\\\\n",
       "\t5 & AAB82613\\_1 & 0 & 0 & 300\\\\\n",
       "\t6 & AAC38200\\_1 & 0 & 0 & 300\\\\\n",
       "\\end{tabular}\n"
      ],
      "text/markdown": [
       "\n",
       "A data.frame: 6 × 4\n",
       "\n",
       "| <!--/--> | Family &lt;chr&gt; | Count &lt;dbl&gt; | Hits &lt;int&gt; | TotMarkerLength &lt;int&gt; |\n",
       "|---|---|---|---|---|\n",
       "| 1 | AAA26278_1 | 0 | 0 | 242 |\n",
       "| 2 | AAA62843_1 | 0 | 0 | 300 |\n",
       "| 3 | AAA62844_1 | 0 | 0 | 300 |\n",
       "| 4 | AAB33952_1 | 0 | 0 |  33 |\n",
       "| 5 | AAB82613_1 | 0 | 0 | 300 |\n",
       "| 6 | AAC38200_1 | 0 | 0 | 300 |\n",
       "\n"
      ],
      "text/plain": [
       "  Family     Count Hits TotMarkerLength\n",
       "1 AAA26278_1 0     0    242            \n",
       "2 AAA62843_1 0     0    300            \n",
       "3 AAA62844_1 0     0    300            \n",
       "4 AAB33952_1 0     0     33            \n",
       "5 AAB82613_1 0     0    300            \n",
       "6 AAC38200_1 0     0    300            "
      ]
     },
     "metadata": {},
     "output_type": "display_data"
    },
    {
     "data": {
      "text/html": [
       "'24UNCULTURED_S3'"
      ],
      "text/latex": [
       "'24UNCULTURED\\_S3'"
      ],
      "text/markdown": [
       "'24UNCULTURED_S3'"
      ],
      "text/plain": [
       "[1] \"24UNCULTURED_S3\""
      ]
     },
     "metadata": {},
     "output_type": "display_data"
    }
   ],
   "source": [
    "head(myfiles.muehl[[5]])\n",
    "head(filenamesMuehl[5,2])"
   ]
  },
  {
   "cell_type": "markdown",
   "id": "3825d4b4-0858-4db2-8bfe-7f12dd113215",
   "metadata": {},
   "source": [
    "## 1.3. Add a column with sample name and study name to each table in tmp list"
   ]
  },
  {
   "cell_type": "code",
   "execution_count": 137,
   "id": "30efc317-314a-49ba-a118-f867c03edd82",
   "metadata": {},
   "outputs": [
    {
     "data": {
      "text/html": [
       "<table class=\"dataframe\">\n",
       "<caption>A data.frame: 6 × 5</caption>\n",
       "<thead>\n",
       "\t<tr><th></th><th scope=col>Family</th><th scope=col>Count</th><th scope=col>Hits</th><th scope=col>TotMarkerLength</th><th scope=col>Sample</th></tr>\n",
       "\t<tr><th></th><th scope=col>&lt;chr&gt;</th><th scope=col>&lt;dbl&gt;</th><th scope=col>&lt;int&gt;</th><th scope=col>&lt;int&gt;</th><th scope=col>&lt;chr&gt;</th></tr>\n",
       "</thead>\n",
       "<tbody>\n",
       "\t<tr><th scope=row>1</th><td>AAA26278_1</td><td>0</td><td>0</td><td>242</td><td>100UNCULTURED_S7</td></tr>\n",
       "\t<tr><th scope=row>2</th><td>AAA62843_1</td><td>0</td><td>0</td><td>300</td><td>100UNCULTURED_S7</td></tr>\n",
       "\t<tr><th scope=row>3</th><td>AAA62844_1</td><td>0</td><td>0</td><td>300</td><td>100UNCULTURED_S7</td></tr>\n",
       "\t<tr><th scope=row>4</th><td>AAB33952_1</td><td>0</td><td>0</td><td> 33</td><td>100UNCULTURED_S7</td></tr>\n",
       "\t<tr><th scope=row>5</th><td>AAB82613_1</td><td>0</td><td>0</td><td>300</td><td>100UNCULTURED_S7</td></tr>\n",
       "\t<tr><th scope=row>6</th><td>AAC38200_1</td><td>0</td><td>0</td><td>300</td><td>100UNCULTURED_S7</td></tr>\n",
       "</tbody>\n",
       "</table>\n"
      ],
      "text/latex": [
       "A data.frame: 6 × 5\n",
       "\\begin{tabular}{r|lllll}\n",
       "  & Family & Count & Hits & TotMarkerLength & Sample\\\\\n",
       "  & <chr> & <dbl> & <int> & <int> & <chr>\\\\\n",
       "\\hline\n",
       "\t1 & AAA26278\\_1 & 0 & 0 & 242 & 100UNCULTURED\\_S7\\\\\n",
       "\t2 & AAA62843\\_1 & 0 & 0 & 300 & 100UNCULTURED\\_S7\\\\\n",
       "\t3 & AAA62844\\_1 & 0 & 0 & 300 & 100UNCULTURED\\_S7\\\\\n",
       "\t4 & AAB33952\\_1 & 0 & 0 &  33 & 100UNCULTURED\\_S7\\\\\n",
       "\t5 & AAB82613\\_1 & 0 & 0 & 300 & 100UNCULTURED\\_S7\\\\\n",
       "\t6 & AAC38200\\_1 & 0 & 0 & 300 & 100UNCULTURED\\_S7\\\\\n",
       "\\end{tabular}\n"
      ],
      "text/markdown": [
       "\n",
       "A data.frame: 6 × 5\n",
       "\n",
       "| <!--/--> | Family &lt;chr&gt; | Count &lt;dbl&gt; | Hits &lt;int&gt; | TotMarkerLength &lt;int&gt; | Sample &lt;chr&gt; |\n",
       "|---|---|---|---|---|---|\n",
       "| 1 | AAA26278_1 | 0 | 0 | 242 | 100UNCULTURED_S7 |\n",
       "| 2 | AAA62843_1 | 0 | 0 | 300 | 100UNCULTURED_S7 |\n",
       "| 3 | AAA62844_1 | 0 | 0 | 300 | 100UNCULTURED_S7 |\n",
       "| 4 | AAB33952_1 | 0 | 0 |  33 | 100UNCULTURED_S7 |\n",
       "| 5 | AAB82613_1 | 0 | 0 | 300 | 100UNCULTURED_S7 |\n",
       "| 6 | AAC38200_1 | 0 | 0 | 300 | 100UNCULTURED_S7 |\n",
       "\n"
      ],
      "text/plain": [
       "  Family     Count Hits TotMarkerLength Sample          \n",
       "1 AAA26278_1 0     0    242             100UNCULTURED_S7\n",
       "2 AAA62843_1 0     0    300             100UNCULTURED_S7\n",
       "3 AAA62844_1 0     0    300             100UNCULTURED_S7\n",
       "4 AAB33952_1 0     0     33             100UNCULTURED_S7\n",
       "5 AAB82613_1 0     0    300             100UNCULTURED_S7\n",
       "6 AAC38200_1 0     0    300             100UNCULTURED_S7"
      ]
     },
     "metadata": {},
     "output_type": "display_data"
    },
    {
     "data": {
      "text/html": [
       "<table class=\"dataframe\">\n",
       "<caption>A data.frame: 6 × 6</caption>\n",
       "<thead>\n",
       "\t<tr><th></th><th scope=col>Family</th><th scope=col>Count</th><th scope=col>Hits</th><th scope=col>TotMarkerLength</th><th scope=col>Sample</th><th scope=col>StudyName</th></tr>\n",
       "\t<tr><th></th><th scope=col>&lt;chr&gt;</th><th scope=col>&lt;dbl&gt;</th><th scope=col>&lt;int&gt;</th><th scope=col>&lt;int&gt;</th><th scope=col>&lt;chr&gt;</th><th scope=col>&lt;chr&gt;</th></tr>\n",
       "</thead>\n",
       "<tbody>\n",
       "\t<tr><th scope=row>1</th><td>AAA26278_1</td><td>0</td><td>0</td><td>242</td><td>100UNCULTURED_S7</td><td>Muehlbauer_2020</td></tr>\n",
       "\t<tr><th scope=row>2</th><td>AAA62843_1</td><td>0</td><td>0</td><td>300</td><td>100UNCULTURED_S7</td><td>Muehlbauer_2020</td></tr>\n",
       "\t<tr><th scope=row>3</th><td>AAA62844_1</td><td>0</td><td>0</td><td>300</td><td>100UNCULTURED_S7</td><td>Muehlbauer_2020</td></tr>\n",
       "\t<tr><th scope=row>4</th><td>AAB33952_1</td><td>0</td><td>0</td><td> 33</td><td>100UNCULTURED_S7</td><td>Muehlbauer_2020</td></tr>\n",
       "\t<tr><th scope=row>5</th><td>AAB82613_1</td><td>0</td><td>0</td><td>300</td><td>100UNCULTURED_S7</td><td>Muehlbauer_2020</td></tr>\n",
       "\t<tr><th scope=row>6</th><td>AAC38200_1</td><td>0</td><td>0</td><td>300</td><td>100UNCULTURED_S7</td><td>Muehlbauer_2020</td></tr>\n",
       "</tbody>\n",
       "</table>\n"
      ],
      "text/latex": [
       "A data.frame: 6 × 6\n",
       "\\begin{tabular}{r|llllll}\n",
       "  & Family & Count & Hits & TotMarkerLength & Sample & StudyName\\\\\n",
       "  & <chr> & <dbl> & <int> & <int> & <chr> & <chr>\\\\\n",
       "\\hline\n",
       "\t1 & AAA26278\\_1 & 0 & 0 & 242 & 100UNCULTURED\\_S7 & Muehlbauer\\_2020\\\\\n",
       "\t2 & AAA62843\\_1 & 0 & 0 & 300 & 100UNCULTURED\\_S7 & Muehlbauer\\_2020\\\\\n",
       "\t3 & AAA62844\\_1 & 0 & 0 & 300 & 100UNCULTURED\\_S7 & Muehlbauer\\_2020\\\\\n",
       "\t4 & AAB33952\\_1 & 0 & 0 &  33 & 100UNCULTURED\\_S7 & Muehlbauer\\_2020\\\\\n",
       "\t5 & AAB82613\\_1 & 0 & 0 & 300 & 100UNCULTURED\\_S7 & Muehlbauer\\_2020\\\\\n",
       "\t6 & AAC38200\\_1 & 0 & 0 & 300 & 100UNCULTURED\\_S7 & Muehlbauer\\_2020\\\\\n",
       "\\end{tabular}\n"
      ],
      "text/markdown": [
       "\n",
       "A data.frame: 6 × 6\n",
       "\n",
       "| <!--/--> | Family &lt;chr&gt; | Count &lt;dbl&gt; | Hits &lt;int&gt; | TotMarkerLength &lt;int&gt; | Sample &lt;chr&gt; | StudyName &lt;chr&gt; |\n",
       "|---|---|---|---|---|---|---|\n",
       "| 1 | AAA26278_1 | 0 | 0 | 242 | 100UNCULTURED_S7 | Muehlbauer_2020 |\n",
       "| 2 | AAA62843_1 | 0 | 0 | 300 | 100UNCULTURED_S7 | Muehlbauer_2020 |\n",
       "| 3 | AAA62844_1 | 0 | 0 | 300 | 100UNCULTURED_S7 | Muehlbauer_2020 |\n",
       "| 4 | AAB33952_1 | 0 | 0 |  33 | 100UNCULTURED_S7 | Muehlbauer_2020 |\n",
       "| 5 | AAB82613_1 | 0 | 0 | 300 | 100UNCULTURED_S7 | Muehlbauer_2020 |\n",
       "| 6 | AAC38200_1 | 0 | 0 | 300 | 100UNCULTURED_S7 | Muehlbauer_2020 |\n",
       "\n"
      ],
      "text/plain": [
       "  Family     Count Hits TotMarkerLength Sample           StudyName      \n",
       "1 AAA26278_1 0     0    242             100UNCULTURED_S7 Muehlbauer_2020\n",
       "2 AAA62843_1 0     0    300             100UNCULTURED_S7 Muehlbauer_2020\n",
       "3 AAA62844_1 0     0    300             100UNCULTURED_S7 Muehlbauer_2020\n",
       "4 AAB33952_1 0     0     33             100UNCULTURED_S7 Muehlbauer_2020\n",
       "5 AAB82613_1 0     0    300             100UNCULTURED_S7 Muehlbauer_2020\n",
       "6 AAC38200_1 0     0    300             100UNCULTURED_S7 Muehlbauer_2020"
      ]
     },
     "metadata": {},
     "output_type": "display_data"
    }
   ],
   "source": [
    "#Define list where lists with sample name will be stored. This vector is empty, will be filled with the loop in next step.\n",
    "vector.muehl = 1:length(myfiles.muehl)\n",
    "myfiles2.muehl = vector(\"list\",length(myfiles.muehl)) \n",
    "\n",
    "#Create loop to add sample name to each list\n",
    "for (i in vector.muehl) {\n",
    "  myfiles2.muehl[[i]]=mutate(myfiles.muehl[[i]],Sample=filenamesMuehl[i,2]) #En cada posicion de myfiles2 aplicar esta function\n",
    "}\n",
    "\n",
    "head(myfiles2.muehl[[1]]) #checkpoint\n",
    "\n",
    "#Create another empty list to store the study name to the above lists\n",
    "muehlSamples = vector(\"list\",length(myfiles2.muehl))\n",
    "\n",
    "#Loop to add Study name\n",
    "for (i in vector.muehl) {\n",
    "  muehlSamples[[i]]=mutate(myfiles2.muehl[[i]],StudyName=\"Muehlbauer_2020\")\n",
    "  \n",
    "}\n",
    "head(muehlSamples[[1]])"
   ]
  },
  {
   "cell_type": "code",
   "execution_count": 138,
   "id": "7c9a86a1-271a-4698-a184-207211690f46",
   "metadata": {},
   "outputs": [],
   "source": [
    "#Store all tables in one table\n",
    "muehlSamples2=bind_rows(muehlSamples)"
   ]
  },
  {
   "cell_type": "code",
   "execution_count": 162,
   "id": "44f751b4-fd74-4c34-981b-0bc69bdd38fa",
   "metadata": {},
   "outputs": [
    {
     "data": {
      "text/html": [
       "<table class=\"dataframe\">\n",
       "<caption>A data.frame: 6 × 6</caption>\n",
       "<thead>\n",
       "\t<tr><th></th><th scope=col>Family</th><th scope=col>Count</th><th scope=col>Hits</th><th scope=col>TotMarkerLength</th><th scope=col>Sample</th><th scope=col>StudyName</th></tr>\n",
       "\t<tr><th></th><th scope=col>&lt;chr&gt;</th><th scope=col>&lt;dbl&gt;</th><th scope=col>&lt;int&gt;</th><th scope=col>&lt;int&gt;</th><th scope=col>&lt;chr&gt;</th><th scope=col>&lt;chr&gt;</th></tr>\n",
       "</thead>\n",
       "<tbody>\n",
       "\t<tr><th scope=row>1</th><td>AAA26278_1</td><td>0</td><td>0</td><td>242</td><td>100UNCULTURED_S7</td><td>Muehlbauer_2020</td></tr>\n",
       "\t<tr><th scope=row>2</th><td>AAA62843_1</td><td>0</td><td>0</td><td>300</td><td>100UNCULTURED_S7</td><td>Muehlbauer_2020</td></tr>\n",
       "\t<tr><th scope=row>3</th><td>AAA62844_1</td><td>0</td><td>0</td><td>300</td><td>100UNCULTURED_S7</td><td>Muehlbauer_2020</td></tr>\n",
       "\t<tr><th scope=row>4</th><td>AAB33952_1</td><td>0</td><td>0</td><td> 33</td><td>100UNCULTURED_S7</td><td>Muehlbauer_2020</td></tr>\n",
       "\t<tr><th scope=row>5</th><td>AAB82613_1</td><td>0</td><td>0</td><td>300</td><td>100UNCULTURED_S7</td><td>Muehlbauer_2020</td></tr>\n",
       "\t<tr><th scope=row>6</th><td>AAC38200_1</td><td>0</td><td>0</td><td>300</td><td>100UNCULTURED_S7</td><td>Muehlbauer_2020</td></tr>\n",
       "</tbody>\n",
       "</table>\n"
      ],
      "text/latex": [
       "A data.frame: 6 × 6\n",
       "\\begin{tabular}{r|llllll}\n",
       "  & Family & Count & Hits & TotMarkerLength & Sample & StudyName\\\\\n",
       "  & <chr> & <dbl> & <int> & <int> & <chr> & <chr>\\\\\n",
       "\\hline\n",
       "\t1 & AAA26278\\_1 & 0 & 0 & 242 & 100UNCULTURED\\_S7 & Muehlbauer\\_2020\\\\\n",
       "\t2 & AAA62843\\_1 & 0 & 0 & 300 & 100UNCULTURED\\_S7 & Muehlbauer\\_2020\\\\\n",
       "\t3 & AAA62844\\_1 & 0 & 0 & 300 & 100UNCULTURED\\_S7 & Muehlbauer\\_2020\\\\\n",
       "\t4 & AAB33952\\_1 & 0 & 0 &  33 & 100UNCULTURED\\_S7 & Muehlbauer\\_2020\\\\\n",
       "\t5 & AAB82613\\_1 & 0 & 0 & 300 & 100UNCULTURED\\_S7 & Muehlbauer\\_2020\\\\\n",
       "\t6 & AAC38200\\_1 & 0 & 0 & 300 & 100UNCULTURED\\_S7 & Muehlbauer\\_2020\\\\\n",
       "\\end{tabular}\n"
      ],
      "text/markdown": [
       "\n",
       "A data.frame: 6 × 6\n",
       "\n",
       "| <!--/--> | Family &lt;chr&gt; | Count &lt;dbl&gt; | Hits &lt;int&gt; | TotMarkerLength &lt;int&gt; | Sample &lt;chr&gt; | StudyName &lt;chr&gt; |\n",
       "|---|---|---|---|---|---|---|\n",
       "| 1 | AAA26278_1 | 0 | 0 | 242 | 100UNCULTURED_S7 | Muehlbauer_2020 |\n",
       "| 2 | AAA62843_1 | 0 | 0 | 300 | 100UNCULTURED_S7 | Muehlbauer_2020 |\n",
       "| 3 | AAA62844_1 | 0 | 0 | 300 | 100UNCULTURED_S7 | Muehlbauer_2020 |\n",
       "| 4 | AAB33952_1 | 0 | 0 |  33 | 100UNCULTURED_S7 | Muehlbauer_2020 |\n",
       "| 5 | AAB82613_1 | 0 | 0 | 300 | 100UNCULTURED_S7 | Muehlbauer_2020 |\n",
       "| 6 | AAC38200_1 | 0 | 0 | 300 | 100UNCULTURED_S7 | Muehlbauer_2020 |\n",
       "\n"
      ],
      "text/plain": [
       "  Family     Count Hits TotMarkerLength Sample           StudyName      \n",
       "1 AAA26278_1 0     0    242             100UNCULTURED_S7 Muehlbauer_2020\n",
       "2 AAA62843_1 0     0    300             100UNCULTURED_S7 Muehlbauer_2020\n",
       "3 AAA62844_1 0     0    300             100UNCULTURED_S7 Muehlbauer_2020\n",
       "4 AAB33952_1 0     0     33             100UNCULTURED_S7 Muehlbauer_2020\n",
       "5 AAB82613_1 0     0    300             100UNCULTURED_S7 Muehlbauer_2020\n",
       "6 AAC38200_1 0     0    300             100UNCULTURED_S7 Muehlbauer_2020"
      ]
     },
     "metadata": {},
     "output_type": "display_data"
    }
   ],
   "source": [
    "head(muehlSamples2)"
   ]
  },
  {
   "cell_type": "markdown",
   "id": "789ea079-6fb4-4fa5-8dde-8f80a0c65eee",
   "metadata": {},
   "source": [
    "## 1.4. Create the features table "
   ]
  },
  {
   "cell_type": "code",
   "execution_count": 140,
   "id": "6cfe41fc-4b30-470a-82e8-c1ee881ce0e2",
   "metadata": {},
   "outputs": [],
   "source": [
    "muehlSamples3 = pivot_wider(data=muehlSamples2,id_cols=Family,names_from=Sample,values_from=Count)%>%\n",
    "  mutate(Family=str_replace_all(Family,\"(?<=\\\\d)_\",\".\")) # This regex \"(?<=\\\\d)_\" means every underscore (_) preceded by any digit (\\\\d)"
   ]
  },
  {
   "cell_type": "code",
   "execution_count": null,
   "id": "5e30784a-279b-4cb7-a94e-cc138f501544",
   "metadata": {},
   "outputs": [],
   "source": [
    "head(muehlSamples3)"
   ]
  },
  {
   "cell_type": "markdown",
   "id": "e6027bd9",
   "metadata": {
    "lines_to_next_cell": 0
   },
   "source": [
    "\n",
    "# 2. Amato dataset"
   ]
  },
  {
   "cell_type": "markdown",
   "id": "34d692ba-51a6-4ce0-81cf-6d7700442370",
   "metadata": {},
   "source": [
    "## 2.1. Import lists"
   ]
  },
  {
   "cell_type": "code",
   "execution_count": 11,
   "id": "fd6e1b9d",
   "metadata": {},
   "outputs": [],
   "source": [
    "tmp.amato=list.files(path = \"/tmp/global2/aborbon/shortbred_quantify/quantify_amato/pcLen90/results_R/\" ,pattern = \"*.txt\")\n",
    "myfiles = lapply(tmp.amato, read.delim)"
   ]
  },
  {
   "cell_type": "markdown",
   "id": "8feaed2c",
   "metadata": {
    "lines_to_next_cell": 0
   },
   "source": [
    "## 2.2. Sample names"
   ]
  },
  {
   "cell_type": "code",
   "execution_count": 16,
   "id": "e8aea620",
   "metadata": {},
   "outputs": [],
   "source": [
    "sample.names <- as_tibble(sapply(strsplit(basename(tmp.amato), \"pcLen30quantify\"), `[`, 2))%>%\n",
    "  filter(!is.na(value))"
   ]
  },
  {
   "cell_type": "code",
   "execution_count": 17,
   "id": "7ab99141-0e49-4bf6-b7bb-4a591ddeaef3",
   "metadata": {},
   "outputs": [
    {
     "name": "stderr",
     "output_type": "stream",
     "text": [
      "\u001b[1mRows: \u001b[22m\u001b[34m95\u001b[39m \u001b[1mColumns: \u001b[22m\u001b[34m1\u001b[39m\n",
      "\u001b[36m──\u001b[39m \u001b[1mColumn specification\u001b[22m \u001b[36m────────────────────────────────────────────────────────────────────────────────────────────────────────────────────────────────────────────────────────\u001b[39m\n",
      "\u001b[1mDelimiter:\u001b[22m \"\\t\"\n",
      "\u001b[31mchr\u001b[39m (1): X1\n",
      "\n",
      "\u001b[36mℹ\u001b[39m Use `spec()` to retrieve the full column specification for this data.\n",
      "\u001b[36mℹ\u001b[39m Specify the column types or set `show_col_types = FALSE` to quiet this message.\n"
     ]
    }
   ],
   "source": [
    "filenamesAmato=read_tsv(\"/tmp/global2/aborbon/shortbred_quantify/quantify_amato/pcLen90/results_R/filenames.tsv\",col_names=F)%>%\n",
    "  cbind(sample.names)%>%\n",
    "  mutate(Sample=str_remove_all(value,\"(?<=\\\\d).txt\"),.keep=\"unused\")"
   ]
  },
  {
   "cell_type": "code",
   "execution_count": 19,
   "id": "fb9bf040-f61b-4a8f-994a-8457d234e1ca",
   "metadata": {},
   "outputs": [
    {
     "data": {
      "text/html": [
       "<table class=\"dataframe\">\n",
       "<caption>A data.frame: 6 × 2</caption>\n",
       "<thead>\n",
       "\t<tr><th></th><th scope=col>X1</th><th scope=col>Sample</th></tr>\n",
       "\t<tr><th></th><th scope=col>&lt;chr&gt;</th><th scope=col>&lt;chr&gt;</th></tr>\n",
       "</thead>\n",
       "<tbody>\n",
       "\t<tr><th scope=row>1</th><td>pcLen30quantifyAC622.txt </td><td>AC622   </td></tr>\n",
       "\t<tr><th scope=row>2</th><td>pcLen30quantifyAC660.txt </td><td>AC660   </td></tr>\n",
       "\t<tr><th scope=row>3</th><td>pcLen30quantifyAC665.txt </td><td>AC665   </td></tr>\n",
       "\t<tr><th scope=row>4</th><td>pcLen30quantifyAC667.txt </td><td>AC667   </td></tr>\n",
       "\t<tr><th scope=row>5</th><td>pcLen30quantifyAC668.txt </td><td>AC668   </td></tr>\n",
       "\t<tr><th scope=row>6</th><td>pcLen30quantifyAPAL36.txt</td><td>Ahyb1000</td></tr>\n",
       "</tbody>\n",
       "</table>\n"
      ],
      "text/latex": [
       "A data.frame: 6 × 2\n",
       "\\begin{tabular}{r|ll}\n",
       "  & X1 & Sample\\\\\n",
       "  & <chr> & <chr>\\\\\n",
       "\\hline\n",
       "\t1 & pcLen30quantifyAC622.txt  & AC622   \\\\\n",
       "\t2 & pcLen30quantifyAC660.txt  & AC660   \\\\\n",
       "\t3 & pcLen30quantifyAC665.txt  & AC665   \\\\\n",
       "\t4 & pcLen30quantifyAC667.txt  & AC667   \\\\\n",
       "\t5 & pcLen30quantifyAC668.txt  & AC668   \\\\\n",
       "\t6 & pcLen30quantifyAPAL36.txt & Ahyb1000\\\\\n",
       "\\end{tabular}\n"
      ],
      "text/markdown": [
       "\n",
       "A data.frame: 6 × 2\n",
       "\n",
       "| <!--/--> | X1 &lt;chr&gt; | Sample &lt;chr&gt; |\n",
       "|---|---|---|\n",
       "| 1 | pcLen30quantifyAC622.txt  | AC622    |\n",
       "| 2 | pcLen30quantifyAC660.txt  | AC660    |\n",
       "| 3 | pcLen30quantifyAC665.txt  | AC665    |\n",
       "| 4 | pcLen30quantifyAC667.txt  | AC667    |\n",
       "| 5 | pcLen30quantifyAC668.txt  | AC668    |\n",
       "| 6 | pcLen30quantifyAPAL36.txt | Ahyb1000 |\n",
       "\n"
      ],
      "text/plain": [
       "  X1                        Sample  \n",
       "1 pcLen30quantifyAC622.txt  AC622   \n",
       "2 pcLen30quantifyAC660.txt  AC660   \n",
       "3 pcLen30quantifyAC665.txt  AC665   \n",
       "4 pcLen30quantifyAC667.txt  AC667   \n",
       "5 pcLen30quantifyAC668.txt  AC668   \n",
       "6 pcLen30quantifyAPAL36.txt Ahyb1000"
      ]
     },
     "metadata": {},
     "output_type": "display_data"
    }
   ],
   "source": [
    "head(filenamesAmato)"
   ]
  },
  {
   "cell_type": "markdown",
   "id": "253d22c1",
   "metadata": {
    "lines_to_next_cell": 0
   },
   "source": [
    "#### Checkpoint: Testing that order in both lists match the same samples"
   ]
  },
  {
   "cell_type": "code",
   "execution_count": 21,
   "id": "d1996b11",
   "metadata": {},
   "outputs": [
    {
     "data": {
      "text/html": [
       "<table class=\"dataframe\">\n",
       "<caption>A data.frame: 6 × 4</caption>\n",
       "<thead>\n",
       "\t<tr><th></th><th scope=col>Family</th><th scope=col>Count</th><th scope=col>Hits</th><th scope=col>TotMarkerLength</th></tr>\n",
       "\t<tr><th></th><th scope=col>&lt;chr&gt;</th><th scope=col>&lt;dbl&gt;</th><th scope=col>&lt;int&gt;</th><th scope=col>&lt;int&gt;</th></tr>\n",
       "</thead>\n",
       "<tbody>\n",
       "\t<tr><th scope=row>1</th><td>AAA26278_1</td><td>0</td><td>0</td><td>242</td></tr>\n",
       "\t<tr><th scope=row>2</th><td>AAA62843_1</td><td>0</td><td>0</td><td>300</td></tr>\n",
       "\t<tr><th scope=row>3</th><td>AAA62844_1</td><td>0</td><td>0</td><td>300</td></tr>\n",
       "\t<tr><th scope=row>4</th><td>AAB33952_1</td><td>0</td><td>0</td><td> 33</td></tr>\n",
       "\t<tr><th scope=row>5</th><td>AAB82613_1</td><td>0</td><td>0</td><td>300</td></tr>\n",
       "\t<tr><th scope=row>6</th><td>AAC38200_1</td><td>0</td><td>0</td><td>300</td></tr>\n",
       "</tbody>\n",
       "</table>\n"
      ],
      "text/latex": [
       "A data.frame: 6 × 4\n",
       "\\begin{tabular}{r|llll}\n",
       "  & Family & Count & Hits & TotMarkerLength\\\\\n",
       "  & <chr> & <dbl> & <int> & <int>\\\\\n",
       "\\hline\n",
       "\t1 & AAA26278\\_1 & 0 & 0 & 242\\\\\n",
       "\t2 & AAA62843\\_1 & 0 & 0 & 300\\\\\n",
       "\t3 & AAA62844\\_1 & 0 & 0 & 300\\\\\n",
       "\t4 & AAB33952\\_1 & 0 & 0 &  33\\\\\n",
       "\t5 & AAB82613\\_1 & 0 & 0 & 300\\\\\n",
       "\t6 & AAC38200\\_1 & 0 & 0 & 300\\\\\n",
       "\\end{tabular}\n"
      ],
      "text/markdown": [
       "\n",
       "A data.frame: 6 × 4\n",
       "\n",
       "| <!--/--> | Family &lt;chr&gt; | Count &lt;dbl&gt; | Hits &lt;int&gt; | TotMarkerLength &lt;int&gt; |\n",
       "|---|---|---|---|---|\n",
       "| 1 | AAA26278_1 | 0 | 0 | 242 |\n",
       "| 2 | AAA62843_1 | 0 | 0 | 300 |\n",
       "| 3 | AAA62844_1 | 0 | 0 | 300 |\n",
       "| 4 | AAB33952_1 | 0 | 0 |  33 |\n",
       "| 5 | AAB82613_1 | 0 | 0 | 300 |\n",
       "| 6 | AAC38200_1 | 0 | 0 | 300 |\n",
       "\n"
      ],
      "text/plain": [
       "  Family     Count Hits TotMarkerLength\n",
       "1 AAA26278_1 0     0    242            \n",
       "2 AAA62843_1 0     0    300            \n",
       "3 AAA62844_1 0     0    300            \n",
       "4 AAB33952_1 0     0     33            \n",
       "5 AAB82613_1 0     0    300            \n",
       "6 AAC38200_1 0     0    300            "
      ]
     },
     "metadata": {},
     "output_type": "display_data"
    },
    {
     "data": {
      "text/html": [
       "'AC668'"
      ],
      "text/latex": [
       "'AC668'"
      ],
      "text/markdown": [
       "'AC668'"
      ],
      "text/plain": [
       "[1] \"AC668\""
      ]
     },
     "metadata": {},
     "output_type": "display_data"
    }
   ],
   "source": [
    "head(myfiles[[5]])\n",
    "head(filenamesAmato[5,2])"
   ]
  },
  {
   "cell_type": "markdown",
   "id": "287518f2",
   "metadata": {
    "lines_to_next_cell": 0
   },
   "source": [
    "## 2.3. Add a column with sample name and study name to each table in tmp list"
   ]
  },
  {
   "cell_type": "code",
   "execution_count": 26,
   "id": "f5450bfe",
   "metadata": {},
   "outputs": [
    {
     "data": {
      "text/html": [
       "<table class=\"dataframe\">\n",
       "<caption>A data.frame: 6 × 5</caption>\n",
       "<thead>\n",
       "\t<tr><th></th><th scope=col>Family</th><th scope=col>Count</th><th scope=col>Hits</th><th scope=col>TotMarkerLength</th><th scope=col>Sample</th></tr>\n",
       "\t<tr><th></th><th scope=col>&lt;chr&gt;</th><th scope=col>&lt;dbl&gt;</th><th scope=col>&lt;int&gt;</th><th scope=col>&lt;int&gt;</th><th scope=col>&lt;chr&gt;</th></tr>\n",
       "</thead>\n",
       "<tbody>\n",
       "\t<tr><th scope=row>1</th><td>AAA26278_1</td><td>0</td><td>0</td><td>242</td><td>AC668</td></tr>\n",
       "\t<tr><th scope=row>2</th><td>AAA62843_1</td><td>0</td><td>0</td><td>300</td><td>AC668</td></tr>\n",
       "\t<tr><th scope=row>3</th><td>AAA62844_1</td><td>0</td><td>0</td><td>300</td><td>AC668</td></tr>\n",
       "\t<tr><th scope=row>4</th><td>AAB33952_1</td><td>0</td><td>0</td><td> 33</td><td>AC668</td></tr>\n",
       "\t<tr><th scope=row>5</th><td>AAB82613_1</td><td>0</td><td>0</td><td>300</td><td>AC668</td></tr>\n",
       "\t<tr><th scope=row>6</th><td>AAC38200_1</td><td>0</td><td>0</td><td>300</td><td>AC668</td></tr>\n",
       "</tbody>\n",
       "</table>\n"
      ],
      "text/latex": [
       "A data.frame: 6 × 5\n",
       "\\begin{tabular}{r|lllll}\n",
       "  & Family & Count & Hits & TotMarkerLength & Sample\\\\\n",
       "  & <chr> & <dbl> & <int> & <int> & <chr>\\\\\n",
       "\\hline\n",
       "\t1 & AAA26278\\_1 & 0 & 0 & 242 & AC668\\\\\n",
       "\t2 & AAA62843\\_1 & 0 & 0 & 300 & AC668\\\\\n",
       "\t3 & AAA62844\\_1 & 0 & 0 & 300 & AC668\\\\\n",
       "\t4 & AAB33952\\_1 & 0 & 0 &  33 & AC668\\\\\n",
       "\t5 & AAB82613\\_1 & 0 & 0 & 300 & AC668\\\\\n",
       "\t6 & AAC38200\\_1 & 0 & 0 & 300 & AC668\\\\\n",
       "\\end{tabular}\n"
      ],
      "text/markdown": [
       "\n",
       "A data.frame: 6 × 5\n",
       "\n",
       "| <!--/--> | Family &lt;chr&gt; | Count &lt;dbl&gt; | Hits &lt;int&gt; | TotMarkerLength &lt;int&gt; | Sample &lt;chr&gt; |\n",
       "|---|---|---|---|---|---|\n",
       "| 1 | AAA26278_1 | 0 | 0 | 242 | AC668 |\n",
       "| 2 | AAA62843_1 | 0 | 0 | 300 | AC668 |\n",
       "| 3 | AAA62844_1 | 0 | 0 | 300 | AC668 |\n",
       "| 4 | AAB33952_1 | 0 | 0 |  33 | AC668 |\n",
       "| 5 | AAB82613_1 | 0 | 0 | 300 | AC668 |\n",
       "| 6 | AAC38200_1 | 0 | 0 | 300 | AC668 |\n",
       "\n"
      ],
      "text/plain": [
       "  Family     Count Hits TotMarkerLength Sample\n",
       "1 AAA26278_1 0     0    242             AC668 \n",
       "2 AAA62843_1 0     0    300             AC668 \n",
       "3 AAA62844_1 0     0    300             AC668 \n",
       "4 AAB33952_1 0     0     33             AC668 \n",
       "5 AAB82613_1 0     0    300             AC668 \n",
       "6 AAC38200_1 0     0    300             AC668 "
      ]
     },
     "metadata": {},
     "output_type": "display_data"
    }
   ],
   "source": [
    "#Define list where lists with sample name will be stored. This vector is empty, will be filled with the loop in next step.\n",
    "vector=1:length(myfiles)\n",
    "myfiles2 = vector(\"list\",length(myfiles)) \n",
    "\n",
    "#Create loop to add sample name to each list\n",
    "for (i in vector) {\n",
    "  myfiles2[[i]]=mutate(myfiles[[i]],Sample=filenamesAmato[i,2]) #En cada posicion de myfiles2 aplicar esta function\n",
    "}\n",
    "\n",
    "head(myfiles2[[5]]) #checkpoint\n",
    "\n",
    "#Create another empty list to store the study name to the above lists\n",
    "amatoSamples = vector(\"list\",length(myfiles2))\n",
    "\n",
    "#Loop to add Study name\n",
    "for (i in vector) {\n",
    "  amatoSamples[[i]]=mutate(myfiles2[[i]],StudyName=\"Amato_2019\")\n",
    "  \n",
    "}\n"
   ]
  },
  {
   "cell_type": "code",
   "execution_count": 27,
   "id": "6746da8b",
   "metadata": {
    "lines_to_next_cell": 0
   },
   "outputs": [],
   "source": [
    "#Store all tables in one big table\n",
    "amatoSamples2=bind_rows(amatoSamples)"
   ]
  },
  {
   "cell_type": "code",
   "execution_count": 28,
   "id": "6f20c950-bdc6-46b8-ac12-d7d8c1b385f1",
   "metadata": {},
   "outputs": [
    {
     "data": {
      "text/html": [
       "<table class=\"dataframe\">\n",
       "<caption>A data.frame: 6 × 6</caption>\n",
       "<thead>\n",
       "\t<tr><th></th><th scope=col>Family</th><th scope=col>Count</th><th scope=col>Hits</th><th scope=col>TotMarkerLength</th><th scope=col>Sample</th><th scope=col>StudyName</th></tr>\n",
       "\t<tr><th></th><th scope=col>&lt;chr&gt;</th><th scope=col>&lt;dbl&gt;</th><th scope=col>&lt;int&gt;</th><th scope=col>&lt;int&gt;</th><th scope=col>&lt;chr&gt;</th><th scope=col>&lt;chr&gt;</th></tr>\n",
       "</thead>\n",
       "<tbody>\n",
       "\t<tr><th scope=row>1</th><td>AAA26278_1</td><td>0</td><td>0</td><td>242</td><td>AC622</td><td>Amato_2019</td></tr>\n",
       "\t<tr><th scope=row>2</th><td>AAA62843_1</td><td>0</td><td>0</td><td>300</td><td>AC622</td><td>Amato_2019</td></tr>\n",
       "\t<tr><th scope=row>3</th><td>AAA62844_1</td><td>0</td><td>0</td><td>300</td><td>AC622</td><td>Amato_2019</td></tr>\n",
       "\t<tr><th scope=row>4</th><td>AAB33952_1</td><td>0</td><td>0</td><td> 33</td><td>AC622</td><td>Amato_2019</td></tr>\n",
       "\t<tr><th scope=row>5</th><td>AAB82613_1</td><td>0</td><td>0</td><td>300</td><td>AC622</td><td>Amato_2019</td></tr>\n",
       "\t<tr><th scope=row>6</th><td>AAC38200_1</td><td>0</td><td>0</td><td>300</td><td>AC622</td><td>Amato_2019</td></tr>\n",
       "</tbody>\n",
       "</table>\n"
      ],
      "text/latex": [
       "A data.frame: 6 × 6\n",
       "\\begin{tabular}{r|llllll}\n",
       "  & Family & Count & Hits & TotMarkerLength & Sample & StudyName\\\\\n",
       "  & <chr> & <dbl> & <int> & <int> & <chr> & <chr>\\\\\n",
       "\\hline\n",
       "\t1 & AAA26278\\_1 & 0 & 0 & 242 & AC622 & Amato\\_2019\\\\\n",
       "\t2 & AAA62843\\_1 & 0 & 0 & 300 & AC622 & Amato\\_2019\\\\\n",
       "\t3 & AAA62844\\_1 & 0 & 0 & 300 & AC622 & Amato\\_2019\\\\\n",
       "\t4 & AAB33952\\_1 & 0 & 0 &  33 & AC622 & Amato\\_2019\\\\\n",
       "\t5 & AAB82613\\_1 & 0 & 0 & 300 & AC622 & Amato\\_2019\\\\\n",
       "\t6 & AAC38200\\_1 & 0 & 0 & 300 & AC622 & Amato\\_2019\\\\\n",
       "\\end{tabular}\n"
      ],
      "text/markdown": [
       "\n",
       "A data.frame: 6 × 6\n",
       "\n",
       "| <!--/--> | Family &lt;chr&gt; | Count &lt;dbl&gt; | Hits &lt;int&gt; | TotMarkerLength &lt;int&gt; | Sample &lt;chr&gt; | StudyName &lt;chr&gt; |\n",
       "|---|---|---|---|---|---|---|\n",
       "| 1 | AAA26278_1 | 0 | 0 | 242 | AC622 | Amato_2019 |\n",
       "| 2 | AAA62843_1 | 0 | 0 | 300 | AC622 | Amato_2019 |\n",
       "| 3 | AAA62844_1 | 0 | 0 | 300 | AC622 | Amato_2019 |\n",
       "| 4 | AAB33952_1 | 0 | 0 |  33 | AC622 | Amato_2019 |\n",
       "| 5 | AAB82613_1 | 0 | 0 | 300 | AC622 | Amato_2019 |\n",
       "| 6 | AAC38200_1 | 0 | 0 | 300 | AC622 | Amato_2019 |\n",
       "\n"
      ],
      "text/plain": [
       "  Family     Count Hits TotMarkerLength Sample StudyName \n",
       "1 AAA26278_1 0     0    242             AC622  Amato_2019\n",
       "2 AAA62843_1 0     0    300             AC622  Amato_2019\n",
       "3 AAA62844_1 0     0    300             AC622  Amato_2019\n",
       "4 AAB33952_1 0     0     33             AC622  Amato_2019\n",
       "5 AAB82613_1 0     0    300             AC622  Amato_2019\n",
       "6 AAC38200_1 0     0    300             AC622  Amato_2019"
      ]
     },
     "metadata": {},
     "output_type": "display_data"
    }
   ],
   "source": [
    "head(amatoSamples2)"
   ]
  },
  {
   "cell_type": "markdown",
   "id": "a71b6a6f-82c7-4d1b-91d9-b5523388afdc",
   "metadata": {},
   "source": [
    "## 2.4. Create the features table\n",
    "Protein family (rows) and samples (columns)"
   ]
  },
  {
   "cell_type": "code",
   "execution_count": 30,
   "id": "7f2ca828-b2b5-44d3-95ac-a949c24e976b",
   "metadata": {},
   "outputs": [],
   "source": [
    "amatoSamples3 = pivot_wider(data=amatoSamples2,id_cols=Family,names_from=Sample,values_from=Count)%>%\n",
    "  mutate(Family=str_replace_all(Family,\"(?<=\\\\d)_\",\".\")) # This regex \"(?<=\\\\d)_\" means every underscore (_)"
   ]
  },
  {
   "cell_type": "code",
   "execution_count": 32,
   "id": "f899967f-a443-4bb6-9182-6faafbf1a5ea",
   "metadata": {},
   "outputs": [
    {
     "data": {
      "text/html": [
       "<table class=\"dataframe\">\n",
       "<caption>A tibble: 6 × 96</caption>\n",
       "<thead>\n",
       "\t<tr><th scope=col>Family</th><th scope=col>AC622</th><th scope=col>AC660</th><th scope=col>AC665</th><th scope=col>AC667</th><th scope=col>AC668</th><th scope=col>Ahyb1000</th><th scope=col>Ahyb135</th><th scope=col>Ahyb257</th><th scope=col>Ahyb401</th><th scope=col>⋯</th><th scope=col>RC2036</th><th scope=col>RC2068</th><th scope=col>RC2071</th><th scope=col>RC2096</th><th scope=col>RC2098</th><th scope=col>RT2013</th><th scope=col>RT2017</th><th scope=col>RT2019</th><th scope=col>RT2021</th><th scope=col>RT2048</th></tr>\n",
       "\t<tr><th scope=col>&lt;chr&gt;</th><th scope=col>&lt;dbl&gt;</th><th scope=col>&lt;dbl&gt;</th><th scope=col>&lt;dbl&gt;</th><th scope=col>&lt;dbl&gt;</th><th scope=col>&lt;dbl&gt;</th><th scope=col>&lt;dbl&gt;</th><th scope=col>&lt;dbl&gt;</th><th scope=col>&lt;dbl&gt;</th><th scope=col>&lt;dbl&gt;</th><th scope=col>⋯</th><th scope=col>&lt;dbl&gt;</th><th scope=col>&lt;dbl&gt;</th><th scope=col>&lt;dbl&gt;</th><th scope=col>&lt;dbl&gt;</th><th scope=col>&lt;dbl&gt;</th><th scope=col>&lt;dbl&gt;</th><th scope=col>&lt;dbl&gt;</th><th scope=col>&lt;dbl&gt;</th><th scope=col>&lt;dbl&gt;</th><th scope=col>&lt;dbl&gt;</th></tr>\n",
       "</thead>\n",
       "<tbody>\n",
       "\t<tr><td>AAA26278.1</td><td>0</td><td>0</td><td>0</td><td>0.00000000</td><td>0</td><td>0.00000000</td><td>0</td><td>0</td><td>0</td><td>⋯</td><td>0</td><td>0</td><td>0.0000000</td><td>0.00000000</td><td>0.0000000</td><td>0</td><td>0</td><td>0</td><td>0</td><td>0</td></tr>\n",
       "\t<tr><td>AAA62843.1</td><td>0</td><td>0</td><td>0</td><td>0.00000000</td><td>0</td><td>0.00000000</td><td>0</td><td>0</td><td>0</td><td>⋯</td><td>0</td><td>0</td><td>0.0000000</td><td>0.00000000</td><td>0.0000000</td><td>0</td><td>0</td><td>0</td><td>0</td><td>0</td></tr>\n",
       "\t<tr><td>AAA62844.1</td><td>0</td><td>0</td><td>0</td><td>0.05403324</td><td>0</td><td>0.05203338</td><td>0</td><td>0</td><td>0</td><td>⋯</td><td>0</td><td>0</td><td>0.1159795</td><td>0.08850892</td><td>0.0000000</td><td>0</td><td>0</td><td>0</td><td>0</td><td>0</td></tr>\n",
       "\t<tr><td>AAB33952.1</td><td>0</td><td>0</td><td>0</td><td>0.00000000</td><td>0</td><td>0.00000000</td><td>0</td><td>0</td><td>0</td><td>⋯</td><td>0</td><td>0</td><td>0.0000000</td><td>0.00000000</td><td>0.0000000</td><td>0</td><td>0</td><td>0</td><td>0</td><td>0</td></tr>\n",
       "\t<tr><td>AAB82613.1</td><td>0</td><td>0</td><td>0</td><td>0.00000000</td><td>0</td><td>0.00000000</td><td>0</td><td>0</td><td>0</td><td>⋯</td><td>0</td><td>0</td><td>0.0000000</td><td>0.00000000</td><td>0.1362072</td><td>0</td><td>0</td><td>0</td><td>0</td><td>0</td></tr>\n",
       "\t<tr><td>AAC38200.1</td><td>0</td><td>0</td><td>0</td><td>0.00000000</td><td>0</td><td>0.00000000</td><td>0</td><td>0</td><td>0</td><td>⋯</td><td>0</td><td>0</td><td>0.0000000</td><td>0.00000000</td><td>0.0000000</td><td>0</td><td>0</td><td>0</td><td>0</td><td>0</td></tr>\n",
       "</tbody>\n",
       "</table>\n"
      ],
      "text/latex": [
       "A tibble: 6 × 96\n",
       "\\begin{tabular}{lllllllllllllllllllll}\n",
       " Family & AC622 & AC660 & AC665 & AC667 & AC668 & Ahyb1000 & Ahyb135 & Ahyb257 & Ahyb401 & ⋯ & RC2036 & RC2068 & RC2071 & RC2096 & RC2098 & RT2013 & RT2017 & RT2019 & RT2021 & RT2048\\\\\n",
       " <chr> & <dbl> & <dbl> & <dbl> & <dbl> & <dbl> & <dbl> & <dbl> & <dbl> & <dbl> & ⋯ & <dbl> & <dbl> & <dbl> & <dbl> & <dbl> & <dbl> & <dbl> & <dbl> & <dbl> & <dbl>\\\\\n",
       "\\hline\n",
       "\t AAA26278.1 & 0 & 0 & 0 & 0.00000000 & 0 & 0.00000000 & 0 & 0 & 0 & ⋯ & 0 & 0 & 0.0000000 & 0.00000000 & 0.0000000 & 0 & 0 & 0 & 0 & 0\\\\\n",
       "\t AAA62843.1 & 0 & 0 & 0 & 0.00000000 & 0 & 0.00000000 & 0 & 0 & 0 & ⋯ & 0 & 0 & 0.0000000 & 0.00000000 & 0.0000000 & 0 & 0 & 0 & 0 & 0\\\\\n",
       "\t AAA62844.1 & 0 & 0 & 0 & 0.05403324 & 0 & 0.05203338 & 0 & 0 & 0 & ⋯ & 0 & 0 & 0.1159795 & 0.08850892 & 0.0000000 & 0 & 0 & 0 & 0 & 0\\\\\n",
       "\t AAB33952.1 & 0 & 0 & 0 & 0.00000000 & 0 & 0.00000000 & 0 & 0 & 0 & ⋯ & 0 & 0 & 0.0000000 & 0.00000000 & 0.0000000 & 0 & 0 & 0 & 0 & 0\\\\\n",
       "\t AAB82613.1 & 0 & 0 & 0 & 0.00000000 & 0 & 0.00000000 & 0 & 0 & 0 & ⋯ & 0 & 0 & 0.0000000 & 0.00000000 & 0.1362072 & 0 & 0 & 0 & 0 & 0\\\\\n",
       "\t AAC38200.1 & 0 & 0 & 0 & 0.00000000 & 0 & 0.00000000 & 0 & 0 & 0 & ⋯ & 0 & 0 & 0.0000000 & 0.00000000 & 0.0000000 & 0 & 0 & 0 & 0 & 0\\\\\n",
       "\\end{tabular}\n"
      ],
      "text/markdown": [
       "\n",
       "A tibble: 6 × 96\n",
       "\n",
       "| Family &lt;chr&gt; | AC622 &lt;dbl&gt; | AC660 &lt;dbl&gt; | AC665 &lt;dbl&gt; | AC667 &lt;dbl&gt; | AC668 &lt;dbl&gt; | Ahyb1000 &lt;dbl&gt; | Ahyb135 &lt;dbl&gt; | Ahyb257 &lt;dbl&gt; | Ahyb401 &lt;dbl&gt; | ⋯ ⋯ | RC2036 &lt;dbl&gt; | RC2068 &lt;dbl&gt; | RC2071 &lt;dbl&gt; | RC2096 &lt;dbl&gt; | RC2098 &lt;dbl&gt; | RT2013 &lt;dbl&gt; | RT2017 &lt;dbl&gt; | RT2019 &lt;dbl&gt; | RT2021 &lt;dbl&gt; | RT2048 &lt;dbl&gt; |\n",
       "|---|---|---|---|---|---|---|---|---|---|---|---|---|---|---|---|---|---|---|---|---|\n",
       "| AAA26278.1 | 0 | 0 | 0 | 0.00000000 | 0 | 0.00000000 | 0 | 0 | 0 | ⋯ | 0 | 0 | 0.0000000 | 0.00000000 | 0.0000000 | 0 | 0 | 0 | 0 | 0 |\n",
       "| AAA62843.1 | 0 | 0 | 0 | 0.00000000 | 0 | 0.00000000 | 0 | 0 | 0 | ⋯ | 0 | 0 | 0.0000000 | 0.00000000 | 0.0000000 | 0 | 0 | 0 | 0 | 0 |\n",
       "| AAA62844.1 | 0 | 0 | 0 | 0.05403324 | 0 | 0.05203338 | 0 | 0 | 0 | ⋯ | 0 | 0 | 0.1159795 | 0.08850892 | 0.0000000 | 0 | 0 | 0 | 0 | 0 |\n",
       "| AAB33952.1 | 0 | 0 | 0 | 0.00000000 | 0 | 0.00000000 | 0 | 0 | 0 | ⋯ | 0 | 0 | 0.0000000 | 0.00000000 | 0.0000000 | 0 | 0 | 0 | 0 | 0 |\n",
       "| AAB82613.1 | 0 | 0 | 0 | 0.00000000 | 0 | 0.00000000 | 0 | 0 | 0 | ⋯ | 0 | 0 | 0.0000000 | 0.00000000 | 0.1362072 | 0 | 0 | 0 | 0 | 0 |\n",
       "| AAC38200.1 | 0 | 0 | 0 | 0.00000000 | 0 | 0.00000000 | 0 | 0 | 0 | ⋯ | 0 | 0 | 0.0000000 | 0.00000000 | 0.0000000 | 0 | 0 | 0 | 0 | 0 |\n",
       "\n"
      ],
      "text/plain": [
       "  Family     AC622 AC660 AC665 AC667      AC668 Ahyb1000   Ahyb135 Ahyb257\n",
       "1 AAA26278.1 0     0     0     0.00000000 0     0.00000000 0       0      \n",
       "2 AAA62843.1 0     0     0     0.00000000 0     0.00000000 0       0      \n",
       "3 AAA62844.1 0     0     0     0.05403324 0     0.05203338 0       0      \n",
       "4 AAB33952.1 0     0     0     0.00000000 0     0.00000000 0       0      \n",
       "5 AAB82613.1 0     0     0     0.00000000 0     0.00000000 0       0      \n",
       "6 AAC38200.1 0     0     0     0.00000000 0     0.00000000 0       0      \n",
       "  Ahyb401 ⋯ RC2036 RC2068 RC2071    RC2096     RC2098    RT2013 RT2017 RT2019\n",
       "1 0       ⋯ 0      0      0.0000000 0.00000000 0.0000000 0      0      0     \n",
       "2 0       ⋯ 0      0      0.0000000 0.00000000 0.0000000 0      0      0     \n",
       "3 0       ⋯ 0      0      0.1159795 0.08850892 0.0000000 0      0      0     \n",
       "4 0       ⋯ 0      0      0.0000000 0.00000000 0.0000000 0      0      0     \n",
       "5 0       ⋯ 0      0      0.0000000 0.00000000 0.1362072 0      0      0     \n",
       "6 0       ⋯ 0      0      0.0000000 0.00000000 0.0000000 0      0      0     \n",
       "  RT2021 RT2048\n",
       "1 0      0     \n",
       "2 0      0     \n",
       "3 0      0     \n",
       "4 0      0     \n",
       "5 0      0     \n",
       "6 0      0     "
      ]
     },
     "metadata": {},
     "output_type": "display_data"
    }
   ],
   "source": [
    "head(amatoSamples3)"
   ]
  },
  {
   "cell_type": "markdown",
   "id": "f8d09984",
   "metadata": {},
   "source": [
    "# 3. Vertebrates dataset \n",
    "    "
   ]
  },
  {
   "cell_type": "markdown",
   "id": "3076504d-d7f2-4892-9df2-2ab26d8f92f1",
   "metadata": {},
   "source": [
    "## 3.1. Import lists"
   ]
  },
  {
   "cell_type": "raw",
   "id": "dfa18d3c-757d-4c1a-9ff4-0e906ede25e8",
   "metadata": {},
   "source": [
    "%%sh\n",
    "wd=/tmp/global2/aborbon/shortbred_quantify/quantify_vertebrates/pcLen30/results_R\n",
    "ls quantify*txt | awk '{print $NF}' > filenames_vert.txt"
   ]
  },
  {
   "cell_type": "code",
   "execution_count": 33,
   "id": "7b9ec4e0",
   "metadata": {},
   "outputs": [],
   "source": [
    "setwd(\"/tmp/global2/aborbon/shortbred_quantify/quantify_vertebrates/pcLen30/results_R\")\n",
    "tmp.vert=list.files(path = \"/tmp/global2/aborbon/shortbred_quantify/quantify_vertebrates/pcLen30/results_R\" ,pattern = \"*.txt\")\n",
    "myfiles.vert = lapply(tmp.vert, read.delim)"
   ]
  },
  {
   "cell_type": "markdown",
   "id": "907913a5",
   "metadata": {
    "lines_to_next_cell": 0
   },
   "source": [
    "## 3.2. Sample names"
   ]
  },
  {
   "cell_type": "code",
   "execution_count": 35,
   "id": "4dfaa0a7",
   "metadata": {},
   "outputs": [],
   "source": [
    "sample.names.vert <- as_tibble(sapply(strsplit(basename(tmp.vert), \"quantify\"), `[`, 2))%>%\n",
    "  filter(!is.na(value))"
   ]
  },
  {
   "cell_type": "code",
   "execution_count": 36,
   "id": "3b8ad9c0-dc13-4aa8-8b09-fc5f716a4499",
   "metadata": {},
   "outputs": [
    {
     "name": "stderr",
     "output_type": "stream",
     "text": [
      "\u001b[1mRows: \u001b[22m\u001b[34m323\u001b[39m \u001b[1mColumns: \u001b[22m\u001b[34m1\u001b[39m\n",
      "\u001b[36m──\u001b[39m \u001b[1mColumn specification\u001b[22m \u001b[36m────────────────────────────────────────────────────────────────────────────────────────────────────────────────────────────────────────────────────────\u001b[39m\n",
      "\u001b[1mDelimiter:\u001b[22m \"\\t\"\n",
      "\u001b[31mchr\u001b[39m (1): X1\n",
      "\n",
      "\u001b[36mℹ\u001b[39m Use `spec()` to retrieve the full column specification for this data.\n",
      "\u001b[36mℹ\u001b[39m Specify the column types or set `show_col_types = FALSE` to quiet this message.\n"
     ]
    }
   ],
   "source": [
    "filenamesVert=read_tsv(\"/tmp/global2/aborbon/shortbred_quantify/quantify_vertebrates/pcLen30/results_R/filenames_vert.tsv\",col_names=F)%>%\n",
    "  cbind(sample.names.vert)%>%\n",
    "  mutate(Sample=str_remove_all(value,\".txt\"),.keep=\"unused\")"
   ]
  },
  {
   "cell_type": "code",
   "execution_count": 37,
   "id": "5e51fd4f-4291-488f-a300-f9329710607e",
   "metadata": {},
   "outputs": [
    {
     "data": {
      "text/html": [
       "<table class=\"dataframe\">\n",
       "<caption>A data.frame: 6 × 2</caption>\n",
       "<thead>\n",
       "\t<tr><th></th><th scope=col>X1</th><th scope=col>Sample</th></tr>\n",
       "\t<tr><th></th><th scope=col>&lt;chr&gt;</th><th scope=col>&lt;chr&gt;</th></tr>\n",
       "</thead>\n",
       "<tbody>\n",
       "\t<tr><th scope=row>1</th><td>quantifyF141_Wood_Sandpiper.txt </td><td>F14_Common_Bream    </td></tr>\n",
       "\t<tr><th scope=row>2</th><td>quantifyF144_Wood_Sandpiper.txt </td><td>F141_Wood_Sandpiper </td></tr>\n",
       "\t<tr><th scope=row>3</th><td>quantifyF14_Common_Bream.txt    </td><td>F144_Wood_Sandpiper </td></tr>\n",
       "\t<tr><th scope=row>4</th><td>quantifyF157a_European_Toad.txt </td><td>F157a_European_Toad </td></tr>\n",
       "\t<tr><th scope=row>5</th><td>quantifyF157b_European_Toad.txt </td><td>F157b_European_Toad </td></tr>\n",
       "\t<tr><th scope=row>6</th><td>quantifyF241_Great_Cormorant.txt</td><td>F241_Great_Cormorant</td></tr>\n",
       "</tbody>\n",
       "</table>\n"
      ],
      "text/latex": [
       "A data.frame: 6 × 2\n",
       "\\begin{tabular}{r|ll}\n",
       "  & X1 & Sample\\\\\n",
       "  & <chr> & <chr>\\\\\n",
       "\\hline\n",
       "\t1 & quantifyF141\\_Wood\\_Sandpiper.txt  & F14\\_Common\\_Bream    \\\\\n",
       "\t2 & quantifyF144\\_Wood\\_Sandpiper.txt  & F141\\_Wood\\_Sandpiper \\\\\n",
       "\t3 & quantifyF14\\_Common\\_Bream.txt     & F144\\_Wood\\_Sandpiper \\\\\n",
       "\t4 & quantifyF157a\\_European\\_Toad.txt  & F157a\\_European\\_Toad \\\\\n",
       "\t5 & quantifyF157b\\_European\\_Toad.txt  & F157b\\_European\\_Toad \\\\\n",
       "\t6 & quantifyF241\\_Great\\_Cormorant.txt & F241\\_Great\\_Cormorant\\\\\n",
       "\\end{tabular}\n"
      ],
      "text/markdown": [
       "\n",
       "A data.frame: 6 × 2\n",
       "\n",
       "| <!--/--> | X1 &lt;chr&gt; | Sample &lt;chr&gt; |\n",
       "|---|---|---|\n",
       "| 1 | quantifyF141_Wood_Sandpiper.txt  | F14_Common_Bream     |\n",
       "| 2 | quantifyF144_Wood_Sandpiper.txt  | F141_Wood_Sandpiper  |\n",
       "| 3 | quantifyF14_Common_Bream.txt     | F144_Wood_Sandpiper  |\n",
       "| 4 | quantifyF157a_European_Toad.txt  | F157a_European_Toad  |\n",
       "| 5 | quantifyF157b_European_Toad.txt  | F157b_European_Toad  |\n",
       "| 6 | quantifyF241_Great_Cormorant.txt | F241_Great_Cormorant |\n",
       "\n"
      ],
      "text/plain": [
       "  X1                               Sample              \n",
       "1 quantifyF141_Wood_Sandpiper.txt  F14_Common_Bream    \n",
       "2 quantifyF144_Wood_Sandpiper.txt  F141_Wood_Sandpiper \n",
       "3 quantifyF14_Common_Bream.txt     F144_Wood_Sandpiper \n",
       "4 quantifyF157a_European_Toad.txt  F157a_European_Toad \n",
       "5 quantifyF157b_European_Toad.txt  F157b_European_Toad \n",
       "6 quantifyF241_Great_Cormorant.txt F241_Great_Cormorant"
      ]
     },
     "metadata": {},
     "output_type": "display_data"
    }
   ],
   "source": [
    "head(filenamesVert)"
   ]
  },
  {
   "cell_type": "markdown",
   "id": "a4539c88",
   "metadata": {
    "lines_to_next_cell": 0
   },
   "source": [
    "#### Checkpoint: Testing that order in both lists match the same samples"
   ]
  },
  {
   "cell_type": "code",
   "execution_count": 39,
   "id": "e508eb3c",
   "metadata": {},
   "outputs": [
    {
     "data": {
      "text/html": [
       "<table class=\"dataframe\">\n",
       "<caption>A data.frame: 6 × 4</caption>\n",
       "<thead>\n",
       "\t<tr><th></th><th scope=col>Family</th><th scope=col>Count</th><th scope=col>Hits</th><th scope=col>TotMarkerLength</th></tr>\n",
       "\t<tr><th></th><th scope=col>&lt;chr&gt;</th><th scope=col>&lt;dbl&gt;</th><th scope=col>&lt;int&gt;</th><th scope=col>&lt;int&gt;</th></tr>\n",
       "</thead>\n",
       "<tbody>\n",
       "\t<tr><th scope=row>1</th><td>AAA26278_1</td><td>0</td><td>0</td><td>242</td></tr>\n",
       "\t<tr><th scope=row>2</th><td>AAA62843_1</td><td>0</td><td>0</td><td>300</td></tr>\n",
       "\t<tr><th scope=row>3</th><td>AAA62844_1</td><td>0</td><td>0</td><td>300</td></tr>\n",
       "\t<tr><th scope=row>4</th><td>AAB33952_1</td><td>0</td><td>0</td><td> 33</td></tr>\n",
       "\t<tr><th scope=row>5</th><td>AAB82613_1</td><td>0</td><td>0</td><td>300</td></tr>\n",
       "\t<tr><th scope=row>6</th><td>AAC38200_1</td><td>0</td><td>0</td><td>300</td></tr>\n",
       "</tbody>\n",
       "</table>\n"
      ],
      "text/latex": [
       "A data.frame: 6 × 4\n",
       "\\begin{tabular}{r|llll}\n",
       "  & Family & Count & Hits & TotMarkerLength\\\\\n",
       "  & <chr> & <dbl> & <int> & <int>\\\\\n",
       "\\hline\n",
       "\t1 & AAA26278\\_1 & 0 & 0 & 242\\\\\n",
       "\t2 & AAA62843\\_1 & 0 & 0 & 300\\\\\n",
       "\t3 & AAA62844\\_1 & 0 & 0 & 300\\\\\n",
       "\t4 & AAB33952\\_1 & 0 & 0 &  33\\\\\n",
       "\t5 & AAB82613\\_1 & 0 & 0 & 300\\\\\n",
       "\t6 & AAC38200\\_1 & 0 & 0 & 300\\\\\n",
       "\\end{tabular}\n"
      ],
      "text/markdown": [
       "\n",
       "A data.frame: 6 × 4\n",
       "\n",
       "| <!--/--> | Family &lt;chr&gt; | Count &lt;dbl&gt; | Hits &lt;int&gt; | TotMarkerLength &lt;int&gt; |\n",
       "|---|---|---|---|---|\n",
       "| 1 | AAA26278_1 | 0 | 0 | 242 |\n",
       "| 2 | AAA62843_1 | 0 | 0 | 300 |\n",
       "| 3 | AAA62844_1 | 0 | 0 | 300 |\n",
       "| 4 | AAB33952_1 | 0 | 0 |  33 |\n",
       "| 5 | AAB82613_1 | 0 | 0 | 300 |\n",
       "| 6 | AAC38200_1 | 0 | 0 | 300 |\n",
       "\n"
      ],
      "text/plain": [
       "  Family     Count Hits TotMarkerLength\n",
       "1 AAA26278_1 0     0    242            \n",
       "2 AAA62843_1 0     0    300            \n",
       "3 AAA62844_1 0     0    300            \n",
       "4 AAB33952_1 0     0     33            \n",
       "5 AAB82613_1 0     0    300            \n",
       "6 AAC38200_1 0     0    300            "
      ]
     },
     "metadata": {},
     "output_type": "display_data"
    }
   ],
   "source": [
    "head(myfiles.vert[[5]])"
   ]
  },
  {
   "cell_type": "code",
   "execution_count": 40,
   "id": "5acfa9ed-5758-4033-86da-36478af42518",
   "metadata": {},
   "outputs": [
    {
     "data": {
      "text/html": [
       "'F157b_European_Toad'"
      ],
      "text/latex": [
       "'F157b\\_European\\_Toad'"
      ],
      "text/markdown": [
       "'F157b_European_Toad'"
      ],
      "text/plain": [
       "[1] \"F157b_European_Toad\""
      ]
     },
     "metadata": {},
     "output_type": "display_data"
    }
   ],
   "source": [
    "head(filenamesVert[5,2])"
   ]
  },
  {
   "cell_type": "markdown",
   "id": "0a861ac0",
   "metadata": {
    "lines_to_next_cell": 0
   },
   "source": [
    "## 3.3. Add a column with sample name and study name to each table in 'tmp' list"
   ]
  },
  {
   "cell_type": "code",
   "execution_count": 42,
   "id": "883bc904",
   "metadata": {},
   "outputs": [
    {
     "data": {
      "text/html": [
       "<table class=\"dataframe\">\n",
       "<caption>A data.frame: 6 × 5</caption>\n",
       "<thead>\n",
       "\t<tr><th></th><th scope=col>Family</th><th scope=col>Count</th><th scope=col>Hits</th><th scope=col>TotMarkerLength</th><th scope=col>Sample</th></tr>\n",
       "\t<tr><th></th><th scope=col>&lt;chr&gt;</th><th scope=col>&lt;dbl&gt;</th><th scope=col>&lt;int&gt;</th><th scope=col>&lt;int&gt;</th><th scope=col>&lt;chr&gt;</th></tr>\n",
       "</thead>\n",
       "<tbody>\n",
       "\t<tr><th scope=row>1</th><td>AAA26278_1</td><td>0.00000000</td><td>0</td><td>242</td><td>F14_Common_Bream</td></tr>\n",
       "\t<tr><th scope=row>2</th><td>AAA62843_1</td><td>0.00000000</td><td>0</td><td>300</td><td>F14_Common_Bream</td></tr>\n",
       "\t<tr><th scope=row>3</th><td>AAA62844_1</td><td>0.01420288</td><td>2</td><td>300</td><td>F14_Common_Bream</td></tr>\n",
       "\t<tr><th scope=row>4</th><td>AAB33952_1</td><td>0.00000000</td><td>0</td><td> 33</td><td>F14_Common_Bream</td></tr>\n",
       "\t<tr><th scope=row>5</th><td>AAB82613_1</td><td>0.00000000</td><td>0</td><td>300</td><td>F14_Common_Bream</td></tr>\n",
       "\t<tr><th scope=row>6</th><td>AAC38200_1</td><td>0.00000000</td><td>0</td><td>300</td><td>F14_Common_Bream</td></tr>\n",
       "</tbody>\n",
       "</table>\n"
      ],
      "text/latex": [
       "A data.frame: 6 × 5\n",
       "\\begin{tabular}{r|lllll}\n",
       "  & Family & Count & Hits & TotMarkerLength & Sample\\\\\n",
       "  & <chr> & <dbl> & <int> & <int> & <chr>\\\\\n",
       "\\hline\n",
       "\t1 & AAA26278\\_1 & 0.00000000 & 0 & 242 & F14\\_Common\\_Bream\\\\\n",
       "\t2 & AAA62843\\_1 & 0.00000000 & 0 & 300 & F14\\_Common\\_Bream\\\\\n",
       "\t3 & AAA62844\\_1 & 0.01420288 & 2 & 300 & F14\\_Common\\_Bream\\\\\n",
       "\t4 & AAB33952\\_1 & 0.00000000 & 0 &  33 & F14\\_Common\\_Bream\\\\\n",
       "\t5 & AAB82613\\_1 & 0.00000000 & 0 & 300 & F14\\_Common\\_Bream\\\\\n",
       "\t6 & AAC38200\\_1 & 0.00000000 & 0 & 300 & F14\\_Common\\_Bream\\\\\n",
       "\\end{tabular}\n"
      ],
      "text/markdown": [
       "\n",
       "A data.frame: 6 × 5\n",
       "\n",
       "| <!--/--> | Family &lt;chr&gt; | Count &lt;dbl&gt; | Hits &lt;int&gt; | TotMarkerLength &lt;int&gt; | Sample &lt;chr&gt; |\n",
       "|---|---|---|---|---|---|\n",
       "| 1 | AAA26278_1 | 0.00000000 | 0 | 242 | F14_Common_Bream |\n",
       "| 2 | AAA62843_1 | 0.00000000 | 0 | 300 | F14_Common_Bream |\n",
       "| 3 | AAA62844_1 | 0.01420288 | 2 | 300 | F14_Common_Bream |\n",
       "| 4 | AAB33952_1 | 0.00000000 | 0 |  33 | F14_Common_Bream |\n",
       "| 5 | AAB82613_1 | 0.00000000 | 0 | 300 | F14_Common_Bream |\n",
       "| 6 | AAC38200_1 | 0.00000000 | 0 | 300 | F14_Common_Bream |\n",
       "\n"
      ],
      "text/plain": [
       "  Family     Count      Hits TotMarkerLength Sample          \n",
       "1 AAA26278_1 0.00000000 0    242             F14_Common_Bream\n",
       "2 AAA62843_1 0.00000000 0    300             F14_Common_Bream\n",
       "3 AAA62844_1 0.01420288 2    300             F14_Common_Bream\n",
       "4 AAB33952_1 0.00000000 0     33             F14_Common_Bream\n",
       "5 AAB82613_1 0.00000000 0    300             F14_Common_Bream\n",
       "6 AAC38200_1 0.00000000 0    300             F14_Common_Bream"
      ]
     },
     "metadata": {},
     "output_type": "display_data"
    },
    {
     "data": {
      "text/html": [
       "<table class=\"dataframe\">\n",
       "<caption>A data.frame: 6 × 6</caption>\n",
       "<thead>\n",
       "\t<tr><th></th><th scope=col>Family</th><th scope=col>Count</th><th scope=col>Hits</th><th scope=col>TotMarkerLength</th><th scope=col>Sample</th><th scope=col>StudyName</th></tr>\n",
       "\t<tr><th></th><th scope=col>&lt;chr&gt;</th><th scope=col>&lt;dbl&gt;</th><th scope=col>&lt;int&gt;</th><th scope=col>&lt;int&gt;</th><th scope=col>&lt;chr&gt;</th><th scope=col>&lt;chr&gt;</th></tr>\n",
       "</thead>\n",
       "<tbody>\n",
       "\t<tr><th scope=row>1</th><td>AAA26278_1</td><td>0.00000000</td><td>0</td><td>242</td><td>F14_Common_Bream</td><td>Vertebrates</td></tr>\n",
       "\t<tr><th scope=row>2</th><td>AAA62843_1</td><td>0.00000000</td><td>0</td><td>300</td><td>F14_Common_Bream</td><td>Vertebrates</td></tr>\n",
       "\t<tr><th scope=row>3</th><td>AAA62844_1</td><td>0.01420288</td><td>2</td><td>300</td><td>F14_Common_Bream</td><td>Vertebrates</td></tr>\n",
       "\t<tr><th scope=row>4</th><td>AAB33952_1</td><td>0.00000000</td><td>0</td><td> 33</td><td>F14_Common_Bream</td><td>Vertebrates</td></tr>\n",
       "\t<tr><th scope=row>5</th><td>AAB82613_1</td><td>0.00000000</td><td>0</td><td>300</td><td>F14_Common_Bream</td><td>Vertebrates</td></tr>\n",
       "\t<tr><th scope=row>6</th><td>AAC38200_1</td><td>0.00000000</td><td>0</td><td>300</td><td>F14_Common_Bream</td><td>Vertebrates</td></tr>\n",
       "</tbody>\n",
       "</table>\n"
      ],
      "text/latex": [
       "A data.frame: 6 × 6\n",
       "\\begin{tabular}{r|llllll}\n",
       "  & Family & Count & Hits & TotMarkerLength & Sample & StudyName\\\\\n",
       "  & <chr> & <dbl> & <int> & <int> & <chr> & <chr>\\\\\n",
       "\\hline\n",
       "\t1 & AAA26278\\_1 & 0.00000000 & 0 & 242 & F14\\_Common\\_Bream & Vertebrates\\\\\n",
       "\t2 & AAA62843\\_1 & 0.00000000 & 0 & 300 & F14\\_Common\\_Bream & Vertebrates\\\\\n",
       "\t3 & AAA62844\\_1 & 0.01420288 & 2 & 300 & F14\\_Common\\_Bream & Vertebrates\\\\\n",
       "\t4 & AAB33952\\_1 & 0.00000000 & 0 &  33 & F14\\_Common\\_Bream & Vertebrates\\\\\n",
       "\t5 & AAB82613\\_1 & 0.00000000 & 0 & 300 & F14\\_Common\\_Bream & Vertebrates\\\\\n",
       "\t6 & AAC38200\\_1 & 0.00000000 & 0 & 300 & F14\\_Common\\_Bream & Vertebrates\\\\\n",
       "\\end{tabular}\n"
      ],
      "text/markdown": [
       "\n",
       "A data.frame: 6 × 6\n",
       "\n",
       "| <!--/--> | Family &lt;chr&gt; | Count &lt;dbl&gt; | Hits &lt;int&gt; | TotMarkerLength &lt;int&gt; | Sample &lt;chr&gt; | StudyName &lt;chr&gt; |\n",
       "|---|---|---|---|---|---|---|\n",
       "| 1 | AAA26278_1 | 0.00000000 | 0 | 242 | F14_Common_Bream | Vertebrates |\n",
       "| 2 | AAA62843_1 | 0.00000000 | 0 | 300 | F14_Common_Bream | Vertebrates |\n",
       "| 3 | AAA62844_1 | 0.01420288 | 2 | 300 | F14_Common_Bream | Vertebrates |\n",
       "| 4 | AAB33952_1 | 0.00000000 | 0 |  33 | F14_Common_Bream | Vertebrates |\n",
       "| 5 | AAB82613_1 | 0.00000000 | 0 | 300 | F14_Common_Bream | Vertebrates |\n",
       "| 6 | AAC38200_1 | 0.00000000 | 0 | 300 | F14_Common_Bream | Vertebrates |\n",
       "\n"
      ],
      "text/plain": [
       "  Family     Count      Hits TotMarkerLength Sample           StudyName  \n",
       "1 AAA26278_1 0.00000000 0    242             F14_Common_Bream Vertebrates\n",
       "2 AAA62843_1 0.00000000 0    300             F14_Common_Bream Vertebrates\n",
       "3 AAA62844_1 0.01420288 2    300             F14_Common_Bream Vertebrates\n",
       "4 AAB33952_1 0.00000000 0     33             F14_Common_Bream Vertebrates\n",
       "5 AAB82613_1 0.00000000 0    300             F14_Common_Bream Vertebrates\n",
       "6 AAC38200_1 0.00000000 0    300             F14_Common_Bream Vertebrates"
      ]
     },
     "metadata": {},
     "output_type": "display_data"
    },
    {
     "data": {
      "text/html": [
       "<table class=\"dataframe\">\n",
       "<caption>A data.frame: 6 × 5</caption>\n",
       "<thead>\n",
       "\t<tr><th></th><th scope=col>Family</th><th scope=col>Count</th><th scope=col>Hits</th><th scope=col>TotMarkerLength</th><th scope=col>Sample</th></tr>\n",
       "\t<tr><th></th><th scope=col>&lt;chr&gt;</th><th scope=col>&lt;dbl&gt;</th><th scope=col>&lt;int&gt;</th><th scope=col>&lt;int&gt;</th><th scope=col>&lt;chr&gt;</th></tr>\n",
       "</thead>\n",
       "<tbody>\n",
       "\t<tr><th scope=row>1</th><td>AAA26278_1</td><td>0.00000000</td><td>0</td><td>242</td><td>F14_Common_Bream</td></tr>\n",
       "\t<tr><th scope=row>2</th><td>AAA62843_1</td><td>0.00000000</td><td>0</td><td>300</td><td>F14_Common_Bream</td></tr>\n",
       "\t<tr><th scope=row>3</th><td>AAA62844_1</td><td>0.01420288</td><td>2</td><td>300</td><td>F14_Common_Bream</td></tr>\n",
       "\t<tr><th scope=row>4</th><td>AAB33952_1</td><td>0.00000000</td><td>0</td><td> 33</td><td>F14_Common_Bream</td></tr>\n",
       "\t<tr><th scope=row>5</th><td>AAB82613_1</td><td>0.00000000</td><td>0</td><td>300</td><td>F14_Common_Bream</td></tr>\n",
       "\t<tr><th scope=row>6</th><td>AAC38200_1</td><td>0.00000000</td><td>0</td><td>300</td><td>F14_Common_Bream</td></tr>\n",
       "</tbody>\n",
       "</table>\n"
      ],
      "text/latex": [
       "A data.frame: 6 × 5\n",
       "\\begin{tabular}{r|lllll}\n",
       "  & Family & Count & Hits & TotMarkerLength & Sample\\\\\n",
       "  & <chr> & <dbl> & <int> & <int> & <chr>\\\\\n",
       "\\hline\n",
       "\t1 & AAA26278\\_1 & 0.00000000 & 0 & 242 & F14\\_Common\\_Bream\\\\\n",
       "\t2 & AAA62843\\_1 & 0.00000000 & 0 & 300 & F14\\_Common\\_Bream\\\\\n",
       "\t3 & AAA62844\\_1 & 0.01420288 & 2 & 300 & F14\\_Common\\_Bream\\\\\n",
       "\t4 & AAB33952\\_1 & 0.00000000 & 0 &  33 & F14\\_Common\\_Bream\\\\\n",
       "\t5 & AAB82613\\_1 & 0.00000000 & 0 & 300 & F14\\_Common\\_Bream\\\\\n",
       "\t6 & AAC38200\\_1 & 0.00000000 & 0 & 300 & F14\\_Common\\_Bream\\\\\n",
       "\\end{tabular}\n"
      ],
      "text/markdown": [
       "\n",
       "A data.frame: 6 × 5\n",
       "\n",
       "| <!--/--> | Family &lt;chr&gt; | Count &lt;dbl&gt; | Hits &lt;int&gt; | TotMarkerLength &lt;int&gt; | Sample &lt;chr&gt; |\n",
       "|---|---|---|---|---|---|\n",
       "| 1 | AAA26278_1 | 0.00000000 | 0 | 242 | F14_Common_Bream |\n",
       "| 2 | AAA62843_1 | 0.00000000 | 0 | 300 | F14_Common_Bream |\n",
       "| 3 | AAA62844_1 | 0.01420288 | 2 | 300 | F14_Common_Bream |\n",
       "| 4 | AAB33952_1 | 0.00000000 | 0 |  33 | F14_Common_Bream |\n",
       "| 5 | AAB82613_1 | 0.00000000 | 0 | 300 | F14_Common_Bream |\n",
       "| 6 | AAC38200_1 | 0.00000000 | 0 | 300 | F14_Common_Bream |\n",
       "\n"
      ],
      "text/plain": [
       "  Family     Count      Hits TotMarkerLength Sample          \n",
       "1 AAA26278_1 0.00000000 0    242             F14_Common_Bream\n",
       "2 AAA62843_1 0.00000000 0    300             F14_Common_Bream\n",
       "3 AAA62844_1 0.01420288 2    300             F14_Common_Bream\n",
       "4 AAB33952_1 0.00000000 0     33             F14_Common_Bream\n",
       "5 AAB82613_1 0.00000000 0    300             F14_Common_Bream\n",
       "6 AAC38200_1 0.00000000 0    300             F14_Common_Bream"
      ]
     },
     "metadata": {},
     "output_type": "display_data"
    }
   ],
   "source": [
    "#Define list where lists with samples name will be stored. This is an empty vector.\n",
    "vector.vert=1:length(myfiles.vert)\n",
    "myfiles2.vert = vector(\"list\",length(myfiles.vert)) \n",
    "\n",
    "#Create loop to add sample name to each list\n",
    "for (i in vector.vert) {\n",
    "  myfiles2.vert[[i]]=mutate(myfiles.vert[[i]],Sample=filenamesVert[i,2]) #En cada posicion de myfiles2 aplicar esta function\n",
    "}\n",
    "\n",
    "head(myfiles2.vert[[1]]) #checkpoint\n",
    "\n",
    "#Create another empty list to store the study name to the above lists\n",
    "VertSamples = vector(\"list\",length(myfiles2.vert))\n",
    "\n",
    "#Loop to add Study name\n",
    "for (i in vector.vert) {\n",
    "  VertSamples[[i]]=mutate(myfiles2.vert[[i]],StudyName=\"Vertebrates\")\n",
    "  \n",
    "}\n",
    "head(VertSamples[[1]])\n",
    "\n",
    "head(myfiles2.vert[[1]])"
   ]
  },
  {
   "cell_type": "markdown",
   "id": "bde41ce5-424c-41f4-aff1-55ca6653aa76",
   "metadata": {},
   "source": [
    "## 3.4. Create the features table\n",
    "Protein family (rows) and samples (columns)"
   ]
  },
  {
   "cell_type": "code",
   "execution_count": 54,
   "id": "10963a44",
   "metadata": {},
   "outputs": [],
   "source": [
    "#Store all tables in one big table\n",
    "VertSamples2=bind_rows(VertSamples)\n",
    "\n",
    "#Create the observations matrix with the protein family (rows) and samples (columns)\n",
    "VertSamples3 = pivot_wider(data=VertSamples2,id_cols=Family,names_from=Sample,values_from=Count)%>%\n",
    "  mutate(Family=str_replace_all(Family,\"(?<=\\\\d)_\",\".\")) # This regex \"(?<=\\\\d)_\" means every underscore (_)"
   ]
  },
  {
   "cell_type": "code",
   "execution_count": 55,
   "id": "d63f5bfc-6dc8-4fe2-a075-e5bbfae6b238",
   "metadata": {},
   "outputs": [
    {
     "data": {
      "text/html": [
       "<table class=\"dataframe\">\n",
       "<caption>A tibble: 6 × 324</caption>\n",
       "<thead>\n",
       "\t<tr><th scope=col>Family</th><th scope=col>F14_Common_Bream</th><th scope=col>F141_Wood_Sandpiper</th><th scope=col>F144_Wood_Sandpiper</th><th scope=col>F157a_European_Toad</th><th scope=col>F157b_European_Toad</th><th scope=col>F241_Great_Cormorant</th><th scope=col>F300_Asp</th><th scope=col>F302_Northern_Pike</th><th scope=col>F315_Northern_Pike</th><th scope=col>⋯</th><th scope=col>X87_Garden_Dormouse</th><th scope=col>X89_Fat_Dormouse</th><th scope=col>X90_Water_Rail</th><th scope=col>X91_Dunnock</th><th scope=col>X92_Lesser_White_toothed_Shrew</th><th scope=col>X93_Red_Sheep</th><th scope=col>X94_Mangalica</th><th scope=col>X95_Meadow_Viper</th><th scope=col>X96_European_Hare</th><th scope=col>X98_Eurasian_Red_Squirrel</th></tr>\n",
       "\t<tr><th scope=col>&lt;chr&gt;</th><th scope=col>&lt;dbl&gt;</th><th scope=col>&lt;dbl&gt;</th><th scope=col>&lt;dbl&gt;</th><th scope=col>&lt;dbl&gt;</th><th scope=col>&lt;dbl&gt;</th><th scope=col>&lt;dbl&gt;</th><th scope=col>&lt;dbl&gt;</th><th scope=col>&lt;dbl&gt;</th><th scope=col>&lt;dbl&gt;</th><th scope=col>⋯</th><th scope=col>&lt;dbl&gt;</th><th scope=col>&lt;dbl&gt;</th><th scope=col>&lt;dbl&gt;</th><th scope=col>&lt;dbl&gt;</th><th scope=col>&lt;dbl&gt;</th><th scope=col>&lt;dbl&gt;</th><th scope=col>&lt;dbl&gt;</th><th scope=col>&lt;dbl&gt;</th><th scope=col>&lt;dbl&gt;</th><th scope=col>&lt;dbl&gt;</th></tr>\n",
       "</thead>\n",
       "<tbody>\n",
       "\t<tr><td>AAA26278.1</td><td>0.00000000</td><td>0</td><td>0</td><td>0</td><td>0</td><td>0</td><td>0</td><td>0</td><td>0</td><td>⋯</td><td>0</td><td>0</td><td>0</td><td>0.00000000</td><td>0</td><td>0</td><td>0</td><td>0</td><td>0</td><td>0</td></tr>\n",
       "\t<tr><td>AAA62843.1</td><td>0.00000000</td><td>0</td><td>0</td><td>0</td><td>0</td><td>0</td><td>0</td><td>0</td><td>0</td><td>⋯</td><td>0</td><td>0</td><td>0</td><td>0.00000000</td><td>0</td><td>0</td><td>0</td><td>0</td><td>0</td><td>0</td></tr>\n",
       "\t<tr><td>AAA62844.1</td><td>0.01420288</td><td>0</td><td>0</td><td>0</td><td>0</td><td>0</td><td>0</td><td>0</td><td>0</td><td>⋯</td><td>0</td><td>0</td><td>0</td><td>0.07660891</td><td>0</td><td>0</td><td>0</td><td>0</td><td>0</td><td>0</td></tr>\n",
       "\t<tr><td>AAB33952.1</td><td>0.00000000</td><td>0</td><td>0</td><td>0</td><td>0</td><td>0</td><td>0</td><td>0</td><td>0</td><td>⋯</td><td>0</td><td>0</td><td>0</td><td>0.00000000</td><td>0</td><td>0</td><td>0</td><td>0</td><td>0</td><td>0</td></tr>\n",
       "\t<tr><td>AAB82613.1</td><td>0.00000000</td><td>0</td><td>0</td><td>0</td><td>0</td><td>0</td><td>0</td><td>0</td><td>0</td><td>⋯</td><td>0</td><td>0</td><td>0</td><td>0.00000000</td><td>0</td><td>0</td><td>0</td><td>0</td><td>0</td><td>0</td></tr>\n",
       "\t<tr><td>AAC38200.1</td><td>0.00000000</td><td>0</td><td>0</td><td>0</td><td>0</td><td>0</td><td>0</td><td>0</td><td>0</td><td>⋯</td><td>0</td><td>0</td><td>0</td><td>0.00000000</td><td>0</td><td>0</td><td>0</td><td>0</td><td>0</td><td>0</td></tr>\n",
       "</tbody>\n",
       "</table>\n"
      ],
      "text/latex": [
       "A tibble: 6 × 324\n",
       "\\begin{tabular}{lllllllllllllllllllll}\n",
       " Family & F14\\_Common\\_Bream & F141\\_Wood\\_Sandpiper & F144\\_Wood\\_Sandpiper & F157a\\_European\\_Toad & F157b\\_European\\_Toad & F241\\_Great\\_Cormorant & F300\\_Asp & F302\\_Northern\\_Pike & F315\\_Northern\\_Pike & ⋯ & X87\\_Garden\\_Dormouse & X89\\_Fat\\_Dormouse & X90\\_Water\\_Rail & X91\\_Dunnock & X92\\_Lesser\\_White\\_toothed\\_Shrew & X93\\_Red\\_Sheep & X94\\_Mangalica & X95\\_Meadow\\_Viper & X96\\_European\\_Hare & X98\\_Eurasian\\_Red\\_Squirrel\\\\\n",
       " <chr> & <dbl> & <dbl> & <dbl> & <dbl> & <dbl> & <dbl> & <dbl> & <dbl> & <dbl> & ⋯ & <dbl> & <dbl> & <dbl> & <dbl> & <dbl> & <dbl> & <dbl> & <dbl> & <dbl> & <dbl>\\\\\n",
       "\\hline\n",
       "\t AAA26278.1 & 0.00000000 & 0 & 0 & 0 & 0 & 0 & 0 & 0 & 0 & ⋯ & 0 & 0 & 0 & 0.00000000 & 0 & 0 & 0 & 0 & 0 & 0\\\\\n",
       "\t AAA62843.1 & 0.00000000 & 0 & 0 & 0 & 0 & 0 & 0 & 0 & 0 & ⋯ & 0 & 0 & 0 & 0.00000000 & 0 & 0 & 0 & 0 & 0 & 0\\\\\n",
       "\t AAA62844.1 & 0.01420288 & 0 & 0 & 0 & 0 & 0 & 0 & 0 & 0 & ⋯ & 0 & 0 & 0 & 0.07660891 & 0 & 0 & 0 & 0 & 0 & 0\\\\\n",
       "\t AAB33952.1 & 0.00000000 & 0 & 0 & 0 & 0 & 0 & 0 & 0 & 0 & ⋯ & 0 & 0 & 0 & 0.00000000 & 0 & 0 & 0 & 0 & 0 & 0\\\\\n",
       "\t AAB82613.1 & 0.00000000 & 0 & 0 & 0 & 0 & 0 & 0 & 0 & 0 & ⋯ & 0 & 0 & 0 & 0.00000000 & 0 & 0 & 0 & 0 & 0 & 0\\\\\n",
       "\t AAC38200.1 & 0.00000000 & 0 & 0 & 0 & 0 & 0 & 0 & 0 & 0 & ⋯ & 0 & 0 & 0 & 0.00000000 & 0 & 0 & 0 & 0 & 0 & 0\\\\\n",
       "\\end{tabular}\n"
      ],
      "text/markdown": [
       "\n",
       "A tibble: 6 × 324\n",
       "\n",
       "| Family &lt;chr&gt; | F14_Common_Bream &lt;dbl&gt; | F141_Wood_Sandpiper &lt;dbl&gt; | F144_Wood_Sandpiper &lt;dbl&gt; | F157a_European_Toad &lt;dbl&gt; | F157b_European_Toad &lt;dbl&gt; | F241_Great_Cormorant &lt;dbl&gt; | F300_Asp &lt;dbl&gt; | F302_Northern_Pike &lt;dbl&gt; | F315_Northern_Pike &lt;dbl&gt; | ⋯ ⋯ | X87_Garden_Dormouse &lt;dbl&gt; | X89_Fat_Dormouse &lt;dbl&gt; | X90_Water_Rail &lt;dbl&gt; | X91_Dunnock &lt;dbl&gt; | X92_Lesser_White_toothed_Shrew &lt;dbl&gt; | X93_Red_Sheep &lt;dbl&gt; | X94_Mangalica &lt;dbl&gt; | X95_Meadow_Viper &lt;dbl&gt; | X96_European_Hare &lt;dbl&gt; | X98_Eurasian_Red_Squirrel &lt;dbl&gt; |\n",
       "|---|---|---|---|---|---|---|---|---|---|---|---|---|---|---|---|---|---|---|---|---|\n",
       "| AAA26278.1 | 0.00000000 | 0 | 0 | 0 | 0 | 0 | 0 | 0 | 0 | ⋯ | 0 | 0 | 0 | 0.00000000 | 0 | 0 | 0 | 0 | 0 | 0 |\n",
       "| AAA62843.1 | 0.00000000 | 0 | 0 | 0 | 0 | 0 | 0 | 0 | 0 | ⋯ | 0 | 0 | 0 | 0.00000000 | 0 | 0 | 0 | 0 | 0 | 0 |\n",
       "| AAA62844.1 | 0.01420288 | 0 | 0 | 0 | 0 | 0 | 0 | 0 | 0 | ⋯ | 0 | 0 | 0 | 0.07660891 | 0 | 0 | 0 | 0 | 0 | 0 |\n",
       "| AAB33952.1 | 0.00000000 | 0 | 0 | 0 | 0 | 0 | 0 | 0 | 0 | ⋯ | 0 | 0 | 0 | 0.00000000 | 0 | 0 | 0 | 0 | 0 | 0 |\n",
       "| AAB82613.1 | 0.00000000 | 0 | 0 | 0 | 0 | 0 | 0 | 0 | 0 | ⋯ | 0 | 0 | 0 | 0.00000000 | 0 | 0 | 0 | 0 | 0 | 0 |\n",
       "| AAC38200.1 | 0.00000000 | 0 | 0 | 0 | 0 | 0 | 0 | 0 | 0 | ⋯ | 0 | 0 | 0 | 0.00000000 | 0 | 0 | 0 | 0 | 0 | 0 |\n",
       "\n"
      ],
      "text/plain": [
       "  Family     F14_Common_Bream F141_Wood_Sandpiper F144_Wood_Sandpiper\n",
       "1 AAA26278.1 0.00000000       0                   0                  \n",
       "2 AAA62843.1 0.00000000       0                   0                  \n",
       "3 AAA62844.1 0.01420288       0                   0                  \n",
       "4 AAB33952.1 0.00000000       0                   0                  \n",
       "5 AAB82613.1 0.00000000       0                   0                  \n",
       "6 AAC38200.1 0.00000000       0                   0                  \n",
       "  F157a_European_Toad F157b_European_Toad F241_Great_Cormorant F300_Asp\n",
       "1 0                   0                   0                    0       \n",
       "2 0                   0                   0                    0       \n",
       "3 0                   0                   0                    0       \n",
       "4 0                   0                   0                    0       \n",
       "5 0                   0                   0                    0       \n",
       "6 0                   0                   0                    0       \n",
       "  F302_Northern_Pike F315_Northern_Pike ⋯ X87_Garden_Dormouse X89_Fat_Dormouse\n",
       "1 0                  0                  ⋯ 0                   0               \n",
       "2 0                  0                  ⋯ 0                   0               \n",
       "3 0                  0                  ⋯ 0                   0               \n",
       "4 0                  0                  ⋯ 0                   0               \n",
       "5 0                  0                  ⋯ 0                   0               \n",
       "6 0                  0                  ⋯ 0                   0               \n",
       "  X90_Water_Rail X91_Dunnock X92_Lesser_White_toothed_Shrew X93_Red_Sheep\n",
       "1 0              0.00000000  0                              0            \n",
       "2 0              0.00000000  0                              0            \n",
       "3 0              0.07660891  0                              0            \n",
       "4 0              0.00000000  0                              0            \n",
       "5 0              0.00000000  0                              0            \n",
       "6 0              0.00000000  0                              0            \n",
       "  X94_Mangalica X95_Meadow_Viper X96_European_Hare X98_Eurasian_Red_Squirrel\n",
       "1 0             0                0                 0                        \n",
       "2 0             0                0                 0                        \n",
       "3 0             0                0                 0                        \n",
       "4 0             0                0                 0                        \n",
       "5 0             0                0                 0                        \n",
       "6 0             0                0                 0                        "
      ]
     },
     "metadata": {},
     "output_type": "display_data"
    }
   ],
   "source": [
    "head(VertSamples3)"
   ]
  },
  {
   "cell_type": "markdown",
   "id": "ab367f9d",
   "metadata": {},
   "source": [
    "# 4. Plants datasets"
   ]
  },
  {
   "cell_type": "markdown",
   "id": "98dc9db0-c285-4e2c-a6be-f63941351f96",
   "metadata": {},
   "source": [
    "## 4.1. Import lists"
   ]
  },
  {
   "cell_type": "raw",
   "id": "fc1aaab0-a7ce-460d-a753-85e9f05fcc4a",
   "metadata": {},
   "source": [
    "%%sh\n",
    "wd=/tmp/global2/aborbon/shortbred_quantify/quantify_plants/pcLen30/results_R\n",
    "ls quantify*txt | awk '{print $NF}' > filenames_plants.txt"
   ]
  },
  {
   "cell_type": "code",
   "execution_count": 43,
   "id": "68d4daa7",
   "metadata": {},
   "outputs": [],
   "source": [
    "setwd(\"/tmp/global2/aborbon/shortbred_quantify/quantify_plants/pcLen30/results_R\")\n",
    "tmp.plants=list.files(path = \"/tmp/global2/aborbon/shortbred_quantify/quantify_plants/pcLen30/results_R\" ,pattern = \"*.txt\")\n",
    "myfiles.plants = lapply(tmp.plants, read.delim)"
   ]
  },
  {
   "cell_type": "markdown",
   "id": "5918a821",
   "metadata": {
    "lines_to_next_cell": 0
   },
   "source": [
    "## 4.2. Sample names"
   ]
  },
  {
   "cell_type": "code",
   "execution_count": 44,
   "id": "60041838",
   "metadata": {},
   "outputs": [],
   "source": [
    "sample.names.plants <- as_tibble(sapply(strsplit(basename(tmp.plants), \"quantify\"), `[`, 2))%>%\n",
    "  filter(!is.na(value))"
   ]
  },
  {
   "cell_type": "code",
   "execution_count": 45,
   "id": "936c5ac2-026b-4468-bbaf-d2d5d277b986",
   "metadata": {},
   "outputs": [
    {
     "name": "stderr",
     "output_type": "stream",
     "text": [
      "\u001b[1mRows: \u001b[22m\u001b[34m104\u001b[39m \u001b[1mColumns: \u001b[22m\u001b[34m1\u001b[39m\n",
      "\u001b[36m──\u001b[39m \u001b[1mColumn specification\u001b[22m \u001b[36m────────────────────────────────────────────────────────────────────────────────────────────────────────────────────────────────────────────────────────\u001b[39m\n",
      "\u001b[1mDelimiter:\u001b[22m \"\\t\"\n",
      "\u001b[31mchr\u001b[39m (1): X1\n",
      "\n",
      "\u001b[36mℹ\u001b[39m Use `spec()` to retrieve the full column specification for this data.\n",
      "\u001b[36mℹ\u001b[39m Specify the column types or set `show_col_types = FALSE` to quiet this message.\n"
     ]
    }
   ],
   "source": [
    "filenamesPlants=read_tsv(\"/tmp/global2/aborbon/shortbred_quantify/quantify_plants/pcLen30/results_R/filenames_plants.tsv\",col_names=F)%>%\n",
    "  cbind(sample.names.plants)%>%\n",
    "  mutate(Sample=str_remove_all(value,\"(?<=\\\\d).txt\"),.keep=\"unused\")"
   ]
  },
  {
   "cell_type": "markdown",
   "id": "f0468fae",
   "metadata": {
    "lines_to_next_cell": 0
   },
   "source": [
    "#### Checkpoint: Testing that order in both lists match the same samples"
   ]
  },
  {
   "cell_type": "code",
   "execution_count": 46,
   "id": "03eb3653",
   "metadata": {},
   "outputs": [
    {
     "data": {
      "text/html": [
       "<table class=\"dataframe\">\n",
       "<caption>A data.frame: 6 × 4</caption>\n",
       "<thead>\n",
       "\t<tr><th></th><th scope=col>Family</th><th scope=col>Count</th><th scope=col>Hits</th><th scope=col>TotMarkerLength</th></tr>\n",
       "\t<tr><th></th><th scope=col>&lt;chr&gt;</th><th scope=col>&lt;dbl&gt;</th><th scope=col>&lt;int&gt;</th><th scope=col>&lt;int&gt;</th></tr>\n",
       "</thead>\n",
       "<tbody>\n",
       "\t<tr><th scope=row>1</th><td>AAA26278_1</td><td>0</td><td>1</td><td>242</td></tr>\n",
       "\t<tr><th scope=row>2</th><td>AAA62843_1</td><td>0</td><td>0</td><td>300</td></tr>\n",
       "\t<tr><th scope=row>3</th><td>AAA62844_1</td><td>0</td><td>0</td><td>300</td></tr>\n",
       "\t<tr><th scope=row>4</th><td>AAB33952_1</td><td>0</td><td>0</td><td> 33</td></tr>\n",
       "\t<tr><th scope=row>5</th><td>AAB82613_1</td><td>0</td><td>0</td><td>300</td></tr>\n",
       "\t<tr><th scope=row>6</th><td>AAC38200_1</td><td>0</td><td>0</td><td>300</td></tr>\n",
       "</tbody>\n",
       "</table>\n"
      ],
      "text/latex": [
       "A data.frame: 6 × 4\n",
       "\\begin{tabular}{r|llll}\n",
       "  & Family & Count & Hits & TotMarkerLength\\\\\n",
       "  & <chr> & <dbl> & <int> & <int>\\\\\n",
       "\\hline\n",
       "\t1 & AAA26278\\_1 & 0 & 1 & 242\\\\\n",
       "\t2 & AAA62843\\_1 & 0 & 0 & 300\\\\\n",
       "\t3 & AAA62844\\_1 & 0 & 0 & 300\\\\\n",
       "\t4 & AAB33952\\_1 & 0 & 0 &  33\\\\\n",
       "\t5 & AAB82613\\_1 & 0 & 0 & 300\\\\\n",
       "\t6 & AAC38200\\_1 & 0 & 0 & 300\\\\\n",
       "\\end{tabular}\n"
      ],
      "text/markdown": [
       "\n",
       "A data.frame: 6 × 4\n",
       "\n",
       "| <!--/--> | Family &lt;chr&gt; | Count &lt;dbl&gt; | Hits &lt;int&gt; | TotMarkerLength &lt;int&gt; |\n",
       "|---|---|---|---|---|\n",
       "| 1 | AAA26278_1 | 0 | 1 | 242 |\n",
       "| 2 | AAA62843_1 | 0 | 0 | 300 |\n",
       "| 3 | AAA62844_1 | 0 | 0 | 300 |\n",
       "| 4 | AAB33952_1 | 0 | 0 |  33 |\n",
       "| 5 | AAB82613_1 | 0 | 0 | 300 |\n",
       "| 6 | AAC38200_1 | 0 | 0 | 300 |\n",
       "\n"
      ],
      "text/plain": [
       "  Family     Count Hits TotMarkerLength\n",
       "1 AAA26278_1 0     1    242            \n",
       "2 AAA62843_1 0     0    300            \n",
       "3 AAA62844_1 0     0    300            \n",
       "4 AAB33952_1 0     0     33            \n",
       "5 AAB82613_1 0     0    300            \n",
       "6 AAC38200_1 0     0    300            "
      ]
     },
     "metadata": {},
     "output_type": "display_data"
    },
    {
     "data": {
      "text/html": [
       "'ERR2114808'"
      ],
      "text/latex": [
       "'ERR2114808'"
      ],
      "text/markdown": [
       "'ERR2114808'"
      ],
      "text/plain": [
       "[1] \"ERR2114808\""
      ]
     },
     "metadata": {},
     "output_type": "display_data"
    }
   ],
   "source": [
    "head(myfiles.plants[[5]])\n",
    "head(filenamesPlants[5,2])"
   ]
  },
  {
   "cell_type": "markdown",
   "id": "ec1cb936",
   "metadata": {
    "lines_to_next_cell": 0
   },
   "source": [
    "## 4.3. Add a column with sample name and study name to each table in tmp list"
   ]
  },
  {
   "cell_type": "code",
   "execution_count": 47,
   "id": "b9547f93",
   "metadata": {},
   "outputs": [
    {
     "data": {
      "text/html": [
       "<table class=\"dataframe\">\n",
       "<caption>A data.frame: 6 × 5</caption>\n",
       "<thead>\n",
       "\t<tr><th></th><th scope=col>Family</th><th scope=col>Count</th><th scope=col>Hits</th><th scope=col>TotMarkerLength</th><th scope=col>Sample</th></tr>\n",
       "\t<tr><th></th><th scope=col>&lt;chr&gt;</th><th scope=col>&lt;dbl&gt;</th><th scope=col>&lt;int&gt;</th><th scope=col>&lt;int&gt;</th><th scope=col>&lt;chr&gt;</th></tr>\n",
       "</thead>\n",
       "<tbody>\n",
       "\t<tr><th scope=row>1</th><td>AAA26278_1</td><td>0</td><td>1</td><td>242</td><td>ERR2114808</td></tr>\n",
       "\t<tr><th scope=row>2</th><td>AAA62843_1</td><td>0</td><td>0</td><td>300</td><td>ERR2114808</td></tr>\n",
       "\t<tr><th scope=row>3</th><td>AAA62844_1</td><td>0</td><td>0</td><td>300</td><td>ERR2114808</td></tr>\n",
       "\t<tr><th scope=row>4</th><td>AAB33952_1</td><td>0</td><td>0</td><td> 33</td><td>ERR2114808</td></tr>\n",
       "\t<tr><th scope=row>5</th><td>AAB82613_1</td><td>0</td><td>0</td><td>300</td><td>ERR2114808</td></tr>\n",
       "\t<tr><th scope=row>6</th><td>AAC38200_1</td><td>0</td><td>0</td><td>300</td><td>ERR2114808</td></tr>\n",
       "</tbody>\n",
       "</table>\n"
      ],
      "text/latex": [
       "A data.frame: 6 × 5\n",
       "\\begin{tabular}{r|lllll}\n",
       "  & Family & Count & Hits & TotMarkerLength & Sample\\\\\n",
       "  & <chr> & <dbl> & <int> & <int> & <chr>\\\\\n",
       "\\hline\n",
       "\t1 & AAA26278\\_1 & 0 & 1 & 242 & ERR2114808\\\\\n",
       "\t2 & AAA62843\\_1 & 0 & 0 & 300 & ERR2114808\\\\\n",
       "\t3 & AAA62844\\_1 & 0 & 0 & 300 & ERR2114808\\\\\n",
       "\t4 & AAB33952\\_1 & 0 & 0 &  33 & ERR2114808\\\\\n",
       "\t5 & AAB82613\\_1 & 0 & 0 & 300 & ERR2114808\\\\\n",
       "\t6 & AAC38200\\_1 & 0 & 0 & 300 & ERR2114808\\\\\n",
       "\\end{tabular}\n"
      ],
      "text/markdown": [
       "\n",
       "A data.frame: 6 × 5\n",
       "\n",
       "| <!--/--> | Family &lt;chr&gt; | Count &lt;dbl&gt; | Hits &lt;int&gt; | TotMarkerLength &lt;int&gt; | Sample &lt;chr&gt; |\n",
       "|---|---|---|---|---|---|\n",
       "| 1 | AAA26278_1 | 0 | 1 | 242 | ERR2114808 |\n",
       "| 2 | AAA62843_1 | 0 | 0 | 300 | ERR2114808 |\n",
       "| 3 | AAA62844_1 | 0 | 0 | 300 | ERR2114808 |\n",
       "| 4 | AAB33952_1 | 0 | 0 |  33 | ERR2114808 |\n",
       "| 5 | AAB82613_1 | 0 | 0 | 300 | ERR2114808 |\n",
       "| 6 | AAC38200_1 | 0 | 0 | 300 | ERR2114808 |\n",
       "\n"
      ],
      "text/plain": [
       "  Family     Count Hits TotMarkerLength Sample    \n",
       "1 AAA26278_1 0     1    242             ERR2114808\n",
       "2 AAA62843_1 0     0    300             ERR2114808\n",
       "3 AAA62844_1 0     0    300             ERR2114808\n",
       "4 AAB33952_1 0     0     33             ERR2114808\n",
       "5 AAB82613_1 0     0    300             ERR2114808\n",
       "6 AAC38200_1 0     0    300             ERR2114808"
      ]
     },
     "metadata": {},
     "output_type": "display_data"
    }
   ],
   "source": [
    "#Define list where lists with sample name will be stored. This is an empty vector\n",
    "vector.plants=1:length(myfiles.plants)\n",
    "myfiles2.plants = vector(\"list\",length(myfiles.plants)) \n",
    "\n",
    "#Create loop to add sample name to each list\n",
    "for (i in vector.plants) {\n",
    "  myfiles2.plants[[i]]=mutate(myfiles.plants[[i]],Sample=filenamesPlants[i,2]) #En cada posicion de myfiles2 aplicar esta function\n",
    "}\n",
    "\n",
    "head(myfiles2.plants[[5]]) #checkpoint\n",
    "\n",
    "#Create another empty list to store the study name to the above lists\n",
    "PlantsSamples = vector(\"list\",length(myfiles2.plants))\n",
    "\n",
    "#Loop to add Study name\n",
    "for (i in vector.plants) {\n",
    "  PlantsSamples[[i]]=mutate(myfiles2.plants[[i]],StudyName=\"Plants\")\n",
    "  \n",
    "}\n"
   ]
  },
  {
   "cell_type": "markdown",
   "id": "ae5b54d2-59bc-4c88-8b33-9daf4d07a7a2",
   "metadata": {},
   "source": [
    "## 4.4. Create features table\n",
    "Protein family (rows) and samples (columns)"
   ]
  },
  {
   "cell_type": "code",
   "execution_count": 48,
   "id": "d828d6e0-fda6-49ed-91b1-7917765b5e80",
   "metadata": {},
   "outputs": [
    {
     "data": {
      "text/html": [
       "<table class=\"dataframe\">\n",
       "<caption>A data.frame: 6 × 6</caption>\n",
       "<thead>\n",
       "\t<tr><th></th><th scope=col>Family</th><th scope=col>Count</th><th scope=col>Hits</th><th scope=col>TotMarkerLength</th><th scope=col>Sample</th><th scope=col>StudyName</th></tr>\n",
       "\t<tr><th></th><th scope=col>&lt;chr&gt;</th><th scope=col>&lt;dbl&gt;</th><th scope=col>&lt;int&gt;</th><th scope=col>&lt;int&gt;</th><th scope=col>&lt;chr&gt;</th><th scope=col>&lt;chr&gt;</th></tr>\n",
       "</thead>\n",
       "<tbody>\n",
       "\t<tr><th scope=row>1</th><td>AAA26278_1</td><td>0</td><td>0</td><td>242</td><td>ERR2114804</td><td>Plants</td></tr>\n",
       "\t<tr><th scope=row>2</th><td>AAA62843_1</td><td>0</td><td>0</td><td>300</td><td>ERR2114804</td><td>Plants</td></tr>\n",
       "\t<tr><th scope=row>3</th><td>AAA62844_1</td><td>0</td><td>0</td><td>300</td><td>ERR2114804</td><td>Plants</td></tr>\n",
       "\t<tr><th scope=row>4</th><td>AAB33952_1</td><td>0</td><td>0</td><td> 33</td><td>ERR2114804</td><td>Plants</td></tr>\n",
       "\t<tr><th scope=row>5</th><td>AAB82613_1</td><td>0</td><td>0</td><td>300</td><td>ERR2114804</td><td>Plants</td></tr>\n",
       "\t<tr><th scope=row>6</th><td>AAC38200_1</td><td>0</td><td>0</td><td>300</td><td>ERR2114804</td><td>Plants</td></tr>\n",
       "</tbody>\n",
       "</table>\n"
      ],
      "text/latex": [
       "A data.frame: 6 × 6\n",
       "\\begin{tabular}{r|llllll}\n",
       "  & Family & Count & Hits & TotMarkerLength & Sample & StudyName\\\\\n",
       "  & <chr> & <dbl> & <int> & <int> & <chr> & <chr>\\\\\n",
       "\\hline\n",
       "\t1 & AAA26278\\_1 & 0 & 0 & 242 & ERR2114804 & Plants\\\\\n",
       "\t2 & AAA62843\\_1 & 0 & 0 & 300 & ERR2114804 & Plants\\\\\n",
       "\t3 & AAA62844\\_1 & 0 & 0 & 300 & ERR2114804 & Plants\\\\\n",
       "\t4 & AAB33952\\_1 & 0 & 0 &  33 & ERR2114804 & Plants\\\\\n",
       "\t5 & AAB82613\\_1 & 0 & 0 & 300 & ERR2114804 & Plants\\\\\n",
       "\t6 & AAC38200\\_1 & 0 & 0 & 300 & ERR2114804 & Plants\\\\\n",
       "\\end{tabular}\n"
      ],
      "text/markdown": [
       "\n",
       "A data.frame: 6 × 6\n",
       "\n",
       "| <!--/--> | Family &lt;chr&gt; | Count &lt;dbl&gt; | Hits &lt;int&gt; | TotMarkerLength &lt;int&gt; | Sample &lt;chr&gt; | StudyName &lt;chr&gt; |\n",
       "|---|---|---|---|---|---|---|\n",
       "| 1 | AAA26278_1 | 0 | 0 | 242 | ERR2114804 | Plants |\n",
       "| 2 | AAA62843_1 | 0 | 0 | 300 | ERR2114804 | Plants |\n",
       "| 3 | AAA62844_1 | 0 | 0 | 300 | ERR2114804 | Plants |\n",
       "| 4 | AAB33952_1 | 0 | 0 |  33 | ERR2114804 | Plants |\n",
       "| 5 | AAB82613_1 | 0 | 0 | 300 | ERR2114804 | Plants |\n",
       "| 6 | AAC38200_1 | 0 | 0 | 300 | ERR2114804 | Plants |\n",
       "\n"
      ],
      "text/plain": [
       "  Family     Count Hits TotMarkerLength Sample     StudyName\n",
       "1 AAA26278_1 0     0    242             ERR2114804 Plants   \n",
       "2 AAA62843_1 0     0    300             ERR2114804 Plants   \n",
       "3 AAA62844_1 0     0    300             ERR2114804 Plants   \n",
       "4 AAB33952_1 0     0     33             ERR2114804 Plants   \n",
       "5 AAB82613_1 0     0    300             ERR2114804 Plants   \n",
       "6 AAC38200_1 0     0    300             ERR2114804 Plants   "
      ]
     },
     "metadata": {},
     "output_type": "display_data"
    }
   ],
   "source": [
    "#Store all tables in one big table\n",
    "PlantsSamples2=bind_rows(PlantsSamples)\n",
    "head(PlantsSamples2)"
   ]
  },
  {
   "cell_type": "code",
   "execution_count": 50,
   "id": "66bb1470",
   "metadata": {},
   "outputs": [],
   "source": [
    "#Create the observations matrix with the protein family (rows) and samples (columns)\n",
    "PlantsSamples3 = pivot_wider(data=PlantsSamples2,id_cols=Family,names_from=Sample,values_from=Count)%>%\n",
    "  mutate(Family=str_replace_all(Family,\"(?<=\\\\d)_\",\".\")) # This regex \"(?<=\\\\d)_\" means every underscore (_)"
   ]
  },
  {
   "cell_type": "code",
   "execution_count": 53,
   "id": "fd6c866a-7812-48c1-8580-c84f733b1299",
   "metadata": {},
   "outputs": [
    {
     "data": {
      "text/html": [
       "<table class=\"dataframe\">\n",
       "<caption>A tibble: 6 × 105</caption>\n",
       "<thead>\n",
       "\t<tr><th scope=col>Family</th><th scope=col>ERR2114804</th><th scope=col>ERR2114805</th><th scope=col>ERR2114806</th><th scope=col>ERR2114807</th><th scope=col>ERR2114808</th><th scope=col>ERR2114809</th><th scope=col>ERR2114810</th><th scope=col>ERR2114811</th><th scope=col>ERR2114812</th><th scope=col>⋯</th><th scope=col>SRR6436017</th><th scope=col>SRR6436020</th><th scope=col>SRR6436021</th><th scope=col>SRR6489859</th><th scope=col>SRR6942504</th><th scope=col>SRR6942514</th><th scope=col>SRR6942518</th><th scope=col>SRR6942519</th><th scope=col>SRR6982567</th><th scope=col>SRR6982699</th></tr>\n",
       "\t<tr><th scope=col>&lt;chr&gt;</th><th scope=col>&lt;dbl&gt;</th><th scope=col>&lt;dbl&gt;</th><th scope=col>&lt;dbl&gt;</th><th scope=col>&lt;dbl&gt;</th><th scope=col>&lt;dbl&gt;</th><th scope=col>&lt;dbl&gt;</th><th scope=col>&lt;dbl&gt;</th><th scope=col>&lt;dbl&gt;</th><th scope=col>&lt;dbl&gt;</th><th scope=col>⋯</th><th scope=col>&lt;dbl&gt;</th><th scope=col>&lt;dbl&gt;</th><th scope=col>&lt;dbl&gt;</th><th scope=col>&lt;dbl&gt;</th><th scope=col>&lt;dbl&gt;</th><th scope=col>&lt;dbl&gt;</th><th scope=col>&lt;dbl&gt;</th><th scope=col>&lt;dbl&gt;</th><th scope=col>&lt;dbl&gt;</th><th scope=col>&lt;dbl&gt;</th></tr>\n",
       "</thead>\n",
       "<tbody>\n",
       "\t<tr><td>AAA26278.1</td><td>0</td><td>0</td><td>0</td><td>0</td><td>0</td><td>0.00000000</td><td>0</td><td>0</td><td>0</td><td>⋯</td><td>0.00000000</td><td>0.00000000</td><td>0.00000000</td><td>0.000000</td><td>0</td><td>0</td><td>0</td><td>0</td><td>0</td><td>0</td></tr>\n",
       "\t<tr><td>AAA62843.1</td><td>0</td><td>0</td><td>0</td><td>0</td><td>0</td><td>0.00000000</td><td>0</td><td>0</td><td>0</td><td>⋯</td><td>0.00000000</td><td>0.00000000</td><td>0.00000000</td><td>0.000000</td><td>0</td><td>0</td><td>0</td><td>0</td><td>0</td><td>0</td></tr>\n",
       "\t<tr><td>AAA62844.1</td><td>0</td><td>0</td><td>0</td><td>0</td><td>0</td><td>0.05395261</td><td>0</td><td>0</td><td>0</td><td>⋯</td><td>0.06688848</td><td>0.04865381</td><td>0.05925485</td><td>0.039522</td><td>0</td><td>0</td><td>0</td><td>0</td><td>0</td><td>0</td></tr>\n",
       "\t<tr><td>AAB33952.1</td><td>0</td><td>0</td><td>0</td><td>0</td><td>0</td><td>0.00000000</td><td>0</td><td>0</td><td>0</td><td>⋯</td><td>0.00000000</td><td>0.00000000</td><td>0.00000000</td><td>0.000000</td><td>0</td><td>0</td><td>0</td><td>0</td><td>0</td><td>0</td></tr>\n",
       "\t<tr><td>AAB82613.1</td><td>0</td><td>0</td><td>0</td><td>0</td><td>0</td><td>0.00000000</td><td>0</td><td>0</td><td>0</td><td>⋯</td><td>0.00000000</td><td>0.00000000</td><td>0.00000000</td><td>0.000000</td><td>0</td><td>0</td><td>0</td><td>0</td><td>0</td><td>0</td></tr>\n",
       "\t<tr><td>AAC38200.1</td><td>0</td><td>0</td><td>0</td><td>0</td><td>0</td><td>0.00000000</td><td>0</td><td>0</td><td>0</td><td>⋯</td><td>0.00000000</td><td>0.00000000</td><td>0.00000000</td><td>0.000000</td><td>0</td><td>0</td><td>0</td><td>0</td><td>0</td><td>0</td></tr>\n",
       "</tbody>\n",
       "</table>\n"
      ],
      "text/latex": [
       "A tibble: 6 × 105\n",
       "\\begin{tabular}{lllllllllllllllllllll}\n",
       " Family & ERR2114804 & ERR2114805 & ERR2114806 & ERR2114807 & ERR2114808 & ERR2114809 & ERR2114810 & ERR2114811 & ERR2114812 & ⋯ & SRR6436017 & SRR6436020 & SRR6436021 & SRR6489859 & SRR6942504 & SRR6942514 & SRR6942518 & SRR6942519 & SRR6982567 & SRR6982699\\\\\n",
       " <chr> & <dbl> & <dbl> & <dbl> & <dbl> & <dbl> & <dbl> & <dbl> & <dbl> & <dbl> & ⋯ & <dbl> & <dbl> & <dbl> & <dbl> & <dbl> & <dbl> & <dbl> & <dbl> & <dbl> & <dbl>\\\\\n",
       "\\hline\n",
       "\t AAA26278.1 & 0 & 0 & 0 & 0 & 0 & 0.00000000 & 0 & 0 & 0 & ⋯ & 0.00000000 & 0.00000000 & 0.00000000 & 0.000000 & 0 & 0 & 0 & 0 & 0 & 0\\\\\n",
       "\t AAA62843.1 & 0 & 0 & 0 & 0 & 0 & 0.00000000 & 0 & 0 & 0 & ⋯ & 0.00000000 & 0.00000000 & 0.00000000 & 0.000000 & 0 & 0 & 0 & 0 & 0 & 0\\\\\n",
       "\t AAA62844.1 & 0 & 0 & 0 & 0 & 0 & 0.05395261 & 0 & 0 & 0 & ⋯ & 0.06688848 & 0.04865381 & 0.05925485 & 0.039522 & 0 & 0 & 0 & 0 & 0 & 0\\\\\n",
       "\t AAB33952.1 & 0 & 0 & 0 & 0 & 0 & 0.00000000 & 0 & 0 & 0 & ⋯ & 0.00000000 & 0.00000000 & 0.00000000 & 0.000000 & 0 & 0 & 0 & 0 & 0 & 0\\\\\n",
       "\t AAB82613.1 & 0 & 0 & 0 & 0 & 0 & 0.00000000 & 0 & 0 & 0 & ⋯ & 0.00000000 & 0.00000000 & 0.00000000 & 0.000000 & 0 & 0 & 0 & 0 & 0 & 0\\\\\n",
       "\t AAC38200.1 & 0 & 0 & 0 & 0 & 0 & 0.00000000 & 0 & 0 & 0 & ⋯ & 0.00000000 & 0.00000000 & 0.00000000 & 0.000000 & 0 & 0 & 0 & 0 & 0 & 0\\\\\n",
       "\\end{tabular}\n"
      ],
      "text/markdown": [
       "\n",
       "A tibble: 6 × 105\n",
       "\n",
       "| Family &lt;chr&gt; | ERR2114804 &lt;dbl&gt; | ERR2114805 &lt;dbl&gt; | ERR2114806 &lt;dbl&gt; | ERR2114807 &lt;dbl&gt; | ERR2114808 &lt;dbl&gt; | ERR2114809 &lt;dbl&gt; | ERR2114810 &lt;dbl&gt; | ERR2114811 &lt;dbl&gt; | ERR2114812 &lt;dbl&gt; | ⋯ ⋯ | SRR6436017 &lt;dbl&gt; | SRR6436020 &lt;dbl&gt; | SRR6436021 &lt;dbl&gt; | SRR6489859 &lt;dbl&gt; | SRR6942504 &lt;dbl&gt; | SRR6942514 &lt;dbl&gt; | SRR6942518 &lt;dbl&gt; | SRR6942519 &lt;dbl&gt; | SRR6982567 &lt;dbl&gt; | SRR6982699 &lt;dbl&gt; |\n",
       "|---|---|---|---|---|---|---|---|---|---|---|---|---|---|---|---|---|---|---|---|---|\n",
       "| AAA26278.1 | 0 | 0 | 0 | 0 | 0 | 0.00000000 | 0 | 0 | 0 | ⋯ | 0.00000000 | 0.00000000 | 0.00000000 | 0.000000 | 0 | 0 | 0 | 0 | 0 | 0 |\n",
       "| AAA62843.1 | 0 | 0 | 0 | 0 | 0 | 0.00000000 | 0 | 0 | 0 | ⋯ | 0.00000000 | 0.00000000 | 0.00000000 | 0.000000 | 0 | 0 | 0 | 0 | 0 | 0 |\n",
       "| AAA62844.1 | 0 | 0 | 0 | 0 | 0 | 0.05395261 | 0 | 0 | 0 | ⋯ | 0.06688848 | 0.04865381 | 0.05925485 | 0.039522 | 0 | 0 | 0 | 0 | 0 | 0 |\n",
       "| AAB33952.1 | 0 | 0 | 0 | 0 | 0 | 0.00000000 | 0 | 0 | 0 | ⋯ | 0.00000000 | 0.00000000 | 0.00000000 | 0.000000 | 0 | 0 | 0 | 0 | 0 | 0 |\n",
       "| AAB82613.1 | 0 | 0 | 0 | 0 | 0 | 0.00000000 | 0 | 0 | 0 | ⋯ | 0.00000000 | 0.00000000 | 0.00000000 | 0.000000 | 0 | 0 | 0 | 0 | 0 | 0 |\n",
       "| AAC38200.1 | 0 | 0 | 0 | 0 | 0 | 0.00000000 | 0 | 0 | 0 | ⋯ | 0.00000000 | 0.00000000 | 0.00000000 | 0.000000 | 0 | 0 | 0 | 0 | 0 | 0 |\n",
       "\n"
      ],
      "text/plain": [
       "  Family     ERR2114804 ERR2114805 ERR2114806 ERR2114807 ERR2114808 ERR2114809\n",
       "1 AAA26278.1 0          0          0          0          0          0.00000000\n",
       "2 AAA62843.1 0          0          0          0          0          0.00000000\n",
       "3 AAA62844.1 0          0          0          0          0          0.05395261\n",
       "4 AAB33952.1 0          0          0          0          0          0.00000000\n",
       "5 AAB82613.1 0          0          0          0          0          0.00000000\n",
       "6 AAC38200.1 0          0          0          0          0          0.00000000\n",
       "  ERR2114810 ERR2114811 ERR2114812 ⋯ SRR6436017 SRR6436020 SRR6436021\n",
       "1 0          0          0          ⋯ 0.00000000 0.00000000 0.00000000\n",
       "2 0          0          0          ⋯ 0.00000000 0.00000000 0.00000000\n",
       "3 0          0          0          ⋯ 0.06688848 0.04865381 0.05925485\n",
       "4 0          0          0          ⋯ 0.00000000 0.00000000 0.00000000\n",
       "5 0          0          0          ⋯ 0.00000000 0.00000000 0.00000000\n",
       "6 0          0          0          ⋯ 0.00000000 0.00000000 0.00000000\n",
       "  SRR6489859 SRR6942504 SRR6942514 SRR6942518 SRR6942519 SRR6982567 SRR6982699\n",
       "1 0.000000   0          0          0          0          0          0         \n",
       "2 0.000000   0          0          0          0          0          0         \n",
       "3 0.039522   0          0          0          0          0          0         \n",
       "4 0.000000   0          0          0          0          0          0         \n",
       "5 0.000000   0          0          0          0          0          0         \n",
       "6 0.000000   0          0          0          0          0          0         "
      ]
     },
     "metadata": {},
     "output_type": "display_data"
    }
   ],
   "source": [
    "head(PlantsSamples3)"
   ]
  },
  {
   "cell_type": "markdown",
   "id": "be4cd2f5",
   "metadata": {
    "lines_to_next_cell": 0
   },
   "source": [
    "# 5. MGnify datasets"
   ]
  },
  {
   "cell_type": "markdown",
   "id": "51219c69-0fff-4507-a716-8053d9af930e",
   "metadata": {},
   "source": [
    "##  5.1. Import lists"
   ]
  },
  {
   "cell_type": "code",
   "execution_count": 58,
   "id": "efd55859",
   "metadata": {},
   "outputs": [],
   "source": [
    "setwd(\"/tmp/global2/aborbon/shortbred_quantify/quantify_mgnify/results_R/\")\n",
    "tmp.mg=list.files(path = \"/tmp/global2/aborbon/shortbred_quantify/quantify_mgnify/results_R/\" ,pattern = \"*.txt\")\n",
    "myfiles.mg = lapply(tmp.mg, read.delim)"
   ]
  },
  {
   "cell_type": "markdown",
   "id": "592a4ac3",
   "metadata": {
    "lines_to_next_cell": 0
   },
   "source": [
    "## 5.2. Sample names"
   ]
  },
  {
   "cell_type": "code",
   "execution_count": 59,
   "id": "041a75c3",
   "metadata": {},
   "outputs": [],
   "source": [
    "sample.names.mg <- as_tibble(sapply(strsplit(basename(tmp.mg), \"quantify\"), `[`, 2))%>%\n",
    "  filter(!is.na(value))"
   ]
  },
  {
   "cell_type": "code",
   "execution_count": 60,
   "id": "e215f680-a286-4fc5-bc86-6d712e4b33f8",
   "metadata": {},
   "outputs": [
    {
     "name": "stderr",
     "output_type": "stream",
     "text": [
      "\u001b[1mRows: \u001b[22m\u001b[34m286\u001b[39m \u001b[1mColumns: \u001b[22m\u001b[34m1\u001b[39m\n",
      "\u001b[36m──\u001b[39m \u001b[1mColumn specification\u001b[22m \u001b[36m────────────────────────────────────────────────────────────────────────────────────────────────────────────────────────────────────────────────────────\u001b[39m\n",
      "\u001b[1mDelimiter:\u001b[22m \"\\t\"\n",
      "\u001b[31mchr\u001b[39m (1): X1\n",
      "\n",
      "\u001b[36mℹ\u001b[39m Use `spec()` to retrieve the full column specification for this data.\n",
      "\u001b[36mℹ\u001b[39m Specify the column types or set `show_col_types = FALSE` to quiet this message.\n"
     ]
    }
   ],
   "source": [
    "filenamesMg=read_tsv(\"/tmp/global2/aborbon/shortbred_quantify/quantify_mgnify/filenames_mgnify.tsv\",col_names=F)%>%\n",
    "  cbind(sample.names.mg)%>%\n",
    "  mutate(Sample=str_remove_all(value,\"(?<=\\\\d).txt\"),.keep=\"unused\")"
   ]
  },
  {
   "cell_type": "markdown",
   "id": "75b30ef9",
   "metadata": {
    "lines_to_next_cell": 0
   },
   "source": [
    "#### SANITY CHECK: Testing that order in both lists match the same samples"
   ]
  },
  {
   "cell_type": "code",
   "execution_count": 61,
   "id": "4f9547e6",
   "metadata": {},
   "outputs": [
    {
     "data": {
      "text/html": [
       "<table class=\"dataframe\">\n",
       "<caption>A data.frame: 6 × 4</caption>\n",
       "<thead>\n",
       "\t<tr><th></th><th scope=col>Family</th><th scope=col>Count</th><th scope=col>Hits</th><th scope=col>TotMarkerLength</th></tr>\n",
       "\t<tr><th></th><th scope=col>&lt;chr&gt;</th><th scope=col>&lt;dbl&gt;</th><th scope=col>&lt;int&gt;</th><th scope=col>&lt;int&gt;</th></tr>\n",
       "</thead>\n",
       "<tbody>\n",
       "\t<tr><th scope=row>1</th><td>AAA26278_1</td><td>0</td><td>0</td><td>242</td></tr>\n",
       "\t<tr><th scope=row>2</th><td>AAA62843_1</td><td>0</td><td>0</td><td>300</td></tr>\n",
       "\t<tr><th scope=row>3</th><td>AAA62844_1</td><td>0</td><td>0</td><td>300</td></tr>\n",
       "\t<tr><th scope=row>4</th><td>AAB33952_1</td><td>0</td><td>0</td><td> 33</td></tr>\n",
       "\t<tr><th scope=row>5</th><td>AAB82613_1</td><td>0</td><td>0</td><td>300</td></tr>\n",
       "\t<tr><th scope=row>6</th><td>AAC38200_1</td><td>0</td><td>0</td><td>300</td></tr>\n",
       "</tbody>\n",
       "</table>\n"
      ],
      "text/latex": [
       "A data.frame: 6 × 4\n",
       "\\begin{tabular}{r|llll}\n",
       "  & Family & Count & Hits & TotMarkerLength\\\\\n",
       "  & <chr> & <dbl> & <int> & <int>\\\\\n",
       "\\hline\n",
       "\t1 & AAA26278\\_1 & 0 & 0 & 242\\\\\n",
       "\t2 & AAA62843\\_1 & 0 & 0 & 300\\\\\n",
       "\t3 & AAA62844\\_1 & 0 & 0 & 300\\\\\n",
       "\t4 & AAB33952\\_1 & 0 & 0 &  33\\\\\n",
       "\t5 & AAB82613\\_1 & 0 & 0 & 300\\\\\n",
       "\t6 & AAC38200\\_1 & 0 & 0 & 300\\\\\n",
       "\\end{tabular}\n"
      ],
      "text/markdown": [
       "\n",
       "A data.frame: 6 × 4\n",
       "\n",
       "| <!--/--> | Family &lt;chr&gt; | Count &lt;dbl&gt; | Hits &lt;int&gt; | TotMarkerLength &lt;int&gt; |\n",
       "|---|---|---|---|---|\n",
       "| 1 | AAA26278_1 | 0 | 0 | 242 |\n",
       "| 2 | AAA62843_1 | 0 | 0 | 300 |\n",
       "| 3 | AAA62844_1 | 0 | 0 | 300 |\n",
       "| 4 | AAB33952_1 | 0 | 0 |  33 |\n",
       "| 5 | AAB82613_1 | 0 | 0 | 300 |\n",
       "| 6 | AAC38200_1 | 0 | 0 | 300 |\n",
       "\n"
      ],
      "text/plain": [
       "  Family     Count Hits TotMarkerLength\n",
       "1 AAA26278_1 0     0    242            \n",
       "2 AAA62843_1 0     0    300            \n",
       "3 AAA62844_1 0     0    300            \n",
       "4 AAB33952_1 0     0     33            \n",
       "5 AAB82613_1 0     0    300            \n",
       "6 AAC38200_1 0     0    300            "
      ]
     },
     "metadata": {},
     "output_type": "display_data"
    },
    {
     "data": {
      "text/html": [
       "'DRS034404'"
      ],
      "text/latex": [
       "'DRS034404'"
      ],
      "text/markdown": [
       "'DRS034404'"
      ],
      "text/plain": [
       "[1] \"DRS034404\""
      ]
     },
     "metadata": {},
     "output_type": "display_data"
    }
   ],
   "source": [
    "head(myfiles.mg[[5]])\n",
    "head(filenamesMg[5,2])"
   ]
  },
  {
   "cell_type": "markdown",
   "id": "a706bda1",
   "metadata": {
    "lines_to_next_cell": 0
   },
   "source": [
    "## 5.3. Add a column with sample name and study name to each table in tmp list"
   ]
  },
  {
   "cell_type": "code",
   "execution_count": 62,
   "id": "976c21de",
   "metadata": {},
   "outputs": [
    {
     "data": {
      "text/html": [
       "<table class=\"dataframe\">\n",
       "<caption>A data.frame: 6 × 5</caption>\n",
       "<thead>\n",
       "\t<tr><th></th><th scope=col>Family</th><th scope=col>Count</th><th scope=col>Hits</th><th scope=col>TotMarkerLength</th><th scope=col>Sample</th></tr>\n",
       "\t<tr><th></th><th scope=col>&lt;chr&gt;</th><th scope=col>&lt;dbl&gt;</th><th scope=col>&lt;int&gt;</th><th scope=col>&lt;int&gt;</th><th scope=col>&lt;chr&gt;</th></tr>\n",
       "</thead>\n",
       "<tbody>\n",
       "\t<tr><th scope=row>1</th><td>AAA26278_1</td><td>0</td><td>0</td><td>242</td><td>DRS034404</td></tr>\n",
       "\t<tr><th scope=row>2</th><td>AAA62843_1</td><td>0</td><td>0</td><td>300</td><td>DRS034404</td></tr>\n",
       "\t<tr><th scope=row>3</th><td>AAA62844_1</td><td>0</td><td>0</td><td>300</td><td>DRS034404</td></tr>\n",
       "\t<tr><th scope=row>4</th><td>AAB33952_1</td><td>0</td><td>0</td><td> 33</td><td>DRS034404</td></tr>\n",
       "\t<tr><th scope=row>5</th><td>AAB82613_1</td><td>0</td><td>0</td><td>300</td><td>DRS034404</td></tr>\n",
       "\t<tr><th scope=row>6</th><td>AAC38200_1</td><td>0</td><td>0</td><td>300</td><td>DRS034404</td></tr>\n",
       "</tbody>\n",
       "</table>\n"
      ],
      "text/latex": [
       "A data.frame: 6 × 5\n",
       "\\begin{tabular}{r|lllll}\n",
       "  & Family & Count & Hits & TotMarkerLength & Sample\\\\\n",
       "  & <chr> & <dbl> & <int> & <int> & <chr>\\\\\n",
       "\\hline\n",
       "\t1 & AAA26278\\_1 & 0 & 0 & 242 & DRS034404\\\\\n",
       "\t2 & AAA62843\\_1 & 0 & 0 & 300 & DRS034404\\\\\n",
       "\t3 & AAA62844\\_1 & 0 & 0 & 300 & DRS034404\\\\\n",
       "\t4 & AAB33952\\_1 & 0 & 0 &  33 & DRS034404\\\\\n",
       "\t5 & AAB82613\\_1 & 0 & 0 & 300 & DRS034404\\\\\n",
       "\t6 & AAC38200\\_1 & 0 & 0 & 300 & DRS034404\\\\\n",
       "\\end{tabular}\n"
      ],
      "text/markdown": [
       "\n",
       "A data.frame: 6 × 5\n",
       "\n",
       "| <!--/--> | Family &lt;chr&gt; | Count &lt;dbl&gt; | Hits &lt;int&gt; | TotMarkerLength &lt;int&gt; | Sample &lt;chr&gt; |\n",
       "|---|---|---|---|---|---|\n",
       "| 1 | AAA26278_1 | 0 | 0 | 242 | DRS034404 |\n",
       "| 2 | AAA62843_1 | 0 | 0 | 300 | DRS034404 |\n",
       "| 3 | AAA62844_1 | 0 | 0 | 300 | DRS034404 |\n",
       "| 4 | AAB33952_1 | 0 | 0 |  33 | DRS034404 |\n",
       "| 5 | AAB82613_1 | 0 | 0 | 300 | DRS034404 |\n",
       "| 6 | AAC38200_1 | 0 | 0 | 300 | DRS034404 |\n",
       "\n"
      ],
      "text/plain": [
       "  Family     Count Hits TotMarkerLength Sample   \n",
       "1 AAA26278_1 0     0    242             DRS034404\n",
       "2 AAA62843_1 0     0    300             DRS034404\n",
       "3 AAA62844_1 0     0    300             DRS034404\n",
       "4 AAB33952_1 0     0     33             DRS034404\n",
       "5 AAB82613_1 0     0    300             DRS034404\n",
       "6 AAC38200_1 0     0    300             DRS034404"
      ]
     },
     "metadata": {},
     "output_type": "display_data"
    },
    {
     "data": {
      "text/html": [
       "<table class=\"dataframe\">\n",
       "<caption>A data.frame: 6 × 6</caption>\n",
       "<thead>\n",
       "\t<tr><th></th><th scope=col>Family</th><th scope=col>Count</th><th scope=col>Hits</th><th scope=col>TotMarkerLength</th><th scope=col>Sample</th><th scope=col>StudyName</th></tr>\n",
       "\t<tr><th></th><th scope=col>&lt;chr&gt;</th><th scope=col>&lt;dbl&gt;</th><th scope=col>&lt;int&gt;</th><th scope=col>&lt;int&gt;</th><th scope=col>&lt;chr&gt;</th><th scope=col>&lt;chr&gt;</th></tr>\n",
       "</thead>\n",
       "<tbody>\n",
       "\t<tr><th scope=row>1</th><td>AAA26278_1</td><td>0</td><td>0</td><td>242</td><td>ERS1579941</td><td>Mgnify</td></tr>\n",
       "\t<tr><th scope=row>2</th><td>AAA62843_1</td><td>0</td><td>0</td><td>300</td><td>ERS1579941</td><td>Mgnify</td></tr>\n",
       "\t<tr><th scope=row>3</th><td>AAA62844_1</td><td>0</td><td>0</td><td>300</td><td>ERS1579941</td><td>Mgnify</td></tr>\n",
       "\t<tr><th scope=row>4</th><td>AAB33952_1</td><td>0</td><td>0</td><td> 33</td><td>ERS1579941</td><td>Mgnify</td></tr>\n",
       "\t<tr><th scope=row>5</th><td>AAB82613_1</td><td>0</td><td>0</td><td>300</td><td>ERS1579941</td><td>Mgnify</td></tr>\n",
       "\t<tr><th scope=row>6</th><td>AAC38200_1</td><td>0</td><td>0</td><td>300</td><td>ERS1579941</td><td>Mgnify</td></tr>\n",
       "</tbody>\n",
       "</table>\n"
      ],
      "text/latex": [
       "A data.frame: 6 × 6\n",
       "\\begin{tabular}{r|llllll}\n",
       "  & Family & Count & Hits & TotMarkerLength & Sample & StudyName\\\\\n",
       "  & <chr> & <dbl> & <int> & <int> & <chr> & <chr>\\\\\n",
       "\\hline\n",
       "\t1 & AAA26278\\_1 & 0 & 0 & 242 & ERS1579941 & Mgnify\\\\\n",
       "\t2 & AAA62843\\_1 & 0 & 0 & 300 & ERS1579941 & Mgnify\\\\\n",
       "\t3 & AAA62844\\_1 & 0 & 0 & 300 & ERS1579941 & Mgnify\\\\\n",
       "\t4 & AAB33952\\_1 & 0 & 0 &  33 & ERS1579941 & Mgnify\\\\\n",
       "\t5 & AAB82613\\_1 & 0 & 0 & 300 & ERS1579941 & Mgnify\\\\\n",
       "\t6 & AAC38200\\_1 & 0 & 0 & 300 & ERS1579941 & Mgnify\\\\\n",
       "\\end{tabular}\n"
      ],
      "text/markdown": [
       "\n",
       "A data.frame: 6 × 6\n",
       "\n",
       "| <!--/--> | Family &lt;chr&gt; | Count &lt;dbl&gt; | Hits &lt;int&gt; | TotMarkerLength &lt;int&gt; | Sample &lt;chr&gt; | StudyName &lt;chr&gt; |\n",
       "|---|---|---|---|---|---|---|\n",
       "| 1 | AAA26278_1 | 0 | 0 | 242 | ERS1579941 | Mgnify |\n",
       "| 2 | AAA62843_1 | 0 | 0 | 300 | ERS1579941 | Mgnify |\n",
       "| 3 | AAA62844_1 | 0 | 0 | 300 | ERS1579941 | Mgnify |\n",
       "| 4 | AAB33952_1 | 0 | 0 |  33 | ERS1579941 | Mgnify |\n",
       "| 5 | AAB82613_1 | 0 | 0 | 300 | ERS1579941 | Mgnify |\n",
       "| 6 | AAC38200_1 | 0 | 0 | 300 | ERS1579941 | Mgnify |\n",
       "\n"
      ],
      "text/plain": [
       "  Family     Count Hits TotMarkerLength Sample     StudyName\n",
       "1 AAA26278_1 0     0    242             ERS1579941 Mgnify   \n",
       "2 AAA62843_1 0     0    300             ERS1579941 Mgnify   \n",
       "3 AAA62844_1 0     0    300             ERS1579941 Mgnify   \n",
       "4 AAB33952_1 0     0     33             ERS1579941 Mgnify   \n",
       "5 AAB82613_1 0     0    300             ERS1579941 Mgnify   \n",
       "6 AAC38200_1 0     0    300             ERS1579941 Mgnify   "
      ]
     },
     "metadata": {},
     "output_type": "display_data"
    }
   ],
   "source": [
    "#Define list where lists with sample name will be stored. This vector is empty, will be filled with the loop in next step.\n",
    "vector.mg=1:length(myfiles.mg)\n",
    "myfiles2.mg = vector(\"list\",length(myfiles.mg)) \n",
    "\n",
    "#Create loop to add sample name to each list\n",
    "for (i in vector.mg) {\n",
    "  myfiles2.mg[[i]]=mutate(myfiles.mg[[i]],Sample=filenamesMg[i,2]) #En cada posicion de myfiles2 aplicar esta function\n",
    "}\n",
    "\n",
    "head(myfiles2.mg[[5]]) #checkpoint\n",
    "\n",
    "#Create another empty list to store the study name to the above lists\n",
    "MgSamples = vector(\"list\",length(myfiles2.mg))\n",
    "\n",
    "#Loop to add Study name\n",
    "for (i in vector.mg) {\n",
    "  MgSamples[[i]]=mutate(myfiles2.mg[[i]],StudyName=\"Mgnify\")\n",
    "  \n",
    "}\n",
    "\n",
    "head(MgSamples[[96]])"
   ]
  },
  {
   "cell_type": "markdown",
   "id": "f94cbc33-340d-4a8e-a983-776486461b22",
   "metadata": {},
   "source": [
    "## 5.4. Create features table\n",
    "Protein family (rows) and samples (columns)"
   ]
  },
  {
   "cell_type": "code",
   "execution_count": 63,
   "id": "a98e0e4d",
   "metadata": {},
   "outputs": [],
   "source": [
    "#Store all tables in one big table\n",
    "MgSamples2=bind_rows(MgSamples)"
   ]
  },
  {
   "cell_type": "code",
   "execution_count": 64,
   "id": "de875d96-b20b-4933-af00-05f354fc0c7f",
   "metadata": {},
   "outputs": [],
   "source": [
    "#Create the observations matrix with the protein family (rows) and samples (columns)\n",
    "MgSamples3 = pivot_wider(data=MgSamples2,id_cols=Family,names_from=Sample,values_from=Count)%>%\n",
    "  mutate(Family=str_replace_all(Family,\"(?<=\\\\d)_\",\".\")) # This regex \"(?<=\\\\d)_\" means every underscore (_)"
   ]
  },
  {
   "cell_type": "code",
   "execution_count": 65,
   "id": "2c174822-13bd-437e-bd7c-516b148466ba",
   "metadata": {},
   "outputs": [
    {
     "data": {
      "text/html": [
       "<table class=\"dataframe\">\n",
       "<caption>A tibble: 6 × 287</caption>\n",
       "<thead>\n",
       "\t<tr><th scope=col>Family</th><th scope=col>DRS034400</th><th scope=col>DRS034401</th><th scope=col>DRS034402</th><th scope=col>DRS034403</th><th scope=col>DRS034404</th><th scope=col>DRS034405</th><th scope=col>ERS1030529</th><th scope=col>ERS1030531</th><th scope=col>ERS1030532</th><th scope=col>⋯</th><th scope=col>SRS697339</th><th scope=col>SRS697340</th><th scope=col>SRS697341</th><th scope=col>SRS697342</th><th scope=col>SRS697346</th><th scope=col>SRS697347</th><th scope=col>SRS697348</th><th scope=col>SRS963313</th><th scope=col>SRS963594</th><th scope=col>SRS963627</th></tr>\n",
       "\t<tr><th scope=col>&lt;chr&gt;</th><th scope=col>&lt;dbl&gt;</th><th scope=col>&lt;dbl&gt;</th><th scope=col>&lt;dbl&gt;</th><th scope=col>&lt;dbl&gt;</th><th scope=col>&lt;dbl&gt;</th><th scope=col>&lt;dbl&gt;</th><th scope=col>&lt;dbl&gt;</th><th scope=col>&lt;dbl&gt;</th><th scope=col>&lt;dbl&gt;</th><th scope=col>⋯</th><th scope=col>&lt;dbl&gt;</th><th scope=col>&lt;dbl&gt;</th><th scope=col>&lt;dbl&gt;</th><th scope=col>&lt;dbl&gt;</th><th scope=col>&lt;dbl&gt;</th><th scope=col>&lt;dbl&gt;</th><th scope=col>&lt;dbl&gt;</th><th scope=col>&lt;dbl&gt;</th><th scope=col>&lt;dbl&gt;</th><th scope=col>&lt;dbl&gt;</th></tr>\n",
       "</thead>\n",
       "<tbody>\n",
       "\t<tr><td>AAA26278.1</td><td>0</td><td>0</td><td>0</td><td>0</td><td>0</td><td>0</td><td>0.0000000</td><td>0.00000000</td><td>0.0000000</td><td>⋯</td><td>0.0000000</td><td>0.00000000</td><td>0.00000000</td><td>0.00000000</td><td>0.00000000</td><td>0.00000000</td><td>0.0000000</td><td>0</td><td>0</td><td>0.00000000</td></tr>\n",
       "\t<tr><td>AAA62843.1</td><td>0</td><td>0</td><td>0</td><td>0</td><td>0</td><td>0</td><td>0.0000000</td><td>0.00000000</td><td>0.0000000</td><td>⋯</td><td>0.0000000</td><td>0.00000000</td><td>0.00000000</td><td>0.00000000</td><td>0.00000000</td><td>0.00000000</td><td>0.0000000</td><td>0</td><td>0</td><td>0.00000000</td></tr>\n",
       "\t<tr><td>AAA62844.1</td><td>0</td><td>0</td><td>0</td><td>0</td><td>0</td><td>0</td><td>0.1333889</td><td>0.04741833</td><td>0.1484504</td><td>⋯</td><td>0.0290513</td><td>0.02566416</td><td>0.07860821</td><td>0.06148927</td><td>0.03277108</td><td>0.06399751</td><td>0.0362305</td><td>0</td><td>0</td><td>0.03910346</td></tr>\n",
       "\t<tr><td>AAB33952.1</td><td>0</td><td>0</td><td>0</td><td>0</td><td>0</td><td>0</td><td>0.0000000</td><td>0.00000000</td><td>0.0000000</td><td>⋯</td><td>0.0000000</td><td>0.00000000</td><td>0.00000000</td><td>0.00000000</td><td>0.00000000</td><td>0.00000000</td><td>0.0000000</td><td>0</td><td>0</td><td>0.00000000</td></tr>\n",
       "\t<tr><td>AAB82613.1</td><td>0</td><td>0</td><td>0</td><td>0</td><td>0</td><td>0</td><td>0.0000000</td><td>0.00000000</td><td>0.0000000</td><td>⋯</td><td>0.0000000</td><td>0.00000000</td><td>0.00000000</td><td>0.00000000</td><td>0.00000000</td><td>0.00000000</td><td>0.0000000</td><td>0</td><td>0</td><td>0.00000000</td></tr>\n",
       "\t<tr><td>AAC38200.1</td><td>0</td><td>0</td><td>0</td><td>0</td><td>0</td><td>0</td><td>0.0000000</td><td>0.00000000</td><td>0.0000000</td><td>⋯</td><td>0.0000000</td><td>0.00000000</td><td>0.00000000</td><td>0.00000000</td><td>0.00000000</td><td>0.00000000</td><td>0.0000000</td><td>0</td><td>0</td><td>0.00000000</td></tr>\n",
       "</tbody>\n",
       "</table>\n"
      ],
      "text/latex": [
       "A tibble: 6 × 287\n",
       "\\begin{tabular}{lllllllllllllllllllll}\n",
       " Family & DRS034400 & DRS034401 & DRS034402 & DRS034403 & DRS034404 & DRS034405 & ERS1030529 & ERS1030531 & ERS1030532 & ⋯ & SRS697339 & SRS697340 & SRS697341 & SRS697342 & SRS697346 & SRS697347 & SRS697348 & SRS963313 & SRS963594 & SRS963627\\\\\n",
       " <chr> & <dbl> & <dbl> & <dbl> & <dbl> & <dbl> & <dbl> & <dbl> & <dbl> & <dbl> & ⋯ & <dbl> & <dbl> & <dbl> & <dbl> & <dbl> & <dbl> & <dbl> & <dbl> & <dbl> & <dbl>\\\\\n",
       "\\hline\n",
       "\t AAA26278.1 & 0 & 0 & 0 & 0 & 0 & 0 & 0.0000000 & 0.00000000 & 0.0000000 & ⋯ & 0.0000000 & 0.00000000 & 0.00000000 & 0.00000000 & 0.00000000 & 0.00000000 & 0.0000000 & 0 & 0 & 0.00000000\\\\\n",
       "\t AAA62843.1 & 0 & 0 & 0 & 0 & 0 & 0 & 0.0000000 & 0.00000000 & 0.0000000 & ⋯ & 0.0000000 & 0.00000000 & 0.00000000 & 0.00000000 & 0.00000000 & 0.00000000 & 0.0000000 & 0 & 0 & 0.00000000\\\\\n",
       "\t AAA62844.1 & 0 & 0 & 0 & 0 & 0 & 0 & 0.1333889 & 0.04741833 & 0.1484504 & ⋯ & 0.0290513 & 0.02566416 & 0.07860821 & 0.06148927 & 0.03277108 & 0.06399751 & 0.0362305 & 0 & 0 & 0.03910346\\\\\n",
       "\t AAB33952.1 & 0 & 0 & 0 & 0 & 0 & 0 & 0.0000000 & 0.00000000 & 0.0000000 & ⋯ & 0.0000000 & 0.00000000 & 0.00000000 & 0.00000000 & 0.00000000 & 0.00000000 & 0.0000000 & 0 & 0 & 0.00000000\\\\\n",
       "\t AAB82613.1 & 0 & 0 & 0 & 0 & 0 & 0 & 0.0000000 & 0.00000000 & 0.0000000 & ⋯ & 0.0000000 & 0.00000000 & 0.00000000 & 0.00000000 & 0.00000000 & 0.00000000 & 0.0000000 & 0 & 0 & 0.00000000\\\\\n",
       "\t AAC38200.1 & 0 & 0 & 0 & 0 & 0 & 0 & 0.0000000 & 0.00000000 & 0.0000000 & ⋯ & 0.0000000 & 0.00000000 & 0.00000000 & 0.00000000 & 0.00000000 & 0.00000000 & 0.0000000 & 0 & 0 & 0.00000000\\\\\n",
       "\\end{tabular}\n"
      ],
      "text/markdown": [
       "\n",
       "A tibble: 6 × 287\n",
       "\n",
       "| Family &lt;chr&gt; | DRS034400 &lt;dbl&gt; | DRS034401 &lt;dbl&gt; | DRS034402 &lt;dbl&gt; | DRS034403 &lt;dbl&gt; | DRS034404 &lt;dbl&gt; | DRS034405 &lt;dbl&gt; | ERS1030529 &lt;dbl&gt; | ERS1030531 &lt;dbl&gt; | ERS1030532 &lt;dbl&gt; | ⋯ ⋯ | SRS697339 &lt;dbl&gt; | SRS697340 &lt;dbl&gt; | SRS697341 &lt;dbl&gt; | SRS697342 &lt;dbl&gt; | SRS697346 &lt;dbl&gt; | SRS697347 &lt;dbl&gt; | SRS697348 &lt;dbl&gt; | SRS963313 &lt;dbl&gt; | SRS963594 &lt;dbl&gt; | SRS963627 &lt;dbl&gt; |\n",
       "|---|---|---|---|---|---|---|---|---|---|---|---|---|---|---|---|---|---|---|---|---|\n",
       "| AAA26278.1 | 0 | 0 | 0 | 0 | 0 | 0 | 0.0000000 | 0.00000000 | 0.0000000 | ⋯ | 0.0000000 | 0.00000000 | 0.00000000 | 0.00000000 | 0.00000000 | 0.00000000 | 0.0000000 | 0 | 0 | 0.00000000 |\n",
       "| AAA62843.1 | 0 | 0 | 0 | 0 | 0 | 0 | 0.0000000 | 0.00000000 | 0.0000000 | ⋯ | 0.0000000 | 0.00000000 | 0.00000000 | 0.00000000 | 0.00000000 | 0.00000000 | 0.0000000 | 0 | 0 | 0.00000000 |\n",
       "| AAA62844.1 | 0 | 0 | 0 | 0 | 0 | 0 | 0.1333889 | 0.04741833 | 0.1484504 | ⋯ | 0.0290513 | 0.02566416 | 0.07860821 | 0.06148927 | 0.03277108 | 0.06399751 | 0.0362305 | 0 | 0 | 0.03910346 |\n",
       "| AAB33952.1 | 0 | 0 | 0 | 0 | 0 | 0 | 0.0000000 | 0.00000000 | 0.0000000 | ⋯ | 0.0000000 | 0.00000000 | 0.00000000 | 0.00000000 | 0.00000000 | 0.00000000 | 0.0000000 | 0 | 0 | 0.00000000 |\n",
       "| AAB82613.1 | 0 | 0 | 0 | 0 | 0 | 0 | 0.0000000 | 0.00000000 | 0.0000000 | ⋯ | 0.0000000 | 0.00000000 | 0.00000000 | 0.00000000 | 0.00000000 | 0.00000000 | 0.0000000 | 0 | 0 | 0.00000000 |\n",
       "| AAC38200.1 | 0 | 0 | 0 | 0 | 0 | 0 | 0.0000000 | 0.00000000 | 0.0000000 | ⋯ | 0.0000000 | 0.00000000 | 0.00000000 | 0.00000000 | 0.00000000 | 0.00000000 | 0.0000000 | 0 | 0 | 0.00000000 |\n",
       "\n"
      ],
      "text/plain": [
       "  Family     DRS034400 DRS034401 DRS034402 DRS034403 DRS034404 DRS034405\n",
       "1 AAA26278.1 0         0         0         0         0         0        \n",
       "2 AAA62843.1 0         0         0         0         0         0        \n",
       "3 AAA62844.1 0         0         0         0         0         0        \n",
       "4 AAB33952.1 0         0         0         0         0         0        \n",
       "5 AAB82613.1 0         0         0         0         0         0        \n",
       "6 AAC38200.1 0         0         0         0         0         0        \n",
       "  ERS1030529 ERS1030531 ERS1030532 ⋯ SRS697339 SRS697340  SRS697341  SRS697342 \n",
       "1 0.0000000  0.00000000 0.0000000  ⋯ 0.0000000 0.00000000 0.00000000 0.00000000\n",
       "2 0.0000000  0.00000000 0.0000000  ⋯ 0.0000000 0.00000000 0.00000000 0.00000000\n",
       "3 0.1333889  0.04741833 0.1484504  ⋯ 0.0290513 0.02566416 0.07860821 0.06148927\n",
       "4 0.0000000  0.00000000 0.0000000  ⋯ 0.0000000 0.00000000 0.00000000 0.00000000\n",
       "5 0.0000000  0.00000000 0.0000000  ⋯ 0.0000000 0.00000000 0.00000000 0.00000000\n",
       "6 0.0000000  0.00000000 0.0000000  ⋯ 0.0000000 0.00000000 0.00000000 0.00000000\n",
       "  SRS697346  SRS697347  SRS697348 SRS963313 SRS963594 SRS963627 \n",
       "1 0.00000000 0.00000000 0.0000000 0         0         0.00000000\n",
       "2 0.00000000 0.00000000 0.0000000 0         0         0.00000000\n",
       "3 0.03277108 0.06399751 0.0362305 0         0         0.03910346\n",
       "4 0.00000000 0.00000000 0.0000000 0         0         0.00000000\n",
       "5 0.00000000 0.00000000 0.0000000 0         0         0.00000000\n",
       "6 0.00000000 0.00000000 0.0000000 0         0         0.00000000"
      ]
     },
     "metadata": {},
     "output_type": "display_data"
    }
   ],
   "source": [
    "head(MgSamples3)"
   ]
  },
  {
   "cell_type": "markdown",
   "id": "3f17014d",
   "metadata": {},
   "source": [
    "# 6. Create final features table\n",
    "This table includes all datasets"
   ]
  },
  {
   "cell_type": "code",
   "execution_count": 141,
   "id": "72cbc1ef-2597-4902-9bf2-09a7a55104e0",
   "metadata": {},
   "outputs": [],
   "source": [
    "AllSamples2=bind_rows(MgSamples2,VertSamples2,amatoSamples2,PlantsSamples2,MuehlSamples2)\n",
    "AllSamples2[is.na(AllSamples2)] <- 0 #Replace NAs wth 0 \n",
    "#AllSamples2_sub=distinct(AllSamples2,Sample,.keep_all=T)"
   ]
  },
  {
   "cell_type": "code",
   "execution_count": 142,
   "id": "2d05f1a2-d0ed-4e36-9710-0227a943216a",
   "metadata": {},
   "outputs": [
    {
     "data": {
      "text/html": [
       "<table class=\"dataframe\">\n",
       "<caption>A data.frame: 6 × 6</caption>\n",
       "<thead>\n",
       "\t<tr><th></th><th scope=col>Family</th><th scope=col>Count</th><th scope=col>Hits</th><th scope=col>TotMarkerLength</th><th scope=col>Sample</th><th scope=col>StudyName</th></tr>\n",
       "\t<tr><th></th><th scope=col>&lt;chr&gt;</th><th scope=col>&lt;dbl&gt;</th><th scope=col>&lt;dbl&gt;</th><th scope=col>&lt;dbl&gt;</th><th scope=col>&lt;chr&gt;</th><th scope=col>&lt;chr&gt;</th></tr>\n",
       "</thead>\n",
       "<tbody>\n",
       "\t<tr><th scope=row>1</th><td>AAA26278_1</td><td>0</td><td>0</td><td>242</td><td>DRS034400</td><td>Mgnify</td></tr>\n",
       "\t<tr><th scope=row>2</th><td>AAA62843_1</td><td>0</td><td>0</td><td>300</td><td>DRS034400</td><td>Mgnify</td></tr>\n",
       "\t<tr><th scope=row>3</th><td>AAA62844_1</td><td>0</td><td>0</td><td>300</td><td>DRS034400</td><td>Mgnify</td></tr>\n",
       "\t<tr><th scope=row>4</th><td>AAB33952_1</td><td>0</td><td>0</td><td> 33</td><td>DRS034400</td><td>Mgnify</td></tr>\n",
       "\t<tr><th scope=row>5</th><td>AAB82613_1</td><td>0</td><td>0</td><td>300</td><td>DRS034400</td><td>Mgnify</td></tr>\n",
       "\t<tr><th scope=row>6</th><td>AAC38200_1</td><td>0</td><td>0</td><td>300</td><td>DRS034400</td><td>Mgnify</td></tr>\n",
       "</tbody>\n",
       "</table>\n"
      ],
      "text/latex": [
       "A data.frame: 6 × 6\n",
       "\\begin{tabular}{r|llllll}\n",
       "  & Family & Count & Hits & TotMarkerLength & Sample & StudyName\\\\\n",
       "  & <chr> & <dbl> & <dbl> & <dbl> & <chr> & <chr>\\\\\n",
       "\\hline\n",
       "\t1 & AAA26278\\_1 & 0 & 0 & 242 & DRS034400 & Mgnify\\\\\n",
       "\t2 & AAA62843\\_1 & 0 & 0 & 300 & DRS034400 & Mgnify\\\\\n",
       "\t3 & AAA62844\\_1 & 0 & 0 & 300 & DRS034400 & Mgnify\\\\\n",
       "\t4 & AAB33952\\_1 & 0 & 0 &  33 & DRS034400 & Mgnify\\\\\n",
       "\t5 & AAB82613\\_1 & 0 & 0 & 300 & DRS034400 & Mgnify\\\\\n",
       "\t6 & AAC38200\\_1 & 0 & 0 & 300 & DRS034400 & Mgnify\\\\\n",
       "\\end{tabular}\n"
      ],
      "text/markdown": [
       "\n",
       "A data.frame: 6 × 6\n",
       "\n",
       "| <!--/--> | Family &lt;chr&gt; | Count &lt;dbl&gt; | Hits &lt;dbl&gt; | TotMarkerLength &lt;dbl&gt; | Sample &lt;chr&gt; | StudyName &lt;chr&gt; |\n",
       "|---|---|---|---|---|---|---|\n",
       "| 1 | AAA26278_1 | 0 | 0 | 242 | DRS034400 | Mgnify |\n",
       "| 2 | AAA62843_1 | 0 | 0 | 300 | DRS034400 | Mgnify |\n",
       "| 3 | AAA62844_1 | 0 | 0 | 300 | DRS034400 | Mgnify |\n",
       "| 4 | AAB33952_1 | 0 | 0 |  33 | DRS034400 | Mgnify |\n",
       "| 5 | AAB82613_1 | 0 | 0 | 300 | DRS034400 | Mgnify |\n",
       "| 6 | AAC38200_1 | 0 | 0 | 300 | DRS034400 | Mgnify |\n",
       "\n"
      ],
      "text/plain": [
       "  Family     Count Hits TotMarkerLength Sample    StudyName\n",
       "1 AAA26278_1 0     0    242             DRS034400 Mgnify   \n",
       "2 AAA62843_1 0     0    300             DRS034400 Mgnify   \n",
       "3 AAA62844_1 0     0    300             DRS034400 Mgnify   \n",
       "4 AAB33952_1 0     0     33             DRS034400 Mgnify   \n",
       "5 AAB82613_1 0     0    300             DRS034400 Mgnify   \n",
       "6 AAC38200_1 0     0    300             DRS034400 Mgnify   "
      ]
     },
     "metadata": {},
     "output_type": "display_data"
    }
   ],
   "source": [
    "head(AllSamples2)"
   ]
  },
  {
   "cell_type": "markdown",
   "id": "90db0e1b-113c-49a5-90e6-79e28bed3c7a",
   "metadata": {},
   "source": [
    "## 6.1. Final features table - RPKM (dbl)"
   ]
  },
  {
   "cell_type": "code",
   "execution_count": 72,
   "id": "faed3306",
   "metadata": {},
   "outputs": [],
   "source": [
    "AllSamples3=pivot_wider(data=AllSamples2,id_cols=Family,names_from=Sample,values_from=Count)%>%\n",
    "  mutate(Family=str_replace_all(Family,\"(?<=\\\\d)_\",\".\")) # This regex \"(?<=\\\\d)_\" means every underscore (_)"
   ]
  },
  {
   "cell_type": "code",
   "execution_count": 73,
   "id": "8340a238-cdac-4050-a7a5-e6bf4f637278",
   "metadata": {},
   "outputs": [
    {
     "data": {
      "text/html": [
       "<table class=\"dataframe\">\n",
       "<caption>A tibble: 6 × 828</caption>\n",
       "<thead>\n",
       "\t<tr><th scope=col>Family</th><th scope=col>DRS034400</th><th scope=col>DRS034401</th><th scope=col>DRS034402</th><th scope=col>DRS034403</th><th scope=col>DRS034404</th><th scope=col>DRS034405</th><th scope=col>ERS1030529</th><th scope=col>ERS1030531</th><th scope=col>ERS1030532</th><th scope=col>⋯</th><th scope=col>36UNCULTURED_S10</th><th scope=col>400UNCULTURED_S11</th><th scope=col>40UNCULTURED_S15</th><th scope=col>4UNCULTURED_S2</th><th scope=col>500UNCULTURED_S13</th><th scope=col>8UNCULTURED_S5</th><th scope=col>lucaAR31_S16</th><th scope=col>lucaAR32_S17</th><th scope=col>lucaAR33_S18</th><th scope=col>lucaAR34_S19</th></tr>\n",
       "\t<tr><th scope=col>&lt;chr&gt;</th><th scope=col>&lt;dbl&gt;</th><th scope=col>&lt;dbl&gt;</th><th scope=col>&lt;dbl&gt;</th><th scope=col>&lt;dbl&gt;</th><th scope=col>&lt;dbl&gt;</th><th scope=col>&lt;dbl&gt;</th><th scope=col>&lt;dbl&gt;</th><th scope=col>&lt;dbl&gt;</th><th scope=col>&lt;dbl&gt;</th><th scope=col>⋯</th><th scope=col>&lt;dbl&gt;</th><th scope=col>&lt;dbl&gt;</th><th scope=col>&lt;dbl&gt;</th><th scope=col>&lt;dbl&gt;</th><th scope=col>&lt;dbl&gt;</th><th scope=col>&lt;dbl&gt;</th><th scope=col>&lt;dbl&gt;</th><th scope=col>&lt;dbl&gt;</th><th scope=col>&lt;dbl&gt;</th><th scope=col>&lt;dbl&gt;</th></tr>\n",
       "</thead>\n",
       "<tbody>\n",
       "\t<tr><td>AAA26278.1</td><td>0</td><td>0</td><td>0</td><td>0</td><td>0</td><td>0</td><td>0.0000000</td><td>0.00000000</td><td>0.0000000</td><td>⋯</td><td>0</td><td>0.00000000</td><td>0</td><td>0</td><td>0</td><td>0</td><td>0.00000000</td><td>0</td><td>0</td><td>0</td></tr>\n",
       "\t<tr><td>AAA62843.1</td><td>0</td><td>0</td><td>0</td><td>0</td><td>0</td><td>0</td><td>0.0000000</td><td>0.00000000</td><td>0.0000000</td><td>⋯</td><td>0</td><td>0.00000000</td><td>0</td><td>0</td><td>0</td><td>0</td><td>0.00000000</td><td>0</td><td>0</td><td>0</td></tr>\n",
       "\t<tr><td>AAA62844.1</td><td>0</td><td>0</td><td>0</td><td>0</td><td>0</td><td>0</td><td>0.1333889</td><td>0.04741833</td><td>0.1484504</td><td>⋯</td><td>0</td><td>0.05441838</td><td>0</td><td>0</td><td>0</td><td>0</td><td>0.02146873</td><td>0</td><td>0</td><td>0</td></tr>\n",
       "\t<tr><td>AAB33952.1</td><td>0</td><td>0</td><td>0</td><td>0</td><td>0</td><td>0</td><td>0.0000000</td><td>0.00000000</td><td>0.0000000</td><td>⋯</td><td>0</td><td>0.00000000</td><td>0</td><td>0</td><td>0</td><td>0</td><td>0.00000000</td><td>0</td><td>0</td><td>0</td></tr>\n",
       "\t<tr><td>AAB82613.1</td><td>0</td><td>0</td><td>0</td><td>0</td><td>0</td><td>0</td><td>0.0000000</td><td>0.00000000</td><td>0.0000000</td><td>⋯</td><td>0</td><td>0.00000000</td><td>0</td><td>0</td><td>0</td><td>0</td><td>0.00000000</td><td>0</td><td>0</td><td>0</td></tr>\n",
       "\t<tr><td>AAC38200.1</td><td>0</td><td>0</td><td>0</td><td>0</td><td>0</td><td>0</td><td>0.0000000</td><td>0.00000000</td><td>0.0000000</td><td>⋯</td><td>0</td><td>0.00000000</td><td>0</td><td>0</td><td>0</td><td>0</td><td>0.00000000</td><td>0</td><td>0</td><td>0</td></tr>\n",
       "</tbody>\n",
       "</table>\n"
      ],
      "text/latex": [
       "A tibble: 6 × 828\n",
       "\\begin{tabular}{lllllllllllllllllllll}\n",
       " Family & DRS034400 & DRS034401 & DRS034402 & DRS034403 & DRS034404 & DRS034405 & ERS1030529 & ERS1030531 & ERS1030532 & ⋯ & 36UNCULTURED\\_S10 & 400UNCULTURED\\_S11 & 40UNCULTURED\\_S15 & 4UNCULTURED\\_S2 & 500UNCULTURED\\_S13 & 8UNCULTURED\\_S5 & lucaAR31\\_S16 & lucaAR32\\_S17 & lucaAR33\\_S18 & lucaAR34\\_S19\\\\\n",
       " <chr> & <dbl> & <dbl> & <dbl> & <dbl> & <dbl> & <dbl> & <dbl> & <dbl> & <dbl> & ⋯ & <dbl> & <dbl> & <dbl> & <dbl> & <dbl> & <dbl> & <dbl> & <dbl> & <dbl> & <dbl>\\\\\n",
       "\\hline\n",
       "\t AAA26278.1 & 0 & 0 & 0 & 0 & 0 & 0 & 0.0000000 & 0.00000000 & 0.0000000 & ⋯ & 0 & 0.00000000 & 0 & 0 & 0 & 0 & 0.00000000 & 0 & 0 & 0\\\\\n",
       "\t AAA62843.1 & 0 & 0 & 0 & 0 & 0 & 0 & 0.0000000 & 0.00000000 & 0.0000000 & ⋯ & 0 & 0.00000000 & 0 & 0 & 0 & 0 & 0.00000000 & 0 & 0 & 0\\\\\n",
       "\t AAA62844.1 & 0 & 0 & 0 & 0 & 0 & 0 & 0.1333889 & 0.04741833 & 0.1484504 & ⋯ & 0 & 0.05441838 & 0 & 0 & 0 & 0 & 0.02146873 & 0 & 0 & 0\\\\\n",
       "\t AAB33952.1 & 0 & 0 & 0 & 0 & 0 & 0 & 0.0000000 & 0.00000000 & 0.0000000 & ⋯ & 0 & 0.00000000 & 0 & 0 & 0 & 0 & 0.00000000 & 0 & 0 & 0\\\\\n",
       "\t AAB82613.1 & 0 & 0 & 0 & 0 & 0 & 0 & 0.0000000 & 0.00000000 & 0.0000000 & ⋯ & 0 & 0.00000000 & 0 & 0 & 0 & 0 & 0.00000000 & 0 & 0 & 0\\\\\n",
       "\t AAC38200.1 & 0 & 0 & 0 & 0 & 0 & 0 & 0.0000000 & 0.00000000 & 0.0000000 & ⋯ & 0 & 0.00000000 & 0 & 0 & 0 & 0 & 0.00000000 & 0 & 0 & 0\\\\\n",
       "\\end{tabular}\n"
      ],
      "text/markdown": [
       "\n",
       "A tibble: 6 × 828\n",
       "\n",
       "| Family &lt;chr&gt; | DRS034400 &lt;dbl&gt; | DRS034401 &lt;dbl&gt; | DRS034402 &lt;dbl&gt; | DRS034403 &lt;dbl&gt; | DRS034404 &lt;dbl&gt; | DRS034405 &lt;dbl&gt; | ERS1030529 &lt;dbl&gt; | ERS1030531 &lt;dbl&gt; | ERS1030532 &lt;dbl&gt; | ⋯ ⋯ | 36UNCULTURED_S10 &lt;dbl&gt; | 400UNCULTURED_S11 &lt;dbl&gt; | 40UNCULTURED_S15 &lt;dbl&gt; | 4UNCULTURED_S2 &lt;dbl&gt; | 500UNCULTURED_S13 &lt;dbl&gt; | 8UNCULTURED_S5 &lt;dbl&gt; | lucaAR31_S16 &lt;dbl&gt; | lucaAR32_S17 &lt;dbl&gt; | lucaAR33_S18 &lt;dbl&gt; | lucaAR34_S19 &lt;dbl&gt; |\n",
       "|---|---|---|---|---|---|---|---|---|---|---|---|---|---|---|---|---|---|---|---|---|\n",
       "| AAA26278.1 | 0 | 0 | 0 | 0 | 0 | 0 | 0.0000000 | 0.00000000 | 0.0000000 | ⋯ | 0 | 0.00000000 | 0 | 0 | 0 | 0 | 0.00000000 | 0 | 0 | 0 |\n",
       "| AAA62843.1 | 0 | 0 | 0 | 0 | 0 | 0 | 0.0000000 | 0.00000000 | 0.0000000 | ⋯ | 0 | 0.00000000 | 0 | 0 | 0 | 0 | 0.00000000 | 0 | 0 | 0 |\n",
       "| AAA62844.1 | 0 | 0 | 0 | 0 | 0 | 0 | 0.1333889 | 0.04741833 | 0.1484504 | ⋯ | 0 | 0.05441838 | 0 | 0 | 0 | 0 | 0.02146873 | 0 | 0 | 0 |\n",
       "| AAB33952.1 | 0 | 0 | 0 | 0 | 0 | 0 | 0.0000000 | 0.00000000 | 0.0000000 | ⋯ | 0 | 0.00000000 | 0 | 0 | 0 | 0 | 0.00000000 | 0 | 0 | 0 |\n",
       "| AAB82613.1 | 0 | 0 | 0 | 0 | 0 | 0 | 0.0000000 | 0.00000000 | 0.0000000 | ⋯ | 0 | 0.00000000 | 0 | 0 | 0 | 0 | 0.00000000 | 0 | 0 | 0 |\n",
       "| AAC38200.1 | 0 | 0 | 0 | 0 | 0 | 0 | 0.0000000 | 0.00000000 | 0.0000000 | ⋯ | 0 | 0.00000000 | 0 | 0 | 0 | 0 | 0.00000000 | 0 | 0 | 0 |\n",
       "\n"
      ],
      "text/plain": [
       "  Family     DRS034400 DRS034401 DRS034402 DRS034403 DRS034404 DRS034405\n",
       "1 AAA26278.1 0         0         0         0         0         0        \n",
       "2 AAA62843.1 0         0         0         0         0         0        \n",
       "3 AAA62844.1 0         0         0         0         0         0        \n",
       "4 AAB33952.1 0         0         0         0         0         0        \n",
       "5 AAB82613.1 0         0         0         0         0         0        \n",
       "6 AAC38200.1 0         0         0         0         0         0        \n",
       "  ERS1030529 ERS1030531 ERS1030532 ⋯ 36UNCULTURED_S10 400UNCULTURED_S11\n",
       "1 0.0000000  0.00000000 0.0000000  ⋯ 0                0.00000000       \n",
       "2 0.0000000  0.00000000 0.0000000  ⋯ 0                0.00000000       \n",
       "3 0.1333889  0.04741833 0.1484504  ⋯ 0                0.05441838       \n",
       "4 0.0000000  0.00000000 0.0000000  ⋯ 0                0.00000000       \n",
       "5 0.0000000  0.00000000 0.0000000  ⋯ 0                0.00000000       \n",
       "6 0.0000000  0.00000000 0.0000000  ⋯ 0                0.00000000       \n",
       "  40UNCULTURED_S15 4UNCULTURED_S2 500UNCULTURED_S13 8UNCULTURED_S5 lucaAR31_S16\n",
       "1 0                0              0                 0              0.00000000  \n",
       "2 0                0              0                 0              0.00000000  \n",
       "3 0                0              0                 0              0.02146873  \n",
       "4 0                0              0                 0              0.00000000  \n",
       "5 0                0              0                 0              0.00000000  \n",
       "6 0                0              0                 0              0.00000000  \n",
       "  lucaAR32_S17 lucaAR33_S18 lucaAR34_S19\n",
       "1 0            0            0           \n",
       "2 0            0            0           \n",
       "3 0            0            0           \n",
       "4 0            0            0           \n",
       "5 0            0            0           \n",
       "6 0            0            0           "
      ]
     },
     "metadata": {},
     "output_type": "display_data"
    }
   ],
   "source": [
    "head(AllSamples3)"
   ]
  },
  {
   "cell_type": "code",
   "execution_count": 149,
   "id": "ed27315c-3ca2-473b-b62a-3c255307b495",
   "metadata": {},
   "outputs": [],
   "source": [
    "write_tsv(AllSamples3,\"/ebio/abt3_projects2/Flagellin_Diversity/code/notebooks/shortbred/matrixAll.tsv\")"
   ]
  },
  {
   "cell_type": "markdown",
   "id": "9a9b9ac2-dfc7-4050-a27f-508258e38381",
   "metadata": {},
   "source": [
    "## 6.2. Final features table - Counts (int)"
   ]
  },
  {
   "cell_type": "code",
   "execution_count": 144,
   "id": "c18348b6-a0d3-47b1-9266-10099961233f",
   "metadata": {},
   "outputs": [],
   "source": [
    "AllSamples3_count=pivot_wider(data=AllSamples2,id_cols=Family,names_from=Sample,values_from=Hits)%>%\n",
    "  mutate(Family=str_replace_all(Family,\"(?<=\\\\d)_\",\".\")) # This regex \"(?<=\\\\d)_\" means every underscore (_)"
   ]
  },
  {
   "cell_type": "code",
   "execution_count": 145,
   "id": "17657ae0-66ce-4979-bd8d-09c7b92df849",
   "metadata": {},
   "outputs": [
    {
     "data": {
      "text/html": [
       "<table class=\"dataframe\">\n",
       "<caption>A tibble: 6 × 828</caption>\n",
       "<thead>\n",
       "\t<tr><th scope=col>Family</th><th scope=col>DRS034400</th><th scope=col>DRS034401</th><th scope=col>DRS034402</th><th scope=col>DRS034403</th><th scope=col>DRS034404</th><th scope=col>DRS034405</th><th scope=col>ERS1030529</th><th scope=col>ERS1030531</th><th scope=col>ERS1030532</th><th scope=col>⋯</th><th scope=col>36UNCULTURED_S10</th><th scope=col>400UNCULTURED_S11</th><th scope=col>40UNCULTURED_S15</th><th scope=col>4UNCULTURED_S2</th><th scope=col>500UNCULTURED_S13</th><th scope=col>8UNCULTURED_S5</th><th scope=col>lucaAR31_S16</th><th scope=col>lucaAR32_S17</th><th scope=col>lucaAR33_S18</th><th scope=col>lucaAR34_S19</th></tr>\n",
       "\t<tr><th scope=col>&lt;chr&gt;</th><th scope=col>&lt;dbl&gt;</th><th scope=col>&lt;dbl&gt;</th><th scope=col>&lt;dbl&gt;</th><th scope=col>&lt;dbl&gt;</th><th scope=col>&lt;dbl&gt;</th><th scope=col>&lt;dbl&gt;</th><th scope=col>&lt;dbl&gt;</th><th scope=col>&lt;dbl&gt;</th><th scope=col>&lt;dbl&gt;</th><th scope=col>⋯</th><th scope=col>&lt;dbl&gt;</th><th scope=col>&lt;dbl&gt;</th><th scope=col>&lt;dbl&gt;</th><th scope=col>&lt;dbl&gt;</th><th scope=col>&lt;dbl&gt;</th><th scope=col>&lt;dbl&gt;</th><th scope=col>&lt;dbl&gt;</th><th scope=col>&lt;dbl&gt;</th><th scope=col>&lt;dbl&gt;</th><th scope=col>&lt;dbl&gt;</th></tr>\n",
       "</thead>\n",
       "<tbody>\n",
       "\t<tr><td>AAA26278.1</td><td>0</td><td>0</td><td>0</td><td>0</td><td>0</td><td>0</td><td>0</td><td>0</td><td>0</td><td>⋯</td><td>0</td><td>0</td><td>0</td><td>0</td><td>0</td><td>0</td><td>0</td><td>0</td><td>0</td><td>0</td></tr>\n",
       "\t<tr><td>AAA62843.1</td><td>0</td><td>0</td><td>0</td><td>0</td><td>0</td><td>0</td><td>0</td><td>0</td><td>0</td><td>⋯</td><td>0</td><td>0</td><td>0</td><td>0</td><td>0</td><td>0</td><td>0</td><td>0</td><td>0</td><td>0</td></tr>\n",
       "\t<tr><td>AAA62844.1</td><td>0</td><td>0</td><td>0</td><td>0</td><td>0</td><td>0</td><td>3</td><td>1</td><td>3</td><td>⋯</td><td>0</td><td>2</td><td>0</td><td>0</td><td>0</td><td>0</td><td>1</td><td>0</td><td>0</td><td>0</td></tr>\n",
       "\t<tr><td>AAB33952.1</td><td>0</td><td>0</td><td>0</td><td>0</td><td>0</td><td>0</td><td>0</td><td>0</td><td>0</td><td>⋯</td><td>0</td><td>0</td><td>0</td><td>0</td><td>0</td><td>0</td><td>0</td><td>0</td><td>0</td><td>0</td></tr>\n",
       "\t<tr><td>AAB82613.1</td><td>0</td><td>0</td><td>0</td><td>0</td><td>0</td><td>0</td><td>0</td><td>0</td><td>0</td><td>⋯</td><td>0</td><td>0</td><td>0</td><td>0</td><td>0</td><td>0</td><td>0</td><td>0</td><td>0</td><td>0</td></tr>\n",
       "\t<tr><td>AAC38200.1</td><td>0</td><td>0</td><td>0</td><td>0</td><td>0</td><td>0</td><td>0</td><td>0</td><td>0</td><td>⋯</td><td>0</td><td>0</td><td>0</td><td>0</td><td>0</td><td>0</td><td>0</td><td>0</td><td>0</td><td>0</td></tr>\n",
       "</tbody>\n",
       "</table>\n"
      ],
      "text/latex": [
       "A tibble: 6 × 828\n",
       "\\begin{tabular}{lllllllllllllllllllll}\n",
       " Family & DRS034400 & DRS034401 & DRS034402 & DRS034403 & DRS034404 & DRS034405 & ERS1030529 & ERS1030531 & ERS1030532 & ⋯ & 36UNCULTURED\\_S10 & 400UNCULTURED\\_S11 & 40UNCULTURED\\_S15 & 4UNCULTURED\\_S2 & 500UNCULTURED\\_S13 & 8UNCULTURED\\_S5 & lucaAR31\\_S16 & lucaAR32\\_S17 & lucaAR33\\_S18 & lucaAR34\\_S19\\\\\n",
       " <chr> & <dbl> & <dbl> & <dbl> & <dbl> & <dbl> & <dbl> & <dbl> & <dbl> & <dbl> & ⋯ & <dbl> & <dbl> & <dbl> & <dbl> & <dbl> & <dbl> & <dbl> & <dbl> & <dbl> & <dbl>\\\\\n",
       "\\hline\n",
       "\t AAA26278.1 & 0 & 0 & 0 & 0 & 0 & 0 & 0 & 0 & 0 & ⋯ & 0 & 0 & 0 & 0 & 0 & 0 & 0 & 0 & 0 & 0\\\\\n",
       "\t AAA62843.1 & 0 & 0 & 0 & 0 & 0 & 0 & 0 & 0 & 0 & ⋯ & 0 & 0 & 0 & 0 & 0 & 0 & 0 & 0 & 0 & 0\\\\\n",
       "\t AAA62844.1 & 0 & 0 & 0 & 0 & 0 & 0 & 3 & 1 & 3 & ⋯ & 0 & 2 & 0 & 0 & 0 & 0 & 1 & 0 & 0 & 0\\\\\n",
       "\t AAB33952.1 & 0 & 0 & 0 & 0 & 0 & 0 & 0 & 0 & 0 & ⋯ & 0 & 0 & 0 & 0 & 0 & 0 & 0 & 0 & 0 & 0\\\\\n",
       "\t AAB82613.1 & 0 & 0 & 0 & 0 & 0 & 0 & 0 & 0 & 0 & ⋯ & 0 & 0 & 0 & 0 & 0 & 0 & 0 & 0 & 0 & 0\\\\\n",
       "\t AAC38200.1 & 0 & 0 & 0 & 0 & 0 & 0 & 0 & 0 & 0 & ⋯ & 0 & 0 & 0 & 0 & 0 & 0 & 0 & 0 & 0 & 0\\\\\n",
       "\\end{tabular}\n"
      ],
      "text/markdown": [
       "\n",
       "A tibble: 6 × 828\n",
       "\n",
       "| Family &lt;chr&gt; | DRS034400 &lt;dbl&gt; | DRS034401 &lt;dbl&gt; | DRS034402 &lt;dbl&gt; | DRS034403 &lt;dbl&gt; | DRS034404 &lt;dbl&gt; | DRS034405 &lt;dbl&gt; | ERS1030529 &lt;dbl&gt; | ERS1030531 &lt;dbl&gt; | ERS1030532 &lt;dbl&gt; | ⋯ ⋯ | 36UNCULTURED_S10 &lt;dbl&gt; | 400UNCULTURED_S11 &lt;dbl&gt; | 40UNCULTURED_S15 &lt;dbl&gt; | 4UNCULTURED_S2 &lt;dbl&gt; | 500UNCULTURED_S13 &lt;dbl&gt; | 8UNCULTURED_S5 &lt;dbl&gt; | lucaAR31_S16 &lt;dbl&gt; | lucaAR32_S17 &lt;dbl&gt; | lucaAR33_S18 &lt;dbl&gt; | lucaAR34_S19 &lt;dbl&gt; |\n",
       "|---|---|---|---|---|---|---|---|---|---|---|---|---|---|---|---|---|---|---|---|---|\n",
       "| AAA26278.1 | 0 | 0 | 0 | 0 | 0 | 0 | 0 | 0 | 0 | ⋯ | 0 | 0 | 0 | 0 | 0 | 0 | 0 | 0 | 0 | 0 |\n",
       "| AAA62843.1 | 0 | 0 | 0 | 0 | 0 | 0 | 0 | 0 | 0 | ⋯ | 0 | 0 | 0 | 0 | 0 | 0 | 0 | 0 | 0 | 0 |\n",
       "| AAA62844.1 | 0 | 0 | 0 | 0 | 0 | 0 | 3 | 1 | 3 | ⋯ | 0 | 2 | 0 | 0 | 0 | 0 | 1 | 0 | 0 | 0 |\n",
       "| AAB33952.1 | 0 | 0 | 0 | 0 | 0 | 0 | 0 | 0 | 0 | ⋯ | 0 | 0 | 0 | 0 | 0 | 0 | 0 | 0 | 0 | 0 |\n",
       "| AAB82613.1 | 0 | 0 | 0 | 0 | 0 | 0 | 0 | 0 | 0 | ⋯ | 0 | 0 | 0 | 0 | 0 | 0 | 0 | 0 | 0 | 0 |\n",
       "| AAC38200.1 | 0 | 0 | 0 | 0 | 0 | 0 | 0 | 0 | 0 | ⋯ | 0 | 0 | 0 | 0 | 0 | 0 | 0 | 0 | 0 | 0 |\n",
       "\n"
      ],
      "text/plain": [
       "  Family     DRS034400 DRS034401 DRS034402 DRS034403 DRS034404 DRS034405\n",
       "1 AAA26278.1 0         0         0         0         0         0        \n",
       "2 AAA62843.1 0         0         0         0         0         0        \n",
       "3 AAA62844.1 0         0         0         0         0         0        \n",
       "4 AAB33952.1 0         0         0         0         0         0        \n",
       "5 AAB82613.1 0         0         0         0         0         0        \n",
       "6 AAC38200.1 0         0         0         0         0         0        \n",
       "  ERS1030529 ERS1030531 ERS1030532 ⋯ 36UNCULTURED_S10 400UNCULTURED_S11\n",
       "1 0          0          0          ⋯ 0                0                \n",
       "2 0          0          0          ⋯ 0                0                \n",
       "3 3          1          3          ⋯ 0                2                \n",
       "4 0          0          0          ⋯ 0                0                \n",
       "5 0          0          0          ⋯ 0                0                \n",
       "6 0          0          0          ⋯ 0                0                \n",
       "  40UNCULTURED_S15 4UNCULTURED_S2 500UNCULTURED_S13 8UNCULTURED_S5 lucaAR31_S16\n",
       "1 0                0              0                 0              0           \n",
       "2 0                0              0                 0              0           \n",
       "3 0                0              0                 0              1           \n",
       "4 0                0              0                 0              0           \n",
       "5 0                0              0                 0              0           \n",
       "6 0                0              0                 0              0           \n",
       "  lucaAR32_S17 lucaAR33_S18 lucaAR34_S19\n",
       "1 0            0            0           \n",
       "2 0            0            0           \n",
       "3 0            0            0           \n",
       "4 0            0            0           \n",
       "5 0            0            0           \n",
       "6 0            0            0           "
      ]
     },
     "metadata": {},
     "output_type": "display_data"
    }
   ],
   "source": [
    "head(AllSamples3_count)"
   ]
  },
  {
   "cell_type": "code",
   "execution_count": 148,
   "id": "6ca54e5f-d0bc-4214-aed3-db96d81af2c3",
   "metadata": {},
   "outputs": [],
   "source": [
    "write_tsv(AllSamples3_count,\"/ebio/abt3_projects2/Flagellin_Diversity/code/notebooks/shortbred/matrixAll_count.tsv\")"
   ]
  },
  {
   "cell_type": "markdown",
   "id": "951709bc",
   "metadata": {
    "lines_to_next_cell": 0
   },
   "source": [
    "# 7. Phyloseq objects for diversity analyses\n",
    "## 7.1. Create OTU table.  "
   ]
  },
  {
   "cell_type": "code",
   "execution_count": 77,
   "id": "84cbce7e",
   "metadata": {},
   "outputs": [
    {
     "data": {
      "text/html": [
       "<table class=\"dataframe\">\n",
       "<caption>A tibble: 6 × 828</caption>\n",
       "<thead>\n",
       "\t<tr><th scope=col>Accession</th><th scope=col>DRS034400</th><th scope=col>DRS034401</th><th scope=col>DRS034402</th><th scope=col>DRS034403</th><th scope=col>DRS034404</th><th scope=col>DRS034405</th><th scope=col>ERS1030529</th><th scope=col>ERS1030531</th><th scope=col>ERS1030532</th><th scope=col>⋯</th><th scope=col>36UNCULTURED_S10</th><th scope=col>400UNCULTURED_S11</th><th scope=col>40UNCULTURED_S15</th><th scope=col>4UNCULTURED_S2</th><th scope=col>500UNCULTURED_S13</th><th scope=col>8UNCULTURED_S5</th><th scope=col>lucaAR31_S16</th><th scope=col>lucaAR32_S17</th><th scope=col>lucaAR33_S18</th><th scope=col>lucaAR34_S19</th></tr>\n",
       "\t<tr><th scope=col>&lt;chr&gt;</th><th scope=col>&lt;dbl&gt;</th><th scope=col>&lt;dbl&gt;</th><th scope=col>&lt;dbl&gt;</th><th scope=col>&lt;dbl&gt;</th><th scope=col>&lt;dbl&gt;</th><th scope=col>&lt;dbl&gt;</th><th scope=col>&lt;dbl&gt;</th><th scope=col>&lt;dbl&gt;</th><th scope=col>&lt;dbl&gt;</th><th scope=col>⋯</th><th scope=col>&lt;dbl&gt;</th><th scope=col>&lt;dbl&gt;</th><th scope=col>&lt;dbl&gt;</th><th scope=col>&lt;dbl&gt;</th><th scope=col>&lt;dbl&gt;</th><th scope=col>&lt;dbl&gt;</th><th scope=col>&lt;dbl&gt;</th><th scope=col>&lt;dbl&gt;</th><th scope=col>&lt;dbl&gt;</th><th scope=col>&lt;dbl&gt;</th></tr>\n",
       "</thead>\n",
       "<tbody>\n",
       "\t<tr><td>AAA26278.1</td><td>0</td><td>0</td><td>0</td><td>0</td><td>0</td><td>0</td><td>0.0000000</td><td>0.00000000</td><td>0.0000000</td><td>⋯</td><td>0</td><td>0.00000000</td><td>0</td><td>0</td><td>0</td><td>0</td><td>0.00000000</td><td>0</td><td>0</td><td>0</td></tr>\n",
       "\t<tr><td>AAA62843.1</td><td>0</td><td>0</td><td>0</td><td>0</td><td>0</td><td>0</td><td>0.0000000</td><td>0.00000000</td><td>0.0000000</td><td>⋯</td><td>0</td><td>0.00000000</td><td>0</td><td>0</td><td>0</td><td>0</td><td>0.00000000</td><td>0</td><td>0</td><td>0</td></tr>\n",
       "\t<tr><td>AAA62844.1</td><td>0</td><td>0</td><td>0</td><td>0</td><td>0</td><td>0</td><td>0.1333889</td><td>0.04741833</td><td>0.1484504</td><td>⋯</td><td>0</td><td>0.05441838</td><td>0</td><td>0</td><td>0</td><td>0</td><td>0.02146873</td><td>0</td><td>0</td><td>0</td></tr>\n",
       "\t<tr><td>AAB33952.1</td><td>0</td><td>0</td><td>0</td><td>0</td><td>0</td><td>0</td><td>0.0000000</td><td>0.00000000</td><td>0.0000000</td><td>⋯</td><td>0</td><td>0.00000000</td><td>0</td><td>0</td><td>0</td><td>0</td><td>0.00000000</td><td>0</td><td>0</td><td>0</td></tr>\n",
       "\t<tr><td>AAB82613.1</td><td>0</td><td>0</td><td>0</td><td>0</td><td>0</td><td>0</td><td>0.0000000</td><td>0.00000000</td><td>0.0000000</td><td>⋯</td><td>0</td><td>0.00000000</td><td>0</td><td>0</td><td>0</td><td>0</td><td>0.00000000</td><td>0</td><td>0</td><td>0</td></tr>\n",
       "\t<tr><td>AAC38200.1</td><td>0</td><td>0</td><td>0</td><td>0</td><td>0</td><td>0</td><td>0.0000000</td><td>0.00000000</td><td>0.0000000</td><td>⋯</td><td>0</td><td>0.00000000</td><td>0</td><td>0</td><td>0</td><td>0</td><td>0.00000000</td><td>0</td><td>0</td><td>0</td></tr>\n",
       "</tbody>\n",
       "</table>\n"
      ],
      "text/latex": [
       "A tibble: 6 × 828\n",
       "\\begin{tabular}{lllllllllllllllllllll}\n",
       " Accession & DRS034400 & DRS034401 & DRS034402 & DRS034403 & DRS034404 & DRS034405 & ERS1030529 & ERS1030531 & ERS1030532 & ⋯ & 36UNCULTURED\\_S10 & 400UNCULTURED\\_S11 & 40UNCULTURED\\_S15 & 4UNCULTURED\\_S2 & 500UNCULTURED\\_S13 & 8UNCULTURED\\_S5 & lucaAR31\\_S16 & lucaAR32\\_S17 & lucaAR33\\_S18 & lucaAR34\\_S19\\\\\n",
       " <chr> & <dbl> & <dbl> & <dbl> & <dbl> & <dbl> & <dbl> & <dbl> & <dbl> & <dbl> & ⋯ & <dbl> & <dbl> & <dbl> & <dbl> & <dbl> & <dbl> & <dbl> & <dbl> & <dbl> & <dbl>\\\\\n",
       "\\hline\n",
       "\t AAA26278.1 & 0 & 0 & 0 & 0 & 0 & 0 & 0.0000000 & 0.00000000 & 0.0000000 & ⋯ & 0 & 0.00000000 & 0 & 0 & 0 & 0 & 0.00000000 & 0 & 0 & 0\\\\\n",
       "\t AAA62843.1 & 0 & 0 & 0 & 0 & 0 & 0 & 0.0000000 & 0.00000000 & 0.0000000 & ⋯ & 0 & 0.00000000 & 0 & 0 & 0 & 0 & 0.00000000 & 0 & 0 & 0\\\\\n",
       "\t AAA62844.1 & 0 & 0 & 0 & 0 & 0 & 0 & 0.1333889 & 0.04741833 & 0.1484504 & ⋯ & 0 & 0.05441838 & 0 & 0 & 0 & 0 & 0.02146873 & 0 & 0 & 0\\\\\n",
       "\t AAB33952.1 & 0 & 0 & 0 & 0 & 0 & 0 & 0.0000000 & 0.00000000 & 0.0000000 & ⋯ & 0 & 0.00000000 & 0 & 0 & 0 & 0 & 0.00000000 & 0 & 0 & 0\\\\\n",
       "\t AAB82613.1 & 0 & 0 & 0 & 0 & 0 & 0 & 0.0000000 & 0.00000000 & 0.0000000 & ⋯ & 0 & 0.00000000 & 0 & 0 & 0 & 0 & 0.00000000 & 0 & 0 & 0\\\\\n",
       "\t AAC38200.1 & 0 & 0 & 0 & 0 & 0 & 0 & 0.0000000 & 0.00000000 & 0.0000000 & ⋯ & 0 & 0.00000000 & 0 & 0 & 0 & 0 & 0.00000000 & 0 & 0 & 0\\\\\n",
       "\\end{tabular}\n"
      ],
      "text/markdown": [
       "\n",
       "A tibble: 6 × 828\n",
       "\n",
       "| Accession &lt;chr&gt; | DRS034400 &lt;dbl&gt; | DRS034401 &lt;dbl&gt; | DRS034402 &lt;dbl&gt; | DRS034403 &lt;dbl&gt; | DRS034404 &lt;dbl&gt; | DRS034405 &lt;dbl&gt; | ERS1030529 &lt;dbl&gt; | ERS1030531 &lt;dbl&gt; | ERS1030532 &lt;dbl&gt; | ⋯ ⋯ | 36UNCULTURED_S10 &lt;dbl&gt; | 400UNCULTURED_S11 &lt;dbl&gt; | 40UNCULTURED_S15 &lt;dbl&gt; | 4UNCULTURED_S2 &lt;dbl&gt; | 500UNCULTURED_S13 &lt;dbl&gt; | 8UNCULTURED_S5 &lt;dbl&gt; | lucaAR31_S16 &lt;dbl&gt; | lucaAR32_S17 &lt;dbl&gt; | lucaAR33_S18 &lt;dbl&gt; | lucaAR34_S19 &lt;dbl&gt; |\n",
       "|---|---|---|---|---|---|---|---|---|---|---|---|---|---|---|---|---|---|---|---|---|\n",
       "| AAA26278.1 | 0 | 0 | 0 | 0 | 0 | 0 | 0.0000000 | 0.00000000 | 0.0000000 | ⋯ | 0 | 0.00000000 | 0 | 0 | 0 | 0 | 0.00000000 | 0 | 0 | 0 |\n",
       "| AAA62843.1 | 0 | 0 | 0 | 0 | 0 | 0 | 0.0000000 | 0.00000000 | 0.0000000 | ⋯ | 0 | 0.00000000 | 0 | 0 | 0 | 0 | 0.00000000 | 0 | 0 | 0 |\n",
       "| AAA62844.1 | 0 | 0 | 0 | 0 | 0 | 0 | 0.1333889 | 0.04741833 | 0.1484504 | ⋯ | 0 | 0.05441838 | 0 | 0 | 0 | 0 | 0.02146873 | 0 | 0 | 0 |\n",
       "| AAB33952.1 | 0 | 0 | 0 | 0 | 0 | 0 | 0.0000000 | 0.00000000 | 0.0000000 | ⋯ | 0 | 0.00000000 | 0 | 0 | 0 | 0 | 0.00000000 | 0 | 0 | 0 |\n",
       "| AAB82613.1 | 0 | 0 | 0 | 0 | 0 | 0 | 0.0000000 | 0.00000000 | 0.0000000 | ⋯ | 0 | 0.00000000 | 0 | 0 | 0 | 0 | 0.00000000 | 0 | 0 | 0 |\n",
       "| AAC38200.1 | 0 | 0 | 0 | 0 | 0 | 0 | 0.0000000 | 0.00000000 | 0.0000000 | ⋯ | 0 | 0.00000000 | 0 | 0 | 0 | 0 | 0.00000000 | 0 | 0 | 0 |\n",
       "\n"
      ],
      "text/plain": [
       "  Accession  DRS034400 DRS034401 DRS034402 DRS034403 DRS034404 DRS034405\n",
       "1 AAA26278.1 0         0         0         0         0         0        \n",
       "2 AAA62843.1 0         0         0         0         0         0        \n",
       "3 AAA62844.1 0         0         0         0         0         0        \n",
       "4 AAB33952.1 0         0         0         0         0         0        \n",
       "5 AAB82613.1 0         0         0         0         0         0        \n",
       "6 AAC38200.1 0         0         0         0         0         0        \n",
       "  ERS1030529 ERS1030531 ERS1030532 ⋯ 36UNCULTURED_S10 400UNCULTURED_S11\n",
       "1 0.0000000  0.00000000 0.0000000  ⋯ 0                0.00000000       \n",
       "2 0.0000000  0.00000000 0.0000000  ⋯ 0                0.00000000       \n",
       "3 0.1333889  0.04741833 0.1484504  ⋯ 0                0.05441838       \n",
       "4 0.0000000  0.00000000 0.0000000  ⋯ 0                0.00000000       \n",
       "5 0.0000000  0.00000000 0.0000000  ⋯ 0                0.00000000       \n",
       "6 0.0000000  0.00000000 0.0000000  ⋯ 0                0.00000000       \n",
       "  40UNCULTURED_S15 4UNCULTURED_S2 500UNCULTURED_S13 8UNCULTURED_S5 lucaAR31_S16\n",
       "1 0                0              0                 0              0.00000000  \n",
       "2 0                0              0                 0              0.00000000  \n",
       "3 0                0              0                 0              0.02146873  \n",
       "4 0                0              0                 0              0.00000000  \n",
       "5 0                0              0                 0              0.00000000  \n",
       "6 0                0              0                 0              0.00000000  \n",
       "  lucaAR32_S17 lucaAR33_S18 lucaAR34_S19\n",
       "1 0            0            0           \n",
       "2 0            0            0           \n",
       "3 0            0            0           \n",
       "4 0            0            0           \n",
       "5 0            0            0           \n",
       "6 0            0            0           "
      ]
     },
     "metadata": {},
     "output_type": "display_data"
    }
   ],
   "source": [
    "otuAllSamples = AllSamples3 %>%\n",
    "  rename(Accession=\"Family\")\n",
    "head(otuAllSamples)"
   ]
  },
  {
   "cell_type": "markdown",
   "id": "789e203a",
   "metadata": {
    "lines_to_next_cell": 0
   },
   "source": [
    "## 7.2. Create samples tables"
   ]
  },
  {
   "cell_type": "markdown",
   "id": "0dca0429-f6a9-4c92-86f6-df4b1dc429b5",
   "metadata": {},
   "source": [
    "### 7.2.1. Primates datasets"
   ]
  },
  {
   "cell_type": "code",
   "execution_count": 78,
   "id": "072d43b4",
   "metadata": {},
   "outputs": [
    {
     "name": "stderr",
     "output_type": "stream",
     "text": [
      "\u001b[1mRows: \u001b[22m\u001b[34m114\u001b[39m \u001b[1mColumns: \u001b[22m\u001b[34m25\u001b[39m\n",
      "\u001b[36m──\u001b[39m \u001b[1mColumn specification\u001b[22m \u001b[36m────────────────────────────────────────────────────────────────────────────────────────────────────────────────────────────────────────────────────────\u001b[39m\n",
      "\u001b[1mDelimiter:\u001b[22m \"\\t\"\n",
      "\u001b[31mchr\u001b[39m (23): Sample, StudyName, body_habitat, body_product, body_site, collecti...\n",
      "\u001b[32mdbl\u001b[39m  (1): host_taxid\n",
      "\u001b[33mlgl\u001b[39m  (1): Wild\n",
      "\n",
      "\u001b[36mℹ\u001b[39m Use `spec()` to retrieve the full column specification for this data.\n",
      "\u001b[36mℹ\u001b[39m Specify the column types or set `show_col_types = FALSE` to quiet this message.\n"
     ]
    }
   ],
   "source": [
    "mappingPrimates=read_tsv(\"/ebio/abt3_projects/small_projects/aborbon/TLR5/Primates_Amanda/R_Analyses/primateDatasets_metadata.txt\",col_names=T)%>%\n",
    "  mutate(biome_0=\"root\")%>%\n",
    "  mutate(biome_1=\"Host-associated\")%>%\n",
    "  mutate(biome_2=\"Mammalia\")%>%\n",
    "  mutate(biome_3=\"Primates\")%>%\n",
    "  mutate(biome_4=\"fecal\")%>%\n",
    "  rename(Dataset=\"StudyName\")%>%\n",
    "  rename(family=\"Family\")%>%\n",
    "  select(Sample,Dataset,biome_0,biome_1,biome_2,biome_3,biome_4,family) #n=114"
   ]
  },
  {
   "cell_type": "markdown",
   "id": "2445f834-e9bf-4885-a39a-1165fbec68e0",
   "metadata": {},
   "source": [
    "### 7.2.2. Vertebrates datasets"
   ]
  },
  {
   "cell_type": "code",
   "execution_count": 79,
   "id": "cd85631f-b42e-4039-9c52-3618a7d9ed75",
   "metadata": {},
   "outputs": [
    {
     "name": "stderr",
     "output_type": "stream",
     "text": [
      "\u001b[1mRows: \u001b[22m\u001b[34m475\u001b[39m \u001b[1mColumns: \u001b[22m\u001b[34m72\u001b[39m\n",
      "\u001b[36m──\u001b[39m \u001b[1mColumn specification\u001b[22m \u001b[36m────────────────────────────────────────────────────────────────────────────────────────────────────────────────────────────────────────────────────────\u001b[39m\n",
      "\u001b[1mDelimiter:\u001b[22m \"\\t\"\n",
      "\u001b[31mchr\u001b[39m (62): SampleID, host_subject_id, host_german_name, host_common_name, sci...\n",
      "\u001b[32mdbl\u001b[39m  (9): host_taxid, age, No_individuals, indiv_coreset, duplicates_group, ...\n",
      "\u001b[33mlgl\u001b[39m  (1): host_body_temp\n",
      "\n",
      "\u001b[36mℹ\u001b[39m Use `spec()` to retrieve the full column specification for this data.\n",
      "\u001b[36mℹ\u001b[39m Specify the column types or set `show_col_types = FALSE` to quiet this message.\n"
     ]
    }
   ],
   "source": [
    "mappingVert=read_tsv(\"/ebio/abt3_projects/Georg_animal_feces/data/mapping/unified_metadata_complete_200429.tsv\",col_names=T) %>% #n=323\n",
    "  rename(Sample=\"SampleID\")%>%\n",
    "  inner_join(count(VertSamples2,Sample),by=\"Sample\")%>%\n",
    "  mutate(Dataset=\"Vertebrata\")%>%\n",
    "  mutate(biome_0=\"root\")%>%\n",
    "  mutate(biome_1=\"Host-associated\")%>%\n",
    "  rename(biome_2=\"class\")%>%\n",
    "  rename(biome_3=\"order\")%>%\n",
    "  rename(biome_4=\"sample_type\")%>%\n",
    "  rename(family=\"family\")%>%\n",
    "  select(Sample,Dataset,biome_0,biome_1,biome_2,biome_3,biome_4,family)"
   ]
  },
  {
   "cell_type": "markdown",
   "id": "3b04722b-eb0e-4893-99a1-9b8e6acfe669",
   "metadata": {},
   "source": [
    "### 7.2.3. MGnify datasets"
   ]
  },
  {
   "cell_type": "code",
   "execution_count": 80,
   "id": "0e1a293c-2426-4aa7-a57b-68c80e17c0b9",
   "metadata": {},
   "outputs": [
    {
     "name": "stderr",
     "output_type": "stream",
     "text": [
      "\u001b[1mRows: \u001b[22m\u001b[34m516\u001b[39m \u001b[1mColumns: \u001b[22m\u001b[34m14\u001b[39m\n",
      "\u001b[36m──\u001b[39m \u001b[1mColumn specification\u001b[22m \u001b[36m────────────────────────────────────────────────────────────────────────────────────────────────────────────────────────────────────────────────────────\u001b[39m\n",
      "\u001b[1mDelimiter:\u001b[22m \"\\t\"\n",
      "\u001b[31mchr\u001b[39m (14): ID, SRA_accession, Biosample, Accession, MGnify_Study_ID, biome_0,...\n",
      "\n",
      "\u001b[36mℹ\u001b[39m Use `spec()` to retrieve the full column specification for this data.\n",
      "\u001b[36mℹ\u001b[39m Specify the column types or set `show_col_types = FALSE` to quiet this message.\n"
     ]
    }
   ],
   "source": [
    "mappingMg=read_tsv(\"/tmp/global2/aborbon/public_metagenomes.txt\",col_names=T)%>% #n=311\n",
    "  rename(Dataset=\"MGnify_Study_ID\")%>%\n",
    "  rename(Sample=\"ID\")%>%\n",
    "  select(Sample,Dataset,biome_0,biome_1,biome_2,biome_3,biome_4,family)%>%\n",
    "  filter(biome_2!=\"Plants\")"
   ]
  },
  {
   "cell_type": "markdown",
   "id": "e0e8960e-05c8-4605-b7b8-b3cb32db5ea0",
   "metadata": {},
   "source": [
    "### 7.2.4. Plants datasets"
   ]
  },
  {
   "cell_type": "code",
   "execution_count": 81,
   "id": "a4b56231-0d84-4b43-8280-65d0899b8f0c",
   "metadata": {},
   "outputs": [
    {
     "name": "stderr",
     "output_type": "stream",
     "text": [
      "\u001b[1mRows: \u001b[22m\u001b[34m516\u001b[39m \u001b[1mColumns: \u001b[22m\u001b[34m14\u001b[39m\n",
      "\u001b[36m──\u001b[39m \u001b[1mColumn specification\u001b[22m \u001b[36m────────────────────────────────────────────────────────────────────────────────────────────────────────────────────────────────────────────────────────\u001b[39m\n",
      "\u001b[1mDelimiter:\u001b[22m \"\\t\"\n",
      "\u001b[31mchr\u001b[39m (14): ID, SRA_accession, Biosample, Accession, MGnify_Study_ID, biome_0,...\n",
      "\n",
      "\u001b[36mℹ\u001b[39m Use `spec()` to retrieve the full column specification for this data.\n",
      "\u001b[36mℹ\u001b[39m Specify the column types or set `show_col_types = FALSE` to quiet this message.\n"
     ]
    }
   ],
   "source": [
    "mappingPlants=read_tsv(\"/tmp/global2/aborbon/public_metagenomes.txt\",col_names=T)%>% #n=104\n",
    "  rename(Sample=\"ID\")%>%\n",
    "  inner_join(count(PlantsSamples2,Sample),by=\"Sample\")%>%\n",
    "  rename(Dataset=\"MGnify_Study_ID\")%>%\n",
    "  select(Sample,Dataset,biome_0,biome_1,biome_2,biome_3,biome_4,family)"
   ]
  },
  {
   "cell_type": "markdown",
   "id": "be575738-eead-4ec2-a6cd-275a774b5a76",
   "metadata": {},
   "source": [
    "### 7.2.5. Final samples tables - all datasets"
   ]
  },
  {
   "cell_type": "code",
   "execution_count": 82,
   "id": "239d09ea-2ca4-452a-80e2-9bf30daf08f0",
   "metadata": {},
   "outputs": [],
   "source": [
    "mappingAll=rbind(mappingMg,mappingVert,mappingPrimates,mappingPlants)%>%\n",
    "  mutate(biome_2=str_replace(biome_2,\"Mammals\",\"Mammalia\"))%>%\n",
    "  mutate(biome_2=str_replace(biome_2,\"Fish\",\"Actinopterygii\"))"
   ]
  },
  {
   "cell_type": "code",
   "execution_count": 84,
   "id": "72d09ea7-4ee0-4d2d-b640-2ba88ca51099",
   "metadata": {},
   "outputs": [
    {
     "data": {
      "text/html": [
       "<table class=\"dataframe\">\n",
       "<caption>A tibble: 6 × 8</caption>\n",
       "<thead>\n",
       "\t<tr><th scope=col>Sample</th><th scope=col>Dataset</th><th scope=col>biome_0</th><th scope=col>biome_1</th><th scope=col>biome_2</th><th scope=col>biome_3</th><th scope=col>biome_4</th><th scope=col>family</th></tr>\n",
       "\t<tr><th scope=col>&lt;chr&gt;</th><th scope=col>&lt;chr&gt;</th><th scope=col>&lt;chr&gt;</th><th scope=col>&lt;chr&gt;</th><th scope=col>&lt;chr&gt;</th><th scope=col>&lt;chr&gt;</th><th scope=col>&lt;chr&gt;</th><th scope=col>&lt;chr&gt;</th></tr>\n",
       "</thead>\n",
       "<tbody>\n",
       "\t<tr><td>ERS233527</td><td>MGYS00000320</td><td>root</td><td>Environmental</td><td>Aquatic</td><td>Marine</td><td>Intertidal zone</td><td>NA</td></tr>\n",
       "\t<tr><td>ERS233526</td><td>MGYS00000320</td><td>root</td><td>Environmental</td><td>Aquatic</td><td>Marine</td><td>Intertidal zone</td><td>NA</td></tr>\n",
       "\t<tr><td>ERS233524</td><td>MGYS00000320</td><td>root</td><td>Environmental</td><td>Aquatic</td><td>Marine</td><td>Intertidal zone</td><td>NA</td></tr>\n",
       "\t<tr><td>ERS233525</td><td>MGYS00000320</td><td>root</td><td>Environmental</td><td>Aquatic</td><td>Marine</td><td>Intertidal zone</td><td>NA</td></tr>\n",
       "\t<tr><td>ERS612894</td><td>MGYS00000447</td><td>root</td><td>Environmental</td><td>Aquatic</td><td>Marine</td><td>Intertidal zone</td><td>NA</td></tr>\n",
       "\t<tr><td>ERS612888</td><td>MGYS00000447</td><td>root</td><td>Environmental</td><td>Aquatic</td><td>Marine</td><td>Intertidal zone</td><td>NA</td></tr>\n",
       "</tbody>\n",
       "</table>\n"
      ],
      "text/latex": [
       "A tibble: 6 × 8\n",
       "\\begin{tabular}{llllllll}\n",
       " Sample & Dataset & biome\\_0 & biome\\_1 & biome\\_2 & biome\\_3 & biome\\_4 & family\\\\\n",
       " <chr> & <chr> & <chr> & <chr> & <chr> & <chr> & <chr> & <chr>\\\\\n",
       "\\hline\n",
       "\t ERS233527 & MGYS00000320 & root & Environmental & Aquatic & Marine & Intertidal zone & NA\\\\\n",
       "\t ERS233526 & MGYS00000320 & root & Environmental & Aquatic & Marine & Intertidal zone & NA\\\\\n",
       "\t ERS233524 & MGYS00000320 & root & Environmental & Aquatic & Marine & Intertidal zone & NA\\\\\n",
       "\t ERS233525 & MGYS00000320 & root & Environmental & Aquatic & Marine & Intertidal zone & NA\\\\\n",
       "\t ERS612894 & MGYS00000447 & root & Environmental & Aquatic & Marine & Intertidal zone & NA\\\\\n",
       "\t ERS612888 & MGYS00000447 & root & Environmental & Aquatic & Marine & Intertidal zone & NA\\\\\n",
       "\\end{tabular}\n"
      ],
      "text/markdown": [
       "\n",
       "A tibble: 6 × 8\n",
       "\n",
       "| Sample &lt;chr&gt; | Dataset &lt;chr&gt; | biome_0 &lt;chr&gt; | biome_1 &lt;chr&gt; | biome_2 &lt;chr&gt; | biome_3 &lt;chr&gt; | biome_4 &lt;chr&gt; | family &lt;chr&gt; |\n",
       "|---|---|---|---|---|---|---|---|\n",
       "| ERS233527 | MGYS00000320 | root | Environmental | Aquatic | Marine | Intertidal zone | NA |\n",
       "| ERS233526 | MGYS00000320 | root | Environmental | Aquatic | Marine | Intertidal zone | NA |\n",
       "| ERS233524 | MGYS00000320 | root | Environmental | Aquatic | Marine | Intertidal zone | NA |\n",
       "| ERS233525 | MGYS00000320 | root | Environmental | Aquatic | Marine | Intertidal zone | NA |\n",
       "| ERS612894 | MGYS00000447 | root | Environmental | Aquatic | Marine | Intertidal zone | NA |\n",
       "| ERS612888 | MGYS00000447 | root | Environmental | Aquatic | Marine | Intertidal zone | NA |\n",
       "\n"
      ],
      "text/plain": [
       "  Sample    Dataset      biome_0 biome_1       biome_2 biome_3 biome_4        \n",
       "1 ERS233527 MGYS00000320 root    Environmental Aquatic Marine  Intertidal zone\n",
       "2 ERS233526 MGYS00000320 root    Environmental Aquatic Marine  Intertidal zone\n",
       "3 ERS233524 MGYS00000320 root    Environmental Aquatic Marine  Intertidal zone\n",
       "4 ERS233525 MGYS00000320 root    Environmental Aquatic Marine  Intertidal zone\n",
       "5 ERS612894 MGYS00000447 root    Environmental Aquatic Marine  Intertidal zone\n",
       "6 ERS612888 MGYS00000447 root    Environmental Aquatic Marine  Intertidal zone\n",
       "  family\n",
       "1 NA    \n",
       "2 NA    \n",
       "3 NA    \n",
       "4 NA    \n",
       "5 NA    \n",
       "6 NA    "
      ]
     },
     "metadata": {},
     "output_type": "display_data"
    },
    {
     "data": {
      "text/html": [
       "852"
      ],
      "text/latex": [
       "852"
      ],
      "text/markdown": [
       "852"
      ],
      "text/plain": [
       "[1] 852"
      ]
     },
     "metadata": {},
     "output_type": "display_data"
    }
   ],
   "source": [
    "head(mappingAll)\n",
    "nrow(mappingAll)"
   ]
  },
  {
   "cell_type": "code",
   "execution_count": null,
   "id": "bf6f9bf4-3c63-4a41-a1ce-47f8fc46fcce",
   "metadata": {},
   "outputs": [],
   "source": [
    "write_tsv(mappingAll,\"/tmp/global2/aborbon/metadataAllSamples.tsv\")"
   ]
  },
  {
   "cell_type": "code",
   "execution_count": 154,
   "id": "38d47cb4-6e33-496d-b6bf-1fd797d96442",
   "metadata": {},
   "outputs": [
    {
     "data": {
      "text/html": [
       "<table class=\"dataframe\">\n",
       "<caption>A tibble: 4 × 2</caption>\n",
       "<thead>\n",
       "\t<tr><th scope=col>biome_3</th><th scope=col>n</th></tr>\n",
       "\t<tr><th scope=col>&lt;chr&gt;</th><th scope=col>&lt;int&gt;</th></tr>\n",
       "</thead>\n",
       "<tbody>\n",
       "\t<tr><td>Freshwater                    </td><td>28</td></tr>\n",
       "\t<tr><td>Marine                        </td><td>75</td></tr>\n",
       "\t<tr><td>Non-marine Saline and Alkaline</td><td>11</td></tr>\n",
       "\t<tr><td>Soil                          </td><td>52</td></tr>\n",
       "</tbody>\n",
       "</table>\n"
      ],
      "text/latex": [
       "A tibble: 4 × 2\n",
       "\\begin{tabular}{ll}\n",
       " biome\\_3 & n\\\\\n",
       " <chr> & <int>\\\\\n",
       "\\hline\n",
       "\t Freshwater                     & 28\\\\\n",
       "\t Marine                         & 75\\\\\n",
       "\t Non-marine Saline and Alkaline & 11\\\\\n",
       "\t Soil                           & 52\\\\\n",
       "\\end{tabular}\n"
      ],
      "text/markdown": [
       "\n",
       "A tibble: 4 × 2\n",
       "\n",
       "| biome_3 &lt;chr&gt; | n &lt;int&gt; |\n",
       "|---|---|\n",
       "| Freshwater                     | 28 |\n",
       "| Marine                         | 75 |\n",
       "| Non-marine Saline and Alkaline | 11 |\n",
       "| Soil                           | 52 |\n",
       "\n"
      ],
      "text/plain": [
       "  biome_3                        n \n",
       "1 Freshwater                     28\n",
       "2 Marine                         75\n",
       "3 Non-marine Saline and Alkaline 11\n",
       "4 Soil                           52"
      ]
     },
     "metadata": {},
     "output_type": "display_data"
    }
   ],
   "source": [
    "count(subset(mappingAll,biome_1==\"Environmental\"),biome_3)"
   ]
  }
 ],
 "metadata": {
  "jupytext": {
   "cell_metadata_filter": "tags,name,-all",
   "main_language": "R",
   "notebook_metadata_filter": "-all"
  },
  "kernelspec": {
   "display_name": "R4.2.1 (py3_fla_2022)",
   "language": "R",
   "name": "py3_fla_2022-r"
  },
  "language_info": {
   "codemirror_mode": "r",
   "file_extension": ".r",
   "mimetype": "text/x-r-source",
   "name": "R",
   "pygments_lexer": "r",
   "version": "4.1.3"
  }
 },
 "nbformat": 4,
 "nbformat_minor": 5
}
