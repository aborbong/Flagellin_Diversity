{
 "cells": [
  {
   "cell_type": "raw",
   "id": "49a2fbc9",
   "metadata": {},
   "source": [
    "---\n",
    "title: \"Muehlabuer_kraken_shortbred_results\"\n",
    "output: github_document\n",
    "---"
   ]
  },
  {
   "cell_type": "code",
   "execution_count": null,
   "id": "66422c99",
   "metadata": {},
   "outputs": [],
   "source": [
    "library(tidyverse)\n",
    "library(dplyr)\n",
    "library(stringr)\n",
    "library(microViz)\n",
    "library(metagMisc)\n",
    "library(phyloseq)\n",
    "library(phylosignal)\n",
    "library(ggplot2)\n",
    "library(ggsci)\n",
    "library(viridis)"
   ]
  },
  {
   "cell_type": "markdown",
   "id": "12a10e3f",
   "metadata": {
    "lines_to_next_cell": 0
   },
   "source": [
    "#Muehlbauer results\n",
    "\n",
    "###Import kraken results - Muehlbauer"
   ]
  },
  {
   "cell_type": "code",
   "execution_count": null,
   "id": "bc581cd3",
   "metadata": {},
   "outputs": [],
   "source": [
    "kraken.muehl=read_tsv(\"/ebio/abt3_scratch/aborbon/taxonomy_profiles/muehl/llmgp/output_muehl/kraken/all-combined-bracken.tsv\",col_names=TRUE)\n",
    "kraken.muehl\n",
    "\n",
    "kraken.muehl.frac=select(kraken.muehl,name,taxonomy_id,taxonomy,ends_with(\"frac\"))\n",
    "colnames(kraken.muehl.frac)=gsub(\"_frac\",\"\",colnames(kraken.muehl.frac))\n",
    "kraken.muehl.frac"
   ]
  },
  {
   "cell_type": "markdown",
   "id": "7827c192",
   "metadata": {
    "lines_to_next_cell": 0
   },
   "source": [
    "###Create OTU table from kraken results"
   ]
  },
  {
   "cell_type": "code",
   "execution_count": null,
   "id": "01cbd2ad",
   "metadata": {},
   "outputs": [],
   "source": [
    "#otu counts\n",
    "kraken_muehl_otus=kraken.muehl.frac %>%\n",
    "  select(-c(taxonomy_id,taxonomy))\n",
    "\n",
    "otus_kraken.muehl=otu_table(kraken_muehl_otus[,2:ncol(kraken_muehl_otus)],taxa_are_rows = TRUE)\n",
    "rownames(otus_kraken.muehl)=kraken_muehl_otus$name\n",
    "otus_kraken.muehl\n",
    "\n",
    "#taxonomy table\n",
    "tax.kraken.muehl=kraken.muehl %>%\n",
    "  select(name,taxonomy)\n",
    "\n",
    "tax.kraken.muehl=tax_table(as.matrix(tax.kraken.muehl[,2:ncol(tax.kraken.muehl)]))\n",
    "rownames(tax.kraken.muehl)=kraken.muehl$name\n",
    "\n",
    "\n",
    "#metadata\n",
    "mapping_ps_muehl=sample_data(filter(mappingAll,Dataset==\"Muehlbauer_2020\"))\n",
    "rownames(mapping_ps_muehl)=(filter(mappingAll,Dataset==\"Muehlbauer_2020\"))$Sample\n",
    "\n",
    "#Phyloseq kraken amato\n",
    "ps.kraken.muehl=phyloseq(otus_kraken.muehl,tax.kraken.muehl,mapping_ps_muehl)\n",
    "ps.kraken.muehl"
   ]
  },
  {
   "cell_type": "code",
   "execution_count": null,
   "id": "afb305c8",
   "metadata": {},
   "outputs": [],
   "source": [
    "\n",
    "#Filter based on prevalence\n",
    "filter_taxa_All.muehl = phyloseq_filter_prevalence(ps.kraken.muehl, prev.trh = 0.05, abund.trh = NULL,\n",
    "  threshold_condition = \"OR\", abund.type = \"total\") #943 taxa and 809 samples\n",
    "\n",
    "#Prune samples without any OTU\n",
    "filter_taxa_All2.muehl=prune_samples(sample_sums(filter_taxa_All.muehl)>0,filter_taxa_All.muehl)\n",
    "filter_taxa_All2.muehl\n",
    "\n",
    "#Normalize relative abundances\n",
    "filt.ps.relab.normAll.muehl  = transform_sample_counts(filter_taxa_All2.muehl, function(x) (x / sum(x)) ) \n",
    "filt.ps.relab.normAll.muehl"
   ]
  },
  {
   "cell_type": "code",
   "execution_count": null,
   "id": "ff541aae",
   "metadata": {},
   "outputs": [],
   "source": [
    "diss.jacc.muehl=phyloseq_group_dissimilarity(filt.ps.relab.normAll.muehl,group=\"family\",method=\"jaccard\",between_groups = FALSE)+ggtitle(\"Jaccard\")\n",
    "\n",
    "diss.bray.muehl=phyloseq_group_dissimilarity(filt.ps.relab.normAll.muehl,group=\"family\",method=\"bray\",between_groups = FALSE)+ggtitle(\"Bray-Curtis\")\n",
    "# diss.unifrac1=phyloseq_group_dissimilarity(filt.ps.relab.normAll.vert,group=\"biome_1\",method=\"unifrac\",between_groups = FALSE)+ggtitle(\"uUniFrac\")\n",
    "# diss.wunifrac1=phyloseq_group_dissimilarity(filt.ps.relab.normAll.vert,group=\"biome_1\",method=\"wunifrac\",between_groups = FALSE)+ggtitle(\"wUniFrac\")\n",
    "\n",
    "diss.jacc.muehl\n",
    "diss.bray.muehl"
   ]
  },
  {
   "cell_type": "markdown",
   "id": "8aa79f1a",
   "metadata": {
    "lines_to_next_cell": 0
   },
   "source": [
    "#Ordination plots with non-phylogenetic metrics"
   ]
  },
  {
   "cell_type": "code",
   "execution_count": null,
   "id": "93954a4f",
   "metadata": {},
   "outputs": [],
   "source": [
    "plot_ordination(physeq = filt.ps.relab.normAll.muehl,ordinate(filt.ps.relab.normAll.muehl,distance=\"jaccard\",method=\"PCoA\"),type=\"samples\",color=\"family\")+\n",
    "  theme_bw()+\n",
    "  geom_point(size=2)+\n",
    "  scale_color_lancet()+\n",
    "  ggtitle(\"Jaccard\")\n",
    "\n",
    "plot_ordination(physeq = filt.ps.relab.normAll.muehl,ordinate(filt.ps.relab.normAll.amato,distance=\"bray\",method=\"PCoA\"),type=\"samples\",color=\"family\")+\n",
    "  theme_bw()+\n",
    "  geom_point(size=2)+\n",
    "  scale_color_lancet()+\n",
    "  ggtitle(\"BrayCurtis\")"
   ]
  },
  {
   "cell_type": "markdown",
   "id": "14e718a4",
   "metadata": {
    "lines_to_next_cell": 0
   },
   "source": [
    "#Mantel test for Amato results"
   ]
  },
  {
   "cell_type": "code",
   "execution_count": null,
   "id": "ccb90181",
   "metadata": {},
   "outputs": [],
   "source": [
    "#Subset results of flagellome for Muehlbauer dataset\n",
    "ps_fla.muehl=ps_filter(filt.ps.relab.normAll, Dataset == \"Muehlbauer_2020\")\n",
    "ps_fla.muehl"
   ]
  },
  {
   "cell_type": "code",
   "execution_count": null,
   "id": "e2901982",
   "metadata": {},
   "outputs": [],
   "source": [
    "#Match samples from flagellin results amd overal microbiome results\n",
    "tmp.sam.muehl=ps_fla.muehl@sam_data\n",
    "ps.filtab.muehl=phyloseq(filt.ps.relab.normAll.muehl@otu_table,filt.ps.relab.normAll.muehl@tax_table,tmp.sam.muehl)\n",
    "\n",
    "#Distance matrices\n",
    "bray.muehl.fla=distance(ps_fla.muehl,method=\"bray\")\n",
    "bray.muehl.ubiom=distance(ps.filtab.muehl,method=\"bray\")\n",
    "\n",
    "mantel.muehl=mantel(bray.muehl.fla,bray.muehl.ubiom,method=\"spearman\")\n",
    "mantel.muehl"
   ]
  },
  {
   "cell_type": "markdown",
   "id": "f1c73378",
   "metadata": {
    "lines_to_next_cell": 0
   },
   "source": [
    "#Overall microbiome compositon in Amato dataset"
   ]
  },
  {
   "cell_type": "code",
   "execution_count": null,
   "id": "94ef2267",
   "metadata": {},
   "outputs": [],
   "source": [
    "ps.filtab.muehl\n",
    "\n",
    "plot_ordination(physeq = ps.filtab.muehl,ordinate(ps.filtab.muehl,distance=\"bray\",method=\"PCoA\"),type=\"samples\",color=\"family\")+\n",
    "  theme_bw()+\n",
    "  geom_point(size=2)+\n",
    "  scale_color_lancet()+\n",
    "  ggtitle(\"BrayCurtis\")\n",
    "\n",
    "phyloseq_group_dissimilarity(ps.filtab.muehl,group=\"family\",method=\"bray\",between_groups = FALSE)+ggtitle(\"Bray-Curtis\")"
   ]
  },
  {
   "cell_type": "markdown",
   "id": "4cb37a26",
   "metadata": {
    "lines_to_next_cell": 0
   },
   "source": [
    "#Procrustes analysis"
   ]
  },
  {
   "cell_type": "code",
   "execution_count": null,
   "id": "7e3cb2ee",
   "metadata": {
    "lines_to_next_cell": 0
   },
   "outputs": [],
   "source": [
    "typeof(otus_kraken.muehl)\n",
    "estimate_richness(ps_fla.muehl)"
   ]
  },
  {
   "cell_type": "code",
   "execution_count": null,
   "id": "b9bc8adc",
   "metadata": {
    "lines_to_next_cell": 0
   },
   "outputs": [],
   "source": [
    "kraken_muehl_otus\n",
    "otus_kraken.muehl\n",
    "\n",
    "kraken.muehl.shannon$alpha <- diversity (kraken_muehl_otus[,kraken_muehl_otus$name],MARGIN=2,index=\"shannon\")\n",
    "otus_kraken.muehl\n"
   ]
  },
  {
   "cell_type": "markdown",
   "id": "c7e48c84",
   "metadata": {},
   "source": []
  }
 ],
 "metadata": {
  "jupytext": {
   "cell_metadata_filter": "-all",
   "main_language": "R",
   "notebook_metadata_filter": "-all"
  },
  "kernelspec": {
   "display_name": "R4.2.1 (py3_fla_2022)",
   "language": "R",
   "name": "py3_fla_2022-r"
  },
  "language_info": {
   "codemirror_mode": "r",
   "file_extension": ".r",
   "mimetype": "text/x-r-source",
   "name": "R",
   "pygments_lexer": "r",
   "version": "4.0.5"
  }
 },
 "nbformat": 4,
 "nbformat_minor": 5
}
