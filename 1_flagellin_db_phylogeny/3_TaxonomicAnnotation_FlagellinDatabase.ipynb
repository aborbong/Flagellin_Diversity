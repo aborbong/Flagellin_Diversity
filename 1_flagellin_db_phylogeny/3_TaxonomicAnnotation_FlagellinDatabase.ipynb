{
 "cells": [
  {
   "cell_type": "raw",
   "id": "b5e13a93",
   "metadata": {},
   "source": [
    "---\n",
    "title: \"Flagellin database taxonomy\"\n",
    "output: html_notebook\n",
    "---"
   ]
  },
  {
   "cell_type": "markdown",
   "id": "10fec300",
   "metadata": {
    "lines_to_next_cell": 0
   },
   "source": [
    "## Load libraries"
   ]
  },
  {
   "cell_type": "code",
   "execution_count": null,
   "id": "757faf08",
   "metadata": {
    "name": "Load libraries"
   },
   "outputs": [],
   "source": [
    "library(tidyverse)\n",
    "library(stringr)\n",
    "library(tidyr)\n",
    "library(dplyr)\n",
    "library(readr)\n",
    "library(taxonomizr)"
   ]
  },
  {
   "cell_type": "markdown",
   "id": "3c97293c",
   "metadata": {
    "lines_to_next_cell": 0
   },
   "source": [
    "## Import accessions of the flagellin database"
   ]
  },
  {
   "cell_type": "code",
   "execution_count": null,
   "id": "7a53e302",
   "metadata": {},
   "outputs": [],
   "source": [
    "#Import accessions\n",
    "accn.full.db=read.delim(\"/ebio/abt3_projects/small_projects/aborbon/TLR5/Dalong_Flagellin/FinalDatabase/accessions_curatedFlagellin_pfam_panther_noflgl.txt\",header=F)%>%\n",
    "  rename(Accession=V1)"
   ]
  },
  {
   "cell_type": "markdown",
   "id": "eb37d1f6",
   "metadata": {
    "lines_to_next_cell": 0
   },
   "source": [
    "## Import GTDB metadata and taxonomy files"
   ]
  },
  {
   "cell_type": "code",
   "execution_count": null,
   "id": "2cb5012d",
   "metadata": {},
   "outputs": [],
   "source": [
    "#Import metadata of GTDB version 202\n",
    "gtdb_bac_metadata_v202=read.delim(\"/ebio/abt3_projects/small_projects/aborbon/TLR5/Dalong_Flagellin/gtdb_v202/bac120_metadata_r202.tsv\")\n",
    "\n",
    "#Import taxonomy of GTDB version 202\n",
    "gtdb_bac.tax_v202=read.delim(\"/ebio/abt3_projects/small_projects/aborbon/TLR5/Dalong_Flagellin/gtdb_v202/bac120_taxonomy_r202.tsv\",header=F)%>%\n",
    "  rename(accession=V1)%>%\n",
    "  separate(V2,into=c(\"Domain\",\"Phylum\",\"Class\",\"Order\",\"Family\",\"Genus\",\"Species\"),sep=\";\")\n",
    "\n",
    "#Merge taxonomy and metadata files\n",
    "gtdb_taxonomy.v202=rbind(gtdb_bac.tax_v202,gtdb_arc.tax_v202) #n=258406\n",
    "taxid.to.gtdb_taxonomy.v202=inner_join(gtdb_bac.tax_v202,gtdb_bac_metadata_v202)%>%\n",
    "  select(Domain,Phylum,Class,Order,Family,Genus,Species,ncbi_taxid,accession)\n"
   ]
  },
  {
   "cell_type": "markdown",
   "id": "0440e42d",
   "metadata": {
    "lines_to_next_cell": 0
   },
   "source": [
    "## Obtain NCBI taxonomic annotation for the flagellin database - taxonomizr"
   ]
  },
  {
   "cell_type": "code",
   "execution_count": null,
   "id": "685a30d6",
   "metadata": {
    "lines_to_next_cell": 0
   },
   "outputs": [],
   "source": [
    "#1. Get taxids with taxonomizr\n",
    "#n=33051\n",
    "taxids.full.db=accessionToTaxa((as.character(accn.full.db$Accession)),\"/ebio/abt3_projects2/databases_no-backup/NCBI_accession2taxid/accessionTaxa.sql\",version=\"version\")\n",
    "\n",
    "#2. Assign taxonomy\n",
    "#Ouput: 29036\n",
    "taxonomy.ncbi.full.db=accn.full.db%>%\n",
    "  mutate(ncbi_taxid=taxids.full.db)%>%\n",
    "  mutate(ncbi_phylum=getTaxonomy(taxids.full.db,\"/ebio/abt3_projects/databases_no-backup/NCBI_accession2taxid/accessionTaxa.sql\",desiredTaxa=c(\"phylum\")))%>%\n",
    "  mutate(ncbi_class=getTaxonomy(taxids.full.db,\"/ebio/abt3_projects/databases_no-backup/NCBI_accession2taxid/accessionTaxa.sql\",desiredTaxa=c(\"class\")))%>%\n",
    "  mutate(ncbi_order=getTaxonomy(taxids.full.db,\"/ebio/abt3_projects/databases_no-backup/NCBI_accession2taxid/accessionTaxa.sql\",desiredTaxa=c(\"order\")))%>%\n",
    "  mutate(ncbi_family=getTaxonomy(taxids.full.db,\"/ebio/abt3_projects/databases_no-backup/NCBI_accession2taxid/accessionTaxa.sql\",desiredTaxa=c(\"family\")))%>%\n",
    "  mutate(ncbi_genus=getTaxonomy(taxids.full.db,\"/ebio/abt3_projects/databases_no-backup/NCBI_accession2taxid/accessionTaxa.sql\",desiredTaxa=c(\"genus\")))%>%\n",
    "  mutate(ncbi_species=getTaxonomy(taxids.full.db,\"/ebio/abt3_projects/databases_no-backup/NCBI_accession2taxid/accessionTaxa.sql\",desiredTaxa=c(\"species\")))%>%\n",
    "  filter(!is.na(ncbi_phylum)&!is.na(ncbi_genus))\n"
   ]
  },
  {
   "cell_type": "markdown",
   "id": "ba6381f4",
   "metadata": {},
   "source": [
    "\n"
   ]
  },
  {
   "cell_type": "markdown",
   "id": "450401f2",
   "metadata": {
    "lines_to_next_cell": 0
   },
   "source": [
    "## Obtain GTDB taxonomic annotation for the flagellin database"
   ]
  },
  {
   "cell_type": "code",
   "execution_count": null,
   "id": "925a7cb4",
   "metadata": {},
   "outputs": [],
   "source": [
    "\n",
    "#1. Generate a big annotation file that includes NCBI and matching GTDB taxonomy for each accession\n",
    "#Accessions without a matching GTDB taxonomy will be discarded\n",
    "taxonomy.gtdb.full.db=inner_join(taxonomy.ncbi.full.db,taxid.to.gtdb_taxonomy.v202,by=\"ncbi_taxid\")%>%\n",
    "  group_by(ncbi_taxid)%>%\n",
    "  distinct(Accession,.keep_all=T)%>%\n",
    "  filter(!is.na(accession))\n",
    "\n",
    "nrow(taxonomy.gtdb.full.db) #n=24915\n",
    "\n",
    "#Export accession numbers to filter the fasta file\n",
    "write_lines(taxonomy.gtdb.full.db$Accession, path=\"/ebio/abt3_projects/small_projects/aborbon/TLR5/Dalong_Flagellin/flic_flab_search/accessions_fulldb_taxonomy_gtdb.txt\")\n"
   ]
  },
  {
   "cell_type": "markdown",
   "id": "b1e266a6",
   "metadata": {
    "lines_to_next_cell": 0
   },
   "source": [
    "## Create metadata table of flagellins"
   ]
  },
  {
   "cell_type": "code",
   "execution_count": null,
   "id": "297a1139",
   "metadata": {
    "lines_to_next_cell": 0
   },
   "outputs": [],
   "source": [
    "metadata.gtdb.full.db=inner_join(taxonomy.gtdb.full.db,gtdb_metadata.v202,by=\"accession\")\n",
    "nrow(metadata.gtdb.full.db) #n=27207"
   ]
  },
  {
   "cell_type": "markdown",
   "id": "4cdac9d4",
   "metadata": {},
   "source": [
    "\n"
   ]
  },
  {
   "cell_type": "code",
   "execution_count": null,
   "id": "3fe1dc9d",
   "metadata": {},
   "outputs": [],
   "source": [
    "#Get taxonomy with GTDB metadata\n",
    "\n",
    "taxonomy.full.db.gtdb=left_join(taxonomy.gtdb.full.db,gtdb_bac_metadata_v202,by=\"ncbi_taxid\")\n",
    "nrow(taxonomy.full.db.gtdb)\n"
   ]
  },
  {
   "cell_type": "markdown",
   "id": "aff623d9",
   "metadata": {
    "lines_to_next_cell": 0
   },
   "source": [
    "## Taxonomy count per phylum"
   ]
  },
  {
   "cell_type": "code",
   "execution_count": null,
   "id": "140c919b",
   "metadata": {
    "lines_to_next_cell": 0
   },
   "outputs": [],
   "source": [
    "\n",
    "#Phylum counts\n",
    "count_phylum.full.db=taxonomy.gtdb.full.db%>%\n",
    "  group_by(Phylum)%>%\n",
    "  count()%>%\n",
    "  arrange(desc(n))\n",
    "count_phylum.full.db\n",
    "\n",
    "  "
   ]
  },
  {
   "cell_type": "markdown",
   "id": "9f55acac",
   "metadata": {
    "lines_to_next_cell": 0
   },
   "source": [
    "## Sources"
   ]
  },
  {
   "cell_type": "code",
   "execution_count": null,
   "id": "0d2cb737",
   "metadata": {},
   "outputs": [],
   "source": [
    "taxonomy.gtdb.full.db %>%\n",
    "  filter(Accession %in% taxonomy.full.db.gtdb)"
   ]
  },
  {
   "cell_type": "markdown",
   "id": "b3350d47",
   "metadata": {
    "lines_to_next_cell": 0
   },
   "source": [
    "## Plot taxonomy by phylum"
   ]
  },
  {
   "cell_type": "code",
   "execution_count": null,
   "id": "74852b92",
   "metadata": {},
   "outputs": [],
   "source": [
    "taxonomy.gtdb.full.db=\n",
    "ggplot(data=count_phylum.full.db,aes(x=\"\",y=n,fill=reorder(Family,-n)))\n",
    "\n",
    "ggplot(data=count_phylum.full.db,aes(x=\"\",y=n,fill=reorder(Phylum,-n))) +\n",
    "  geom_bar(stat=\"identity\",width=1,color=\"white\")+\n",
    "  coord_polar(\"y\",start = 0)+\n",
    "  scale_fill_npg(name=\"Phylum\")+\n",
    "  theme_void()+\n",
    "  labs(fill=\"Source\")+\n",
    "  theme(legend.title = element_blank())\n",
    "\n",
    "top.fla=count_phylum.full.db%>%\n",
    "  arrange(desc(n))\n",
    "\n",
    "  ggplot(data=top.fla,aes(x=n,y=reorder(Phylum,-n),color=Phylum))+\n",
    "  geom_point()+\n",
    "  geom_segment(aes(x=0,xend=n,yend=Phylum,y=Phylum),size=1)+\n",
    "  labs(x=\"Count\",y=\"Phylum\")+\n",
    "  theme_minimal()+\n",
    "  theme(axis.text.x = element_text(angle = 45, hjust = 1, size = 11),\n",
    "          axis.text.y = element_text(size = 8))+\n",
    "  scale_color_lancet()\n",
    "  "
   ]
  }
 ],
 "metadata": {
  "jupytext": {
   "cell_metadata_filter": "name,-all",
   "main_language": "R",
   "notebook_metadata_filter": "-all"
  },
  "kernelspec": {
   "display_name": "R4.2.1 (py3_fla_2022)",
   "language": "R",
   "name": "py3_fla_2022-r"
  },
  "language_info": {
   "codemirror_mode": "r",
   "file_extension": ".r",
   "mimetype": "text/x-r-source",
   "name": "R",
   "pygments_lexer": "r",
   "version": "4.2.2"
  }
 },
 "nbformat": 4,
 "nbformat_minor": 5
}
