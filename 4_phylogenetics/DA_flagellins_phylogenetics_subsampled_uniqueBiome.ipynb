{
 "cells": [
  {
   "cell_type": "markdown",
   "id": "763de667-dfad-4a3c-b178-bc8c9bb82d1d",
   "metadata": {},
   "source": [
    "# Enriched flagellins across biomes"
   ]
  },
  {
   "cell_type": "markdown",
   "id": "2bfbf78f-8f73-4741-b19c-62e4626b5c8f",
   "metadata": {},
   "source": [
    "This notebook will focus on phylogenetic analyses with differentially abundant (DA) flagellins previously identified between host-associated and free-living environments"
   ]
  },
  {
   "cell_type": "markdown",
   "id": "a5aee11c-4633-447b-9d9c-6cee2ac32116",
   "metadata": {},
   "source": [
    "### Set-up"
   ]
  },
  {
   "cell_type": "code",
   "execution_count": 2,
   "id": "14e23183-509c-4c2b-acf6-e2011d105748",
   "metadata": {
    "tags": []
   },
   "outputs": [
    {
     "name": "stderr",
     "output_type": "stream",
     "text": [
      "── \u001b[1mAttaching packages\u001b[22m ──────────────────────────────────────────────────────────────────── tidyverse 1.3.2 ──\n",
      "\u001b[32m✔\u001b[39m \u001b[34mggplot2\u001b[39m 3.4.4     \u001b[32m✔\u001b[39m \u001b[34mpurrr  \u001b[39m 1.0.2\n",
      "\u001b[32m✔\u001b[39m \u001b[34mtibble \u001b[39m 3.2.1     \u001b[32m✔\u001b[39m \u001b[34mdplyr  \u001b[39m 1.1.4\n",
      "\u001b[32m✔\u001b[39m \u001b[34mtidyr  \u001b[39m 1.3.0     \u001b[32m✔\u001b[39m \u001b[34mstringr\u001b[39m 1.5.1\n",
      "\u001b[32m✔\u001b[39m \u001b[34mreadr  \u001b[39m 2.1.4     \u001b[32m✔\u001b[39m \u001b[34mforcats\u001b[39m 1.0.0\n",
      "── \u001b[1mConflicts\u001b[22m ─────────────────────────────────────────────────────────────────────── tidyverse_conflicts() ──\n",
      "\u001b[31m✖\u001b[39m \u001b[34mdplyr\u001b[39m::\u001b[32mfilter()\u001b[39m masks \u001b[34mstats\u001b[39m::filter()\n",
      "\u001b[31m✖\u001b[39m \u001b[34mdplyr\u001b[39m::\u001b[32mlag()\u001b[39m    masks \u001b[34mstats\u001b[39m::lag()\n",
      "Loading required package: viridisLite\n",
      "\n",
      "Loading required package: permute\n",
      "\n",
      "Loading required package: lattice\n",
      "\n",
      "This is vegan 2.6-4\n",
      "\n",
      "Loading required package: nlme\n",
      "\n",
      "\n",
      "Attaching package: ‘nlme’\n",
      "\n",
      "\n",
      "The following object is masked from ‘package:seqinr’:\n",
      "\n",
      "    gls\n",
      "\n",
      "\n",
      "The following object is masked from ‘package:dplyr’:\n",
      "\n",
      "    collapse\n",
      "\n",
      "\n",
      "Loading required package: maps\n",
      "\n",
      "\n",
      "Attaching package: ‘maps’\n",
      "\n",
      "\n",
      "The following object is masked from ‘package:viridis’:\n",
      "\n",
      "    unemp\n",
      "\n",
      "\n",
      "The following object is masked from ‘package:purrr’:\n",
      "\n",
      "    map\n",
      "\n",
      "\n"
     ]
    }
   ],
   "source": [
    "library(tidyverse)\n",
    "library(ggplot2)\n",
    "library(ggsci)\n",
    "library(viridis)\n",
    "library(conflicted)\n",
    "library(gridExtra)\n",
    "library(vegan)\n",
    "library(ape)\n",
    "library(lattice)\n",
    "library(permute)\n",
    "library(grid) \n",
    "library(seqinr)\n",
    "library(\"picante\")\n",
    "library(\"phylosignal\")\n",
    "library(\"phytools\")\n",
    "library(rentrez)"
   ]
  },
  {
   "cell_type": "code",
   "execution_count": 3,
   "id": "e994d3b3-f0a2-4a8e-a374-e64f4814d0a2",
   "metadata": {
    "tags": []
   },
   "outputs": [
    {
     "name": "stderr",
     "output_type": "stream",
     "text": [
      "\u001b[1m\u001b[22m\u001b[90m[conflicted]\u001b[39m Will prefer \u001b[1m\u001b[34mdplyr\u001b[39m\u001b[22m::filter over any other package.\n",
      "\u001b[1m\u001b[22m\u001b[90m[conflicted]\u001b[39m Will prefer \u001b[1m\u001b[34mdplyr\u001b[39m\u001b[22m::rename over any other package.\n",
      "\u001b[1m\u001b[22m\u001b[90m[conflicted]\u001b[39m Will prefer \u001b[1m\u001b[34mdplyr\u001b[39m\u001b[22m::mutate over any other package.\n",
      "\u001b[1m\u001b[22m\u001b[90m[conflicted]\u001b[39m Will prefer \u001b[1m\u001b[34mdplyr\u001b[39m\u001b[22m::count over any other package.\n"
     ]
    }
   ],
   "source": [
    "conflict_prefer(\"filter\",\"dplyr\")\n",
    "conflict_prefer(\"rename\",\"dplyr\")\n",
    "conflict_prefer(\"mutate\",\"dplyr\")\n",
    "conflict_prefer(\"count\",\"dplyr\")"
   ]
  },
  {
   "cell_type": "markdown",
   "id": "55683a78-8af6-48de-81f6-4c9c32522b62",
   "metadata": {},
   "source": [
    "### Import input files"
   ]
  },
  {
   "cell_type": "markdown",
   "id": "af6c45e8-ea66-4138-b7bf-2cfe68c1d9bc",
   "metadata": {
    "jp-MarkdownHeadingCollapsed": true,
    "tags": []
   },
   "source": [
    "## Non-rarefied / filtered results"
   ]
  },
  {
   "cell_type": "code",
   "execution_count": 10,
   "id": "74cb34e0-f496-4fec-8dbc-328716de3ddd",
   "metadata": {
    "collapsed": true,
    "jupyter": {
     "outputs_hidden": true
    },
    "tags": []
   },
   "outputs": [
    {
     "name": "stderr",
     "output_type": "stream",
     "text": [
      "\u001b[1mRows: \u001b[22m\u001b[34m609\u001b[39m \u001b[1mColumns: \u001b[22m\u001b[34m13\u001b[39m\n",
      "\u001b[36m──\u001b[39m \u001b[1mColumn specification\u001b[22m \u001b[36m───────────────────────────────────────────────────────────────────────────────────────────────────────────────────────────────────────────────────\u001b[39m\n",
      "\u001b[1mDelimiter:\u001b[22m \"\\t\"\n",
      "\u001b[31mchr\u001b[39m (9): Accession, Domain, Phylum, Class, Order, Family, Genus, Species, En...\n",
      "\u001b[32mdbl\u001b[39m (4): logFC, logCPM, PValue, FDR\n",
      "\n",
      "\u001b[36mℹ\u001b[39m Use `spec()` to retrieve the full column specification for this data.\n",
      "\u001b[36mℹ\u001b[39m Specify the column types or set `show_col_types = FALSE` to quiet this message.\n",
      "\u001b[1mRows: \u001b[22m\u001b[34m203\u001b[39m \u001b[1mColumns: \u001b[22m\u001b[34m13\u001b[39m\n",
      "\u001b[36m──\u001b[39m \u001b[1mColumn specification\u001b[22m \u001b[36m───────────────────────────────────────────────────────────────────────────────────────────────────────────────────────────────────────────────────\u001b[39m\n",
      "\u001b[1mDelimiter:\u001b[22m \"\\t\"\n",
      "\u001b[31mchr\u001b[39m (9): Accession, Domain, Phylum, Class, Order, Family, Genus, Species, En...\n",
      "\u001b[32mdbl\u001b[39m (4): logFC, logCPM, PValue, FDR\n",
      "\n",
      "\u001b[36mℹ\u001b[39m Use `spec()` to retrieve the full column specification for this data.\n",
      "\u001b[36mℹ\u001b[39m Specify the column types or set `show_col_types = FALSE` to quiet this message.\n",
      "\u001b[1mRows: \u001b[22m\u001b[34m326\u001b[39m \u001b[1mColumns: \u001b[22m\u001b[34m13\u001b[39m\n",
      "\u001b[36m──\u001b[39m \u001b[1mColumn specification\u001b[22m \u001b[36m───────────────────────────────────────────────────────────────────────────────────────────────────────────────────────────────────────────────────\u001b[39m\n",
      "\u001b[1mDelimiter:\u001b[22m \"\\t\"\n",
      "\u001b[31mchr\u001b[39m (9): Accession, Domain, Phylum, Class, Order, Family, Genus, Species, En...\n",
      "\u001b[32mdbl\u001b[39m (4): logFC, logCPM, PValue, FDR\n",
      "\n",
      "\u001b[36mℹ\u001b[39m Use `spec()` to retrieve the full column specification for this data.\n",
      "\u001b[36mℹ\u001b[39m Specify the column types or set `show_col_types = FALSE` to quiet this message.\n",
      "\u001b[1mRows: \u001b[22m\u001b[34m623\u001b[39m \u001b[1mColumns: \u001b[22m\u001b[34m13\u001b[39m\n",
      "\u001b[36m──\u001b[39m \u001b[1mColumn specification\u001b[22m \u001b[36m───────────────────────────────────────────────────────────────────────────────────────────────────────────────────────────────────────────────────\u001b[39m\n",
      "\u001b[1mDelimiter:\u001b[22m \"\\t\"\n",
      "\u001b[31mchr\u001b[39m (9): Accession, Domain, Phylum, Class, Order, Family, Genus, Species, En...\n",
      "\u001b[32mdbl\u001b[39m (4): logFC, logCPM, PValue, FDR\n",
      "\n",
      "\u001b[36mℹ\u001b[39m Use `spec()` to retrieve the full column specification for this data.\n",
      "\u001b[36mℹ\u001b[39m Specify the column types or set `show_col_types = FALSE` to quiet this message.\n"
     ]
    }
   ],
   "source": [
    "#EdgeR results\n",
    "DA.animals.env = read_tsv(\"seqs/DA.animals.env.tsv\",col_names=T)\n",
    "DA.animals.plants = read_tsv(\"seqs/DA.animal.plants.tsv\",col_names=T)\n",
    "DA.plants.env = read_tsv(\"seqs/DA.plants.env.tsv\",col_names=T)\n",
    "DA.host.env = read_tsv(\"seqs/DA.host.env.tsv\",col_names=T)"
   ]
  },
  {
   "cell_type": "code",
   "execution_count": 11,
   "id": "9c400d8f-43f3-4fe7-bda8-b650863122c3",
   "metadata": {},
   "outputs": [],
   "source": [
    "#Flagellin multifasta\n",
    "flagellins.markers.sb=seqinr::read.fasta(\"/ebio/abt3_projects/small_projects/aborbon/Thesis_FlagellinDiversity/1_shortbred/out.finalmap.faa\",seqtype=\"AA\")"
   ]
  },
  {
   "cell_type": "code",
   "execution_count": 92,
   "id": "3ad57af8-fd92-4cb2-94f3-c783ba76bb3f",
   "metadata": {
    "tags": []
   },
   "outputs": [
    {
     "name": "stderr",
     "output_type": "stream",
     "text": [
      "\u001b[1mRows: \u001b[22m\u001b[34m9963\u001b[39m \u001b[1mColumns: \u001b[22m\u001b[34m13\u001b[39m\n",
      "\u001b[36m──\u001b[39m \u001b[1mColumn specification\u001b[22m \u001b[36m───────────────────────────────────────────────────────────────────────────────────────────────────────────────────────────────────────────────────\u001b[39m\n",
      "\u001b[1mDelimiter:\u001b[22m \"\\t\"\n",
      "\u001b[31mchr\u001b[39m (9): Accession, ncbi_phylum, Domain, Phylum, Class, Order, Family, Genus...\n",
      "\u001b[32mdbl\u001b[39m (4): length, HVR_length, ncbi_taxid, genome_size\n",
      "\n",
      "\u001b[36mℹ\u001b[39m Use `spec()` to retrieve the full column specification for this data.\n",
      "\u001b[36mℹ\u001b[39m Specify the column types or set `show_col_types = FALSE` to quiet this message.\n"
     ]
    }
   ],
   "source": [
    "flagellin.sizes.taxonomy = read_tsv(\"../../../flagellin_phylogeny//fla.sb.taxonomy.length.tsv\",col_names=T) %>%\n",
    "select(Accession,length,HVR_length,ncbi_phylum,genome_size)"
   ]
  },
  {
   "cell_type": "code",
   "execution_count": null,
   "id": "278372ab-488b-40ca-a44f-19feb058cdc1",
   "metadata": {},
   "outputs": [],
   "source": []
  },
  {
   "cell_type": "code",
   "execution_count": 13,
   "id": "799dab8b-ed56-4f22-a013-04506a4883ed",
   "metadata": {},
   "outputs": [],
   "source": [
    "#Filter sequences for each set of DA flagellins\n",
    "seqs.DA.animals.env = flagellins.markers.sb[c(which(names(flagellins.markers.sb) %in% DA.animals.env$Accession))]\n",
    "seqs.DA.animals.plants = flagellins.markers.sb[c(which(names(flagellins.markers.sb) %in% DA.animals.plants$Accession))]\n",
    "seqs.DA.plants.env = flagellins.markers.sb[c(which(names(flagellins.markers.sb) %in% DA.plants.env$Accession))]\n",
    "seqs.DA.host.env = flagellins.markers.sb[c(which(names(flagellins.markers.sb) %in% DA.host.env$Accession))]"
   ]
  },
  {
   "cell_type": "code",
   "execution_count": 14,
   "id": "64607e70-0c57-4c9f-a5a7-a299cee70669",
   "metadata": {},
   "outputs": [],
   "source": [
    "#Export sequences\n",
    "write.fasta(sequences = seqs.DA.animals.env, names = names(seqs.DA.animals.env), nbchar = 80, file.out = \"seqs/seqs.DA.animals.env.faa\")\n",
    "write.fasta(sequences = seqs.DA.animals.plants, names = names(seqs.DA.animals.plants), nbchar = 80, file.out = \"seqs/seqs.DA.animals.plants.faa\")\n",
    "write.fasta(sequences = seqs.DA.plants.env, names = names(seqs.DA.plants.env), nbchar = 80, file.out = \"seqs/seqs.DA.plants.env.faa\")\n",
    "write.fasta(sequences = seqs.DA.host.env, names = names(seqs.DA.host.env), nbchar = 80, file.out = \"seqs/seqs.DA.host.env.faa\")\n"
   ]
  },
  {
   "cell_type": "code",
   "execution_count": 89,
   "id": "28f9b5b4-1844-4168-87e0-4ccfec88b19e",
   "metadata": {},
   "outputs": [
    {
     "data": {
      "text/html": [
       "<style>\n",
       ".list-inline {list-style: none; margin:0; padding: 0}\n",
       ".list-inline>li {display: inline-block}\n",
       ".list-inline>li:not(:last-child)::after {content: \"\\00b7\"; padding: 0 .5ex}\n",
       "</style>\n",
       "<ol class=list-inline><li>'Accession'</li><li>'Domain'</li><li>'Phylum'</li><li>'Class'</li><li>'Order'</li><li>'Family'</li><li>'Genus'</li><li>'Species'</li><li>'logFC'</li><li>'logCPM'</li><li>'PValue'</li><li>'FDR'</li><li>'EnrichedIn'</li></ol>\n"
      ],
      "text/latex": [
       "\\begin{enumerate*}\n",
       "\\item 'Accession'\n",
       "\\item 'Domain'\n",
       "\\item 'Phylum'\n",
       "\\item 'Class'\n",
       "\\item 'Order'\n",
       "\\item 'Family'\n",
       "\\item 'Genus'\n",
       "\\item 'Species'\n",
       "\\item 'logFC'\n",
       "\\item 'logCPM'\n",
       "\\item 'PValue'\n",
       "\\item 'FDR'\n",
       "\\item 'EnrichedIn'\n",
       "\\end{enumerate*}\n"
      ],
      "text/markdown": [
       "1. 'Accession'\n",
       "2. 'Domain'\n",
       "3. 'Phylum'\n",
       "4. 'Class'\n",
       "5. 'Order'\n",
       "6. 'Family'\n",
       "7. 'Genus'\n",
       "8. 'Species'\n",
       "9. 'logFC'\n",
       "10. 'logCPM'\n",
       "11. 'PValue'\n",
       "12. 'FDR'\n",
       "13. 'EnrichedIn'\n",
       "\n",
       "\n"
      ],
      "text/plain": [
       " [1] \"Accession\"  \"Domain\"     \"Phylum\"     \"Class\"      \"Order\"     \n",
       " [6] \"Family\"     \"Genus\"      \"Species\"    \"logFC\"      \"logCPM\"    \n",
       "[11] \"PValue\"     \"FDR\"        \"EnrichedIn\""
      ]
     },
     "metadata": {},
     "output_type": "display_data"
    }
   ],
   "source": [
    "names(DA.animals.env)"
   ]
  },
  {
   "cell_type": "code",
   "execution_count": 93,
   "id": "306ba548-530d-47f7-85e9-b99cd59292ac",
   "metadata": {},
   "outputs": [],
   "source": [
    "map.DA.animals.env = inner_join(DA.animals.env,flagellin.sizes.taxonomy,by=\"Accession\")"
   ]
  },
  {
   "cell_type": "code",
   "execution_count": 94,
   "id": "0ded3761-31c8-418f-9de2-d7c74cf166b8",
   "metadata": {
    "tags": []
   },
   "outputs": [
    {
     "data": {
      "text/html": [
       "<table class=\"dataframe\">\n",
       "<caption>A tibble: 6 × 17</caption>\n",
       "<thead>\n",
       "\t<tr><th scope=col>Accession</th><th scope=col>Domain</th><th scope=col>Phylum</th><th scope=col>Class</th><th scope=col>Order</th><th scope=col>Family</th><th scope=col>Genus</th><th scope=col>Species</th><th scope=col>logFC</th><th scope=col>logCPM</th><th scope=col>PValue</th><th scope=col>FDR</th><th scope=col>EnrichedIn</th><th scope=col>length</th><th scope=col>HVR_length</th><th scope=col>ncbi_phylum</th><th scope=col>genome_size</th></tr>\n",
       "\t<tr><th scope=col>&lt;chr&gt;</th><th scope=col>&lt;chr&gt;</th><th scope=col>&lt;chr&gt;</th><th scope=col>&lt;chr&gt;</th><th scope=col>&lt;chr&gt;</th><th scope=col>&lt;chr&gt;</th><th scope=col>&lt;chr&gt;</th><th scope=col>&lt;chr&gt;</th><th scope=col>&lt;dbl&gt;</th><th scope=col>&lt;dbl&gt;</th><th scope=col>&lt;dbl&gt;</th><th scope=col>&lt;dbl&gt;</th><th scope=col>&lt;chr&gt;</th><th scope=col>&lt;dbl&gt;</th><th scope=col>&lt;dbl&gt;</th><th scope=col>&lt;chr&gt;</th><th scope=col>&lt;dbl&gt;</th></tr>\n",
       "</thead>\n",
       "<tbody>\n",
       "\t<tr><td>EEJ52905.1    </td><td>d__Bacteria</td><td>p__Actinobacteriota</td><td>c__Actinomycetia      </td><td>o__Actinomycetales</td><td>f__Actinomycetaceae </td><td>g__Mobiluncus      </td><td>s__Mobiluncus mulieris         </td><td>3.080322</td><td>11.98937</td><td>5.780637e-75</td><td>1.138786e-71</td><td>Environmental</td><td>511</td><td>271</td><td>Actinobacteria</td><td>2435166</td></tr>\n",
       "\t<tr><td>OUT94870.1    </td><td>d__Bacteria</td><td>p__Proteobacteria  </td><td>c__Alphaproteobacteria</td><td>o__Parvibaculales </td><td>f__RS24             </td><td>g__UBA7378         </td><td>s__UBA7378 sp002689195         </td><td>3.446868</td><td>11.46430</td><td>7.556581e-64</td><td>7.443232e-61</td><td>Environmental</td><td>671</td><td>431</td><td>Proteobacteria</td><td>1652246</td></tr>\n",
       "\t<tr><td>KQT19785.1    </td><td>d__Bacteria</td><td>p__Proteobacteria  </td><td>c__Alphaproteobacteria</td><td>o__Rhizobiales    </td><td>f__Beijerinckiaceae </td><td>g__Methylobacterium</td><td>s__Methylobacterium sp001423265</td><td>2.750747</td><td>11.26181</td><td>5.330136e-60</td><td>3.500123e-57</td><td>Environmental</td><td>569</td><td>329</td><td>Proteobacteria</td><td>4456718</td></tr>\n",
       "\t<tr><td>KDR32911.1    </td><td>d__Bacteria</td><td>p__Proteobacteria  </td><td>c__Gammaproteobacteria</td><td>o__Burkholderiales</td><td>f__Burkholderiaceae </td><td>g__Caballeronia    </td><td>s__Caballeronia zhejiangensis  </td><td>3.268495</td><td>14.43158</td><td>1.497735e-52</td><td>7.376344e-50</td><td>Environmental</td><td>426</td><td>186</td><td>Proteobacteria</td><td>7666841</td></tr>\n",
       "\t<tr><td>OAS88434.1    </td><td>d__Bacteria</td><td>p__Proteobacteria  </td><td>c__Gammaproteobacteria</td><td>o__Burkholderiales</td><td>f__Burkholderiaceae </td><td>g__Achromobacter   </td><td>s__Achromobacter xylosoxidans  </td><td>2.372564</td><td>11.40918</td><td>1.161668e-42</td><td>4.576974e-40</td><td>Environmental</td><td>506</td><td>266</td><td>Proteobacteria</td><td>5876049</td></tr>\n",
       "\t<tr><td>WP_068024403.1</td><td>d__Bacteria</td><td>p__Proteobacteria  </td><td>c__Alphaproteobacteria</td><td>o__Rhizobiales    </td><td>f__Xanthobacteraceae</td><td>g__Z2-YC6860       </td><td>s__Z2-YC6860 sp001579845       </td><td>2.629497</td><td>11.07332</td><td>1.590802e-40</td><td>5.223134e-38</td><td>Environmental</td><td>274</td><td> 34</td><td>Proteobacteria</td><td>8193889</td></tr>\n",
       "</tbody>\n",
       "</table>\n"
      ],
      "text/latex": [
       "A tibble: 6 × 17\n",
       "\\begin{tabular}{lllllllllllllllll}\n",
       " Accession & Domain & Phylum & Class & Order & Family & Genus & Species & logFC & logCPM & PValue & FDR & EnrichedIn & length & HVR\\_length & ncbi\\_phylum & genome\\_size\\\\\n",
       " <chr> & <chr> & <chr> & <chr> & <chr> & <chr> & <chr> & <chr> & <dbl> & <dbl> & <dbl> & <dbl> & <chr> & <dbl> & <dbl> & <chr> & <dbl>\\\\\n",
       "\\hline\n",
       "\t EEJ52905.1     & d\\_\\_Bacteria & p\\_\\_Actinobacteriota & c\\_\\_Actinomycetia       & o\\_\\_Actinomycetales & f\\_\\_Actinomycetaceae  & g\\_\\_Mobiluncus       & s\\_\\_Mobiluncus mulieris          & 3.080322 & 11.98937 & 5.780637e-75 & 1.138786e-71 & Environmental & 511 & 271 & Actinobacteria & 2435166\\\\\n",
       "\t OUT94870.1     & d\\_\\_Bacteria & p\\_\\_Proteobacteria   & c\\_\\_Alphaproteobacteria & o\\_\\_Parvibaculales  & f\\_\\_RS24              & g\\_\\_UBA7378          & s\\_\\_UBA7378 sp002689195          & 3.446868 & 11.46430 & 7.556581e-64 & 7.443232e-61 & Environmental & 671 & 431 & Proteobacteria & 1652246\\\\\n",
       "\t KQT19785.1     & d\\_\\_Bacteria & p\\_\\_Proteobacteria   & c\\_\\_Alphaproteobacteria & o\\_\\_Rhizobiales     & f\\_\\_Beijerinckiaceae  & g\\_\\_Methylobacterium & s\\_\\_Methylobacterium sp001423265 & 2.750747 & 11.26181 & 5.330136e-60 & 3.500123e-57 & Environmental & 569 & 329 & Proteobacteria & 4456718\\\\\n",
       "\t KDR32911.1     & d\\_\\_Bacteria & p\\_\\_Proteobacteria   & c\\_\\_Gammaproteobacteria & o\\_\\_Burkholderiales & f\\_\\_Burkholderiaceae  & g\\_\\_Caballeronia     & s\\_\\_Caballeronia zhejiangensis   & 3.268495 & 14.43158 & 1.497735e-52 & 7.376344e-50 & Environmental & 426 & 186 & Proteobacteria & 7666841\\\\\n",
       "\t OAS88434.1     & d\\_\\_Bacteria & p\\_\\_Proteobacteria   & c\\_\\_Gammaproteobacteria & o\\_\\_Burkholderiales & f\\_\\_Burkholderiaceae  & g\\_\\_Achromobacter    & s\\_\\_Achromobacter xylosoxidans   & 2.372564 & 11.40918 & 1.161668e-42 & 4.576974e-40 & Environmental & 506 & 266 & Proteobacteria & 5876049\\\\\n",
       "\t WP\\_068024403.1 & d\\_\\_Bacteria & p\\_\\_Proteobacteria   & c\\_\\_Alphaproteobacteria & o\\_\\_Rhizobiales     & f\\_\\_Xanthobacteraceae & g\\_\\_Z2-YC6860        & s\\_\\_Z2-YC6860 sp001579845        & 2.629497 & 11.07332 & 1.590802e-40 & 5.223134e-38 & Environmental & 274 &  34 & Proteobacteria & 8193889\\\\\n",
       "\\end{tabular}\n"
      ],
      "text/markdown": [
       "\n",
       "A tibble: 6 × 17\n",
       "\n",
       "| Accession &lt;chr&gt; | Domain &lt;chr&gt; | Phylum &lt;chr&gt; | Class &lt;chr&gt; | Order &lt;chr&gt; | Family &lt;chr&gt; | Genus &lt;chr&gt; | Species &lt;chr&gt; | logFC &lt;dbl&gt; | logCPM &lt;dbl&gt; | PValue &lt;dbl&gt; | FDR &lt;dbl&gt; | EnrichedIn &lt;chr&gt; | length &lt;dbl&gt; | HVR_length &lt;dbl&gt; | ncbi_phylum &lt;chr&gt; | genome_size &lt;dbl&gt; |\n",
       "|---|---|---|---|---|---|---|---|---|---|---|---|---|---|---|---|---|\n",
       "| EEJ52905.1     | d__Bacteria | p__Actinobacteriota | c__Actinomycetia       | o__Actinomycetales | f__Actinomycetaceae  | g__Mobiluncus       | s__Mobiluncus mulieris          | 3.080322 | 11.98937 | 5.780637e-75 | 1.138786e-71 | Environmental | 511 | 271 | Actinobacteria | 2435166 |\n",
       "| OUT94870.1     | d__Bacteria | p__Proteobacteria   | c__Alphaproteobacteria | o__Parvibaculales  | f__RS24              | g__UBA7378          | s__UBA7378 sp002689195          | 3.446868 | 11.46430 | 7.556581e-64 | 7.443232e-61 | Environmental | 671 | 431 | Proteobacteria | 1652246 |\n",
       "| KQT19785.1     | d__Bacteria | p__Proteobacteria   | c__Alphaproteobacteria | o__Rhizobiales     | f__Beijerinckiaceae  | g__Methylobacterium | s__Methylobacterium sp001423265 | 2.750747 | 11.26181 | 5.330136e-60 | 3.500123e-57 | Environmental | 569 | 329 | Proteobacteria | 4456718 |\n",
       "| KDR32911.1     | d__Bacteria | p__Proteobacteria   | c__Gammaproteobacteria | o__Burkholderiales | f__Burkholderiaceae  | g__Caballeronia     | s__Caballeronia zhejiangensis   | 3.268495 | 14.43158 | 1.497735e-52 | 7.376344e-50 | Environmental | 426 | 186 | Proteobacteria | 7666841 |\n",
       "| OAS88434.1     | d__Bacteria | p__Proteobacteria   | c__Gammaproteobacteria | o__Burkholderiales | f__Burkholderiaceae  | g__Achromobacter    | s__Achromobacter xylosoxidans   | 2.372564 | 11.40918 | 1.161668e-42 | 4.576974e-40 | Environmental | 506 | 266 | Proteobacteria | 5876049 |\n",
       "| WP_068024403.1 | d__Bacteria | p__Proteobacteria   | c__Alphaproteobacteria | o__Rhizobiales     | f__Xanthobacteraceae | g__Z2-YC6860        | s__Z2-YC6860 sp001579845        | 2.629497 | 11.07332 | 1.590802e-40 | 5.223134e-38 | Environmental | 274 |  34 | Proteobacteria | 8193889 |\n",
       "\n"
      ],
      "text/plain": [
       "  Accession      Domain      Phylum              Class                 \n",
       "1 EEJ52905.1     d__Bacteria p__Actinobacteriota c__Actinomycetia      \n",
       "2 OUT94870.1     d__Bacteria p__Proteobacteria   c__Alphaproteobacteria\n",
       "3 KQT19785.1     d__Bacteria p__Proteobacteria   c__Alphaproteobacteria\n",
       "4 KDR32911.1     d__Bacteria p__Proteobacteria   c__Gammaproteobacteria\n",
       "5 OAS88434.1     d__Bacteria p__Proteobacteria   c__Gammaproteobacteria\n",
       "6 WP_068024403.1 d__Bacteria p__Proteobacteria   c__Alphaproteobacteria\n",
       "  Order              Family               Genus              \n",
       "1 o__Actinomycetales f__Actinomycetaceae  g__Mobiluncus      \n",
       "2 o__Parvibaculales  f__RS24              g__UBA7378         \n",
       "3 o__Rhizobiales     f__Beijerinckiaceae  g__Methylobacterium\n",
       "4 o__Burkholderiales f__Burkholderiaceae  g__Caballeronia    \n",
       "5 o__Burkholderiales f__Burkholderiaceae  g__Achromobacter   \n",
       "6 o__Rhizobiales     f__Xanthobacteraceae g__Z2-YC6860       \n",
       "  Species                         logFC    logCPM   PValue       FDR         \n",
       "1 s__Mobiluncus mulieris          3.080322 11.98937 5.780637e-75 1.138786e-71\n",
       "2 s__UBA7378 sp002689195          3.446868 11.46430 7.556581e-64 7.443232e-61\n",
       "3 s__Methylobacterium sp001423265 2.750747 11.26181 5.330136e-60 3.500123e-57\n",
       "4 s__Caballeronia zhejiangensis   3.268495 14.43158 1.497735e-52 7.376344e-50\n",
       "5 s__Achromobacter xylosoxidans   2.372564 11.40918 1.161668e-42 4.576974e-40\n",
       "6 s__Z2-YC6860 sp001579845        2.629497 11.07332 1.590802e-40 5.223134e-38\n",
       "  EnrichedIn    length HVR_length ncbi_phylum    genome_size\n",
       "1 Environmental 511    271        Actinobacteria 2435166    \n",
       "2 Environmental 671    431        Proteobacteria 1652246    \n",
       "3 Environmental 569    329        Proteobacteria 4456718    \n",
       "4 Environmental 426    186        Proteobacteria 7666841    \n",
       "5 Environmental 506    266        Proteobacteria 5876049    \n",
       "6 Environmental 274     34        Proteobacteria 8193889    "
      ]
     },
     "metadata": {},
     "output_type": "display_data"
    }
   ],
   "source": [
    "head(map.DA.animals.env)"
   ]
  },
  {
   "cell_type": "code",
   "execution_count": 95,
   "id": "8c19fe41-bc35-4d5a-afd6-502312f7de9e",
   "metadata": {},
   "outputs": [],
   "source": [
    "#Create mapping files\n",
    "map.DA.animals.env = inner_join(DA.animals.env,flagellin.sizes.taxonomy,by=\"Accession\")\n",
    "map.DA.animals.plants = inner_join(DA.animals.plants,flagellin.sizes.taxonomy,by=\"Accession\")\n",
    "map.DA.plants.env = inner_join(DA.plants.env,flagellin.sizes.taxonomy,by=\"Accession\")\n",
    "map.DA.host.env = inner_join(DA.host.env,flagellin.sizes.taxonomy,by=\"Accession\")"
   ]
  },
  {
   "cell_type": "code",
   "execution_count": 96,
   "id": "d09a5425-6746-4aff-bfc8-5fe72a19e6ad",
   "metadata": {},
   "outputs": [
    {
     "data": {
      "text/html": [
       "203"
      ],
      "text/latex": [
       "203"
      ],
      "text/markdown": [
       "203"
      ],
      "text/plain": [
       "[1] 203"
      ]
     },
     "metadata": {},
     "output_type": "display_data"
    }
   ],
   "source": [
    "nrow(map.DA.animals.plants)"
   ]
  },
  {
   "cell_type": "code",
   "execution_count": 97,
   "id": "6de35ebc-aaa6-4a1f-9032-86186a3e4b2a",
   "metadata": {},
   "outputs": [],
   "source": [
    "#Write mapping files\n",
    "write_tsv(map.DA.animals.env,\"seqs/map.DA.animals.env.tsv\")\n",
    "write_tsv(map.DA.animals.plants,\"seqs/map.DA.animals.plants.tsv\")\n",
    "write_tsv(map.DA.plants.env,\"seqs/map.DA.plants.env.tsv\")\n",
    "write_tsv(map.DA.host.env,\"seqs/map.DA.host.env.tsv\")"
   ]
  },
  {
   "cell_type": "code",
   "execution_count": 98,
   "id": "345b1960-3666-4c9e-9666-8126f826d3e5",
   "metadata": {
    "tags": []
   },
   "outputs": [
    {
     "data": {
      "text/html": [
       "<table class=\"dataframe\">\n",
       "<caption>A spec_tbl_df: 2 × 2</caption>\n",
       "<thead>\n",
       "\t<tr><th scope=col>EnrichedIn</th><th scope=col>n</th></tr>\n",
       "\t<tr><th scope=col>&lt;chr&gt;</th><th scope=col>&lt;int&gt;</th></tr>\n",
       "</thead>\n",
       "<tbody>\n",
       "\t<tr><td>Animals      </td><td>122</td></tr>\n",
       "\t<tr><td>Environmental</td><td>487</td></tr>\n",
       "</tbody>\n",
       "</table>\n"
      ],
      "text/latex": [
       "A spec\\_tbl\\_df: 2 × 2\n",
       "\\begin{tabular}{ll}\n",
       " EnrichedIn & n\\\\\n",
       " <chr> & <int>\\\\\n",
       "\\hline\n",
       "\t Animals       & 122\\\\\n",
       "\t Environmental & 487\\\\\n",
       "\\end{tabular}\n"
      ],
      "text/markdown": [
       "\n",
       "A spec_tbl_df: 2 × 2\n",
       "\n",
       "| EnrichedIn &lt;chr&gt; | n &lt;int&gt; |\n",
       "|---|---|\n",
       "| Animals       | 122 |\n",
       "| Environmental | 487 |\n",
       "\n"
      ],
      "text/plain": [
       "  EnrichedIn    n  \n",
       "1 Animals       122\n",
       "2 Environmental 487"
      ]
     },
     "metadata": {},
     "output_type": "display_data"
    },
    {
     "data": {
      "text/html": [
       "<table class=\"dataframe\">\n",
       "<caption>A spec_tbl_df: 2 × 2</caption>\n",
       "<thead>\n",
       "\t<tr><th scope=col>EnrichedIn</th><th scope=col>n</th></tr>\n",
       "\t<tr><th scope=col>&lt;chr&gt;</th><th scope=col>&lt;int&gt;</th></tr>\n",
       "</thead>\n",
       "<tbody>\n",
       "\t<tr><td>Animals</td><td>121</td></tr>\n",
       "\t<tr><td>Plants </td><td> 82</td></tr>\n",
       "</tbody>\n",
       "</table>\n"
      ],
      "text/latex": [
       "A spec\\_tbl\\_df: 2 × 2\n",
       "\\begin{tabular}{ll}\n",
       " EnrichedIn & n\\\\\n",
       " <chr> & <int>\\\\\n",
       "\\hline\n",
       "\t Animals & 121\\\\\n",
       "\t Plants  &  82\\\\\n",
       "\\end{tabular}\n"
      ],
      "text/markdown": [
       "\n",
       "A spec_tbl_df: 2 × 2\n",
       "\n",
       "| EnrichedIn &lt;chr&gt; | n &lt;int&gt; |\n",
       "|---|---|\n",
       "| Animals | 121 |\n",
       "| Plants  |  82 |\n",
       "\n"
      ],
      "text/plain": [
       "  EnrichedIn n  \n",
       "1 Animals    121\n",
       "2 Plants      82"
      ]
     },
     "metadata": {},
     "output_type": "display_data"
    },
    {
     "data": {
      "text/html": [
       "<table class=\"dataframe\">\n",
       "<caption>A spec_tbl_df: 2 × 2</caption>\n",
       "<thead>\n",
       "\t<tr><th scope=col>EnrichedIn</th><th scope=col>n</th></tr>\n",
       "\t<tr><th scope=col>&lt;chr&gt;</th><th scope=col>&lt;int&gt;</th></tr>\n",
       "</thead>\n",
       "<tbody>\n",
       "\t<tr><td>Environmental</td><td>283</td></tr>\n",
       "\t<tr><td>Plants       </td><td> 43</td></tr>\n",
       "</tbody>\n",
       "</table>\n"
      ],
      "text/latex": [
       "A spec\\_tbl\\_df: 2 × 2\n",
       "\\begin{tabular}{ll}\n",
       " EnrichedIn & n\\\\\n",
       " <chr> & <int>\\\\\n",
       "\\hline\n",
       "\t Environmental & 283\\\\\n",
       "\t Plants        &  43\\\\\n",
       "\\end{tabular}\n"
      ],
      "text/markdown": [
       "\n",
       "A spec_tbl_df: 2 × 2\n",
       "\n",
       "| EnrichedIn &lt;chr&gt; | n &lt;int&gt; |\n",
       "|---|---|\n",
       "| Environmental | 283 |\n",
       "| Plants        |  43 |\n",
       "\n"
      ],
      "text/plain": [
       "  EnrichedIn    n  \n",
       "1 Environmental 283\n",
       "2 Plants         43"
      ]
     },
     "metadata": {},
     "output_type": "display_data"
    },
    {
     "data": {
      "text/html": [
       "<table class=\"dataframe\">\n",
       "<caption>A spec_tbl_df: 2 × 2</caption>\n",
       "<thead>\n",
       "\t<tr><th scope=col>EnrichedIn</th><th scope=col>n</th></tr>\n",
       "\t<tr><th scope=col>&lt;chr&gt;</th><th scope=col>&lt;int&gt;</th></tr>\n",
       "</thead>\n",
       "<tbody>\n",
       "\t<tr><td>Environmental  </td><td>513</td></tr>\n",
       "\t<tr><td>Host-associated</td><td>110</td></tr>\n",
       "</tbody>\n",
       "</table>\n"
      ],
      "text/latex": [
       "A spec\\_tbl\\_df: 2 × 2\n",
       "\\begin{tabular}{ll}\n",
       " EnrichedIn & n\\\\\n",
       " <chr> & <int>\\\\\n",
       "\\hline\n",
       "\t Environmental   & 513\\\\\n",
       "\t Host-associated & 110\\\\\n",
       "\\end{tabular}\n"
      ],
      "text/markdown": [
       "\n",
       "A spec_tbl_df: 2 × 2\n",
       "\n",
       "| EnrichedIn &lt;chr&gt; | n &lt;int&gt; |\n",
       "|---|---|\n",
       "| Environmental   | 513 |\n",
       "| Host-associated | 110 |\n",
       "\n"
      ],
      "text/plain": [
       "  EnrichedIn      n  \n",
       "1 Environmental   513\n",
       "2 Host-associated 110"
      ]
     },
     "metadata": {},
     "output_type": "display_data"
    }
   ],
   "source": [
    "#Count the number of enriched flagellins per pairwise group-comparison\n",
    "dplyr::count(map.DA.animals.env,EnrichedIn)\n",
    "dplyr::count(map.DA.animals.plants,EnrichedIn)\n",
    "dplyr::count(map.DA.plants.env,EnrichedIn)\n",
    "dplyr::count(map.DA.host.env,EnrichedIn)"
   ]
  },
  {
   "cell_type": "markdown",
   "id": "ec543987-4512-4990-b6d2-51464fc03120",
   "metadata": {},
   "source": [
    "### Subset Proteobacteria from animals/plants comparison"
   ]
  },
  {
   "cell_type": "code",
   "execution_count": 99,
   "id": "97685487-2265-4e47-b487-f02d0bc4c686",
   "metadata": {},
   "outputs": [],
   "source": [
    "DA.proteo.animals.plants = filter(map.DA.animals.plants,Phylum==\"p__Proteobacteria\")"
   ]
  },
  {
   "cell_type": "code",
   "execution_count": 100,
   "id": "dcec22c4-263b-4b82-8eae-7c82b2c167c9",
   "metadata": {},
   "outputs": [
    {
     "data": {
      "text/html": [
       "111"
      ],
      "text/latex": [
       "111"
      ],
      "text/markdown": [
       "111"
      ],
      "text/plain": [
       "[1] 111"
      ]
     },
     "metadata": {},
     "output_type": "display_data"
    }
   ],
   "source": [
    "nrow(DA.proteo.animals.plants)"
   ]
  },
  {
   "cell_type": "code",
   "execution_count": 101,
   "id": "a80db1f3-6ca3-430f-be59-941b4e032417",
   "metadata": {},
   "outputs": [],
   "source": [
    "seqs.DA.proteo.animals.plants = flagellins.markers.sb[c(which(names(flagellins.markers.sb) %in% DA.proteo.animals.plants$Accession))]"
   ]
  },
  {
   "cell_type": "code",
   "execution_count": 102,
   "id": "15cdb0fb-805e-4ce2-a0bc-cb77125ded98",
   "metadata": {},
   "outputs": [
    {
     "data": {
      "text/html": [
       "111"
      ],
      "text/latex": [
       "111"
      ],
      "text/markdown": [
       "111"
      ],
      "text/plain": [
       "[1] 111"
      ]
     },
     "metadata": {},
     "output_type": "display_data"
    }
   ],
   "source": [
    "length(seqs.DA.proteo.animals.plants)"
   ]
  },
  {
   "cell_type": "code",
   "execution_count": 103,
   "id": "46aece49-04fd-4a6b-9e28-89ad81cd95e6",
   "metadata": {},
   "outputs": [],
   "source": [
    "write.fasta(sequences = seqs.DA.proteo.animals.plants, names = names(seqs.DA.proteo.animals.plants), nbchar = 80, file.out = \"seqs/seqs.DA.proteo.animals.plants.faa\")"
   ]
  },
  {
   "cell_type": "code",
   "execution_count": 104,
   "id": "8ed6948b-1db5-4cb6-96ec-5b865526e7fb",
   "metadata": {},
   "outputs": [],
   "source": [
    "map.proteo.animals.plants = filter(map.DA.animals.plants)"
   ]
  },
  {
   "cell_type": "markdown",
   "id": "450fc6ad-24af-46bc-8bdd-b766e1372b51",
   "metadata": {},
   "source": [
    "## Define the two datasets"
   ]
  },
  {
   "cell_type": "code",
   "execution_count": 3,
   "id": "996f8a1c-7fb2-4e0f-a52a-e0dad6db5a9d",
   "metadata": {
    "tags": []
   },
   "outputs": [
    {
     "name": "stderr",
     "output_type": "stream",
     "text": [
      "\u001b[1mRows: \u001b[22m\u001b[34m9963\u001b[39m \u001b[1mColumns: \u001b[22m\u001b[34m13\u001b[39m\n",
      "\u001b[36m──\u001b[39m \u001b[1mColumn specification\u001b[22m \u001b[36m─────────────────────────────────────────────────────────────────────────────────────\u001b[39m\n",
      "\u001b[1mDelimiter:\u001b[22m \"\\t\"\n",
      "\u001b[31mchr\u001b[39m (9): Accession, ncbi_phylum, Domain, Phylum, Class, Order, Family, Genus...\n",
      "\u001b[32mdbl\u001b[39m (4): length, HVR_length, ncbi_taxid, genome_size\n",
      "\n",
      "\u001b[36mℹ\u001b[39m Use `spec()` to retrieve the full column specification for this data.\n",
      "\u001b[36mℹ\u001b[39m Specify the column types or set `show_col_types = FALSE` to quiet this message.\n"
     ]
    }
   ],
   "source": [
    "flagellin.sizes.taxonomy = read_tsv(\"../../../flagellin_phylogeny//fla.sb.taxonomy.length.tsv\",col_names=T) %>%\n",
    "select(Accession,length,HVR_length,ncbi_phylum,genome_size)"
   ]
  },
  {
   "cell_type": "code",
   "execution_count": 5,
   "id": "21beb4e6-d7f1-4463-a1bf-00d882b3c222",
   "metadata": {},
   "outputs": [
    {
     "data": {
      "text/html": [
       "'/ebio/abt3_projects2/Flagellin_Diversity/code/notebooks/shortbred/edgeR/subsampled_opt1'"
      ],
      "text/latex": [
       "'/ebio/abt3\\_projects2/Flagellin\\_Diversity/code/notebooks/shortbred/edgeR/subsampled\\_opt1'"
      ],
      "text/markdown": [
       "'/ebio/abt3_projects2/Flagellin_Diversity/code/notebooks/shortbred/edgeR/subsampled_opt1'"
      ],
      "text/plain": [
       "[1] \"/ebio/abt3_projects2/Flagellin_Diversity/code/notebooks/shortbred/edgeR/subsampled_opt1\""
      ]
     },
     "metadata": {},
     "output_type": "display_data"
    }
   ],
   "source": [
    "getwd()"
   ]
  },
  {
   "cell_type": "code",
   "execution_count": 9,
   "id": "9fea894a-cbb8-40f2-991e-bab31a53839e",
   "metadata": {},
   "outputs": [
    {
     "name": "stderr",
     "output_type": "stream",
     "text": [
      "\u001b[1mRows: \u001b[22m\u001b[34m41\u001b[39m \u001b[1mColumns: \u001b[22m\u001b[34m29\u001b[39m\n",
      "\u001b[36m──\u001b[39m \u001b[1mColumn specification\u001b[22m \u001b[36m─────────────────────────────────────────────────────────────────────────────────────\u001b[39m\n",
      "\u001b[1mDelimiter:\u001b[22m \"\\t\"\n",
      "\u001b[31mchr\u001b[39m (13): Accession, category.x, category.y, category, UniqueIn, ncbi_phylum...\n",
      "\u001b[32mdbl\u001b[39m (13): totalCount_Animal, NoSamples.x, ProportionIn_Animal, totalCount_En...\n",
      "\u001b[33mlgl\u001b[39m  (3): PresentIn_Animal, PresentIn_Environmental, PresentIn_Plants\n",
      "\n",
      "\u001b[36mℹ\u001b[39m Use `spec()` to retrieve the full column specification for this data.\n",
      "\u001b[36mℹ\u001b[39m Specify the column types or set `show_col_types = FALSE` to quiet this message.\n"
     ]
    }
   ],
   "source": [
    "derepAll = read_tsv(\"uniqueFlagellinsBiome/all_together//allUnique_metadata.tsv\")"
   ]
  },
  {
   "cell_type": "code",
   "execution_count": 10,
   "id": "70661ee1-8f7a-461d-9b43-d5a0c8ab9a38",
   "metadata": {},
   "outputs": [
    {
     "data": {
      "text/html": [
       "<table class=\"dataframe\">\n",
       "<caption>A tibble: 6 × 29</caption>\n",
       "<thead>\n",
       "\t<tr><th scope=col>Accession</th><th scope=col>category.x</th><th scope=col>totalCount_Animal</th><th scope=col>NoSamples.x</th><th scope=col>ProportionIn_Animal</th><th scope=col>PresentIn_Animal</th><th scope=col>category.y</th><th scope=col>totalCount_Environmental</th><th scope=col>NoSamples.y</th><th scope=col>ProportionIn_Environmental</th><th scope=col>⋯</th><th scope=col>ncbi_taxid</th><th scope=col>ncbi_phylum</th><th scope=col>Domain</th><th scope=col>Phylum</th><th scope=col>Class</th><th scope=col>Order</th><th scope=col>Family</th><th scope=col>Genus</th><th scope=col>Species</th><th scope=col>genome_size</th></tr>\n",
       "\t<tr><th scope=col>&lt;chr&gt;</th><th scope=col>&lt;chr&gt;</th><th scope=col>&lt;dbl&gt;</th><th scope=col>&lt;dbl&gt;</th><th scope=col>&lt;dbl&gt;</th><th scope=col>&lt;lgl&gt;</th><th scope=col>&lt;chr&gt;</th><th scope=col>&lt;dbl&gt;</th><th scope=col>&lt;dbl&gt;</th><th scope=col>&lt;dbl&gt;</th><th scope=col>⋯</th><th scope=col>&lt;dbl&gt;</th><th scope=col>&lt;chr&gt;</th><th scope=col>&lt;chr&gt;</th><th scope=col>&lt;chr&gt;</th><th scope=col>&lt;chr&gt;</th><th scope=col>&lt;chr&gt;</th><th scope=col>&lt;chr&gt;</th><th scope=col>&lt;chr&gt;</th><th scope=col>&lt;chr&gt;</th><th scope=col>&lt;dbl&gt;</th></tr>\n",
       "</thead>\n",
       "<tbody>\n",
       "\t<tr><td>WP_022758790.1</td><td>Animal</td><td>111</td><td>178</td><td>0.0009871844</td><td>TRUE</td><td>Environmental</td><td>0</td><td>99</td><td>0</td><td>⋯</td><td>    831</td><td>Firmicutes    </td><td>d__Bacteria</td><td>p__Firmicutes_A  </td><td>c__Clostridia         </td><td>o__Lachnospirales  </td><td>f__Lachnospiraceae   </td><td>g__Pseudobutyrivibrio   </td><td>s__Pseudobutyrivibrio fibrisolvens_A</td><td>3164379</td></tr>\n",
       "\t<tr><td>ONG15595.1    </td><td>Animal</td><td>479</td><td>178</td><td>0.0042600119</td><td>TRUE</td><td>Environmental</td><td>0</td><td>99</td><td>0</td><td>⋯</td><td>    562</td><td>Proteobacteria</td><td>d__Bacteria</td><td>p__Proteobacteria</td><td>c__Gammaproteobacteria</td><td>o__Enterobacterales</td><td>f__Enterobacteriaceae</td><td>g__Escherichia          </td><td>s__Escherichia coli_D               </td><td>5232730</td></tr>\n",
       "\t<tr><td>EGC94816.1    </td><td>Animal</td><td>941</td><td>178</td><td>0.0083688334</td><td>TRUE</td><td>Environmental</td><td>0</td><td>99</td><td>0</td><td>⋯</td><td> 981367</td><td>Proteobacteria</td><td>d__Bacteria</td><td>p__Proteobacteria</td><td>c__Gammaproteobacteria</td><td>o__Enterobacterales</td><td>f__Enterobacteriaceae</td><td>g__Escherichia          </td><td>s__Escherichia fergusonii           </td><td>4866106</td></tr>\n",
       "\t<tr><td>CBL40883.1    </td><td>Animal</td><td>155</td><td>178</td><td>0.0013785007</td><td>TRUE</td><td>Environmental</td><td>0</td><td>99</td><td>0</td><td>⋯</td><td> 245014</td><td>Firmicutes    </td><td>d__Bacteria</td><td>p__Firmicutes_A  </td><td>c__Clostridia         </td><td>o__Lachnospirales  </td><td>f__Lachnospiraceae   </td><td>g__CAG-81               </td><td>s__CAG-81 sp900066535               </td><td>3601020</td></tr>\n",
       "\t<tr><td>OUP02704.1    </td><td>Animal</td><td>328</td><td>178</td><td>0.0029170854</td><td>TRUE</td><td>Environmental</td><td>0</td><td>99</td><td>0</td><td>⋯</td><td>1965587</td><td>Firmicutes    </td><td>d__Bacteria</td><td>p__Firmicutes_A  </td><td>c__Clostridia         </td><td>o__Oscillospirales </td><td>f__Acutalibacteraceae</td><td>g__Hydrogeniiclostridium</td><td>s__Hydrogeniiclostridium sp002160025</td><td>3721138</td></tr>\n",
       "\t<tr><td>OLR54261.1    </td><td>Animal</td><td> 58</td><td>178</td><td>0.0005158261</td><td>TRUE</td><td>Environmental</td><td>0</td><td>99</td><td>0</td><td>⋯</td><td>1261634</td><td>Firmicutes    </td><td>d__Bacteria</td><td>p__Firmicutes_A  </td><td>c__Clostridia         </td><td>o__Lachnospirales  </td><td>f__Lachnospiraceae   </td><td>g__14-2                 </td><td>s__14-2 sp001940225                 </td><td>3360661</td></tr>\n",
       "</tbody>\n",
       "</table>\n"
      ],
      "text/latex": [
       "A tibble: 6 × 29\n",
       "\\begin{tabular}{lllllllllllllllllllll}\n",
       " Accession & category.x & totalCount\\_Animal & NoSamples.x & ProportionIn\\_Animal & PresentIn\\_Animal & category.y & totalCount\\_Environmental & NoSamples.y & ProportionIn\\_Environmental & ⋯ & ncbi\\_taxid & ncbi\\_phylum & Domain & Phylum & Class & Order & Family & Genus & Species & genome\\_size\\\\\n",
       " <chr> & <chr> & <dbl> & <dbl> & <dbl> & <lgl> & <chr> & <dbl> & <dbl> & <dbl> & ⋯ & <dbl> & <chr> & <chr> & <chr> & <chr> & <chr> & <chr> & <chr> & <chr> & <dbl>\\\\\n",
       "\\hline\n",
       "\t WP\\_022758790.1 & Animal & 111 & 178 & 0.0009871844 & TRUE & Environmental & 0 & 99 & 0 & ⋯ &     831 & Firmicutes     & d\\_\\_Bacteria & p\\_\\_Firmicutes\\_A   & c\\_\\_Clostridia          & o\\_\\_Lachnospirales   & f\\_\\_Lachnospiraceae    & g\\_\\_Pseudobutyrivibrio    & s\\_\\_Pseudobutyrivibrio fibrisolvens\\_A & 3164379\\\\\n",
       "\t ONG15595.1     & Animal & 479 & 178 & 0.0042600119 & TRUE & Environmental & 0 & 99 & 0 & ⋯ &     562 & Proteobacteria & d\\_\\_Bacteria & p\\_\\_Proteobacteria & c\\_\\_Gammaproteobacteria & o\\_\\_Enterobacterales & f\\_\\_Enterobacteriaceae & g\\_\\_Escherichia           & s\\_\\_Escherichia coli\\_D                & 5232730\\\\\n",
       "\t EGC94816.1     & Animal & 941 & 178 & 0.0083688334 & TRUE & Environmental & 0 & 99 & 0 & ⋯ &  981367 & Proteobacteria & d\\_\\_Bacteria & p\\_\\_Proteobacteria & c\\_\\_Gammaproteobacteria & o\\_\\_Enterobacterales & f\\_\\_Enterobacteriaceae & g\\_\\_Escherichia           & s\\_\\_Escherichia fergusonii            & 4866106\\\\\n",
       "\t CBL40883.1     & Animal & 155 & 178 & 0.0013785007 & TRUE & Environmental & 0 & 99 & 0 & ⋯ &  245014 & Firmicutes     & d\\_\\_Bacteria & p\\_\\_Firmicutes\\_A   & c\\_\\_Clostridia          & o\\_\\_Lachnospirales   & f\\_\\_Lachnospiraceae    & g\\_\\_CAG-81                & s\\_\\_CAG-81 sp900066535                & 3601020\\\\\n",
       "\t OUP02704.1     & Animal & 328 & 178 & 0.0029170854 & TRUE & Environmental & 0 & 99 & 0 & ⋯ & 1965587 & Firmicutes     & d\\_\\_Bacteria & p\\_\\_Firmicutes\\_A   & c\\_\\_Clostridia          & o\\_\\_Oscillospirales  & f\\_\\_Acutalibacteraceae & g\\_\\_Hydrogeniiclostridium & s\\_\\_Hydrogeniiclostridium sp002160025 & 3721138\\\\\n",
       "\t OLR54261.1     & Animal &  58 & 178 & 0.0005158261 & TRUE & Environmental & 0 & 99 & 0 & ⋯ & 1261634 & Firmicutes     & d\\_\\_Bacteria & p\\_\\_Firmicutes\\_A   & c\\_\\_Clostridia          & o\\_\\_Lachnospirales   & f\\_\\_Lachnospiraceae    & g\\_\\_14-2                  & s\\_\\_14-2 sp001940225                  & 3360661\\\\\n",
       "\\end{tabular}\n"
      ],
      "text/markdown": [
       "\n",
       "A tibble: 6 × 29\n",
       "\n",
       "| Accession &lt;chr&gt; | category.x &lt;chr&gt; | totalCount_Animal &lt;dbl&gt; | NoSamples.x &lt;dbl&gt; | ProportionIn_Animal &lt;dbl&gt; | PresentIn_Animal &lt;lgl&gt; | category.y &lt;chr&gt; | totalCount_Environmental &lt;dbl&gt; | NoSamples.y &lt;dbl&gt; | ProportionIn_Environmental &lt;dbl&gt; | ⋯ ⋯ | ncbi_taxid &lt;dbl&gt; | ncbi_phylum &lt;chr&gt; | Domain &lt;chr&gt; | Phylum &lt;chr&gt; | Class &lt;chr&gt; | Order &lt;chr&gt; | Family &lt;chr&gt; | Genus &lt;chr&gt; | Species &lt;chr&gt; | genome_size &lt;dbl&gt; |\n",
       "|---|---|---|---|---|---|---|---|---|---|---|---|---|---|---|---|---|---|---|---|---|\n",
       "| WP_022758790.1 | Animal | 111 | 178 | 0.0009871844 | TRUE | Environmental | 0 | 99 | 0 | ⋯ |     831 | Firmicutes     | d__Bacteria | p__Firmicutes_A   | c__Clostridia          | o__Lachnospirales   | f__Lachnospiraceae    | g__Pseudobutyrivibrio    | s__Pseudobutyrivibrio fibrisolvens_A | 3164379 |\n",
       "| ONG15595.1     | Animal | 479 | 178 | 0.0042600119 | TRUE | Environmental | 0 | 99 | 0 | ⋯ |     562 | Proteobacteria | d__Bacteria | p__Proteobacteria | c__Gammaproteobacteria | o__Enterobacterales | f__Enterobacteriaceae | g__Escherichia           | s__Escherichia coli_D                | 5232730 |\n",
       "| EGC94816.1     | Animal | 941 | 178 | 0.0083688334 | TRUE | Environmental | 0 | 99 | 0 | ⋯ |  981367 | Proteobacteria | d__Bacteria | p__Proteobacteria | c__Gammaproteobacteria | o__Enterobacterales | f__Enterobacteriaceae | g__Escherichia           | s__Escherichia fergusonii            | 4866106 |\n",
       "| CBL40883.1     | Animal | 155 | 178 | 0.0013785007 | TRUE | Environmental | 0 | 99 | 0 | ⋯ |  245014 | Firmicutes     | d__Bacteria | p__Firmicutes_A   | c__Clostridia          | o__Lachnospirales   | f__Lachnospiraceae    | g__CAG-81                | s__CAG-81 sp900066535                | 3601020 |\n",
       "| OUP02704.1     | Animal | 328 | 178 | 0.0029170854 | TRUE | Environmental | 0 | 99 | 0 | ⋯ | 1965587 | Firmicutes     | d__Bacteria | p__Firmicutes_A   | c__Clostridia          | o__Oscillospirales  | f__Acutalibacteraceae | g__Hydrogeniiclostridium | s__Hydrogeniiclostridium sp002160025 | 3721138 |\n",
       "| OLR54261.1     | Animal |  58 | 178 | 0.0005158261 | TRUE | Environmental | 0 | 99 | 0 | ⋯ | 1261634 | Firmicutes     | d__Bacteria | p__Firmicutes_A   | c__Clostridia          | o__Lachnospirales   | f__Lachnospiraceae    | g__14-2                  | s__14-2 sp001940225                  | 3360661 |\n",
       "\n"
      ],
      "text/plain": [
       "  Accession      category.x totalCount_Animal NoSamples.x ProportionIn_Animal\n",
       "1 WP_022758790.1 Animal     111               178         0.0009871844       \n",
       "2 ONG15595.1     Animal     479               178         0.0042600119       \n",
       "3 EGC94816.1     Animal     941               178         0.0083688334       \n",
       "4 CBL40883.1     Animal     155               178         0.0013785007       \n",
       "5 OUP02704.1     Animal     328               178         0.0029170854       \n",
       "6 OLR54261.1     Animal      58               178         0.0005158261       \n",
       "  PresentIn_Animal category.y    totalCount_Environmental NoSamples.y\n",
       "1 TRUE             Environmental 0                        99         \n",
       "2 TRUE             Environmental 0                        99         \n",
       "3 TRUE             Environmental 0                        99         \n",
       "4 TRUE             Environmental 0                        99         \n",
       "5 TRUE             Environmental 0                        99         \n",
       "6 TRUE             Environmental 0                        99         \n",
       "  ProportionIn_Environmental ⋯ ncbi_taxid ncbi_phylum    Domain     \n",
       "1 0                          ⋯     831    Firmicutes     d__Bacteria\n",
       "2 0                          ⋯     562    Proteobacteria d__Bacteria\n",
       "3 0                          ⋯  981367    Proteobacteria d__Bacteria\n",
       "4 0                          ⋯  245014    Firmicutes     d__Bacteria\n",
       "5 0                          ⋯ 1965587    Firmicutes     d__Bacteria\n",
       "6 0                          ⋯ 1261634    Firmicutes     d__Bacteria\n",
       "  Phylum            Class                  Order              \n",
       "1 p__Firmicutes_A   c__Clostridia          o__Lachnospirales  \n",
       "2 p__Proteobacteria c__Gammaproteobacteria o__Enterobacterales\n",
       "3 p__Proteobacteria c__Gammaproteobacteria o__Enterobacterales\n",
       "4 p__Firmicutes_A   c__Clostridia          o__Lachnospirales  \n",
       "5 p__Firmicutes_A   c__Clostridia          o__Oscillospirales \n",
       "6 p__Firmicutes_A   c__Clostridia          o__Lachnospirales  \n",
       "  Family                Genus                   \n",
       "1 f__Lachnospiraceae    g__Pseudobutyrivibrio   \n",
       "2 f__Enterobacteriaceae g__Escherichia          \n",
       "3 f__Enterobacteriaceae g__Escherichia          \n",
       "4 f__Lachnospiraceae    g__CAG-81               \n",
       "5 f__Acutalibacteraceae g__Hydrogeniiclostridium\n",
       "6 f__Lachnospiraceae    g__14-2                 \n",
       "  Species                              genome_size\n",
       "1 s__Pseudobutyrivibrio fibrisolvens_A 3164379    \n",
       "2 s__Escherichia coli_D                5232730    \n",
       "3 s__Escherichia fergusonii            4866106    \n",
       "4 s__CAG-81 sp900066535                3601020    \n",
       "5 s__Hydrogeniiclostridium sp002160025 3721138    \n",
       "6 s__14-2 sp001940225                  3360661    "
      ]
     },
     "metadata": {},
     "output_type": "display_data"
    }
   ],
   "source": [
    "head(derepAll)"
   ]
  },
  {
   "cell_type": "code",
   "execution_count": null,
   "id": "718b13e6-53b3-406b-b43e-21001174c3a0",
   "metadata": {},
   "outputs": [],
   "source": [
    "DA.animals = filter(derepAll,UniqueIn==\"Animal\")\n",
    "DA.plants = filter(derepAll,UniqueIn==\"Plants\")\n",
    "DA.env = filter(derepAll,UniqueIn==\"Env\")"
   ]
  },
  {
   "cell_type": "code",
   "execution_count": 106,
   "id": "f644e9cd-89d6-4e94-8cbf-091e8ae9059b",
   "metadata": {},
   "outputs": [],
   "source": [
    "#Write datasets of flagellins enriched in each biome\n",
    "write_tsv(DA.animals,\"DA.animals.tsv\")\n",
    "write_tsv(DA.plants,\"DA.plants.tsv\")\n",
    "write_tsv(DA.env,\"DA.env.tsv\")\n",
    "write_tsv(DA.host,\"DA.host.tsv\")"
   ]
  },
  {
   "cell_type": "code",
   "execution_count": 12,
   "id": "f07a83e6-b199-4ab0-8b43-0134b73cbd57",
   "metadata": {},
   "outputs": [
    {
     "data": {
      "text/html": [
       "18"
      ],
      "text/latex": [
       "18"
      ],
      "text/markdown": [
       "18"
      ],
      "text/plain": [
       "[1] 18"
      ]
     },
     "metadata": {},
     "output_type": "display_data"
    },
    {
     "data": {
      "text/html": [
       "11"
      ],
      "text/latex": [
       "11"
      ],
      "text/markdown": [
       "11"
      ],
      "text/plain": [
       "[1] 11"
      ]
     },
     "metadata": {},
     "output_type": "display_data"
    },
    {
     "data": {
      "text/html": [
       "12"
      ],
      "text/latex": [
       "12"
      ],
      "text/markdown": [
       "12"
      ],
      "text/plain": [
       "[1] 12"
      ]
     },
     "metadata": {},
     "output_type": "display_data"
    }
   ],
   "source": [
    "nrow(DA.animals)\n",
    "nrow(DA.plants)\n",
    "nrow(DA.env)"
   ]
  },
  {
   "cell_type": "code",
   "execution_count": 36,
   "id": "d20700ca-0251-4cf6-a28c-3dcde9b9c868",
   "metadata": {},
   "outputs": [],
   "source": [
    "#set.all=read.delim(\"../flags.tax.nonrareAll.tsv\")%>%\n",
    "    inner_join(flagellin.sizes.taxonomy,by=\"Accession\")"
   ]
  },
  {
   "cell_type": "code",
   "execution_count": 13,
   "id": "8d2d54ec-0114-4886-b094-12aa94aab641",
   "metadata": {},
   "outputs": [],
   "source": [
    "allFlas = readRDS(\"../../filter_taxa_All_count_subsampled.median.rds\")"
   ]
  },
  {
   "cell_type": "code",
   "execution_count": 14,
   "id": "adca4165",
   "metadata": {
    "tags": []
   },
   "outputs": [
    {
     "name": "stderr",
     "output_type": "stream",
     "text": [
      "Loading required package: phyloseq\n",
      "\n",
      "Found more than one class \"Annotated\" in cache; using the first, from namespace 'RNeXML'\n",
      "\n",
      "Also defined by ‘S4Vectors’\n",
      "\n",
      "Found more than one class \"Annotated\" in cache; using the first, from namespace 'RNeXML'\n",
      "\n",
      "Also defined by ‘S4Vectors’\n",
      "\n",
      "Found more than one class \"Annotated\" in cache; using the first, from namespace 'RNeXML'\n",
      "\n",
      "Also defined by ‘S4Vectors’\n",
      "\n",
      "Found more than one class \"Annotated\" in cache; using the first, from namespace 'RNeXML'\n",
      "\n",
      "Also defined by ‘S4Vectors’\n",
      "\n",
      "Found more than one class \"Annotated\" in cache; using the first, from namespace 'RNeXML'\n",
      "\n",
      "Also defined by ‘S4Vectors’\n",
      "\n",
      "Found more than one class \"Annotated\" in cache; using the first, from namespace 'RNeXML'\n",
      "\n",
      "Also defined by ‘S4Vectors’\n",
      "\n"
     ]
    }
   ],
   "source": [
    "#Define the datasets\n",
    "set.animals=DA.animals\n",
    "set.plants=DA.plants\n",
    "set.env=DA.env\n",
    "set.all=rownames_to_column(as.data.frame(allFlas@tax_table),var=\"Accession\")%>%\n",
    "    inner_join(flagellin.sizes.taxonomy,by=\"Accession\")"
   ]
  },
  {
   "cell_type": "markdown",
   "id": "290651f1-b28c-416b-84ec-faba8e671111",
   "metadata": {},
   "source": [
    "##### Import phylogeny"
   ]
  },
  {
   "cell_type": "code",
   "execution_count": 15,
   "id": "7f8b2cd0",
   "metadata": {},
   "outputs": [
    {
     "data": {
      "text/plain": [
       "\n",
       "Phylogenetic tree with 1971 tips and 1970 internal nodes.\n",
       "\n",
       "Tip labels:\n",
       "  WP_018305791.1, KJS48310.1, EHQ91627.1, KRE97958.1, WP_039230967.1, ESU34160.1, ...\n",
       "Node labels:\n",
       "  0.881, 0.842, 0.893, 0.836, 0.585, 0.807, ...\n",
       "\n",
       "Rooted; includes branch lengths."
      ]
     },
     "metadata": {},
     "output_type": "display_data"
    }
   ],
   "source": [
    "#Import full set phylogeny\n",
    "\n",
    "tre.all=allFlas@phy_tree#read.tree(\"flags.nonrareAll.tre\")\n",
    "phy=midpoint.root(tre.all)\n",
    "tre.all"
   ]
  },
  {
   "cell_type": "markdown",
   "id": "299c948c-cc50-434f-b3c0-15910069084b",
   "metadata": {},
   "source": [
    "##### Create traits dataframe"
   ]
  },
  {
   "cell_type": "code",
   "execution_count": 18,
   "id": "9fccedd0",
   "metadata": {},
   "outputs": [
    {
     "data": {
      "text/html": [
       "<table class=\"dataframe\">\n",
       "<caption>A data.frame: 6 × 6</caption>\n",
       "<thead>\n",
       "\t<tr><th></th><th scope=col>Accession</th><th scope=col>unique.animals</th><th scope=col>unique.plants</th><th scope=col>unique.env</th><th scope=col>length</th><th scope=col>genome_size</th></tr>\n",
       "\t<tr><th></th><th scope=col>&lt;chr&gt;</th><th scope=col>&lt;dbl&gt;</th><th scope=col>&lt;dbl&gt;</th><th scope=col>&lt;dbl&gt;</th><th scope=col>&lt;dbl&gt;</th><th scope=col>&lt;dbl&gt;</th></tr>\n",
       "</thead>\n",
       "<tbody>\n",
       "\t<tr><th scope=row>1</th><td>WP_018305791.1</td><td>0</td><td>0</td><td>0</td><td> 382</td><td>5666696</td></tr>\n",
       "\t<tr><th scope=row>2</th><td>KJS48310.1    </td><td>0</td><td>0</td><td>0</td><td>1153</td><td>6027195</td></tr>\n",
       "\t<tr><th scope=row>3</th><td>EHQ91627.1    </td><td>0</td><td>0</td><td>0</td><td> 843</td><td>5660978</td></tr>\n",
       "\t<tr><th scope=row>4</th><td>KRE97958.1    </td><td>0</td><td>0</td><td>0</td><td> 555</td><td>8257780</td></tr>\n",
       "\t<tr><th scope=row>5</th><td>WP_039230967.1</td><td>0</td><td>0</td><td>0</td><td> 478</td><td>3825819</td></tr>\n",
       "\t<tr><th scope=row>6</th><td>ESU34160.1    </td><td>0</td><td>0</td><td>0</td><td> 455</td><td>4696869</td></tr>\n",
       "</tbody>\n",
       "</table>\n"
      ],
      "text/latex": [
       "A data.frame: 6 × 6\n",
       "\\begin{tabular}{r|llllll}\n",
       "  & Accession & unique.animals & unique.plants & unique.env & length & genome\\_size\\\\\n",
       "  & <chr> & <dbl> & <dbl> & <dbl> & <dbl> & <dbl>\\\\\n",
       "\\hline\n",
       "\t1 & WP\\_018305791.1 & 0 & 0 & 0 &  382 & 5666696\\\\\n",
       "\t2 & KJS48310.1     & 0 & 0 & 0 & 1153 & 6027195\\\\\n",
       "\t3 & EHQ91627.1     & 0 & 0 & 0 &  843 & 5660978\\\\\n",
       "\t4 & KRE97958.1     & 0 & 0 & 0 &  555 & 8257780\\\\\n",
       "\t5 & WP\\_039230967.1 & 0 & 0 & 0 &  478 & 3825819\\\\\n",
       "\t6 & ESU34160.1     & 0 & 0 & 0 &  455 & 4696869\\\\\n",
       "\\end{tabular}\n"
      ],
      "text/markdown": [
       "\n",
       "A data.frame: 6 × 6\n",
       "\n",
       "| <!--/--> | Accession &lt;chr&gt; | unique.animals &lt;dbl&gt; | unique.plants &lt;dbl&gt; | unique.env &lt;dbl&gt; | length &lt;dbl&gt; | genome_size &lt;dbl&gt; |\n",
       "|---|---|---|---|---|---|---|\n",
       "| 1 | WP_018305791.1 | 0 | 0 | 0 |  382 | 5666696 |\n",
       "| 2 | KJS48310.1     | 0 | 0 | 0 | 1153 | 6027195 |\n",
       "| 3 | EHQ91627.1     | 0 | 0 | 0 |  843 | 5660978 |\n",
       "| 4 | KRE97958.1     | 0 | 0 | 0 |  555 | 8257780 |\n",
       "| 5 | WP_039230967.1 | 0 | 0 | 0 |  478 | 3825819 |\n",
       "| 6 | ESU34160.1     | 0 | 0 | 0 |  455 | 4696869 |\n",
       "\n"
      ],
      "text/plain": [
       "  Accession      unique.animals unique.plants unique.env length genome_size\n",
       "1 WP_018305791.1 0              0             0           382   5666696    \n",
       "2 KJS48310.1     0              0             0          1153   6027195    \n",
       "3 EHQ91627.1     0              0             0           843   5660978    \n",
       "4 KRE97958.1     0              0             0           555   8257780    \n",
       "5 WP_039230967.1 0              0             0           478   3825819    \n",
       "6 ESU34160.1     0              0             0           455   4696869    "
      ]
     },
     "metadata": {},
     "output_type": "display_data"
    }
   ],
   "source": [
    "#Create traits dataframe\n",
    "traits.unique= set.all %>% \n",
    "    mutate(unique.animals=if_else(tre.all$tip.label%in%set.animals$Accession,1,0))%>%\n",
    "    mutate(unique.plants=if_else(tre.all$tip.label%in%set.plants$Accession,1,0))%>%\n",
    "    mutate(unique.env=if_else(tre.all$tip.label%in%set.env$Accession,1,0))%>%\n",
    "    select(Accession,unique.animals,unique.plants,unique.env,length,genome_size)\n",
    "\n",
    "head(traits.unique)"
   ]
  },
  {
   "cell_type": "markdown",
   "id": "d7316c7b-ded4-45bf-8878-e91ffae54b0c",
   "metadata": {},
   "source": [
    "##### Create trait list for phylosignal object"
   ]
  },
  {
   "cell_type": "code",
   "execution_count": 19,
   "id": "81a3fba7",
   "metadata": {
    "tags": []
   },
   "outputs": [
    {
     "data": {
      "text/html": [
       "<table class=\"dataframe\">\n",
       "<caption>A data.frame: 6 × 5</caption>\n",
       "<thead>\n",
       "\t<tr><th></th><th scope=col>unique.animals</th><th scope=col>unique.plants</th><th scope=col>unique.env</th><th scope=col>SeqLength</th><th scope=col>genome_size</th></tr>\n",
       "\t<tr><th></th><th scope=col>&lt;dbl&gt;</th><th scope=col>&lt;dbl&gt;</th><th scope=col>&lt;dbl&gt;</th><th scope=col>&lt;dbl&gt;</th><th scope=col>&lt;dbl&gt;</th></tr>\n",
       "</thead>\n",
       "<tbody>\n",
       "\t<tr><th scope=row>WP_018305791.1</th><td>0</td><td>0</td><td>0</td><td> 382</td><td>5666696</td></tr>\n",
       "\t<tr><th scope=row>KJS48310.1</th><td>0</td><td>0</td><td>0</td><td>1153</td><td>6027195</td></tr>\n",
       "\t<tr><th scope=row>EHQ91627.1</th><td>0</td><td>0</td><td>0</td><td> 843</td><td>5660978</td></tr>\n",
       "\t<tr><th scope=row>KRE97958.1</th><td>0</td><td>0</td><td>0</td><td> 555</td><td>8257780</td></tr>\n",
       "\t<tr><th scope=row>WP_039230967.1</th><td>0</td><td>0</td><td>0</td><td> 478</td><td>3825819</td></tr>\n",
       "\t<tr><th scope=row>ESU34160.1</th><td>0</td><td>0</td><td>0</td><td> 455</td><td>4696869</td></tr>\n",
       "</tbody>\n",
       "</table>\n"
      ],
      "text/latex": [
       "A data.frame: 6 × 5\n",
       "\\begin{tabular}{r|lllll}\n",
       "  & unique.animals & unique.plants & unique.env & SeqLength & genome\\_size\\\\\n",
       "  & <dbl> & <dbl> & <dbl> & <dbl> & <dbl>\\\\\n",
       "\\hline\n",
       "\tWP\\_018305791.1 & 0 & 0 & 0 &  382 & 5666696\\\\\n",
       "\tKJS48310.1 & 0 & 0 & 0 & 1153 & 6027195\\\\\n",
       "\tEHQ91627.1 & 0 & 0 & 0 &  843 & 5660978\\\\\n",
       "\tKRE97958.1 & 0 & 0 & 0 &  555 & 8257780\\\\\n",
       "\tWP\\_039230967.1 & 0 & 0 & 0 &  478 & 3825819\\\\\n",
       "\tESU34160.1 & 0 & 0 & 0 &  455 & 4696869\\\\\n",
       "\\end{tabular}\n"
      ],
      "text/markdown": [
       "\n",
       "A data.frame: 6 × 5\n",
       "\n",
       "| <!--/--> | unique.animals &lt;dbl&gt; | unique.plants &lt;dbl&gt; | unique.env &lt;dbl&gt; | SeqLength &lt;dbl&gt; | genome_size &lt;dbl&gt; |\n",
       "|---|---|---|---|---|---|\n",
       "| WP_018305791.1 | 0 | 0 | 0 |  382 | 5666696 |\n",
       "| KJS48310.1 | 0 | 0 | 0 | 1153 | 6027195 |\n",
       "| EHQ91627.1 | 0 | 0 | 0 |  843 | 5660978 |\n",
       "| KRE97958.1 | 0 | 0 | 0 |  555 | 8257780 |\n",
       "| WP_039230967.1 | 0 | 0 | 0 |  478 | 3825819 |\n",
       "| ESU34160.1 | 0 | 0 | 0 |  455 | 4696869 |\n",
       "\n"
      ],
      "text/plain": [
       "               unique.animals unique.plants unique.env SeqLength genome_size\n",
       "WP_018305791.1 0              0             0           382      5666696    \n",
       "KJS48310.1     0              0             0          1153      6027195    \n",
       "EHQ91627.1     0              0             0           843      5660978    \n",
       "KRE97958.1     0              0             0           555      8257780    \n",
       "WP_039230967.1 0              0             0           478      3825819    \n",
       "ESU34160.1     0              0             0           455      4696869    "
      ]
     },
     "metadata": {},
     "output_type": "display_data"
    }
   ],
   "source": [
    "#Create trait list for phylosignal object\n",
    "dat <- list()\n",
    "dat$unique.animals <- traits.unique$unique.animals\n",
    "dat$unique.plants <- traits.unique$unique.plants\n",
    "dat$unique.env <- traits.unique$unique.env\n",
    "dat$SeqLength <- traits.unique$length\n",
    "dat$genome_size <- traits.unique$genome_size\n",
    "dat <- as.data.frame(dat)\n",
    "rownames(dat) = traits.unique$Accession\n",
    "head(dat)"
   ]
  },
  {
   "cell_type": "code",
   "execution_count": 20,
   "id": "c7ea6973-919e-443f-8d3a-daa140e8c9b2",
   "metadata": {},
   "outputs": [
    {
     "data": {
      "text/html": [
       "1971"
      ],
      "text/latex": [
       "1971"
      ],
      "text/markdown": [
       "1971"
      ],
      "text/plain": [
       "[1] 1971"
      ]
     },
     "metadata": {},
     "output_type": "display_data"
    }
   ],
   "source": [
    "nrow(dat)"
   ]
  },
  {
   "cell_type": "markdown",
   "id": "91c92f18-5fdc-4a91-a51f-1faa6370c243",
   "metadata": {},
   "source": [
    "##### Create phylosignal object"
   ]
  },
  {
   "cell_type": "code",
   "execution_count": 21,
   "id": "cde06a23",
   "metadata": {
    "tags": []
   },
   "outputs": [
    {
     "name": "stderr",
     "output_type": "stream",
     "text": [
      "Warning message in checkTree(object):\n",
      "“Labels are not unique. ”\n",
      "Warning message in checkTree(object):\n",
      "“Labels are not unique. ”\n"
     ]
    }
   ],
   "source": [
    "#Create phylosignal object\n",
    "p4d <- phylobase::phylo4d(phy, dat)"
   ]
  },
  {
   "cell_type": "markdown",
   "id": "85a56af5-d15c-4334-82b3-61ea86bbaed4",
   "metadata": {},
   "source": [
    "##### Testing phylosignal"
   ]
  },
  {
   "cell_type": "code",
   "execution_count": 22,
   "id": "ed4eea39",
   "metadata": {
    "lines_to_next_cell": 0
   },
   "outputs": [
    {
     "name": "stderr",
     "output_type": "stream",
     "text": [
      "Warning message in checkTree(object):\n",
      "“Labels are not unique. ”\n",
      "Warning message in checkTree(object):\n",
      "“Labels are not unique. ”\n",
      "Warning message in checkTree(object):\n",
      "“Labels are not unique. ”\n"
     ]
    },
    {
     "data": {
      "text/html": [
       "<dl>\n",
       "\t<dt>$stat</dt>\n",
       "\t\t<dd><table class=\"dataframe\">\n",
       "<caption>A data.frame: 5 × 2</caption>\n",
       "<thead>\n",
       "\t<tr><th></th><th scope=col>Cmean</th><th scope=col>Lambda</th></tr>\n",
       "\t<tr><th></th><th scope=col>&lt;dbl&gt;</th><th scope=col>&lt;dbl&gt;</th></tr>\n",
       "</thead>\n",
       "<tbody>\n",
       "\t<tr><th scope=row>unique.animals</th><td> 7.872183e-02</td><td>0.08801019</td></tr>\n",
       "\t<tr><th scope=row>unique.plants</th><td> 7.488330e-02</td><td>0.09831339</td></tr>\n",
       "\t<tr><th scope=row>unique.env</th><td>-6.772673e-05</td><td>0.88349592</td></tr>\n",
       "\t<tr><th scope=row>SeqLength</th><td> 6.026298e-01</td><td>1.13707864</td></tr>\n",
       "\t<tr><th scope=row>genome_size</th><td> 5.985572e-01</td><td>0.94838019</td></tr>\n",
       "</tbody>\n",
       "</table>\n",
       "</dd>\n",
       "\t<dt>$pvalue</dt>\n",
       "\t\t<dd><table class=\"dataframe\">\n",
       "<caption>A data.frame: 5 × 2</caption>\n",
       "<thead>\n",
       "\t<tr><th></th><th scope=col>Cmean</th><th scope=col>Lambda</th></tr>\n",
       "\t<tr><th></th><th scope=col>&lt;dbl&gt;</th><th scope=col>&lt;dbl&gt;</th></tr>\n",
       "</thead>\n",
       "<tbody>\n",
       "\t<tr><th scope=row>unique.animals</th><td>0.003</td><td>0.001</td></tr>\n",
       "\t<tr><th scope=row>unique.plants</th><td>0.018</td><td>0.001</td></tr>\n",
       "\t<tr><th scope=row>unique.env</th><td>0.159</td><td>1.000</td></tr>\n",
       "\t<tr><th scope=row>SeqLength</th><td>0.001</td><td>0.001</td></tr>\n",
       "\t<tr><th scope=row>genome_size</th><td>0.001</td><td>0.001</td></tr>\n",
       "</tbody>\n",
       "</table>\n",
       "</dd>\n",
       "</dl>\n"
      ],
      "text/latex": [
       "\\begin{description}\n",
       "\\item[\\$stat] A data.frame: 5 × 2\n",
       "\\begin{tabular}{r|ll}\n",
       "  & Cmean & Lambda\\\\\n",
       "  & <dbl> & <dbl>\\\\\n",
       "\\hline\n",
       "\tunique.animals &  7.872183e-02 & 0.08801019\\\\\n",
       "\tunique.plants &  7.488330e-02 & 0.09831339\\\\\n",
       "\tunique.env & -6.772673e-05 & 0.88349592\\\\\n",
       "\tSeqLength &  6.026298e-01 & 1.13707864\\\\\n",
       "\tgenome\\_size &  5.985572e-01 & 0.94838019\\\\\n",
       "\\end{tabular}\n",
       "\n",
       "\\item[\\$pvalue] A data.frame: 5 × 2\n",
       "\\begin{tabular}{r|ll}\n",
       "  & Cmean & Lambda\\\\\n",
       "  & <dbl> & <dbl>\\\\\n",
       "\\hline\n",
       "\tunique.animals & 0.003 & 0.001\\\\\n",
       "\tunique.plants & 0.018 & 0.001\\\\\n",
       "\tunique.env & 0.159 & 1.000\\\\\n",
       "\tSeqLength & 0.001 & 0.001\\\\\n",
       "\tgenome\\_size & 0.001 & 0.001\\\\\n",
       "\\end{tabular}\n",
       "\n",
       "\\end{description}\n"
      ],
      "text/markdown": [
       "$stat\n",
       ":   \n",
       "A data.frame: 5 × 2\n",
       "\n",
       "| <!--/--> | Cmean &lt;dbl&gt; | Lambda &lt;dbl&gt; |\n",
       "|---|---|---|\n",
       "| unique.animals |  7.872183e-02 | 0.08801019 |\n",
       "| unique.plants |  7.488330e-02 | 0.09831339 |\n",
       "| unique.env | -6.772673e-05 | 0.88349592 |\n",
       "| SeqLength |  6.026298e-01 | 1.13707864 |\n",
       "| genome_size |  5.985572e-01 | 0.94838019 |\n",
       "\n",
       "\n",
       "$pvalue\n",
       ":   \n",
       "A data.frame: 5 × 2\n",
       "\n",
       "| <!--/--> | Cmean &lt;dbl&gt; | Lambda &lt;dbl&gt; |\n",
       "|---|---|---|\n",
       "| unique.animals | 0.003 | 0.001 |\n",
       "| unique.plants | 0.018 | 0.001 |\n",
       "| unique.env | 0.159 | 1.000 |\n",
       "| SeqLength | 0.001 | 0.001 |\n",
       "| genome_size | 0.001 | 0.001 |\n",
       "\n",
       "\n",
       "\n",
       "\n"
      ],
      "text/plain": [
       "$stat\n",
       "                       Cmean     Lambda\n",
       "unique.animals  7.872183e-02 0.08801019\n",
       "unique.plants   7.488330e-02 0.09831339\n",
       "unique.env     -6.772673e-05 0.88349592\n",
       "SeqLength       6.026298e-01 1.13707864\n",
       "genome_size     5.985572e-01 0.94838019\n",
       "\n",
       "$pvalue\n",
       "               Cmean Lambda\n",
       "unique.animals 0.003  0.001\n",
       "unique.plants  0.018  0.001\n",
       "unique.env     0.159  1.000\n",
       "SeqLength      0.001  0.001\n",
       "genome_size    0.001  0.001\n"
      ]
     },
     "metadata": {},
     "output_type": "display_data"
    }
   ],
   "source": [
    "#Test phylosignal hypothesis using Pagel's Lambda method for categorical traits\n",
    "phylosignal.finalset=phyloSignal(p4d,methods=c(\"Lambda\",\"Cmean\"))\n",
    "phylosignal.finalset"
   ]
  },
  {
   "cell_type": "code",
   "execution_count": 23,
   "id": "d035f69d-5910-437e-b973-55866ee79b80",
   "metadata": {
    "tags": []
   },
   "outputs": [
    {
     "name": "stderr",
     "output_type": "stream",
     "text": [
      "Warning message in checkTree(object):\n",
      "“Labels are not unique. ”\n",
      "Warning message in .local(x, ...):\n",
      "“Non-unique or missing labels found, labels cannot be coerced to tdata row.names. Use the label.type argument to include labels as first column of data.”\n",
      "Warning message in checkTree(object):\n",
      "“Labels are not unique. ”\n",
      "Warning message in checkTree(object):\n",
      "“Labels are not unique. ”\n",
      "Warning message in checkTree(object):\n",
      "“Labels are not unique. ”\n"
     ]
    }
   ],
   "source": [
    "flag.lipa <- lipaMoran(p4d)"
   ]
  },
  {
   "cell_type": "code",
   "execution_count": 124,
   "id": "cbc1341d-628f-4e23-98de-a7bb2955e386",
   "metadata": {
    "tags": []
   },
   "outputs": [],
   "source": [
    "#barplot.phylo4d(flag.lipa.p4d, trait = \"seqLength\",bar.col=(flag.lipa$p.value < 0.05) + 1, center = FALSE , scale = FALSE,label.type=T)"
   ]
  },
  {
   "cell_type": "code",
   "execution_count": 125,
   "id": "91a6f8a8-7cbe-439f-9406-4dffafcfe68a",
   "metadata": {
    "tags": []
   },
   "outputs": [
    {
     "name": "stderr",
     "output_type": "stream",
     "text": [
      "Warning message:\n",
      "“Setting row names on a tibble is deprecated.”\n"
     ]
    },
    {
     "data": {
      "text/html": [
       "<table class=\"dataframe\">\n",
       "<caption>A tibble: 6 × 3</caption>\n",
       "<thead>\n",
       "\t<tr><th scope=col>Accession</th><th scope=col>HVR_length</th><th scope=col>genome_size</th></tr>\n",
       "\t<tr><th scope=col>&lt;chr&gt;</th><th scope=col>&lt;dbl&gt;</th><th scope=col>&lt;dbl&gt;</th></tr>\n",
       "</thead>\n",
       "<tbody>\n",
       "\t<tr><td>OUT94870.1</td><td>431</td><td>1652246</td></tr>\n",
       "\t<tr><td>EEJ52905.1</td><td>271</td><td>2435166</td></tr>\n",
       "\t<tr><td>KDR32911.1</td><td>186</td><td>7666841</td></tr>\n",
       "\t<tr><td>KQT19785.1</td><td>329</td><td>4456718</td></tr>\n",
       "\t<tr><td>OQW31935.1</td><td> 35</td><td>3659024</td></tr>\n",
       "\t<tr><td>ORC34218.1</td><td> 42</td><td>4216685</td></tr>\n",
       "</tbody>\n",
       "</table>\n"
      ],
      "text/latex": [
       "A tibble: 6 × 3\n",
       "\\begin{tabular}{lll}\n",
       " Accession & HVR\\_length & genome\\_size\\\\\n",
       " <chr> & <dbl> & <dbl>\\\\\n",
       "\\hline\n",
       "\t OUT94870.1 & 431 & 1652246\\\\\n",
       "\t EEJ52905.1 & 271 & 2435166\\\\\n",
       "\t KDR32911.1 & 186 & 7666841\\\\\n",
       "\t KQT19785.1 & 329 & 4456718\\\\\n",
       "\t OQW31935.1 &  35 & 3659024\\\\\n",
       "\t ORC34218.1 &  42 & 4216685\\\\\n",
       "\\end{tabular}\n"
      ],
      "text/markdown": [
       "\n",
       "A tibble: 6 × 3\n",
       "\n",
       "| Accession &lt;chr&gt; | HVR_length &lt;dbl&gt; | genome_size &lt;dbl&gt; |\n",
       "|---|---|---|\n",
       "| OUT94870.1 | 431 | 1652246 |\n",
       "| EEJ52905.1 | 271 | 2435166 |\n",
       "| KDR32911.1 | 186 | 7666841 |\n",
       "| KQT19785.1 | 329 | 4456718 |\n",
       "| OQW31935.1 |  35 | 3659024 |\n",
       "| ORC34218.1 |  42 | 4216685 |\n",
       "\n"
      ],
      "text/plain": [
       "  Accession  HVR_length genome_size\n",
       "1 OUT94870.1 431        1652246    \n",
       "2 EEJ52905.1 271        2435166    \n",
       "3 KDR32911.1 186        7666841    \n",
       "4 KQT19785.1 329        4456718    \n",
       "5 OQW31935.1  35        3659024    \n",
       "6 ORC34218.1  42        4216685    "
      ]
     },
     "metadata": {},
     "output_type": "display_data"
    }
   ],
   "source": [
    "host.env.dat = map.DA.host.env %>% \n",
    "select(Accession,HVR_length,genome_size)\n",
    "rownames(host.env.dat) = host.env.dat$Accession\n",
    "head(host.env.dat)"
   ]
  },
  {
   "cell_type": "code",
   "execution_count": 126,
   "id": "b48f7e80-1731-4c68-9a25-bc895fae5d01",
   "metadata": {},
   "outputs": [],
   "source": [
    "#phy.host.env = prune.sample(,phy)\n",
    "#prunedphy <- prune.sample(comm, phy)\n",
    "#p4d <- phylobase::phylo4d(phy, dat)"
   ]
  },
  {
   "cell_type": "markdown",
   "id": "932aac97-9be3-456f-a53f-89100c6e24b4",
   "metadata": {},
   "source": [
    "### Using SES of MPD (Mean Pairwise Distance) and MNTD (Mean Nearest Taxon Distance) implemented in Picante\n",
    "\n",
    "##### Phylogeny"
   ]
  },
  {
   "cell_type": "code",
   "execution_count": 24,
   "id": "22e3966c",
   "metadata": {
    "tags": []
   },
   "outputs": [
    {
     "data": {
      "text/plain": [
       "\n",
       "Phylogenetic tree with 1971 tips and 1970 internal nodes.\n",
       "\n",
       "Tip labels:\n",
       "  OEU73186.1, WP_018305791.1, KJS48310.1, EHQ91627.1, KRE97958.1, WP_039230967.1, ...\n",
       "Node labels:\n",
       "  Root, 0.713, 0.411, 0.569, 0.945, 0.449, ...\n",
       "\n",
       "Rooted; includes branch lengths."
      ]
     },
     "metadata": {},
     "output_type": "display_data"
    }
   ],
   "source": [
    "phy"
   ]
  },
  {
   "cell_type": "markdown",
   "id": "13052d4e-29fe-44ea-88ce-a38b5b8b269e",
   "metadata": {},
   "source": [
    "##### Community data"
   ]
  },
  {
   "cell_type": "code",
   "execution_count": 25,
   "id": "a3b7dc49",
   "metadata": {},
   "outputs": [
    {
     "data": {
      "text/html": [
       "<table class=\"dataframe\">\n",
       "<caption>A data.frame: 3 × 1971</caption>\n",
       "<thead>\n",
       "\t<tr><th></th><th scope=col>AAA62844.1</th><th scope=col>AAG14365.1</th><th scope=col>AAG34566.1</th><th scope=col>AAK24938.1</th><th scope=col>AAP77961.1</th><th scope=col>AAR10646.1</th><th scope=col>AAR10729.1</th><th scope=col>AAT06254.1</th><th scope=col>AAW75835.1</th><th scope=col>AAZ64437.1</th><th scope=col>⋯</th><th scope=col>WP_118137284.1</th><th scope=col>WP_118178391.1</th><th scope=col>WP_118183865.1</th><th scope=col>WP_118202691.1</th><th scope=col>WP_118280384.1</th><th scope=col>WP_118508201.1</th><th scope=col>WP_118558985.1</th><th scope=col>WP_118680381.1</th><th scope=col>WP_118680383.1</th><th scope=col>WP_118710912.1</th></tr>\n",
       "\t<tr><th></th><th scope=col>&lt;dbl&gt;</th><th scope=col>&lt;dbl&gt;</th><th scope=col>&lt;dbl&gt;</th><th scope=col>&lt;dbl&gt;</th><th scope=col>&lt;dbl&gt;</th><th scope=col>&lt;dbl&gt;</th><th scope=col>&lt;dbl&gt;</th><th scope=col>&lt;dbl&gt;</th><th scope=col>&lt;dbl&gt;</th><th scope=col>&lt;dbl&gt;</th><th scope=col>⋯</th><th scope=col>&lt;dbl&gt;</th><th scope=col>&lt;dbl&gt;</th><th scope=col>&lt;dbl&gt;</th><th scope=col>&lt;dbl&gt;</th><th scope=col>&lt;dbl&gt;</th><th scope=col>&lt;dbl&gt;</th><th scope=col>&lt;dbl&gt;</th><th scope=col>&lt;dbl&gt;</th><th scope=col>&lt;dbl&gt;</th><th scope=col>&lt;dbl&gt;</th></tr>\n",
       "</thead>\n",
       "<tbody>\n",
       "\t<tr><th scope=row>unique.animals</th><td>0</td><td>0</td><td>0</td><td>0</td><td>0</td><td>0</td><td>0</td><td>0</td><td>0</td><td>0</td><td>⋯</td><td>0</td><td>0</td><td>0</td><td>0</td><td>1</td><td>0</td><td>0</td><td>0</td><td>0</td><td>0</td></tr>\n",
       "\t<tr><th scope=row>unique.plants</th><td>0</td><td>0</td><td>0</td><td>0</td><td>0</td><td>0</td><td>0</td><td>0</td><td>0</td><td>0</td><td>⋯</td><td>0</td><td>0</td><td>0</td><td>0</td><td>0</td><td>0</td><td>0</td><td>0</td><td>0</td><td>0</td></tr>\n",
       "\t<tr><th scope=row>unique.env</th><td>0</td><td>0</td><td>0</td><td>0</td><td>0</td><td>0</td><td>0</td><td>0</td><td>0</td><td>0</td><td>⋯</td><td>0</td><td>0</td><td>0</td><td>0</td><td>0</td><td>0</td><td>0</td><td>0</td><td>0</td><td>0</td></tr>\n",
       "</tbody>\n",
       "</table>\n"
      ],
      "text/latex": [
       "A data.frame: 3 × 1971\n",
       "\\begin{tabular}{r|lllllllllllllllllllll}\n",
       "  & AAA62844.1 & AAG14365.1 & AAG34566.1 & AAK24938.1 & AAP77961.1 & AAR10646.1 & AAR10729.1 & AAT06254.1 & AAW75835.1 & AAZ64437.1 & ⋯ & WP\\_118137284.1 & WP\\_118178391.1 & WP\\_118183865.1 & WP\\_118202691.1 & WP\\_118280384.1 & WP\\_118508201.1 & WP\\_118558985.1 & WP\\_118680381.1 & WP\\_118680383.1 & WP\\_118710912.1\\\\\n",
       "  & <dbl> & <dbl> & <dbl> & <dbl> & <dbl> & <dbl> & <dbl> & <dbl> & <dbl> & <dbl> & ⋯ & <dbl> & <dbl> & <dbl> & <dbl> & <dbl> & <dbl> & <dbl> & <dbl> & <dbl> & <dbl>\\\\\n",
       "\\hline\n",
       "\tunique.animals & 0 & 0 & 0 & 0 & 0 & 0 & 0 & 0 & 0 & 0 & ⋯ & 0 & 0 & 0 & 0 & 1 & 0 & 0 & 0 & 0 & 0\\\\\n",
       "\tunique.plants & 0 & 0 & 0 & 0 & 0 & 0 & 0 & 0 & 0 & 0 & ⋯ & 0 & 0 & 0 & 0 & 0 & 0 & 0 & 0 & 0 & 0\\\\\n",
       "\tunique.env & 0 & 0 & 0 & 0 & 0 & 0 & 0 & 0 & 0 & 0 & ⋯ & 0 & 0 & 0 & 0 & 0 & 0 & 0 & 0 & 0 & 0\\\\\n",
       "\\end{tabular}\n"
      ],
      "text/markdown": [
       "\n",
       "A data.frame: 3 × 1971\n",
       "\n",
       "| <!--/--> | AAA62844.1 &lt;dbl&gt; | AAG14365.1 &lt;dbl&gt; | AAG34566.1 &lt;dbl&gt; | AAK24938.1 &lt;dbl&gt; | AAP77961.1 &lt;dbl&gt; | AAR10646.1 &lt;dbl&gt; | AAR10729.1 &lt;dbl&gt; | AAT06254.1 &lt;dbl&gt; | AAW75835.1 &lt;dbl&gt; | AAZ64437.1 &lt;dbl&gt; | ⋯ ⋯ | WP_118137284.1 &lt;dbl&gt; | WP_118178391.1 &lt;dbl&gt; | WP_118183865.1 &lt;dbl&gt; | WP_118202691.1 &lt;dbl&gt; | WP_118280384.1 &lt;dbl&gt; | WP_118508201.1 &lt;dbl&gt; | WP_118558985.1 &lt;dbl&gt; | WP_118680381.1 &lt;dbl&gt; | WP_118680383.1 &lt;dbl&gt; | WP_118710912.1 &lt;dbl&gt; |\n",
       "|---|---|---|---|---|---|---|---|---|---|---|---|---|---|---|---|---|---|---|---|---|---|\n",
       "| unique.animals | 0 | 0 | 0 | 0 | 0 | 0 | 0 | 0 | 0 | 0 | ⋯ | 0 | 0 | 0 | 0 | 1 | 0 | 0 | 0 | 0 | 0 |\n",
       "| unique.plants | 0 | 0 | 0 | 0 | 0 | 0 | 0 | 0 | 0 | 0 | ⋯ | 0 | 0 | 0 | 0 | 0 | 0 | 0 | 0 | 0 | 0 |\n",
       "| unique.env | 0 | 0 | 0 | 0 | 0 | 0 | 0 | 0 | 0 | 0 | ⋯ | 0 | 0 | 0 | 0 | 0 | 0 | 0 | 0 | 0 | 0 |\n",
       "\n"
      ],
      "text/plain": [
       "               AAA62844.1 AAG14365.1 AAG34566.1 AAK24938.1 AAP77961.1\n",
       "unique.animals 0          0          0          0          0         \n",
       "unique.plants  0          0          0          0          0         \n",
       "unique.env     0          0          0          0          0         \n",
       "               AAR10646.1 AAR10729.1 AAT06254.1 AAW75835.1 AAZ64437.1 ⋯\n",
       "unique.animals 0          0          0          0          0          ⋯\n",
       "unique.plants  0          0          0          0          0          ⋯\n",
       "unique.env     0          0          0          0          0          ⋯\n",
       "               WP_118137284.1 WP_118178391.1 WP_118183865.1 WP_118202691.1\n",
       "unique.animals 0              0              0              0             \n",
       "unique.plants  0              0              0              0             \n",
       "unique.env     0              0              0              0             \n",
       "               WP_118280384.1 WP_118508201.1 WP_118558985.1 WP_118680381.1\n",
       "unique.animals 1              0              0              0             \n",
       "unique.plants  0              0              0              0             \n",
       "unique.env     0              0              0              0             \n",
       "               WP_118680383.1 WP_118710912.1\n",
       "unique.animals 0              0             \n",
       "unique.plants  0              0             \n",
       "unique.env     0              0             "
      ]
     },
     "metadata": {},
     "output_type": "display_data"
    }
   ],
   "source": [
    "all.flas=rep(1,nrow(traits.unique))\n",
    "unique.plants =rep(if_else(traits.unique$unique.plants==1,1,0))\n",
    "unique.env =rep(if_else(traits.unique$unique.env==1,1,0))\n",
    "\n",
    "\n",
    "\n",
    "comm.data=traits.unique %>%\n",
    "  select(Accession,unique.animals)%>%\n",
    "  mutate(Sample=\"unique.animals\")%>%\n",
    "  distinct(Accession,.keep_all=T)%>%\n",
    "  spread(Accession,unique.animals)%>%\n",
    "  column_to_rownames(var= \"Sample\")%>%\n",
    "  rbind(unique.plants)%>%\n",
    "  rbind(unique.env)\n",
    "  \n",
    "row.names(comm.data) <- c(\"unique.animals\",\"unique.plants\",\"unique.env\")\n",
    "\n",
    "comm=as.matrix(comm.data[1:nrow(comm.data),2:ncol(comm.data)])\n",
    "\n",
    "comm.data"
   ]
  },
  {
   "cell_type": "markdown",
   "id": "ae043b38-2031-4cf9-8ba1-86d72ad20300",
   "metadata": {},
   "source": [
    "##### Trait data"
   ]
  },
  {
   "cell_type": "code",
   "execution_count": 26,
   "id": "e889fd0a",
   "metadata": {
    "lines_to_next_cell": 0
   },
   "outputs": [
    {
     "data": {
      "text/html": [
       "<table class=\"dataframe\">\n",
       "<caption>A data.frame: 6 × 5</caption>\n",
       "<thead>\n",
       "\t<tr><th></th><th scope=col>unique.animals</th><th scope=col>unique.plants</th><th scope=col>unique.env</th><th scope=col>SeqLength</th><th scope=col>genome_size</th></tr>\n",
       "\t<tr><th></th><th scope=col>&lt;dbl&gt;</th><th scope=col>&lt;dbl&gt;</th><th scope=col>&lt;dbl&gt;</th><th scope=col>&lt;dbl&gt;</th><th scope=col>&lt;dbl&gt;</th></tr>\n",
       "</thead>\n",
       "<tbody>\n",
       "\t<tr><th scope=row>WP_018305791.1</th><td>0</td><td>0</td><td>0</td><td> 382</td><td>5666696</td></tr>\n",
       "\t<tr><th scope=row>KJS48310.1</th><td>0</td><td>0</td><td>0</td><td>1153</td><td>6027195</td></tr>\n",
       "\t<tr><th scope=row>EHQ91627.1</th><td>0</td><td>0</td><td>0</td><td> 843</td><td>5660978</td></tr>\n",
       "\t<tr><th scope=row>KRE97958.1</th><td>0</td><td>0</td><td>0</td><td> 555</td><td>8257780</td></tr>\n",
       "\t<tr><th scope=row>WP_039230967.1</th><td>0</td><td>0</td><td>0</td><td> 478</td><td>3825819</td></tr>\n",
       "\t<tr><th scope=row>ESU34160.1</th><td>0</td><td>0</td><td>0</td><td> 455</td><td>4696869</td></tr>\n",
       "</tbody>\n",
       "</table>\n"
      ],
      "text/latex": [
       "A data.frame: 6 × 5\n",
       "\\begin{tabular}{r|lllll}\n",
       "  & unique.animals & unique.plants & unique.env & SeqLength & genome\\_size\\\\\n",
       "  & <dbl> & <dbl> & <dbl> & <dbl> & <dbl>\\\\\n",
       "\\hline\n",
       "\tWP\\_018305791.1 & 0 & 0 & 0 &  382 & 5666696\\\\\n",
       "\tKJS48310.1 & 0 & 0 & 0 & 1153 & 6027195\\\\\n",
       "\tEHQ91627.1 & 0 & 0 & 0 &  843 & 5660978\\\\\n",
       "\tKRE97958.1 & 0 & 0 & 0 &  555 & 8257780\\\\\n",
       "\tWP\\_039230967.1 & 0 & 0 & 0 &  478 & 3825819\\\\\n",
       "\tESU34160.1 & 0 & 0 & 0 &  455 & 4696869\\\\\n",
       "\\end{tabular}\n"
      ],
      "text/markdown": [
       "\n",
       "A data.frame: 6 × 5\n",
       "\n",
       "| <!--/--> | unique.animals &lt;dbl&gt; | unique.plants &lt;dbl&gt; | unique.env &lt;dbl&gt; | SeqLength &lt;dbl&gt; | genome_size &lt;dbl&gt; |\n",
       "|---|---|---|---|---|---|\n",
       "| WP_018305791.1 | 0 | 0 | 0 |  382 | 5666696 |\n",
       "| KJS48310.1 | 0 | 0 | 0 | 1153 | 6027195 |\n",
       "| EHQ91627.1 | 0 | 0 | 0 |  843 | 5660978 |\n",
       "| KRE97958.1 | 0 | 0 | 0 |  555 | 8257780 |\n",
       "| WP_039230967.1 | 0 | 0 | 0 |  478 | 3825819 |\n",
       "| ESU34160.1 | 0 | 0 | 0 |  455 | 4696869 |\n",
       "\n"
      ],
      "text/plain": [
       "               unique.animals unique.plants unique.env SeqLength genome_size\n",
       "WP_018305791.1 0              0             0           382      5666696    \n",
       "KJS48310.1     0              0             0          1153      6027195    \n",
       "EHQ91627.1     0              0             0           843      5660978    \n",
       "KRE97958.1     0              0             0           555      8257780    \n",
       "WP_039230967.1 0              0             0           478      3825819    \n",
       "ESU34160.1     0              0             0           455      4696869    "
      ]
     },
     "metadata": {},
     "output_type": "display_data"
    }
   ],
   "source": [
    "traits= dat\n",
    "head(traits)"
   ]
  },
  {
   "cell_type": "markdown",
   "id": "b6a7b206-a587-49f0-94ec-8dfd08ef1ad8",
   "metadata": {},
   "source": [
    "##### Root phylogeny by midpoint"
   ]
  },
  {
   "cell_type": "code",
   "execution_count": 27,
   "id": "9adffd21",
   "metadata": {
    "lines_to_next_cell": 0
   },
   "outputs": [],
   "source": [
    "prunedphy <- prune.sample(comm, phy)\n",
    "rooted.prunedphy=midpoint.root(prunedphy)"
   ]
  },
  {
   "cell_type": "markdown",
   "id": "af1ded67-0b39-4dc3-ac32-1d010e5ada10",
   "metadata": {},
   "source": [
    "##### Plot distribution of selected taxa in each dataset across the phylogeny of top abundant (n=1263)"
   ]
  },
  {
   "cell_type": "code",
   "execution_count": 28,
   "id": "f4b1f41e",
   "metadata": {
    "lines_to_next_cell": 0
   },
   "outputs": [
    {
     "data": {
      "image/png": "[encoded data removed]",
      "text/plain": [
       "Plot with title “unique.env”"
      ]
     },
     "metadata": {
      "image/png": {
       "height": 480,
       "width": 1200
      }
     },
     "output_type": "display_data"
    }
   ],
   "source": [
    "options(repr.plot.width=20,repr.plot.height=8)\n",
    "par(mfrow = c(1, 3))\n",
    "for (i in row.names(comm)) {plot(phy, show.tip.label = FALSE, main = i)\n",
    "  tiplabels(tip = which(phy$tip.label %in% names(which(comm [i, ] > 0))),\n",
    "pch=19, cex=2,col=\"red\")\n",
    "}"
   ]
  },
  {
   "cell_type": "markdown",
   "id": "99e4dda3-97d3-4c27-8424-c6ecb6cf7b50",
   "metadata": {},
   "source": [
    "##### Calculate phylogenetic diversity"
   ]
  },
  {
   "cell_type": "code",
   "execution_count": 29,
   "id": "bf2083ad",
   "metadata": {
    "lines_to_next_cell": 0
   },
   "outputs": [
    {
     "data": {
      "text/html": [
       "<table class=\"dataframe\">\n",
       "<caption>A data.frame: 3 × 2</caption>\n",
       "<thead>\n",
       "\t<tr><th></th><th scope=col>PD</th><th scope=col>SR</th></tr>\n",
       "\t<tr><th></th><th scope=col>&lt;dbl&gt;</th><th scope=col>&lt;dbl&gt;</th></tr>\n",
       "</thead>\n",
       "<tbody>\n",
       "\t<tr><th scope=row>unique.animals</th><td> 9.031818</td><td>18</td></tr>\n",
       "\t<tr><th scope=row>unique.plants</th><td> 9.927756</td><td>11</td></tr>\n",
       "\t<tr><th scope=row>unique.env</th><td>11.261880</td><td>12</td></tr>\n",
       "</tbody>\n",
       "</table>\n"
      ],
      "text/latex": [
       "A data.frame: 3 × 2\n",
       "\\begin{tabular}{r|ll}\n",
       "  & PD & SR\\\\\n",
       "  & <dbl> & <dbl>\\\\\n",
       "\\hline\n",
       "\tunique.animals &  9.031818 & 18\\\\\n",
       "\tunique.plants &  9.927756 & 11\\\\\n",
       "\tunique.env & 11.261880 & 12\\\\\n",
       "\\end{tabular}\n"
      ],
      "text/markdown": [
       "\n",
       "A data.frame: 3 × 2\n",
       "\n",
       "| <!--/--> | PD &lt;dbl&gt; | SR &lt;dbl&gt; |\n",
       "|---|---|---|\n",
       "| unique.animals |  9.031818 | 18 |\n",
       "| unique.plants |  9.927756 | 11 |\n",
       "| unique.env | 11.261880 | 12 |\n",
       "\n"
      ],
      "text/plain": [
       "               PD        SR\n",
       "unique.animals  9.031818 18\n",
       "unique.plants   9.927756 11\n",
       "unique.env     11.261880 12"
      ]
     },
     "metadata": {},
     "output_type": "display_data"
    }
   ],
   "source": [
    "#pd\n",
    "phy.div=pd(comm,phy,include.root=TRUE)\n",
    "phy.div"
   ]
  },
  {
   "cell_type": "markdown",
   "id": "24acef86-ec45-433d-934c-820930c0cf84",
   "metadata": {},
   "source": [
    "##### Calculate null models of community assembly"
   ]
  },
  {
   "cell_type": "code",
   "execution_count": 82,
   "id": "4dcf29c3",
   "metadata": {
    "tags": []
   },
   "outputs": [],
   "source": [
    "#Create phylogeny distance matrix (MDP and MNTD require a matrix as input)\n",
    "#phydist=cophenetic.phylo(phy)\n",
    "#phydist\n",
    "\n",
    "#Using MDP measure (MEAN PAIRWISE DISTANCE)\n",
    "ses.mpd.result <- ses.mpd(comm, phydist, null.model=\"taxa.labels\", abundance.weighted=FALSE, runs=1000)\n",
    "\n",
    "\n",
    "\n",
    "#Using standardized effect size of phylogenetic diversity (Faith's PD)\n",
    "ses.pd <- ses.pd(samp = comm, \n",
    "                        tree = phy, \n",
    "                        null.model = \"taxa.labels\", \n",
    "                        runs = 1000)\n",
    "\n",
    "\n",
    "#Using MNTD measure (MEAN NEAREST TAXON DISTANCE)\n",
    "ses.mntd.result <- ses.mntd(comm, phydist, null.model=\"taxa.labels\",abundance.weighted=FALSE, runs=1000)\n"
   ]
  },
  {
   "cell_type": "code",
   "execution_count": 83,
   "id": "799a361c-6135-470f-b6fe-d00b5602e9af",
   "metadata": {},
   "outputs": [],
   "source": [
    "ses.mpd.result <- ses.mpd(comm, phydist, null.model=\"taxa.labels\", abundance.weighted=FALSE, runs=1000)\n"
   ]
  },
  {
   "cell_type": "code",
   "execution_count": 84,
   "id": "a72069e8-a59b-4543-9e28-210c8395082b",
   "metadata": {},
   "outputs": [],
   "source": [
    "ses.mpd.result =ses.mpd.result %>% rownames_to_column(var=\"biome\")\n",
    "ses.pd = ses.pd %>% rownames_to_column(var=\"biome\")\n",
    "ses.mntd.result =ses.mntd.result %>% rownames_to_column(var=\"biome\")"
   ]
  },
  {
   "cell_type": "code",
   "execution_count": 88,
   "id": "8e20360a-9511-4c37-8d3f-c4c02b9c9edb",
   "metadata": {},
   "outputs": [
    {
     "data": {
      "text/html": [
       "<table class=\"dataframe\">\n",
       "<caption>A data.frame: 3 × 9</caption>\n",
       "<thead>\n",
       "\t<tr><th scope=col>biome</th><th scope=col>ntaxa</th><th scope=col>mpd.obs</th><th scope=col>mpd.rand.mean</th><th scope=col>mpd.rand.sd</th><th scope=col>mpd.obs.rank</th><th scope=col>mpd.obs.z</th><th scope=col>mpd.obs.p</th><th scope=col>runs</th></tr>\n",
       "\t<tr><th scope=col>&lt;chr&gt;</th><th scope=col>&lt;int&gt;</th><th scope=col>&lt;dbl&gt;</th><th scope=col>&lt;dbl&gt;</th><th scope=col>&lt;dbl&gt;</th><th scope=col>&lt;dbl&gt;</th><th scope=col>&lt;dbl&gt;</th><th scope=col>&lt;dbl&gt;</th><th scope=col>&lt;dbl&gt;</th></tr>\n",
       "</thead>\n",
       "<tbody>\n",
       "\t<tr><td>unique.animals</td><td>18</td><td>1.263102</td><td>2.196251</td><td>0.1912956</td><td>  1</td><td>-4.8780497</td><td>0.000999001</td><td>1000</td></tr>\n",
       "\t<tr><td>unique.plants </td><td>11</td><td>2.318629</td><td>2.192165</td><td>0.2538858</td><td>684</td><td> 0.4981133</td><td>0.683316683</td><td>1000</td></tr>\n",
       "\t<tr><td>unique.env    </td><td>12</td><td>2.273695</td><td>2.191931</td><td>0.2501692</td><td>622</td><td> 0.3268325</td><td>0.621378621</td><td>1000</td></tr>\n",
       "</tbody>\n",
       "</table>\n"
      ],
      "text/latex": [
       "A data.frame: 3 × 9\n",
       "\\begin{tabular}{lllllllll}\n",
       " biome & ntaxa & mpd.obs & mpd.rand.mean & mpd.rand.sd & mpd.obs.rank & mpd.obs.z & mpd.obs.p & runs\\\\\n",
       " <chr> & <int> & <dbl> & <dbl> & <dbl> & <dbl> & <dbl> & <dbl> & <dbl>\\\\\n",
       "\\hline\n",
       "\t unique.animals & 18 & 1.263102 & 2.196251 & 0.1912956 &   1 & -4.8780497 & 0.000999001 & 1000\\\\\n",
       "\t unique.plants  & 11 & 2.318629 & 2.192165 & 0.2538858 & 684 &  0.4981133 & 0.683316683 & 1000\\\\\n",
       "\t unique.env     & 12 & 2.273695 & 2.191931 & 0.2501692 & 622 &  0.3268325 & 0.621378621 & 1000\\\\\n",
       "\\end{tabular}\n"
      ],
      "text/markdown": [
       "\n",
       "A data.frame: 3 × 9\n",
       "\n",
       "| biome &lt;chr&gt; | ntaxa &lt;int&gt; | mpd.obs &lt;dbl&gt; | mpd.rand.mean &lt;dbl&gt; | mpd.rand.sd &lt;dbl&gt; | mpd.obs.rank &lt;dbl&gt; | mpd.obs.z &lt;dbl&gt; | mpd.obs.p &lt;dbl&gt; | runs &lt;dbl&gt; |\n",
       "|---|---|---|---|---|---|---|---|---|\n",
       "| unique.animals | 18 | 1.263102 | 2.196251 | 0.1912956 |   1 | -4.8780497 | 0.000999001 | 1000 |\n",
       "| unique.plants  | 11 | 2.318629 | 2.192165 | 0.2538858 | 684 |  0.4981133 | 0.683316683 | 1000 |\n",
       "| unique.env     | 12 | 2.273695 | 2.191931 | 0.2501692 | 622 |  0.3268325 | 0.621378621 | 1000 |\n",
       "\n"
      ],
      "text/plain": [
       "  biome          ntaxa mpd.obs  mpd.rand.mean mpd.rand.sd mpd.obs.rank\n",
       "1 unique.animals 18    1.263102 2.196251      0.1912956     1         \n",
       "2 unique.plants  11    2.318629 2.192165      0.2538858   684         \n",
       "3 unique.env     12    2.273695 2.191931      0.2501692   622         \n",
       "  mpd.obs.z  mpd.obs.p   runs\n",
       "1 -4.8780497 0.000999001 1000\n",
       "2  0.4981133 0.683316683 1000\n",
       "3  0.3268325 0.621378621 1000"
      ]
     },
     "metadata": {},
     "output_type": "display_data"
    },
    {
     "data": {
      "text/html": [
       "<table class=\"dataframe\">\n",
       "<caption>A data.frame: 3 × 9</caption>\n",
       "<thead>\n",
       "\t<tr><th scope=col>biome</th><th scope=col>ntaxa</th><th scope=col>pd.obs</th><th scope=col>pd.rand.mean</th><th scope=col>pd.rand.sd</th><th scope=col>pd.obs.rank</th><th scope=col>pd.obs.z</th><th scope=col>pd.obs.p</th><th scope=col>runs</th></tr>\n",
       "\t<tr><th scope=col>&lt;chr&gt;</th><th scope=col>&lt;int&gt;</th><th scope=col>&lt;dbl&gt;</th><th scope=col>&lt;dbl&gt;</th><th scope=col>&lt;dbl&gt;</th><th scope=col>&lt;dbl&gt;</th><th scope=col>&lt;dbl&gt;</th><th scope=col>&lt;dbl&gt;</th><th scope=col>&lt;dbl&gt;</th></tr>\n",
       "</thead>\n",
       "<tbody>\n",
       "\t<tr><td>unique.animals</td><td>18</td><td> 9.031818</td><td>15.13658</td><td>1.504592</td><td>  1</td><td>-4.0574232</td><td>0.000999001</td><td>1000</td></tr>\n",
       "\t<tr><td>unique.plants </td><td>11</td><td> 9.927756</td><td>10.44042</td><td>1.173279</td><td>327</td><td>-0.4369527</td><td>0.326673327</td><td>1000</td></tr>\n",
       "\t<tr><td>unique.env    </td><td>12</td><td>11.261880</td><td>11.19428</td><td>1.278307</td><td>535</td><td> 0.0528784</td><td>0.534465534</td><td>1000</td></tr>\n",
       "</tbody>\n",
       "</table>\n"
      ],
      "text/latex": [
       "A data.frame: 3 × 9\n",
       "\\begin{tabular}{lllllllll}\n",
       " biome & ntaxa & pd.obs & pd.rand.mean & pd.rand.sd & pd.obs.rank & pd.obs.z & pd.obs.p & runs\\\\\n",
       " <chr> & <int> & <dbl> & <dbl> & <dbl> & <dbl> & <dbl> & <dbl> & <dbl>\\\\\n",
       "\\hline\n",
       "\t unique.animals & 18 &  9.031818 & 15.13658 & 1.504592 &   1 & -4.0574232 & 0.000999001 & 1000\\\\\n",
       "\t unique.plants  & 11 &  9.927756 & 10.44042 & 1.173279 & 327 & -0.4369527 & 0.326673327 & 1000\\\\\n",
       "\t unique.env     & 12 & 11.261880 & 11.19428 & 1.278307 & 535 &  0.0528784 & 0.534465534 & 1000\\\\\n",
       "\\end{tabular}\n"
      ],
      "text/markdown": [
       "\n",
       "A data.frame: 3 × 9\n",
       "\n",
       "| biome &lt;chr&gt; | ntaxa &lt;int&gt; | pd.obs &lt;dbl&gt; | pd.rand.mean &lt;dbl&gt; | pd.rand.sd &lt;dbl&gt; | pd.obs.rank &lt;dbl&gt; | pd.obs.z &lt;dbl&gt; | pd.obs.p &lt;dbl&gt; | runs &lt;dbl&gt; |\n",
       "|---|---|---|---|---|---|---|---|---|\n",
       "| unique.animals | 18 |  9.031818 | 15.13658 | 1.504592 |   1 | -4.0574232 | 0.000999001 | 1000 |\n",
       "| unique.plants  | 11 |  9.927756 | 10.44042 | 1.173279 | 327 | -0.4369527 | 0.326673327 | 1000 |\n",
       "| unique.env     | 12 | 11.261880 | 11.19428 | 1.278307 | 535 |  0.0528784 | 0.534465534 | 1000 |\n",
       "\n"
      ],
      "text/plain": [
       "  biome          ntaxa pd.obs    pd.rand.mean pd.rand.sd pd.obs.rank pd.obs.z  \n",
       "1 unique.animals 18     9.031818 15.13658     1.504592     1         -4.0574232\n",
       "2 unique.plants  11     9.927756 10.44042     1.173279   327         -0.4369527\n",
       "3 unique.env     12    11.261880 11.19428     1.278307   535          0.0528784\n",
       "  pd.obs.p    runs\n",
       "1 0.000999001 1000\n",
       "2 0.326673327 1000\n",
       "3 0.534465534 1000"
      ]
     },
     "metadata": {},
     "output_type": "display_data"
    },
    {
     "data": {
      "text/html": [
       "<table class=\"dataframe\">\n",
       "<caption>A data.frame: 3 × 9</caption>\n",
       "<thead>\n",
       "\t<tr><th scope=col>biome</th><th scope=col>ntaxa</th><th scope=col>pd.obs</th><th scope=col>pd.rand.mean</th><th scope=col>pd.rand.sd</th><th scope=col>pd.obs.rank</th><th scope=col>pd.obs.z</th><th scope=col>pd.obs.p</th><th scope=col>runs</th></tr>\n",
       "\t<tr><th scope=col>&lt;chr&gt;</th><th scope=col>&lt;int&gt;</th><th scope=col>&lt;dbl&gt;</th><th scope=col>&lt;dbl&gt;</th><th scope=col>&lt;dbl&gt;</th><th scope=col>&lt;dbl&gt;</th><th scope=col>&lt;dbl&gt;</th><th scope=col>&lt;dbl&gt;</th><th scope=col>&lt;dbl&gt;</th></tr>\n",
       "</thead>\n",
       "<tbody>\n",
       "\t<tr><td>unique.animals</td><td>18</td><td> 9.031818</td><td>15.13658</td><td>1.504592</td><td>  1</td><td>-4.0574232</td><td>0.000999001</td><td>1000</td></tr>\n",
       "\t<tr><td>unique.plants </td><td>11</td><td> 9.927756</td><td>10.44042</td><td>1.173279</td><td>327</td><td>-0.4369527</td><td>0.326673327</td><td>1000</td></tr>\n",
       "\t<tr><td>unique.env    </td><td>12</td><td>11.261880</td><td>11.19428</td><td>1.278307</td><td>535</td><td> 0.0528784</td><td>0.534465534</td><td>1000</td></tr>\n",
       "</tbody>\n",
       "</table>\n"
      ],
      "text/latex": [
       "A data.frame: 3 × 9\n",
       "\\begin{tabular}{lllllllll}\n",
       " biome & ntaxa & pd.obs & pd.rand.mean & pd.rand.sd & pd.obs.rank & pd.obs.z & pd.obs.p & runs\\\\\n",
       " <chr> & <int> & <dbl> & <dbl> & <dbl> & <dbl> & <dbl> & <dbl> & <dbl>\\\\\n",
       "\\hline\n",
       "\t unique.animals & 18 &  9.031818 & 15.13658 & 1.504592 &   1 & -4.0574232 & 0.000999001 & 1000\\\\\n",
       "\t unique.plants  & 11 &  9.927756 & 10.44042 & 1.173279 & 327 & -0.4369527 & 0.326673327 & 1000\\\\\n",
       "\t unique.env     & 12 & 11.261880 & 11.19428 & 1.278307 & 535 &  0.0528784 & 0.534465534 & 1000\\\\\n",
       "\\end{tabular}\n"
      ],
      "text/markdown": [
       "\n",
       "A data.frame: 3 × 9\n",
       "\n",
       "| biome &lt;chr&gt; | ntaxa &lt;int&gt; | pd.obs &lt;dbl&gt; | pd.rand.mean &lt;dbl&gt; | pd.rand.sd &lt;dbl&gt; | pd.obs.rank &lt;dbl&gt; | pd.obs.z &lt;dbl&gt; | pd.obs.p &lt;dbl&gt; | runs &lt;dbl&gt; |\n",
       "|---|---|---|---|---|---|---|---|---|\n",
       "| unique.animals | 18 |  9.031818 | 15.13658 | 1.504592 |   1 | -4.0574232 | 0.000999001 | 1000 |\n",
       "| unique.plants  | 11 |  9.927756 | 10.44042 | 1.173279 | 327 | -0.4369527 | 0.326673327 | 1000 |\n",
       "| unique.env     | 12 | 11.261880 | 11.19428 | 1.278307 | 535 |  0.0528784 | 0.534465534 | 1000 |\n",
       "\n"
      ],
      "text/plain": [
       "  biome          ntaxa pd.obs    pd.rand.mean pd.rand.sd pd.obs.rank pd.obs.z  \n",
       "1 unique.animals 18     9.031818 15.13658     1.504592     1         -4.0574232\n",
       "2 unique.plants  11     9.927756 10.44042     1.173279   327         -0.4369527\n",
       "3 unique.env     12    11.261880 11.19428     1.278307   535          0.0528784\n",
       "  pd.obs.p    runs\n",
       "1 0.000999001 1000\n",
       "2 0.326673327 1000\n",
       "3 0.534465534 1000"
      ]
     },
     "metadata": {},
     "output_type": "display_data"
    }
   ],
   "source": [
    "ses.mpd.result\n",
    "ses.pd\n",
    "ses.pd"
   ]
  },
  {
   "cell_type": "code",
   "execution_count": 111,
   "id": "30fea7f2-f4a3-4bba-9713-531be507e0ed",
   "metadata": {},
   "outputs": [],
   "source": [
    "ses.phylodiv.unique = inner_join(ses.mpd.result,ses.pd,by=\"biome\")%>%\n",
    "                        inner_join(ses.mntd.result,by=\"biome\")"
   ]
  },
  {
   "cell_type": "code",
   "execution_count": 112,
   "id": "80496f0c-bae2-4d6b-85bb-802f144ff990",
   "metadata": {},
   "outputs": [
    {
     "data": {
      "text/html": [
       "<table class=\"dataframe\">\n",
       "<caption>A data.frame: 3 × 25</caption>\n",
       "<thead>\n",
       "\t<tr><th scope=col>biome</th><th scope=col>ntaxa.x</th><th scope=col>mpd.obs</th><th scope=col>mpd.rand.mean</th><th scope=col>mpd.rand.sd</th><th scope=col>mpd.obs.rank</th><th scope=col>mpd.obs.z</th><th scope=col>mpd.obs.p</th><th scope=col>runs.x</th><th scope=col>ntaxa.y</th><th scope=col>⋯</th><th scope=col>pd.obs.p</th><th scope=col>runs.y</th><th scope=col>ntaxa</th><th scope=col>mntd.obs</th><th scope=col>mntd.rand.mean</th><th scope=col>mntd.rand.sd</th><th scope=col>mntd.obs.rank</th><th scope=col>mntd.obs.z</th><th scope=col>mntd.obs.p</th><th scope=col>runs</th></tr>\n",
       "\t<tr><th scope=col>&lt;chr&gt;</th><th scope=col>&lt;int&gt;</th><th scope=col>&lt;dbl&gt;</th><th scope=col>&lt;dbl&gt;</th><th scope=col>&lt;dbl&gt;</th><th scope=col>&lt;dbl&gt;</th><th scope=col>&lt;dbl&gt;</th><th scope=col>&lt;dbl&gt;</th><th scope=col>&lt;dbl&gt;</th><th scope=col>&lt;int&gt;</th><th scope=col>⋯</th><th scope=col>&lt;dbl&gt;</th><th scope=col>&lt;dbl&gt;</th><th scope=col>&lt;int&gt;</th><th scope=col>&lt;dbl&gt;</th><th scope=col>&lt;dbl&gt;</th><th scope=col>&lt;dbl&gt;</th><th scope=col>&lt;dbl&gt;</th><th scope=col>&lt;dbl&gt;</th><th scope=col>&lt;dbl&gt;</th><th scope=col>&lt;dbl&gt;</th></tr>\n",
       "</thead>\n",
       "<tbody>\n",
       "\t<tr><td>unique.animals</td><td>18</td><td>1.263102</td><td>2.196251</td><td>0.1912956</td><td>  1</td><td>-4.8780497</td><td>0.000999001</td><td>1000</td><td>18</td><td>⋯</td><td>0.000999001</td><td>1000</td><td>18</td><td>0.6588721</td><td>1.171844</td><td>0.1533703</td><td>  1</td><td>-3.3446638</td><td>0.000999001</td><td>1000</td></tr>\n",
       "\t<tr><td>unique.plants </td><td>11</td><td>2.318629</td><td>2.192165</td><td>0.2538858</td><td>684</td><td> 0.4981133</td><td>0.683316683</td><td>1000</td><td>11</td><td>⋯</td><td>0.326673327</td><td>1000</td><td>11</td><td>1.1568969</td><td>1.316345</td><td>0.2038087</td><td>219</td><td>-0.7823418</td><td>0.218781219</td><td>1000</td></tr>\n",
       "\t<tr><td>unique.env    </td><td>12</td><td>2.273695</td><td>2.191931</td><td>0.2501692</td><td>622</td><td> 0.3268325</td><td>0.621378621</td><td>1000</td><td>12</td><td>⋯</td><td>0.534465534</td><td>1000</td><td>12</td><td>1.3266314</td><td>1.296882</td><td>0.1943832</td><td>571</td><td> 0.1530474</td><td>0.570429570</td><td>1000</td></tr>\n",
       "</tbody>\n",
       "</table>\n"
      ],
      "text/latex": [
       "A data.frame: 3 × 25\n",
       "\\begin{tabular}{lllllllllllllllllllll}\n",
       " biome & ntaxa.x & mpd.obs & mpd.rand.mean & mpd.rand.sd & mpd.obs.rank & mpd.obs.z & mpd.obs.p & runs.x & ntaxa.y & ⋯ & pd.obs.p & runs.y & ntaxa & mntd.obs & mntd.rand.mean & mntd.rand.sd & mntd.obs.rank & mntd.obs.z & mntd.obs.p & runs\\\\\n",
       " <chr> & <int> & <dbl> & <dbl> & <dbl> & <dbl> & <dbl> & <dbl> & <dbl> & <int> & ⋯ & <dbl> & <dbl> & <int> & <dbl> & <dbl> & <dbl> & <dbl> & <dbl> & <dbl> & <dbl>\\\\\n",
       "\\hline\n",
       "\t unique.animals & 18 & 1.263102 & 2.196251 & 0.1912956 &   1 & -4.8780497 & 0.000999001 & 1000 & 18 & ⋯ & 0.000999001 & 1000 & 18 & 0.6588721 & 1.171844 & 0.1533703 &   1 & -3.3446638 & 0.000999001 & 1000\\\\\n",
       "\t unique.plants  & 11 & 2.318629 & 2.192165 & 0.2538858 & 684 &  0.4981133 & 0.683316683 & 1000 & 11 & ⋯ & 0.326673327 & 1000 & 11 & 1.1568969 & 1.316345 & 0.2038087 & 219 & -0.7823418 & 0.218781219 & 1000\\\\\n",
       "\t unique.env     & 12 & 2.273695 & 2.191931 & 0.2501692 & 622 &  0.3268325 & 0.621378621 & 1000 & 12 & ⋯ & 0.534465534 & 1000 & 12 & 1.3266314 & 1.296882 & 0.1943832 & 571 &  0.1530474 & 0.570429570 & 1000\\\\\n",
       "\\end{tabular}\n"
      ],
      "text/markdown": [
       "\n",
       "A data.frame: 3 × 25\n",
       "\n",
       "| biome &lt;chr&gt; | ntaxa.x &lt;int&gt; | mpd.obs &lt;dbl&gt; | mpd.rand.mean &lt;dbl&gt; | mpd.rand.sd &lt;dbl&gt; | mpd.obs.rank &lt;dbl&gt; | mpd.obs.z &lt;dbl&gt; | mpd.obs.p &lt;dbl&gt; | runs.x &lt;dbl&gt; | ntaxa.y &lt;int&gt; | ⋯ ⋯ | pd.obs.p &lt;dbl&gt; | runs.y &lt;dbl&gt; | ntaxa &lt;int&gt; | mntd.obs &lt;dbl&gt; | mntd.rand.mean &lt;dbl&gt; | mntd.rand.sd &lt;dbl&gt; | mntd.obs.rank &lt;dbl&gt; | mntd.obs.z &lt;dbl&gt; | mntd.obs.p &lt;dbl&gt; | runs &lt;dbl&gt; |\n",
       "|---|---|---|---|---|---|---|---|---|---|---|---|---|---|---|---|---|---|---|---|---|\n",
       "| unique.animals | 18 | 1.263102 | 2.196251 | 0.1912956 |   1 | -4.8780497 | 0.000999001 | 1000 | 18 | ⋯ | 0.000999001 | 1000 | 18 | 0.6588721 | 1.171844 | 0.1533703 |   1 | -3.3446638 | 0.000999001 | 1000 |\n",
       "| unique.plants  | 11 | 2.318629 | 2.192165 | 0.2538858 | 684 |  0.4981133 | 0.683316683 | 1000 | 11 | ⋯ | 0.326673327 | 1000 | 11 | 1.1568969 | 1.316345 | 0.2038087 | 219 | -0.7823418 | 0.218781219 | 1000 |\n",
       "| unique.env     | 12 | 2.273695 | 2.191931 | 0.2501692 | 622 |  0.3268325 | 0.621378621 | 1000 | 12 | ⋯ | 0.534465534 | 1000 | 12 | 1.3266314 | 1.296882 | 0.1943832 | 571 |  0.1530474 | 0.570429570 | 1000 |\n",
       "\n"
      ],
      "text/plain": [
       "  biome          ntaxa.x mpd.obs  mpd.rand.mean mpd.rand.sd mpd.obs.rank\n",
       "1 unique.animals 18      1.263102 2.196251      0.1912956     1         \n",
       "2 unique.plants  11      2.318629 2.192165      0.2538858   684         \n",
       "3 unique.env     12      2.273695 2.191931      0.2501692   622         \n",
       "  mpd.obs.z  mpd.obs.p   runs.x ntaxa.y ⋯ pd.obs.p    runs.y ntaxa mntd.obs \n",
       "1 -4.8780497 0.000999001 1000   18      ⋯ 0.000999001 1000   18    0.6588721\n",
       "2  0.4981133 0.683316683 1000   11      ⋯ 0.326673327 1000   11    1.1568969\n",
       "3  0.3268325 0.621378621 1000   12      ⋯ 0.534465534 1000   12    1.3266314\n",
       "  mntd.rand.mean mntd.rand.sd mntd.obs.rank mntd.obs.z mntd.obs.p  runs\n",
       "1 1.171844       0.1533703      1           -3.3446638 0.000999001 1000\n",
       "2 1.316345       0.2038087    219           -0.7823418 0.218781219 1000\n",
       "3 1.296882       0.1943832    571            0.1530474 0.570429570 1000"
      ]
     },
     "metadata": {},
     "output_type": "display_data"
    }
   ],
   "source": [
    "ses.phylodiv.unique"
   ]
  },
  {
   "cell_type": "code",
   "execution_count": 87,
   "id": "c8718b99-a978-447b-95e9-a7f06582da96",
   "metadata": {},
   "outputs": [],
   "source": [
    "write_tsv(ses.phylodiv.unique,\"../../../FlagellinDiversity/output_files/ses.phylo.div.uniqueBiome.tsv\")"
   ]
  },
  {
   "cell_type": "code",
   "execution_count": 80,
   "id": "29b7f0f2-2850-4a50-b70c-798516e4a419",
   "metadata": {},
   "outputs": [],
   "source": [
    "df.comm.assembly. = data.frame(biome = c(\"Animals\",\"Plants\",\"FL\"),\n",
    "                             mpd = c(1.263102,2.318629,2.273695),\n",
    "                             pd = c(9.031818,9.927756,11.261880),\n",
    "                             mntd = c(0.6588721,1.1568969,1.3266314))"
   ]
  },
  {
   "cell_type": "code",
   "execution_count": 11,
   "id": "bf25f46d-2fb8-433a-a617-744a01c89c9b",
   "metadata": {},
   "outputs": [],
   "source": [
    "library(reshape2)\n",
    "library(ggplot2)\n",
    "library(ggsci)"
   ]
  },
  {
   "cell_type": "code",
   "execution_count": 113,
   "id": "acaa48f5-488f-4559-af8c-dd64e038956a",
   "metadata": {},
   "outputs": [
    {
     "name": "stderr",
     "output_type": "stream",
     "text": [
      "Using biome as id variables\n",
      "\n"
     ]
    }
   ],
   "source": [
    "df.comm.plot = melt(ses.phylodiv.unique)"
   ]
  },
  {
   "cell_type": "code",
   "execution_count": 91,
   "id": "2ee24d89-fd3a-4aa4-832b-bf64d1b6f38a",
   "metadata": {
    "collapsed": true,
    "jupyter": {
     "outputs_hidden": true
    },
    "tags": []
   },
   "outputs": [
    {
     "name": "stderr",
     "output_type": "stream",
     "text": [
      "Using biome as id variables\n",
      "\n"
     ]
    },
    {
     "data": {
      "text/html": [
       "<table class=\"dataframe\">\n",
       "<caption>A data.frame: 24 × 3</caption>\n",
       "<thead>\n",
       "\t<tr><th scope=col>biome</th><th scope=col>variable</th><th scope=col>value</th></tr>\n",
       "\t<tr><th scope=col>&lt;chr&gt;</th><th scope=col>&lt;fct&gt;</th><th scope=col>&lt;dbl&gt;</th></tr>\n",
       "</thead>\n",
       "<tbody>\n",
       "\t<tr><td>unique.animals</td><td>ntaxa        </td><td> 1.800000e+01</td></tr>\n",
       "\t<tr><td>unique.plants </td><td>ntaxa        </td><td> 1.100000e+01</td></tr>\n",
       "\t<tr><td>unique.env    </td><td>ntaxa        </td><td> 1.200000e+01</td></tr>\n",
       "\t<tr><td>unique.animals</td><td>mpd.obs      </td><td> 1.263102e+00</td></tr>\n",
       "\t<tr><td>unique.plants </td><td>mpd.obs      </td><td> 2.318629e+00</td></tr>\n",
       "\t<tr><td>unique.env    </td><td>mpd.obs      </td><td> 2.273695e+00</td></tr>\n",
       "\t<tr><td>unique.animals</td><td>mpd.rand.mean</td><td> 2.196251e+00</td></tr>\n",
       "\t<tr><td>unique.plants </td><td>mpd.rand.mean</td><td> 2.192165e+00</td></tr>\n",
       "\t<tr><td>unique.env    </td><td>mpd.rand.mean</td><td> 2.191931e+00</td></tr>\n",
       "\t<tr><td>unique.animals</td><td>mpd.rand.sd  </td><td> 1.912956e-01</td></tr>\n",
       "\t<tr><td>unique.plants </td><td>mpd.rand.sd  </td><td> 2.538858e-01</td></tr>\n",
       "\t<tr><td>unique.env    </td><td>mpd.rand.sd  </td><td> 2.501692e-01</td></tr>\n",
       "\t<tr><td>unique.animals</td><td>mpd.obs.rank </td><td> 1.000000e+00</td></tr>\n",
       "\t<tr><td>unique.plants </td><td>mpd.obs.rank </td><td> 6.840000e+02</td></tr>\n",
       "\t<tr><td>unique.env    </td><td>mpd.obs.rank </td><td> 6.220000e+02</td></tr>\n",
       "\t<tr><td>unique.animals</td><td>mpd.obs.z    </td><td>-4.878050e+00</td></tr>\n",
       "\t<tr><td>unique.plants </td><td>mpd.obs.z    </td><td> 4.981133e-01</td></tr>\n",
       "\t<tr><td>unique.env    </td><td>mpd.obs.z    </td><td> 3.268325e-01</td></tr>\n",
       "\t<tr><td>unique.animals</td><td>mpd.obs.p    </td><td> 9.990010e-04</td></tr>\n",
       "\t<tr><td>unique.plants </td><td>mpd.obs.p    </td><td> 6.833167e-01</td></tr>\n",
       "\t<tr><td>unique.env    </td><td>mpd.obs.p    </td><td> 6.213786e-01</td></tr>\n",
       "\t<tr><td>unique.animals</td><td>runs         </td><td> 1.000000e+03</td></tr>\n",
       "\t<tr><td>unique.plants </td><td>runs         </td><td> 1.000000e+03</td></tr>\n",
       "\t<tr><td>unique.env    </td><td>runs         </td><td> 1.000000e+03</td></tr>\n",
       "</tbody>\n",
       "</table>\n"
      ],
      "text/latex": [
       "A data.frame: 24 × 3\n",
       "\\begin{tabular}{lll}\n",
       " biome & variable & value\\\\\n",
       " <chr> & <fct> & <dbl>\\\\\n",
       "\\hline\n",
       "\t unique.animals & ntaxa         &  1.800000e+01\\\\\n",
       "\t unique.plants  & ntaxa         &  1.100000e+01\\\\\n",
       "\t unique.env     & ntaxa         &  1.200000e+01\\\\\n",
       "\t unique.animals & mpd.obs       &  1.263102e+00\\\\\n",
       "\t unique.plants  & mpd.obs       &  2.318629e+00\\\\\n",
       "\t unique.env     & mpd.obs       &  2.273695e+00\\\\\n",
       "\t unique.animals & mpd.rand.mean &  2.196251e+00\\\\\n",
       "\t unique.plants  & mpd.rand.mean &  2.192165e+00\\\\\n",
       "\t unique.env     & mpd.rand.mean &  2.191931e+00\\\\\n",
       "\t unique.animals & mpd.rand.sd   &  1.912956e-01\\\\\n",
       "\t unique.plants  & mpd.rand.sd   &  2.538858e-01\\\\\n",
       "\t unique.env     & mpd.rand.sd   &  2.501692e-01\\\\\n",
       "\t unique.animals & mpd.obs.rank  &  1.000000e+00\\\\\n",
       "\t unique.plants  & mpd.obs.rank  &  6.840000e+02\\\\\n",
       "\t unique.env     & mpd.obs.rank  &  6.220000e+02\\\\\n",
       "\t unique.animals & mpd.obs.z     & -4.878050e+00\\\\\n",
       "\t unique.plants  & mpd.obs.z     &  4.981133e-01\\\\\n",
       "\t unique.env     & mpd.obs.z     &  3.268325e-01\\\\\n",
       "\t unique.animals & mpd.obs.p     &  9.990010e-04\\\\\n",
       "\t unique.plants  & mpd.obs.p     &  6.833167e-01\\\\\n",
       "\t unique.env     & mpd.obs.p     &  6.213786e-01\\\\\n",
       "\t unique.animals & runs          &  1.000000e+03\\\\\n",
       "\t unique.plants  & runs          &  1.000000e+03\\\\\n",
       "\t unique.env     & runs          &  1.000000e+03\\\\\n",
       "\\end{tabular}\n"
      ],
      "text/markdown": [
       "\n",
       "A data.frame: 24 × 3\n",
       "\n",
       "| biome &lt;chr&gt; | variable &lt;fct&gt; | value &lt;dbl&gt; |\n",
       "|---|---|---|\n",
       "| unique.animals | ntaxa         |  1.800000e+01 |\n",
       "| unique.plants  | ntaxa         |  1.100000e+01 |\n",
       "| unique.env     | ntaxa         |  1.200000e+01 |\n",
       "| unique.animals | mpd.obs       |  1.263102e+00 |\n",
       "| unique.plants  | mpd.obs       |  2.318629e+00 |\n",
       "| unique.env     | mpd.obs       |  2.273695e+00 |\n",
       "| unique.animals | mpd.rand.mean |  2.196251e+00 |\n",
       "| unique.plants  | mpd.rand.mean |  2.192165e+00 |\n",
       "| unique.env     | mpd.rand.mean |  2.191931e+00 |\n",
       "| unique.animals | mpd.rand.sd   |  1.912956e-01 |\n",
       "| unique.plants  | mpd.rand.sd   |  2.538858e-01 |\n",
       "| unique.env     | mpd.rand.sd   |  2.501692e-01 |\n",
       "| unique.animals | mpd.obs.rank  |  1.000000e+00 |\n",
       "| unique.plants  | mpd.obs.rank  |  6.840000e+02 |\n",
       "| unique.env     | mpd.obs.rank  |  6.220000e+02 |\n",
       "| unique.animals | mpd.obs.z     | -4.878050e+00 |\n",
       "| unique.plants  | mpd.obs.z     |  4.981133e-01 |\n",
       "| unique.env     | mpd.obs.z     |  3.268325e-01 |\n",
       "| unique.animals | mpd.obs.p     |  9.990010e-04 |\n",
       "| unique.plants  | mpd.obs.p     |  6.833167e-01 |\n",
       "| unique.env     | mpd.obs.p     |  6.213786e-01 |\n",
       "| unique.animals | runs          |  1.000000e+03 |\n",
       "| unique.plants  | runs          |  1.000000e+03 |\n",
       "| unique.env     | runs          |  1.000000e+03 |\n",
       "\n"
      ],
      "text/plain": [
       "   biome          variable      value        \n",
       "1  unique.animals ntaxa          1.800000e+01\n",
       "2  unique.plants  ntaxa          1.100000e+01\n",
       "3  unique.env     ntaxa          1.200000e+01\n",
       "4  unique.animals mpd.obs        1.263102e+00\n",
       "5  unique.plants  mpd.obs        2.318629e+00\n",
       "6  unique.env     mpd.obs        2.273695e+00\n",
       "7  unique.animals mpd.rand.mean  2.196251e+00\n",
       "8  unique.plants  mpd.rand.mean  2.192165e+00\n",
       "9  unique.env     mpd.rand.mean  2.191931e+00\n",
       "10 unique.animals mpd.rand.sd    1.912956e-01\n",
       "11 unique.plants  mpd.rand.sd    2.538858e-01\n",
       "12 unique.env     mpd.rand.sd    2.501692e-01\n",
       "13 unique.animals mpd.obs.rank   1.000000e+00\n",
       "14 unique.plants  mpd.obs.rank   6.840000e+02\n",
       "15 unique.env     mpd.obs.rank   6.220000e+02\n",
       "16 unique.animals mpd.obs.z     -4.878050e+00\n",
       "17 unique.plants  mpd.obs.z      4.981133e-01\n",
       "18 unique.env     mpd.obs.z      3.268325e-01\n",
       "19 unique.animals mpd.obs.p      9.990010e-04\n",
       "20 unique.plants  mpd.obs.p      6.833167e-01\n",
       "21 unique.env     mpd.obs.p      6.213786e-01\n",
       "22 unique.animals runs           1.000000e+03\n",
       "23 unique.plants  runs           1.000000e+03\n",
       "24 unique.env     runs           1.000000e+03"
      ]
     },
     "metadata": {},
     "output_type": "display_data"
    }
   ],
   "source": [
    "melted.mpd = melt(ses.mpd.result)\n",
    "melted.mpd"
   ]
  },
  {
   "cell_type": "code",
   "execution_count": 94,
   "id": "80302b46-2825-4b9f-b450-def5d51e1b6d",
   "metadata": {},
   "outputs": [],
   "source": [
    "obs.mpd =melted.mpd %>%\n",
    "    filter(variable%in%c(\"mpd.obs.z\",\"mpd.obs.p\"))"
   ]
  },
  {
   "cell_type": "code",
   "execution_count": 95,
   "id": "ee1a3848-e16e-4d7b-a2de-b10d8044e3de",
   "metadata": {},
   "outputs": [
    {
     "data": {
      "text/html": [
       "<table class=\"dataframe\">\n",
       "<caption>A data.frame: 6 × 3</caption>\n",
       "<thead>\n",
       "\t<tr><th scope=col>biome</th><th scope=col>variable</th><th scope=col>value</th></tr>\n",
       "\t<tr><th scope=col>&lt;chr&gt;</th><th scope=col>&lt;fct&gt;</th><th scope=col>&lt;dbl&gt;</th></tr>\n",
       "</thead>\n",
       "<tbody>\n",
       "\t<tr><td>unique.animals</td><td>mpd.obs.z</td><td>-4.878049734</td></tr>\n",
       "\t<tr><td>unique.plants </td><td>mpd.obs.z</td><td> 0.498113319</td></tr>\n",
       "\t<tr><td>unique.env    </td><td>mpd.obs.z</td><td> 0.326832508</td></tr>\n",
       "\t<tr><td>unique.animals</td><td>mpd.obs.p</td><td> 0.000999001</td></tr>\n",
       "\t<tr><td>unique.plants </td><td>mpd.obs.p</td><td> 0.683316683</td></tr>\n",
       "\t<tr><td>unique.env    </td><td>mpd.obs.p</td><td> 0.621378621</td></tr>\n",
       "</tbody>\n",
       "</table>\n"
      ],
      "text/latex": [
       "A data.frame: 6 × 3\n",
       "\\begin{tabular}{lll}\n",
       " biome & variable & value\\\\\n",
       " <chr> & <fct> & <dbl>\\\\\n",
       "\\hline\n",
       "\t unique.animals & mpd.obs.z & -4.878049734\\\\\n",
       "\t unique.plants  & mpd.obs.z &  0.498113319\\\\\n",
       "\t unique.env     & mpd.obs.z &  0.326832508\\\\\n",
       "\t unique.animals & mpd.obs.p &  0.000999001\\\\\n",
       "\t unique.plants  & mpd.obs.p &  0.683316683\\\\\n",
       "\t unique.env     & mpd.obs.p &  0.621378621\\\\\n",
       "\\end{tabular}\n"
      ],
      "text/markdown": [
       "\n",
       "A data.frame: 6 × 3\n",
       "\n",
       "| biome &lt;chr&gt; | variable &lt;fct&gt; | value &lt;dbl&gt; |\n",
       "|---|---|---|\n",
       "| unique.animals | mpd.obs.z | -4.878049734 |\n",
       "| unique.plants  | mpd.obs.z |  0.498113319 |\n",
       "| unique.env     | mpd.obs.z |  0.326832508 |\n",
       "| unique.animals | mpd.obs.p |  0.000999001 |\n",
       "| unique.plants  | mpd.obs.p |  0.683316683 |\n",
       "| unique.env     | mpd.obs.p |  0.621378621 |\n",
       "\n"
      ],
      "text/plain": [
       "  biome          variable  value       \n",
       "1 unique.animals mpd.obs.z -4.878049734\n",
       "2 unique.plants  mpd.obs.z  0.498113319\n",
       "3 unique.env     mpd.obs.z  0.326832508\n",
       "4 unique.animals mpd.obs.p  0.000999001\n",
       "5 unique.plants  mpd.obs.p  0.683316683\n",
       "6 unique.env     mpd.obs.p  0.621378621"
      ]
     },
     "metadata": {},
     "output_type": "display_data"
    }
   ],
   "source": [
    "obs.mpd"
   ]
  },
  {
   "cell_type": "code",
   "execution_count": 115,
   "id": "0e57b68a-4bff-4d28-abef-e6fb0ff86f7a",
   "metadata": {},
   "outputs": [
    {
     "data": {
      "image/png": "[encoded data removed]",
      "text/plain": [
       "plot without title"
      ]
     },
     "metadata": {
      "image/png": {
       "height": 600,
       "width": 900
      }
     },
     "output_type": "display_data"
    }
   ],
   "source": [
    "options(repr.plot.width=15,repr.plot.height=10)\n",
    "ggplot(data=df.comm.plot,aes(x=biome,y=value,fill=biome))+\n",
    "geom_bar(stat=\"identity\",position = \"dodge\",alpha=0.7)+\n",
    "facet_wrap(~variable,scales = \"free\",nrow=3)+\n",
    "scale_fill_npg()+\n",
    "theme_classic()+\n",
    "theme(axis.title.x = element_text(size=14),\n",
    "     axis.title.y = element_text(size=14),\n",
    "     axis.text = element_text(size=14),\n",
    "      axis.text.x = element_text(size=14,angle=45,hjust=1),\n",
    "     strip.text.x = element_text(size=14),\n",
    "     legend.position=\"none\",\n",
    "     plot.tag = element_text(size=20,face=\"bold\"))+\n",
    "     labs(tag=\"Biome-specific flagellins\")+\n",
    "  guides(fill = guide_legend(title = \"EnrichedIn\"))+\n",
    "  labs(tag = \"C\")"
   ]
  },
  {
   "cell_type": "markdown",
   "id": "2369f100-6dfc-4bfc-9b60-09e70f8edf3d",
   "metadata": {},
   "source": [
    "### Figures thesis"
   ]
  },
  {
   "cell_type": "code",
   "execution_count": 4,
   "id": "97db0f75-c7d3-45b6-b882-80565180fc4e",
   "metadata": {},
   "outputs": [
    {
     "name": "stderr",
     "output_type": "stream",
     "text": [
      "\u001b[1mRows: \u001b[22m\u001b[34m11\u001b[39m \u001b[1mColumns: \u001b[22m\u001b[34m2\u001b[39m\n",
      "\u001b[36m──\u001b[39m \u001b[1mColumn specification\u001b[22m \u001b[36m─────────────────────────────────────────────────────────────────────────────────────\u001b[39m\n",
      "\u001b[1mDelimiter:\u001b[22m \"\\t\"\n",
      "\u001b[31mchr\u001b[39m (2): biome, color\n",
      "\n",
      "\u001b[36mℹ\u001b[39m Use `spec()` to retrieve the full column specification for this data.\n",
      "\u001b[36mℹ\u001b[39m Specify the column types or set `show_col_types = FALSE` to quiet this message.\n"
     ]
    }
   ],
   "source": [
    "colors.biome = read_tsv(\"../../../FlagellinDiversity/Figures//colors.map.tsv\")"
   ]
  },
  {
   "cell_type": "code",
   "execution_count": 21,
   "id": "d4e18e22-5491-4d6e-9dcb-dec07b3a68f4",
   "metadata": {},
   "outputs": [],
   "source": [
    "colors.biome1 = colors.biome %>%\n",
    "        filter(biome%in%c(\"Environmental\",\"Plants\",\"Animal\"))%>%\n",
    "        mutate(biome=str_replace_all(biome,\"Environmental\",\"FL\"))"
   ]
  },
  {
   "cell_type": "code",
   "execution_count": 45,
   "id": "1445b8ad-8af5-4058-8f28-00e9257925c7",
   "metadata": {},
   "outputs": [],
   "source": [
    "df.comm.assemblyUnique = data.frame(biome = c(\"Animal\",\"Plants\",\"FL\"),\n",
    "                             MPD = c(1.263102,2.318629,2.273695),\n",
    "                             PD = c(9.031818,9.927756,11.261880),\n",
    "                             MNTD = c(0.6588721,1.1568969,1.3266314))"
   ]
  },
  {
   "cell_type": "code",
   "execution_count": 47,
   "id": "0dbb645d-1363-497c-8f7c-0377b5b63006",
   "metadata": {},
   "outputs": [
    {
     "name": "stderr",
     "output_type": "stream",
     "text": [
      "Using biome as id variables\n",
      "\n"
     ]
    }
   ],
   "source": [
    "df.comm.assemblyUnique = melt(df.comm.assemblyUnique)"
   ]
  },
  {
   "cell_type": "code",
   "execution_count": 50,
   "id": "e7b8d5ba-4cf3-4663-ad38-1aee23b0e78d",
   "metadata": {},
   "outputs": [],
   "source": [
    "df.comm.assemblyUnique$biome <- factor(df.comm.assemblyUnique$biome, levels = c(\"Animal\", \"Plants\", \"FL\"))"
   ]
  },
  {
   "cell_type": "code",
   "execution_count": 46,
   "id": "325dd39f-119e-49de-b9dd-e59d0d996314",
   "metadata": {},
   "outputs": [],
   "source": [
    "df.comm.assemblyComplete = data.frame(biome = c(\"Animal\",\"Plants\",\"FL\"),\n",
    "                             MPD = c(1.782301,2.235903,2.251793),\n",
    "                             PD = c(37.94618,48.29071,196.43300),\n",
    "                             MNTD = c(0.3751027,0.7542808,0.4986674))"
   ]
  },
  {
   "cell_type": "code",
   "execution_count": 48,
   "id": "42d4e05c-0446-4d8d-a077-749e2ca82ca9",
   "metadata": {},
   "outputs": [
    {
     "name": "stderr",
     "output_type": "stream",
     "text": [
      "Using biome as id variables\n",
      "\n"
     ]
    }
   ],
   "source": [
    "df.comm.assemblyComplete = melt(df.comm.assemblyComplete)"
   ]
  },
  {
   "cell_type": "code",
   "execution_count": 49,
   "id": "c6f1b190-41b0-4da2-b501-8a5f73d47c39",
   "metadata": {},
   "outputs": [],
   "source": [
    "df.comm.assemblyComplete$biome <- factor(df.comm.assemblyComplete$biome, levels = c(\"Animal\", \"Plants\", \"FL\"))"
   ]
  },
  {
   "cell_type": "code",
   "execution_count": 75,
   "id": "42b6eb7e-1f23-4fba-a768-74f1bf4b1328",
   "metadata": {},
   "outputs": [],
   "source": [
    "options(repr.plot.width=8,repr.plot.height=5)\n",
    "fig14.a = ggplot(data=df.comm.assemblyComplete,aes(x=biome,y=value,fill=biome))+\n",
    "geom_bar(stat=\"identity\",position = \"dodge\",alpha=0.7)+\n",
    "facet_wrap(~variable,scales = \"free\")+\n",
    "scale_fill_manual(values = colors.biome1$color,\n",
    "                 limits = colors.biome1$biome)+\n",
    "theme_classic()+\n",
    "theme(axis.title.x = element_blank(),\n",
    "     axis.title.y = element_text(size=18),\n",
    "     axis.text = element_text(size=14),\n",
    "      axis.text.x = element_text(size=14),#,angle=45,hjust=1),\n",
    "     strip.text.x = element_text(size=20,face=\"bold\"),\n",
    "     legend.position=\"none\",\n",
    "     plot.tag = element_text(size=20,face=\"bold\"),\n",
    "     plot.title = element_text(face=\"bold\",size=20))+\n",
    "  labs(tag = \"A\")+\n",
    "ggtitle(\"Complete set\")+\n",
    "ylab(\"Phylogenetic distance\")"
   ]
  },
  {
   "cell_type": "code",
   "execution_count": null,
   "id": "443d7a1f-df45-436f-af50-edff4be401d5",
   "metadata": {},
   "outputs": [],
   "source": []
  },
  {
   "cell_type": "code",
   "execution_count": 78,
   "id": "83d493fc-b709-4251-b355-94635ed6f4e9",
   "metadata": {},
   "outputs": [],
   "source": [
    "options(repr.plot.width=8,repr.plot.height=5)\n",
    "fig14.b = ggplot(data=df.comm.assemblyUnique,aes(x=biome,y=value,fill=biome))+\n",
    "geom_bar(stat=\"identity\",position = \"dodge\",alpha=0.7)+\n",
    "facet_wrap(~variable,scales = \"free\")+\n",
    "scale_fill_manual(values = colors.biome1$color,\n",
    "                 limits = colors.biome1$biome)+\n",
    "theme_classic()+\n",
    "theme(axis.title.x = element_text(size=18),\n",
    "     axis.title.y = element_text(size=18),\n",
    "     axis.text = element_text(size=14),\n",
    "      axis.text.x = element_text(size=14),#,angle=45,hjust=1),\n",
    "     strip.text.x = element_text(size=20,face=\"bold\"),\n",
    "     legend.position=\"none\",\n",
    "     plot.tag = element_text(size=20,face=\"bold\"),\n",
    "     plot.title = element_text(face=\"bold\",size=20))+\n",
    "  labs(tag = \"B\")+\n",
    "xlab(\"Biome\")+\n",
    "ggtitle(\"Biome-specific set\")+\n",
    "ylab(\"Phylogenetic distance\")"
   ]
  },
  {
   "cell_type": "code",
   "execution_count": 79,
   "id": "8be6dcd2-5ed9-42ec-afcb-4d6a3176f84c",
   "metadata": {},
   "outputs": [],
   "source": [
    "lay.m <- rbind(c(1,1),\n",
    "               c(2,2))\n",
    "grobs.plots.m = list(fig14.a,fig14.b)"
   ]
  },
  {
   "cell_type": "code",
   "execution_count": 68,
   "id": "a2e827ea-a3e1-4cb6-808c-2440644afd03",
   "metadata": {},
   "outputs": [],
   "source": [
    "figures_path = \"/ebio/abt3_projects2/Flagellin_Diversity/code/notebooks/FlagellinDiversity/Figures\""
   ]
  },
  {
   "cell_type": "code",
   "execution_count": 80,
   "id": "39d74c37-19b0-4535-b37f-aaf8e3e8f536",
   "metadata": {},
   "outputs": [
    {
     "data": {
      "text/html": [
       "<strong>png:</strong> 2"
      ],
      "text/latex": [
       "\\textbf{png:} 2"
      ],
      "text/markdown": [
       "**png:** 2"
      ],
      "text/plain": [
       "png \n",
       "  2 "
      ]
     },
     "metadata": {},
     "output_type": "display_data"
    }
   ],
   "source": [
    "#file(\"/ebio/abt3_projects2/Flagellin_Diversity/code/notebooks/FlagellinDiversity/Figures/Figure1.pdf\")\n",
    "pdf(file.path(figures_path,\"Figure14.pdf\"), width = 14, height = 14)\n",
    "grid.arrange(grobs = grobs.plots.m , layout_matrix = lay.m )\n",
    "dev.off()"
   ]
  },
  {
   "cell_type": "code",
   "execution_count": 81,
   "id": "7468b257-6ebc-433c-b324-b68cbf7b1f1a",
   "metadata": {},
   "outputs": [
    {
     "data": {
      "text/html": [
       "<strong>png:</strong> 2"
      ],
      "text/latex": [
       "\\textbf{png:} 2"
      ],
      "text/markdown": [
       "**png:** 2"
      ],
      "text/plain": [
       "png \n",
       "  2 "
      ]
     },
     "metadata": {},
     "output_type": "display_data"
    }
   ],
   "source": [
    "#file(\"/ebio/abt3_projects2/Flagellin_Diversity/code/notebooks/FlagellinDiversity/Figures/Figure1.pdf\")\n",
    "png(file.path(figures_path,\"Figure14.png\"), width = 600, height = 600)\n",
    "grid.arrange(grobs = grobs.plots.m , layout_matrix = lay.m )\n",
    "dev.off()"
   ]
  }
 ],
 "metadata": {
  "kernelspec": {
   "display_name": "R4.2.1 (py3_fla_2022)",
   "language": "R",
   "name": "py3_fla_2022-r"
  },
  "language_info": {
   "codemirror_mode": "r",
   "file_extension": ".r",
   "mimetype": "text/x-r-source",
   "name": "R",
   "pygments_lexer": "r",
   "version": "4.2.3"
  }
 },
 "nbformat": 4,
 "nbformat_minor": 5
}
