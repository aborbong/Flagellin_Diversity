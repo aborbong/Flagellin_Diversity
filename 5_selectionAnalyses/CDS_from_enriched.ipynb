{
 "cells": [
  {
   "cell_type": "markdown",
   "id": "affd0dfa-af88-46f8-8395-3e5a35bda89c",
   "metadata": {},
   "source": [
    "# CDS of enriched flagellins across biomes"
   ]
  },
  {
   "cell_type": "markdown",
   "id": "9d4fc120-a95c-4464-9ae0-143a5c7c3d2b",
   "metadata": {},
   "source": [
    "This notebook will focus on phylogenetic analyses with differentially abundant (DA) flagellins previously identified between host-associated and free-living environments"
   ]
  },
  {
   "cell_type": "markdown",
   "id": "7a727c67-fc95-4c7d-9e3e-db668e5a3d05",
   "metadata": {},
   "source": [
    "### Set-up"
   ]
  },
  {
   "cell_type": "code",
   "execution_count": 2,
   "id": "7827a276-3694-4c95-90ae-bd9b225e195e",
   "metadata": {
    "tags": []
   },
   "outputs": [
    {
     "name": "stderr",
     "output_type": "stream",
     "text": [
      "── \u001b[1mAttaching core tidyverse packages\u001b[22m ──────────────────────────────────────────────────────────────────────────────────────────────────────────────── tidyverse 2.0.0 ──\n",
      "\u001b[32m✔\u001b[39m \u001b[34mdplyr    \u001b[39m 1.0.9     \u001b[32m✔\u001b[39m \u001b[34mreadr    \u001b[39m 2.1.4\n",
      "\u001b[32m✔\u001b[39m \u001b[34mforcats  \u001b[39m 1.0.0     \u001b[32m✔\u001b[39m \u001b[34mstringr  \u001b[39m 1.4.1\n",
      "\u001b[32m✔\u001b[39m \u001b[34mggplot2  \u001b[39m 3.3.6     \u001b[32m✔\u001b[39m \u001b[34mtibble   \u001b[39m 3.2.1\n",
      "\u001b[32m✔\u001b[39m \u001b[34mlubridate\u001b[39m 1.8.0     \u001b[32m✔\u001b[39m \u001b[34mtidyr    \u001b[39m 1.2.1\n",
      "\u001b[32m✔\u001b[39m \u001b[34mpurrr    \u001b[39m 0.3.5     \n",
      "── \u001b[1mConflicts\u001b[22m ────────────────────────────────────────────────────────────────────────────────────────────────────────────────────────────────── tidyverse_conflicts() ──\n",
      "\u001b[31m✖\u001b[39m \u001b[34mdplyr\u001b[39m::\u001b[32mfilter()\u001b[39m masks \u001b[34mstats\u001b[39m::filter()\n",
      "\u001b[31m✖\u001b[39m \u001b[34mdplyr\u001b[39m::\u001b[32mlag()\u001b[39m    masks \u001b[34mstats\u001b[39m::lag()\n",
      "\u001b[36mℹ\u001b[39m Use the conflicted package (\u001b[3m\u001b[34m<http://conflicted.r-lib.org/>\u001b[39m\u001b[23m) to force all conflicts to become errors\n",
      "Loading required package: viridisLite\n",
      "\n",
      "Loading required package: permute\n",
      "\n",
      "Loading required package: lattice\n",
      "\n",
      "This is vegan 2.6-4\n",
      "\n",
      "Loading required package: maps\n",
      "\n",
      "\n",
      "Attaching package: ‘maps’\n",
      "\n",
      "\n",
      "The following object is masked from ‘package:viridis’:\n",
      "\n",
      "    unemp\n",
      "\n",
      "\n",
      "The following object is masked from ‘package:purrr’:\n",
      "\n",
      "    map\n",
      "\n",
      "\n"
     ]
    }
   ],
   "source": [
    "library(tidyverse)\n",
    "library(dplyr)\n",
    "library(readr)\n",
    "library(stringr)\n",
    "library(ggplot2)\n",
    "library(ggsci)\n",
    "library(viridis)\n",
    "library(conflicted)\n",
    "library(gridExtra)\n",
    "library(vegan)\n",
    "library(ape)\n",
    "library(lattice)\n",
    "library(permute)\n",
    "library(grid) \n",
    "library(seqinr)\n",
    "library(\"phytools\")\n",
    "library(rentrez)"
   ]
  },
  {
   "cell_type": "code",
   "execution_count": 3,
   "id": "016c4fe9-dffd-49ef-a78e-ce110b64a767",
   "metadata": {},
   "outputs": [
    {
     "data": {
      "text/html": [
       "'/ebio/abt3_projects2/Flagellin_Diversity/code/notebooks/shortbred/edgeR/subsampled_opt1/cds'"
      ],
      "text/latex": [
       "'/ebio/abt3\\_projects2/Flagellin\\_Diversity/code/notebooks/shortbred/edgeR/subsampled\\_opt1/cds'"
      ],
      "text/markdown": [
       "'/ebio/abt3_projects2/Flagellin_Diversity/code/notebooks/shortbred/edgeR/subsampled_opt1/cds'"
      ],
      "text/plain": [
       "[1] \"/ebio/abt3_projects2/Flagellin_Diversity/code/notebooks/shortbred/edgeR/subsampled_opt1/cds\""
      ]
     },
     "metadata": {},
     "output_type": "display_data"
    }
   ],
   "source": [
    "getwd()"
   ]
  },
  {
   "cell_type": "code",
   "execution_count": 5,
   "id": "e994d3b3-f0a2-4a8e-a374-e64f4814d0a2",
   "metadata": {
    "tags": []
   },
   "outputs": [
    {
     "name": "stderr",
     "output_type": "stream",
     "text": [
      "\u001b[1m\u001b[22m\u001b[90m[conflicted]\u001b[39m Will prefer \u001b[1m\u001b[34mdplyr\u001b[39m\u001b[22m::filter over any other package.\n",
      "\u001b[1m\u001b[22m\u001b[90m[conflicted]\u001b[39m Will prefer \u001b[1m\u001b[34mdplyr\u001b[39m\u001b[22m::rename over any other package.\n",
      "\u001b[1m\u001b[22m\u001b[90m[conflicted]\u001b[39m Will prefer \u001b[1m\u001b[34mdplyr\u001b[39m\u001b[22m::mutate over any other package.\n",
      "\u001b[1m\u001b[22m\u001b[90m[conflicted]\u001b[39m Will prefer \u001b[1m\u001b[34mdplyr\u001b[39m\u001b[22m::count over any other package.\n",
      "\u001b[1m\u001b[22m\u001b[90m[conflicted]\u001b[39m Will prefer \u001b[1m\u001b[34mseqinr\u001b[39m\u001b[22m::read.fasta over any other package.\n"
     ]
    }
   ],
   "source": [
    "conflict_prefer(\"filter\",\"dplyr\")\n",
    "conflict_prefer(\"rename\",\"dplyr\")\n",
    "conflict_prefer(\"mutate\",\"dplyr\")\n",
    "conflict_prefer(\"count\",\"dplyr\")\n",
    "conflict_prefer(\"read.fasta\",\"seqinr\")"
   ]
  },
  {
   "cell_type": "code",
   "execution_count": 191,
   "id": "f39ca9d1-1bc6-437c-b6d2-3269ddbf7827",
   "metadata": {},
   "outputs": [],
   "source": [
    "#Import miscellaneous functions for plots and edger\n",
    "source(\"/ebio/abt3_projects2/Flagellin_Diversity/code/notebooks/FlagellinDiversity/plots_functions.r\")"
   ]
  },
  {
   "cell_type": "markdown",
   "id": "98ba9594-71fd-41c4-9e7d-20e7ef1c49af",
   "metadata": {},
   "source": [
    "# Get protein-matching CDS (coding sequences): Batch Entrez"
   ]
  },
  {
   "cell_type": "markdown",
   "id": "14d5a202-4313-44e1-aa2b-2d64b3a9cac6",
   "metadata": {},
   "source": [
    "bash code for batch entrez"
   ]
  },
  {
   "cell_type": "raw",
   "id": "a63e0226-d563-499f-a714-613d37994541",
   "metadata": {},
   "source": [
    "echo \"\n",
    "fileAcc=DA.animals.accn.tsv #each line corresponds to one flagellin accession \n",
    "cat $fileAcc | while read -r line; do\n",
    "echo \"esearch -db protein -query $line | efetch -db protein -format fasta_cds_na >> ${fileAcc%.accn.tsv}.cds.fasta | sleep 3\"; done > runGetcds.sh\n",
    "\" >> get.cds.animals.sh"
   ]
  },
  {
   "cell_type": "raw",
   "id": "24742aad-9e9d-467f-92bc-e855573eb1b5",
   "metadata": {},
   "source": [
    "chmod u+x get.cds.animals.sh"
   ]
  },
  {
   "cell_type": "raw",
   "id": "5f4be136-425f-467c-9464-9a0e0d74321e",
   "metadata": {},
   "source": [
    "chmod u+x \n",
    "runGetcds_animals.sh"
   ]
  },
  {
   "cell_type": "raw",
   "id": "a4e426cc-1228-4306-91f3-945f616cc655",
   "metadata": {},
   "source": [
    "Batch entrez using the list of accessions for each category. Unfortunately, batch entrez didn't retrieve all CDS. I need to check what are the missing proteins and manually obtain their CDSs."
   ]
  },
  {
   "cell_type": "markdown",
   "id": "3ec9b801-00d4-4ec5-a578-377861d04d36",
   "metadata": {
    "tags": []
   },
   "source": [
    "### Import list of DA flagellins in each biome"
   ]
  },
  {
   "cell_type": "code",
   "execution_count": 8,
   "id": "7eaea96c-198c-45d7-9631-f1e9f6cfeb66",
   "metadata": {},
   "outputs": [
    {
     "data": {
      "text/html": [
       "'/ebio/abt3_projects2/Flagellin_Diversity/code/notebooks/shortbred/edgeR/subsampled_opt1/cds'"
      ],
      "text/latex": [
       "'/ebio/abt3\\_projects2/Flagellin\\_Diversity/code/notebooks/shortbred/edgeR/subsampled\\_opt1/cds'"
      ],
      "text/markdown": [
       "'/ebio/abt3_projects2/Flagellin_Diversity/code/notebooks/shortbred/edgeR/subsampled_opt1/cds'"
      ],
      "text/plain": [
       "[1] \"/ebio/abt3_projects2/Flagellin_Diversity/code/notebooks/shortbred/edgeR/subsampled_opt1/cds\""
      ]
     },
     "metadata": {},
     "output_type": "display_data"
    }
   ],
   "source": [
    "getwd()"
   ]
  },
  {
   "cell_type": "code",
   "execution_count": 6,
   "id": "70d79220-d548-4022-8461-31a94d18dcb5",
   "metadata": {
    "collapsed": true,
    "jupyter": {
     "outputs_hidden": true
    },
    "tags": []
   },
   "outputs": [
    {
     "name": "stderr",
     "output_type": "stream",
     "text": [
      "\u001b[1mRows: \u001b[22m\u001b[34m121\u001b[39m \u001b[1mColumns: \u001b[22m\u001b[34m13\u001b[39m\n",
      "\u001b[36m──\u001b[39m \u001b[1mColumn specification\u001b[22m \u001b[36m────────────────────────────────────────────────────────────────────────────────────────────────────────────────────────────────────────────────\u001b[39m\n",
      "\u001b[1mDelimiter:\u001b[22m \"\\t\"\n",
      "\u001b[31mchr\u001b[39m (9): Accession, Domain, Phylum, Class, Order, Family, Genus, Species, En...\n",
      "\u001b[32mdbl\u001b[39m (4): logFC, logCPM, PValue, FDR\n",
      "\n",
      "\u001b[36mℹ\u001b[39m Use `spec()` to retrieve the full column specification for this data.\n",
      "\u001b[36mℹ\u001b[39m Specify the column types or set `show_col_types = FALSE` to quiet this message.\n",
      "\u001b[1mRows: \u001b[22m\u001b[34m82\u001b[39m \u001b[1mColumns: \u001b[22m\u001b[34m13\u001b[39m\n",
      "\u001b[36m──\u001b[39m \u001b[1mColumn specification\u001b[22m \u001b[36m────────────────────────────────────────────────────────────────────────────────────────────────────────────────────────────────────────────────\u001b[39m\n",
      "\u001b[1mDelimiter:\u001b[22m \"\\t\"\n",
      "\u001b[31mchr\u001b[39m (9): Accession, Domain, Phylum, Class, Order, Family, Genus, Species, En...\n",
      "\u001b[32mdbl\u001b[39m (4): logFC, logCPM, PValue, FDR\n",
      "\n",
      "\u001b[36mℹ\u001b[39m Use `spec()` to retrieve the full column specification for this data.\n",
      "\u001b[36mℹ\u001b[39m Specify the column types or set `show_col_types = FALSE` to quiet this message.\n",
      "\u001b[1mRows: \u001b[22m\u001b[34m513\u001b[39m \u001b[1mColumns: \u001b[22m\u001b[34m13\u001b[39m\n",
      "\u001b[36m──\u001b[39m \u001b[1mColumn specification\u001b[22m \u001b[36m────────────────────────────────────────────────────────────────────────────────────────────────────────────────────────────────────────────────\u001b[39m\n",
      "\u001b[1mDelimiter:\u001b[22m \"\\t\"\n",
      "\u001b[31mchr\u001b[39m (9): Accession, Domain, Phylum, Class, Order, Family, Genus, Species, En...\n",
      "\u001b[32mdbl\u001b[39m (4): logFC, logCPM, PValue, FDR\n",
      "\n",
      "\u001b[36mℹ\u001b[39m Use `spec()` to retrieve the full column specification for this data.\n",
      "\u001b[36mℹ\u001b[39m Specify the column types or set `show_col_types = FALSE` to quiet this message.\n",
      "\u001b[1mRows: \u001b[22m\u001b[34m110\u001b[39m \u001b[1mColumns: \u001b[22m\u001b[34m13\u001b[39m\n",
      "\u001b[36m──\u001b[39m \u001b[1mColumn specification\u001b[22m \u001b[36m────────────────────────────────────────────────────────────────────────────────────────────────────────────────────────────────────────────────\u001b[39m\n",
      "\u001b[1mDelimiter:\u001b[22m \"\\t\"\n",
      "\u001b[31mchr\u001b[39m (9): Accession, Domain, Phylum, Class, Order, Family, Genus, Species, En...\n",
      "\u001b[32mdbl\u001b[39m (4): logFC, logCPM, PValue, FDR\n",
      "\n",
      "\u001b[36mℹ\u001b[39m Use `spec()` to retrieve the full column specification for this data.\n",
      "\u001b[36mℹ\u001b[39m Specify the column types or set `show_col_types = FALSE` to quiet this message.\n"
     ]
    }
   ],
   "source": [
    "DA.animals=read_tsv(\"DA.animals.tsv\",col_names=T)\n",
    "DA.plants=read_tsv(\"DA.plants.tsv\",col_names=T)\n",
    "DA.env=read_tsv(\"DA.env.tsv\",col_names=T)\n",
    "DA.host=read_tsv(\"DA.host.tsv\",col_names=T)"
   ]
  },
  {
   "cell_type": "code",
   "execution_count": 7,
   "id": "b44b927e-3bd2-4bf0-931f-95427ec395a0",
   "metadata": {},
   "outputs": [],
   "source": [
    "DA.all.biomes = rbind(DA.animals,DA.plants,DA.env,DA.host)"
   ]
  },
  {
   "cell_type": "markdown",
   "id": "78d23dd7-4972-46f3-bbf3-a2fbfd2aabcb",
   "metadata": {},
   "source": [
    "### Import cds fasta files"
   ]
  },
  {
   "cell_type": "code",
   "execution_count": 4,
   "id": "b43e5532-4bc0-445c-9484-d1abf4d06088",
   "metadata": {},
   "outputs": [],
   "source": [
    "#Import fasta files with cds obtained with Batch entrez\n",
    "cds.animals = read.fasta(file = \"cds_animals.fna\")\n",
    "cds.plants = read.fasta(file = \"cds_plants.fna\")\n",
    "cds.env = read.fasta(file=\"cds_env.fna\")\n",
    "cds.host = read.fasta(file=\"cds_host.fna\")"
   ]
  },
  {
   "cell_type": "code",
   "execution_count": 8,
   "id": "e6d5f760-c15e-44a1-a0ff-e0cb90667a35",
   "metadata": {},
   "outputs": [
    {
     "data": {
      "text/html": [
       "<table class=\"dataframe\">\n",
       "<caption>A tibble: 4 × 2</caption>\n",
       "<thead>\n",
       "\t<tr><th scope=col>enriched_in</th><th scope=col>No.DAs</th></tr>\n",
       "\t<tr><th scope=col>&lt;chr&gt;</th><th scope=col>&lt;int&gt;</th></tr>\n",
       "</thead>\n",
       "<tbody>\n",
       "\t<tr><td>Animals      </td><td>121</td></tr>\n",
       "\t<tr><td>Plants       </td><td> 82</td></tr>\n",
       "\t<tr><td>Environmental</td><td>513</td></tr>\n",
       "\t<tr><td>Host         </td><td>110</td></tr>\n",
       "</tbody>\n",
       "</table>\n"
      ],
      "text/latex": [
       "A tibble: 4 × 2\n",
       "\\begin{tabular}{ll}\n",
       " enriched\\_in & No.DAs\\\\\n",
       " <chr> & <int>\\\\\n",
       "\\hline\n",
       "\t Animals       & 121\\\\\n",
       "\t Plants        &  82\\\\\n",
       "\t Environmental & 513\\\\\n",
       "\t Host          & 110\\\\\n",
       "\\end{tabular}\n"
      ],
      "text/markdown": [
       "\n",
       "A tibble: 4 × 2\n",
       "\n",
       "| enriched_in &lt;chr&gt; | No.DAs &lt;int&gt; |\n",
       "|---|---|\n",
       "| Animals       | 121 |\n",
       "| Plants        |  82 |\n",
       "| Environmental | 513 |\n",
       "| Host          | 110 |\n",
       "\n"
      ],
      "text/plain": [
       "  enriched_in   No.DAs\n",
       "1 Animals       121   \n",
       "2 Plants         82   \n",
       "3 Environmental 513   \n",
       "4 Host          110   "
      ]
     },
     "metadata": {},
     "output_type": "display_data"
    }
   ],
   "source": [
    "cds.table = bind_cols(enriched_in=c(\"Animals\",\"Plants\",\"Environmental\",\"Host\"),\n",
    "                     No.DAs=c(nrow(DA.animals),\n",
    "                              nrow(DA.plants),\n",
    "                              nrow(DA.env),\n",
    "                              nrow(DA.host)))\n",
    "\n",
    "cds.table"
   ]
  },
  {
   "cell_type": "code",
   "execution_count": 22,
   "id": "6e2273ed-3aeb-4cca-917d-19d892c0c680",
   "metadata": {},
   "outputs": [
    {
     "data": {
      "text/html": [
       "94"
      ],
      "text/latex": [
       "94"
      ],
      "text/markdown": [
       "94"
      ],
      "text/plain": [
       "[1] 94"
      ]
     },
     "metadata": {},
     "output_type": "display_data"
    },
    {
     "data": {
      "text/html": [
       "11"
      ],
      "text/latex": [
       "11"
      ],
      "text/markdown": [
       "11"
      ],
      "text/plain": [
       "[1] 11"
      ]
     },
     "metadata": {},
     "output_type": "display_data"
    }
   ],
   "source": [
    "length(intersect(DA.animals$Accession,DA.host$Accession))\n",
    "length(intersect(DA.plants$Accession,DA.host$Accession))"
   ]
  },
  {
   "cell_type": "code",
   "execution_count": 9,
   "id": "9f2c466e-7d92-4148-ae41-cba1d8262dc8",
   "metadata": {},
   "outputs": [],
   "source": [
    "files.list=list.files(path=\"/ebio/abt3_projects2/Flagellin_Diversity/code/notebooks/shortbred/edgeR/subsampled_opt1/cds\",pattern=\"*.fna\")\n",
    "#df_list <- lapply(files.list,read.fasta)"
   ]
  },
  {
   "cell_type": "markdown",
   "id": "9fc17845-aa8f-4015-a786-b11a3bd13992",
   "metadata": {},
   "source": [
    "#### Functions to get sequence names and obtain their protein accession from header"
   ]
  },
  {
   "cell_type": "code",
   "execution_count": 35,
   "id": "dfa37b51-bfe0-40c4-a8da-4a96189a595d",
   "metadata": {
    "tags": []
   },
   "outputs": [
    {
     "name": "stderr",
     "output_type": "stream",
     "text": [
      "Warning message:\n",
      "“Expected 3 pieces. Additional pieces discarded in 87 rows [1, 2, 3, 4, 5, 6, 7, 8, 9, 10, 11, 12, 13, 14, 15, 16, 17, 18, 19, 20, ...].”\n",
      "Warning message:\n",
      "“Expected 3 pieces. Additional pieces discarded in 52 rows [1, 2, 3, 4, 5, 6, 7, 8, 9, 10, 11, 12, 13, 14, 15, 16, 17, 18, 19, 20, ...].”\n",
      "Warning message:\n",
      "“Expected 3 pieces. Additional pieces discarded in 317 rows [1, 2, 3, 4, 5, 6, 7, 8, 9, 10, 11, 12, 13, 14, 15, 16, 17, 18, 19, 20, ...].”\n",
      "Warning message:\n",
      "“Expected 3 pieces. Additional pieces discarded in 81 rows [1, 2, 3, 4, 5, 6, 7, 8, 9, 10, 11, 12, 13, 14, 15, 16, 17, 18, 19, 20, ...].”\n"
     ]
    }
   ],
   "source": [
    "seqNames.animals = getSeqNames(cds.animals)\n",
    "seqNames.plants = getSeqNames(cds.plants)\n",
    "seqNames.env = getSeqNames(cds.env)\n",
    "seqNames.host = getSeqNames(cds.host)"
   ]
  },
  {
   "cell_type": "code",
   "execution_count": 36,
   "id": "cf1e80e5-b7ad-4723-a72e-d77b8e59748d",
   "metadata": {},
   "outputs": [
    {
     "data": {
      "text/html": [
       "<table class=\"dataframe\">\n",
       "<caption>A tibble: 6 × 4</caption>\n",
       "<thead>\n",
       "\t<tr><th scope=col>seqName</th><th scope=col>cds_name</th><th scope=col>type</th><th scope=col>Accession</th></tr>\n",
       "\t<tr><th scope=col>&lt;chr&gt;</th><th scope=col>&lt;chr&gt;</th><th scope=col>&lt;chr&gt;</th><th scope=col>&lt;chr&gt;</th></tr>\n",
       "</thead>\n",
       "<tbody>\n",
       "\t<tr><td>lcl|CU234118.1_cds_CAL78604.1_1    </td><td>lcl|CU234118.1    </td><td>cds</td><td>CAL78604.1</td></tr>\n",
       "\t<tr><td>lcl|CP001074.1_cds_ACE89738.1_1    </td><td>lcl|CP001074.1    </td><td>cds</td><td>ACE89738.1</td></tr>\n",
       "\t<tr><td>lcl|CP001074.1_cds_ACE93333.1_1    </td><td>lcl|CP001074.1    </td><td>cds</td><td>ACE93333.1</td></tr>\n",
       "\t<tr><td>lcl|ACKW01000055.1_cds_EEJ52905.1_1</td><td>lcl|ACKW01000055.1</td><td>cds</td><td>EEJ52905.1</td></tr>\n",
       "\t<tr><td>lcl|GU071047.1_cds_ACY40759.1_1    </td><td>lcl|GU071047.1    </td><td>cds</td><td>ACY40759.1</td></tr>\n",
       "\t<tr><td>lcl|HE617161.1_cds_CCF11937.1_1    </td><td>lcl|HE617161.1    </td><td>cds</td><td>CCF11937.1</td></tr>\n",
       "</tbody>\n",
       "</table>\n"
      ],
      "text/latex": [
       "A tibble: 6 × 4\n",
       "\\begin{tabular}{llll}\n",
       " seqName & cds\\_name & type & Accession\\\\\n",
       " <chr> & <chr> & <chr> & <chr>\\\\\n",
       "\\hline\n",
       "\t lcl\\textbar{}CU234118.1\\_cds\\_CAL78604.1\\_1     & lcl\\textbar{}CU234118.1     & cds & CAL78604.1\\\\\n",
       "\t lcl\\textbar{}CP001074.1\\_cds\\_ACE89738.1\\_1     & lcl\\textbar{}CP001074.1     & cds & ACE89738.1\\\\\n",
       "\t lcl\\textbar{}CP001074.1\\_cds\\_ACE93333.1\\_1     & lcl\\textbar{}CP001074.1     & cds & ACE93333.1\\\\\n",
       "\t lcl\\textbar{}ACKW01000055.1\\_cds\\_EEJ52905.1\\_1 & lcl\\textbar{}ACKW01000055.1 & cds & EEJ52905.1\\\\\n",
       "\t lcl\\textbar{}GU071047.1\\_cds\\_ACY40759.1\\_1     & lcl\\textbar{}GU071047.1     & cds & ACY40759.1\\\\\n",
       "\t lcl\\textbar{}HE617161.1\\_cds\\_CCF11937.1\\_1     & lcl\\textbar{}HE617161.1     & cds & CCF11937.1\\\\\n",
       "\\end{tabular}\n"
      ],
      "text/markdown": [
       "\n",
       "A tibble: 6 × 4\n",
       "\n",
       "| seqName &lt;chr&gt; | cds_name &lt;chr&gt; | type &lt;chr&gt; | Accession &lt;chr&gt; |\n",
       "|---|---|---|---|\n",
       "| lcl|CU234118.1_cds_CAL78604.1_1     | lcl|CU234118.1     | cds | CAL78604.1 |\n",
       "| lcl|CP001074.1_cds_ACE89738.1_1     | lcl|CP001074.1     | cds | ACE89738.1 |\n",
       "| lcl|CP001074.1_cds_ACE93333.1_1     | lcl|CP001074.1     | cds | ACE93333.1 |\n",
       "| lcl|ACKW01000055.1_cds_EEJ52905.1_1 | lcl|ACKW01000055.1 | cds | EEJ52905.1 |\n",
       "| lcl|GU071047.1_cds_ACY40759.1_1     | lcl|GU071047.1     | cds | ACY40759.1 |\n",
       "| lcl|HE617161.1_cds_CCF11937.1_1     | lcl|HE617161.1     | cds | CCF11937.1 |\n",
       "\n"
      ],
      "text/plain": [
       "  seqName                             cds_name           type Accession \n",
       "1 lcl|CU234118.1_cds_CAL78604.1_1     lcl|CU234118.1     cds  CAL78604.1\n",
       "2 lcl|CP001074.1_cds_ACE89738.1_1     lcl|CP001074.1     cds  ACE89738.1\n",
       "3 lcl|CP001074.1_cds_ACE93333.1_1     lcl|CP001074.1     cds  ACE93333.1\n",
       "4 lcl|ACKW01000055.1_cds_EEJ52905.1_1 lcl|ACKW01000055.1 cds  EEJ52905.1\n",
       "5 lcl|GU071047.1_cds_ACY40759.1_1     lcl|GU071047.1     cds  ACY40759.1\n",
       "6 lcl|HE617161.1_cds_CCF11937.1_1     lcl|HE617161.1     cds  CCF11937.1"
      ]
     },
     "metadata": {},
     "output_type": "display_data"
    }
   ],
   "source": [
    "head(seqNames.plants)"
   ]
  },
  {
   "cell_type": "markdown",
   "id": "7c8233cb-591d-4b16-925e-04541b3f6ed0",
   "metadata": {},
   "source": [
    "#### Find remaining sequences without corresponding CDS. Write the lists"
   ]
  },
  {
   "cell_type": "code",
   "execution_count": 37,
   "id": "06159493-ffcd-4f33-baef-9615b4f32820",
   "metadata": {},
   "outputs": [],
   "source": [
    "remaining.cds.animals = anti_join(DA.animals,seqNames.animals,by=\"Accession\")\n",
    "remaining.cds.plants = anti_join(DA.plants,seqNames.plants,by=\"Accession\")\n",
    "remaining.cds.env = anti_join(DA.env,seqNames.env,by=\"Accession\")\n",
    "remaining.cds.host =anti_join(DA.host,seqNames.host,by=\"Accession\")"
   ]
  },
  {
   "cell_type": "code",
   "execution_count": 38,
   "id": "3e2281bc-8e5c-4fa7-a880-5d346594f201",
   "metadata": {},
   "outputs": [],
   "source": [
    "#Write remaining\n",
    "write_tsv(remaining.cds.animals,\"rem.cds.animals.tsv\")\n",
    "write_tsv(remaining.cds.plants,\"rem.cds.plants.tsv\")\n",
    "write_tsv(remaining.cds.env,\"rem.cds.env.tsv\")\n",
    "write_tsv(remaining.cds.host,\"rem.cds.host.tsv\")"
   ]
  },
  {
   "cell_type": "markdown",
   "id": "66aaa733-4631-4fd6-bb47-bc915f131e22",
   "metadata": {},
   "source": [
    "#### List remaining cds for each dataset"
   ]
  },
  {
   "cell_type": "code",
   "execution_count": 39,
   "id": "bc00ed0a-6427-43fb-90a0-3eb81ae16b95",
   "metadata": {},
   "outputs": [
    {
     "data": {
      "text/html": [
       "<table class=\"dataframe\">\n",
       "<caption>A tibble: 4 × 2</caption>\n",
       "<thead>\n",
       "\t<tr><th scope=col>enriched_in</th><th scope=col>No.DAs</th></tr>\n",
       "\t<tr><th scope=col>&lt;chr&gt;</th><th scope=col>&lt;int&gt;</th></tr>\n",
       "</thead>\n",
       "<tbody>\n",
       "\t<tr><td>Animals      </td><td> 34</td></tr>\n",
       "\t<tr><td>Plants       </td><td> 30</td></tr>\n",
       "\t<tr><td>Environmental</td><td>196</td></tr>\n",
       "\t<tr><td>Host         </td><td> 29</td></tr>\n",
       "</tbody>\n",
       "</table>\n"
      ],
      "text/latex": [
       "A tibble: 4 × 2\n",
       "\\begin{tabular}{ll}\n",
       " enriched\\_in & No.DAs\\\\\n",
       " <chr> & <int>\\\\\n",
       "\\hline\n",
       "\t Animals       &  34\\\\\n",
       "\t Plants        &  30\\\\\n",
       "\t Environmental & 196\\\\\n",
       "\t Host          &  29\\\\\n",
       "\\end{tabular}\n"
      ],
      "text/markdown": [
       "\n",
       "A tibble: 4 × 2\n",
       "\n",
       "| enriched_in &lt;chr&gt; | No.DAs &lt;int&gt; |\n",
       "|---|---|\n",
       "| Animals       |  34 |\n",
       "| Plants        |  30 |\n",
       "| Environmental | 196 |\n",
       "| Host          |  29 |\n",
       "\n"
      ],
      "text/plain": [
       "  enriched_in   No.DAs\n",
       "1 Animals        34   \n",
       "2 Plants         30   \n",
       "3 Environmental 196   \n",
       "4 Host           29   "
      ]
     },
     "metadata": {},
     "output_type": "display_data"
    }
   ],
   "source": [
    "rem.cds.table = bind_cols(enriched_in=c(\"Animals\",\"Plants\",\"Environmental\",\"Host\"),\n",
    "                     No.DAs=c(nrow(remaining.cds.animals),\n",
    "                              nrow(remaining.cds.plants),\n",
    "                              nrow(remaining.cds.env),\n",
    "                              nrow(remaining.cds.host)))\n",
    "\n",
    "rem.cds.table"
   ]
  },
  {
   "cell_type": "code",
   "execution_count": 12,
   "id": "17dbae8f-53f5-4e53-ae09-0113b322b643",
   "metadata": {},
   "outputs": [],
   "source": [
    "#This function does an additional step to remove last characters from the accession number of the proteins.\n",
    "getSeqNames.rem = function(fasta_file){\n",
    "#     seq_names = getName(fasta_file)\n",
    "    #Split the sequence names into three columns based on underscores\n",
    "            seq_file = read.fasta(fasta_file)    \n",
    "            seq_table = tibble(seqName=getName(seq_file))%>%\n",
    "                      separate(col=seqName,into=c(\"nuc\",\"Protein\"),sep=\"_cds_\",remove=\"FALSE\")%>%\n",
    "                      mutate(Accession = str_replace_all(Protein,\"_[^_]*$\", \"\")) #Removes from last position until underscore\n",
    "    return(seq_table)\n",
    "    }"
   ]
  },
  {
   "cell_type": "markdown",
   "id": "04eedd53-44a9-4504-96f6-235d591ce576",
   "metadata": {},
   "source": [
    "# CDS - filter and merge"
   ]
  },
  {
   "cell_type": "markdown",
   "id": "b11091bc-bde2-469f-a2a0-9c4ecc47b5e2",
   "metadata": {},
   "source": [
    "### A. Animals-enriched cds"
   ]
  },
  {
   "cell_type": "markdown",
   "id": "3cdeefbc-5268-4610-a58b-ff6a14b85117",
   "metadata": {},
   "source": [
    "#### Get names of remaining CDS"
   ]
  },
  {
   "cell_type": "code",
   "execution_count": 10,
   "id": "0dc9ec2d-efe1-4ba8-87eb-b7832f4a3694",
   "metadata": {},
   "outputs": [],
   "source": [
    "seqs.rem.cds.animals=read.fasta(\"rem.cds.animals.fna\")"
   ]
  },
  {
   "cell_type": "code",
   "execution_count": 11,
   "id": "f1ff3f91-e1eb-4e6d-8f72-cd62d74b0296",
   "metadata": {
    "tags": []
   },
   "outputs": [
    {
     "ename": "ERROR",
     "evalue": "Error in getSeqNames.rem(\"rem.cds.animals.fna\"): could not find function \"getSeqNames.rem\"\n",
     "output_type": "error",
     "traceback": [
      "Error in getSeqNames.rem(\"rem.cds.animals.fna\"): could not find function \"getSeqNames.rem\"\nTraceback:\n"
     ]
    }
   ],
   "source": [
    "names.rem.animals = getSeqNames.rem(\"rem.cds.animals.fna\")"
   ]
  },
  {
   "cell_type": "code",
   "execution_count": null,
   "id": "c914ffcb-7adc-4273-9977-f796eff21898",
   "metadata": {},
   "outputs": [],
   "source": [
    "head(names.rem.animals)"
   ]
  },
  {
   "cell_type": "code",
   "execution_count": null,
   "id": "28d70c7a-ee61-47ec-b7e8-9bc4e011a9c8",
   "metadata": {},
   "outputs": [],
   "source": [
    "ToKeep.cds = filter(names.rem.animals,Accession%in%remaining.cds.animals$Accession)"
   ]
  },
  {
   "cell_type": "raw",
   "id": "bdf44b32-0085-4b27-b426-80297bdfca03",
   "metadata": {},
   "source": [
    "These are obsolete entries removed from NCBI. "
   ]
  },
  {
   "cell_type": "code",
   "execution_count": null,
   "id": "c875d28c-0f89-4c07-b462-0336d1049f4b",
   "metadata": {},
   "outputs": [],
   "source": [
    "last = anti_join(remaining.cds.animals,ToKeep.cds,by=\"Accession\")\n",
    "last"
   ]
  },
  {
   "cell_type": "markdown",
   "id": "f528d0d8-0be9-4cd3-8be9-85e75d9f3f35",
   "metadata": {},
   "source": [
    "#### Filter CDS of matching flagellins "
   ]
  },
  {
   "cell_type": "code",
   "execution_count": null,
   "id": "26e3f678-575f-4779-aabe-317b42247a4f",
   "metadata": {},
   "outputs": [],
   "source": [
    "keep.cds.animals = seqs.rem.cds.animals[c(which(names(seqs.rem.cds.animals) %in% ToKeep.cds$seqName))]"
   ]
  },
  {
   "cell_type": "code",
   "execution_count": null,
   "id": "fa9a7259-abba-4ff3-9b31-0ed77a8d3dc2",
   "metadata": {},
   "outputs": [],
   "source": [
    "length(keep.cds.animals)"
   ]
  },
  {
   "cell_type": "code",
   "execution_count": null,
   "id": "41a608fa-590a-4a46-bb13-38a3df0f848c",
   "metadata": {},
   "outputs": [],
   "source": [
    "#Merge all CDS files\n",
    "all.cds.animals = c(cds.animals,keep.cds.animals)"
   ]
  },
  {
   "cell_type": "code",
   "execution_count": 50,
   "id": "e15670f9-deea-40a5-a5f3-5ef77cd7ee75",
   "metadata": {},
   "outputs": [],
   "source": [
    "#Write fasta with all cds \n",
    "write.fasta(sequences=all.cds.animals,names=names(all.cds.animals),nbchar=80,file.out=\"all.cds.animals.fna\")"
   ]
  },
  {
   "cell_type": "markdown",
   "id": "3cb40a09-96b5-48f9-89b6-e1079fee4ec8",
   "metadata": {},
   "source": [
    "### B. Plants-enriched flagellins"
   ]
  },
  {
   "cell_type": "code",
   "execution_count": 52,
   "id": "2a725960-c8a1-4d69-88ec-3bf000b670ea",
   "metadata": {},
   "outputs": [],
   "source": [
    "seqs.rem.plants = read.fasta(\"rem.cds.plants.fna\")"
   ]
  },
  {
   "cell_type": "code",
   "execution_count": 53,
   "id": "88879c8e-0230-416a-9819-9688c1c56868",
   "metadata": {
    "tags": []
   },
   "outputs": [],
   "source": [
    "names.rem.plants = getSeqNames.rem(\"rem.cds.plants.fna\")"
   ]
  },
  {
   "cell_type": "code",
   "execution_count": 54,
   "id": "87be6961-ad9b-460f-a256-a2c11e9dfcf7",
   "metadata": {},
   "outputs": [],
   "source": [
    "toKeep.cds.plants = filter(names.rem.plants,Accession%in%remaining.cds.plants$Accession)"
   ]
  },
  {
   "cell_type": "raw",
   "id": "239237e0-89f2-4065-b57a-45660216bbd6",
   "metadata": {},
   "source": [
    "These are obsolete entries removed from NCBI. "
   ]
  },
  {
   "cell_type": "code",
   "execution_count": 55,
   "id": "2ab97452-d856-49df-bc80-5f90849a6139",
   "metadata": {},
   "outputs": [
    {
     "data": {
      "text/html": [
       "<table class=\"dataframe\">\n",
       "<caption>A spec_tbl_df: 5 × 13</caption>\n",
       "<thead>\n",
       "\t<tr><th scope=col>Accession</th><th scope=col>Domain</th><th scope=col>Phylum</th><th scope=col>Class</th><th scope=col>Order</th><th scope=col>Family</th><th scope=col>Genus</th><th scope=col>Species</th><th scope=col>logFC</th><th scope=col>logCPM</th><th scope=col>PValue</th><th scope=col>FDR</th><th scope=col>EnrichedIn</th></tr>\n",
       "\t<tr><th scope=col>&lt;chr&gt;</th><th scope=col>&lt;chr&gt;</th><th scope=col>&lt;chr&gt;</th><th scope=col>&lt;chr&gt;</th><th scope=col>&lt;chr&gt;</th><th scope=col>&lt;chr&gt;</th><th scope=col>&lt;chr&gt;</th><th scope=col>&lt;chr&gt;</th><th scope=col>&lt;dbl&gt;</th><th scope=col>&lt;dbl&gt;</th><th scope=col>&lt;dbl&gt;</th><th scope=col>&lt;dbl&gt;</th><th scope=col>&lt;chr&gt;</th></tr>\n",
       "</thead>\n",
       "<tbody>\n",
       "\t<tr><td>WP_109855741.1</td><td>d__Bacteria</td><td>p__Proteobacteria  </td><td>c__Alphaproteobacteria</td><td>o__Rhizobiales       </td><td>f__Rhizobiaceae       </td><td>g__Ensifer          </td><td>s__Ensifer adhaerens                   </td><td>1.6244679</td><td>10.60927</td><td>1.297648e-19</td><td>2.322789e-17</td><td>Plants</td></tr>\n",
       "\t<tr><td>WP_082564463.1</td><td>d__Bacteria</td><td>p__Proteobacteria  </td><td>c__Alphaproteobacteria</td><td>o__Caulobacterales   </td><td>f__Caulobacteraceae   </td><td>g__Caulobacter      </td><td>s__Caulobacter rhizosphaerae           </td><td>0.9055468</td><td>10.44234</td><td>4.267642e-09</td><td>1.556109e-07</td><td>Plants</td></tr>\n",
       "\t<tr><td>WP_071836315.1</td><td>d__Bacteria</td><td>p__Proteobacteria  </td><td>c__Alphaproteobacteria</td><td>o__Rhizobiales       </td><td>f__Rhizobiaceae       </td><td>g__Pararhizobium    </td><td>s__Pararhizobium antarcticum           </td><td>0.8894392</td><td>10.44252</td><td>9.762742e-09</td><td>3.258108e-07</td><td>Plants</td></tr>\n",
       "\t<tr><td>WP_112429052.1</td><td>d__Bacteria</td><td>p__Proteobacteria  </td><td>c__Alphaproteobacteria</td><td>o__Rhizobiales       </td><td>f__Rhizobiaceae       </td><td>g__Rhizobium        </td><td>s__Rhizobium sp900472605               </td><td>0.6035697</td><td>10.39848</td><td>1.457005e-04</td><td>1.827289e-03</td><td>Plants</td></tr>\n",
       "\t<tr><td>WP_066854468.1</td><td>d__Bacteria</td><td>p__Desulfobacterota</td><td>c__Desulfovibrionia   </td><td>o__Desulfovibrionales</td><td>f__Desulfovibrionaceae</td><td>g__Halodesulfovibrio</td><td>s__Halodesulfovibrio spirochaetisodalis</td><td>0.5436066</td><td>10.40908</td><td>5.970899e-04</td><td>6.220476e-03</td><td>Plants</td></tr>\n",
       "</tbody>\n",
       "</table>\n"
      ],
      "text/latex": [
       "A spec\\_tbl\\_df: 5 × 13\n",
       "\\begin{tabular}{lllllllllllll}\n",
       " Accession & Domain & Phylum & Class & Order & Family & Genus & Species & logFC & logCPM & PValue & FDR & EnrichedIn\\\\\n",
       " <chr> & <chr> & <chr> & <chr> & <chr> & <chr> & <chr> & <chr> & <dbl> & <dbl> & <dbl> & <dbl> & <chr>\\\\\n",
       "\\hline\n",
       "\t WP\\_109855741.1 & d\\_\\_Bacteria & p\\_\\_Proteobacteria   & c\\_\\_Alphaproteobacteria & o\\_\\_Rhizobiales        & f\\_\\_Rhizobiaceae        & g\\_\\_Ensifer           & s\\_\\_Ensifer adhaerens                    & 1.6244679 & 10.60927 & 1.297648e-19 & 2.322789e-17 & Plants\\\\\n",
       "\t WP\\_082564463.1 & d\\_\\_Bacteria & p\\_\\_Proteobacteria   & c\\_\\_Alphaproteobacteria & o\\_\\_Caulobacterales    & f\\_\\_Caulobacteraceae    & g\\_\\_Caulobacter       & s\\_\\_Caulobacter rhizosphaerae            & 0.9055468 & 10.44234 & 4.267642e-09 & 1.556109e-07 & Plants\\\\\n",
       "\t WP\\_071836315.1 & d\\_\\_Bacteria & p\\_\\_Proteobacteria   & c\\_\\_Alphaproteobacteria & o\\_\\_Rhizobiales        & f\\_\\_Rhizobiaceae        & g\\_\\_Pararhizobium     & s\\_\\_Pararhizobium antarcticum            & 0.8894392 & 10.44252 & 9.762742e-09 & 3.258108e-07 & Plants\\\\\n",
       "\t WP\\_112429052.1 & d\\_\\_Bacteria & p\\_\\_Proteobacteria   & c\\_\\_Alphaproteobacteria & o\\_\\_Rhizobiales        & f\\_\\_Rhizobiaceae        & g\\_\\_Rhizobium         & s\\_\\_Rhizobium sp900472605                & 0.6035697 & 10.39848 & 1.457005e-04 & 1.827289e-03 & Plants\\\\\n",
       "\t WP\\_066854468.1 & d\\_\\_Bacteria & p\\_\\_Desulfobacterota & c\\_\\_Desulfovibrionia    & o\\_\\_Desulfovibrionales & f\\_\\_Desulfovibrionaceae & g\\_\\_Halodesulfovibrio & s\\_\\_Halodesulfovibrio spirochaetisodalis & 0.5436066 & 10.40908 & 5.970899e-04 & 6.220476e-03 & Plants\\\\\n",
       "\\end{tabular}\n"
      ],
      "text/markdown": [
       "\n",
       "A spec_tbl_df: 5 × 13\n",
       "\n",
       "| Accession &lt;chr&gt; | Domain &lt;chr&gt; | Phylum &lt;chr&gt; | Class &lt;chr&gt; | Order &lt;chr&gt; | Family &lt;chr&gt; | Genus &lt;chr&gt; | Species &lt;chr&gt; | logFC &lt;dbl&gt; | logCPM &lt;dbl&gt; | PValue &lt;dbl&gt; | FDR &lt;dbl&gt; | EnrichedIn &lt;chr&gt; |\n",
       "|---|---|---|---|---|---|---|---|---|---|---|---|---|\n",
       "| WP_109855741.1 | d__Bacteria | p__Proteobacteria   | c__Alphaproteobacteria | o__Rhizobiales        | f__Rhizobiaceae        | g__Ensifer           | s__Ensifer adhaerens                    | 1.6244679 | 10.60927 | 1.297648e-19 | 2.322789e-17 | Plants |\n",
       "| WP_082564463.1 | d__Bacteria | p__Proteobacteria   | c__Alphaproteobacteria | o__Caulobacterales    | f__Caulobacteraceae    | g__Caulobacter       | s__Caulobacter rhizosphaerae            | 0.9055468 | 10.44234 | 4.267642e-09 | 1.556109e-07 | Plants |\n",
       "| WP_071836315.1 | d__Bacteria | p__Proteobacteria   | c__Alphaproteobacteria | o__Rhizobiales        | f__Rhizobiaceae        | g__Pararhizobium     | s__Pararhizobium antarcticum            | 0.8894392 | 10.44252 | 9.762742e-09 | 3.258108e-07 | Plants |\n",
       "| WP_112429052.1 | d__Bacteria | p__Proteobacteria   | c__Alphaproteobacteria | o__Rhizobiales        | f__Rhizobiaceae        | g__Rhizobium         | s__Rhizobium sp900472605                | 0.6035697 | 10.39848 | 1.457005e-04 | 1.827289e-03 | Plants |\n",
       "| WP_066854468.1 | d__Bacteria | p__Desulfobacterota | c__Desulfovibrionia    | o__Desulfovibrionales | f__Desulfovibrionaceae | g__Halodesulfovibrio | s__Halodesulfovibrio spirochaetisodalis | 0.5436066 | 10.40908 | 5.970899e-04 | 6.220476e-03 | Plants |\n",
       "\n"
      ],
      "text/plain": [
       "  Accession      Domain      Phylum              Class                 \n",
       "1 WP_109855741.1 d__Bacteria p__Proteobacteria   c__Alphaproteobacteria\n",
       "2 WP_082564463.1 d__Bacteria p__Proteobacteria   c__Alphaproteobacteria\n",
       "3 WP_071836315.1 d__Bacteria p__Proteobacteria   c__Alphaproteobacteria\n",
       "4 WP_112429052.1 d__Bacteria p__Proteobacteria   c__Alphaproteobacteria\n",
       "5 WP_066854468.1 d__Bacteria p__Desulfobacterota c__Desulfovibrionia   \n",
       "  Order                 Family                 Genus               \n",
       "1 o__Rhizobiales        f__Rhizobiaceae        g__Ensifer          \n",
       "2 o__Caulobacterales    f__Caulobacteraceae    g__Caulobacter      \n",
       "3 o__Rhizobiales        f__Rhizobiaceae        g__Pararhizobium    \n",
       "4 o__Rhizobiales        f__Rhizobiaceae        g__Rhizobium        \n",
       "5 o__Desulfovibrionales f__Desulfovibrionaceae g__Halodesulfovibrio\n",
       "  Species                                 logFC     logCPM   PValue      \n",
       "1 s__Ensifer adhaerens                    1.6244679 10.60927 1.297648e-19\n",
       "2 s__Caulobacter rhizosphaerae            0.9055468 10.44234 4.267642e-09\n",
       "3 s__Pararhizobium antarcticum            0.8894392 10.44252 9.762742e-09\n",
       "4 s__Rhizobium sp900472605                0.6035697 10.39848 1.457005e-04\n",
       "5 s__Halodesulfovibrio spirochaetisodalis 0.5436066 10.40908 5.970899e-04\n",
       "  FDR          EnrichedIn\n",
       "1 2.322789e-17 Plants    \n",
       "2 1.556109e-07 Plants    \n",
       "3 3.258108e-07 Plants    \n",
       "4 1.827289e-03 Plants    \n",
       "5 6.220476e-03 Plants    "
      ]
     },
     "metadata": {},
     "output_type": "display_data"
    }
   ],
   "source": [
    "obsolete.plants = anti_join(remaining.cds.plants,toKeep.cds.plants,by=\"Accession\")\n",
    "obsolete.plants"
   ]
  },
  {
   "cell_type": "markdown",
   "id": "b6f4837e-0967-4ba9-9aa4-44cb4e8b2b44",
   "metadata": {},
   "source": [
    "#### Filter CDS of matching flagellins "
   ]
  },
  {
   "cell_type": "code",
   "execution_count": 56,
   "id": "9de0cc4f-32ab-40f1-bce8-95890fe1b467",
   "metadata": {},
   "outputs": [],
   "source": [
    "keep.cds.plants = seqs.rem.plants[c(which(names(seqs.rem.plants) %in% toKeep.cds.plants$seqName))]"
   ]
  },
  {
   "cell_type": "code",
   "execution_count": 57,
   "id": "04ee722f-3438-4ec5-bdcb-69ae7d700c1d",
   "metadata": {},
   "outputs": [
    {
     "data": {
      "text/html": [
       "25"
      ],
      "text/latex": [
       "25"
      ],
      "text/markdown": [
       "25"
      ],
      "text/plain": [
       "[1] 25"
      ]
     },
     "metadata": {},
     "output_type": "display_data"
    }
   ],
   "source": [
    "length(keep.cds.plants)"
   ]
  },
  {
   "cell_type": "code",
   "execution_count": 58,
   "id": "7e5774d0-b2d4-4f5b-bb7a-8f272aa9b280",
   "metadata": {},
   "outputs": [],
   "source": [
    "#Merge all CDS files\n",
    "all.cds.plants = c(cds.plants,keep.cds.plants)"
   ]
  },
  {
   "cell_type": "code",
   "execution_count": 59,
   "id": "8fd72729-fe1e-4cca-aeb9-e83abc52c799",
   "metadata": {},
   "outputs": [],
   "source": [
    "#Write fasta with all cds \n",
    "write.fasta(sequences=all.cds.plants,names=names(all.cds.plants),nbchar=80,file.out=\"all.cds.plants.fna\")"
   ]
  },
  {
   "cell_type": "markdown",
   "id": "24e32278-a6f1-4403-9eaf-1af14b85d080",
   "metadata": {},
   "source": [
    "### C. Host-enriched CDS"
   ]
  },
  {
   "cell_type": "code",
   "execution_count": 61,
   "id": "e2746df2-80a7-4817-a67d-96b931efca6e",
   "metadata": {},
   "outputs": [],
   "source": [
    "seqs.rem.cds.host=read.fasta(\"rem.cds.host.fna\")"
   ]
  },
  {
   "cell_type": "code",
   "execution_count": 62,
   "id": "ed93cc90-2efb-47de-ad95-2aeff1747b52",
   "metadata": {
    "tags": []
   },
   "outputs": [],
   "source": [
    "names.rem.host = getSeqNames.rem(\"rem.cds.host.fna\")"
   ]
  },
  {
   "cell_type": "code",
   "execution_count": 63,
   "id": "46f8eb0e-72f7-45e6-b083-f77e85b59353",
   "metadata": {},
   "outputs": [
    {
     "data": {
      "text/html": [
       "<table class=\"dataframe\">\n",
       "<caption>A tibble: 6 × 4</caption>\n",
       "<thead>\n",
       "\t<tr><th scope=col>seqName</th><th scope=col>nuc</th><th scope=col>Protein</th><th scope=col>Accession</th></tr>\n",
       "\t<tr><th scope=col>&lt;chr&gt;</th><th scope=col>&lt;chr&gt;</th><th scope=col>&lt;chr&gt;</th><th scope=col>&lt;chr&gt;</th></tr>\n",
       "</thead>\n",
       "<tbody>\n",
       "\t<tr><td>lcl|NZ_LOON01000008.1_cds_WP_000997010.1_1</td><td>lcl|NZ_LOON01000008.1</td><td>WP_000997010.1_1</td><td>WP_000997010.1</td></tr>\n",
       "\t<tr><td>lcl|NZ_LOON01000008.1_cds_WP_000648572.1_2</td><td>lcl|NZ_LOON01000008.1</td><td>WP_000648572.1_2</td><td>WP_000648572.1</td></tr>\n",
       "\t<tr><td>lcl|NZ_LOON01000008.1_cds_WP_001230983.1_3</td><td>lcl|NZ_LOON01000008.1</td><td>WP_001230983.1_3</td><td>WP_001230983.1</td></tr>\n",
       "\t<tr><td>lcl|NZ_LOON01000008.1_cds_AUQ00_RS05235_4 </td><td>lcl|NZ_LOON01000008.1</td><td>AUQ00_RS05235_4 </td><td>AUQ00_RS05235 </td></tr>\n",
       "\t<tr><td>lcl|NZ_LOON01000008.1_cds_WP_000644685.1_5</td><td>lcl|NZ_LOON01000008.1</td><td>WP_000644685.1_5</td><td>WP_000644685.1</td></tr>\n",
       "\t<tr><td>lcl|NZ_LOON01000008.1_cds_WP_001052715.1_6</td><td>lcl|NZ_LOON01000008.1</td><td>WP_001052715.1_6</td><td>WP_001052715.1</td></tr>\n",
       "</tbody>\n",
       "</table>\n"
      ],
      "text/latex": [
       "A tibble: 6 × 4\n",
       "\\begin{tabular}{llll}\n",
       " seqName & nuc & Protein & Accession\\\\\n",
       " <chr> & <chr> & <chr> & <chr>\\\\\n",
       "\\hline\n",
       "\t lcl\\textbar{}NZ\\_LOON01000008.1\\_cds\\_WP\\_000997010.1\\_1 & lcl\\textbar{}NZ\\_LOON01000008.1 & WP\\_000997010.1\\_1 & WP\\_000997010.1\\\\\n",
       "\t lcl\\textbar{}NZ\\_LOON01000008.1\\_cds\\_WP\\_000648572.1\\_2 & lcl\\textbar{}NZ\\_LOON01000008.1 & WP\\_000648572.1\\_2 & WP\\_000648572.1\\\\\n",
       "\t lcl\\textbar{}NZ\\_LOON01000008.1\\_cds\\_WP\\_001230983.1\\_3 & lcl\\textbar{}NZ\\_LOON01000008.1 & WP\\_001230983.1\\_3 & WP\\_001230983.1\\\\\n",
       "\t lcl\\textbar{}NZ\\_LOON01000008.1\\_cds\\_AUQ00\\_RS05235\\_4  & lcl\\textbar{}NZ\\_LOON01000008.1 & AUQ00\\_RS05235\\_4  & AUQ00\\_RS05235 \\\\\n",
       "\t lcl\\textbar{}NZ\\_LOON01000008.1\\_cds\\_WP\\_000644685.1\\_5 & lcl\\textbar{}NZ\\_LOON01000008.1 & WP\\_000644685.1\\_5 & WP\\_000644685.1\\\\\n",
       "\t lcl\\textbar{}NZ\\_LOON01000008.1\\_cds\\_WP\\_001052715.1\\_6 & lcl\\textbar{}NZ\\_LOON01000008.1 & WP\\_001052715.1\\_6 & WP\\_001052715.1\\\\\n",
       "\\end{tabular}\n"
      ],
      "text/markdown": [
       "\n",
       "A tibble: 6 × 4\n",
       "\n",
       "| seqName &lt;chr&gt; | nuc &lt;chr&gt; | Protein &lt;chr&gt; | Accession &lt;chr&gt; |\n",
       "|---|---|---|---|\n",
       "| lcl|NZ_LOON01000008.1_cds_WP_000997010.1_1 | lcl|NZ_LOON01000008.1 | WP_000997010.1_1 | WP_000997010.1 |\n",
       "| lcl|NZ_LOON01000008.1_cds_WP_000648572.1_2 | lcl|NZ_LOON01000008.1 | WP_000648572.1_2 | WP_000648572.1 |\n",
       "| lcl|NZ_LOON01000008.1_cds_WP_001230983.1_3 | lcl|NZ_LOON01000008.1 | WP_001230983.1_3 | WP_001230983.1 |\n",
       "| lcl|NZ_LOON01000008.1_cds_AUQ00_RS05235_4  | lcl|NZ_LOON01000008.1 | AUQ00_RS05235_4  | AUQ00_RS05235  |\n",
       "| lcl|NZ_LOON01000008.1_cds_WP_000644685.1_5 | lcl|NZ_LOON01000008.1 | WP_000644685.1_5 | WP_000644685.1 |\n",
       "| lcl|NZ_LOON01000008.1_cds_WP_001052715.1_6 | lcl|NZ_LOON01000008.1 | WP_001052715.1_6 | WP_001052715.1 |\n",
       "\n"
      ],
      "text/plain": [
       "  seqName                                    nuc                  \n",
       "1 lcl|NZ_LOON01000008.1_cds_WP_000997010.1_1 lcl|NZ_LOON01000008.1\n",
       "2 lcl|NZ_LOON01000008.1_cds_WP_000648572.1_2 lcl|NZ_LOON01000008.1\n",
       "3 lcl|NZ_LOON01000008.1_cds_WP_001230983.1_3 lcl|NZ_LOON01000008.1\n",
       "4 lcl|NZ_LOON01000008.1_cds_AUQ00_RS05235_4  lcl|NZ_LOON01000008.1\n",
       "5 lcl|NZ_LOON01000008.1_cds_WP_000644685.1_5 lcl|NZ_LOON01000008.1\n",
       "6 lcl|NZ_LOON01000008.1_cds_WP_001052715.1_6 lcl|NZ_LOON01000008.1\n",
       "  Protein          Accession     \n",
       "1 WP_000997010.1_1 WP_000997010.1\n",
       "2 WP_000648572.1_2 WP_000648572.1\n",
       "3 WP_001230983.1_3 WP_001230983.1\n",
       "4 AUQ00_RS05235_4  AUQ00_RS05235 \n",
       "5 WP_000644685.1_5 WP_000644685.1\n",
       "6 WP_001052715.1_6 WP_001052715.1"
      ]
     },
     "metadata": {},
     "output_type": "display_data"
    }
   ],
   "source": [
    "head(names.rem.host)"
   ]
  },
  {
   "cell_type": "code",
   "execution_count": 64,
   "id": "05fc2db5-7af0-4709-bf76-691d77976d6e",
   "metadata": {},
   "outputs": [],
   "source": [
    "ToKeep.cds.host = filter(names.rem.host,Accession%in%remaining.cds.host$Accession)"
   ]
  },
  {
   "cell_type": "raw",
   "id": "d023ce5c-2ed6-4a94-b43e-3f5caef7eda4",
   "metadata": {},
   "source": [
    "These are obsolete entries removed from NCBI. "
   ]
  },
  {
   "cell_type": "code",
   "execution_count": 65,
   "id": "f7429b2a-dbb0-490b-b89e-5d9e491c0fc3",
   "metadata": {},
   "outputs": [
    {
     "data": {
      "text/html": [
       "<table class=\"dataframe\">\n",
       "<caption>A spec_tbl_df: 3 × 13</caption>\n",
       "<thead>\n",
       "\t<tr><th scope=col>Accession</th><th scope=col>Domain</th><th scope=col>Phylum</th><th scope=col>Class</th><th scope=col>Order</th><th scope=col>Family</th><th scope=col>Genus</th><th scope=col>Species</th><th scope=col>logFC</th><th scope=col>logCPM</th><th scope=col>PValue</th><th scope=col>FDR</th><th scope=col>EnrichedIn</th></tr>\n",
       "\t<tr><th scope=col>&lt;chr&gt;</th><th scope=col>&lt;chr&gt;</th><th scope=col>&lt;chr&gt;</th><th scope=col>&lt;chr&gt;</th><th scope=col>&lt;chr&gt;</th><th scope=col>&lt;chr&gt;</th><th scope=col>&lt;chr&gt;</th><th scope=col>&lt;chr&gt;</th><th scope=col>&lt;dbl&gt;</th><th scope=col>&lt;dbl&gt;</th><th scope=col>&lt;dbl&gt;</th><th scope=col>&lt;dbl&gt;</th><th scope=col>&lt;chr&gt;</th></tr>\n",
       "</thead>\n",
       "<tbody>\n",
       "\t<tr><td>WP_108981172.1</td><td>d__Bacteria</td><td>p__Firmicutes_A  </td><td>c__Clostridia         </td><td>o__Oscillospirales </td><td>f__Oscillospiraceae  </td><td>g__Lawsonibacter</td><td>s__Lawsonibacter asaccharolyticus</td><td>0.8691534</td><td>10.47281</td><td>6.294604e-06</td><td>3.617103e-05</td><td>Host-associated</td></tr>\n",
       "\t<tr><td>WP_039058451.1</td><td>d__Bacteria</td><td>p__Proteobacteria</td><td>c__Gammaproteobacteria</td><td>o__Enterobacterales</td><td>f__Enterobacteriaceae</td><td>g__Kosakonia    </td><td>s__Kosakonia sp000814905         </td><td>0.7529128</td><td>10.44464</td><td>6.005417e-05</td><td>2.866024e-04</td><td>Host-associated</td></tr>\n",
       "\t<tr><td>WP_109855741.1</td><td>d__Bacteria</td><td>p__Proteobacteria</td><td>c__Alphaproteobacteria</td><td>o__Rhizobiales     </td><td>f__Rhizobiaceae      </td><td>g__Ensifer      </td><td>s__Ensifer adhaerens             </td><td>0.6758301</td><td>10.41614</td><td>2.441977e-04</td><td>1.021898e-03</td><td>Host-associated</td></tr>\n",
       "</tbody>\n",
       "</table>\n"
      ],
      "text/latex": [
       "A spec\\_tbl\\_df: 3 × 13\n",
       "\\begin{tabular}{lllllllllllll}\n",
       " Accession & Domain & Phylum & Class & Order & Family & Genus & Species & logFC & logCPM & PValue & FDR & EnrichedIn\\\\\n",
       " <chr> & <chr> & <chr> & <chr> & <chr> & <chr> & <chr> & <chr> & <dbl> & <dbl> & <dbl> & <dbl> & <chr>\\\\\n",
       "\\hline\n",
       "\t WP\\_108981172.1 & d\\_\\_Bacteria & p\\_\\_Firmicutes\\_A   & c\\_\\_Clostridia          & o\\_\\_Oscillospirales  & f\\_\\_Oscillospiraceae   & g\\_\\_Lawsonibacter & s\\_\\_Lawsonibacter asaccharolyticus & 0.8691534 & 10.47281 & 6.294604e-06 & 3.617103e-05 & Host-associated\\\\\n",
       "\t WP\\_039058451.1 & d\\_\\_Bacteria & p\\_\\_Proteobacteria & c\\_\\_Gammaproteobacteria & o\\_\\_Enterobacterales & f\\_\\_Enterobacteriaceae & g\\_\\_Kosakonia     & s\\_\\_Kosakonia sp000814905          & 0.7529128 & 10.44464 & 6.005417e-05 & 2.866024e-04 & Host-associated\\\\\n",
       "\t WP\\_109855741.1 & d\\_\\_Bacteria & p\\_\\_Proteobacteria & c\\_\\_Alphaproteobacteria & o\\_\\_Rhizobiales      & f\\_\\_Rhizobiaceae       & g\\_\\_Ensifer       & s\\_\\_Ensifer adhaerens              & 0.6758301 & 10.41614 & 2.441977e-04 & 1.021898e-03 & Host-associated\\\\\n",
       "\\end{tabular}\n"
      ],
      "text/markdown": [
       "\n",
       "A spec_tbl_df: 3 × 13\n",
       "\n",
       "| Accession &lt;chr&gt; | Domain &lt;chr&gt; | Phylum &lt;chr&gt; | Class &lt;chr&gt; | Order &lt;chr&gt; | Family &lt;chr&gt; | Genus &lt;chr&gt; | Species &lt;chr&gt; | logFC &lt;dbl&gt; | logCPM &lt;dbl&gt; | PValue &lt;dbl&gt; | FDR &lt;dbl&gt; | EnrichedIn &lt;chr&gt; |\n",
       "|---|---|---|---|---|---|---|---|---|---|---|---|---|\n",
       "| WP_108981172.1 | d__Bacteria | p__Firmicutes_A   | c__Clostridia          | o__Oscillospirales  | f__Oscillospiraceae   | g__Lawsonibacter | s__Lawsonibacter asaccharolyticus | 0.8691534 | 10.47281 | 6.294604e-06 | 3.617103e-05 | Host-associated |\n",
       "| WP_039058451.1 | d__Bacteria | p__Proteobacteria | c__Gammaproteobacteria | o__Enterobacterales | f__Enterobacteriaceae | g__Kosakonia     | s__Kosakonia sp000814905          | 0.7529128 | 10.44464 | 6.005417e-05 | 2.866024e-04 | Host-associated |\n",
       "| WP_109855741.1 | d__Bacteria | p__Proteobacteria | c__Alphaproteobacteria | o__Rhizobiales      | f__Rhizobiaceae       | g__Ensifer       | s__Ensifer adhaerens              | 0.6758301 | 10.41614 | 2.441977e-04 | 1.021898e-03 | Host-associated |\n",
       "\n"
      ],
      "text/plain": [
       "  Accession      Domain      Phylum            Class                 \n",
       "1 WP_108981172.1 d__Bacteria p__Firmicutes_A   c__Clostridia         \n",
       "2 WP_039058451.1 d__Bacteria p__Proteobacteria c__Gammaproteobacteria\n",
       "3 WP_109855741.1 d__Bacteria p__Proteobacteria c__Alphaproteobacteria\n",
       "  Order               Family                Genus           \n",
       "1 o__Oscillospirales  f__Oscillospiraceae   g__Lawsonibacter\n",
       "2 o__Enterobacterales f__Enterobacteriaceae g__Kosakonia    \n",
       "3 o__Rhizobiales      f__Rhizobiaceae       g__Ensifer      \n",
       "  Species                           logFC     logCPM   PValue      \n",
       "1 s__Lawsonibacter asaccharolyticus 0.8691534 10.47281 6.294604e-06\n",
       "2 s__Kosakonia sp000814905          0.7529128 10.44464 6.005417e-05\n",
       "3 s__Ensifer adhaerens              0.6758301 10.41614 2.441977e-04\n",
       "  FDR          EnrichedIn     \n",
       "1 3.617103e-05 Host-associated\n",
       "2 2.866024e-04 Host-associated\n",
       "3 1.021898e-03 Host-associated"
      ]
     },
     "metadata": {},
     "output_type": "display_data"
    }
   ],
   "source": [
    "last = anti_join(remaining.cds.host,ToKeep.cds.host,by=\"Accession\")\n",
    "last"
   ]
  },
  {
   "cell_type": "markdown",
   "id": "71c61240-1a46-4e7a-8e90-b7132c1e544c",
   "metadata": {},
   "source": [
    "#### Filter CDS of matching flagellins "
   ]
  },
  {
   "cell_type": "code",
   "execution_count": 68,
   "id": "f9c158c0-b757-4afa-8e36-e02d17fac691",
   "metadata": {},
   "outputs": [],
   "source": [
    "keep.cds.host = seqs.rem.cds.host[c(which(names(seqs.rem.cds.host) %in% ToKeep.cds.host$seqName))]"
   ]
  },
  {
   "cell_type": "code",
   "execution_count": 69,
   "id": "29954273-fd0d-4273-ae1c-28781df446b8",
   "metadata": {},
   "outputs": [
    {
     "data": {
      "text/html": [
       "26"
      ],
      "text/latex": [
       "26"
      ],
      "text/markdown": [
       "26"
      ],
      "text/plain": [
       "[1] 26"
      ]
     },
     "metadata": {},
     "output_type": "display_data"
    }
   ],
   "source": [
    "length(keep.cds.host)"
   ]
  },
  {
   "cell_type": "code",
   "execution_count": 70,
   "id": "7fc0c587-3a63-4689-bd20-276c108a80fe",
   "metadata": {},
   "outputs": [],
   "source": [
    "#Merge all CDS files\n",
    "all.cds.host = c(cds.host,keep.cds.host)"
   ]
  },
  {
   "cell_type": "code",
   "execution_count": 71,
   "id": "ba6fb56e-67d7-4ed2-b1c1-9f988acfb40f",
   "metadata": {},
   "outputs": [
    {
     "data": {
      "text/html": [
       "107"
      ],
      "text/latex": [
       "107"
      ],
      "text/markdown": [
       "107"
      ],
      "text/plain": [
       "[1] 107"
      ]
     },
     "metadata": {},
     "output_type": "display_data"
    }
   ],
   "source": [
    "length(all.cds.host)"
   ]
  },
  {
   "cell_type": "code",
   "execution_count": 72,
   "id": "bd86c9d3-40a0-4e5f-912a-2f8171be26e3",
   "metadata": {},
   "outputs": [],
   "source": [
    "#Write fasta with all cds \n",
    "write.fasta(sequences=all.cds.host,names=names(all.cds.host),nbchar=80,file.out=\"all.cds.host.fna\")"
   ]
  },
  {
   "cell_type": "markdown",
   "id": "0a81ba13-a4b7-487f-8510-d6197aed5db3",
   "metadata": {},
   "source": [
    "### D. Env-enriched CDS"
   ]
  },
  {
   "cell_type": "code",
   "execution_count": 73,
   "id": "f1721fde-c4c6-4c28-baf0-2bd8bb299f25",
   "metadata": {},
   "outputs": [
    {
     "name": "stderr",
     "output_type": "stream",
     "text": [
      "Warning message in readLines(file):\n",
      "“incomplete final line found on 'rem.cds.env.fna'”\n"
     ]
    }
   ],
   "source": [
    "seqs.rem.cds.env=read.fasta(\"rem.cds.env.fna\")"
   ]
  },
  {
   "cell_type": "code",
   "execution_count": 74,
   "id": "064b383b-39a9-4f73-9e35-8fe26bf0bf13",
   "metadata": {
    "tags": []
   },
   "outputs": [
    {
     "name": "stderr",
     "output_type": "stream",
     "text": [
      "Warning message in readLines(file):\n",
      "“incomplete final line found on 'rem.cds.env.fna'”\n"
     ]
    }
   ],
   "source": [
    "names.rem.env = getSeqNames.rem(\"rem.cds.env.fna\")"
   ]
  },
  {
   "cell_type": "code",
   "execution_count": 75,
   "id": "1180c1d3-8b52-4a19-bbc2-65ab33f02e8b",
   "metadata": {},
   "outputs": [
    {
     "data": {
      "text/html": [
       "<table class=\"dataframe\">\n",
       "<caption>A tibble: 6 × 4</caption>\n",
       "<thead>\n",
       "\t<tr><th scope=col>seqName</th><th scope=col>nuc</th><th scope=col>Protein</th><th scope=col>Accession</th></tr>\n",
       "\t<tr><th scope=col>&lt;chr&gt;</th><th scope=col>&lt;chr&gt;</th><th scope=col>&lt;chr&gt;</th><th scope=col>&lt;chr&gt;</th></tr>\n",
       "</thead>\n",
       "<tbody>\n",
       "\t<tr><td>lcl|NZ_AFHI01000012.1_cds_WP_008898361.1_1</td><td>lcl|NZ_AFHI01000012.1</td><td>WP_008898361.1_1</td><td>WP_008898361.1</td></tr>\n",
       "\t<tr><td>lcl|NZ_AFHI01000012.1_cds_WP_008898362.1_2</td><td>lcl|NZ_AFHI01000012.1</td><td>WP_008898362.1_2</td><td>WP_008898362.1</td></tr>\n",
       "\t<tr><td>lcl|NZ_AFHI01000012.1_cds_WP_008898363.1_3</td><td>lcl|NZ_AFHI01000012.1</td><td>WP_008898363.1_3</td><td>WP_008898363.1</td></tr>\n",
       "\t<tr><td>lcl|NZ_AFHI01000012.1_cds_WP_008898364.1_4</td><td>lcl|NZ_AFHI01000012.1</td><td>WP_008898364.1_4</td><td>WP_008898364.1</td></tr>\n",
       "\t<tr><td>lcl|NZ_AFHI01000012.1_cds_WP_008898365.1_5</td><td>lcl|NZ_AFHI01000012.1</td><td>WP_008898365.1_5</td><td>WP_008898365.1</td></tr>\n",
       "\t<tr><td>lcl|NZ_AFHI01000012.1_cds_WP_008898366.1_6</td><td>lcl|NZ_AFHI01000012.1</td><td>WP_008898366.1_6</td><td>WP_008898366.1</td></tr>\n",
       "</tbody>\n",
       "</table>\n"
      ],
      "text/latex": [
       "A tibble: 6 × 4\n",
       "\\begin{tabular}{llll}\n",
       " seqName & nuc & Protein & Accession\\\\\n",
       " <chr> & <chr> & <chr> & <chr>\\\\\n",
       "\\hline\n",
       "\t lcl\\textbar{}NZ\\_AFHI01000012.1\\_cds\\_WP\\_008898361.1\\_1 & lcl\\textbar{}NZ\\_AFHI01000012.1 & WP\\_008898361.1\\_1 & WP\\_008898361.1\\\\\n",
       "\t lcl\\textbar{}NZ\\_AFHI01000012.1\\_cds\\_WP\\_008898362.1\\_2 & lcl\\textbar{}NZ\\_AFHI01000012.1 & WP\\_008898362.1\\_2 & WP\\_008898362.1\\\\\n",
       "\t lcl\\textbar{}NZ\\_AFHI01000012.1\\_cds\\_WP\\_008898363.1\\_3 & lcl\\textbar{}NZ\\_AFHI01000012.1 & WP\\_008898363.1\\_3 & WP\\_008898363.1\\\\\n",
       "\t lcl\\textbar{}NZ\\_AFHI01000012.1\\_cds\\_WP\\_008898364.1\\_4 & lcl\\textbar{}NZ\\_AFHI01000012.1 & WP\\_008898364.1\\_4 & WP\\_008898364.1\\\\\n",
       "\t lcl\\textbar{}NZ\\_AFHI01000012.1\\_cds\\_WP\\_008898365.1\\_5 & lcl\\textbar{}NZ\\_AFHI01000012.1 & WP\\_008898365.1\\_5 & WP\\_008898365.1\\\\\n",
       "\t lcl\\textbar{}NZ\\_AFHI01000012.1\\_cds\\_WP\\_008898366.1\\_6 & lcl\\textbar{}NZ\\_AFHI01000012.1 & WP\\_008898366.1\\_6 & WP\\_008898366.1\\\\\n",
       "\\end{tabular}\n"
      ],
      "text/markdown": [
       "\n",
       "A tibble: 6 × 4\n",
       "\n",
       "| seqName &lt;chr&gt; | nuc &lt;chr&gt; | Protein &lt;chr&gt; | Accession &lt;chr&gt; |\n",
       "|---|---|---|---|\n",
       "| lcl|NZ_AFHI01000012.1_cds_WP_008898361.1_1 | lcl|NZ_AFHI01000012.1 | WP_008898361.1_1 | WP_008898361.1 |\n",
       "| lcl|NZ_AFHI01000012.1_cds_WP_008898362.1_2 | lcl|NZ_AFHI01000012.1 | WP_008898362.1_2 | WP_008898362.1 |\n",
       "| lcl|NZ_AFHI01000012.1_cds_WP_008898363.1_3 | lcl|NZ_AFHI01000012.1 | WP_008898363.1_3 | WP_008898363.1 |\n",
       "| lcl|NZ_AFHI01000012.1_cds_WP_008898364.1_4 | lcl|NZ_AFHI01000012.1 | WP_008898364.1_4 | WP_008898364.1 |\n",
       "| lcl|NZ_AFHI01000012.1_cds_WP_008898365.1_5 | lcl|NZ_AFHI01000012.1 | WP_008898365.1_5 | WP_008898365.1 |\n",
       "| lcl|NZ_AFHI01000012.1_cds_WP_008898366.1_6 | lcl|NZ_AFHI01000012.1 | WP_008898366.1_6 | WP_008898366.1 |\n",
       "\n"
      ],
      "text/plain": [
       "  seqName                                    nuc                  \n",
       "1 lcl|NZ_AFHI01000012.1_cds_WP_008898361.1_1 lcl|NZ_AFHI01000012.1\n",
       "2 lcl|NZ_AFHI01000012.1_cds_WP_008898362.1_2 lcl|NZ_AFHI01000012.1\n",
       "3 lcl|NZ_AFHI01000012.1_cds_WP_008898363.1_3 lcl|NZ_AFHI01000012.1\n",
       "4 lcl|NZ_AFHI01000012.1_cds_WP_008898364.1_4 lcl|NZ_AFHI01000012.1\n",
       "5 lcl|NZ_AFHI01000012.1_cds_WP_008898365.1_5 lcl|NZ_AFHI01000012.1\n",
       "6 lcl|NZ_AFHI01000012.1_cds_WP_008898366.1_6 lcl|NZ_AFHI01000012.1\n",
       "  Protein          Accession     \n",
       "1 WP_008898361.1_1 WP_008898361.1\n",
       "2 WP_008898362.1_2 WP_008898362.1\n",
       "3 WP_008898363.1_3 WP_008898363.1\n",
       "4 WP_008898364.1_4 WP_008898364.1\n",
       "5 WP_008898365.1_5 WP_008898365.1\n",
       "6 WP_008898366.1_6 WP_008898366.1"
      ]
     },
     "metadata": {},
     "output_type": "display_data"
    }
   ],
   "source": [
    "head(names.rem.env)"
   ]
  },
  {
   "cell_type": "code",
   "execution_count": 76,
   "id": "fcbfc651-c2bb-4d66-a0bd-15579f709702",
   "metadata": {},
   "outputs": [],
   "source": [
    "ToKeep.cds.env = filter(names.rem.env,Accession%in%remaining.cds.env$Accession)"
   ]
  },
  {
   "cell_type": "raw",
   "id": "97f5e58a-b31c-4f69-abc5-8f5adfff73ca",
   "metadata": {},
   "source": [
    "These are obsolete entries removed from NCBI. "
   ]
  },
  {
   "cell_type": "code",
   "execution_count": 77,
   "id": "056ffa3c-0f4c-47a1-90c9-61c5cdc6cdba",
   "metadata": {
    "collapsed": true,
    "jupyter": {
     "outputs_hidden": true
    },
    "tags": []
   },
   "outputs": [
    {
     "data": {
      "text/html": [
       "<table class=\"dataframe\">\n",
       "<caption>A spec_tbl_df: 108 × 13</caption>\n",
       "<thead>\n",
       "\t<tr><th scope=col>Accession</th><th scope=col>Domain</th><th scope=col>Phylum</th><th scope=col>Class</th><th scope=col>Order</th><th scope=col>Family</th><th scope=col>Genus</th><th scope=col>Species</th><th scope=col>logFC</th><th scope=col>logCPM</th><th scope=col>PValue</th><th scope=col>FDR</th><th scope=col>EnrichedIn</th></tr>\n",
       "\t<tr><th scope=col>&lt;chr&gt;</th><th scope=col>&lt;chr&gt;</th><th scope=col>&lt;chr&gt;</th><th scope=col>&lt;chr&gt;</th><th scope=col>&lt;chr&gt;</th><th scope=col>&lt;chr&gt;</th><th scope=col>&lt;chr&gt;</th><th scope=col>&lt;chr&gt;</th><th scope=col>&lt;dbl&gt;</th><th scope=col>&lt;dbl&gt;</th><th scope=col>&lt;dbl&gt;</th><th scope=col>&lt;dbl&gt;</th><th scope=col>&lt;chr&gt;</th></tr>\n",
       "</thead>\n",
       "<tbody>\n",
       "\t<tr><td>WP_013189022.1</td><td>d__Bacteria</td><td>p__Actinobacteriota</td><td>c__Actinomycetia      </td><td>o__Actinomycetales   </td><td>f__Actinomycetaceae   </td><td>g__Mobiluncus       </td><td>s__Mobiluncus curtisii                 </td><td>-1.8878137</td><td>10.65105</td><td>1.808077e-30</td><td>1.484883e-28</td><td>Environmental</td></tr>\n",
       "\t<tr><td>WP_066854468.1</td><td>d__Bacteria</td><td>p__Desulfobacterota</td><td>c__Desulfovibrionia   </td><td>o__Desulfovibrionales</td><td>f__Desulfovibrionaceae</td><td>g__Halodesulfovibrio</td><td>s__Halodesulfovibrio spirochaetisodalis</td><td>-1.3894645</td><td>10.55466</td><td>9.674228e-24</td><td>3.972480e-22</td><td>Environmental</td></tr>\n",
       "\t<tr><td>WP_029284726.1</td><td>d__Bacteria</td><td>p__Firmicutes      </td><td>c__Bacilli            </td><td>o__Bacillales        </td><td>f__Bacillaceae        </td><td>g__Bacillus_P       </td><td>s__Bacillus_P indicus                  </td><td>-1.2757662</td><td>10.48323</td><td>1.792891e-22</td><td>6.425070e-21</td><td>Environmental</td></tr>\n",
       "\t<tr><td>WP_081754523.1</td><td>d__Bacteria</td><td>p__Campylobacterota</td><td>c__Campylobacteria    </td><td>o__Campylobacterales </td><td>f__Arcobacteraceae    </td><td>g__Aliarcobacter    </td><td>s__Aliarcobacter faecis                </td><td>-1.1867007</td><td>10.69226</td><td>3.195786e-19</td><td>8.512019e-18</td><td>Environmental</td></tr>\n",
       "\t<tr><td>WP_076920623.1</td><td>d__Bacteria</td><td>p__Proteobacteria  </td><td>c__Gammaproteobacteria</td><td>o__Enterobacterales  </td><td>f__Alteromonadaceae   </td><td>g__Pseudoalteromonas</td><td>s__Pseudoalteromonas tetraodonis       </td><td>-1.1075225</td><td>10.40328</td><td>9.538149e-13</td><td>1.323922e-11</td><td>Environmental</td></tr>\n",
       "\t<tr><td>WP_076414249.1</td><td>d__Bacteria</td><td>p__Proteobacteria  </td><td>c__Gammaproteobacteria</td><td>o__Burkholderiales   </td><td>f__Burkholderiaceae   </td><td>g__Achromobacter    </td><td>s__Achromobacter xylosoxidans          </td><td>-0.9712485</td><td>10.41003</td><td>1.221440e-12</td><td>1.631343e-11</td><td>Environmental</td></tr>\n",
       "\t<tr><td>WP_074271829.1</td><td>d__Bacteria</td><td>p__Proteobacteria  </td><td>c__Alphaproteobacteria</td><td>o__Rhizobiales       </td><td>f__Xanthobacteraceae  </td><td>g__Bradyrhizobium   </td><td>s__Bradyrhizobium erythrophlei_E       </td><td>-0.8670351</td><td>10.42010</td><td>1.670043e-10</td><td>1.714403e-09</td><td>Environmental</td></tr>\n",
       "\t<tr><td>WP_075492688.1</td><td>d__Bacteria</td><td>p__Campylobacterota</td><td>c__Campylobacteria    </td><td>o__Campylobacterales </td><td>f__Campylobacteraceae </td><td>g__Campylobacter_D  </td><td>s__Campylobacter_D coli                </td><td>-0.8155315</td><td>10.34277</td><td>3.135319e-09</td><td>2.874285e-08</td><td>Environmental</td></tr>\n",
       "\t<tr><td>WP_087865578.1</td><td>d__Bacteria</td><td>p__Proteobacteria  </td><td>c__Gammaproteobacteria</td><td>o__Burkholderiales   </td><td>f__Burkholderiaceae   </td><td>g__Comamonas        </td><td>s__Comamonas thiooxydans               </td><td>-0.7920272</td><td>10.35090</td><td>4.594182e-09</td><td>4.134764e-08</td><td>Environmental</td></tr>\n",
       "\t<tr><td>WP_100368450.1</td><td>d__Bacteria</td><td>p__Proteobacteria  </td><td>c__Alphaproteobacteria</td><td>o__Rhodobacterales   </td><td>f__Rhodobacteraceae   </td><td>g__Yoonia           </td><td>s__Yoonia maricola                     </td><td>-0.7034777</td><td>10.31950</td><td>1.499746e-07</td><td>1.115472e-06</td><td>Environmental</td></tr>\n",
       "\t<tr><td>WP_108843652.1</td><td>d__Bacteria</td><td>p__Proteobacteria  </td><td>c__Gammaproteobacteria</td><td>o__Pseudomonadales   </td><td>f__Halomonadaceae     </td><td>g__Kushneria        </td><td>s__Kushneria phyllosphaerae            </td><td>-0.7553794</td><td>10.32534</td><td>1.717146e-07</td><td>1.267601e-06</td><td>Environmental</td></tr>\n",
       "\t<tr><td>WP_116162577.1</td><td>d__Bacteria</td><td>p__Proteobacteria  </td><td>c__Gammaproteobacteria</td><td>o__Enterobacterales  </td><td>f__Enterobacteriaceae </td><td>g__Pectobacterium   </td><td>s__Pectobacterium aquaticum            </td><td>-0.6668266</td><td>10.30043</td><td>7.269778e-07</td><td>4.792218e-06</td><td>Environmental</td></tr>\n",
       "\t<tr><td>WP_096663659.1</td><td>d__Bacteria</td><td>p__Proteobacteria  </td><td>c__Gammaproteobacteria</td><td>o__Burkholderiales   </td><td>f__Burkholderiaceae   </td><td>g__Polaromonas      </td><td>s__Polaromonas sp002379085             </td><td>-0.6666650</td><td>10.31514</td><td>7.365130e-07</td><td>4.838890e-06</td><td>Environmental</td></tr>\n",
       "\t<tr><td>WP_058719080.1</td><td>d__Bacteria</td><td>p__Proteobacteria  </td><td>c__Gammaproteobacteria</td><td>o__Burkholderiales   </td><td>f__Burkholderiaceae   </td><td>g__Paucibacter_A    </td><td>s__Paucibacter_A sp001477625           </td><td>-0.6287871</td><td>10.34287</td><td>8.122293e-07</td><td>5.291758e-06</td><td>Environmental</td></tr>\n",
       "\t<tr><td>WP_091246308.1</td><td>d__Bacteria</td><td>p__Proteobacteria  </td><td>c__Gammaproteobacteria</td><td>o__Xanthomonadales   </td><td>f__Xanthomonadaceae   </td><td>g__Aquimonas        </td><td>s__Aquimonas voraii                    </td><td>-0.6786236</td><td>10.28927</td><td>1.041934e-06</td><td>6.711278e-06</td><td>Environmental</td></tr>\n",
       "\t<tr><td>WP_097183358.1</td><td>d__Bacteria</td><td>p__Actinobacteriota</td><td>c__Actinomycetia      </td><td>o__Mycobacteriales   </td><td>f__Geodermatophilaceae</td><td>g__Blastococcus     </td><td>s__Blastococcus sp900230285            </td><td>-0.6382549</td><td>10.38970</td><td>1.094159e-06</td><td>7.001905e-06</td><td>Environmental</td></tr>\n",
       "\t<tr><td>WP_104048963.1</td><td>d__Bacteria</td><td>p__Actinobacteriota</td><td>c__Actinomycetia      </td><td>o__Actinomycetales   </td><td>f__Micrococcaceae     </td><td>g__Arthrobacter_D   </td><td>s__Arthrobacter_D sp002929375          </td><td>-0.6383960</td><td>10.30609</td><td>1.134550e-06</td><td>7.236884e-06</td><td>Environmental</td></tr>\n",
       "\t<tr><td>WP_062782076.1</td><td>d__Bacteria</td><td>p__Proteobacteria  </td><td>c__Gammaproteobacteria</td><td>o__Pseudomonadales   </td><td>f__Oleiphilaceae      </td><td>g__Marinobacter     </td><td>s__Marinobacter adhaerens              </td><td>-0.6728941</td><td>10.29375</td><td>1.154964e-06</td><td>7.319725e-06</td><td>Environmental</td></tr>\n",
       "\t<tr><td>WP_068142073.1</td><td>d__Bacteria</td><td>p__Planctomycetota </td><td>c__Planctomycetes     </td><td>o__Pirellulales      </td><td>f__Pirellulaceae      </td><td>g__Roseimaritima    </td><td>s__Roseimaritima ulvae                 </td><td>-0.6325032</td><td>10.30032</td><td>1.291879e-06</td><td>8.161198e-06</td><td>Environmental</td></tr>\n",
       "\t<tr><td>WP_056662091.1</td><td>d__Bacteria</td><td>p__Proteobacteria  </td><td>c__Gammaproteobacteria</td><td>o__Burkholderiales   </td><td>f__Burkholderiaceae   </td><td>g__Acidovorax_A     </td><td>s__Acidovorax_A sp001424265            </td><td>-0.6255741</td><td>10.33188</td><td>2.160258e-06</td><td>1.322319e-05</td><td>Environmental</td></tr>\n",
       "\t<tr><td>WP_072893264.1</td><td>d__Bacteria</td><td>p__Proteobacteria  </td><td>c__Gammaproteobacteria</td><td>o__Nevskiales        </td><td>f__Nevskiaceae        </td><td>g__Hydrocarboniphaga</td><td>s__Hydrocarboniphaga daqingensis       </td><td>-0.6117107</td><td>10.30997</td><td>2.194154e-06</td><td>1.338909e-05</td><td>Environmental</td></tr>\n",
       "\t<tr><td>WP_030441058.1</td><td>d__Bacteria</td><td>p__Actinobacteriota</td><td>c__Actinomycetia      </td><td>o__Mycobacteriales   </td><td>f__Micromonosporaceae </td><td>g__Actinoplanes     </td><td>s__Actinoplanes subtropicus            </td><td>-0.6321991</td><td>10.32587</td><td>2.548416e-06</td><td>1.540775e-05</td><td>Environmental</td></tr>\n",
       "\t<tr><td>WP_101219479.1</td><td>d__Bacteria</td><td>p__Firmicutes      </td><td>c__Bacilli            </td><td>o__Bacillales        </td><td>f__Bacillaceae_G      </td><td>g__Bacillus_A       </td><td>s__Bacillus_A bombysepticus            </td><td>-0.6323970</td><td>10.29155</td><td>3.610594e-06</td><td>2.156509e-05</td><td>Environmental</td></tr>\n",
       "\t<tr><td>WP_058735550.1</td><td>d__Bacteria</td><td>p__Proteobacteria  </td><td>c__Alphaproteobacteria</td><td>o__Sphingomonadales  </td><td>f__Sphingomonadaceae  </td><td>g__Novosphingobium  </td><td>s__Novosphingobium fluoreni            </td><td>-0.6258388</td><td>10.35576</td><td>4.840792e-06</td><td>2.822841e-05</td><td>Environmental</td></tr>\n",
       "\t<tr><td>WP_050524673.1</td><td>d__Bacteria</td><td>p__Proteobacteria  </td><td>c__Alphaproteobacteria</td><td>o__Rhodobacterales   </td><td>f__Rhodobacteraceae   </td><td>g__Pseudorhodobacter</td><td>s__Pseudorhodobacter wandonensis       </td><td>-0.6066935</td><td>10.30891</td><td>5.722187e-06</td><td>3.317185e-05</td><td>Environmental</td></tr>\n",
       "\t<tr><td>WP_050958964.1</td><td>d__Bacteria</td><td>p__Proteobacteria  </td><td>c__Gammaproteobacteria</td><td>o__Enterobacterales  </td><td>f__Enterobacteriaceae </td><td>g__Escherichia      </td><td>s__Escherichia flexneri                </td><td>-0.5878144</td><td>10.27977</td><td>5.909574e-06</td><td>3.415768e-05</td><td>Environmental</td></tr>\n",
       "\t<tr><td>WP_076071918.1</td><td>d__Bacteria</td><td>p__Proteobacteria  </td><td>c__Alphaproteobacteria</td><td>o__Sphingomonadales  </td><td>f__Sphingomonadaceae  </td><td>g__Sphingomonas_G   </td><td>s__Sphingomonas_G montana              </td><td>-0.6244389</td><td>10.29808</td><td>6.093779e-06</td><td>3.511941e-05</td><td>Environmental</td></tr>\n",
       "\t<tr><td>WP_084603204.1</td><td>d__Bacteria</td><td>p__Proteobacteria  </td><td>c__Alphaproteobacteria</td><td>o__Rhizobiales       </td><td>f__Devosiaceae        </td><td>g__Devosia_A        </td><td>s__Devosia_A enhydra                   </td><td>-0.6445150</td><td>10.31467</td><td>6.314344e-06</td><td>3.617899e-05</td><td>Environmental</td></tr>\n",
       "\t<tr><td>WP_092947737.1</td><td>d__Bacteria</td><td>p__Proteobacteria  </td><td>c__Gammaproteobacteria</td><td>o__Burkholderiales   </td><td>f__Burkholderiaceae   </td><td>g__Roseateles       </td><td>s__Roseateles sp900109745              </td><td>-0.6386378</td><td>10.46671</td><td>6.617526e-06</td><td>3.780621e-05</td><td>Environmental</td></tr>\n",
       "\t<tr><td>WP_066459944.1</td><td>d__Bacteria</td><td>p__Proteobacteria  </td><td>c__Gammaproteobacteria</td><td>o__Burkholderiales   </td><td>f__Burkholderiaceae   </td><td>g__Castellaniella   </td><td>s__Castellaniella caeni                </td><td>-0.6018172</td><td>10.31628</td><td>7.430057e-06</td><td>4.208231e-05</td><td>Environmental</td></tr>\n",
       "\t<tr><td>⋮</td><td>⋮</td><td>⋮</td><td>⋮</td><td>⋮</td><td>⋮</td><td>⋮</td><td>⋮</td><td>⋮</td><td>⋮</td><td>⋮</td><td>⋮</td><td>⋮</td></tr>\n",
       "\t<tr><td>WP_103465192.1</td><td>d__Bacteria</td><td>p__Actinobacteriota</td><td>c__Actinomycetia      </td><td>o__Actinomycetales      </td><td>f__Micrococcaceae        </td><td>g__Arthrobacter_A     </td><td>s__Arthrobacter_A glacialis          </td><td>-0.4641683</td><td>10.26000</td><td>0.0005481431</td><td>0.002160780</td><td>Environmental</td></tr>\n",
       "\t<tr><td>WP_085298139.1</td><td>d__Bacteria</td><td>p__Proteobacteria  </td><td>c__Gammaproteobacteria</td><td>o__Enterobacterales     </td><td>f__Alteromonadaceae      </td><td>g__Cognaticolwellia   </td><td>s__Cognaticolwellia mytili           </td><td>-0.4917948</td><td>10.26192</td><td>0.0005578889</td><td>0.002186081</td><td>Environmental</td></tr>\n",
       "\t<tr><td>WP_014159471.1</td><td>d__Bacteria</td><td>p__Proteobacteria  </td><td>c__Gammaproteobacteria</td><td>o__Xanthomonadales      </td><td>f__Xanthomonadaceae      </td><td>g__Pseudoxanthomonas_A</td><td>s__Pseudoxanthomonas_A spadix_A      </td><td>-0.4563424</td><td>10.27802</td><td>0.0005916686</td><td>0.002291117</td><td>Environmental</td></tr>\n",
       "\t<tr><td>WP_022702337.1</td><td>d__Bacteria</td><td>p__Proteobacteria  </td><td>c__Alphaproteobacteria</td><td>o__Rhodobacterales      </td><td>f__Rhodobacteraceae      </td><td>g__Pseudorhodobacter  </td><td>s__Pseudorhodobacter ferrugineus     </td><td>-0.4660041</td><td>10.27485</td><td>0.0006013619</td><td>0.002324087</td><td>Environmental</td></tr>\n",
       "\t<tr><td>WP_069386616.1</td><td>d__Bacteria</td><td>p__Actinobacteriota</td><td>c__Actinomycetia      </td><td>o__Actinomycetales      </td><td>f__Cellulomonadaceae     </td><td>g__Cellulosimicrobium </td><td>s__Cellulosimicrobium funkei         </td><td>-0.4834533</td><td>10.28693</td><td>0.0006113036</td><td>0.002348693</td><td>Environmental</td></tr>\n",
       "\t<tr><td>WP_089216665.1</td><td>d__Bacteria</td><td>p__Proteobacteria  </td><td>c__Alphaproteobacteria</td><td>o__Sphingomonadales     </td><td>f__Sphingomonadaceae     </td><td>g__Sphingopyxis       </td><td>s__Sphingopyxis indica               </td><td>-0.4655022</td><td>10.27620</td><td>0.0006291872</td><td>0.002412700</td><td>Environmental</td></tr>\n",
       "\t<tr><td>WP_097585867.1</td><td>d__Bacteria</td><td>p__Proteobacteria  </td><td>c__Alphaproteobacteria</td><td>o__Rhizobiales          </td><td>f__Rhizobiaceae          </td><td>g__Rhizobium          </td><td>s__Rhizobium esperanzae              </td><td>-0.4848707</td><td>10.39119</td><td>0.0006570687</td><td>0.002504995</td><td>Environmental</td></tr>\n",
       "\t<tr><td>WP_105444836.1</td><td>d__Bacteria</td><td>p__Firmicutes      </td><td>c__Bacilli            </td><td>o__Paenibacillales      </td><td>f__Paenibacillaceae      </td><td>g__Paenibacillus      </td><td>s__Paenibacillus cellulositrophicus_A</td><td>-0.4623515</td><td>10.27163</td><td>0.0006901078</td><td>0.002615774</td><td>Environmental</td></tr>\n",
       "\t<tr><td>WP_021275611.1</td><td>d__Bacteria</td><td>p__Bdellovibrionota</td><td>c__Bacteriovoracia    </td><td>o__Bacteriovoracales    </td><td>f__Bacteriovoracaceae    </td><td>g__DB6-IX             </td><td>s__DB6-IX sp000447795                </td><td>-0.4491468</td><td>10.27350</td><td>0.0007782331</td><td>0.002932882</td><td>Environmental</td></tr>\n",
       "\t<tr><td>WP_020146777.1</td><td>d__Bacteria</td><td>p__Proteobacteria  </td><td>c__Gammaproteobacteria</td><td>o__Ectothiorhodospirales</td><td>f__Thioalkalivibrionaceae</td><td>g__Thioalkalivibrio   </td><td>s__Thioalkalivibrio sp000378305      </td><td>-0.4587844</td><td>10.26950</td><td>0.0007913910</td><td>0.002976778</td><td>Environmental</td></tr>\n",
       "\t<tr><td>WP_046178142.1</td><td>d__Bacteria</td><td>p__Firmicutes      </td><td>c__Bacilli            </td><td>o__Bacillales_B         </td><td>f__Domibacillaceae       </td><td>g__Domibacillus       </td><td>s__Domibacillus tundrae              </td><td>-0.4892734</td><td>10.28425</td><td>0.0008291984</td><td>0.003089509</td><td>Environmental</td></tr>\n",
       "\t<tr><td>WP_106315867.1</td><td>d__Bacteria</td><td>p__Actinobacteriota</td><td>c__Actinomycetia      </td><td>o__Mycobacteriales      </td><td>f__Micromonosporaceae    </td><td>g__Actinoplanes       </td><td>s__Actinoplanes italicus             </td><td>-0.4490601</td><td>10.25888</td><td>0.0009381476</td><td>0.003449793</td><td>Environmental</td></tr>\n",
       "\t<tr><td>WP_089406056.1</td><td>d__Bacteria</td><td>p__Actinobacteriota</td><td>c__Actinomycetia      </td><td>o__Mycobacteriales      </td><td>f__Geodermatophilaceae   </td><td>g__Geodermatophilus   </td><td>s__Geodermatophilus saharensis       </td><td>-0.4609608</td><td>10.32331</td><td>0.0009996913</td><td>0.003648873</td><td>Environmental</td></tr>\n",
       "\t<tr><td>WP_076305305.1</td><td>d__Bacteria</td><td>p__Firmicutes      </td><td>c__Bacilli            </td><td>o__Paenibacillales      </td><td>f__Paenibacillaceae      </td><td>g__Paenibacillus      </td><td>s__Paenibacillus odorifer            </td><td>-0.4432402</td><td>10.30442</td><td>0.0010951890</td><td>0.003896422</td><td>Environmental</td></tr>\n",
       "\t<tr><td>WP_091817141.1</td><td>d__Bacteria</td><td>p__Proteobacteria  </td><td>c__Gammaproteobacteria</td><td>o__Pseudomonadales      </td><td>f__Oleiphilaceae         </td><td>g__Marinobacter       </td><td>s__Marinobacter mobilis              </td><td>-0.4363915</td><td>10.25432</td><td>0.0013830207</td><td>0.004816138</td><td>Environmental</td></tr>\n",
       "\t<tr><td>WP_091904930.1</td><td>d__Bacteria</td><td>p__Proteobacteria  </td><td>c__Gammaproteobacteria</td><td>o__Burkholderiales      </td><td>f__Burkholderiaceae      </td><td>g__Robbsia            </td><td>s__Robbsia sp900095735               </td><td>-0.5017227</td><td>10.58476</td><td>0.0014121432</td><td>0.004908879</td><td>Environmental</td></tr>\n",
       "\t<tr><td>WP_007328637.1</td><td>d__Bacteria</td><td>p__Planctomycetota </td><td>c__Planctomycetes     </td><td>o__Pirellulales         </td><td>f__Pirellulaceae         </td><td>g__Rhodopirellula     </td><td>s__Rhodopirellula baltica            </td><td>-0.4548978</td><td>10.26475</td><td>0.0014974412</td><td>0.005159889</td><td>Environmental</td></tr>\n",
       "\t<tr><td>WP_031375094.1</td><td>d__Bacteria</td><td>p__Proteobacteria  </td><td>c__Gammaproteobacteria</td><td>o__Enterobacterales     </td><td>f__Enterobacteriaceae    </td><td>g__Pantoea            </td><td>s__Pantoea brenneri                  </td><td>-0.4237073</td><td>10.25166</td><td>0.0015805519</td><td>0.005408451</td><td>Environmental</td></tr>\n",
       "\t<tr><td>WP_067378485.1</td><td>d__Bacteria</td><td>p__Proteobacteria  </td><td>c__Gammaproteobacteria</td><td>o__Pseudomonadales      </td><td>f__Nitrincolaceae        </td><td>g__Marinobacterium_A  </td><td>s__Marinobacterium_A aestuarii       </td><td>-0.4329521</td><td>10.26584</td><td>0.0016777650</td><td>0.005711355</td><td>Environmental</td></tr>\n",
       "\t<tr><td>WP_078003863.1</td><td>d__Bacteria</td><td>p__Proteobacteria  </td><td>c__Gammaproteobacteria</td><td>o__Enterobacterales     </td><td>f__Enterobacteriaceae    </td><td>g__Izhakiella         </td><td>s__Izhakiella australiensis          </td><td>-0.4243610</td><td>10.29587</td><td>0.0018380024</td><td>0.006203258</td><td>Environmental</td></tr>\n",
       "\t<tr><td>WP_078552967.1</td><td>d__Bacteria</td><td>p__Firmicutes      </td><td>c__Bacilli            </td><td>o__Bacillales_H         </td><td>f__Bacillaceae_F         </td><td>g__Bacillus_AO        </td><td>s__Bacillus_AO sp002019795           </td><td>-0.4204989</td><td>10.26323</td><td>0.0019126260</td><td>0.006433082</td><td>Environmental</td></tr>\n",
       "\t<tr><td>WP_102394872.1</td><td>d__Bacteria</td><td>p__Proteobacteria  </td><td>c__Gammaproteobacteria</td><td>o__Enterobacterales     </td><td>f__Vibrionaceae          </td><td>g__Enterovibrio       </td><td>s__Enterovibrio norvegicus           </td><td>-0.4127436</td><td>10.25876</td><td>0.0019484189</td><td>0.006520091</td><td>Environmental</td></tr>\n",
       "\t<tr><td>WP_110876182.1</td><td>d__Bacteria</td><td>p__Proteobacteria  </td><td>c__Gammaproteobacteria</td><td>o__Enterobacterales     </td><td>f__Enterobacteriaceae    </td><td>g__Franconibacter     </td><td>s__Franconibacter helveticus         </td><td>-0.4303555</td><td>10.30281</td><td>0.0019710737</td><td>0.006584722</td><td>Environmental</td></tr>\n",
       "\t<tr><td>WP_085526025.1</td><td>d__Bacteria</td><td>p__Proteobacteria  </td><td>c__Alphaproteobacteria</td><td>o__Rhodobacterales      </td><td>f__Rhodobacteraceae      </td><td>g__Maritimibacter_A   </td><td>s__Maritimibacter_A sp900177545      </td><td>-0.4048295</td><td>10.25423</td><td>0.0019848210</td><td>0.006619428</td><td>Environmental</td></tr>\n",
       "\t<tr><td>WP_066585366.1</td><td>d__Bacteria</td><td>p__Actinobacteriota</td><td>c__Actinomycetia      </td><td>o__Actinomycetales      </td><td>f__Cellulomonadaceae     </td><td>g__Cellulomonas       </td><td>s__Cellulomonas timonensis           </td><td>-0.4162133</td><td>10.26709</td><td>0.0020458167</td><td>0.006799839</td><td>Environmental</td></tr>\n",
       "\t<tr><td>WP_036303480.1</td><td>d__Bacteria</td><td>p__Proteobacteria  </td><td>c__Gammaproteobacteria</td><td>o__Burkholderiales      </td><td>f__Methylophilaceae      </td><td>g__Methylotenera      </td><td>s__Methylotenera sp000744605         </td><td>-0.4169131</td><td>10.28983</td><td>0.0023703503</td><td>0.007747853</td><td>Environmental</td></tr>\n",
       "\t<tr><td>WP_056029396.1</td><td>d__Bacteria</td><td>p__Proteobacteria  </td><td>c__Alphaproteobacteria</td><td>o__Rhodobacterales      </td><td>f__Rhodobacteraceae      </td><td>g__Loktanella         </td><td>s__Loktanella sp001420005            </td><td>-0.4037710</td><td>10.25714</td><td>0.0024797432</td><td>0.008025573</td><td>Environmental</td></tr>\n",
       "\t<tr><td>WP_084593206.1</td><td>d__Bacteria</td><td>p__Campylobacterota</td><td>c__Campylobacteria    </td><td>o__Campylobacterales    </td><td>f__Arcobacteraceae       </td><td>g__Halarcobacter      </td><td>s__Halarcobacter anaerophilus        </td><td>-0.4136162</td><td>10.25350</td><td>0.0025272803</td><td>0.008152650</td><td>Environmental</td></tr>\n",
       "\t<tr><td>WP_105618991.1</td><td>d__Bacteria</td><td>p__Firmicutes_A    </td><td>c__Clostridia         </td><td>o__Lachnospirales       </td><td>f__Vallitaleaceae_A      </td><td>g__Vallitalea_A       </td><td>s__Vallitalea_A okinawensis          </td><td>-0.4038487</td><td>10.27404</td><td>0.0025611381</td><td>0.008248371</td><td>Environmental</td></tr>\n",
       "\t<tr><td>WP_010286946.1</td><td>d__Bacteria</td><td>p__Firmicutes      </td><td>c__Bacilli            </td><td>o__Bacillales_A         </td><td>f__Planococcaceae        </td><td>g__Kurthia            </td><td>s__Kurthia massiliensis              </td><td>-0.4195967</td><td>10.24752</td><td>0.0029305440</td><td>0.009346444</td><td>Environmental</td></tr>\n",
       "</tbody>\n",
       "</table>\n"
      ],
      "text/latex": [
       "A spec\\_tbl\\_df: 108 × 13\n",
       "\\begin{tabular}{lllllllllllll}\n",
       " Accession & Domain & Phylum & Class & Order & Family & Genus & Species & logFC & logCPM & PValue & FDR & EnrichedIn\\\\\n",
       " <chr> & <chr> & <chr> & <chr> & <chr> & <chr> & <chr> & <chr> & <dbl> & <dbl> & <dbl> & <dbl> & <chr>\\\\\n",
       "\\hline\n",
       "\t WP\\_013189022.1 & d\\_\\_Bacteria & p\\_\\_Actinobacteriota & c\\_\\_Actinomycetia       & o\\_\\_Actinomycetales    & f\\_\\_Actinomycetaceae    & g\\_\\_Mobiluncus        & s\\_\\_Mobiluncus curtisii                  & -1.8878137 & 10.65105 & 1.808077e-30 & 1.484883e-28 & Environmental\\\\\n",
       "\t WP\\_066854468.1 & d\\_\\_Bacteria & p\\_\\_Desulfobacterota & c\\_\\_Desulfovibrionia    & o\\_\\_Desulfovibrionales & f\\_\\_Desulfovibrionaceae & g\\_\\_Halodesulfovibrio & s\\_\\_Halodesulfovibrio spirochaetisodalis & -1.3894645 & 10.55466 & 9.674228e-24 & 3.972480e-22 & Environmental\\\\\n",
       "\t WP\\_029284726.1 & d\\_\\_Bacteria & p\\_\\_Firmicutes       & c\\_\\_Bacilli             & o\\_\\_Bacillales         & f\\_\\_Bacillaceae         & g\\_\\_Bacillus\\_P        & s\\_\\_Bacillus\\_P indicus                   & -1.2757662 & 10.48323 & 1.792891e-22 & 6.425070e-21 & Environmental\\\\\n",
       "\t WP\\_081754523.1 & d\\_\\_Bacteria & p\\_\\_Campylobacterota & c\\_\\_Campylobacteria     & o\\_\\_Campylobacterales  & f\\_\\_Arcobacteraceae     & g\\_\\_Aliarcobacter     & s\\_\\_Aliarcobacter faecis                 & -1.1867007 & 10.69226 & 3.195786e-19 & 8.512019e-18 & Environmental\\\\\n",
       "\t WP\\_076920623.1 & d\\_\\_Bacteria & p\\_\\_Proteobacteria   & c\\_\\_Gammaproteobacteria & o\\_\\_Enterobacterales   & f\\_\\_Alteromonadaceae    & g\\_\\_Pseudoalteromonas & s\\_\\_Pseudoalteromonas tetraodonis        & -1.1075225 & 10.40328 & 9.538149e-13 & 1.323922e-11 & Environmental\\\\\n",
       "\t WP\\_076414249.1 & d\\_\\_Bacteria & p\\_\\_Proteobacteria   & c\\_\\_Gammaproteobacteria & o\\_\\_Burkholderiales    & f\\_\\_Burkholderiaceae    & g\\_\\_Achromobacter     & s\\_\\_Achromobacter xylosoxidans           & -0.9712485 & 10.41003 & 1.221440e-12 & 1.631343e-11 & Environmental\\\\\n",
       "\t WP\\_074271829.1 & d\\_\\_Bacteria & p\\_\\_Proteobacteria   & c\\_\\_Alphaproteobacteria & o\\_\\_Rhizobiales        & f\\_\\_Xanthobacteraceae   & g\\_\\_Bradyrhizobium    & s\\_\\_Bradyrhizobium erythrophlei\\_E        & -0.8670351 & 10.42010 & 1.670043e-10 & 1.714403e-09 & Environmental\\\\\n",
       "\t WP\\_075492688.1 & d\\_\\_Bacteria & p\\_\\_Campylobacterota & c\\_\\_Campylobacteria     & o\\_\\_Campylobacterales  & f\\_\\_Campylobacteraceae  & g\\_\\_Campylobacter\\_D   & s\\_\\_Campylobacter\\_D coli                 & -0.8155315 & 10.34277 & 3.135319e-09 & 2.874285e-08 & Environmental\\\\\n",
       "\t WP\\_087865578.1 & d\\_\\_Bacteria & p\\_\\_Proteobacteria   & c\\_\\_Gammaproteobacteria & o\\_\\_Burkholderiales    & f\\_\\_Burkholderiaceae    & g\\_\\_Comamonas         & s\\_\\_Comamonas thiooxydans                & -0.7920272 & 10.35090 & 4.594182e-09 & 4.134764e-08 & Environmental\\\\\n",
       "\t WP\\_100368450.1 & d\\_\\_Bacteria & p\\_\\_Proteobacteria   & c\\_\\_Alphaproteobacteria & o\\_\\_Rhodobacterales    & f\\_\\_Rhodobacteraceae    & g\\_\\_Yoonia            & s\\_\\_Yoonia maricola                      & -0.7034777 & 10.31950 & 1.499746e-07 & 1.115472e-06 & Environmental\\\\\n",
       "\t WP\\_108843652.1 & d\\_\\_Bacteria & p\\_\\_Proteobacteria   & c\\_\\_Gammaproteobacteria & o\\_\\_Pseudomonadales    & f\\_\\_Halomonadaceae      & g\\_\\_Kushneria         & s\\_\\_Kushneria phyllosphaerae             & -0.7553794 & 10.32534 & 1.717146e-07 & 1.267601e-06 & Environmental\\\\\n",
       "\t WP\\_116162577.1 & d\\_\\_Bacteria & p\\_\\_Proteobacteria   & c\\_\\_Gammaproteobacteria & o\\_\\_Enterobacterales   & f\\_\\_Enterobacteriaceae  & g\\_\\_Pectobacterium    & s\\_\\_Pectobacterium aquaticum             & -0.6668266 & 10.30043 & 7.269778e-07 & 4.792218e-06 & Environmental\\\\\n",
       "\t WP\\_096663659.1 & d\\_\\_Bacteria & p\\_\\_Proteobacteria   & c\\_\\_Gammaproteobacteria & o\\_\\_Burkholderiales    & f\\_\\_Burkholderiaceae    & g\\_\\_Polaromonas       & s\\_\\_Polaromonas sp002379085              & -0.6666650 & 10.31514 & 7.365130e-07 & 4.838890e-06 & Environmental\\\\\n",
       "\t WP\\_058719080.1 & d\\_\\_Bacteria & p\\_\\_Proteobacteria   & c\\_\\_Gammaproteobacteria & o\\_\\_Burkholderiales    & f\\_\\_Burkholderiaceae    & g\\_\\_Paucibacter\\_A     & s\\_\\_Paucibacter\\_A sp001477625            & -0.6287871 & 10.34287 & 8.122293e-07 & 5.291758e-06 & Environmental\\\\\n",
       "\t WP\\_091246308.1 & d\\_\\_Bacteria & p\\_\\_Proteobacteria   & c\\_\\_Gammaproteobacteria & o\\_\\_Xanthomonadales    & f\\_\\_Xanthomonadaceae    & g\\_\\_Aquimonas         & s\\_\\_Aquimonas voraii                     & -0.6786236 & 10.28927 & 1.041934e-06 & 6.711278e-06 & Environmental\\\\\n",
       "\t WP\\_097183358.1 & d\\_\\_Bacteria & p\\_\\_Actinobacteriota & c\\_\\_Actinomycetia       & o\\_\\_Mycobacteriales    & f\\_\\_Geodermatophilaceae & g\\_\\_Blastococcus      & s\\_\\_Blastococcus sp900230285             & -0.6382549 & 10.38970 & 1.094159e-06 & 7.001905e-06 & Environmental\\\\\n",
       "\t WP\\_104048963.1 & d\\_\\_Bacteria & p\\_\\_Actinobacteriota & c\\_\\_Actinomycetia       & o\\_\\_Actinomycetales    & f\\_\\_Micrococcaceae      & g\\_\\_Arthrobacter\\_D    & s\\_\\_Arthrobacter\\_D sp002929375           & -0.6383960 & 10.30609 & 1.134550e-06 & 7.236884e-06 & Environmental\\\\\n",
       "\t WP\\_062782076.1 & d\\_\\_Bacteria & p\\_\\_Proteobacteria   & c\\_\\_Gammaproteobacteria & o\\_\\_Pseudomonadales    & f\\_\\_Oleiphilaceae       & g\\_\\_Marinobacter      & s\\_\\_Marinobacter adhaerens               & -0.6728941 & 10.29375 & 1.154964e-06 & 7.319725e-06 & Environmental\\\\\n",
       "\t WP\\_068142073.1 & d\\_\\_Bacteria & p\\_\\_Planctomycetota  & c\\_\\_Planctomycetes      & o\\_\\_Pirellulales       & f\\_\\_Pirellulaceae       & g\\_\\_Roseimaritima     & s\\_\\_Roseimaritima ulvae                  & -0.6325032 & 10.30032 & 1.291879e-06 & 8.161198e-06 & Environmental\\\\\n",
       "\t WP\\_056662091.1 & d\\_\\_Bacteria & p\\_\\_Proteobacteria   & c\\_\\_Gammaproteobacteria & o\\_\\_Burkholderiales    & f\\_\\_Burkholderiaceae    & g\\_\\_Acidovorax\\_A      & s\\_\\_Acidovorax\\_A sp001424265             & -0.6255741 & 10.33188 & 2.160258e-06 & 1.322319e-05 & Environmental\\\\\n",
       "\t WP\\_072893264.1 & d\\_\\_Bacteria & p\\_\\_Proteobacteria   & c\\_\\_Gammaproteobacteria & o\\_\\_Nevskiales         & f\\_\\_Nevskiaceae         & g\\_\\_Hydrocarboniphaga & s\\_\\_Hydrocarboniphaga daqingensis        & -0.6117107 & 10.30997 & 2.194154e-06 & 1.338909e-05 & Environmental\\\\\n",
       "\t WP\\_030441058.1 & d\\_\\_Bacteria & p\\_\\_Actinobacteriota & c\\_\\_Actinomycetia       & o\\_\\_Mycobacteriales    & f\\_\\_Micromonosporaceae  & g\\_\\_Actinoplanes      & s\\_\\_Actinoplanes subtropicus             & -0.6321991 & 10.32587 & 2.548416e-06 & 1.540775e-05 & Environmental\\\\\n",
       "\t WP\\_101219479.1 & d\\_\\_Bacteria & p\\_\\_Firmicutes       & c\\_\\_Bacilli             & o\\_\\_Bacillales         & f\\_\\_Bacillaceae\\_G       & g\\_\\_Bacillus\\_A        & s\\_\\_Bacillus\\_A bombysepticus             & -0.6323970 & 10.29155 & 3.610594e-06 & 2.156509e-05 & Environmental\\\\\n",
       "\t WP\\_058735550.1 & d\\_\\_Bacteria & p\\_\\_Proteobacteria   & c\\_\\_Alphaproteobacteria & o\\_\\_Sphingomonadales   & f\\_\\_Sphingomonadaceae   & g\\_\\_Novosphingobium   & s\\_\\_Novosphingobium fluoreni             & -0.6258388 & 10.35576 & 4.840792e-06 & 2.822841e-05 & Environmental\\\\\n",
       "\t WP\\_050524673.1 & d\\_\\_Bacteria & p\\_\\_Proteobacteria   & c\\_\\_Alphaproteobacteria & o\\_\\_Rhodobacterales    & f\\_\\_Rhodobacteraceae    & g\\_\\_Pseudorhodobacter & s\\_\\_Pseudorhodobacter wandonensis        & -0.6066935 & 10.30891 & 5.722187e-06 & 3.317185e-05 & Environmental\\\\\n",
       "\t WP\\_050958964.1 & d\\_\\_Bacteria & p\\_\\_Proteobacteria   & c\\_\\_Gammaproteobacteria & o\\_\\_Enterobacterales   & f\\_\\_Enterobacteriaceae  & g\\_\\_Escherichia       & s\\_\\_Escherichia flexneri                 & -0.5878144 & 10.27977 & 5.909574e-06 & 3.415768e-05 & Environmental\\\\\n",
       "\t WP\\_076071918.1 & d\\_\\_Bacteria & p\\_\\_Proteobacteria   & c\\_\\_Alphaproteobacteria & o\\_\\_Sphingomonadales   & f\\_\\_Sphingomonadaceae   & g\\_\\_Sphingomonas\\_G    & s\\_\\_Sphingomonas\\_G montana               & -0.6244389 & 10.29808 & 6.093779e-06 & 3.511941e-05 & Environmental\\\\\n",
       "\t WP\\_084603204.1 & d\\_\\_Bacteria & p\\_\\_Proteobacteria   & c\\_\\_Alphaproteobacteria & o\\_\\_Rhizobiales        & f\\_\\_Devosiaceae         & g\\_\\_Devosia\\_A         & s\\_\\_Devosia\\_A enhydra                    & -0.6445150 & 10.31467 & 6.314344e-06 & 3.617899e-05 & Environmental\\\\\n",
       "\t WP\\_092947737.1 & d\\_\\_Bacteria & p\\_\\_Proteobacteria   & c\\_\\_Gammaproteobacteria & o\\_\\_Burkholderiales    & f\\_\\_Burkholderiaceae    & g\\_\\_Roseateles        & s\\_\\_Roseateles sp900109745               & -0.6386378 & 10.46671 & 6.617526e-06 & 3.780621e-05 & Environmental\\\\\n",
       "\t WP\\_066459944.1 & d\\_\\_Bacteria & p\\_\\_Proteobacteria   & c\\_\\_Gammaproteobacteria & o\\_\\_Burkholderiales    & f\\_\\_Burkholderiaceae    & g\\_\\_Castellaniella    & s\\_\\_Castellaniella caeni                 & -0.6018172 & 10.31628 & 7.430057e-06 & 4.208231e-05 & Environmental\\\\\n",
       "\t ⋮ & ⋮ & ⋮ & ⋮ & ⋮ & ⋮ & ⋮ & ⋮ & ⋮ & ⋮ & ⋮ & ⋮ & ⋮\\\\\n",
       "\t WP\\_103465192.1 & d\\_\\_Bacteria & p\\_\\_Actinobacteriota & c\\_\\_Actinomycetia       & o\\_\\_Actinomycetales       & f\\_\\_Micrococcaceae         & g\\_\\_Arthrobacter\\_A      & s\\_\\_Arthrobacter\\_A glacialis           & -0.4641683 & 10.26000 & 0.0005481431 & 0.002160780 & Environmental\\\\\n",
       "\t WP\\_085298139.1 & d\\_\\_Bacteria & p\\_\\_Proteobacteria   & c\\_\\_Gammaproteobacteria & o\\_\\_Enterobacterales      & f\\_\\_Alteromonadaceae       & g\\_\\_Cognaticolwellia    & s\\_\\_Cognaticolwellia mytili            & -0.4917948 & 10.26192 & 0.0005578889 & 0.002186081 & Environmental\\\\\n",
       "\t WP\\_014159471.1 & d\\_\\_Bacteria & p\\_\\_Proteobacteria   & c\\_\\_Gammaproteobacteria & o\\_\\_Xanthomonadales       & f\\_\\_Xanthomonadaceae       & g\\_\\_Pseudoxanthomonas\\_A & s\\_\\_Pseudoxanthomonas\\_A spadix\\_A       & -0.4563424 & 10.27802 & 0.0005916686 & 0.002291117 & Environmental\\\\\n",
       "\t WP\\_022702337.1 & d\\_\\_Bacteria & p\\_\\_Proteobacteria   & c\\_\\_Alphaproteobacteria & o\\_\\_Rhodobacterales       & f\\_\\_Rhodobacteraceae       & g\\_\\_Pseudorhodobacter   & s\\_\\_Pseudorhodobacter ferrugineus      & -0.4660041 & 10.27485 & 0.0006013619 & 0.002324087 & Environmental\\\\\n",
       "\t WP\\_069386616.1 & d\\_\\_Bacteria & p\\_\\_Actinobacteriota & c\\_\\_Actinomycetia       & o\\_\\_Actinomycetales       & f\\_\\_Cellulomonadaceae      & g\\_\\_Cellulosimicrobium  & s\\_\\_Cellulosimicrobium funkei          & -0.4834533 & 10.28693 & 0.0006113036 & 0.002348693 & Environmental\\\\\n",
       "\t WP\\_089216665.1 & d\\_\\_Bacteria & p\\_\\_Proteobacteria   & c\\_\\_Alphaproteobacteria & o\\_\\_Sphingomonadales      & f\\_\\_Sphingomonadaceae      & g\\_\\_Sphingopyxis        & s\\_\\_Sphingopyxis indica                & -0.4655022 & 10.27620 & 0.0006291872 & 0.002412700 & Environmental\\\\\n",
       "\t WP\\_097585867.1 & d\\_\\_Bacteria & p\\_\\_Proteobacteria   & c\\_\\_Alphaproteobacteria & o\\_\\_Rhizobiales           & f\\_\\_Rhizobiaceae           & g\\_\\_Rhizobium           & s\\_\\_Rhizobium esperanzae               & -0.4848707 & 10.39119 & 0.0006570687 & 0.002504995 & Environmental\\\\\n",
       "\t WP\\_105444836.1 & d\\_\\_Bacteria & p\\_\\_Firmicutes       & c\\_\\_Bacilli             & o\\_\\_Paenibacillales       & f\\_\\_Paenibacillaceae       & g\\_\\_Paenibacillus       & s\\_\\_Paenibacillus cellulositrophicus\\_A & -0.4623515 & 10.27163 & 0.0006901078 & 0.002615774 & Environmental\\\\\n",
       "\t WP\\_021275611.1 & d\\_\\_Bacteria & p\\_\\_Bdellovibrionota & c\\_\\_Bacteriovoracia     & o\\_\\_Bacteriovoracales     & f\\_\\_Bacteriovoracaceae     & g\\_\\_DB6-IX              & s\\_\\_DB6-IX sp000447795                 & -0.4491468 & 10.27350 & 0.0007782331 & 0.002932882 & Environmental\\\\\n",
       "\t WP\\_020146777.1 & d\\_\\_Bacteria & p\\_\\_Proteobacteria   & c\\_\\_Gammaproteobacteria & o\\_\\_Ectothiorhodospirales & f\\_\\_Thioalkalivibrionaceae & g\\_\\_Thioalkalivibrio    & s\\_\\_Thioalkalivibrio sp000378305       & -0.4587844 & 10.26950 & 0.0007913910 & 0.002976778 & Environmental\\\\\n",
       "\t WP\\_046178142.1 & d\\_\\_Bacteria & p\\_\\_Firmicutes       & c\\_\\_Bacilli             & o\\_\\_Bacillales\\_B          & f\\_\\_Domibacillaceae        & g\\_\\_Domibacillus        & s\\_\\_Domibacillus tundrae               & -0.4892734 & 10.28425 & 0.0008291984 & 0.003089509 & Environmental\\\\\n",
       "\t WP\\_106315867.1 & d\\_\\_Bacteria & p\\_\\_Actinobacteriota & c\\_\\_Actinomycetia       & o\\_\\_Mycobacteriales       & f\\_\\_Micromonosporaceae     & g\\_\\_Actinoplanes        & s\\_\\_Actinoplanes italicus              & -0.4490601 & 10.25888 & 0.0009381476 & 0.003449793 & Environmental\\\\\n",
       "\t WP\\_089406056.1 & d\\_\\_Bacteria & p\\_\\_Actinobacteriota & c\\_\\_Actinomycetia       & o\\_\\_Mycobacteriales       & f\\_\\_Geodermatophilaceae    & g\\_\\_Geodermatophilus    & s\\_\\_Geodermatophilus saharensis        & -0.4609608 & 10.32331 & 0.0009996913 & 0.003648873 & Environmental\\\\\n",
       "\t WP\\_076305305.1 & d\\_\\_Bacteria & p\\_\\_Firmicutes       & c\\_\\_Bacilli             & o\\_\\_Paenibacillales       & f\\_\\_Paenibacillaceae       & g\\_\\_Paenibacillus       & s\\_\\_Paenibacillus odorifer             & -0.4432402 & 10.30442 & 0.0010951890 & 0.003896422 & Environmental\\\\\n",
       "\t WP\\_091817141.1 & d\\_\\_Bacteria & p\\_\\_Proteobacteria   & c\\_\\_Gammaproteobacteria & o\\_\\_Pseudomonadales       & f\\_\\_Oleiphilaceae          & g\\_\\_Marinobacter        & s\\_\\_Marinobacter mobilis               & -0.4363915 & 10.25432 & 0.0013830207 & 0.004816138 & Environmental\\\\\n",
       "\t WP\\_091904930.1 & d\\_\\_Bacteria & p\\_\\_Proteobacteria   & c\\_\\_Gammaproteobacteria & o\\_\\_Burkholderiales       & f\\_\\_Burkholderiaceae       & g\\_\\_Robbsia             & s\\_\\_Robbsia sp900095735                & -0.5017227 & 10.58476 & 0.0014121432 & 0.004908879 & Environmental\\\\\n",
       "\t WP\\_007328637.1 & d\\_\\_Bacteria & p\\_\\_Planctomycetota  & c\\_\\_Planctomycetes      & o\\_\\_Pirellulales          & f\\_\\_Pirellulaceae          & g\\_\\_Rhodopirellula      & s\\_\\_Rhodopirellula baltica             & -0.4548978 & 10.26475 & 0.0014974412 & 0.005159889 & Environmental\\\\\n",
       "\t WP\\_031375094.1 & d\\_\\_Bacteria & p\\_\\_Proteobacteria   & c\\_\\_Gammaproteobacteria & o\\_\\_Enterobacterales      & f\\_\\_Enterobacteriaceae     & g\\_\\_Pantoea             & s\\_\\_Pantoea brenneri                   & -0.4237073 & 10.25166 & 0.0015805519 & 0.005408451 & Environmental\\\\\n",
       "\t WP\\_067378485.1 & d\\_\\_Bacteria & p\\_\\_Proteobacteria   & c\\_\\_Gammaproteobacteria & o\\_\\_Pseudomonadales       & f\\_\\_Nitrincolaceae         & g\\_\\_Marinobacterium\\_A   & s\\_\\_Marinobacterium\\_A aestuarii        & -0.4329521 & 10.26584 & 0.0016777650 & 0.005711355 & Environmental\\\\\n",
       "\t WP\\_078003863.1 & d\\_\\_Bacteria & p\\_\\_Proteobacteria   & c\\_\\_Gammaproteobacteria & o\\_\\_Enterobacterales      & f\\_\\_Enterobacteriaceae     & g\\_\\_Izhakiella          & s\\_\\_Izhakiella australiensis           & -0.4243610 & 10.29587 & 0.0018380024 & 0.006203258 & Environmental\\\\\n",
       "\t WP\\_078552967.1 & d\\_\\_Bacteria & p\\_\\_Firmicutes       & c\\_\\_Bacilli             & o\\_\\_Bacillales\\_H          & f\\_\\_Bacillaceae\\_F          & g\\_\\_Bacillus\\_AO         & s\\_\\_Bacillus\\_AO sp002019795            & -0.4204989 & 10.26323 & 0.0019126260 & 0.006433082 & Environmental\\\\\n",
       "\t WP\\_102394872.1 & d\\_\\_Bacteria & p\\_\\_Proteobacteria   & c\\_\\_Gammaproteobacteria & o\\_\\_Enterobacterales      & f\\_\\_Vibrionaceae           & g\\_\\_Enterovibrio        & s\\_\\_Enterovibrio norvegicus            & -0.4127436 & 10.25876 & 0.0019484189 & 0.006520091 & Environmental\\\\\n",
       "\t WP\\_110876182.1 & d\\_\\_Bacteria & p\\_\\_Proteobacteria   & c\\_\\_Gammaproteobacteria & o\\_\\_Enterobacterales      & f\\_\\_Enterobacteriaceae     & g\\_\\_Franconibacter      & s\\_\\_Franconibacter helveticus          & -0.4303555 & 10.30281 & 0.0019710737 & 0.006584722 & Environmental\\\\\n",
       "\t WP\\_085526025.1 & d\\_\\_Bacteria & p\\_\\_Proteobacteria   & c\\_\\_Alphaproteobacteria & o\\_\\_Rhodobacterales       & f\\_\\_Rhodobacteraceae       & g\\_\\_Maritimibacter\\_A    & s\\_\\_Maritimibacter\\_A sp900177545       & -0.4048295 & 10.25423 & 0.0019848210 & 0.006619428 & Environmental\\\\\n",
       "\t WP\\_066585366.1 & d\\_\\_Bacteria & p\\_\\_Actinobacteriota & c\\_\\_Actinomycetia       & o\\_\\_Actinomycetales       & f\\_\\_Cellulomonadaceae      & g\\_\\_Cellulomonas        & s\\_\\_Cellulomonas timonensis            & -0.4162133 & 10.26709 & 0.0020458167 & 0.006799839 & Environmental\\\\\n",
       "\t WP\\_036303480.1 & d\\_\\_Bacteria & p\\_\\_Proteobacteria   & c\\_\\_Gammaproteobacteria & o\\_\\_Burkholderiales       & f\\_\\_Methylophilaceae       & g\\_\\_Methylotenera       & s\\_\\_Methylotenera sp000744605          & -0.4169131 & 10.28983 & 0.0023703503 & 0.007747853 & Environmental\\\\\n",
       "\t WP\\_056029396.1 & d\\_\\_Bacteria & p\\_\\_Proteobacteria   & c\\_\\_Alphaproteobacteria & o\\_\\_Rhodobacterales       & f\\_\\_Rhodobacteraceae       & g\\_\\_Loktanella          & s\\_\\_Loktanella sp001420005             & -0.4037710 & 10.25714 & 0.0024797432 & 0.008025573 & Environmental\\\\\n",
       "\t WP\\_084593206.1 & d\\_\\_Bacteria & p\\_\\_Campylobacterota & c\\_\\_Campylobacteria     & o\\_\\_Campylobacterales     & f\\_\\_Arcobacteraceae        & g\\_\\_Halarcobacter       & s\\_\\_Halarcobacter anaerophilus         & -0.4136162 & 10.25350 & 0.0025272803 & 0.008152650 & Environmental\\\\\n",
       "\t WP\\_105618991.1 & d\\_\\_Bacteria & p\\_\\_Firmicutes\\_A     & c\\_\\_Clostridia          & o\\_\\_Lachnospirales        & f\\_\\_Vallitaleaceae\\_A       & g\\_\\_Vallitalea\\_A        & s\\_\\_Vallitalea\\_A okinawensis           & -0.4038487 & 10.27404 & 0.0025611381 & 0.008248371 & Environmental\\\\\n",
       "\t WP\\_010286946.1 & d\\_\\_Bacteria & p\\_\\_Firmicutes       & c\\_\\_Bacilli             & o\\_\\_Bacillales\\_A          & f\\_\\_Planococcaceae         & g\\_\\_Kurthia             & s\\_\\_Kurthia massiliensis               & -0.4195967 & 10.24752 & 0.0029305440 & 0.009346444 & Environmental\\\\\n",
       "\\end{tabular}\n"
      ],
      "text/markdown": [
       "\n",
       "A spec_tbl_df: 108 × 13\n",
       "\n",
       "| Accession &lt;chr&gt; | Domain &lt;chr&gt; | Phylum &lt;chr&gt; | Class &lt;chr&gt; | Order &lt;chr&gt; | Family &lt;chr&gt; | Genus &lt;chr&gt; | Species &lt;chr&gt; | logFC &lt;dbl&gt; | logCPM &lt;dbl&gt; | PValue &lt;dbl&gt; | FDR &lt;dbl&gt; | EnrichedIn &lt;chr&gt; |\n",
       "|---|---|---|---|---|---|---|---|---|---|---|---|---|\n",
       "| WP_013189022.1 | d__Bacteria | p__Actinobacteriota | c__Actinomycetia       | o__Actinomycetales    | f__Actinomycetaceae    | g__Mobiluncus        | s__Mobiluncus curtisii                  | -1.8878137 | 10.65105 | 1.808077e-30 | 1.484883e-28 | Environmental |\n",
       "| WP_066854468.1 | d__Bacteria | p__Desulfobacterota | c__Desulfovibrionia    | o__Desulfovibrionales | f__Desulfovibrionaceae | g__Halodesulfovibrio | s__Halodesulfovibrio spirochaetisodalis | -1.3894645 | 10.55466 | 9.674228e-24 | 3.972480e-22 | Environmental |\n",
       "| WP_029284726.1 | d__Bacteria | p__Firmicutes       | c__Bacilli             | o__Bacillales         | f__Bacillaceae         | g__Bacillus_P        | s__Bacillus_P indicus                   | -1.2757662 | 10.48323 | 1.792891e-22 | 6.425070e-21 | Environmental |\n",
       "| WP_081754523.1 | d__Bacteria | p__Campylobacterota | c__Campylobacteria     | o__Campylobacterales  | f__Arcobacteraceae     | g__Aliarcobacter     | s__Aliarcobacter faecis                 | -1.1867007 | 10.69226 | 3.195786e-19 | 8.512019e-18 | Environmental |\n",
       "| WP_076920623.1 | d__Bacteria | p__Proteobacteria   | c__Gammaproteobacteria | o__Enterobacterales   | f__Alteromonadaceae    | g__Pseudoalteromonas | s__Pseudoalteromonas tetraodonis        | -1.1075225 | 10.40328 | 9.538149e-13 | 1.323922e-11 | Environmental |\n",
       "| WP_076414249.1 | d__Bacteria | p__Proteobacteria   | c__Gammaproteobacteria | o__Burkholderiales    | f__Burkholderiaceae    | g__Achromobacter     | s__Achromobacter xylosoxidans           | -0.9712485 | 10.41003 | 1.221440e-12 | 1.631343e-11 | Environmental |\n",
       "| WP_074271829.1 | d__Bacteria | p__Proteobacteria   | c__Alphaproteobacteria | o__Rhizobiales        | f__Xanthobacteraceae   | g__Bradyrhizobium    | s__Bradyrhizobium erythrophlei_E        | -0.8670351 | 10.42010 | 1.670043e-10 | 1.714403e-09 | Environmental |\n",
       "| WP_075492688.1 | d__Bacteria | p__Campylobacterota | c__Campylobacteria     | o__Campylobacterales  | f__Campylobacteraceae  | g__Campylobacter_D   | s__Campylobacter_D coli                 | -0.8155315 | 10.34277 | 3.135319e-09 | 2.874285e-08 | Environmental |\n",
       "| WP_087865578.1 | d__Bacteria | p__Proteobacteria   | c__Gammaproteobacteria | o__Burkholderiales    | f__Burkholderiaceae    | g__Comamonas         | s__Comamonas thiooxydans                | -0.7920272 | 10.35090 | 4.594182e-09 | 4.134764e-08 | Environmental |\n",
       "| WP_100368450.1 | d__Bacteria | p__Proteobacteria   | c__Alphaproteobacteria | o__Rhodobacterales    | f__Rhodobacteraceae    | g__Yoonia            | s__Yoonia maricola                      | -0.7034777 | 10.31950 | 1.499746e-07 | 1.115472e-06 | Environmental |\n",
       "| WP_108843652.1 | d__Bacteria | p__Proteobacteria   | c__Gammaproteobacteria | o__Pseudomonadales    | f__Halomonadaceae      | g__Kushneria         | s__Kushneria phyllosphaerae             | -0.7553794 | 10.32534 | 1.717146e-07 | 1.267601e-06 | Environmental |\n",
       "| WP_116162577.1 | d__Bacteria | p__Proteobacteria   | c__Gammaproteobacteria | o__Enterobacterales   | f__Enterobacteriaceae  | g__Pectobacterium    | s__Pectobacterium aquaticum             | -0.6668266 | 10.30043 | 7.269778e-07 | 4.792218e-06 | Environmental |\n",
       "| WP_096663659.1 | d__Bacteria | p__Proteobacteria   | c__Gammaproteobacteria | o__Burkholderiales    | f__Burkholderiaceae    | g__Polaromonas       | s__Polaromonas sp002379085              | -0.6666650 | 10.31514 | 7.365130e-07 | 4.838890e-06 | Environmental |\n",
       "| WP_058719080.1 | d__Bacteria | p__Proteobacteria   | c__Gammaproteobacteria | o__Burkholderiales    | f__Burkholderiaceae    | g__Paucibacter_A     | s__Paucibacter_A sp001477625            | -0.6287871 | 10.34287 | 8.122293e-07 | 5.291758e-06 | Environmental |\n",
       "| WP_091246308.1 | d__Bacteria | p__Proteobacteria   | c__Gammaproteobacteria | o__Xanthomonadales    | f__Xanthomonadaceae    | g__Aquimonas         | s__Aquimonas voraii                     | -0.6786236 | 10.28927 | 1.041934e-06 | 6.711278e-06 | Environmental |\n",
       "| WP_097183358.1 | d__Bacteria | p__Actinobacteriota | c__Actinomycetia       | o__Mycobacteriales    | f__Geodermatophilaceae | g__Blastococcus      | s__Blastococcus sp900230285             | -0.6382549 | 10.38970 | 1.094159e-06 | 7.001905e-06 | Environmental |\n",
       "| WP_104048963.1 | d__Bacteria | p__Actinobacteriota | c__Actinomycetia       | o__Actinomycetales    | f__Micrococcaceae      | g__Arthrobacter_D    | s__Arthrobacter_D sp002929375           | -0.6383960 | 10.30609 | 1.134550e-06 | 7.236884e-06 | Environmental |\n",
       "| WP_062782076.1 | d__Bacteria | p__Proteobacteria   | c__Gammaproteobacteria | o__Pseudomonadales    | f__Oleiphilaceae       | g__Marinobacter      | s__Marinobacter adhaerens               | -0.6728941 | 10.29375 | 1.154964e-06 | 7.319725e-06 | Environmental |\n",
       "| WP_068142073.1 | d__Bacteria | p__Planctomycetota  | c__Planctomycetes      | o__Pirellulales       | f__Pirellulaceae       | g__Roseimaritima     | s__Roseimaritima ulvae                  | -0.6325032 | 10.30032 | 1.291879e-06 | 8.161198e-06 | Environmental |\n",
       "| WP_056662091.1 | d__Bacteria | p__Proteobacteria   | c__Gammaproteobacteria | o__Burkholderiales    | f__Burkholderiaceae    | g__Acidovorax_A      | s__Acidovorax_A sp001424265             | -0.6255741 | 10.33188 | 2.160258e-06 | 1.322319e-05 | Environmental |\n",
       "| WP_072893264.1 | d__Bacteria | p__Proteobacteria   | c__Gammaproteobacteria | o__Nevskiales         | f__Nevskiaceae         | g__Hydrocarboniphaga | s__Hydrocarboniphaga daqingensis        | -0.6117107 | 10.30997 | 2.194154e-06 | 1.338909e-05 | Environmental |\n",
       "| WP_030441058.1 | d__Bacteria | p__Actinobacteriota | c__Actinomycetia       | o__Mycobacteriales    | f__Micromonosporaceae  | g__Actinoplanes      | s__Actinoplanes subtropicus             | -0.6321991 | 10.32587 | 2.548416e-06 | 1.540775e-05 | Environmental |\n",
       "| WP_101219479.1 | d__Bacteria | p__Firmicutes       | c__Bacilli             | o__Bacillales         | f__Bacillaceae_G       | g__Bacillus_A        | s__Bacillus_A bombysepticus             | -0.6323970 | 10.29155 | 3.610594e-06 | 2.156509e-05 | Environmental |\n",
       "| WP_058735550.1 | d__Bacteria | p__Proteobacteria   | c__Alphaproteobacteria | o__Sphingomonadales   | f__Sphingomonadaceae   | g__Novosphingobium   | s__Novosphingobium fluoreni             | -0.6258388 | 10.35576 | 4.840792e-06 | 2.822841e-05 | Environmental |\n",
       "| WP_050524673.1 | d__Bacteria | p__Proteobacteria   | c__Alphaproteobacteria | o__Rhodobacterales    | f__Rhodobacteraceae    | g__Pseudorhodobacter | s__Pseudorhodobacter wandonensis        | -0.6066935 | 10.30891 | 5.722187e-06 | 3.317185e-05 | Environmental |\n",
       "| WP_050958964.1 | d__Bacteria | p__Proteobacteria   | c__Gammaproteobacteria | o__Enterobacterales   | f__Enterobacteriaceae  | g__Escherichia       | s__Escherichia flexneri                 | -0.5878144 | 10.27977 | 5.909574e-06 | 3.415768e-05 | Environmental |\n",
       "| WP_076071918.1 | d__Bacteria | p__Proteobacteria   | c__Alphaproteobacteria | o__Sphingomonadales   | f__Sphingomonadaceae   | g__Sphingomonas_G    | s__Sphingomonas_G montana               | -0.6244389 | 10.29808 | 6.093779e-06 | 3.511941e-05 | Environmental |\n",
       "| WP_084603204.1 | d__Bacteria | p__Proteobacteria   | c__Alphaproteobacteria | o__Rhizobiales        | f__Devosiaceae         | g__Devosia_A         | s__Devosia_A enhydra                    | -0.6445150 | 10.31467 | 6.314344e-06 | 3.617899e-05 | Environmental |\n",
       "| WP_092947737.1 | d__Bacteria | p__Proteobacteria   | c__Gammaproteobacteria | o__Burkholderiales    | f__Burkholderiaceae    | g__Roseateles        | s__Roseateles sp900109745               | -0.6386378 | 10.46671 | 6.617526e-06 | 3.780621e-05 | Environmental |\n",
       "| WP_066459944.1 | d__Bacteria | p__Proteobacteria   | c__Gammaproteobacteria | o__Burkholderiales    | f__Burkholderiaceae    | g__Castellaniella    | s__Castellaniella caeni                 | -0.6018172 | 10.31628 | 7.430057e-06 | 4.208231e-05 | Environmental |\n",
       "| ⋮ | ⋮ | ⋮ | ⋮ | ⋮ | ⋮ | ⋮ | ⋮ | ⋮ | ⋮ | ⋮ | ⋮ | ⋮ |\n",
       "| WP_103465192.1 | d__Bacteria | p__Actinobacteriota | c__Actinomycetia       | o__Actinomycetales       | f__Micrococcaceae         | g__Arthrobacter_A      | s__Arthrobacter_A glacialis           | -0.4641683 | 10.26000 | 0.0005481431 | 0.002160780 | Environmental |\n",
       "| WP_085298139.1 | d__Bacteria | p__Proteobacteria   | c__Gammaproteobacteria | o__Enterobacterales      | f__Alteromonadaceae       | g__Cognaticolwellia    | s__Cognaticolwellia mytili            | -0.4917948 | 10.26192 | 0.0005578889 | 0.002186081 | Environmental |\n",
       "| WP_014159471.1 | d__Bacteria | p__Proteobacteria   | c__Gammaproteobacteria | o__Xanthomonadales       | f__Xanthomonadaceae       | g__Pseudoxanthomonas_A | s__Pseudoxanthomonas_A spadix_A       | -0.4563424 | 10.27802 | 0.0005916686 | 0.002291117 | Environmental |\n",
       "| WP_022702337.1 | d__Bacteria | p__Proteobacteria   | c__Alphaproteobacteria | o__Rhodobacterales       | f__Rhodobacteraceae       | g__Pseudorhodobacter   | s__Pseudorhodobacter ferrugineus      | -0.4660041 | 10.27485 | 0.0006013619 | 0.002324087 | Environmental |\n",
       "| WP_069386616.1 | d__Bacteria | p__Actinobacteriota | c__Actinomycetia       | o__Actinomycetales       | f__Cellulomonadaceae      | g__Cellulosimicrobium  | s__Cellulosimicrobium funkei          | -0.4834533 | 10.28693 | 0.0006113036 | 0.002348693 | Environmental |\n",
       "| WP_089216665.1 | d__Bacteria | p__Proteobacteria   | c__Alphaproteobacteria | o__Sphingomonadales      | f__Sphingomonadaceae      | g__Sphingopyxis        | s__Sphingopyxis indica                | -0.4655022 | 10.27620 | 0.0006291872 | 0.002412700 | Environmental |\n",
       "| WP_097585867.1 | d__Bacteria | p__Proteobacteria   | c__Alphaproteobacteria | o__Rhizobiales           | f__Rhizobiaceae           | g__Rhizobium           | s__Rhizobium esperanzae               | -0.4848707 | 10.39119 | 0.0006570687 | 0.002504995 | Environmental |\n",
       "| WP_105444836.1 | d__Bacteria | p__Firmicutes       | c__Bacilli             | o__Paenibacillales       | f__Paenibacillaceae       | g__Paenibacillus       | s__Paenibacillus cellulositrophicus_A | -0.4623515 | 10.27163 | 0.0006901078 | 0.002615774 | Environmental |\n",
       "| WP_021275611.1 | d__Bacteria | p__Bdellovibrionota | c__Bacteriovoracia     | o__Bacteriovoracales     | f__Bacteriovoracaceae     | g__DB6-IX              | s__DB6-IX sp000447795                 | -0.4491468 | 10.27350 | 0.0007782331 | 0.002932882 | Environmental |\n",
       "| WP_020146777.1 | d__Bacteria | p__Proteobacteria   | c__Gammaproteobacteria | o__Ectothiorhodospirales | f__Thioalkalivibrionaceae | g__Thioalkalivibrio    | s__Thioalkalivibrio sp000378305       | -0.4587844 | 10.26950 | 0.0007913910 | 0.002976778 | Environmental |\n",
       "| WP_046178142.1 | d__Bacteria | p__Firmicutes       | c__Bacilli             | o__Bacillales_B          | f__Domibacillaceae        | g__Domibacillus        | s__Domibacillus tundrae               | -0.4892734 | 10.28425 | 0.0008291984 | 0.003089509 | Environmental |\n",
       "| WP_106315867.1 | d__Bacteria | p__Actinobacteriota | c__Actinomycetia       | o__Mycobacteriales       | f__Micromonosporaceae     | g__Actinoplanes        | s__Actinoplanes italicus              | -0.4490601 | 10.25888 | 0.0009381476 | 0.003449793 | Environmental |\n",
       "| WP_089406056.1 | d__Bacteria | p__Actinobacteriota | c__Actinomycetia       | o__Mycobacteriales       | f__Geodermatophilaceae    | g__Geodermatophilus    | s__Geodermatophilus saharensis        | -0.4609608 | 10.32331 | 0.0009996913 | 0.003648873 | Environmental |\n",
       "| WP_076305305.1 | d__Bacteria | p__Firmicutes       | c__Bacilli             | o__Paenibacillales       | f__Paenibacillaceae       | g__Paenibacillus       | s__Paenibacillus odorifer             | -0.4432402 | 10.30442 | 0.0010951890 | 0.003896422 | Environmental |\n",
       "| WP_091817141.1 | d__Bacteria | p__Proteobacteria   | c__Gammaproteobacteria | o__Pseudomonadales       | f__Oleiphilaceae          | g__Marinobacter        | s__Marinobacter mobilis               | -0.4363915 | 10.25432 | 0.0013830207 | 0.004816138 | Environmental |\n",
       "| WP_091904930.1 | d__Bacteria | p__Proteobacteria   | c__Gammaproteobacteria | o__Burkholderiales       | f__Burkholderiaceae       | g__Robbsia             | s__Robbsia sp900095735                | -0.5017227 | 10.58476 | 0.0014121432 | 0.004908879 | Environmental |\n",
       "| WP_007328637.1 | d__Bacteria | p__Planctomycetota  | c__Planctomycetes      | o__Pirellulales          | f__Pirellulaceae          | g__Rhodopirellula      | s__Rhodopirellula baltica             | -0.4548978 | 10.26475 | 0.0014974412 | 0.005159889 | Environmental |\n",
       "| WP_031375094.1 | d__Bacteria | p__Proteobacteria   | c__Gammaproteobacteria | o__Enterobacterales      | f__Enterobacteriaceae     | g__Pantoea             | s__Pantoea brenneri                   | -0.4237073 | 10.25166 | 0.0015805519 | 0.005408451 | Environmental |\n",
       "| WP_067378485.1 | d__Bacteria | p__Proteobacteria   | c__Gammaproteobacteria | o__Pseudomonadales       | f__Nitrincolaceae         | g__Marinobacterium_A   | s__Marinobacterium_A aestuarii        | -0.4329521 | 10.26584 | 0.0016777650 | 0.005711355 | Environmental |\n",
       "| WP_078003863.1 | d__Bacteria | p__Proteobacteria   | c__Gammaproteobacteria | o__Enterobacterales      | f__Enterobacteriaceae     | g__Izhakiella          | s__Izhakiella australiensis           | -0.4243610 | 10.29587 | 0.0018380024 | 0.006203258 | Environmental |\n",
       "| WP_078552967.1 | d__Bacteria | p__Firmicutes       | c__Bacilli             | o__Bacillales_H          | f__Bacillaceae_F          | g__Bacillus_AO         | s__Bacillus_AO sp002019795            | -0.4204989 | 10.26323 | 0.0019126260 | 0.006433082 | Environmental |\n",
       "| WP_102394872.1 | d__Bacteria | p__Proteobacteria   | c__Gammaproteobacteria | o__Enterobacterales      | f__Vibrionaceae           | g__Enterovibrio        | s__Enterovibrio norvegicus            | -0.4127436 | 10.25876 | 0.0019484189 | 0.006520091 | Environmental |\n",
       "| WP_110876182.1 | d__Bacteria | p__Proteobacteria   | c__Gammaproteobacteria | o__Enterobacterales      | f__Enterobacteriaceae     | g__Franconibacter      | s__Franconibacter helveticus          | -0.4303555 | 10.30281 | 0.0019710737 | 0.006584722 | Environmental |\n",
       "| WP_085526025.1 | d__Bacteria | p__Proteobacteria   | c__Alphaproteobacteria | o__Rhodobacterales       | f__Rhodobacteraceae       | g__Maritimibacter_A    | s__Maritimibacter_A sp900177545       | -0.4048295 | 10.25423 | 0.0019848210 | 0.006619428 | Environmental |\n",
       "| WP_066585366.1 | d__Bacteria | p__Actinobacteriota | c__Actinomycetia       | o__Actinomycetales       | f__Cellulomonadaceae      | g__Cellulomonas        | s__Cellulomonas timonensis            | -0.4162133 | 10.26709 | 0.0020458167 | 0.006799839 | Environmental |\n",
       "| WP_036303480.1 | d__Bacteria | p__Proteobacteria   | c__Gammaproteobacteria | o__Burkholderiales       | f__Methylophilaceae       | g__Methylotenera       | s__Methylotenera sp000744605          | -0.4169131 | 10.28983 | 0.0023703503 | 0.007747853 | Environmental |\n",
       "| WP_056029396.1 | d__Bacteria | p__Proteobacteria   | c__Alphaproteobacteria | o__Rhodobacterales       | f__Rhodobacteraceae       | g__Loktanella          | s__Loktanella sp001420005             | -0.4037710 | 10.25714 | 0.0024797432 | 0.008025573 | Environmental |\n",
       "| WP_084593206.1 | d__Bacteria | p__Campylobacterota | c__Campylobacteria     | o__Campylobacterales     | f__Arcobacteraceae        | g__Halarcobacter       | s__Halarcobacter anaerophilus         | -0.4136162 | 10.25350 | 0.0025272803 | 0.008152650 | Environmental |\n",
       "| WP_105618991.1 | d__Bacteria | p__Firmicutes_A     | c__Clostridia          | o__Lachnospirales        | f__Vallitaleaceae_A       | g__Vallitalea_A        | s__Vallitalea_A okinawensis           | -0.4038487 | 10.27404 | 0.0025611381 | 0.008248371 | Environmental |\n",
       "| WP_010286946.1 | d__Bacteria | p__Firmicutes       | c__Bacilli             | o__Bacillales_A          | f__Planococcaceae         | g__Kurthia             | s__Kurthia massiliensis               | -0.4195967 | 10.24752 | 0.0029305440 | 0.009346444 | Environmental |\n",
       "\n"
      ],
      "text/plain": [
       "    Accession      Domain      Phylum              Class                 \n",
       "1   WP_013189022.1 d__Bacteria p__Actinobacteriota c__Actinomycetia      \n",
       "2   WP_066854468.1 d__Bacteria p__Desulfobacterota c__Desulfovibrionia   \n",
       "3   WP_029284726.1 d__Bacteria p__Firmicutes       c__Bacilli            \n",
       "4   WP_081754523.1 d__Bacteria p__Campylobacterota c__Campylobacteria    \n",
       "5   WP_076920623.1 d__Bacteria p__Proteobacteria   c__Gammaproteobacteria\n",
       "6   WP_076414249.1 d__Bacteria p__Proteobacteria   c__Gammaproteobacteria\n",
       "7   WP_074271829.1 d__Bacteria p__Proteobacteria   c__Alphaproteobacteria\n",
       "8   WP_075492688.1 d__Bacteria p__Campylobacterota c__Campylobacteria    \n",
       "9   WP_087865578.1 d__Bacteria p__Proteobacteria   c__Gammaproteobacteria\n",
       "10  WP_100368450.1 d__Bacteria p__Proteobacteria   c__Alphaproteobacteria\n",
       "11  WP_108843652.1 d__Bacteria p__Proteobacteria   c__Gammaproteobacteria\n",
       "12  WP_116162577.1 d__Bacteria p__Proteobacteria   c__Gammaproteobacteria\n",
       "13  WP_096663659.1 d__Bacteria p__Proteobacteria   c__Gammaproteobacteria\n",
       "14  WP_058719080.1 d__Bacteria p__Proteobacteria   c__Gammaproteobacteria\n",
       "15  WP_091246308.1 d__Bacteria p__Proteobacteria   c__Gammaproteobacteria\n",
       "16  WP_097183358.1 d__Bacteria p__Actinobacteriota c__Actinomycetia      \n",
       "17  WP_104048963.1 d__Bacteria p__Actinobacteriota c__Actinomycetia      \n",
       "18  WP_062782076.1 d__Bacteria p__Proteobacteria   c__Gammaproteobacteria\n",
       "19  WP_068142073.1 d__Bacteria p__Planctomycetota  c__Planctomycetes     \n",
       "20  WP_056662091.1 d__Bacteria p__Proteobacteria   c__Gammaproteobacteria\n",
       "21  WP_072893264.1 d__Bacteria p__Proteobacteria   c__Gammaproteobacteria\n",
       "22  WP_030441058.1 d__Bacteria p__Actinobacteriota c__Actinomycetia      \n",
       "23  WP_101219479.1 d__Bacteria p__Firmicutes       c__Bacilli            \n",
       "24  WP_058735550.1 d__Bacteria p__Proteobacteria   c__Alphaproteobacteria\n",
       "25  WP_050524673.1 d__Bacteria p__Proteobacteria   c__Alphaproteobacteria\n",
       "26  WP_050958964.1 d__Bacteria p__Proteobacteria   c__Gammaproteobacteria\n",
       "27  WP_076071918.1 d__Bacteria p__Proteobacteria   c__Alphaproteobacteria\n",
       "28  WP_084603204.1 d__Bacteria p__Proteobacteria   c__Alphaproteobacteria\n",
       "29  WP_092947737.1 d__Bacteria p__Proteobacteria   c__Gammaproteobacteria\n",
       "30  WP_066459944.1 d__Bacteria p__Proteobacteria   c__Gammaproteobacteria\n",
       "⋮   ⋮              ⋮           ⋮                   ⋮                     \n",
       "79  WP_103465192.1 d__Bacteria p__Actinobacteriota c__Actinomycetia      \n",
       "80  WP_085298139.1 d__Bacteria p__Proteobacteria   c__Gammaproteobacteria\n",
       "81  WP_014159471.1 d__Bacteria p__Proteobacteria   c__Gammaproteobacteria\n",
       "82  WP_022702337.1 d__Bacteria p__Proteobacteria   c__Alphaproteobacteria\n",
       "83  WP_069386616.1 d__Bacteria p__Actinobacteriota c__Actinomycetia      \n",
       "84  WP_089216665.1 d__Bacteria p__Proteobacteria   c__Alphaproteobacteria\n",
       "85  WP_097585867.1 d__Bacteria p__Proteobacteria   c__Alphaproteobacteria\n",
       "86  WP_105444836.1 d__Bacteria p__Firmicutes       c__Bacilli            \n",
       "87  WP_021275611.1 d__Bacteria p__Bdellovibrionota c__Bacteriovoracia    \n",
       "88  WP_020146777.1 d__Bacteria p__Proteobacteria   c__Gammaproteobacteria\n",
       "89  WP_046178142.1 d__Bacteria p__Firmicutes       c__Bacilli            \n",
       "90  WP_106315867.1 d__Bacteria p__Actinobacteriota c__Actinomycetia      \n",
       "91  WP_089406056.1 d__Bacteria p__Actinobacteriota c__Actinomycetia      \n",
       "92  WP_076305305.1 d__Bacteria p__Firmicutes       c__Bacilli            \n",
       "93  WP_091817141.1 d__Bacteria p__Proteobacteria   c__Gammaproteobacteria\n",
       "94  WP_091904930.1 d__Bacteria p__Proteobacteria   c__Gammaproteobacteria\n",
       "95  WP_007328637.1 d__Bacteria p__Planctomycetota  c__Planctomycetes     \n",
       "96  WP_031375094.1 d__Bacteria p__Proteobacteria   c__Gammaproteobacteria\n",
       "97  WP_067378485.1 d__Bacteria p__Proteobacteria   c__Gammaproteobacteria\n",
       "98  WP_078003863.1 d__Bacteria p__Proteobacteria   c__Gammaproteobacteria\n",
       "99  WP_078552967.1 d__Bacteria p__Firmicutes       c__Bacilli            \n",
       "100 WP_102394872.1 d__Bacteria p__Proteobacteria   c__Gammaproteobacteria\n",
       "101 WP_110876182.1 d__Bacteria p__Proteobacteria   c__Gammaproteobacteria\n",
       "102 WP_085526025.1 d__Bacteria p__Proteobacteria   c__Alphaproteobacteria\n",
       "103 WP_066585366.1 d__Bacteria p__Actinobacteriota c__Actinomycetia      \n",
       "104 WP_036303480.1 d__Bacteria p__Proteobacteria   c__Gammaproteobacteria\n",
       "105 WP_056029396.1 d__Bacteria p__Proteobacteria   c__Alphaproteobacteria\n",
       "106 WP_084593206.1 d__Bacteria p__Campylobacterota c__Campylobacteria    \n",
       "107 WP_105618991.1 d__Bacteria p__Firmicutes_A     c__Clostridia         \n",
       "108 WP_010286946.1 d__Bacteria p__Firmicutes       c__Bacilli            \n",
       "    Order                    Family                    Genus                 \n",
       "1   o__Actinomycetales       f__Actinomycetaceae       g__Mobiluncus         \n",
       "2   o__Desulfovibrionales    f__Desulfovibrionaceae    g__Halodesulfovibrio  \n",
       "3   o__Bacillales            f__Bacillaceae            g__Bacillus_P         \n",
       "4   o__Campylobacterales     f__Arcobacteraceae        g__Aliarcobacter      \n",
       "5   o__Enterobacterales      f__Alteromonadaceae       g__Pseudoalteromonas  \n",
       "6   o__Burkholderiales       f__Burkholderiaceae       g__Achromobacter      \n",
       "7   o__Rhizobiales           f__Xanthobacteraceae      g__Bradyrhizobium     \n",
       "8   o__Campylobacterales     f__Campylobacteraceae     g__Campylobacter_D    \n",
       "9   o__Burkholderiales       f__Burkholderiaceae       g__Comamonas          \n",
       "10  o__Rhodobacterales       f__Rhodobacteraceae       g__Yoonia             \n",
       "11  o__Pseudomonadales       f__Halomonadaceae         g__Kushneria          \n",
       "12  o__Enterobacterales      f__Enterobacteriaceae     g__Pectobacterium     \n",
       "13  o__Burkholderiales       f__Burkholderiaceae       g__Polaromonas        \n",
       "14  o__Burkholderiales       f__Burkholderiaceae       g__Paucibacter_A      \n",
       "15  o__Xanthomonadales       f__Xanthomonadaceae       g__Aquimonas          \n",
       "16  o__Mycobacteriales       f__Geodermatophilaceae    g__Blastococcus       \n",
       "17  o__Actinomycetales       f__Micrococcaceae         g__Arthrobacter_D     \n",
       "18  o__Pseudomonadales       f__Oleiphilaceae          g__Marinobacter       \n",
       "19  o__Pirellulales          f__Pirellulaceae          g__Roseimaritima      \n",
       "20  o__Burkholderiales       f__Burkholderiaceae       g__Acidovorax_A       \n",
       "21  o__Nevskiales            f__Nevskiaceae            g__Hydrocarboniphaga  \n",
       "22  o__Mycobacteriales       f__Micromonosporaceae     g__Actinoplanes       \n",
       "23  o__Bacillales            f__Bacillaceae_G          g__Bacillus_A         \n",
       "24  o__Sphingomonadales      f__Sphingomonadaceae      g__Novosphingobium    \n",
       "25  o__Rhodobacterales       f__Rhodobacteraceae       g__Pseudorhodobacter  \n",
       "26  o__Enterobacterales      f__Enterobacteriaceae     g__Escherichia        \n",
       "27  o__Sphingomonadales      f__Sphingomonadaceae      g__Sphingomonas_G     \n",
       "28  o__Rhizobiales           f__Devosiaceae            g__Devosia_A          \n",
       "29  o__Burkholderiales       f__Burkholderiaceae       g__Roseateles         \n",
       "30  o__Burkholderiales       f__Burkholderiaceae       g__Castellaniella     \n",
       "⋮   ⋮                        ⋮                         ⋮                     \n",
       "79  o__Actinomycetales       f__Micrococcaceae         g__Arthrobacter_A     \n",
       "80  o__Enterobacterales      f__Alteromonadaceae       g__Cognaticolwellia   \n",
       "81  o__Xanthomonadales       f__Xanthomonadaceae       g__Pseudoxanthomonas_A\n",
       "82  o__Rhodobacterales       f__Rhodobacteraceae       g__Pseudorhodobacter  \n",
       "83  o__Actinomycetales       f__Cellulomonadaceae      g__Cellulosimicrobium \n",
       "84  o__Sphingomonadales      f__Sphingomonadaceae      g__Sphingopyxis       \n",
       "85  o__Rhizobiales           f__Rhizobiaceae           g__Rhizobium          \n",
       "86  o__Paenibacillales       f__Paenibacillaceae       g__Paenibacillus      \n",
       "87  o__Bacteriovoracales     f__Bacteriovoracaceae     g__DB6-IX             \n",
       "88  o__Ectothiorhodospirales f__Thioalkalivibrionaceae g__Thioalkalivibrio   \n",
       "89  o__Bacillales_B          f__Domibacillaceae        g__Domibacillus       \n",
       "90  o__Mycobacteriales       f__Micromonosporaceae     g__Actinoplanes       \n",
       "91  o__Mycobacteriales       f__Geodermatophilaceae    g__Geodermatophilus   \n",
       "92  o__Paenibacillales       f__Paenibacillaceae       g__Paenibacillus      \n",
       "93  o__Pseudomonadales       f__Oleiphilaceae          g__Marinobacter       \n",
       "94  o__Burkholderiales       f__Burkholderiaceae       g__Robbsia            \n",
       "95  o__Pirellulales          f__Pirellulaceae          g__Rhodopirellula     \n",
       "96  o__Enterobacterales      f__Enterobacteriaceae     g__Pantoea            \n",
       "97  o__Pseudomonadales       f__Nitrincolaceae         g__Marinobacterium_A  \n",
       "98  o__Enterobacterales      f__Enterobacteriaceae     g__Izhakiella         \n",
       "99  o__Bacillales_H          f__Bacillaceae_F          g__Bacillus_AO        \n",
       "100 o__Enterobacterales      f__Vibrionaceae           g__Enterovibrio       \n",
       "101 o__Enterobacterales      f__Enterobacteriaceae     g__Franconibacter     \n",
       "102 o__Rhodobacterales       f__Rhodobacteraceae       g__Maritimibacter_A   \n",
       "103 o__Actinomycetales       f__Cellulomonadaceae      g__Cellulomonas       \n",
       "104 o__Burkholderiales       f__Methylophilaceae       g__Methylotenera      \n",
       "105 o__Rhodobacterales       f__Rhodobacteraceae       g__Loktanella         \n",
       "106 o__Campylobacterales     f__Arcobacteraceae        g__Halarcobacter      \n",
       "107 o__Lachnospirales        f__Vallitaleaceae_A       g__Vallitalea_A       \n",
       "108 o__Bacillales_A          f__Planococcaceae         g__Kurthia            \n",
       "    Species                                 logFC      logCPM   PValue      \n",
       "1   s__Mobiluncus curtisii                  -1.8878137 10.65105 1.808077e-30\n",
       "2   s__Halodesulfovibrio spirochaetisodalis -1.3894645 10.55466 9.674228e-24\n",
       "3   s__Bacillus_P indicus                   -1.2757662 10.48323 1.792891e-22\n",
       "4   s__Aliarcobacter faecis                 -1.1867007 10.69226 3.195786e-19\n",
       "5   s__Pseudoalteromonas tetraodonis        -1.1075225 10.40328 9.538149e-13\n",
       "6   s__Achromobacter xylosoxidans           -0.9712485 10.41003 1.221440e-12\n",
       "7   s__Bradyrhizobium erythrophlei_E        -0.8670351 10.42010 1.670043e-10\n",
       "8   s__Campylobacter_D coli                 -0.8155315 10.34277 3.135319e-09\n",
       "9   s__Comamonas thiooxydans                -0.7920272 10.35090 4.594182e-09\n",
       "10  s__Yoonia maricola                      -0.7034777 10.31950 1.499746e-07\n",
       "11  s__Kushneria phyllosphaerae             -0.7553794 10.32534 1.717146e-07\n",
       "12  s__Pectobacterium aquaticum             -0.6668266 10.30043 7.269778e-07\n",
       "13  s__Polaromonas sp002379085              -0.6666650 10.31514 7.365130e-07\n",
       "14  s__Paucibacter_A sp001477625            -0.6287871 10.34287 8.122293e-07\n",
       "15  s__Aquimonas voraii                     -0.6786236 10.28927 1.041934e-06\n",
       "16  s__Blastococcus sp900230285             -0.6382549 10.38970 1.094159e-06\n",
       "17  s__Arthrobacter_D sp002929375           -0.6383960 10.30609 1.134550e-06\n",
       "18  s__Marinobacter adhaerens               -0.6728941 10.29375 1.154964e-06\n",
       "19  s__Roseimaritima ulvae                  -0.6325032 10.30032 1.291879e-06\n",
       "20  s__Acidovorax_A sp001424265             -0.6255741 10.33188 2.160258e-06\n",
       "21  s__Hydrocarboniphaga daqingensis        -0.6117107 10.30997 2.194154e-06\n",
       "22  s__Actinoplanes subtropicus             -0.6321991 10.32587 2.548416e-06\n",
       "23  s__Bacillus_A bombysepticus             -0.6323970 10.29155 3.610594e-06\n",
       "24  s__Novosphingobium fluoreni             -0.6258388 10.35576 4.840792e-06\n",
       "25  s__Pseudorhodobacter wandonensis        -0.6066935 10.30891 5.722187e-06\n",
       "26  s__Escherichia flexneri                 -0.5878144 10.27977 5.909574e-06\n",
       "27  s__Sphingomonas_G montana               -0.6244389 10.29808 6.093779e-06\n",
       "28  s__Devosia_A enhydra                    -0.6445150 10.31467 6.314344e-06\n",
       "29  s__Roseateles sp900109745               -0.6386378 10.46671 6.617526e-06\n",
       "30  s__Castellaniella caeni                 -0.6018172 10.31628 7.430057e-06\n",
       "⋮   ⋮                                       ⋮          ⋮        ⋮           \n",
       "79  s__Arthrobacter_A glacialis             -0.4641683 10.26000 0.0005481431\n",
       "80  s__Cognaticolwellia mytili              -0.4917948 10.26192 0.0005578889\n",
       "81  s__Pseudoxanthomonas_A spadix_A         -0.4563424 10.27802 0.0005916686\n",
       "82  s__Pseudorhodobacter ferrugineus        -0.4660041 10.27485 0.0006013619\n",
       "83  s__Cellulosimicrobium funkei            -0.4834533 10.28693 0.0006113036\n",
       "84  s__Sphingopyxis indica                  -0.4655022 10.27620 0.0006291872\n",
       "85  s__Rhizobium esperanzae                 -0.4848707 10.39119 0.0006570687\n",
       "86  s__Paenibacillus cellulositrophicus_A   -0.4623515 10.27163 0.0006901078\n",
       "87  s__DB6-IX sp000447795                   -0.4491468 10.27350 0.0007782331\n",
       "88  s__Thioalkalivibrio sp000378305         -0.4587844 10.26950 0.0007913910\n",
       "89  s__Domibacillus tundrae                 -0.4892734 10.28425 0.0008291984\n",
       "90  s__Actinoplanes italicus                -0.4490601 10.25888 0.0009381476\n",
       "91  s__Geodermatophilus saharensis          -0.4609608 10.32331 0.0009996913\n",
       "92  s__Paenibacillus odorifer               -0.4432402 10.30442 0.0010951890\n",
       "93  s__Marinobacter mobilis                 -0.4363915 10.25432 0.0013830207\n",
       "94  s__Robbsia sp900095735                  -0.5017227 10.58476 0.0014121432\n",
       "95  s__Rhodopirellula baltica               -0.4548978 10.26475 0.0014974412\n",
       "96  s__Pantoea brenneri                     -0.4237073 10.25166 0.0015805519\n",
       "97  s__Marinobacterium_A aestuarii          -0.4329521 10.26584 0.0016777650\n",
       "98  s__Izhakiella australiensis             -0.4243610 10.29587 0.0018380024\n",
       "99  s__Bacillus_AO sp002019795              -0.4204989 10.26323 0.0019126260\n",
       "100 s__Enterovibrio norvegicus              -0.4127436 10.25876 0.0019484189\n",
       "101 s__Franconibacter helveticus            -0.4303555 10.30281 0.0019710737\n",
       "102 s__Maritimibacter_A sp900177545         -0.4048295 10.25423 0.0019848210\n",
       "103 s__Cellulomonas timonensis              -0.4162133 10.26709 0.0020458167\n",
       "104 s__Methylotenera sp000744605            -0.4169131 10.28983 0.0023703503\n",
       "105 s__Loktanella sp001420005               -0.4037710 10.25714 0.0024797432\n",
       "106 s__Halarcobacter anaerophilus           -0.4136162 10.25350 0.0025272803\n",
       "107 s__Vallitalea_A okinawensis             -0.4038487 10.27404 0.0025611381\n",
       "108 s__Kurthia massiliensis                 -0.4195967 10.24752 0.0029305440\n",
       "    FDR          EnrichedIn   \n",
       "1   1.484883e-28 Environmental\n",
       "2   3.972480e-22 Environmental\n",
       "3   6.425070e-21 Environmental\n",
       "4   8.512019e-18 Environmental\n",
       "5   1.323922e-11 Environmental\n",
       "6   1.631343e-11 Environmental\n",
       "7   1.714403e-09 Environmental\n",
       "8   2.874285e-08 Environmental\n",
       "9   4.134764e-08 Environmental\n",
       "10  1.115472e-06 Environmental\n",
       "11  1.267601e-06 Environmental\n",
       "12  4.792218e-06 Environmental\n",
       "13  4.838890e-06 Environmental\n",
       "14  5.291758e-06 Environmental\n",
       "15  6.711278e-06 Environmental\n",
       "16  7.001905e-06 Environmental\n",
       "17  7.236884e-06 Environmental\n",
       "18  7.319725e-06 Environmental\n",
       "19  8.161198e-06 Environmental\n",
       "20  1.322319e-05 Environmental\n",
       "21  1.338909e-05 Environmental\n",
       "22  1.540775e-05 Environmental\n",
       "23  2.156509e-05 Environmental\n",
       "24  2.822841e-05 Environmental\n",
       "25  3.317185e-05 Environmental\n",
       "26  3.415768e-05 Environmental\n",
       "27  3.511941e-05 Environmental\n",
       "28  3.617899e-05 Environmental\n",
       "29  3.780621e-05 Environmental\n",
       "30  4.208231e-05 Environmental\n",
       "⋮   ⋮            ⋮            \n",
       "79  0.002160780  Environmental\n",
       "80  0.002186081  Environmental\n",
       "81  0.002291117  Environmental\n",
       "82  0.002324087  Environmental\n",
       "83  0.002348693  Environmental\n",
       "84  0.002412700  Environmental\n",
       "85  0.002504995  Environmental\n",
       "86  0.002615774  Environmental\n",
       "87  0.002932882  Environmental\n",
       "88  0.002976778  Environmental\n",
       "89  0.003089509  Environmental\n",
       "90  0.003449793  Environmental\n",
       "91  0.003648873  Environmental\n",
       "92  0.003896422  Environmental\n",
       "93  0.004816138  Environmental\n",
       "94  0.004908879  Environmental\n",
       "95  0.005159889  Environmental\n",
       "96  0.005408451  Environmental\n",
       "97  0.005711355  Environmental\n",
       "98  0.006203258  Environmental\n",
       "99  0.006433082  Environmental\n",
       "100 0.006520091  Environmental\n",
       "101 0.006584722  Environmental\n",
       "102 0.006619428  Environmental\n",
       "103 0.006799839  Environmental\n",
       "104 0.007747853  Environmental\n",
       "105 0.008025573  Environmental\n",
       "106 0.008152650  Environmental\n",
       "107 0.008248371  Environmental\n",
       "108 0.009346444  Environmental"
      ]
     },
     "metadata": {},
     "output_type": "display_data"
    }
   ],
   "source": [
    "obsolete.env = anti_join(remaining.cds.env,ToKeep.cds.env,by=\"Accession\")\n",
    "obsolete.env"
   ]
  },
  {
   "cell_type": "markdown",
   "id": "c99f3ca6-1c15-4d6e-a0a8-62ec070a65a8",
   "metadata": {},
   "source": [
    "#### Filter CDS of matching flagellins "
   ]
  },
  {
   "cell_type": "code",
   "execution_count": 78,
   "id": "6bdd514e-36b9-4dba-bdf9-5c748521b8c6",
   "metadata": {},
   "outputs": [],
   "source": [
    "keep.cds.env = seqs.rem.cds.env[c(which(names(seqs.rem.cds.env) %in% ToKeep.cds.env$seqName))]"
   ]
  },
  {
   "cell_type": "code",
   "execution_count": 79,
   "id": "d5934415-0b9d-472e-96a7-d3f78c15531e",
   "metadata": {},
   "outputs": [
    {
     "data": {
      "text/html": [
       "90"
      ],
      "text/latex": [
       "90"
      ],
      "text/markdown": [
       "90"
      ],
      "text/plain": [
       "[1] 90"
      ]
     },
     "metadata": {},
     "output_type": "display_data"
    }
   ],
   "source": [
    "length(keep.cds.env)"
   ]
  },
  {
   "cell_type": "code",
   "execution_count": 80,
   "id": "96cfa3db-a9f7-43b7-9f08-4acff93e43bc",
   "metadata": {},
   "outputs": [],
   "source": [
    "#Merge all CDS files\n",
    "all.cds.env = c(cds.env,keep.cds.env)"
   ]
  },
  {
   "cell_type": "code",
   "execution_count": 81,
   "id": "5d78e619-9021-4bf6-9cfa-567bf716136d",
   "metadata": {
    "tags": []
   },
   "outputs": [
    {
     "data": {
      "text/html": [
       "407"
      ],
      "text/latex": [
       "407"
      ],
      "text/markdown": [
       "407"
      ],
      "text/plain": [
       "[1] 407"
      ]
     },
     "metadata": {},
     "output_type": "display_data"
    }
   ],
   "source": [
    "length(all.cds.env)"
   ]
  },
  {
   "cell_type": "code",
   "execution_count": 82,
   "id": "8e4b845b-f8b6-46e9-891c-fe6b82eff6b7",
   "metadata": {},
   "outputs": [],
   "source": [
    "#Write fasta with all cds \n",
    "write.fasta(sequences=all.cds.env,names=names(all.cds.env),nbchar=80,file.out=\"all.cds.env.fna\")"
   ]
  },
  {
   "cell_type": "markdown",
   "id": "ff543abc-5c81-46ec-bfa1-f69664775668",
   "metadata": {},
   "source": [
    "# Protein sequences - filter and sort"
   ]
  },
  {
   "cell_type": "code",
   "execution_count": 83,
   "id": "91449867-55d4-4dbc-baba-538dc421bba6",
   "metadata": {
    "tags": []
   },
   "outputs": [],
   "source": [
    "#Import complete flagellin database\n",
    "flagellins.markers.sb=seqinr::read.fasta(\"/ebio/abt3_projects/small_projects/aborbon/Thesis_FlagellinDiversity/1_shortbred/out.finalmap.faa\",seqtype=\"AA\")"
   ]
  },
  {
   "cell_type": "markdown",
   "id": "16563d31-6de6-467e-9a5c-b5bc2fca7f12",
   "metadata": {},
   "source": [
    "### A. Animals-enriched flagellins"
   ]
  },
  {
   "cell_type": "code",
   "execution_count": 94,
   "id": "62dc7780-70b5-465c-9bc5-71ebcc3b1057",
   "metadata": {},
   "outputs": [],
   "source": [
    "library(phylotools)"
   ]
  },
  {
   "cell_type": "markdown",
   "id": "ee5f4f7d-1f4b-4316-b32e-89ebe3e941f7",
   "metadata": {},
   "source": [
    "#### Sort protein fasta"
   ]
  },
  {
   "cell_type": "code",
   "execution_count": 85,
   "id": "98b6be86-e569-4c8f-97b9-6349aad9c8da",
   "metadata": {
    "tags": []
   },
   "outputs": [],
   "source": [
    "#Table matching cds ids to protein ids\n",
    "cds.to.protein.animals = getSeqNames.rem(\"all.cds.animals.fna\")"
   ]
  },
  {
   "cell_type": "code",
   "execution_count": 86,
   "id": "d785a44c-d747-4fc2-b92a-0a950200b6fe",
   "metadata": {},
   "outputs": [],
   "source": [
    "#Set order of accessions\n",
    "order_vec =cds.to.protein.animals$Accession"
   ]
  },
  {
   "cell_type": "code",
   "execution_count": 87,
   "id": "7f9c0bff-b9aa-47e6-a5d1-19605e7078b5",
   "metadata": {},
   "outputs": [],
   "source": [
    "#Extract all cds-matching protein sequences from flagellin database\n",
    "all.protein.with.cds.animals = flagellins.markers.sb[c(which(names(flagellins.markers.sb) %in% cds.to.protein.animals$Accession))]"
   ]
  },
  {
   "cell_type": "code",
   "execution_count": 88,
   "id": "2b73585c-dfa2-4d0f-91e0-f92e5b63897c",
   "metadata": {},
   "outputs": [],
   "source": [
    "#Get index for labels in order_vec\n",
    "match_vec = match(names(all.protein.with.cds.animals),order_vec)"
   ]
  },
  {
   "cell_type": "code",
   "execution_count": 89,
   "id": "9b479128-d0c1-4224-a72b-2b2069dfe55e",
   "metadata": {},
   "outputs": [],
   "source": [
    "sorted_seqs_animals = all.protein.with.cds.animals[order(match_vec)]"
   ]
  },
  {
   "cell_type": "code",
   "execution_count": 90,
   "id": "dea6e75c-632f-409e-9043-81c60fcce9b5",
   "metadata": {
    "collapsed": true,
    "jupyter": {
     "outputs_hidden": true
    },
    "tags": []
   },
   "outputs": [
    {
     "data": {
      "text/plain": [
       "$CAI29258.1\n",
       "  [1] \"M\" \"A\" \"Q\" \"V\" \"I\" \"N\" \"T\" \"N\" \"S\" \"L\" \"S\" \"L\" \"I\" \"T\" \"Q\" \"N\" \"N\" \"I\"\n",
       " [19] \"N\" \"K\" \"N\" \"Q\" \"S\" \"A\" \"L\" \"S\" \"S\" \"S\" \"I\" \"E\" \"R\" \"L\" \"S\" \"S\" \"G\" \"L\"\n",
       " [37] \"R\" \"I\" \"N\" \"S\" \"A\" \"K\" \"D\" \"D\" \"A\" \"A\" \"G\" \"Q\" \"A\" \"I\" \"A\" \"N\" \"R\" \"F\"\n",
       " [55] \"T\" \"S\" \"N\" \"I\" \"K\" \"G\" \"L\" \"T\" \"Q\" \"A\" \"A\" \"R\" \"N\" \"A\" \"N\" \"D\" \"G\" \"I\"\n",
       " [73] \"S\" \"V\" \"A\" \"Q\" \"T\" \"T\" \"E\" \"G\" \"A\" \"L\" \"S\" \"E\" \"I\" \"N\" \"N\" \"N\" \"L\" \"Q\"\n",
       " [91] \"R\" \"V\" \"R\" \"E\" \"L\" \"T\" \"V\" \"Q\" \"A\" \"T\" \"T\" \"G\" \"T\" \"N\" \"S\" \"E\" \"S\" \"D\"\n",
       "[109] \"L\" \"S\" \"S\" \"I\" \"Q\" \"D\" \"E\" \"I\" \"K\" \"S\" \"R\" \"L\" \"D\" \"E\" \"I\" \"D\" \"R\" \"V\"\n",
       "[127] \"S\" \"G\" \"Q\" \"T\" \"Q\" \"F\" \"N\" \"G\" \"V\" \"N\" \"V\" \"L\" \"A\" \"K\" \"N\" \"G\" \"S\" \"M\"\n",
       "[145] \"K\" \"I\" \"Q\" \"V\" \"G\" \"A\" \"N\" \"D\" \"N\" \"Q\" \"T\" \"I\" \"T\" \"I\" \"D\" \"L\" \"K\" \"Q\"\n",
       "[163] \"I\" \"D\" \"A\" \"K\" \"T\" \"L\" \"G\" \"L\" \"D\" \"G\" \"F\" \"S\" \"V\" \"K\" \"N\" \"N\" \"D\" \"T\"\n",
       "[181] \"V\" \"T\" \"T\" \"S\" \"A\" \"P\" \"V\" \"T\" \"A\" \"F\" \"G\" \"A\" \"T\" \"T\" \"T\" \"N\" \"N\" \"I\"\n",
       "[199] \"K\" \"L\" \"T\" \"G\" \"I\" \"T\" \"L\" \"S\" \"T\" \"E\" \"A\" \"A\" \"T\" \"D\" \"T\" \"G\" \"G\" \"T\"\n",
       "[217] \"N\" \"P\" \"A\" \"S\" \"I\" \"E\" \"G\" \"V\" \"Y\" \"T\" \"D\" \"N\" \"G\" \"N\" \"D\" \"Y\" \"Y\" \"A\"\n",
       "[235] \"K\" \"V\" \"Q\" \"I\" \"D\" \"N\" \"T\" \"A\" \"G\" \"S\" \"A\" \"T\" \"A\" \"N\" \"L\" \"G\" \"A\" \"V\"\n",
       "[253] \"S\" \"L\" \"V\" \"K\" \"L\" \"Q\" \"D\" \"S\" \"K\" \"G\" \"N\" \"D\" \"T\" \"D\" \"T\" \"Y\" \"A\" \"L\"\n",
       "[271] \"K\" \"D\" \"T\" \"N\" \"G\" \"N\" \"L\" \"Y\" \"A\" \"A\" \"D\" \"V\" \"N\" \"E\" \"T\" \"T\" \"G\" \"A\"\n",
       "[289] \"V\" \"S\" \"V\" \"K\" \"T\" \"I\" \"T\" \"Y\" \"T\" \"D\" \"S\" \"S\" \"G\" \"A\" \"A\" \"S\" \"S\" \"P\"\n",
       "[307] \"T\" \"A\" \"V\" \"K\" \"L\" \"G\" \"G\" \"D\" \"D\" \"G\" \"K\" \"T\" \"E\" \"V\" \"V\" \"D\" \"I\" \"D\"\n",
       "[325] \"G\" \"K\" \"T\" \"Y\" \"D\" \"S\" \"A\" \"D\" \"L\" \"N\" \"G\" \"G\" \"N\" \"L\" \"Q\" \"T\" \"G\" \"L\"\n",
       "[343] \"T\" \"A\" \"G\" \"G\" \"E\" \"A\" \"L\" \"T\" \"A\" \"V\" \"A\" \"N\" \"G\" \"K\" \"T\" \"T\" \"D\" \"P\"\n",
       "[361] \"L\" \"K\" \"A\" \"L\" \"D\" \"D\" \"A\" \"I\" \"A\" \"S\" \"V\" \"D\" \"K\" \"F\" \"R\" \"S\" \"S\" \"L\"\n",
       "[379] \"G\" \"A\" \"V\" \"Q\" \"N\" \"R\" \"L\" \"D\" \"S\" \"A\" \"V\" \"T\" \"N\" \"L\" \"N\" \"N\" \"T\" \"T\"\n",
       "[397] \"T\" \"N\" \"L\" \"S\" \"E\" \"A\" \"Q\" \"S\" \"R\" \"I\" \"Q\" \"D\" \"A\" \"D\" \"Y\" \"A\" \"T\" \"E\"\n",
       "[415] \"V\" \"S\" \"N\" \"M\" \"S\" \"K\" \"A\" \"Q\" \"I\" \"I\" \"Q\" \"Q\" \"A\" \"G\" \"N\" \"S\" \"V\" \"L\"\n",
       "[433] \"A\" \"K\" \"A\" \"N\" \"Q\" \"V\" \"P\" \"Q\" \"Q\" \"V\" \"L\" \"S\" \"L\" \"L\" \"Q\" \"G\"\n",
       "attr(,\"name\")\n",
       "[1] \"CAI29258.1\"\n",
       "attr(,\"Annot\")\n",
       "[1] \">CAI29258.1 flagellin [Escherichia coli]\"\n",
       "attr(,\"class\")\n",
       "[1] \"SeqFastaAA\"\n",
       "\n",
       "$EEC56699.1\n",
       "  [1] \"M\" \"V\" \"V\" \"Q\" \"H\" \"N\" \"L\" \"S\" \"A\" \"M\" \"N\" \"T\" \"N\" \"R\" \"Q\" \"L\" \"G\" \"I\"\n",
       " [19] \"V\" \"T\" \"S\" \"A\" \"Q\" \"S\" \"T\" \"S\" \"T\" \"E\" \"K\" \"L\" \"S\" \"S\" \"G\" \"Y\" \"R\" \"I\"\n",
       " [37] \"N\" \"R\" \"S\" \"A\" \"D\" \"D\" \"A\" \"A\" \"G\" \"L\" \"S\" \"I\" \"S\" \"E\" \"K\" \"M\" \"R\" \"S\"\n",
       " [55] \"Q\" \"I\" \"R\" \"G\" \"L\" \"N\" \"K\" \"A\" \"A\" \"S\" \"N\" \"A\" \"Q\" \"D\" \"G\" \"I\" \"S\" \"L\"\n",
       " [73] \"V\" \"Q\" \"V\" \"A\" \"E\" \"G\" \"A\" \"L\" \"N\" \"E\" \"T\" \"H\" \"S\" \"I\" \"L\" \"Q\" \"R\" \"M\"\n",
       " [91] \"N\" \"E\" \"L\" \"A\" \"T\" \"Q\" \"A\" \"A\" \"N\" \"D\" \"T\" \"N\" \"T\" \"S\" \"T\" \"D\" \"R\" \"T\"\n",
       "[109] \"A\" \"I\" \"Q\" \"S\" \"E\" \"I\" \"D\" \"Q\" \"L\" \"T\" \"S\" \"E\" \"V\" \"N\" \"R\" \"I\" \"Q\" \"S\"\n",
       "[127] \"T\" \"T\" \"Q\" \"F\" \"N\" \"S\" \"M\" \"N\" \"L\" \"L\" \"D\" \"G\" \"T\" \"F\" \"S\" \"S\" \"K\" \"N\"\n",
       "[145] \"L\" \"Q\" \"V\" \"G\" \"S\" \"L\" \"S\" \"G\" \"Q\" \"S\" \"I\" \"G\" \"I\" \"S\" \"I\" \"K\" \"N\" \"M\"\n",
       "[163] \"D\" \"A\" \"S\" \"S\" \"L\" \"G\" \"V\" \"N\" \"S\" \"L\" \"K\" \"V\" \"S\" \"S\" \"F\" \"A\" \"S\" \"A\"\n",
       "[181] \"G\" \"S\" \"A\" \"M\" \"D\" \"K\" \"I\" \"Q\" \"S\" \"A\" \"I\" \"N\" \"L\" \"V\" \"S\" \"T\" \"Q\" \"R\"\n",
       "[199] \"S\" \"T\" \"L\" \"G\" \"A\" \"L\" \"Q\" \"N\" \"R\" \"L\" \"E\" \"H\" \"T\" \"I\" \"N\" \"N\" \"L\" \"N\"\n",
       "[217] \"T\" \"T\" \"A\" \"E\" \"N\" \"T\" \"Q\" \"A\" \"A\" \"E\" \"S\" \"R\" \"I\" \"R\" \"D\" \"V\" \"D\" \"M\"\n",
       "[235] \"A\" \"T\" \"E\" \"M\" \"V\" \"E\" \"Y\" \"S\" \"K\" \"N\" \"N\" \"I\" \"L\" \"A\" \"Q\" \"A\" \"G\" \"Q\"\n",
       "[253] \"S\" \"M\" \"L\" \"A\" \"Q\" \"A\" \"N\" \"Q\" \"A\" \"T\" \"Q\" \"G\" \"V\" \"L\" \"S\" \"L\" \"L\" \"Q\"\n",
       "attr(,\"name\")\n",
       "[1] \"EEC56699.1\"\n",
       "attr(,\"Annot\")\n",
       "[1] \">EEC56699.1 bacterial flagellin domain protein [[Bacteroides] pectinophilus ATCC 43243]\"\n",
       "attr(,\"class\")\n",
       "[1] \"SeqFastaAA\"\n",
       "\n",
       "$EEG95687.1\n",
       "  [1] \"M\" \"Q\" \"H\" \"G\" \"R\" \"C\" \"I\" \"T\" \"F\" \"K\" \"E\" \"E\" \"N\" \"N\" \"M\" \"V\" \"V\" \"Q\"\n",
       " [19] \"H\" \"N\" \"M\" \"T\" \"A\" \"A\" \"N\" \"A\" \"N\" \"R\" \"M\" \"L\" \"G\" \"I\" \"T\" \"T\" \"S\" \"A\"\n",
       " [37] \"Q\" \"A\" \"K\" \"S\" \"S\" \"E\" \"K\" \"L\" \"S\" \"S\" \"G\" \"Y\" \"K\" \"I\" \"N\" \"R\" \"A\" \"A\"\n",
       " [55] \"D\" \"D\" \"A\" \"A\" \"G\" \"L\" \"T\" \"I\" \"S\" \"E\" \"K\" \"M\" \"R\" \"S\" \"Q\" \"V\" \"R\" \"G\"\n",
       " [73] \"L\" \"N\" \"K\" \"A\" \"S\" \"D\" \"N\" \"A\" \"E\" \"D\" \"G\" \"V\" \"S\" \"L\" \"I\" \"Q\" \"V\" \"A\"\n",
       " [91] \"E\" \"G\" \"A\" \"L\" \"G\" \"E\" \"T\" \"H\" \"S\" \"I\" \"L\" \"Q\" \"R\" \"M\" \"N\" \"E\" \"L\" \"A\"\n",
       "[109] \"T\" \"Q\" \"A\" \"A\" \"N\" \"D\" \"T\" \"N\" \"T\" \"T\" \"A\" \"D\" \"R\" \"T\" \"A\" \"I\" \"Q\" \"K\"\n",
       "[127] \"E\" \"V\" \"D\" \"Q\" \"L\" \"A\" \"S\" \"E\" \"I\" \"S\" \"R\" \"I\" \"R\" \"S\" \"T\" \"T\" \"Q\" \"F\"\n",
       "[145] \"N\" \"T\" \"M\" \"N\" \"L\" \"L\" \"D\" \"G\" \"N\" \"F\" \"A\" \"T\" \"K\" \"N\" \"L\" \"Q\" \"V\" \"G\"\n",
       "[163] \"S\" \"L\" \"C\" \"G\" \"Q\" \"K\" \"I\" \"T\" \"V\" \"S\" \"I\" \"D\" \"D\" \"M\" \"S\" \"A\" \"T\" \"S\"\n",
       "[181] \"L\" \"G\" \"V\" \"N\" \"A\" \"L\" \"K\" \"V\" \"T\" \"S\" \"F\" \"T\" \"D\" \"A\" \"G\" \"A\" \"A\" \"M\"\n",
       "[199] \"K\" \"S\" \"V\" \"Q\" \"S\" \"A\" \"I\" \"S\" \"M\" \"V\" \"S\" \"G\" \"Q\" \"R\" \"S\" \"Y\" \"L\" \"G\"\n",
       "[217] \"A\" \"L\" \"Q\" \"N\" \"R\" \"L\" \"E\" \"H\" \"T\" \"I\" \"A\" \"N\" \"L\" \"D\" \"N\" \"I\" \"S\" \"E\"\n",
       "[235] \"N\" \"T\" \"Q\" \"S\" \"A\" \"E\" \"S\" \"R\" \"I\" \"R\" \"D\" \"T\" \"D\" \"M\" \"A\" \"E\" \"E\" \"M\"\n",
       "[253] \"V\" \"T\" \"Y\" \"S\" \"K\" \"N\" \"N\" \"I\" \"L\" \"A\" \"Q\" \"A\" \"G\" \"Q\" \"S\" \"M\" \"L\" \"A\"\n",
       "[271] \"Q\" \"A\" \"N\" \"Q\" \"S\" \"T\" \"Q\" \"G\" \"V\" \"L\" \"S\" \"L\" \"L\" \"Q\"\n",
       "attr(,\"name\")\n",
       "[1] \"EEG95687.1\"\n",
       "attr(,\"Annot\")\n",
       "[1] \">EEG95687.1 bacterial flagellin domain protein [Roseburia inulinivorans DSM 16841]\"\n",
       "attr(,\"class\")\n",
       "[1] \"SeqFastaAA\"\n",
       "\n",
       "$EEV02820.1\n",
       "  [1] \"M\" \"R\" \"G\" \"G\" \"D\" \"N\" \"R\" \"R\" \"R\" \"N\" \"R\" \"M\" \"R\" \"I\" \"N\" \"Y\" \"N\" \"V\"\n",
       " [19] \"S\" \"A\" \"A\" \"I\" \"A\" \"N\" \"K\" \"H\" \"L\" \"L\" \"G\" \"I\" \"E\" \"D\" \"N\" \"L\" \"S\" \"A\"\n",
       " [37] \"S\" \"M\" \"E\" \"R\" \"L\" \"S\" \"S\" \"G\" \"L\" \"K\" \"I\" \"N\" \"H\" \"S\" \"K\" \"D\" \"N\" \"P\"\n",
       " [55] \"A\" \"G\" \"M\" \"A\" \"I\" \"S\" \"N\" \"K\" \"M\" \"K\" \"A\" \"Q\" \"I\" \"D\" \"G\" \"L\" \"N\" \"R\"\n",
       " [73] \"A\" \"S\" \"Q\" \"N\" \"A\" \"S\" \"D\" \"G\" \"I\" \"S\" \"V\" \"I\" \"Q\" \"I\" \"A\" \"D\" \"G\" \"A\"\n",
       " [91] \"L\" \"S\" \"E\" \"T\" \"T\" \"S\" \"I\" \"L\" \"Q\" \"R\" \"M\" \"R\" \"E\" \"L\" \"S\" \"V\" \"Q\" \"A\"\n",
       "[109] \"A\" \"S\" \"D\" \"A\" \"T\" \"M\" \"T\" \"P\" \"A\" \"D\" \"K\" \"E\" \"A\" \"I\" \"Q\" \"K\" \"E\" \"I\"\n",
       "[127] \"T\" \"S\" \"L\" \"K\" \"D\" \"E\" \"V\" \"D\" \"R\" \"I\" \"S\" \"T\" \"D\" \"T\" \"E\" \"Y\" \"N\" \"S\"\n",
       "[145] \"K\" \"T\" \"L\" \"L\" \"D\" \"G\" \"S\" \"L\" \"D\" \"T\" \"R\" \"V\" \"Y\" \"T\" \"K\" \"N\" \"A\" \"T\"\n",
       "[163] \"R\" \"V\" \"D\" \"I\" \"S\" \"D\" \"H\" \"V\" \"K\" \"A\" \"G\" \"Q\" \"Y\" \"Q\" \"L\" \"S\" \"I\" \"D\"\n",
       "[181] \"T\" \"A\" \"A\" \"T\" \"Q\" \"A\" \"G\" \"P\" \"V\" \"T\" \"A\" \"N\" \"Q\" \"N\" \"Y\" \"N\" \"S\" \"T\"\n",
       "[199] \"A\" \"P\" \"V\" \"G\" \"A\" \"S\" \"G\" \"T\" \"M\" \"S\" \"I\" \"N\" \"G\" \"S\" \"K\" \"V\" \"E\" \"I\"\n",
       "[217] \"E\" \"A\" \"A\" \"D\" \"T\" \"Y\" \"A\" \"E\" \"A\" \"F\" \"E\" \"K\" \"I\" \"R\" \"N\" \"A\" \"A\" \"E\"\n",
       "[235] \"T\" \"G\" \"E\" \"T\" \"T\" \"V\" \"K\" \"I\" \"E\" \"K\" \"N\" \"G\" \"A\" \"L\" \"S\" \"F\" \"T\" \"A\"\n",
       "[253] \"E\" \"Q\" \"Y\" \"G\" \"M\" \"S\" \"S\" \"I\" \"L\" \"E\" \"I\" \"A\" \"F\" \"D\" \"D\" \"K\" \"Q\" \"L\"\n",
       "[271] \"A\" \"N\" \"A\" \"L\" \"G\" \"F\" \"T\" \"A\" \"D\" \"G\" \"G\" \"N\" \"S\" \"V\" \"V\" \"E\" \"D\" \"P\"\n",
       "[289] \"E\" \"N\" \"K\" \"G\" \"S\" \"Y\" \"V\" \"Y\" \"G\" \"Q\" \"I\" \"Q\" \"N\" \"G\" \"K\" \"V\" \"I\" \"V\"\n",
       "[307] \"P\" \"S\" \"G\" \"T\" \"D\" \"A\" \"E\" \"V\" \"T\" \"L\" \"T\" \"K\" \"P\" \"S\" \"D\" \"G\" \"T\" \"G\"\n",
       "[325] \"F\" \"G\" \"D\" \"T\" \"A\" \"T\" \"V\" \"K\" \"T\" \"D\" \"G\" \"N\" \"K\" \"I\" \"T\" \"V\" \"T\" \"D\"\n",
       "[343] \"R\" \"A\" \"G\" \"F\" \"E\" \"M\" \"S\" \"F\" \"L\" \"A\" \"D\" \"A\" \"G\" \"Y\" \"T\" \"G\" \"K\" \"L\"\n",
       "[361] \"D\" \"F\" \"D\" \"V\" \"T\" \"D\" \"I\" \"G\" \"T\" \"M\" \"A\" \"L\" \"H\" \"I\" \"G\" \"A\" \"N\" \"E\"\n",
       "[379] \"D\" \"Q\" \"E\" \"T\" \"R\" \"V\" \"R\" \"I\" \"P\" \"E\" \"V\" \"S\" \"C\" \"K\" \"S\" \"L\" \"Y\" \"I\"\n",
       "[397] \"D\" \"D\" \"A\" \"D\" \"V\" \"T\" \"T\" \"V\" \"N\" \"G\" \"A\" \"G\" \"R\" \"G\" \"I\" \"T\" \"Q\" \"F\"\n",
       "[415] \"D\" \"D\" \"A\" \"I\" \"S\" \"K\" \"V\" \"S\" \"E\" \"V\" \"R\" \"S\" \"R\" \"L\" \"G\" \"A\" \"Y\" \"Q\"\n",
       "[433] \"N\" \"R\" \"L\" \"E\" \"S\" \"T\" \"V\" \"S\" \"S\" \"L\" \"D\" \"T\" \"F\" \"E\" \"E\" \"N\" \"M\" \"T\"\n",
       "[451] \"G\" \"A\" \"Q\" \"S\" \"R\" \"L\" \"T\" \"D\" \"A\" \"D\" \"M\" \"A\" \"S\" \"E\" \"M\" \"T\" \"D\" \"Y\"\n",
       "[469] \"T\" \"H\" \"Q\" \"N\" \"V\" \"L\" \"N\" \"Q\" \"A\" \"A\" \"I\" \"S\" \"V\" \"L\" \"T\" \"Q\" \"A\" \"N\"\n",
       "[487] \"D\" \"L\" \"P\" \"Q\" \"Q\" \"V\" \"L\" \"Q\" \"I\" \"L\" \"Q\"\n",
       "attr(,\"name\")\n",
       "[1] \"EEV02820.1\"\n",
       "attr(,\"Annot\")\n",
       "[1] \">EEV02820.1 bacterial flagellin domain protein [Roseburia intestinalis L1-82]\"\n",
       "attr(,\"class\")\n",
       "[1] \"SeqFastaAA\"\n",
       "\n",
       "$CBL40883.1\n",
       "  [1] \"M\" \"V\" \"I\" \"Q\" \"H\" \"N\" \"I\" \"A\" \"A\" \"I\" \"N\" \"S\" \"Y\" \"R\" \"N\" \"L\" \"G\" \"T\"\n",
       " [19] \"N\" \"Q\" \"S\" \"A\" \"L\" \"S\" \"K\" \"N\" \"L\" \"E\" \"K\" \"L\" \"S\" \"S\" \"G\" \"Y\" \"K\" \"I\"\n",
       " [37] \"N\" \"R\" \"A\" \"G\" \"D\" \"D\" \"A\" \"A\" \"G\" \"L\" \"A\" \"I\" \"S\" \"E\" \"T\" \"M\" \"R\" \"S\"\n",
       " [55] \"Q\" \"I\" \"N\" \"G\" \"L\" \"N\" \"Q\" \"A\" \"V\" \"N\" \"N\" \"A\" \"N\" \"D\" \"A\" \"I\" \"G\" \"L\"\n",
       " [73] \"I\" \"Q\" \"T\" \"A\" \"E\" \"G\" \"A\" \"M\" \"T\" \"E\" \"T\" \"H\" \"S\" \"M\" \"L\" \"Q\" \"R\" \"M\"\n",
       " [91] \"K\" \"T\" \"L\" \"S\" \"T\" \"Q\" \"A\" \"A\" \"N\" \"G\" \"T\" \"Y\" \"T\" \"K\" \"T\" \"A\" \"R\" \"D\"\n",
       "[109] \"N\" \"I\" \"K\" \"A\" \"E\" \"I\" \"D\" \"A\" \"L\" \"N\" \"K\" \"E\" \"I\" \"T\" \"R\" \"I\" \"A\" \"T\"\n",
       "[127] \"T\" \"T\" \"E\" \"F\" \"N\" \"G\" \"E\" \"K\" \"P\" \"L\" \"S\" \"P\" \"D\" \"T\" \"K\" \"T\" \"K\" \"G\"\n",
       "[145] \"K\" \"N\" \"L\" \"T\" \"F\" \"F\" \"I\" \"G\" \"A\" \"S\" \"A\" \"D\" \"A\" \"S\" \"N\" \"A\" \"M\" \"T\"\n",
       "[163] \"V\" \"A\" \"Q\" \"M\" \"T\" \"M\" \"T\" \"A\" \"V\" \"A\" \"L\" \"T\" \"I\" \"D\" \"R\" \"I\" \"A\" \"V\"\n",
       "[181] \"D\" \"N\" \"T\" \"T\" \"N\" \"A\" \"F\" \"K\" \"A\" \"M\" \"K\" \"S\" \"I\" \"D\" \"A\" \"A\" \"I\" \"E\"\n",
       "[199] \"K\" \"V\" \"S\" \"T\" \"Y\" \"R\" \"A\" \"T\" \"L\" \"G\" \"A\" \"A\" \"Q\" \"N\" \"R\" \"L\" \"E\" \"H\"\n",
       "[217] \"T\" \"V\" \"N\" \"N\" \"L\" \"K\" \"V\" \"T\" \"S\" \"E\" \"N\" \"I\" \"T\" \"S\" \"A\" \"E\" \"S\" \"R\"\n",
       "[235] \"I\" \"R\" \"D\" \"T\" \"D\" \"M\" \"A\" \"D\" \"E\" \"I\" \"T\" \"A\" \"Y\" \"T\" \"K\" \"N\" \"N\" \"I\"\n",
       "[253] \"L\" \"L\" \"Q\" \"A\" \"A\" \"Q\" \"S\" \"M\" \"L\" \"S\" \"Q\" \"S\" \"N\" \"A\" \"M\" \"P\" \"Q\" \"G\"\n",
       "[271] \"V\" \"L\" \"S\" \"M\" \"L\" \"Q\"\n",
       "attr(,\"name\")\n",
       "[1] \"CBL40883.1\"\n",
       "attr(,\"Annot\")\n",
       "[1] \">CBL40883.1 Flagellin and related hook-associated proteins [butyrate-producing bacterium SS3/4]\"\n",
       "attr(,\"class\")\n",
       "[1] \"SeqFastaAA\"\n",
       "\n",
       "$EFW38744.1\n",
       "  [1] \"M\" \"P\" \"W\" \"R\" \"N\" \"E\" \"P\" \"L\" \"K\" \"I\" \"A\" \"K\" \"G\" \"V\" \"S\" \"N\" \"M\" \"I\"\n",
       " [19] \"I\" \"N\" \"H\" \"N\" \"M\" \"S\" \"A\" \"M\" \"F\" \"A\" \"Q\" \"R\" \"T\" \"L\" \"G\" \"N\" \"T\" \"N\"\n",
       " [37] \"L\" \"S\" \"V\" \"Q\" \"K\" \"N\" \"M\" \"E\" \"K\" \"L\" \"S\" \"S\" \"G\" \"L\" \"R\" \"I\" \"N\" \"R\"\n",
       " [55] \"A\" \"G\" \"D\" \"D\" \"A\" \"S\" \"G\" \"L\" \"A\" \"V\" \"S\" \"E\" \"K\" \"M\" \"R\" \"S\" \"Q\" \"I\"\n",
       " [73] \"R\" \"G\" \"L\" \"N\" \"Q\" \"A\" \"S\" \"T\" \"N\" \"A\" \"Q\" \"N\" \"G\" \"I\" \"S\" \"F\" \"I\" \"Q\"\n",
       " [91] \"V\" \"A\" \"E\" \"S\" \"Y\" \"L\" \"Q\" \"E\" \"T\" \"T\" \"D\" \"V\" \"I\" \"Q\" \"R\" \"I\" \"R\" \"E\"\n",
       "[109] \"L\" \"S\" \"V\" \"Q\" \"S\" \"A\" \"N\" \"G\" \"I\" \"Y\" \"S\" \"A\" \"E\" \"D\" \"R\" \"M\" \"Y\" \"I\"\n",
       "[127] \"Q\" \"V\" \"E\" \"V\" \"S\" \"Q\" \"L\" \"V\" \"A\" \"E\" \"I\" \"D\" \"R\" \"I\" \"A\" \"S\" \"H\" \"A\"\n",
       "[145] \"Q\" \"F\" \"N\" \"G\" \"M\" \"N\" \"M\" \"L\" \"T\" \"G\" \"R\" \"F\" \"A\" \"R\" \"E\" \"T\" \"G\" \"E\"\n",
       "[163] \"N\" \"T\" \"V\" \"T\" \"A\" \"S\" \"M\" \"W\" \"F\" \"H\" \"I\" \"G\" \"A\" \"N\" \"M\" \"D\" \"Q\" \"R\"\n",
       "[181] \"T\" \"R\" \"A\" \"Y\" \"I\" \"G\" \"T\" \"M\" \"T\" \"A\" \"A\" \"A\" \"L\" \"G\" \"V\" \"R\" \"D\" \"V\"\n",
       "[199] \"G\" \"D\" \"E\" \"S\" \"I\" \"L\" \"N\" \"I\" \"D\" \"D\" \"P\" \"E\" \"K\" \"A\" \"N\" \"R\" \"A\" \"I\"\n",
       "[217] \"G\" \"T\" \"L\" \"D\" \"E\" \"A\" \"I\" \"K\" \"K\" \"I\" \"N\" \"K\" \"Q\" \"R\" \"A\" \"D\" \"L\" \"G\"\n",
       "[235] \"A\" \"Y\" \"Q\" \"N\" \"R\" \"L\" \"E\" \"Y\" \"T\" \"V\" \"I\" \"G\" \"V\" \"N\" \"V\" \"A\" \"A\" \"E\"\n",
       "[253] \"N\" \"L\" \"Q\" \"A\" \"A\" \"E\" \"S\" \"R\" \"I\" \"R\" \"D\" \"V\" \"D\" \"M\" \"A\" \"K\" \"E\" \"M\"\n",
       "[271] \"V\" \"D\" \"Y\" \"T\" \"K\" \"N\" \"Q\" \"I\" \"L\" \"V\" \"Q\" \"S\" \"G\" \"T\" \"A\" \"M\" \"L\" \"A\"\n",
       "[289] \"Q\" \"A\" \"N\" \"Q\" \"A\" \"T\" \"Q\" \"S\" \"V\" \"L\" \"S\" \"L\" \"L\" \"R\"\n",
       "attr(,\"name\")\n",
       "[1] \"EFW38744.1\"\n",
       "attr(,\"Annot\")\n",
       "[1] \">EFW38744.1 flagellar filament 33 kDa core protein [Treponema phagedenis F0421]\"\n",
       "attr(,\"class\")\n",
       "[1] \"SeqFastaAA\"\n"
      ]
     },
     "metadata": {},
     "output_type": "display_data"
    }
   ],
   "source": [
    "head(sorted_seqs_animals)"
   ]
  },
  {
   "cell_type": "code",
   "execution_count": 160,
   "id": "afee89ac-22fc-4dce-9bd4-55739e9f318a",
   "metadata": {},
   "outputs": [
    {
     "data": {
      "text/html": [
       "'/ebio/abt3_projects2/Flagellin_Diversity/code/notebooks/shortbred/edgeR/subsampled_opt1/cds'"
      ],
      "text/latex": [
       "'/ebio/abt3\\_projects2/Flagellin\\_Diversity/code/notebooks/shortbred/edgeR/subsampled\\_opt1/cds'"
      ],
      "text/markdown": [
       "'/ebio/abt3_projects2/Flagellin_Diversity/code/notebooks/shortbred/edgeR/subsampled_opt1/cds'"
      ],
      "text/plain": [
       "[1] \"/ebio/abt3_projects2/Flagellin_Diversity/code/notebooks/shortbred/edgeR/subsampled_opt1/cds\""
      ]
     },
     "metadata": {},
     "output_type": "display_data"
    }
   ],
   "source": [
    "getwd()"
   ]
  },
  {
   "cell_type": "code",
   "execution_count": 159,
   "id": "94dea1a6-9623-4850-9105-40f757e8f886",
   "metadata": {},
   "outputs": [],
   "source": [
    "#Write file\n",
    "write.fasta(sequences=sorted_seqs_animals,names=names(sorted_seqs_animals),nbchar=80,file.out=\"all.cds.prot.animals.faa\")"
   ]
  },
  {
   "cell_type": "markdown",
   "id": "289f90b8-f847-4f3e-9bcd-c89c769a62b4",
   "metadata": {},
   "source": [
    "#### Rename CDS file"
   ]
  },
  {
   "cell_type": "code",
   "execution_count": 95,
   "id": "2e71c014-036a-4d52-9334-eba06d6ef8a6",
   "metadata": {},
   "outputs": [],
   "source": [
    "newLabels = select(cds.to.protein.animals,seqName,Accession)"
   ]
  },
  {
   "cell_type": "code",
   "execution_count": 104,
   "id": "2ed2a1c6-fc79-4f73-8d94-cb609487e3fa",
   "metadata": {},
   "outputs": [
    {
     "name": "stdout",
     "output_type": "stream",
     "text": [
      "codon_alignments/renamed.all.cds.animals.fasta has been saved to  /ebio/abt3_projects2/Flagellin_Diversity/code/notebooks/shortbred/edgeR/subsampled_opt1/cds \n"
     ]
    }
   ],
   "source": [
    "#Rename using the protein accession - for selection analysis I need DNA - protein sequences with matching names\n",
    "all.cds.accnLabel = rename.fasta(infile=\"all.cds.animals.fna\",newLabels,outfile = \"codon_alignments/renamed.all.cds.animals.fasta\")"
   ]
  },
  {
   "cell_type": "code",
   "execution_count": 105,
   "id": "3f90bace-cc05-46ba-aef0-1ca9af8505e2",
   "metadata": {},
   "outputs": [],
   "source": [
    "tmp.cds = read.fasta(\"codon_alignments/renamed.all.cds.animals.fasta\")\n",
    "match.tmp = match(names(tmp.cds),order_vec)\n",
    "sorted.all.cds.protLabel.animals = tmp.cds[order(match.tmp)]\n",
    "write.fasta(sequences=sorted.all.cds.protLabel.animals,names=names(sorted.all.cds.protLabel.animals),nbchar=80,file.out = \"codon_alignments/sorted.cds.animals.w.protLabels.fna\")"
   ]
  },
  {
   "cell_type": "markdown",
   "id": "aff808aa-b624-4426-b906-09905b7f0433",
   "metadata": {},
   "source": [
    "### B. Plants dataset"
   ]
  },
  {
   "cell_type": "markdown",
   "id": "e63a3757-b766-469b-8a6c-4ebc61171a98",
   "metadata": {},
   "source": [
    "#### Sort protein fasta"
   ]
  },
  {
   "cell_type": "code",
   "execution_count": 106,
   "id": "b1561c30-5e38-4263-bfe9-311efe65a465",
   "metadata": {
    "tags": []
   },
   "outputs": [],
   "source": [
    "#Table matching cds ids to protein ids\n",
    "cds.to.protein.plants = getSeqNames.rem(\"all.cds.plants.fna\")"
   ]
  },
  {
   "cell_type": "code",
   "execution_count": 107,
   "id": "6a1e4856-415b-4368-989e-894345cf5363",
   "metadata": {},
   "outputs": [],
   "source": [
    "#Extract all cds-matching protein sequences from flagellin database\n",
    "all.protein.with.cds.plants = flagellins.markers.sb[c(which(names(flagellins.markers.sb) %in% cds.to.protein.plants$Accession))]"
   ]
  },
  {
   "cell_type": "code",
   "execution_count": 108,
   "id": "25ce1fc8-0b08-47ce-9ef7-30feeaaeb9b1",
   "metadata": {},
   "outputs": [],
   "source": [
    "#Set order of accessions\n",
    "order_vec.plants =cds.to.protein.plants$Accession"
   ]
  },
  {
   "cell_type": "code",
   "execution_count": 109,
   "id": "1f651a76-0100-4936-99bc-8f219ccf0afb",
   "metadata": {},
   "outputs": [],
   "source": [
    "match_vec.plants = match(names(all.protein.with.cds.plants),order_vec.plants)"
   ]
  },
  {
   "cell_type": "code",
   "execution_count": 110,
   "id": "fb03f832-a8e7-4eaf-9c4a-8e5483a948cc",
   "metadata": {},
   "outputs": [],
   "source": [
    "sorted_seqs_plants = all.protein.with.cds.plants[order(match_vec.plants)]"
   ]
  },
  {
   "cell_type": "code",
   "execution_count": 111,
   "id": "8ff56bd3-eaf1-4c78-9b67-8a2b98d386f2",
   "metadata": {
    "tags": []
   },
   "outputs": [
    {
     "data": {
      "text/html": [
       "<style>\n",
       ".list-inline {list-style: none; margin:0; padding: 0}\n",
       ".list-inline>li {display: inline-block}\n",
       ".list-inline>li:not(:last-child)::after {content: \"\\00b7\"; padding: 0 .5ex}\n",
       "</style>\n",
       "<ol class=list-inline><li>'CAL78604.1'</li><li>'ACE89738.1'</li><li>'ACE93333.1'</li><li>'EEJ52905.1'</li><li>'ACY40759.1'</li><li>'CCF11937.1'</li></ol>\n"
      ],
      "text/latex": [
       "\\begin{enumerate*}\n",
       "\\item 'CAL78604.1'\n",
       "\\item 'ACE89738.1'\n",
       "\\item 'ACE93333.1'\n",
       "\\item 'EEJ52905.1'\n",
       "\\item 'ACY40759.1'\n",
       "\\item 'CCF11937.1'\n",
       "\\end{enumerate*}\n"
      ],
      "text/markdown": [
       "1. 'CAL78604.1'\n",
       "2. 'ACE89738.1'\n",
       "3. 'ACE93333.1'\n",
       "4. 'EEJ52905.1'\n",
       "5. 'ACY40759.1'\n",
       "6. 'CCF11937.1'\n",
       "\n",
       "\n"
      ],
      "text/plain": [
       "[1] \"CAL78604.1\" \"ACE89738.1\" \"ACE93333.1\" \"EEJ52905.1\" \"ACY40759.1\"\n",
       "[6] \"CCF11937.1\""
      ]
     },
     "metadata": {},
     "output_type": "display_data"
    }
   ],
   "source": [
    "head(names(sorted_seqs_plants))"
   ]
  },
  {
   "cell_type": "code",
   "execution_count": 112,
   "id": "c5dc97af-baba-44e9-bee6-bb0f0e8e102e",
   "metadata": {},
   "outputs": [],
   "source": [
    "#Write file\n",
    "write.fasta(sequences=sorted_seqs_plants,names=names(sorted_seqs_plants),nbchar=80,file.out=\"all.cds.prot.plants.faa\")"
   ]
  },
  {
   "cell_type": "code",
   "execution_count": 113,
   "id": "5cdac72f-5eb6-4e06-9e9f-7daa85bdb609",
   "metadata": {},
   "outputs": [
    {
     "data": {
      "text/html": [
       "77"
      ],
      "text/latex": [
       "77"
      ],
      "text/markdown": [
       "77"
      ],
      "text/plain": [
       "[1] 77"
      ]
     },
     "metadata": {},
     "output_type": "display_data"
    }
   ],
   "source": [
    "length(all.protein.with.cds.plants)"
   ]
  },
  {
   "cell_type": "markdown",
   "id": "4518bcf3-3832-4047-9250-5afdbe668f0d",
   "metadata": {},
   "source": [
    "#### Rename CDS fasta"
   ]
  },
  {
   "cell_type": "code",
   "execution_count": 114,
   "id": "c4cc50d7-7eca-4e42-88d3-9305eb0c0dec",
   "metadata": {},
   "outputs": [],
   "source": [
    "#Create matrix with oldName (col1) and newName (col2)\n",
    "newLabels = select(cds.to.protein.plants,seqName,Accession)"
   ]
  },
  {
   "cell_type": "code",
   "execution_count": 115,
   "id": "2468f108-2bb9-4106-a1b6-695bfcffed64",
   "metadata": {
    "collapsed": true,
    "jupyter": {
     "outputs_hidden": true
    },
    "tags": []
   },
   "outputs": [
    {
     "data": {
      "text/plain": [
       "$`lcl|CU234118.1_cds_CAL78604.1_1`\n",
       "  [1] \"g\" \"t\" \"g\" \"c\" \"c\" \"c\" \"g\" \"c\" \"a\" \"a\" \"t\" \"c\" \"t\" \"c\" \"a\" \"a\" \"c\" \"c\"\n",
       " [19] \"a\" \"a\" \"c\" \"g\" \"t\" \"c\" \"g\" \"c\" \"c\" \"g\" \"c\" \"c\" \"a\" \"a\" \"c\" \"t\" \"c\" \"g\"\n",
       " [37] \"g\" \"c\" \"c\" \"g\" \"t\" \"c\" \"c\" \"g\" \"c\" \"t\" \"a\" \"t\" \"c\" \"t\" \"c\" \"a\" \"a\" \"c\"\n",
       " [55] \"a\" \"t\" \"c\" \"a\" \"a\" \"c\" \"t\" \"c\" \"c\" \"t\" \"c\" \"g\" \"c\" \"a\" \"g\" \"g\" \"a\" \"g\"\n",
       " [73] \"a\" \"c\" \"g\" \"a\" \"g\" \"c\" \"t\" \"c\" \"g\" \"c\" \"t\" \"c\" \"t\" \"c\" \"c\" \"a\" \"a\" \"g\"\n",
       " [91] \"c\" \"t\" \"g\" \"t\" \"c\" \"g\" \"a\" \"g\" \"c\" \"g\" \"g\" \"c\" \"t\" \"c\" \"g\" \"c\" \"g\" \"c\"\n",
       "[109] \"a\" \"t\" \"c\" \"a\" \"c\" \"c\" \"t\" \"c\" \"c\" \"g\" \"c\" \"c\" \"t\" \"c\" \"c\" \"g\" \"a\" \"c\"\n",
       "[127] \"g\" \"a\" \"c\" \"g\" \"c\" \"c\" \"g\" \"c\" \"g\" \"g\" \"g\" \"c\" \"c\" \"t\" \"c\" \"g\" \"c\" \"g\"\n",
       "[145] \"a\" \"t\" \"t\" \"t\" \"c\" \"c\" \"a\" \"c\" \"c\" \"c\" \"g\" \"c\" \"a\" \"t\" \"c\" \"t\" \"c\" \"c\"\n",
       "[163] \"t\" \"c\" \"c\" \"g\" \"a\" \"c\" \"a\" \"t\" \"c\" \"a\" \"c\" \"c\" \"a\" \"c\" \"g\" \"c\" \"t\" \"g\"\n",
       "[181] \"c\" \"a\" \"g\" \"c\" \"a\" \"g\" \"g\" \"c\" \"g\" \"g\" \"c\" \"c\" \"a\" \"c\" \"c\" \"a\" \"a\" \"c\"\n",
       "[199] \"g\" \"c\" \"g\" \"t\" \"c\" \"g\" \"c\" \"a\" \"g\" \"g\" \"c\" \"c\" \"a\" \"c\" \"t\" \"t\" \"c\" \"g\"\n",
       "[217] \"a\" \"t\" \"c\" \"c\" \"t\" \"g\" \"c\" \"a\" \"g\" \"a\" \"c\" \"t\" \"g\" \"c\" \"c\" \"g\" \"a\" \"t\"\n",
       "[235] \"g\" \"g\" \"c\" \"g\" \"g\" \"c\" \"g\" \"c\" \"c\" \"t\" \"c\" \"c\" \"a\" \"a\" \"c\" \"a\" \"t\" \"c\"\n",
       "[253] \"a\" \"g\" \"c\" \"g\" \"a\" \"t\" \"a\" \"t\" \"t\" \"c\" \"t\" \"c\" \"g\" \"c\" \"c\" \"c\" \"g\" \"c\"\n",
       "[271] \"a\" \"t\" \"g\" \"a\" \"a\" \"g\" \"t\" \"c\" \"g\" \"c\" \"t\" \"g\" \"g\" \"c\" \"g\" \"t\" \"c\" \"g\"\n",
       "[289] \"g\" \"a\" \"g\" \"t\" \"c\" \"g\" \"g\" \"c\" \"c\" \"t\" \"c\" \"g\" \"g\" \"g\" \"c\" \"a\" \"c\" \"c\"\n",
       "[307] \"a\" \"c\" \"c\" \"g\" \"t\" \"c\" \"g\" \"a\" \"t\" \"t\" \"c\" \"g\" \"a\" \"g\" \"c\" \"a\" \"g\" \"c\"\n",
       "[325] \"c\" \"g\" \"c\" \"a\" \"g\" \"c\" \"t\" \"a\" \"c\" \"a\" \"t\" \"c\" \"c\" \"a\" \"g\" \"t\" \"c\" \"c\"\n",
       "[343] \"g\" \"a\" \"a\" \"t\" \"t\" \"c\" \"t\" \"c\" \"g\" \"c\" \"a\" \"g\" \"c\" \"t\" \"g\" \"a\" \"t\" \"c\"\n",
       "[361] \"t\" \"c\" \"c\" \"g\" \"a\" \"a\" \"a\" \"t\" \"c\" \"g\" \"a\" \"t\" \"t\" \"c\" \"g\" \"a\" \"t\" \"c\"\n",
       "[379] \"g\" \"c\" \"g\" \"t\" \"c\" \"c\" \"g\" \"g\" \"c\" \"a\" \"c\" \"g\" \"c\" \"g\" \"c\" \"t\" \"a\" \"c\"\n",
       "[397] \"t\" \"c\" \"c\" \"g\" \"g\" \"c\" \"a\" \"c\" \"c\" \"a\" \"g\" \"c\" \"c\" \"t\" \"g\" \"c\" \"t\" \"c\"\n",
       "[415] \"g\" \"a\" \"c\" \"g\" \"g\" \"c\" \"a\" \"c\" \"c\" \"a\" \"g\" \"c\" \"t\" \"c\" \"g\" \"t\" \"t\" \"c\"\n",
       "[433] \"t\" \"c\" \"c\" \"a\" \"c\" \"c\" \"g\" \"g\" \"c\" \"g\" \"t\" \"g\" \"a\" \"a\" \"c\" \"g\" \"t\" \"g\"\n",
       "[451] \"c\" \"t\" \"c\" \"g\" \"t\" \"c\" \"g\" \"g\" \"c\" \"t\" \"c\" \"c\" \"a\" \"a\" \"c\" \"a\" \"g\" \"c\"\n",
       "[469] \"a\" \"c\" \"g\" \"g\" \"a\" \"c\" \"g\" \"t\" \"g\" \"a\" \"t\" \"c\" \"c\" \"a\" \"g\" \"a\" \"t\" \"c\"\n",
       "[487] \"a\" \"a\" \"g\" \"c\" \"t\" \"g\" \"t\" \"c\" \"g\" \"a\" \"g\" \"c\" \"c\" \"t\" \"g\" \"a\" \"c\" \"c\"\n",
       "[505] \"t\" \"c\" \"g\" \"a\" \"c\" \"c\" \"g\" \"c\" \"g\" \"c\" \"t\" \"c\" \"g\" \"g\" \"g\" \"g\" \"t\" \"c\"\n",
       "[523] \"t\" \"c\" \"g\" \"a\" \"c\" \"g\" \"c\" \"t\" \"g\" \"g\" \"a\" \"t\" \"g\" \"t\" \"c\" \"a\" \"g\" \"c\"\n",
       "[541] \"a\" \"c\" \"c\" \"c\" \"a\" \"g\" \"a\" \"c\" \"c\" \"g\" \"g\" \"c\" \"g\" \"c\" \"a\" \"t\" \"c\" \"g\"\n",
       "[559] \"a\" \"c\" \"g\" \"g\" \"c\" \"g\" \"c\" \"t\" \"g\" \"a\" \"c\" \"g\" \"a\" \"c\" \"g\" \"c\" \"t\" \"c\"\n",
       "[577] \"g\" \"a\" \"t\" \"a\" \"c\" \"g\" \"g\" \"c\" \"g\" \"a\" \"t\" \"c\" \"a\" \"g\" \"c\" \"a\" \"a\" \"c\"\n",
       "[595] \"g\" \"t\" \"g\" \"t\" \"c\" \"c\" \"g\" \"c\" \"g\" \"g\" \"c\" \"g\" \"c\" \"g\" \"c\" \"g\" \"c\" \"c\"\n",
       "[613] \"g\" \"a\" \"c\" \"a\" \"t\" \"c\" \"g\" \"g\" \"c\" \"g\" \"c\" \"g\" \"c\" \"a\" \"g\" \"g\" \"a\" \"g\"\n",
       "[631] \"t\" \"c\" \"g\" \"c\" \"g\" \"c\" \"t\" \"t\" \"c\" \"a\" \"a\" \"c\" \"t\" \"t\" \"c\" \"t\" \"c\" \"c\"\n",
       "[649] \"g\" \"c\" \"c\" \"g\" \"a\" \"c\" \"t\" \"c\" \"g\" \"a\" \"t\" \"c\" \"t\" \"c\" \"g\" \"a\" \"c\" \"g\"\n",
       "[667] \"c\" \"a\" \"g\" \"a\" \"c\" \"g\" \"c\" \"a\" \"g\" \"a\" \"a\" \"c\" \"c\" \"t\" \"g\" \"c\" \"a\" \"a\"\n",
       "[685] \"t\" \"c\" \"g\" \"g\" \"c\" \"g\" \"a\" \"a\" \"c\" \"t\" \"c\" \"g\" \"g\" \"c\" \"g\" \"a\" \"t\" \"c\"\n",
       "[703] \"a\" \"a\" \"g\" \"g\" \"a\" \"c\" \"g\" \"t\" \"c\" \"g\" \"a\" \"t\" \"a\" \"t\" \"c\" \"g\" \"c\" \"g\"\n",
       "[721] \"t\" \"c\" \"c\" \"g\" \"a\" \"g\" \"c\" \"a\" \"g\" \"g\" \"c\" \"g\" \"a\" \"a\" \"g\" \"c\" \"t\" \"g\"\n",
       "[739] \"t\" \"c\" \"g\" \"t\" \"c\" \"g\" \"g\" \"c\" \"g\" \"c\" \"a\" \"g\" \"g\" \"t\" \"c\" \"a\" \"a\" \"g\"\n",
       "[757] \"a\" \"c\" \"g\" \"c\" \"a\" \"g\" \"g\" \"c\" \"t\" \"g\" \"c\" \"g\" \"g\" \"t\" \"c\" \"t\" \"c\" \"g\"\n",
       "[775] \"g\" \"c\" \"g\" \"g\" \"a\" \"a\" \"g\" \"c\" \"c\" \"g\" \"c\" \"c\" \"g\" \"c\" \"g\" \"a\" \"a\" \"c\"\n",
       "[793] \"c\" \"a\" \"g\" \"a\" \"t\" \"c\" \"c\" \"c\" \"g\" \"c\" \"a\" \"a\" \"t\" \"a\" \"c\" \"c\" \"t\" \"g\"\n",
       "[811] \"c\" \"t\" \"g\" \"a\" \"a\" \"g\" \"c\" \"t\" \"g\" \"c\" \"t\" \"g\" \"g\" \"g\" \"c\" \"t\" \"g\" \"a\"\n",
       "attr(,\"name\")\n",
       "[1] \"lcl|CU234118.1_cds_CAL78604.1_1\"\n",
       "attr(,\"Annot\")\n",
       "[1] \">lcl|CU234118.1_cds_CAL78604.1_1 [locus_tag=BRADO4890] [db_xref=EnsemblGenomes-Gn:BRADO4890,EnsemblGenomes-Tr:CAL78604,GOA:A4YXH8,InterPro:IPR001029,InterPro:IPR001492,UniProtKB/TrEMBL:A4YXH8] [protein=putative flagellin] [protein_id=CAL78604.1] [location=complement(5091586..5092413)] [gbkey=CDS]\"\n",
       "attr(,\"class\")\n",
       "[1] \"SeqFastadna\"\n",
       "\n",
       "$`lcl|CP001074.1_cds_ACE89738.1_1`\n",
       "  [1] \"a\" \"t\" \"g\" \"a\" \"c\" \"c\" \"a\" \"g\" \"c\" \"a\" \"t\" \"t\" \"t\" \"t\" \"g\" \"a\" \"c\" \"c\"\n",
       " [19] \"a\" \"a\" \"c\" \"g\" \"t\" \"c\" \"g\" \"c\" \"g\" \"g\" \"c\" \"g\" \"a\" \"t\" \"g\" \"g\" \"c\" \"c\"\n",
       " [37] \"g\" \"c\" \"t\" \"c\" \"t\" \"t\" \"c\" \"a\" \"g\" \"a\" \"c\" \"g\" \"c\" \"t\" \"c\" \"c\" \"g\" \"c\"\n",
       " [55] \"g\" \"g\" \"c\" \"a\" \"t\" \"c\" \"a\" \"a\" \"c\" \"g\" \"a\" \"c\" \"a\" \"g\" \"c\" \"c\" \"t\" \"c\"\n",
       " [73] \"g\" \"a\" \"a\" \"g\" \"g\" \"c\" \"a\" \"c\" \"g\" \"c\" \"a\" \"g\" \"a\" \"a\" \"c\" \"c\" \"g\" \"t\"\n",
       " [91] \"g\" \"t\" \"a\" \"t\" \"c\" \"c\" \"t\" \"c\" \"g\" \"g\" \"g\" \"t\" \"t\" \"a\" \"c\" \"c\" \"g\" \"c\"\n",
       "[109] \"g\" \"t\" \"c\" \"g\" \"a\" \"a\" \"a\" \"a\" \"g\" \"g\" \"c\" \"c\" \"g\" \"c\" \"c\" \"g\" \"a\" \"c\"\n",
       "[127] \"a\" \"a\" \"t\" \"g\" \"c\" \"c\" \"g\" \"c\" \"c\" \"t\" \"a\" \"c\" \"t\" \"g\" \"g\" \"t\" \"c\" \"g\"\n",
       "[145] \"a\" \"t\" \"c\" \"g\" \"c\" \"a\" \"a\" \"c\" \"g\" \"a\" \"c\" \"c\" \"a\" \"t\" \"g\" \"c\" \"g\" \"c\"\n",
       "[163] \"t\" \"c\" \"g\" \"g\" \"a\" \"c\" \"a\" \"a\" \"c\" \"a\" \"a\" \"g\" \"g\" \"c\" \"g\" \"c\" \"t\" \"g\"\n",
       "[181] \"t\" \"c\" \"g\" \"g\" \"c\" \"c\" \"g\" \"t\" \"t\" \"t\" \"c\" \"c\" \"g\" \"a\" \"c\" \"g\" \"c\" \"t\"\n",
       "[199] \"c\" \"t\" \"c\" \"g\" \"g\" \"t\" \"c\" \"t\" \"c\" \"g\" \"g\" \"c\" \"g\" \"c\" \"c\" \"g\" \"c\" \"c\"\n",
       "[217] \"a\" \"a\" \"g\" \"g\" \"t\" \"c\" \"g\" \"a\" \"c\" \"a\" \"c\" \"t\" \"g\" \"c\" \"c\" \"t\" \"a\" \"c\"\n",
       "[235] \"t\" \"c\" \"c\" \"g\" \"c\" \"c\" \"a\" \"t\" \"g\" \"g\" \"a\" \"c\" \"a\" \"g\" \"c\" \"g\" \"c\" \"c\"\n",
       "[253] \"a\" \"t\" \"c\" \"g\" \"a\" \"c\" \"g\" \"t\" \"t\" \"a\" \"t\" \"c\" \"a\" \"g\" \"t\" \"g\" \"a\" \"g\"\n",
       "[271] \"a\" \"t\" \"c\" \"a\" \"a\" \"g\" \"g\" \"c\" \"g\" \"a\" \"a\" \"g\" \"a\" \"t\" \"c\" \"g\" \"t\" \"t\"\n",
       "[289] \"g\" \"c\" \"c\" \"g\" \"c\" \"a\" \"a\" \"c\" \"c\" \"g\" \"a\" \"a\" \"a\" \"a\" \"g\" \"g\" \"g\" \"c\"\n",
       "[307] \"g\" \"t\" \"c\" \"g\" \"a\" \"c\" \"a\" \"a\" \"g\" \"a\" \"c\" \"c\" \"a\" \"a\" \"g\" \"g\" \"t\" \"c\"\n",
       "[325] \"c\" \"a\" \"g\" \"g\" \"a\" \"g\" \"g\" \"a\" \"a\" \"a\" \"t\" \"c\" \"g\" \"g\" \"t\" \"c\" \"a\" \"g\"\n",
       "[343] \"c\" \"t\" \"g\" \"c\" \"a\" \"g\" \"c\" \"a\" \"g\" \"c\" \"a\" \"g\" \"c\" \"t\" \"t\" \"c\" \"t\" \"g\"\n",
       "[361] \"a\" \"g\" \"c\" \"a\" \"t\" \"c\" \"g\" \"c\" \"g\" \"c\" \"a\" \"g\" \"t\" \"c\" \"g\" \"g\" \"c\" \"t\"\n",
       "[379] \"t\" \"c\" \"c\" \"t\" \"t\" \"c\" \"t\" \"c\" \"c\" \"g\" \"g\" \"t\" \"g\" \"a\" \"a\" \"a\" \"a\" \"c\"\n",
       "[397] \"t\" \"g\" \"g\" \"g\" \"t\" \"c\" \"g\" \"c\" \"c\" \"g\" \"g\" \"c\" \"g\" \"c\" \"t\" \"g\" \"a\" \"c\"\n",
       "[415] \"g\" \"g\" \"c\" \"a\" \"c\" \"c\" \"a\" \"a\" \"g\" \"a\" \"g\" \"c\" \"g\" \"t\" \"c\" \"g\" \"t\" \"g\"\n",
       "[433] \"t\" \"c\" \"g\" \"a\" \"c\" \"c\" \"t\" \"t\" \"c\" \"g\" \"t\" \"t\" \"c\" \"g\" \"c\" \"g\" \"a\" \"c\"\n",
       "[451] \"g\" \"g\" \"c\" \"a\" \"a\" \"c\" \"g\" \"g\" \"c\" \"a\" \"a\" \"t\" \"g\" \"t\" \"c\" \"t\" \"c\" \"g\"\n",
       "[469] \"g\" \"t\" \"c\" \"a\" \"a\" \"g\" \"a\" \"c\" \"g\" \"a\" \"c\" \"g\" \"g\" \"a\" \"c\" \"t\" \"a\" \"c\"\n",
       "[487] \"g\" \"t\" \"c\" \"c\" \"t\" \"g\" \"g\" \"a\" \"c\" \"a\" \"c\" \"c\" \"a\" \"g\" \"c\" \"t\" \"c\" \"c\"\n",
       "[505] \"t\" \"c\" \"g\" \"g\" \"g\" \"c\" \"a\" \"a\" \"c\" \"g\" \"t\" \"t\" \"c\" \"t\" \"c\" \"t\" \"t\" \"c\"\n",
       "[523] \"g\" \"g\" \"c\" \"a\" \"t\" \"g\" \"a\" \"c\" \"c\" \"t\" \"c\" \"g\" \"a\" \"c\" \"c\" \"g\" \"g\" \"c\"\n",
       "[541] \"a\" \"c\" \"g\" \"a\" \"t\" \"c\" \"g\" \"a\" \"t\" \"a\" \"c\" \"g\" \"a\" \"g\" \"c\" \"g\" \"c\" \"c\"\n",
       "[559] \"g\" \"g\" \"t\" \"a\" \"t\" \"t\" \"a\" \"t\" \"c\" \"g\" \"g\" \"c\" \"a\" \"c\" \"g\" \"t\" \"c\" \"a\"\n",
       "[577] \"t\" \"a\" \"t\" \"g\" \"g\" \"t\" \"a\" \"c\" \"g\" \"a\" \"t\" \"c\" \"g\" \"g\" \"c\" \"t\" \"c\" \"g\"\n",
       "[595] \"a\" \"t\" \"c\" \"t\" \"a\" \"t\" \"t\" \"c\" \"g\" \"a\" \"t\" \"g\" \"g\" \"a\" \"c\" \"a\" \"t\" \"c\"\n",
       "[613] \"a\" \"g\" \"c\" \"a\" \"c\" \"c\" \"t\" \"t\" \"c\" \"g\" \"g\" \"t\" \"t\" \"c\" \"g\" \"g\" \"t\" \"t\"\n",
       "[631] \"g\" \"a\" \"g\" \"a\" \"t\" \"c\" \"t\" \"c\" \"c\" \"a\" \"t\" \"g\" \"g\" \"c\" \"g\" \"c\" \"t\" \"g\"\n",
       "[649] \"a\" \"c\" \"c\" \"t\" \"c\" \"g\" \"a\" \"t\" \"c\" \"g\" \"a\" \"g\" \"g\" \"c\" \"c\" \"g\" \"g\" \"t\"\n",
       "[667] \"c\" \"t\" \"c\" \"g\" \"a\" \"a\" \"g\" \"c\" \"c\" \"a\" \"t\" \"g\" \"a\" \"c\" \"c\" \"a\" \"a\" \"g\"\n",
       "[685] \"g\" \"c\" \"c\" \"g\" \"c\" \"c\" \"t\" \"c\" \"g\" \"c\" \"a\" \"g\" \"c\" \"t\" \"c\" \"g\" \"g\" \"t\"\n",
       "[703] \"t\" \"c\" \"g\" \"a\" \"t\" \"t\" \"t\" \"c\" \"c\" \"a\" \"c\" \"t\" \"c\" \"g\" \"c\" \"a\" \"t\" \"c\"\n",
       "[721] \"g\" \"a\" \"a\" \"c\" \"t\" \"g\" \"c\" \"a\" \"g\" \"g\" \"a\" \"a\" \"a\" \"a\" \"c\" \"t\" \"t\" \"c\"\n",
       "[739] \"g\" \"t\" \"c\" \"g\" \"g\" \"a\" \"g\" \"c\" \"g\" \"c\" \"t\" \"g\" \"a\" \"g\" \"c\" \"g\" \"a\" \"c\"\n",
       "[757] \"t\" \"c\" \"g\" \"a\" \"t\" \"c\" \"g\" \"a\" \"c\" \"t\" \"c\" \"a\" \"g\" \"g\" \"c\" \"g\" \"t\" \"c\"\n",
       "[775] \"g\" \"g\" \"t\" \"c\" \"g\" \"c\" \"c\" \"t\" \"c\" \"g\" \"t\" \"c\" \"g\" \"a\" \"t\" \"g\" \"c\" \"c\"\n",
       "[793] \"g\" \"a\" \"c\" \"a\" \"t\" \"g\" \"g\" \"a\" \"a\" \"g\" \"a\" \"g\" \"g\" \"a\" \"a\" \"t\" \"c\" \"g\"\n",
       "[811] \"a\" \"g\" \"t\" \"a\" \"a\" \"g\" \"c\" \"t\" \"g\" \"a\" \"c\" \"g\" \"g\" \"c\" \"g\" \"t\" \"t\" \"g\"\n",
       "[829] \"c\" \"a\" \"g\" \"a\" \"c\" \"c\" \"c\" \"a\" \"g\" \"c\" \"a\" \"g\" \"c\" \"a\" \"g\" \"c\" \"t\" \"g\"\n",
       "[847] \"g\" \"c\" \"c\" \"a\" \"t\" \"c\" \"c\" \"a\" \"g\" \"t\" \"c\" \"g\" \"c\" \"t\" \"g\" \"t\" \"c\" \"g\"\n",
       "[865] \"a\" \"t\" \"c\" \"g\" \"c\" \"c\" \"a\" \"a\" \"t\" \"t\" \"c\" \"c\" \"a\" \"g\" \"c\" \"g\" \"c\" \"g\"\n",
       "[883] \"c\" \"a\" \"g\" \"a\" \"a\" \"c\" \"a\" \"t\" \"c\" \"c\" \"t\" \"c\" \"a\" \"c\" \"c\" \"c\" \"t\" \"g\"\n",
       "[901] \"t\" \"t\" \"c\" \"c\" \"g\" \"c\" \"a\" \"g\" \"c\" \"t\" \"a\" \"a\"\n",
       "attr(,\"name\")\n",
       "[1] \"lcl|CP001074.1_cds_ACE89738.1_1\"\n",
       "attr(,\"Annot\")\n",
       "[1] \">lcl|CP001074.1_cds_ACE89738.1_1 [gene=flaCch3] [locus_tag=RHECIAT_CH0000749] [db_xref=InterPro:IPR001492] [protein=flagellin C protein] [protein_id=ACE89738.1] [location=741560..742471] [gbkey=CDS]\"\n",
       "attr(,\"class\")\n",
       "[1] \"SeqFastadna\"\n",
       "\n",
       "$`lcl|CP001074.1_cds_ACE93333.1_1`\n",
       "   [1] \"a\" \"t\" \"g\" \"g\" \"c\" \"a\" \"g\" \"c\" \"g\" \"c\" \"t\" \"g\" \"c\" \"a\" \"g\" \"a\" \"c\" \"t\"\n",
       "  [19] \"t\" \"t\" \"g\" \"c\" \"g\" \"c\" \"g\" \"g\" \"c\" \"g\" \"t\" \"a\" \"a\" \"a\" \"c\" \"g\" \"a\" \"t\"\n",
       "  [37] \"a\" \"g\" \"c\" \"c\" \"t\" \"c\" \"a\" \"a\" \"g\" \"g\" \"a\" \"c\" \"a\" \"c\" \"t\" \"c\" \"a\" \"g\"\n",
       "  [55] \"g\" \"g\" \"t\" \"c\" \"g\" \"c\" \"g\" \"t\" \"t\" \"t\" \"c\" \"t\" \"t\" \"c\" \"c\" \"g\" \"g\" \"t\"\n",
       "  [73] \"t\" \"a\" \"t\" \"c\" \"g\" \"t\" \"g\" \"t\" \"c\" \"g\" \"a\" \"g\" \"a\" \"a\" \"g\" \"g\" \"c\" \"t\"\n",
       "  [91] \"g\" \"c\" \"c\" \"g\" \"a\" \"c\" \"a\" \"a\" \"t\" \"g\" \"c\" \"c\" \"g\" \"c\" \"a\" \"t\" \"a\" \"t\"\n",
       " [109] \"t\" \"g\" \"g\" \"t\" \"c\" \"g\" \"a\" \"t\" \"t\" \"g\" \"c\" \"a\" \"a\" \"c\" \"g\" \"a\" \"c\" \"c\"\n",
       " [127] \"a\" \"t\" \"g\" \"c\" \"g\" \"t\" \"t\" \"c\" \"c\" \"g\" \"a\" \"c\" \"a\" \"a\" \"c\" \"c\" \"t\" \"g\"\n",
       " [145] \"g\" \"c\" \"g\" \"c\" \"t\" \"t\" \"t\" \"c\" \"t\" \"g\" \"c\" \"c\" \"g\" \"t\" \"c\" \"t\" \"c\" \"c\"\n",
       " [163] \"g\" \"a\" \"c\" \"g\" \"c\" \"c\" \"c\" \"t\" \"c\" \"g\" \"g\" \"c\" \"c\" \"t\" \"c\" \"g\" \"g\" \"t\"\n",
       " [181] \"g\" \"c\" \"g\" \"g\" \"c\" \"c\" \"a\" \"a\" \"g\" \"g\" \"t\" \"c\" \"g\" \"a\" \"t\" \"a\" \"c\" \"c\"\n",
       " [199] \"g\" \"c\" \"c\" \"t\" \"a\" \"t\" \"g\" \"c\" \"g\" \"g\" \"c\" \"c\" \"a\" \"t\" \"g\" \"g\" \"a\" \"c\"\n",
       " [217] \"a\" \"g\" \"c\" \"g\" \"c\" \"g\" \"c\" \"t\" \"c\" \"g\" \"a\" \"c\" \"a\" \"t\" \"c\" \"g\" \"t\" \"c\"\n",
       " [235] \"a\" \"g\" \"c\" \"g\" \"a\" \"a\" \"a\" \"t\" \"c\" \"a\" \"a\" \"g\" \"g\" \"a\" \"a\" \"a\" \"a\" \"g\"\n",
       " [253] \"a\" \"t\" \"c\" \"g\" \"t\" \"c\" \"g\" \"c\" \"c\" \"g\" \"c\" \"c\" \"a\" \"c\" \"g\" \"g\" \"a\" \"a\"\n",
       " [271] \"a\" \"a\" \"g\" \"g\" \"g\" \"c\" \"g\" \"t\" \"c\" \"g\" \"a\" \"c\" \"a\" \"a\" \"g\" \"a\" \"c\" \"g\"\n",
       " [289] \"a\" \"a\" \"g\" \"a\" \"t\" \"c\" \"c\" \"a\" \"g\" \"c\" \"a\" \"g\" \"g\" \"a\" \"a\" \"c\" \"t\" \"c\"\n",
       " [307] \"g\" \"a\" \"c\" \"c\" \"a\" \"g\" \"c\" \"t\" \"g\" \"c\" \"a\" \"g\" \"g\" \"a\" \"g\" \"c\" \"a\" \"g\"\n",
       " [325] \"c\" \"t\" \"g\" \"c\" \"t\" \"c\" \"a\" \"g\" \"c\" \"a\" \"t\" \"c\" \"g\" \"c\" \"c\" \"c\" \"a\" \"g\"\n",
       " [343] \"t\" \"c\" \"c\" \"g\" \"c\" \"a\" \"t\" \"c\" \"c\" \"t\" \"t\" \"c\" \"t\" \"c\" \"c\" \"g\" \"g\" \"c\"\n",
       " [361] \"g\" \"a\" \"a\" \"a\" \"a\" \"c\" \"t\" \"g\" \"g\" \"g\" \"t\" \"t\" \"g\" \"c\" \"c\" \"g\" \"g\" \"c\"\n",
       " [379] \"g\" \"c\" \"t\" \"t\" \"c\" \"c\" \"g\" \"g\" \"a\" \"a\" \"c\" \"g\" \"a\" \"a\" \"g\" \"a\" \"g\" \"c\"\n",
       " [397] \"g\" \"t\" \"c\" \"g\" \"t\" \"c\" \"t\" \"c\" \"g\" \"t\" \"c\" \"c\" \"t\" \"t\" \"c\" \"g\" \"t\" \"t\"\n",
       " [415] \"c\" \"g\" \"t\" \"g\" \"a\" \"c\" \"g\" \"g\" \"c\" \"a\" \"g\" \"c\" \"a\" \"a\" \"t\" \"g\" \"c\" \"c\"\n",
       " [433] \"g\" \"t\" \"t\" \"t\" \"c\" \"g\" \"g\" \"t\" \"g\" \"a\" \"a\" \"g\" \"a\" \"t\" \"g\" \"a\" \"c\" \"c\"\n",
       " [451] \"g\" \"a\" \"t\" \"t\" \"a\" \"t\" \"g\" \"t\" \"g\" \"c\" \"t\" \"c\" \"g\" \"a\" \"t\" \"t\" \"c\" \"a\"\n",
       " [469] \"g\" \"g\" \"g\" \"a\" \"c\" \"g\" \"c\" \"t\" \"c\" \"g\" \"g\" \"c\" \"a\" \"a\" \"t\" \"g\" \"t\" \"g\"\n",
       " [487] \"c\" \"t\" \"c\" \"t\" \"t\" \"c\" \"g\" \"g\" \"c\" \"a\" \"t\" \"g\" \"a\" \"c\" \"g\" \"a\" \"g\" \"c\"\n",
       " [505] \"a\" \"c\" \"g\" \"g\" \"g\" \"t\" \"g\" \"c\" \"g\" \"a\" \"t\" \"c\" \"g\" \"a\" \"g\" \"a\" \"c\" \"g\"\n",
       " [523] \"a\" \"g\" \"c\" \"a\" \"g\" \"c\" \"g\" \"g\" \"c\" \"a\" \"t\" \"c\" \"a\" \"t\" \"c\" \"g\" \"g\" \"c\"\n",
       " [541] \"a\" \"c\" \"c\" \"g\" \"c\" \"c\" \"t\" \"t\" \"c\" \"a\" \"a\" \"c\" \"g\" \"g\" \"c\" \"a\" \"c\" \"c\"\n",
       " [559] \"t\" \"a\" \"t\" \"g\" \"g\" \"c\" \"g\" \"g\" \"c\" \"a\" \"c\" \"c\" \"g\" \"t\" \"c\" \"a\" \"t\" \"c\"\n",
       " [577] \"g\" \"c\" \"c\" \"a\" \"t\" \"g\" \"c\" \"c\" \"g\" \"t\" \"c\" \"g\" \"a\" \"t\" \"c\" \"t\" \"a\" \"t\"\n",
       " [595] \"g\" \"a\" \"t\" \"c\" \"t\" \"c\" \"g\" \"a\" \"c\" \"a\" \"t\" \"t\" \"a\" \"c\" \"c\" \"g\" \"g\" \"t\"\n",
       " [613] \"t\" \"t\" \"c\" \"a\" \"c\" \"c\" \"c\" \"a\" \"g\" \"g\" \"g\" \"c\" \"c\" \"a\" \"g\" \"c\" \"t\" \"c\"\n",
       " [631] \"g\" \"a\" \"c\" \"g\" \"c\" \"a\" \"g\" \"c\" \"c\" \"t\" \"t\" \"g\" \"a\" \"g\" \"c\" \"g\" \"g\" \"g\"\n",
       " [649] \"a\" \"t\" \"c\" \"g\" \"a\" \"a\" \"c\" \"t\" \"g\" \"g\" \"t\" \"t\" \"c\" \"t\" \"c\" \"g\" \"g\" \"c\"\n",
       " [667] \"g\" \"c\" \"c\" \"a\" \"t\" \"g\" \"a\" \"c\" \"c\" \"g\" \"c\" \"t\" \"g\" \"c\" \"c\" \"g\" \"g\" \"c\"\n",
       " [685] \"t\" \"c\" \"c\" \"g\" \"c\" \"g\" \"c\" \"t\" \"c\" \"g\" \"g\" \"c\" \"t\" \"c\" \"g\" \"a\" \"t\" \"c\"\n",
       " [703] \"t\" \"c\" \"g\" \"a\" \"c\" \"a\" \"c\" \"g\" \"c\" \"a\" \"t\" \"t\" \"c\" \"a\" \"g\" \"c\" \"t\" \"g\"\n",
       " [721] \"c\" \"a\" \"g\" \"g\" \"a\" \"g\" \"a\" \"a\" \"t\" \"c\" \"t\" \"c\" \"g\" \"t\" \"c\" \"a\" \"g\" \"c\"\n",
       " [739] \"g\" \"g\" \"t\" \"c\" \"t\" \"t\" \"c\" \"a\" \"c\" \"g\" \"a\" \"t\" \"t\" \"c\" \"c\" \"a\" \"t\" \"c\"\n",
       " [757] \"g\" \"a\" \"c\" \"t\" \"c\" \"g\" \"g\" \"g\" \"c\" \"a\" \"t\" \"c\" \"g\" \"g\" \"t\" \"c\" \"g\" \"c\"\n",
       " [775] \"c\" \"t\" \"g\" \"g\" \"t\" \"c\" \"g\" \"a\" \"t\" \"g\" \"c\" \"c\" \"g\" \"a\" \"t\" \"a\" \"t\" \"g\"\n",
       " [793] \"g\" \"a\" \"a\" \"g\" \"a\" \"g\" \"g\" \"a\" \"a\" \"t\" \"c\" \"g\" \"a\" \"g\" \"c\" \"a\" \"g\" \"g\"\n",
       " [811] \"c\" \"t\" \"c\" \"t\" \"c\" \"g\" \"g\" \"c\" \"g\" \"t\" \"t\" \"g\" \"c\" \"a\" \"g\" \"a\" \"c\" \"g\"\n",
       " [829] \"c\" \"a\" \"g\" \"c\" \"a\" \"g\" \"c\" \"a\" \"g\" \"c\" \"t\" \"c\" \"g\" \"g\" \"c\" \"a\" \"t\" \"c\"\n",
       " [847] \"c\" \"a\" \"g\" \"t\" \"c\" \"g\" \"c\" \"t\" \"t\" \"t\" \"c\" \"g\" \"a\" \"t\" \"t\" \"g\" \"c\" \"c\"\n",
       " [865] \"a\" \"a\" \"t\" \"a\" \"g\" \"c\" \"t\" \"c\" \"g\" \"g\" \"c\" \"a\" \"c\" \"a\" \"g\" \"a\" \"a\" \"c\"\n",
       " [883] \"a\" \"t\" \"c\" \"c\" \"t\" \"c\" \"a\" \"c\" \"c\" \"c\" \"t\" \"g\" \"t\" \"t\" \"c\" \"c\" \"g\" \"c\"\n",
       " [901] \"a\" \"g\" \"c\" \"c\" \"g\" \"a\" \"t\" \"c\" \"c\" \"g\" \"g\" \"g\" \"a\" \"c\" \"a\" \"g\" \"g\" \"c\"\n",
       " [919] \"g\" \"a\" \"t\" \"g\" \"c\" \"t\" \"c\" \"c\" \"a\" \"t\" \"c\" \"a\" \"a\" \"a\" \"a\" \"a\" \"a\" \"c\"\n",
       " [937] \"c\" \"c\" \"c\" \"g\" \"c\" \"c\" \"g\" \"g\" \"g\" \"c\" \"g\" \"g\" \"t\" \"t\" \"c\" \"g\" \"c\" \"g\"\n",
       " [955] \"c\" \"g\" \"g\" \"c\" \"g\" \"g\" \"g\" \"g\" \"t\" \"t\" \"t\" \"t\" \"c\" \"t\" \"t\" \"c\" \"a\" \"t\"\n",
       " [973] \"g\" \"a\" \"g\" \"a\" \"t\" \"c\" \"g\" \"c\" \"t\" \"g\" \"a\" \"t\" \"a\" \"t\" \"c\" \"t\" \"c\" \"a\"\n",
       " [991] \"g\" \"t\" \"a\" \"c\" \"t\" \"g\" \"a\" \"t\" \"c\" \"g\" \"t\" \"c\" \"t\" \"t\" \"c\" \"g\" \"t\" \"c\"\n",
       "[1009] \"t\" \"t\" \"c\" \"a\" \"t\" \"c\" \"c\" \"t\" \"t\" \"c\" \"g\" \"g\" \"a\" \"g\" \"c\" \"c\" \"g\" \"a\"\n",
       "[1027] \"g\" \"c\" \"g\" \"t\" \"a\" \"g\"\n",
       "attr(,\"name\")\n",
       "[1] \"lcl|CP001074.1_cds_ACE93333.1_1\"\n",
       "attr(,\"Annot\")\n",
       "[1] \">lcl|CP001074.1_cds_ACE93333.1_1 [gene=flaCch6] [locus_tag=RHECIAT_CH0004406] [db_xref=InterPro:IPR001492] [protein=flagellin C protein] [protein_id=ACE93333.1] [location=complement(4496262..4497293)] [gbkey=CDS]\"\n",
       "attr(,\"class\")\n",
       "[1] \"SeqFastadna\"\n",
       "\n",
       "$`lcl|ACKW01000055.1_cds_EEJ52905.1_1`\n",
       "   [1] \"a\" \"t\" \"g\" \"g\" \"c\" \"c\" \"a\" \"c\" \"t\" \"t\" \"t\" \"a\" \"t\" \"c\" \"a\" \"g\" \"t\" \"g\"\n",
       "  [19] \"g\" \"a\" \"c\" \"g\" \"g\" \"a\" \"a\" \"a\" \"a\" \"t\" \"a\" \"t\" \"g\" \"c\" \"t\" \"g\" \"c\" \"g\"\n",
       "  [37] \"g\" \"g\" \"a\" \"a\" \"g\" \"c\" \"a\" \"a\" \"t\" \"t\" \"c\" \"t\" \"c\" \"c\" \"c\" \"g\" \"c\" \"a\"\n",
       "  [55] \"g\" \"c\" \"g\" \"c\" \"c\" \"c\" \"g\" \"g\" \"c\" \"t\" \"c\" \"t\" \"a\" \"c\" \"c\" \"t\" \"a\" \"c\"\n",
       "  [73] \"c\" \"c\" \"g\" \"a\" \"t\" \"t\" \"c\" \"c\" \"c\" \"g\" \"c\" \"c\" \"c\" \"c\" \"t\" \"a\" \"a\" \"t\"\n",
       "  [91] \"g\" \"c\" \"c\" \"g\" \"a\" \"g\" \"g\" \"c\" \"t\" \"g\" \"a\" \"t\" \"t\" \"c\" \"c\" \"c\" \"t\" \"g\"\n",
       " [109] \"g\" \"c\" \"a\" \"c\" \"c\" \"t\" \"c\" \"a\" \"t\" \"g\" \"a\" \"a\" \"c\" \"a\" \"a\" \"a\" \"a\" \"c\"\n",
       " [127] \"c\" \"c\" \"c\" \"a\" \"a\" \"c\" \"c\" \"c\" \"c\" \"a\" \"a\" \"c\" \"g\" \"c\" \"c\" \"g\" \"g\" \"t\"\n",
       " [145] \"g\" \"c\" \"c\" \"a\" \"g\" \"c\" \"g\" \"c\" \"a\" \"g\" \"c\" \"c\" \"a\" \"g\" \"c\" \"g\" \"c\" \"a\"\n",
       " [163] \"t\" \"c\" \"c\" \"g\" \"g\" \"c\" \"g\" \"c\" \"a\" \"t\" \"c\" \"c\" \"g\" \"g\" \"c\" \"a\" \"c\" \"c\"\n",
       " [181] \"c\" \"g\" \"t\" \"g\" \"g\" \"c\" \"a\" \"c\" \"c\" \"c\" \"g\" \"t\" \"g\" \"g\" \"t\" \"g\" \"c\" \"c\"\n",
       " [199] \"a\" \"a\" \"c\" \"g\" \"t\" \"a\" \"a\" \"c\" \"c\" \"g\" \"g\" \"c\" \"g\" \"c\" \"a\" \"a\" \"c\" \"c\"\n",
       " [217] \"a\" \"a\" \"c\" \"g\" \"c\" \"c\" \"g\" \"g\" \"c\" \"a\" \"c\" \"c\" \"c\" \"c\" \"a\" \"g\" \"c\" \"c\"\n",
       " [235] \"a\" \"a\" \"t\" \"c\" \"c\" \"a\" \"c\" \"c\" \"c\" \"g\" \"c\" \"t\" \"g\" \"c\" \"g\" \"t\" \"c\" \"g\"\n",
       " [253] \"g\" \"g\" \"c\" \"g\" \"a\" \"a\" \"g\" \"t\" \"g\" \"g\" \"a\" \"c\" \"a\" \"c\" \"c\" \"g\" \"c\" \"c\"\n",
       " [271] \"g\" \"g\" \"a\" \"a\" \"t\" \"g\" \"c\" \"c\" \"t\" \"c\" \"g\" \"c\" \"c\" \"a\" \"c\" \"c\" \"t\" \"g\"\n",
       " [289] \"g\" \"c\" \"c\" \"t\" \"a\" \"t\" \"g\" \"t\" \"g\" \"a\" \"t\" \"g\" \"g\" \"a\" \"a\" \"t\" \"c\" \"c\"\n",
       " [307] \"c\" \"t\" \"g\" \"g\" \"g\" \"c\" \"g\" \"a\" \"g\" \"g\" \"a\" \"c\" \"t\" \"t\" \"c\" \"a\" \"c\" \"c\"\n",
       " [325] \"g\" \"a\" \"c\" \"g\" \"g\" \"g\" \"g\" \"c\" \"g\" \"g\" \"g\" \"a\" \"g\" \"c\" \"c\" \"g\" \"g\" \"a\"\n",
       " [343] \"a\" \"t\" \"c\" \"g\" \"c\" \"g\" \"a\" \"c\" \"g\" \"a\" \"c\" \"t\" \"t\" \"a\" \"c\" \"c\" \"g\" \"t\"\n",
       " [361] \"t\" \"c\" \"c\" \"g\" \"g\" \"g\" \"g\" \"g\" \"c\" \"t\" \"c\" \"g\" \"g\" \"a\" \"c\" \"a\" \"g\" \"t\"\n",
       " [379] \"t\" \"c\" \"g\" \"g\" \"g\" \"t\" \"g\" \"c\" \"g\" \"g\" \"c\" \"g\" \"g\" \"g\" \"c\" \"a\" \"g\" \"c\"\n",
       " [397] \"a\" \"t\" \"c\" \"c\" \"g\" \"a\" \"a\" \"c\" \"c\" \"g\" \"g\" \"t\" \"g\" \"g\" \"c\" \"a\" \"c\" \"c\"\n",
       " [415] \"g\" \"g\" \"c\" \"c\" \"t\" \"g\" \"c\" \"g\" \"g\" \"c\" \"g\" \"a\" \"g\" \"g\" \"c\" \"g\" \"g\" \"g\"\n",
       " [433] \"c\" \"a\" \"c\" \"g\" \"c\" \"g\" \"a\" \"g\" \"a\" \"a\" \"c\" \"c\" \"t\" \"c\" \"t\" \"g\" \"g\" \"c\"\n",
       " [451] \"g\" \"a\" \"a\" \"g\" \"g\" \"c\" \"g\" \"a\" \"t\" \"t\" \"t\" \"t\" \"c\" \"c\" \"g\" \"t\" \"a\" \"c\"\n",
       " [469] \"c\" \"c\" \"a\" \"g\" \"a\" \"c\" \"g\" \"c\" \"t\" \"g\" \"a\" \"c\" \"t\" \"t\" \"g\" \"g\" \"g\" \"t\"\n",
       " [487] \"t\" \"t\" \"t\" \"a\" \"a\" \"c\" \"g\" \"t\" \"c\" \"g\" \"a\" \"c\" \"c\" \"c\" \"c\" \"g\" \"c\" \"g\"\n",
       " [505] \"t\" \"t\" \"c\" \"g\" \"g\" \"t\" \"g\" \"a\" \"t\" \"a\" \"c\" \"c\" \"g\" \"g\" \"c\" \"g\" \"a\" \"c\"\n",
       " [523] \"a\" \"t\" \"c\" \"c\" \"c\" \"g\" \"g\" \"t\" \"c\" \"g\" \"g\" \"a\" \"c\" \"g\" \"g\" \"t\" \"c\" \"g\"\n",
       " [541] \"g\" \"t\" \"c\" \"g\" \"g\" \"t\" \"t\" \"t\" \"t\" \"t\" \"c\" \"g\" \"c\" \"c\" \"c\" \"c\" \"g\" \"g\"\n",
       " [559] \"g\" \"c\" \"t\" \"t\" \"c\" \"a\" \"t\" \"t\" \"a\" \"g\" \"g\" \"t\" \"g\" \"c\" \"g\" \"g\" \"g\" \"c\"\n",
       " [577] \"g\" \"c\" \"g\" \"a\" \"c\" \"c\" \"g\" \"g\" \"c\" \"g\" \"g\" \"c\" \"t\" \"g\" \"g\" \"c\" \"g\" \"g\"\n",
       " [595] \"g\" \"g\" \"g\" \"a\" \"a\" \"t\" \"c\" \"c\" \"g\" \"g\" \"c\" \"t\" \"a\" \"a\" \"t\" \"a\" \"a\" \"t\"\n",
       " [613] \"t\" \"t\" \"t\" \"c\" \"t\" \"g\" \"g\" \"g\" \"c\" \"a\" \"a\" \"c\" \"g\" \"c\" \"c\" \"c\" \"t\" \"g\"\n",
       " [631] \"g\" \"c\" \"c\" \"a\" \"a\" \"c\" \"a\" \"c\" \"t\" \"t\" \"t\" \"t\" \"g\" \"g\" \"c\" \"g\" \"t\" \"a\"\n",
       " [649] \"t\" \"t\" \"c\" \"c\" \"c\" \"c\" \"g\" \"g\" \"g\" \"g\" \"c\" \"g\" \"g\" \"g\" \"c\" \"g\" \"g\" \"a\"\n",
       " [667] \"g\" \"c\" \"c\" \"g\" \"g\" \"g\" \"g\" \"g\" \"a\" \"g\" \"c\" \"a\" \"c\" \"c\" \"c\" \"c\" \"g\" \"g\"\n",
       " [685] \"g\" \"g\" \"c\" \"g\" \"g\" \"a\" \"a\" \"t\" \"c\" \"a\" \"c\" \"c\" \"t\" \"c\" \"t\" \"t\" \"c\" \"c\"\n",
       " [703] \"t\" \"t\" \"g\" \"a\" \"a\" \"c\" \"a\" \"c\" \"c\" \"a\" \"a\" \"c\" \"g\" \"t\" \"g\" \"a\" \"t\" \"g\"\n",
       " [721] \"g\" \"c\" \"a\" \"c\" \"t\" \"c\" \"c\" \"a\" \"g\" \"g\" \"c\" \"g\" \"t\" \"a\" \"t\" \"c\" \"g\" \"c\"\n",
       " [739] \"a\" \"a\" \"c\" \"a\" \"t\" \"g\" \"g\" \"c\" \"c\" \"a\" \"a\" \"c\" \"g\" \"c\" \"c\" \"c\" \"a\" \"c\"\n",
       " [757] \"a\" \"a\" \"g\" \"a\" \"t\" \"t\" \"c\" \"t\" \"c\" \"a\" \"a\" \"t\" \"g\" \"a\" \"c\" \"t\" \"c\" \"c\"\n",
       " [775] \"c\" \"t\" \"g\" \"t\" \"t\" \"g\" \"a\" \"a\" \"a\" \"c\" \"t\" \"g\" \"a\" \"c\" \"c\" \"a\" \"g\" \"c\"\n",
       " [793] \"g\" \"g\" \"c\" \"g\" \"a\" \"g\" \"c\" \"g\" \"c\" \"a\" \"t\" \"c\" \"a\" \"a\" \"t\" \"a\" \"a\" \"c\"\n",
       " [811] \"c\" \"c\" \"c\" \"g\" \"g\" \"c\" \"g\" \"a\" \"c\" \"g\" \"a\" \"t\" \"g\" \"c\" \"g\" \"g\" \"c\" \"c\"\n",
       " [829] \"g\" \"g\" \"c\" \"c\" \"t\" \"g\" \"g\" \"c\" \"c\" \"t\" \"t\" \"g\" \"g\" \"c\" \"c\" \"g\" \"a\" \"a\"\n",
       " [847] \"a\" \"a\" \"c\" \"a\" \"t\" \"g\" \"c\" \"g\" \"t\" \"t\" \"c\" \"c\" \"c\" \"a\" \"g\" \"c\" \"t\" \"g\"\n",
       " [865] \"c\" \"t\" \"g\" \"g\" \"g\" \"c\" \"a\" \"g\" \"c\" \"a\" \"a\" \"a\" \"c\" \"a\" \"g\" \"g\" \"c\" \"c\"\n",
       " [883] \"g\" \"t\" \"g\" \"c\" \"g\" \"c\" \"a\" \"a\" \"c\" \"g\" \"c\" \"c\" \"c\" \"a\" \"a\" \"g\" \"a\" \"c\"\n",
       " [901] \"g\" \"g\" \"a\" \"a\" \"t\" \"t\" \"t\" \"c\" \"c\" \"c\" \"t\" \"g\" \"g\" \"t\" \"g\" \"c\" \"a\" \"a\"\n",
       " [919] \"a\" \"c\" \"c\" \"g\" \"c\" \"c\" \"g\" \"a\" \"g\" \"g\" \"g\" \"a\" \"g\" \"t\" \"g\" \"c\" \"t\" \"g\"\n",
       " [937] \"g\" \"g\" \"c\" \"a\" \"c\" \"c\" \"g\" \"t\" \"t\" \"c\" \"a\" \"c\" \"a\" \"a\" \"t\" \"a\" \"t\" \"g\"\n",
       " [955] \"t\" \"t\" \"g\" \"c\" \"a\" \"a\" \"c\" \"g\" \"c\" \"a\" \"t\" \"g\" \"c\" \"g\" \"c\" \"g\" \"t\" \"c\"\n",
       " [973] \"c\" \"t\" \"g\" \"g\" \"c\" \"g\" \"g\" \"t\" \"t\" \"c\" \"a\" \"a\" \"g\" \"g\" \"a\" \"g\" \"c\" \"t\"\n",
       " [991] \"a\" \"g\" \"c\" \"g\" \"a\" \"t\" \"t\" \"c\" \"c\" \"a\" \"a\" \"t\" \"c\" \"a\" \"g\" \"g\" \"a\" \"t\"\n",
       "[1009] \"c\" \"a\" \"a\" \"c\" \"g\" \"c\" \"g\" \"g\" \"t\" \"a\" \"a\" \"c\" \"a\" \"t\" \"t\" \"g\" \"t\" \"c\"\n",
       "[1027] \"a\" \"c\" \"c\" \"g\" \"a\" \"g\" \"a\" \"t\" \"g\" \"g\" \"a\" \"c\" \"t\" \"c\" \"g\" \"a\" \"t\" \"t\"\n",
       "[1045] \"c\" \"g\" \"c\" \"g\" \"t\" \"c\" \"g\" \"a\" \"g\" \"a\" \"t\" \"t\" \"g\" \"g\" \"c\" \"c\" \"g\" \"c\"\n",
       "[1063] \"a\" \"t\" \"c\" \"g\" \"g\" \"c\" \"g\" \"a\" \"a\" \"g\" \"c\" \"c\" \"a\" \"c\" \"c\" \"g\" \"a\" \"g\"\n",
       "[1081] \"g\" \"t\" \"c\" \"t\" \"t\" \"g\" \"g\" \"g\" \"g\" \"c\" \"g\" \"c\" \"a\" \"a\" \"g\" \"a\" \"t\" \"t\"\n",
       "[1099] \"c\" \"t\" \"g\" \"g\" \"g\" \"c\" \"g\" \"a\" \"t\" \"a\" \"a\" \"a\" \"t\" \"a\" \"c\" \"g\" \"t\" \"t\"\n",
       "[1117] \"g\" \"a\" \"g\" \"c\" \"c\" \"c\" \"g\" \"c\" \"c\" \"g\" \"a\" \"t\" \"g\" \"c\" \"g\" \"c\" \"t\" \"g\"\n",
       "[1135] \"c\" \"g\" \"a\" \"t\" \"t\" \"c\" \"c\" \"a\" \"g\" \"a\" \"t\" \"t\" \"g\" \"g\" \"t\" \"g\" \"c\" \"c\"\n",
       "[1153] \"a\" \"a\" \"c\" \"g\" \"g\" \"g\" \"a\" \"c\" \"g\" \"g\" \"a\" \"t\" \"t\" \"t\" \"g\" \"g\" \"a\" \"c\"\n",
       "[1171] \"a\" \"c\" \"t\" \"a\" \"t\" \"c\" \"g\" \"c\" \"g\" \"g\" \"t\" \"g\" \"a\" \"c\" \"t\" \"t\" \"t\" \"c\"\n",
       "[1189] \"g\" \"t\" \"g\" \"g\" \"a\" \"t\" \"g\" \"t\" \"g\" \"g\" \"t\" \"c\" \"g\" \"a\" \"c\" \"a\" \"t\" \"t\"\n",
       "[1207] \"g\" \"c\" \"c\" \"c\" \"a\" \"c\" \"g\" \"c\" \"c\" \"c\" \"a\" \"g\" \"c\" \"t\" \"g\" \"g\" \"g\" \"t\"\n",
       "[1225] \"g\" \"a\" \"a\" \"a\" \"t\" \"c\" \"c\" \"c\" \"c\" \"c\" \"a\" \"g\" \"g\" \"a\" \"t\" \"g\" \"c\" \"c\"\n",
       "[1243] \"a\" \"g\" \"c\" \"c\" \"a\" \"c\" \"g\" \"a\" \"a\" \"g\" \"c\" \"c\" \"t\" \"t\" \"c\" \"c\" \"a\" \"g\"\n",
       "[1261] \"g\" \"g\" \"c\" \"g\" \"c\" \"g\" \"a\" \"t\" \"t\" \"g\" \"t\" \"g\" \"a\" \"a\" \"t\" \"a\" \"t\" \"t\"\n",
       "[1279] \"g\" \"a\" \"c\" \"g\" \"g\" \"c\" \"c\" \"a\" \"g\" \"a\" \"t\" \"a\" \"g\" \"a\" \"g\" \"g\" \"t\" \"g\"\n",
       "[1297] \"a\" \"t\" \"t\" \"t\" \"c\" \"c\" \"a\" \"c\" \"c\" \"g\" \"c\" \"g\" \"c\" \"g\" \"g\" \"g\" \"c\" \"a\"\n",
       "[1315] \"a\" \"c\" \"g\" \"c\" \"t\" \"g\" \"g\" \"g\" \"c\" \"g\" \"c\" \"g\" \"g\" \"t\" \"c\" \"a\" \"t\" \"g\"\n",
       "[1333] \"a\" \"g\" \"c\" \"c\" \"g\" \"c\" \"t\" \"t\" \"t\" \"g\" \"a\" \"a\" \"a\" \"a\" \"c\" \"a\" \"c\" \"g\"\n",
       "[1351] \"a\" \"t\" \"t\" \"a\" \"a\" \"c\" \"a\" \"c\" \"t\" \"t\" \"t\" \"g\" \"a\" \"a\" \"t\" \"g\" \"t\" \"g\"\n",
       "[1369] \"a\" \"c\" \"c\" \"g\" \"t\" \"a\" \"g\" \"a\" \"g\" \"a\" \"a\" \"c\" \"c\" \"t\" \"g\" \"g\" \"c\" \"t\"\n",
       "[1387] \"g\" \"c\" \"c\" \"g\" \"c\" \"c\" \"c\" \"g\" \"g\" \"g\" \"g\" \"g\" \"c\" \"g\" \"g\" \"a\" \"t\" \"t\"\n",
       "[1405] \"c\" \"a\" \"a\" \"g\" \"a\" \"c\" \"a\" \"c\" \"g\" \"g\" \"a\" \"t\" \"t\" \"t\" \"c\" \"a\" \"c\" \"c\"\n",
       "[1423] \"a\" \"c\" \"g\" \"g\" \"a\" \"a\" \"t\" \"c\" \"g\" \"g\" \"c\" \"g\" \"g\" \"a\" \"a\" \"t\" \"a\" \"t\"\n",
       "[1441] \"a\" \"t\" \"g\" \"c\" \"g\" \"t\" \"g\" \"g\" \"c\" \"c\" \"g\" \"g\" \"a\" \"t\" \"t\" \"c\" \"t\" \"g\"\n",
       "[1459] \"a\" \"c\" \"c\" \"c\" \"a\" \"a\" \"a\" \"g\" \"t\" \"t\" \"c\" \"c\" \"c\" \"a\" \"c\" \"g\" \"c\" \"c\"\n",
       "[1477] \"g\" \"t\" \"g\" \"a\" \"t\" \"g\" \"t\" \"c\" \"c\" \"c\" \"a\" \"g\" \"g\" \"c\" \"t\" \"t\" \"t\" \"g\"\n",
       "[1495] \"t\" \"t\" \"g\" \"g\" \"c\" \"a\" \"c\" \"c\" \"g\" \"c\" \"g\" \"c\" \"g\" \"g\" \"g\" \"g\" \"t\" \"g\"\n",
       "[1513] \"c\" \"t\" \"g\" \"t\" \"c\" \"g\" \"c\" \"t\" \"g\" \"c\" \"t\" \"g\" \"t\" \"c\" \"g\" \"g\" \"t\" \"g\"\n",
       "[1531] \"g\" \"c\" \"g\" \"t\" \"a\" \"g\"\n",
       "attr(,\"name\")\n",
       "[1] \"lcl|ACKW01000055.1_cds_EEJ52905.1_1\"\n",
       "attr(,\"Annot\")\n",
       "[1] \">lcl|ACKW01000055.1_cds_EEJ52905.1_1 [locus_tag=HMPREF0577_2218] [protein=putative flagellin protein] [protein_id=EEJ52905.1] [location=167163..168698] [gbkey=CDS]\"\n",
       "attr(,\"class\")\n",
       "[1] \"SeqFastadna\"\n",
       "\n",
       "$`lcl|GU071047.1_cds_ACY40759.1_1`\n",
       "   [1] \"t\" \"t\" \"g\" \"g\" \"a\" \"g\" \"t\" \"t\" \"t\" \"a\" \"g\" \"t\" \"c\" \"c\" \"c\" \"g\" \"t\" \"g\"\n",
       "  [19] \"a\" \"g\" \"t\" \"a\" \"t\" \"t\" \"t\" \"a\" \"t\" \"c\" \"a\" \"g\" \"c\" \"g\" \"t\" \"g\" \"t\" \"c\"\n",
       "  [37] \"t\" \"c\" \"c\" \"g\" \"t\" \"g\" \"g\" \"a\" \"t\" \"g\" \"c\" \"g\" \"g\" \"c\" \"g\" \"c\" \"t\" \"t\"\n",
       "  [55] \"t\" \"a\" \"t\" \"g\" \"t\" \"g\" \"c\" \"t\" \"g\" \"c\" \"g\" \"c\" \"g\" \"a\" \"t\" \"a\" \"t\" \"c\"\n",
       "  [73] \"a\" \"a\" \"t\" \"c\" \"g\" \"g\" \"a\" \"a\" \"t\" \"a\" \"t\" \"g\" \"a\" \"c\" \"g\" \"g\" \"t\" \"c\"\n",
       "  [91] \"a\" \"c\" \"g\" \"c\" \"a\" \"a\" \"a\" \"a\" \"t\" \"c\" \"a\" \"c\" \"a\" \"t\" \"t\" \"a\" \"c\" \"g\"\n",
       " [109] \"a\" \"c\" \"g\" \"g\" \"g\" \"t\" \"a\" \"t\" \"g\" \"c\" \"g\" \"t\" \"g\" \"t\" \"c\" \"g\" \"a\" \"a\"\n",
       " [127] \"a\" \"a\" \"a\" \"g\" \"c\" \"c\" \"a\" \"g\" \"c\" \"g\" \"a\" \"c\" \"a\" \"a\" \"c\" \"g\" \"c\" \"c\"\n",
       " [145] \"g\" \"t\" \"c\" \"t\" \"a\" \"c\" \"t\" \"g\" \"g\" \"t\" \"c\" \"g\" \"a\" \"t\" \"c\" \"g\" \"c\" \"c\"\n",
       " [163] \"a\" \"c\" \"c\" \"a\" \"c\" \"c\" \"g\" \"c\" \"g\" \"c\" \"g\" \"g\" \"a\" \"c\" \"c\" \"g\" \"a\" \"c\"\n",
       " [181] \"a\" \"a\" \"t\" \"a\" \"a\" \"a\" \"g\" \"c\" \"g\" \"g\" \"t\" \"t\" \"t\" \"c\" \"g\" \"g\" \"c\" \"g\"\n",
       " [199] \"a\" \"t\" \"c\" \"c\" \"a\" \"g\" \"g\" \"a\" \"t\" \"g\" \"c\" \"g\" \"c\" \"t\" \"t\" \"g\" \"g\" \"c\"\n",
       " [217] \"a\" \"t\" \"g\" \"g\" \"c\" \"c\" \"g\" \"c\" \"a\" \"g\" \"c\" \"g\" \"a\" \"c\" \"g\" \"a\" \"t\" \"g\"\n",
       " [235] \"g\" \"g\" \"a\" \"a\" \"c\" \"g\" \"g\" \"c\" \"c\" \"t\" \"a\" \"t\" \"a\" \"c\" \"c\" \"g\" \"g\" \"c\"\n",
       " [253] \"g\" \"t\" \"t\" \"c\" \"a\" \"g\" \"a\" \"g\" \"c\" \"g\" \"t\" \"c\" \"a\" \"t\" \"c\" \"g\" \"a\" \"c\"\n",
       " [271] \"g\" \"t\" \"c\" \"g\" \"t\" \"c\" \"t\" \"c\" \"c\" \"g\" \"a\" \"a\" \"a\" \"t\" \"c\" \"a\" \"a\" \"g\"\n",
       " [289] \"g\" \"c\" \"a\" \"a\" \"a\" \"g\" \"c\" \"t\" \"g\" \"g\" \"t\" \"t\" \"g\" \"c\" \"c\" \"g\" \"c\" \"a\"\n",
       " [307] \"a\" \"c\" \"c\" \"g\" \"a\" \"a\" \"g\" \"a\" \"c\" \"g\" \"g\" \"c\" \"a\" \"t\" \"c\" \"g\" \"a\" \"t\"\n",
       " [325] \"a\" \"a\" \"g\" \"a\" \"a\" \"c\" \"a\" \"a\" \"g\" \"a\" \"t\" \"c\" \"a\" \"a\" \"c\" \"g\" \"a\" \"a\"\n",
       " [343] \"g\" \"a\" \"g\" \"a\" \"t\" \"c\" \"a\" \"a\" \"a\" \"c\" \"a\" \"g\" \"c\" \"t\" \"g\" \"c\" \"a\" \"g\"\n",
       " [361] \"g\" \"a\" \"g\" \"c\" \"a\" \"a\" \"c\" \"t\" \"g\" \"c\" \"g\" \"c\" \"a\" \"g\" \"c\" \"g\" \"t\" \"t\"\n",
       " [379] \"t\" \"c\" \"g\" \"g\" \"a\" \"a\" \"t\" \"c\" \"g\" \"g\" \"c\" \"g\" \"a\" \"c\" \"c\" \"t\" \"t\" \"t\"\n",
       " [397] \"a\" \"a\" \"c\" \"a\" \"g\" \"c\" \"g\" \"a\" \"c\" \"a\" \"a\" \"c\" \"t\" \"g\" \"g\" \"g\" \"t\" \"g\"\n",
       " [415] \"g\" \"t\" \"c\" \"c\" \"t\" \"c\" \"a\" \"c\" \"c\" \"a\" \"a\" \"c\" \"g\" \"a\" \"t\" \"g\" \"c\" \"g\"\n",
       " [433] \"a\" \"c\" \"g\" \"c\" \"c\" \"g\" \"a\" \"c\" \"g\" \"c\" \"a\" \"g\" \"c\" \"c\" \"g\" \"c\" \"g\" \"c\"\n",
       " [451] \"c\" \"a\" \"g\" \"a\" \"t\" \"c\" \"c\" \"c\" \"g\" \"g\" \"c\" \"c\" \"t\" \"c\" \"g\" \"t\" \"t\" \"c\"\n",
       " [469] \"a\" \"t\" \"c\" \"c\" \"g\" \"c\" \"a\" \"a\" \"c\" \"g\" \"c\" \"c\" \"g\" \"a\" \"c\" \"g\" \"g\" \"c\"\n",
       " [487] \"a\" \"c\" \"g\" \"a\" \"t\" \"c\" \"t\" \"c\" \"g\" \"a\" \"t\" \"c\" \"g\" \"g\" \"c\" \"a\" \"t\" \"g\"\n",
       " [505] \"c\" \"t\" \"g\" \"a\" \"g\" \"c\" \"t\" \"a\" \"c\" \"c\" \"a\" \"t\" \"a\" \"t\" \"c\" \"g\" \"a\" \"c\"\n",
       " [523] \"a\" \"a\" \"c\" \"a\" \"c\" \"a\" \"c\" \"c\" \"c\" \"g\" \"t\" \"c\" \"g\" \"g\" \"g\" \"g\" \"c\" \"g\"\n",
       " [541] \"a\" \"c\" \"a\" \"a\" \"c\" \"c\" \"t\" \"c\" \"c\" \"a\" \"a\" \"g\" \"g\" \"a\" \"c\" \"g\" \"c\" \"g\"\n",
       " [559] \"c\" \"g\" \"c\" \"t\" \"a\" \"c\" \"c\" \"t\" \"g\" \"a\" \"t\" \"c\" \"g\" \"a\" \"c\" \"g\" \"a\" \"c\"\n",
       " [577] \"c\" \"g\" \"t\" \"g\" \"c\" \"c\" \"a\" \"c\" \"c\" \"g\" \"g\" \"t\" \"t\" \"c\" \"c\" \"g\" \"g\" \"c\"\n",
       " [595] \"g\" \"a\" \"a\" \"t\" \"a\" \"c\" \"g\" \"g\" \"g\" \"g\" \"t\" \"g\" \"c\" \"t\" \"g\" \"a\" \"c\" \"a\"\n",
       " [613] \"t\" \"c\" \"g\" \"g\" \"c\" \"c\" \"t\" \"a\" \"t\" \"t\" \"t\" \"c\" \"g\" \"c\" \"c\" \"a\" \"c\" \"c\"\n",
       " [631] \"g\" \"a\" \"g\" \"c\" \"t\" \"c\" \"g\" \"g\" \"t\" \"g\" \"c\" \"t\" \"g\" \"c\" \"g\" \"c\" \"a\" \"a\"\n",
       " [649] \"a\" \"a\" \"t\" \"t\" \"a\" \"c\" \"g\" \"t\" \"g\" \"c\" \"t\" \"g\" \"a\" \"t\" \"g\" \"a\" \"c\" \"g\"\n",
       " [667] \"a\" \"g\" \"c\" \"a\" \"a\" \"g\" \"a\" \"a\" \"c\" \"g\" \"g\" \"c\" \"a\" \"c\" \"c\" \"a\" \"c\" \"c\"\n",
       " [685] \"a\" \"c\" \"c\" \"g\" \"g\" \"g\" \"c\" \"a\" \"g\" \"g\" \"t\" \"g\" \"g\" \"t\" \"g\" \"a\" \"t\" \"c\"\n",
       " [703] \"t\" \"c\" \"t\" \"g\" \"t\" \"g\" \"a\" \"c\" \"a\" \"t\" \"c\" \"a\" \"a\" \"g\" \"c\" \"a\" \"c\" \"g\"\n",
       " [721] \"a\" \"c\" \"g\" \"c\" \"a\" \"g\" \"g\" \"g\" \"c\" \"c\" \"a\" \"g\" \"a\" \"t\" \"c\" \"g\" \"g\" \"c\"\n",
       " [739] \"c\" \"a\" \"g\" \"a\" \"t\" \"g\" \"a\" \"t\" \"c\" \"a\" \"g\" \"c\" \"g\" \"t\" \"c\" \"g\" \"t\" \"c\"\n",
       " [757] \"g\" \"a\" \"t\" \"g\" \"c\" \"c\" \"g\" \"c\" \"a\" \"c\" \"t\" \"g\" \"a\" \"c\" \"g\" \"c\" \"a\" \"a\"\n",
       " [775] \"c\" \"t\" \"g\" \"a\" \"c\" \"g\" \"a\" \"c\" \"g\" \"g\" \"t\" \"c\" \"g\" \"g\" \"t\" \"t\" \"c\" \"g\"\n",
       " [793] \"g\" \"c\" \"c\" \"t\" \"t\" \"c\" \"g\" \"g\" \"c\" \"g\" \"c\" \"g\" \"c\" \"t\" \"g\" \"g\" \"a\" \"a\"\n",
       " [811] \"a\" \"a\" \"g\" \"c\" \"g\" \"c\" \"a\" \"t\" \"c\" \"a\" \"a\" \"c\" \"c\" \"t\" \"g\" \"c\" \"a\" \"g\"\n",
       " [829] \"a\" \"a\" \"c\" \"g\" \"a\" \"c\" \"t\" \"t\" \"c\" \"g\" \"c\" \"c\" \"a\" \"c\" \"g\" \"a\" \"a\" \"a\"\n",
       " [847] \"c\" \"t\" \"g\" \"c\" \"a\" \"c\" \"g\" \"a\" \"c\" \"a\" \"a\" \"t\" \"a\" \"t\" \"c\" \"a\" \"c\" \"c\"\n",
       " [865] \"g\" \"c\" \"c\" \"g\" \"g\" \"c\" \"a\" \"t\" \"c\" \"g\" \"g\" \"c\" \"c\" \"g\" \"a\" \"c\" \"t\" \"t\"\n",
       " [883] \"g\" \"t\" \"c\" \"g\" \"a\" \"t\" \"g\" \"c\" \"c\" \"g\" \"a\" \"c\" \"a\" \"t\" \"g\" \"g\" \"a\" \"g\"\n",
       " [901] \"g\" \"a\" \"g\" \"g\" \"a\" \"g\" \"t\" \"c\" \"g\" \"a\" \"g\" \"c\" \"a\" \"g\" \"g\" \"c\" \"t\" \"g\"\n",
       " [919] \"c\" \"g\" \"g\" \"g\" \"c\" \"g\" \"t\" \"t\" \"g\" \"c\" \"a\" \"g\" \"a\" \"c\" \"g\" \"c\" \"a\" \"g\"\n",
       " [937] \"c\" \"a\" \"g\" \"c\" \"a\" \"g\" \"c\" \"t\" \"c\" \"g\" \"g\" \"c\" \"c\" \"t\" \"g\" \"c\" \"a\" \"g\"\n",
       " [955] \"t\" \"c\" \"g\" \"c\" \"t\" \"g\" \"a\" \"a\" \"c\" \"a\" \"t\" \"c\" \"g\" \"c\" \"c\" \"a\" \"a\" \"c\"\n",
       " [973] \"g\" \"c\" \"c\" \"a\" \"c\" \"t\" \"t\" \"a\" \"c\" \"g\" \"a\" \"c\" \"a\" \"c\" \"c\" \"g\" \"t\" \"g\"\n",
       " [991] \"c\" \"g\" \"g\" \"c\" \"a\" \"g\" \"t\" \"t\" \"g\" \"t\" \"t\" \"c\" \"c\" \"a\" \"g\" \"a\" \"a\" \"t\"\n",
       "[1009] \"t\" \"t\" \"c\" \"t\" \"a\" \"a\"\n",
       "attr(,\"name\")\n",
       "[1] \"lcl|GU071047.1_cds_ACY40759.1_1\"\n",
       "attr(,\"Annot\")\n",
       "[1] \">lcl|GU071047.1_cds_ACY40759.1_1 [gene=flaH] [protein=FlaH] [protein_id=ACY40759.1] [location=351..1364] [gbkey=CDS]\"\n",
       "attr(,\"class\")\n",
       "[1] \"SeqFastadna\"\n",
       "\n",
       "$`lcl|HE617161.1_cds_CCF11937.1_1`\n",
       "  [1] \"a\" \"t\" \"g\" \"g\" \"c\" \"c\" \"g\" \"t\" \"t\" \"a\" \"t\" \"c\" \"a\" \"a\" \"c\" \"a\" \"c\" \"a\"\n",
       " [19] \"a\" \"a\" \"t\" \"a\" \"c\" \"g\" \"c\" \"t\" \"g\" \"t\" \"c\" \"a\" \"c\" \"t\" \"g\" \"g\" \"t\" \"t\"\n",
       " [37] \"a\" \"c\" \"g\" \"c\" \"a\" \"g\" \"a\" \"a\" \"t\" \"a\" \"a\" \"c\" \"c\" \"t\" \"g\" \"a\" \"c\" \"a\"\n",
       " [55] \"a\" \"a\" \"g\" \"t\" \"c\" \"a\" \"c\" \"a\" \"g\" \"t\" \"c\" \"t\" \"t\" \"c\" \"a\" \"c\" \"t\" \"a\"\n",
       " [73] \"g\" \"g\" \"c\" \"a\" \"c\" \"g\" \"g\" \"c\" \"g\" \"a\" \"t\" \"t\" \"g\" \"a\" \"g\" \"c\" \"g\" \"c\"\n",
       " [91] \"c\" \"t\" \"g\" \"t\" \"c\" \"t\" \"t\" \"c\" \"c\" \"g\" \"g\" \"t\" \"c\" \"t\" \"g\" \"c\" \"g\" \"c\"\n",
       "[109] \"a\" \"t\" \"c\" \"a\" \"a\" \"c\" \"a\" \"g\" \"t\" \"g\" \"c\" \"a\" \"a\" \"a\" \"a\" \"g\" \"a\" \"t\"\n",
       "[127] \"g\" \"a\" \"t\" \"g\" \"c\" \"a\" \"g\" \"c\" \"c\" \"g\" \"g\" \"t\" \"g\" \"a\" \"g\" \"g\" \"c\" \"c\"\n",
       "[145] \"a\" \"t\" \"c\" \"g\" \"c\" \"t\" \"a\" \"a\" \"c\" \"c\" \"g\" \"t\" \"t\" \"t\" \"c\" \"a\" \"c\" \"c\"\n",
       "[163] \"t\" \"c\" \"c\" \"a\" \"a\" \"c\" \"a\" \"t\" \"c\" \"a\" \"a\" \"c\" \"g\" \"g\" \"g\" \"a\" \"t\" \"g\"\n",
       "[181] \"a\" \"c\" \"c\" \"g\" \"t\" \"t\" \"g\" \"c\" \"c\" \"g\" \"c\" \"c\" \"c\" \"g\" \"c\" \"a\" \"a\" \"t\"\n",
       "[199] \"g\" \"c\" \"c\" \"a\" \"a\" \"c\" \"g\" \"a\" \"c\" \"g\" \"g\" \"t\" \"a\" \"t\" \"t\" \"t\" \"c\" \"g\"\n",
       "[217] \"c\" \"t\" \"g\" \"t\" \"c\" \"g\" \"c\" \"a\" \"g\" \"a\" \"c\" \"c\" \"g\" \"c\" \"c\" \"g\" \"a\" \"g\"\n",
       "[235] \"g\" \"g\" \"c\" \"g\" \"c\" \"g\" \"c\" \"t\" \"g\" \"a\" \"c\" \"t\" \"g\" \"a\" \"a\" \"a\" \"t\" \"t\"\n",
       "[253] \"a\" \"a\" \"c\" \"a\" \"a\" \"t\" \"a\" \"a\" \"t\" \"c\" \"t\" \"g\" \"c\" \"a\" \"g\" \"c\" \"g\" \"a\"\n",
       "[271] \"g\" \"t\" \"t\" \"c\" \"g\" \"t\" \"g\" \"a\" \"c\" \"c\" \"t\" \"g\" \"a\" \"c\" \"c\" \"g\" \"t\" \"t\"\n",
       "[289] \"c\" \"a\" \"g\" \"g\" \"c\" \"g\" \"c\" \"a\" \"g\" \"a\" \"a\" \"c\" \"a\" \"g\" \"c\" \"t\" \"c\" \"t\"\n",
       "[307] \"a\" \"a\" \"c\" \"t\" \"c\" \"a\" \"g\" \"c\" \"c\" \"t\" \"c\" \"g\" \"g\" \"a\" \"t\" \"g\" \"t\" \"c\"\n",
       "[325] \"g\" \"a\" \"c\" \"t\" \"c\" \"g\" \"a\" \"t\" \"t\" \"c\" \"a\" \"g\" \"g\" \"c\" \"t\" \"g\" \"a\" \"a\"\n",
       "[343] \"g\" \"t\" \"t\" \"a\" \"a\" \"c\" \"c\" \"a\" \"g\" \"c\" \"g\" \"c\" \"a\" \"t\" \"g\" \"c\" \"a\" \"g\"\n",
       "[361] \"g\" \"a\" \"a\" \"a\" \"t\" \"c\" \"g\" \"a\" \"c\" \"c\" \"g\" \"c\" \"g\" \"t\" \"t\" \"a\" \"c\" \"g\"\n",
       "[379] \"a\" \"a\" \"a\" \"c\" \"a\" \"g\" \"a\" \"c\" \"t\" \"g\" \"a\" \"t\" \"t\" \"t\" \"c\" \"a\" \"a\" \"c\"\n",
       "[397] \"g\" \"g\" \"t\" \"a\" \"t\" \"c\" \"a\" \"a\" \"a\" \"g\" \"t\" \"g\" \"c\" \"t\" \"g\" \"a\" \"a\" \"c\"\n",
       "[415] \"a\" \"c\" \"c\" \"g\" \"g\" \"c\" \"t\" \"c\" \"c\" \"g\" \"g\" \"c\" \"a\" \"g\" \"c\" \"a\" \"c\" \"c\"\n",
       "[433] \"a\" \"c\" \"c\" \"t\" \"a\" \"c\" \"a\" \"a\" \"t\" \"t\" \"t\" \"c\" \"c\" \"a\" \"g\" \"g\" \"t\" \"g\"\n",
       "[451] \"g\" \"g\" \"c\" \"g\" \"c\" \"a\" \"a\" \"a\" \"a\" \"g\" \"a\" \"c\" \"g\" \"g\" \"c\" \"g\" \"a\" \"a\"\n",
       "[469] \"a\" \"c\" \"t\" \"a\" \"t\" \"t\" \"g\" \"g\" \"t\" \"a\" \"t\" \"t\" \"g\" \"c\" \"g\" \"c\" \"t\" \"g\"\n",
       "[487] \"a\" \"g\" \"c\" \"t\" \"c\" \"a\" \"a\" \"g\" \"c\" \"g\" \"a\" \"c\" \"g\" \"g\" \"t\" \"t\" \"t\" \"t\"\n",
       "[505] \"g\" \"a\" \"c\" \"c\" \"t\" \"g\" \"g\" \"c\" \"t\" \"g\" \"c\" \"a\" \"g\" \"c\" \"g\" \"g\" \"g\" \"c\"\n",
       "[523] \"a\" \"a\" \"c\" \"g\" \"c\" \"t\" \"t\" \"c\" \"t\" \"a\" \"c\" \"a\" \"g\" \"g\" \"c\" \"a\" \"c\" \"c\"\n",
       "[541] \"a\" \"c\" \"t\" \"c\" \"a\" \"g\" \"a\" \"a\" \"t\" \"a\" \"c\" \"c\" \"a\" \"g\" \"t\" \"t\" \"c\" \"t\"\n",
       "[559] \"a\" \"c\" \"g\" \"a\" \"c\" \"a\" \"g\" \"g\" \"c\" \"c\" \"a\" \"g\" \"a\" \"c\" \"g\" \"g\" \"t\" \"c\"\n",
       "[577] \"a\" \"a\" \"c\" \"g\" \"g\" \"c\" \"a\" \"a\" \"t\" \"g\" \"c\" \"c\" \"c\" \"g\" \"c\" \"a\" \"c\" \"c\"\n",
       "[595] \"a\" \"c\" \"c\" \"t\" \"c\" \"a\" \"g\" \"c\" \"c\" \"a\" \"t\" \"c\" \"g\" \"g\" \"c\" \"t\" \"t\" \"c\"\n",
       "[613] \"g\" \"a\" \"c\" \"g\" \"t\" \"g\" \"c\" \"t\" \"g\" \"a\" \"a\" \"a\" \"g\" \"g\" \"g\" \"g\" \"c\" \"t\"\n",
       "[631] \"g\" \"t\" \"c\" \"a\" \"c\" \"c\" \"g\" \"g\" \"c\" \"g\" \"g\" \"t\" \"t\" \"c\" \"a\" \"g\" \"g\" \"c\"\n",
       "[649] \"g\" \"g\" \"c\" \"a\" \"c\" \"a\" \"g\" \"c\" \"g\" \"t\" \"c\" \"a\" \"g\" \"g\" \"t\" \"a\" \"c\" \"c\"\n",
       "[667] \"a\" \"c\" \"g\" \"c\" \"c\" \"a\" \"c\" \"t\" \"g\" \"g\" \"c\" \"c\" \"g\" \"a\" \"c\" \"a\" \"t\" \"t\"\n",
       "[685] \"g\" \"a\" \"t\" \"a\" \"a\" \"a\" \"g\" \"c\" \"t\" \"a\" \"t\" \"c\" \"a\" \"a\" \"a\" \"g\" \"c\" \"g\"\n",
       "[703] \"g\" \"t\" \"c\" \"g\" \"a\" \"t\" \"a\" \"a\" \"c\" \"c\" \"a\" \"g\" \"c\" \"g\" \"c\" \"a\" \"g\" \"c\"\n",
       "[721] \"c\" \"t\" \"g\" \"c\" \"t\" \"g\" \"g\" \"g\" \"t\" \"g\" \"c\" \"c\" \"t\" \"c\" \"g\" \"c\" \"a\" \"a\"\n",
       "[739] \"a\" \"a\" \"c\" \"c\" \"g\" \"t\" \"t\" \"t\" \"c\" \"g\" \"a\" \"g\" \"t\" \"c\" \"c\" \"a\" \"c\" \"c\"\n",
       "[757] \"a\" \"t\" \"c\" \"a\" \"g\" \"c\" \"a\" \"a\" \"c\" \"c\" \"t\" \"g\" \"a\" \"a\" \"c\" \"a\" \"a\" \"t\"\n",
       "[775] \"a\" \"c\" \"c\" \"g\" \"t\" \"g\" \"a\" \"c\" \"a\" \"a\" \"a\" \"c\" \"c\" \"t\" \"g\" \"a\" \"c\" \"c\"\n",
       "[793] \"g\" \"c\" \"g\" \"g\" \"c\" \"c\" \"c\" \"g\" \"c\" \"a\" \"g\" \"c\" \"c\" \"g\" \"t\" \"a\" \"t\" \"t\"\n",
       "[811] \"c\" \"a\" \"g\" \"g\" \"a\" \"t\" \"g\" \"c\" \"g\" \"g\" \"a\" \"t\" \"a\" \"c\" \"g\" \"c\" \"g\" \"a\"\n",
       "[829] \"c\" \"g\" \"g\" \"a\" \"a\" \"g\" \"t\" \"g\" \"t\" \"c\" \"g\" \"a\" \"a\" \"c\" \"a\" \"t\" \"g\" \"t\"\n",
       "[847] \"c\" \"c\" \"c\" \"g\" \"c\" \"g\" \"c\" \"g\" \"c\" \"a\" \"g\" \"a\" \"t\" \"c\" \"c\" \"t\" \"g\" \"c\"\n",
       "[865] \"a\" \"g\" \"c\" \"a\" \"g\" \"g\" \"c\" \"g\" \"g\" \"g\" \"c\" \"t\" \"c\" \"t\" \"t\" \"c\" \"t\" \"g\"\n",
       "[883] \"t\" \"a\" \"c\" \"t\" \"g\" \"g\" \"c\" \"c\" \"c\" \"a\" \"g\" \"g\" \"c\" \"c\" \"a\" \"a\" \"c\" \"c\"\n",
       "[901] \"a\" \"g\" \"g\" \"t\" \"g\" \"c\" \"c\" \"a\" \"c\" \"a\" \"g\" \"a\" \"c\" \"c\" \"a\" \"t\" \"g\" \"c\"\n",
       "[919] \"t\" \"g\" \"t\" \"c\" \"a\" \"c\" \"t\" \"g\" \"c\" \"t\" \"c\" \"c\" \"g\" \"c\" \"t\" \"a\" \"a\" \"t\"\n",
       "[937] \"a\" \"a\" \"a\" \"c\" \"g\" \"c\" \"t\" \"g\" \"a\"\n",
       "attr(,\"name\")\n",
       "[1] \"lcl|HE617161.1_cds_CCF11937.1_1\"\n",
       "attr(,\"Annot\")\n",
       "[1] \">lcl|HE617161.1_cds_CCF11937.1_1 [gene=fliC3] [locus_tag=PANA5342_pPANA10206] [db_xref=EnsemblGenomes-Gn:PANA5342_pPANA10206,EnsemblGenomes-Tr:CCF11937,GOA:G9AXT6,InterPro:IPR001029,InterPro:IPR001492,UniProtKB/TrEMBL:G9AXT6] [protein=flagellin FliC] [protein_id=CCF11937.1] [location=187838..188782] [gbkey=CDS]\"\n",
       "attr(,\"class\")\n",
       "[1] \"SeqFastadna\"\n"
      ]
     },
     "metadata": {},
     "output_type": "display_data"
    }
   ],
   "source": [
    "head(all.cds.plants)"
   ]
  },
  {
   "cell_type": "code",
   "execution_count": 116,
   "id": "597856d5-aa31-4ff1-a2cd-7f908f5dad91",
   "metadata": {},
   "outputs": [
    {
     "name": "stdout",
     "output_type": "stream",
     "text": [
      "codon_alignments/renamed.all.cds.plants.fasta has been saved to  /ebio/abt3_projects2/Flagellin_Diversity/code/notebooks/shortbred/edgeR/subsampled_opt1/cds \n"
     ]
    }
   ],
   "source": [
    "#Rename using the protein accession - for selection analysis I need DNA - protein sequences with matching names\n",
    "all.cds.accnLabel = rename.fasta(infile=\"all.cds.plants.fna\",newLabels,outfile = \"codon_alignments/renamed.all.cds.plants.fasta\")"
   ]
  },
  {
   "cell_type": "code",
   "execution_count": 117,
   "id": "5994a519-8d5f-403f-b581-e2c479592afa",
   "metadata": {},
   "outputs": [],
   "source": [
    "tmp.cds = seqinr::read.fasta(\"renamed.all.cds.plants.fasta\")\n",
    "match.tmp = match(names(tmp.cds),order_vec.plants)\n",
    "sorted.all.cds.protLabel.plants = tmp.cds[order(match.tmp)]\n",
    "write.fasta(sequences=sorted.all.cds.protLabel.plants,names=names(sorted.all.cds.protLabel.plants),nbchar=80,file.out = \"codon_alignments/sorted.cds.plants.w.protLabels.fna\")"
   ]
  },
  {
   "cell_type": "code",
   "execution_count": 118,
   "id": "ac82f330-eb48-4c79-931b-cb77231874ea",
   "metadata": {},
   "outputs": [
    {
     "data": {
      "text/html": [
       "<style>\n",
       ".list-inline {list-style: none; margin:0; padding: 0}\n",
       ".list-inline>li {display: inline-block}\n",
       ".list-inline>li:not(:last-child)::after {content: \"\\00b7\"; padding: 0 .5ex}\n",
       "</style>\n",
       "<ol class=list-inline><li>'old_name_'</li><li>'old_name_'</li><li>'old_name_'</li><li>'old_name_'</li><li>'old_name_'</li><li>'old_name_'</li></ol>\n"
      ],
      "text/latex": [
       "\\begin{enumerate*}\n",
       "\\item 'old\\_name\\_'\n",
       "\\item 'old\\_name\\_'\n",
       "\\item 'old\\_name\\_'\n",
       "\\item 'old\\_name\\_'\n",
       "\\item 'old\\_name\\_'\n",
       "\\item 'old\\_name\\_'\n",
       "\\end{enumerate*}\n"
      ],
      "text/markdown": [
       "1. 'old_name_'\n",
       "2. 'old_name_'\n",
       "3. 'old_name_'\n",
       "4. 'old_name_'\n",
       "5. 'old_name_'\n",
       "6. 'old_name_'\n",
       "\n",
       "\n"
      ],
      "text/plain": [
       "[1] \"old_name_\" \"old_name_\" \"old_name_\" \"old_name_\" \"old_name_\" \"old_name_\""
      ]
     },
     "metadata": {},
     "output_type": "display_data"
    }
   ],
   "source": [
    "head(names(sorted.all.cds.protLabel.plants))"
   ]
  },
  {
   "cell_type": "markdown",
   "id": "25c283c5-3152-4968-b9d6-4ae339a2705e",
   "metadata": {},
   "source": [
    "### B. Hosts dataset"
   ]
  },
  {
   "cell_type": "markdown",
   "id": "d856ea50-b0fa-4a55-906c-ec71a7d34a1c",
   "metadata": {},
   "source": [
    "#### Sort protein fasta"
   ]
  },
  {
   "cell_type": "code",
   "execution_count": 119,
   "id": "85ad7633-b9f6-4bbd-a929-ca7986cc56c8",
   "metadata": {
    "tags": []
   },
   "outputs": [],
   "source": [
    "#Table matching cds ids to protein ids\n",
    "cds.to.protein.host = getSeqNames.rem(\"all.cds.host.fna\")"
   ]
  },
  {
   "cell_type": "code",
   "execution_count": 120,
   "id": "8d852ef0-0add-44e9-8b83-45a53be2860d",
   "metadata": {},
   "outputs": [],
   "source": [
    "#Extract all cds-matching protein sequences from flagellin database\n",
    "all.protein.with.cds.host = flagellins.markers.sb[c(which(names(flagellins.markers.sb) %in% cds.to.protein.host$Accession))]"
   ]
  },
  {
   "cell_type": "code",
   "execution_count": 121,
   "id": "7059ea29-2f05-4a88-96fb-d60f8761ca4a",
   "metadata": {},
   "outputs": [
    {
     "data": {
      "text/html": [
       "107"
      ],
      "text/latex": [
       "107"
      ],
      "text/markdown": [
       "107"
      ],
      "text/plain": [
       "[1] 107"
      ]
     },
     "metadata": {},
     "output_type": "display_data"
    }
   ],
   "source": [
    "length(all.protein.with.cds.host)"
   ]
  },
  {
   "cell_type": "code",
   "execution_count": 122,
   "id": "73276539-816c-4264-94c2-4d39ce2337c6",
   "metadata": {},
   "outputs": [],
   "source": [
    "#Set order of accessions\n",
    "order_vec.host =cds.to.protein.host$Accession"
   ]
  },
  {
   "cell_type": "code",
   "execution_count": 123,
   "id": "11d78073-da32-43cc-9837-0b7797517292",
   "metadata": {},
   "outputs": [],
   "source": [
    "match_vec.host = match(names(all.protein.with.cds.host),order_vec.host)"
   ]
  },
  {
   "cell_type": "code",
   "execution_count": 124,
   "id": "301f0328-486e-4f94-be60-83a310a7630c",
   "metadata": {},
   "outputs": [],
   "source": [
    "sorted_seqs_host = all.protein.with.cds.host[order(match_vec.host)]"
   ]
  },
  {
   "cell_type": "code",
   "execution_count": 125,
   "id": "c7eb0e6e-8ad4-42f3-88d7-40b99a87d1bd",
   "metadata": {
    "tags": []
   },
   "outputs": [
    {
     "data": {
      "text/html": [
       "<style>\n",
       ".list-inline {list-style: none; margin:0; padding: 0}\n",
       ".list-inline>li {display: inline-block}\n",
       ".list-inline>li:not(:last-child)::after {content: \"\\00b7\"; padding: 0 .5ex}\n",
       "</style>\n",
       "<ol class=list-inline><li>'CAI29258.1'</li><li>'EEC56699.1'</li><li>'EEG95687.1'</li><li>'ACR71277.1'</li><li>'CBL40883.1'</li><li>'EGC94816.1'</li></ol>\n"
      ],
      "text/latex": [
       "\\begin{enumerate*}\n",
       "\\item 'CAI29258.1'\n",
       "\\item 'EEC56699.1'\n",
       "\\item 'EEG95687.1'\n",
       "\\item 'ACR71277.1'\n",
       "\\item 'CBL40883.1'\n",
       "\\item 'EGC94816.1'\n",
       "\\end{enumerate*}\n"
      ],
      "text/markdown": [
       "1. 'CAI29258.1'\n",
       "2. 'EEC56699.1'\n",
       "3. 'EEG95687.1'\n",
       "4. 'ACR71277.1'\n",
       "5. 'CBL40883.1'\n",
       "6. 'EGC94816.1'\n",
       "\n",
       "\n"
      ],
      "text/plain": [
       "[1] \"CAI29258.1\" \"EEC56699.1\" \"EEG95687.1\" \"ACR71277.1\" \"CBL40883.1\"\n",
       "[6] \"EGC94816.1\""
      ]
     },
     "metadata": {},
     "output_type": "display_data"
    }
   ],
   "source": [
    "head(names(sorted_seqs_host))"
   ]
  },
  {
   "cell_type": "code",
   "execution_count": 126,
   "id": "02ff359b-c557-42c1-aab4-aa520c945c30",
   "metadata": {},
   "outputs": [],
   "source": [
    "#Write file\n",
    "write.fasta(sequences=sorted_seqs_host,names=names(sorted_seqs_host),nbchar=80,file.out=\"codon_alignments/all.cds.prot.host.faa\")"
   ]
  },
  {
   "cell_type": "code",
   "execution_count": 127,
   "id": "c6d806d2-9d20-4c39-b1b0-dde0cac72e1d",
   "metadata": {},
   "outputs": [
    {
     "data": {
      "text/html": [
       "107"
      ],
      "text/latex": [
       "107"
      ],
      "text/markdown": [
       "107"
      ],
      "text/plain": [
       "[1] 107"
      ]
     },
     "metadata": {},
     "output_type": "display_data"
    }
   ],
   "source": [
    "length(all.protein.with.cds.host)"
   ]
  },
  {
   "cell_type": "markdown",
   "id": "5f037c5b-6b09-4ed4-9ac1-6dbcc1d5c15b",
   "metadata": {},
   "source": [
    "#### Rename CDS fasta"
   ]
  },
  {
   "cell_type": "code",
   "execution_count": 128,
   "id": "db13cef2-3795-4ace-ad14-bca539bd32d0",
   "metadata": {},
   "outputs": [],
   "source": [
    "#Create matrix with oldName (col1) and newName (col2)\n",
    "newLabels = select(cds.to.protein.host,seqName,Accession)"
   ]
  },
  {
   "cell_type": "code",
   "execution_count": 129,
   "id": "918c2886-eccd-42b7-bdae-33653ab5a8fd",
   "metadata": {
    "collapsed": true,
    "jupyter": {
     "outputs_hidden": true
    },
    "tags": []
   },
   "outputs": [
    {
     "data": {
      "text/plain": [
       "$`lcl|AJ865466.1_cds_CAI29258.1_1`\n",
       "   [1] \"a\" \"t\" \"g\" \"g\" \"c\" \"a\" \"c\" \"a\" \"a\" \"g\" \"t\" \"c\" \"a\" \"t\" \"t\" \"a\" \"a\" \"t\"\n",
       "  [19] \"a\" \"c\" \"c\" \"a\" \"a\" \"c\" \"a\" \"g\" \"c\" \"c\" \"t\" \"c\" \"t\" \"c\" \"g\" \"c\" \"t\" \"g\"\n",
       "  [37] \"a\" \"t\" \"c\" \"a\" \"c\" \"t\" \"c\" \"a\" \"a\" \"a\" \"a\" \"t\" \"a\" \"a\" \"t\" \"a\" \"t\" \"c\"\n",
       "  [55] \"a\" \"a\" \"c\" \"a\" \"a\" \"g\" \"a\" \"a\" \"c\" \"c\" \"a\" \"g\" \"t\" \"c\" \"t\" \"g\" \"c\" \"g\"\n",
       "  [73] \"c\" \"t\" \"g\" \"t\" \"c\" \"g\" \"a\" \"g\" \"t\" \"t\" \"c\" \"t\" \"a\" \"t\" \"c\" \"g\" \"a\" \"g\"\n",
       "  [91] \"c\" \"g\" \"t\" \"c\" \"t\" \"g\" \"t\" \"c\" \"t\" \"t\" \"c\" \"t\" \"g\" \"g\" \"c\" \"t\" \"t\" \"g\"\n",
       " [109] \"c\" \"g\" \"t\" \"a\" \"t\" \"t\" \"a\" \"a\" \"c\" \"a\" \"g\" \"c\" \"g\" \"c\" \"g\" \"a\" \"a\" \"g\"\n",
       " [127] \"g\" \"a\" \"t\" \"g\" \"a\" \"c\" \"g\" \"c\" \"a\" \"g\" \"c\" \"g\" \"g\" \"g\" \"t\" \"c\" \"a\" \"g\"\n",
       " [145] \"g\" \"c\" \"g\" \"a\" \"t\" \"t\" \"g\" \"c\" \"t\" \"a\" \"a\" \"c\" \"c\" \"g\" \"t\" \"t\" \"t\" \"c\"\n",
       " [163] \"a\" \"c\" \"c\" \"t\" \"c\" \"t\" \"a\" \"a\" \"c\" \"a\" \"t\" \"t\" \"a\" \"a\" \"a\" \"g\" \"g\" \"c\"\n",
       " [181] \"c\" \"t\" \"g\" \"a\" \"c\" \"t\" \"c\" \"a\" \"g\" \"g\" \"c\" \"g\" \"g\" \"c\" \"c\" \"c\" \"g\" \"t\"\n",
       " [199] \"a\" \"a\" \"c\" \"g\" \"c\" \"c\" \"a\" \"a\" \"c\" \"g\" \"a\" \"c\" \"g\" \"g\" \"t\" \"a\" \"t\" \"c\"\n",
       " [217] \"t\" \"c\" \"c\" \"g\" \"t\" \"t\" \"g\" \"c\" \"g\" \"c\" \"a\" \"g\" \"a\" \"c\" \"c\" \"a\" \"c\" \"c\"\n",
       " [235] \"g\" \"a\" \"a\" \"g\" \"g\" \"c\" \"g\" \"c\" \"g\" \"c\" \"t\" \"g\" \"t\" \"c\" \"c\" \"g\" \"a\" \"a\"\n",
       " [253] \"a\" \"t\" \"c\" \"a\" \"a\" \"c\" \"a\" \"a\" \"c\" \"a\" \"a\" \"c\" \"t\" \"t\" \"a\" \"c\" \"a\" \"g\"\n",
       " [271] \"c\" \"g\" \"t\" \"g\" \"t\" \"g\" \"c\" \"g\" \"t\" \"g\" \"a\" \"a\" \"c\" \"t\" \"g\" \"a\" \"c\" \"g\"\n",
       " [289] \"g\" \"t\" \"a\" \"c\" \"a\" \"g\" \"g\" \"c\" \"c\" \"a\" \"c\" \"t\" \"a\" \"c\" \"c\" \"g\" \"g\" \"t\"\n",
       " [307] \"a\" \"c\" \"t\" \"a\" \"a\" \"c\" \"t\" \"c\" \"t\" \"g\" \"a\" \"g\" \"t\" \"c\" \"t\" \"g\" \"a\" \"t\"\n",
       " [325] \"c\" \"t\" \"g\" \"t\" \"c\" \"t\" \"t\" \"c\" \"t\" \"a\" \"t\" \"c\" \"c\" \"a\" \"g\" \"g\" \"a\" \"c\"\n",
       " [343] \"g\" \"a\" \"a\" \"a\" \"t\" \"t\" \"a\" \"a\" \"a\" \"t\" \"c\" \"c\" \"c\" \"g\" \"t\" \"c\" \"t\" \"g\"\n",
       " [361] \"g\" \"a\" \"t\" \"g\" \"a\" \"a\" \"a\" \"t\" \"t\" \"g\" \"a\" \"c\" \"c\" \"g\" \"c\" \"g\" \"t\" \"a\"\n",
       " [379] \"t\" \"c\" \"t\" \"g\" \"g\" \"t\" \"c\" \"a\" \"g\" \"a\" \"c\" \"c\" \"c\" \"a\" \"g\" \"t\" \"t\" \"c\"\n",
       " [397] \"a\" \"a\" \"c\" \"g\" \"g\" \"c\" \"g\" \"t\" \"g\" \"a\" \"a\" \"c\" \"g\" \"t\" \"g\" \"c\" \"t\" \"g\"\n",
       " [415] \"g\" \"c\" \"a\" \"a\" \"a\" \"a\" \"a\" \"a\" \"t\" \"g\" \"g\" \"c\" \"t\" \"c\" \"c\" \"a\" \"t\" \"g\"\n",
       " [433] \"a\" \"a\" \"a\" \"a\" \"t\" \"c\" \"c\" \"a\" \"g\" \"g\" \"t\" \"t\" \"g\" \"g\" \"c\" \"g\" \"c\" \"a\"\n",
       " [451] \"a\" \"a\" \"t\" \"g\" \"a\" \"t\" \"a\" \"a\" \"c\" \"c\" \"a\" \"g\" \"a\" \"c\" \"t\" \"a\" \"t\" \"c\"\n",
       " [469] \"a\" \"c\" \"t\" \"a\" \"t\" \"c\" \"g\" \"a\" \"t\" \"c\" \"t\" \"g\" \"a\" \"a\" \"g\" \"c\" \"a\" \"g\"\n",
       " [487] \"a\" \"t\" \"t\" \"g\" \"a\" \"t\" \"g\" \"c\" \"t\" \"a\" \"a\" \"a\" \"a\" \"c\" \"t\" \"c\" \"t\" \"t\"\n",
       " [505] \"g\" \"g\" \"c\" \"c\" \"t\" \"t\" \"g\" \"a\" \"t\" \"g\" \"g\" \"t\" \"t\" \"t\" \"t\" \"a\" \"g\" \"c\"\n",
       " [523] \"g\" \"t\" \"t\" \"a\" \"a\" \"a\" \"a\" \"a\" \"t\" \"a\" \"a\" \"c\" \"g\" \"a\" \"t\" \"a\" \"c\" \"a\"\n",
       " [541] \"g\" \"t\" \"t\" \"a\" \"c\" \"c\" \"a\" \"c\" \"t\" \"a\" \"g\" \"t\" \"g\" \"c\" \"t\" \"c\" \"c\" \"a\"\n",
       " [559] \"g\" \"t\" \"a\" \"a\" \"c\" \"t\" \"g\" \"c\" \"t\" \"t\" \"t\" \"t\" \"g\" \"g\" \"t\" \"g\" \"c\" \"t\"\n",
       " [577] \"a\" \"c\" \"c\" \"a\" \"c\" \"c\" \"a\" \"c\" \"a\" \"a\" \"a\" \"c\" \"a\" \"a\" \"t\" \"a\" \"t\" \"t\"\n",
       " [595] \"a\" \"a\" \"a\" \"c\" \"t\" \"t\" \"a\" \"c\" \"t\" \"g\" \"g\" \"a\" \"a\" \"t\" \"t\" \"a\" \"c\" \"c\"\n",
       " [613] \"c\" \"t\" \"t\" \"t\" \"c\" \"t\" \"a\" \"c\" \"g\" \"g\" \"a\" \"a\" \"g\" \"c\" \"a\" \"g\" \"c\" \"c\"\n",
       " [631] \"a\" \"c\" \"t\" \"g\" \"a\" \"t\" \"a\" \"c\" \"t\" \"g\" \"g\" \"c\" \"g\" \"g\" \"a\" \"a\" \"c\" \"t\"\n",
       " [649] \"a\" \"a\" \"c\" \"c\" \"c\" \"a\" \"g\" \"c\" \"t\" \"t\" \"c\" \"a\" \"a\" \"t\" \"t\" \"g\" \"a\" \"g\"\n",
       " [667] \"g\" \"g\" \"t\" \"g\" \"t\" \"t\" \"t\" \"a\" \"t\" \"a\" \"c\" \"t\" \"g\" \"a\" \"t\" \"a\" \"a\" \"t\"\n",
       " [685] \"g\" \"g\" \"t\" \"a\" \"a\" \"t\" \"g\" \"a\" \"t\" \"t\" \"a\" \"c\" \"t\" \"a\" \"t\" \"g\" \"c\" \"g\"\n",
       " [703] \"a\" \"a\" \"a\" \"g\" \"t\" \"t\" \"c\" \"a\" \"g\" \"a\" \"t\" \"t\" \"g\" \"a\" \"t\" \"a\" \"a\" \"t\"\n",
       " [721] \"a\" \"c\" \"t\" \"g\" \"c\" \"a\" \"g\" \"g\" \"t\" \"t\" \"c\" \"c\" \"g\" \"c\" \"a\" \"a\" \"c\" \"t\"\n",
       " [739] \"g\" \"c\" \"c\" \"a\" \"a\" \"c\" \"c\" \"t\" \"t\" \"g\" \"g\" \"t\" \"g\" \"c\" \"t\" \"g\" \"t\" \"t\"\n",
       " [757] \"a\" \"g\" \"c\" \"t\" \"t\" \"a\" \"g\" \"t\" \"a\" \"a\" \"a\" \"a\" \"c\" \"t\" \"g\" \"c\" \"a\" \"g\"\n",
       " [775] \"g\" \"a\" \"t\" \"t\" \"c\" \"c\" \"a\" \"a\" \"g\" \"g\" \"g\" \"t\" \"a\" \"a\" \"t\" \"g\" \"a\" \"t\"\n",
       " [793] \"a\" \"c\" \"c\" \"g\" \"a\" \"t\" \"a\" \"c\" \"a\" \"t\" \"a\" \"t\" \"g\" \"c\" \"g\" \"c\" \"t\" \"t\"\n",
       " [811] \"a\" \"a\" \"a\" \"g\" \"a\" \"t\" \"a\" \"c\" \"a\" \"a\" \"a\" \"t\" \"g\" \"g\" \"c\" \"a\" \"a\" \"t\"\n",
       " [829] \"c\" \"t\" \"t\" \"t\" \"a\" \"c\" \"g\" \"c\" \"t\" \"g\" \"c\" \"g\" \"g\" \"a\" \"t\" \"g\" \"t\" \"g\"\n",
       " [847] \"a\" \"a\" \"t\" \"g\" \"a\" \"a\" \"a\" \"c\" \"t\" \"a\" \"c\" \"t\" \"g\" \"g\" \"t\" \"g\" \"c\" \"t\"\n",
       " [865] \"g\" \"t\" \"t\" \"t\" \"c\" \"t\" \"g\" \"t\" \"t\" \"a\" \"a\" \"a\" \"a\" \"c\" \"t\" \"a\" \"t\" \"t\"\n",
       " [883] \"a\" \"c\" \"c\" \"t\" \"a\" \"t\" \"a\" \"c\" \"t\" \"g\" \"a\" \"c\" \"t\" \"c\" \"t\" \"t\" \"c\" \"c\"\n",
       " [901] \"g\" \"g\" \"t\" \"g\" \"c\" \"c\" \"g\" \"c\" \"c\" \"a\" \"g\" \"t\" \"t\" \"c\" \"t\" \"c\" \"c\" \"a\"\n",
       " [919] \"a\" \"c\" \"c\" \"g\" \"c\" \"g\" \"g\" \"t\" \"c\" \"a\" \"a\" \"a\" \"c\" \"t\" \"g\" \"g\" \"g\" \"c\"\n",
       " [937] \"g\" \"g\" \"a\" \"g\" \"a\" \"t\" \"g\" \"a\" \"t\" \"g\" \"g\" \"c\" \"a\" \"a\" \"a\" \"a\" \"c\" \"a\"\n",
       " [955] \"g\" \"a\" \"a\" \"g\" \"t\" \"g\" \"g\" \"t\" \"c\" \"g\" \"a\" \"t\" \"a\" \"t\" \"t\" \"g\" \"a\" \"t\"\n",
       " [973] \"g\" \"g\" \"t\" \"a\" \"a\" \"a\" \"a\" \"c\" \"a\" \"t\" \"a\" \"c\" \"g\" \"a\" \"t\" \"t\" \"c\" \"t\"\n",
       " [991] \"g\" \"c\" \"c\" \"g\" \"a\" \"t\" \"t\" \"t\" \"a\" \"a\" \"a\" \"t\" \"g\" \"g\" \"c\" \"g\" \"g\" \"t\"\n",
       "[1009] \"a\" \"a\" \"t\" \"c\" \"t\" \"g\" \"c\" \"a\" \"a\" \"a\" \"c\" \"a\" \"g\" \"g\" \"t\" \"t\" \"t\" \"g\"\n",
       "[1027] \"a\" \"c\" \"t\" \"g\" \"c\" \"t\" \"g\" \"g\" \"t\" \"g\" \"g\" \"t\" \"g\" \"a\" \"g\" \"g\" \"c\" \"t\"\n",
       "[1045] \"c\" \"t\" \"g\" \"a\" \"c\" \"t\" \"g\" \"c\" \"t\" \"g\" \"t\" \"t\" \"g\" \"c\" \"a\" \"a\" \"a\" \"t\"\n",
       "[1063] \"g\" \"g\" \"t\" \"a\" \"a\" \"a\" \"a\" \"c\" \"c\" \"a\" \"c\" \"g\" \"g\" \"a\" \"t\" \"c\" \"c\" \"g\"\n",
       "[1081] \"c\" \"t\" \"g\" \"a\" \"a\" \"a\" \"g\" \"c\" \"g\" \"c\" \"t\" \"g\" \"g\" \"a\" \"c\" \"g\" \"a\" \"t\"\n",
       "[1099] \"g\" \"c\" \"t\" \"a\" \"t\" \"c\" \"g\" \"c\" \"a\" \"t\" \"c\" \"t\" \"g\" \"t\" \"a\" \"g\" \"a\" \"c\"\n",
       "[1117] \"a\" \"a\" \"a\" \"t\" \"t\" \"c\" \"c\" \"g\" \"t\" \"t\" \"c\" \"t\" \"t\" \"c\" \"c\" \"c\" \"t\" \"c\"\n",
       "[1135] \"g\" \"g\" \"t\" \"g\" \"c\" \"g\" \"g\" \"t\" \"g\" \"c\" \"a\" \"a\" \"a\" \"a\" \"c\" \"c\" \"g\" \"t\"\n",
       "[1153] \"c\" \"t\" \"g\" \"g\" \"a\" \"t\" \"t\" \"c\" \"c\" \"g\" \"c\" \"g\" \"g\" \"t\" \"t\" \"a\" \"c\" \"c\"\n",
       "[1171] \"a\" \"a\" \"c\" \"c\" \"t\" \"g\" \"a\" \"a\" \"c\" \"a\" \"a\" \"c\" \"a\" \"c\" \"c\" \"a\" \"c\" \"t\"\n",
       "[1189] \"a\" \"c\" \"c\" \"a\" \"a\" \"c\" \"c\" \"t\" \"g\" \"t\" \"c\" \"t\" \"g\" \"a\" \"a\" \"g\" \"c\" \"g\"\n",
       "[1207] \"c\" \"a\" \"g\" \"t\" \"c\" \"c\" \"c\" \"g\" \"t\" \"a\" \"t\" \"t\" \"c\" \"a\" \"g\" \"g\" \"a\" \"c\"\n",
       "[1225] \"g\" \"c\" \"c\" \"g\" \"a\" \"c\" \"t\" \"a\" \"t\" \"g\" \"c\" \"g\" \"a\" \"c\" \"c\" \"g\" \"a\" \"a\"\n",
       "[1243] \"g\" \"t\" \"g\" \"t\" \"c\" \"c\" \"a\" \"a\" \"t\" \"a\" \"t\" \"g\" \"t\" \"c\" \"g\" \"a\" \"a\" \"a\"\n",
       "[1261] \"g\" \"c\" \"g\" \"c\" \"a\" \"g\" \"a\" \"t\" \"c\" \"a\" \"t\" \"c\" \"c\" \"a\" \"g\" \"c\" \"a\" \"g\"\n",
       "[1279] \"g\" \"c\" \"c\" \"g\" \"g\" \"t\" \"a\" \"a\" \"c\" \"t\" \"c\" \"c\" \"g\" \"t\" \"g\" \"t\" \"t\" \"g\"\n",
       "[1297] \"g\" \"c\" \"a\" \"a\" \"a\" \"a\" \"g\" \"c\" \"t\" \"a\" \"a\" \"c\" \"c\" \"a\" \"g\" \"g\" \"t\" \"a\"\n",
       "[1315] \"c\" \"c\" \"g\" \"c\" \"a\" \"g\" \"c\" \"a\" \"g\" \"g\" \"t\" \"t\" \"c\" \"t\" \"g\" \"t\" \"c\" \"t\"\n",
       "[1333] \"c\" \"t\" \"g\" \"c\" \"t\" \"g\" \"c\" \"a\" \"g\" \"g\" \"g\" \"t\" \"t\" \"a\" \"a\"\n",
       "attr(,\"name\")\n",
       "[1] \"lcl|AJ865466.1_cds_CAI29258.1_1\"\n",
       "attr(,\"Annot\")\n",
       "[1] \">lcl|AJ865466.1_cds_CAI29258.1_1 [gene=fliC] [db_xref=GOA:Q2A874,InterPro:IPR001029,InterPro:IPR001492,UniProtKB/TrEMBL:Q2A874] [protein=flagellin] [protein_id=CAI29258.1] [location=1..1347] [gbkey=CDS]\"\n",
       "attr(,\"class\")\n",
       "[1] \"SeqFastadna\"\n",
       "\n",
       "$`lcl|ABVQ01000037.1_cds_EEC56699.1_1`\n",
       "  [1] \"a\" \"t\" \"g\" \"g\" \"t\" \"a\" \"g\" \"t\" \"a\" \"c\" \"a\" \"g\" \"c\" \"a\" \"c\" \"a\" \"a\" \"t\"\n",
       " [19] \"c\" \"t\" \"t\" \"t\" \"c\" \"a\" \"g\" \"c\" \"a\" \"a\" \"t\" \"g\" \"a\" \"a\" \"t\" \"a\" \"c\" \"t\"\n",
       " [37] \"a\" \"a\" \"c\" \"a\" \"g\" \"a\" \"c\" \"a\" \"g\" \"t\" \"t\" \"a\" \"g\" \"g\" \"a\" \"a\" \"t\" \"c\"\n",
       " [55] \"g\" \"t\" \"a\" \"a\" \"c\" \"a\" \"t\" \"c\" \"a\" \"g\" \"c\" \"a\" \"c\" \"a\" \"g\" \"t\" \"c\" \"a\"\n",
       " [73] \"a\" \"c\" \"a\" \"t\" \"c\" \"t\" \"a\" \"c\" \"a\" \"g\" \"a\" \"g\" \"a\" \"a\" \"g\" \"c\" \"t\" \"t\"\n",
       " [91] \"t\" \"c\" \"a\" \"t\" \"c\" \"a\" \"g\" \"g\" \"c\" \"t\" \"a\" \"t\" \"a\" \"g\" \"a\" \"a\" \"t\" \"t\"\n",
       "[109] \"a\" \"a\" \"c\" \"a\" \"g\" \"a\" \"t\" \"c\" \"a\" \"g\" \"c\" \"a\" \"g\" \"a\" \"t\" \"g\" \"a\" \"t\"\n",
       "[127] \"g\" \"c\" \"a\" \"g\" \"c\" \"a\" \"g\" \"g\" \"g\" \"c\" \"t\" \"t\" \"t\" \"c\" \"a\" \"a\" \"t\" \"a\"\n",
       "[145] \"t\" \"c\" \"t\" \"g\" \"a\" \"g\" \"a\" \"a\" \"g\" \"a\" \"t\" \"g\" \"a\" \"g\" \"a\" \"a\" \"g\" \"c\"\n",
       "[163] \"c\" \"a\" \"g\" \"a\" \"t\" \"c\" \"a\" \"g\" \"a\" \"g\" \"g\" \"c\" \"c\" \"t\" \"t\" \"a\" \"a\" \"c\"\n",
       "[181] \"a\" \"a\" \"g\" \"g\" \"c\" \"t\" \"g\" \"c\" \"t\" \"t\" \"c\" \"t\" \"a\" \"a\" \"t\" \"g\" \"c\" \"a\"\n",
       "[199] \"c\" \"a\" \"g\" \"g\" \"a\" \"t\" \"g\" \"g\" \"t\" \"a\" \"t\" \"c\" \"t\" \"c\" \"a\" \"c\" \"t\" \"t\"\n",
       "[217] \"g\" \"t\" \"g\" \"c\" \"a\" \"g\" \"g\" \"t\" \"t\" \"g\" \"c\" \"a\" \"g\" \"a\" \"a\" \"g\" \"g\" \"c\"\n",
       "[235] \"g\" \"c\" \"t\" \"c\" \"t\" \"t\" \"a\" \"a\" \"c\" \"g\" \"a\" \"g\" \"a\" \"c\" \"a\" \"c\" \"a\" \"c\"\n",
       "[253] \"t\" \"c\" \"a\" \"a\" \"t\" \"c\" \"c\" \"t\" \"t\" \"c\" \"a\" \"g\" \"a\" \"g\" \"a\" \"a\" \"t\" \"g\"\n",
       "[271] \"a\" \"a\" \"c\" \"g\" \"a\" \"g\" \"c\" \"t\" \"t\" \"g\" \"c\" \"t\" \"a\" \"c\" \"a\" \"c\" \"a\" \"g\"\n",
       "[289] \"g\" \"c\" \"t\" \"g\" \"c\" \"t\" \"a\" \"a\" \"t\" \"g\" \"a\" \"t\" \"a\" \"c\" \"c\" \"a\" \"a\" \"t\"\n",
       "[307] \"a\" \"c\" \"a\" \"t\" \"c\" \"a\" \"a\" \"c\" \"c\" \"g\" \"a\" \"c\" \"c\" \"g\" \"t\" \"a\" \"c\" \"a\"\n",
       "[325] \"g\" \"c\" \"t\" \"a\" \"t\" \"t\" \"c\" \"a\" \"g\" \"t\" \"c\" \"g\" \"g\" \"a\" \"g\" \"a\" \"t\" \"t\"\n",
       "[343] \"g\" \"a\" \"c\" \"c\" \"a\" \"g\" \"c\" \"t\" \"t\" \"a\" \"c\" \"a\" \"a\" \"g\" \"t\" \"g\" \"a\" \"g\"\n",
       "[361] \"g\" \"t\" \"t\" \"a\" \"a\" \"c\" \"a\" \"g\" \"a\" \"a\" \"t\" \"t\" \"c\" \"a\" \"g\" \"t\" \"c\" \"a\"\n",
       "[379] \"a\" \"c\" \"a\" \"a\" \"c\" \"a\" \"c\" \"a\" \"g\" \"t\" \"t\" \"t\" \"a\" \"a\" \"t\" \"t\" \"c\" \"a\"\n",
       "[397] \"a\" \"t\" \"g\" \"a\" \"a\" \"t\" \"c\" \"t\" \"t\" \"c\" \"t\" \"t\" \"g\" \"a\" \"t\" \"g\" \"g\" \"g\"\n",
       "[415] \"a\" \"c\" \"a\" \"t\" \"t\" \"c\" \"t\" \"c\" \"a\" \"t\" \"c\" \"a\" \"a\" \"a\" \"g\" \"a\" \"a\" \"t\"\n",
       "[433] \"c\" \"t\" \"t\" \"c\" \"a\" \"g\" \"g\" \"t\" \"t\" \"g\" \"g\" \"a\" \"t\" \"c\" \"a\" \"c\" \"t\" \"t\"\n",
       "[451] \"a\" \"g\" \"c\" \"g\" \"g\" \"a\" \"c\" \"a\" \"g\" \"t\" \"c\" \"a\" \"a\" \"t\" \"c\" \"g\" \"g\" \"a\"\n",
       "[469] \"a\" \"t\" \"c\" \"t\" \"c\" \"a\" \"a\" \"t\" \"a\" \"a\" \"a\" \"g\" \"a\" \"a\" \"c\" \"a\" \"t\" \"g\"\n",
       "[487] \"g\" \"a\" \"t\" \"g\" \"c\" \"a\" \"t\" \"c\" \"t\" \"t\" \"c\" \"g\" \"c\" \"t\" \"t\" \"g\" \"g\" \"t\"\n",
       "[505] \"g\" \"t\" \"t\" \"a\" \"a\" \"t\" \"t\" \"c\" \"a\" \"c\" \"t\" \"t\" \"a\" \"a\" \"g\" \"g\" \"t\" \"t\"\n",
       "[523] \"t\" \"c\" \"a\" \"a\" \"g\" \"c\" \"t\" \"t\" \"t\" \"g\" \"c\" \"a\" \"t\" \"c\" \"a\" \"g\" \"c\" \"a\"\n",
       "[541] \"g\" \"g\" \"t\" \"t\" \"c\" \"t\" \"g\" \"c\" \"g\" \"a\" \"t\" \"g\" \"g\" \"a\" \"c\" \"a\" \"a\" \"g\"\n",
       "[559] \"a\" \"t\" \"t\" \"c\" \"a\" \"g\" \"a\" \"g\" \"c\" \"g\" \"c\" \"t\" \"a\" \"t\" \"c\" \"a\" \"a\" \"t\"\n",
       "[577] \"c\" \"t\" \"t\" \"g\" \"t\" \"c\" \"t\" \"c\" \"a\" \"a\" \"c\" \"a\" \"c\" \"a\" \"g\" \"c\" \"g\" \"c\"\n",
       "[595] \"t\" \"c\" \"a\" \"a\" \"c\" \"a\" \"c\" \"t\" \"c\" \"g\" \"g\" \"t\" \"g\" \"c\" \"t\" \"c\" \"t\" \"t\"\n",
       "[613] \"c\" \"a\" \"g\" \"a\" \"a\" \"c\" \"a\" \"g\" \"a\" \"c\" \"t\" \"t\" \"g\" \"a\" \"g\" \"c\" \"a\" \"t\"\n",
       "[631] \"a\" \"c\" \"a\" \"a\" \"t\" \"c\" \"a\" \"a\" \"c\" \"a\" \"a\" \"c\" \"c\" \"t\" \"g\" \"a\" \"a\" \"t\"\n",
       "[649] \"a\" \"c\" \"a\" \"a\" \"c\" \"t\" \"g\" \"c\" \"t\" \"g\" \"a\" \"g\" \"a\" \"a\" \"t\" \"a\" \"c\" \"a\"\n",
       "[667] \"c\" \"a\" \"g\" \"g\" \"c\" \"a\" \"g\" \"c\" \"t\" \"g\" \"a\" \"g\" \"t\" \"c\" \"t\" \"c\" \"g\" \"t\"\n",
       "[685] \"a\" \"t\" \"c\" \"c\" \"g\" \"t\" \"g\" \"a\" \"t\" \"g\" \"t\" \"t\" \"g\" \"a\" \"t\" \"a\" \"t\" \"g\"\n",
       "[703] \"g\" \"c\" \"t\" \"a\" \"c\" \"a\" \"g\" \"a\" \"g\" \"a\" \"t\" \"g\" \"g\" \"t\" \"t\" \"g\" \"a\" \"a\"\n",
       "[721] \"t\" \"a\" \"c\" \"a\" \"g\" \"c\" \"a\" \"a\" \"g\" \"a\" \"a\" \"t\" \"a\" \"a\" \"t\" \"a\" \"t\" \"c\"\n",
       "[739] \"c\" \"t\" \"t\" \"g\" \"c\" \"a\" \"c\" \"a\" \"g\" \"g\" \"c\" \"c\" \"g\" \"g\" \"a\" \"c\" \"a\" \"g\"\n",
       "[757] \"t\" \"c\" \"g\" \"a\" \"t\" \"g\" \"c\" \"t\" \"t\" \"g\" \"c\" \"a\" \"c\" \"a\" \"g\" \"g\" \"c\" \"t\"\n",
       "[775] \"a\" \"a\" \"t\" \"c\" \"a\" \"g\" \"g\" \"c\" \"t\" \"a\" \"c\" \"a\" \"c\" \"a\" \"g\" \"g\" \"g\" \"t\"\n",
       "[793] \"g\" \"t\" \"a\" \"c\" \"t\" \"g\" \"t\" \"c\" \"a\" \"c\" \"t\" \"g\" \"t\" \"t\" \"a\" \"c\" \"a\" \"g\"\n",
       "[811] \"t\" \"a\" \"a\"\n",
       "attr(,\"name\")\n",
       "[1] \"lcl|ABVQ01000037.1_cds_EEC56699.1_1\"\n",
       "attr(,\"Annot\")\n",
       "[1] \">lcl|ABVQ01000037.1_cds_EEC56699.1_1 [locus_tag=BACPEC_03208] [db_xref=InterPro:IPR001029,InterPro:IPR001492] [protein=bacterial flagellin domain protein] [protein_id=EEC56699.1] [location=complement(909619..910431)] [gbkey=CDS]\"\n",
       "attr(,\"class\")\n",
       "[1] \"SeqFastadna\"\n",
       "\n",
       "$`lcl|ACFY01000021.1_cds_EEG95687.1_1`\n",
       "  [1] \"a\" \"t\" \"g\" \"c\" \"a\" \"g\" \"c\" \"a\" \"t\" \"g\" \"g\" \"a\" \"c\" \"g\" \"c\" \"t\" \"g\" \"c\"\n",
       " [19] \"a\" \"t\" \"t\" \"a\" \"c\" \"a\" \"t\" \"t\" \"c\" \"a\" \"a\" \"g\" \"g\" \"a\" \"g\" \"g\" \"a\" \"a\"\n",
       " [37] \"a\" \"a\" \"t\" \"a\" \"a\" \"t\" \"a\" \"t\" \"g\" \"g\" \"t\" \"a\" \"g\" \"t\" \"a\" \"c\" \"a\" \"g\"\n",
       " [55] \"c\" \"a\" \"c\" \"a\" \"a\" \"t\" \"a\" \"t\" \"g\" \"a\" \"c\" \"c\" \"g\" \"c\" \"a\" \"g\" \"c\" \"t\"\n",
       " [73] \"a\" \"a\" \"t\" \"g\" \"c\" \"g\" \"a\" \"a\" \"c\" \"a\" \"g\" \"a\" \"a\" \"t\" \"g\" \"t\" \"t\" \"a\"\n",
       " [91] \"g\" \"g\" \"a\" \"a\" \"t\" \"t\" \"a\" \"c\" \"a\" \"a\" \"c\" \"t\" \"a\" \"g\" \"c\" \"g\" \"c\" \"a\"\n",
       "[109] \"c\" \"a\" \"g\" \"g\" \"c\" \"a\" \"a\" \"a\" \"a\" \"t\" \"c\" \"t\" \"t\" \"c\" \"a\" \"g\" \"a\" \"g\"\n",
       "[127] \"a\" \"a\" \"g\" \"t\" \"t\" \"a\" \"t\" \"c\" \"t\" \"t\" \"c\" \"t\" \"g\" \"g\" \"t\" \"t\" \"a\" \"c\"\n",
       "[145] \"a\" \"a\" \"a\" \"a\" \"t\" \"c\" \"a\" \"a\" \"c\" \"c\" \"g\" \"t\" \"g\" \"c\" \"a\" \"g\" \"c\" \"a\"\n",
       "[163] \"g\" \"a\" \"t\" \"g\" \"a\" \"t\" \"g\" \"c\" \"a\" \"g\" \"c\" \"a\" \"g\" \"g\" \"a\" \"t\" \"t\" \"a\"\n",
       "[181] \"a\" \"c\" \"a\" \"a\" \"t\" \"t\" \"t\" \"c\" \"t\" \"g\" \"a\" \"g\" \"a\" \"a\" \"g\" \"a\" \"t\" \"g\"\n",
       "[199] \"a\" \"g\" \"a\" \"a\" \"g\" \"t\" \"c\" \"a\" \"g\" \"g\" \"t\" \"t\" \"c\" \"g\" \"t\" \"g\" \"g\" \"a\"\n",
       "[217] \"t\" \"t\" \"a\" \"a\" \"a\" \"t\" \"a\" \"a\" \"a\" \"g\" \"c\" \"a\" \"t\" \"c\" \"t\" \"g\" \"a\" \"c\"\n",
       "[235] \"a\" \"a\" \"t\" \"g\" \"c\" \"a\" \"g\" \"a\" \"a\" \"g\" \"a\" \"t\" \"g\" \"g\" \"t\" \"g\" \"t\" \"a\"\n",
       "[253] \"t\" \"c\" \"t\" \"t\" \"t\" \"a\" \"a\" \"t\" \"t\" \"c\" \"a\" \"g\" \"g\" \"t\" \"a\" \"g\" \"c\" \"t\"\n",
       "[271] \"g\" \"a\" \"a\" \"g\" \"g\" \"t\" \"g\" \"c\" \"t\" \"t\" \"t\" \"a\" \"g\" \"g\" \"t\" \"g\" \"a\" \"a\"\n",
       "[289] \"a\" \"c\" \"t\" \"c\" \"a\" \"t\" \"t\" \"c\" \"t\" \"a\" \"t\" \"c\" \"t\" \"t\" \"a\" \"c\" \"a\" \"g\"\n",
       "[307] \"a\" \"g\" \"a\" \"a\" \"t\" \"g\" \"a\" \"a\" \"t\" \"g\" \"a\" \"a\" \"t\" \"t\" \"g\" \"g\" \"c\" \"a\"\n",
       "[325] \"a\" \"c\" \"a\" \"c\" \"a\" \"g\" \"g\" \"c\" \"a\" \"g\" \"c\" \"a\" \"a\" \"a\" \"c\" \"g\" \"a\" \"t\"\n",
       "[343] \"a\" \"c\" \"t\" \"a\" \"a\" \"t\" \"a\" \"c\" \"a\" \"a\" \"c\" \"a\" \"g\" \"c\" \"a\" \"g\" \"a\" \"t\"\n",
       "[361] \"c\" \"g\" \"t\" \"a\" \"c\" \"a\" \"g\" \"c\" \"a\" \"a\" \"t\" \"c\" \"c\" \"a\" \"g\" \"a\" \"a\" \"a\"\n",
       "[379] \"g\" \"a\" \"g\" \"g\" \"t\" \"t\" \"g\" \"a\" \"t\" \"c\" \"a\" \"g\" \"t\" \"t\" \"a\" \"g\" \"c\" \"a\"\n",
       "[397] \"t\" \"c\" \"t\" \"g\" \"a\" \"a\" \"a\" \"t\" \"c\" \"a\" \"g\" \"c\" \"a\" \"g\" \"a\" \"a\" \"t\" \"c\"\n",
       "[415] \"c\" \"g\" \"t\" \"t\" \"c\" \"t\" \"a\" \"c\" \"a\" \"a\" \"c\" \"a\" \"c\" \"a\" \"g\" \"t\" \"t\" \"c\"\n",
       "[433] \"a\" \"a\" \"t\" \"a\" \"c\" \"a\" \"a\" \"t\" \"g\" \"a\" \"a\" \"c\" \"t\" \"t\" \"a\" \"t\" \"t\" \"g\"\n",
       "[451] \"g\" \"a\" \"c\" \"g\" \"g\" \"t\" \"a\" \"a\" \"t\" \"t\" \"t\" \"t\" \"g\" \"c\" \"a\" \"a\" \"c\" \"t\"\n",
       "[469] \"a\" \"a\" \"a\" \"a\" \"a\" \"t\" \"t\" \"t\" \"a\" \"c\" \"a\" \"g\" \"g\" \"t\" \"t\" \"g\" \"g\" \"a\"\n",
       "[487] \"t\" \"c\" \"a\" \"t\" \"t\" \"a\" \"t\" \"g\" \"t\" \"g\" \"g\" \"a\" \"c\" \"a\" \"g\" \"a\" \"a\" \"g\"\n",
       "[505] \"a\" \"t\" \"t\" \"a\" \"c\" \"a\" \"g\" \"t\" \"c\" \"a\" \"g\" \"c\" \"a\" \"t\" \"t\" \"g\" \"a\" \"t\"\n",
       "[523] \"g\" \"a\" \"t\" \"a\" \"t\" \"g\" \"a\" \"g\" \"t\" \"g\" \"c\" \"t\" \"a\" \"c\" \"a\" \"t\" \"c\" \"a\"\n",
       "[541] \"c\" \"t\" \"t\" \"g\" \"g\" \"t\" \"g\" \"t\" \"t\" \"a\" \"a\" \"t\" \"g\" \"c\" \"a\" \"t\" \"t\" \"a\"\n",
       "[559] \"a\" \"a\" \"a\" \"g\" \"t\" \"a\" \"a\" \"c\" \"a\" \"a\" \"g\" \"c\" \"t\" \"t\" \"t\" \"a\" \"c\" \"a\"\n",
       "[577] \"g\" \"a\" \"t\" \"g\" \"c\" \"t\" \"g\" \"g\" \"a\" \"g\" \"c\" \"t\" \"g\" \"c\" \"a\" \"a\" \"t\" \"g\"\n",
       "[595] \"a\" \"a\" \"g\" \"a\" \"g\" \"t\" \"g\" \"t\" \"t\" \"c\" \"a\" \"g\" \"a\" \"g\" \"c\" \"g\" \"c\" \"a\"\n",
       "[613] \"a\" \"t\" \"t\" \"a\" \"g\" \"t\" \"a\" \"t\" \"g\" \"g\" \"t\" \"a\" \"t\" \"c\" \"t\" \"g\" \"g\" \"a\"\n",
       "[631] \"c\" \"a\" \"g\" \"c\" \"g\" \"t\" \"t\" \"c\" \"t\" \"t\" \"a\" \"t\" \"t\" \"t\" \"a\" \"g\" \"g\" \"c\"\n",
       "[649] \"g\" \"c\" \"a\" \"t\" \"t\" \"a\" \"c\" \"a\" \"g\" \"a\" \"a\" \"c\" \"a\" \"g\" \"a\" \"t\" \"t\" \"a\"\n",
       "[667] \"g\" \"a\" \"g\" \"c\" \"a\" \"t\" \"a\" \"c\" \"a\" \"a\" \"t\" \"t\" \"g\" \"c\" \"a\" \"a\" \"a\" \"t\"\n",
       "[685] \"c\" \"t\" \"g\" \"g\" \"a\" \"t\" \"a\" \"a\" \"t\" \"a\" \"t\" \"t\" \"t\" \"c\" \"t\" \"g\" \"a\" \"a\"\n",
       "[703] \"a\" \"a\" \"t\" \"a\" \"c\" \"t\" \"c\" \"a\" \"g\" \"t\" \"c\" \"a\" \"g\" \"c\" \"a\" \"g\" \"a\" \"a\"\n",
       "[721] \"t\" \"c\" \"t\" \"c\" \"g\" \"t\" \"a\" \"t\" \"c\" \"c\" \"g\" \"t\" \"g\" \"a\" \"t\" \"a\" \"c\" \"a\"\n",
       "[739] \"g\" \"a\" \"t\" \"a\" \"t\" \"g\" \"g\" \"c\" \"a\" \"g\" \"a\" \"a\" \"g\" \"a\" \"g\" \"a\" \"t\" \"g\"\n",
       "[757] \"g\" \"t\" \"t\" \"a\" \"c\" \"t\" \"t\" \"a\" \"c\" \"a\" \"g\" \"c\" \"a\" \"a\" \"g\" \"a\" \"a\" \"c\"\n",
       "[775] \"a\" \"a\" \"t\" \"a\" \"t\" \"t\" \"c\" \"t\" \"t\" \"g\" \"c\" \"a\" \"c\" \"a\" \"g\" \"g\" \"c\" \"a\"\n",
       "[793] \"g\" \"g\" \"a\" \"c\" \"a\" \"g\" \"t\" \"c\" \"t\" \"a\" \"t\" \"g\" \"c\" \"t\" \"t\" \"g\" \"c\" \"a\"\n",
       "[811] \"c\" \"a\" \"g\" \"g\" \"c\" \"t\" \"a\" \"a\" \"c\" \"c\" \"a\" \"g\" \"t\" \"c\" \"t\" \"a\" \"c\" \"a\"\n",
       "[829] \"c\" \"a\" \"g\" \"g\" \"g\" \"t\" \"g\" \"t\" \"a\" \"t\" \"t\" \"a\" \"t\" \"c\" \"t\" \"c\" \"t\" \"g\"\n",
       "[847] \"t\" \"t\" \"a\" \"c\" \"a\" \"g\" \"t\" \"a\" \"a\"\n",
       "attr(,\"name\")\n",
       "[1] \"lcl|ACFY01000021.1_cds_EEG95687.1_1\"\n",
       "attr(,\"Annot\")\n",
       "[1] \">lcl|ACFY01000021.1_cds_EEG95687.1_1 [locus_tag=ROSEINA2194_00384] [db_xref=InterPro:IPR001029,InterPro:IPR001492] [protein=bacterial flagellin domain protein] [protein_id=EEG95687.1] [location=5229..6083] [gbkey=CDS]\"\n",
       "attr(,\"class\")\n",
       "[1] \"SeqFastadna\"\n",
       "\n",
       "$`lcl|CP001104.1_cds_ACR71277.1_1`\n",
       "  [1] \"a\" \"t\" \"g\" \"g\" \"a\" \"a\" \"g\" \"c\" \"t\" \"g\" \"c\" \"a\" \"t\" \"c\" \"a\" \"c\" \"a\" \"a\"\n",
       " [19] \"t\" \"a\" \"t\" \"a\" \"a\" \"t\" \"t\" \"t\" \"c\" \"a\" \"a\" \"g\" \"g\" \"a\" \"g\" \"g\" \"a\" \"a\"\n",
       " [37] \"a\" \"a\" \"t\" \"a\" \"t\" \"t\" \"a\" \"t\" \"g\" \"g\" \"t\" \"a\" \"g\" \"t\" \"a\" \"c\" \"a\" \"a\"\n",
       " [55] \"c\" \"a\" \"c\" \"a\" \"a\" \"t\" \"t\" \"t\" \"a\" \"t\" \"c\" \"a\" \"g\" \"c\" \"a\" \"a\" \"t\" \"g\"\n",
       " [73] \"a\" \"a\" \"c\" \"a\" \"c\" \"a\" \"a\" \"a\" \"c\" \"a\" \"g\" \"a\" \"c\" \"a\" \"g\" \"a\" \"t\" \"g\"\n",
       " [91] \"g\" \"g\" \"t\" \"g\" \"t\" \"a\" \"g\" \"t\" \"t\" \"a\" \"c\" \"a\" \"a\" \"g\" \"c\" \"g\" \"c\" \"a\"\n",
       "[109] \"c\" \"t\" \"c\" \"c\" \"a\" \"g\" \"a\" \"a\" \"g\" \"t\" \"c\" \"a\" \"a\" \"c\" \"a\" \"g\" \"a\" \"g\"\n",
       "[127] \"a\" \"a\" \"g\" \"t\" \"t\" \"a\" \"t\" \"c\" \"a\" \"t\" \"c\" \"a\" \"g\" \"g\" \"t\" \"t\" \"a\" \"t\"\n",
       "[145] \"a\" \"a\" \"g\" \"a\" \"t\" \"t\" \"a\" \"a\" \"c\" \"c\" \"g\" \"t\" \"g\" \"c\" \"t\" \"g\" \"g\" \"t\"\n",
       "[163] \"g\" \"a\" \"t\" \"g\" \"a\" \"t\" \"g\" \"c\" \"a\" \"g\" \"c\" \"t\" \"g\" \"g\" \"t\" \"c\" \"t\" \"t\"\n",
       "[181] \"t\" \"c\" \"a\" \"a\" \"t\" \"c\" \"t\" \"c\" \"a\" \"g\" \"a\" \"g\" \"a\" \"a\" \"g\" \"a\" \"t\" \"g\"\n",
       "[199] \"a\" \"g\" \"a\" \"a\" \"g\" \"c\" \"c\" \"a\" \"g\" \"a\" \"t\" \"c\" \"a\" \"g\" \"a\" \"g\" \"g\" \"t\"\n",
       "[217] \"c\" \"t\" \"t\" \"a\" \"a\" \"t\" \"a\" \"a\" \"g\" \"g\" \"c\" \"a\" \"t\" \"c\" \"t\" \"g\" \"a\" \"t\"\n",
       "[235] \"a\" \"a\" \"t\" \"g\" \"c\" \"a\" \"c\" \"a\" \"g\" \"g\" \"a\" \"t\" \"g\" \"g\" \"t\" \"a\" \"t\" \"c\"\n",
       "[253] \"t\" \"c\" \"t\" \"c\" \"t\" \"t\" \"a\" \"t\" \"c\" \"c\" \"a\" \"g\" \"g\" \"t\" \"a\" \"g\" \"c\" \"t\"\n",
       "[271] \"g\" \"a\" \"a\" \"g\" \"g\" \"t\" \"g\" \"c\" \"t\" \"c\" \"t\" \"t\" \"a\" \"a\" \"t\" \"g\" \"a\" \"g\"\n",
       "[289] \"a\" \"c\" \"a\" \"c\" \"a\" \"t\" \"t\" \"c\" \"a\" \"a\" \"t\" \"t\" \"c\" \"t\" \"t\" \"c\" \"a\" \"g\"\n",
       "[307] \"a\" \"g\" \"a\" \"a\" \"t\" \"g\" \"a\" \"a\" \"t\" \"g\" \"a\" \"g\" \"t\" \"t\" \"a\" \"g\" \"c\" \"a\"\n",
       "[325] \"a\" \"c\" \"a\" \"c\" \"a\" \"g\" \"g\" \"c\" \"t\" \"g\" \"c\" \"t\" \"a\" \"a\" \"c\" \"g\" \"a\" \"t\"\n",
       "[343] \"a\" \"c\" \"t\" \"a\" \"a\" \"c\" \"a\" \"c\" \"a\" \"t\" \"c\" \"a\" \"a\" \"c\" \"a\" \"g\" \"a\" \"c\"\n",
       "[361] \"a\" \"g\" \"a\" \"a\" \"c\" \"t\" \"g\" \"c\" \"a\" \"a\" \"t\" \"a\" \"a\" \"a\" \"g\" \"g\" \"c\" \"t\"\n",
       "[379] \"g\" \"a\" \"g\" \"a\" \"t\" \"t\" \"g\" \"a\" \"t\" \"c\" \"a\" \"g\" \"t\" \"t\" \"a\" \"a\" \"c\" \"a\"\n",
       "[397] \"t\" \"c\" \"a\" \"g\" \"a\" \"a\" \"a\" \"t\" \"t\" \"a\" \"a\" \"c\" \"a\" \"g\" \"a\" \"a\" \"t\" \"c\"\n",
       "[415] \"c\" \"a\" \"g\" \"t\" \"c\" \"a\" \"a\" \"c\" \"a\" \"a\" \"c\" \"a\" \"c\" \"a\" \"g\" \"t\" \"t\" \"c\"\n",
       "[433] \"a\" \"a\" \"t\" \"a\" \"c\" \"a\" \"c\" \"a\" \"g\" \"a\" \"a\" \"t\" \"c\" \"t\" \"g\" \"t\" \"t\" \"a\"\n",
       "[451] \"g\" \"a\" \"t\" \"g\" \"g\" \"a\" \"a\" \"a\" \"g\" \"t\" \"t\" \"c\" \"a\" \"c\" \"a\" \"g\" \"g\" \"a\"\n",
       "[469] \"a\" \"a\" \"g\" \"a\" \"a\" \"t\" \"c\" \"t\" \"t\" \"c\" \"a\" \"g\" \"g\" \"t\" \"t\" \"g\" \"g\" \"t\"\n",
       "[487] \"t\" \"c\" \"t\" \"c\" \"t\" \"t\" \"a\" \"a\" \"g\" \"g\" \"g\" \"a\" \"c\" \"a\" \"g\" \"a\" \"c\" \"a\"\n",
       "[505] \"a\" \"t\" \"c\" \"a\" \"a\" \"g\" \"a\" \"t\" \"c\" \"a\" \"g\" \"c\" \"a\" \"t\" \"c\" \"a\" \"g\" \"c\"\n",
       "[523] \"a\" \"a\" \"c\" \"a\" \"t\" \"g\" \"a\" \"a\" \"t\" \"g\" \"c\" \"t\" \"a\" \"a\" \"a\" \"a\" \"c\" \"a\"\n",
       "[541] \"t\" \"t\" \"a\" \"g\" \"g\" \"t\" \"g\" \"t\" \"t\" \"a\" \"g\" \"t\" \"g\" \"g\" \"a\" \"c\" \"t\" \"t\"\n",
       "[559] \"a\" \"c\" \"a\" \"g\" \"t\" \"t\" \"g\" \"a\" \"t\" \"a\" \"a\" \"g\" \"a\" \"a\" \"c\" \"a\" \"g\" \"t\"\n",
       "[577] \"a\" \"c\" \"a\" \"g\" \"c\" \"t\" \"g\" \"g\" \"a\" \"g\" \"t\" \"a\" \"t\" \"c\" \"a\" \"a\" \"t\" \"g\"\n",
       "[595] \"t\" \"c\" \"a\" \"a\" \"a\" \"g\" \"a\" \"t\" \"t\" \"c\" \"a\" \"g\" \"g\" \"c\" \"a\" \"g\" \"c\" \"t\"\n",
       "[613] \"a\" \"t\" \"t\" \"g\" \"a\" \"t\" \"a\" \"a\" \"g\" \"g\" \"t\" \"a\" \"t\" \"c\" \"a\" \"a\" \"c\" \"a\"\n",
       "[631] \"c\" \"a\" \"g\" \"a\" \"g\" \"a\" \"t\" \"c\" \"t\" \"a\" \"a\" \"t\" \"c\" \"t\" \"t\" \"g\" \"g\" \"t\"\n",
       "[649] \"g\" \"c\" \"a\" \"c\" \"t\" \"t\" \"c\" \"a\" \"g\" \"a\" \"a\" \"c\" \"a\" \"g\" \"a\" \"c\" \"t\" \"t\"\n",
       "[667] \"g\" \"a\" \"g\" \"c\" \"a\" \"t\" \"a\" \"c\" \"t\" \"a\" \"t\" \"c\" \"a\" \"a\" \"c\" \"a\" \"a\" \"t\"\n",
       "[685] \"c\" \"t\" \"t\" \"g\" \"a\" \"t\" \"a\" \"c\" \"a\" \"a\" \"c\" \"a\" \"t\" \"c\" \"a\" \"g\" \"a\" \"g\"\n",
       "[703] \"a\" \"a\" \"t\" \"a\" \"c\" \"a\" \"t\" \"c\" \"a\" \"g\" \"c\" \"a\" \"g\" \"c\" \"a\" \"g\" \"a\" \"g\"\n",
       "[721] \"t\" \"c\" \"t\" \"c\" \"g\" \"t\" \"a\" \"t\" \"c\" \"c\" \"g\" \"t\" \"g\" \"a\" \"t\" \"a\" \"c\" \"a\"\n",
       "[739] \"g\" \"a\" \"t\" \"a\" \"t\" \"g\" \"g\" \"c\" \"t\" \"g\" \"a\" \"t\" \"g\" \"a\" \"g\" \"a\" \"t\" \"g\"\n",
       "[757] \"g\" \"t\" \"a\" \"c\" \"a\" \"g\" \"t\" \"a\" \"c\" \"a\" \"g\" \"c\" \"a\" \"a\" \"g\" \"a\" \"a\" \"c\"\n",
       "[775] \"a\" \"a\" \"c\" \"a\" \"t\" \"c\" \"c\" \"t\" \"t\" \"g\" \"c\" \"a\" \"c\" \"a\" \"g\" \"g\" \"c\" \"t\"\n",
       "[793] \"g\" \"g\" \"a\" \"a\" \"a\" \"t\" \"t\" \"c\" \"a\" \"a\" \"t\" \"g\" \"c\" \"t\" \"t\" \"g\" \"c\" \"t\"\n",
       "[811] \"c\" \"a\" \"g\" \"g\" \"c\" \"t\" \"a\" \"a\" \"t\" \"c\" \"a\" \"g\" \"c\" \"a\" \"g\" \"a\" \"c\" \"a\"\n",
       "[829] \"c\" \"a\" \"g\" \"g\" \"g\" \"a\" \"g\" \"t\" \"t\" \"c\" \"t\" \"t\" \"t\" \"c\" \"a\" \"c\" \"t\" \"t\"\n",
       "[847] \"c\" \"t\" \"c\" \"g\" \"g\" \"t\" \"t\" \"a\" \"a\"\n",
       "attr(,\"name\")\n",
       "[1] \"lcl|CP001104.1_cds_ACR71277.1_1\"\n",
       "attr(,\"Annot\")\n",
       "[1] \">lcl|CP001104.1_cds_ACR71277.1_1 [locus_tag=EUBELI_00241] [protein=flagellin] [protein_id=ACR71277.1] [location=266380..267234] [gbkey=CDS]\"\n",
       "attr(,\"class\")\n",
       "[1] \"SeqFastadna\"\n",
       "\n",
       "$`lcl|FP929062.1_cds_CBL40883.1_1`\n",
       "  [1] \"a\" \"t\" \"g\" \"g\" \"t\" \"a\" \"a\" \"t\" \"t\" \"c\" \"a\" \"g\" \"c\" \"a\" \"t\" \"a\" \"a\" \"t\"\n",
       " [19] \"a\" \"t\" \"t\" \"g\" \"c\" \"a\" \"g\" \"c\" \"g\" \"a\" \"t\" \"c\" \"a\" \"a\" \"t\" \"t\" \"c\" \"t\"\n",
       " [37] \"t\" \"a\" \"c\" \"a\" \"g\" \"a\" \"a\" \"a\" \"c\" \"t\" \"t\" \"a\" \"g\" \"g\" \"t\" \"a\" \"c\" \"c\"\n",
       " [55] \"a\" \"a\" \"c\" \"c\" \"a\" \"g\" \"a\" \"g\" \"t\" \"g\" \"c\" \"a\" \"c\" \"t\" \"g\" \"a\" \"g\" \"c\"\n",
       " [73] \"a\" \"a\" \"a\" \"a\" \"a\" \"c\" \"t\" \"t\" \"a\" \"g\" \"a\" \"g\" \"a\" \"a\" \"g\" \"c\" \"t\" \"g\"\n",
       " [91] \"t\" \"c\" \"t\" \"t\" \"c\" \"c\" \"g\" \"g\" \"t\" \"t\" \"a\" \"c\" \"a\" \"a\" \"g\" \"a\" \"t\" \"c\"\n",
       "[109] \"a\" \"a\" \"c\" \"c\" \"g\" \"t\" \"g\" \"c\" \"a\" \"g\" \"g\" \"c\" \"g\" \"a\" \"t\" \"g\" \"a\" \"c\"\n",
       "[127] \"g\" \"c\" \"a\" \"g\" \"c\" \"a\" \"g\" \"g\" \"t\" \"c\" \"t\" \"g\" \"g\" \"c\" \"t\" \"a\" \"t\" \"t\"\n",
       "[145] \"t\" \"c\" \"c\" \"g\" \"a\" \"g\" \"a\" \"c\" \"c\" \"a\" \"t\" \"g\" \"c\" \"g\" \"t\" \"t\" \"c\" \"c\"\n",
       "[163] \"c\" \"a\" \"g\" \"a\" \"t\" \"c\" \"a\" \"a\" \"t\" \"g\" \"g\" \"t\" \"t\" \"t\" \"a\" \"a\" \"a\" \"c\"\n",
       "[181] \"c\" \"a\" \"g\" \"g\" \"c\" \"t\" \"g\" \"t\" \"a\" \"a\" \"a\" \"c\" \"a\" \"a\" \"c\" \"g\" \"c\" \"a\"\n",
       "[199] \"a\" \"a\" \"c\" \"g\" \"a\" \"t\" \"g\" \"c\" \"g\" \"a\" \"t\" \"c\" \"g\" \"g\" \"t\" \"c\" \"t\" \"g\"\n",
       "[217] \"a\" \"t\" \"c\" \"c\" \"a\" \"g\" \"a\" \"c\" \"a\" \"g\" \"c\" \"a\" \"g\" \"a\" \"a\" \"g\" \"g\" \"t\"\n",
       "[235] \"g\" \"c\" \"t\" \"a\" \"t\" \"g\" \"a\" \"c\" \"t\" \"g\" \"a\" \"g\" \"a\" \"c\" \"t\" \"c\" \"a\" \"c\"\n",
       "[253] \"t\" \"c\" \"c\" \"a\" \"t\" \"g\" \"c\" \"t\" \"t\" \"c\" \"a\" \"g\" \"c\" \"g\" \"t\" \"a\" \"t\" \"g\"\n",
       "[271] \"a\" \"a\" \"g\" \"a\" \"c\" \"t\" \"c\" \"t\" \"g\" \"t\" \"c\" \"t\" \"a\" \"c\" \"c\" \"c\" \"a\" \"g\"\n",
       "[289] \"g\" \"c\" \"a\" \"g\" \"c\" \"a\" \"a\" \"a\" \"c\" \"g\" \"g\" \"t\" \"a\" \"c\" \"t\" \"t\" \"a\" \"t\"\n",
       "[307] \"a\" \"c\" \"c\" \"a\" \"a\" \"a\" \"a\" \"c\" \"t\" \"g\" \"c\" \"a\" \"a\" \"g\" \"a\" \"g\" \"a\" \"c\"\n",
       "[325] \"a\" \"a\" \"c\" \"a\" \"t\" \"c\" \"a\" \"a\" \"g\" \"g\" \"c\" \"t\" \"g\" \"a\" \"g\" \"a\" \"t\" \"t\"\n",
       "[343] \"g\" \"a\" \"t\" \"g\" \"c\" \"a\" \"c\" \"t\" \"g\" \"a\" \"a\" \"t\" \"a\" \"a\" \"a\" \"g\" \"a\" \"g\"\n",
       "[361] \"a\" \"t\" \"c\" \"a\" \"c\" \"c\" \"c\" \"g\" \"t\" \"a\" \"t\" \"c\" \"g\" \"c\" \"t\" \"a\" \"c\" \"t\"\n",
       "[379] \"a\" \"c\" \"t\" \"a\" \"c\" \"a\" \"g\" \"a\" \"g\" \"t\" \"t\" \"c\" \"a\" \"a\" \"c\" \"g\" \"g\" \"t\"\n",
       "[397] \"g\" \"a\" \"g\" \"a\" \"a\" \"a\" \"c\" \"c\" \"t\" \"t\" \"t\" \"a\" \"a\" \"g\" \"t\" \"c\" \"c\" \"t\"\n",
       "[415] \"g\" \"a\" \"t\" \"a\" \"c\" \"g\" \"a\" \"a\" \"g\" \"a\" \"c\" \"g\" \"a\" \"a\" \"a\" \"g\" \"g\" \"g\"\n",
       "[433] \"a\" \"a\" \"g\" \"a\" \"a\" \"c\" \"c\" \"t\" \"g\" \"a\" \"c\" \"t\" \"t\" \"t\" \"c\" \"t\" \"t\" \"c\"\n",
       "[451] \"a\" \"t\" \"c\" \"g\" \"g\" \"t\" \"g\" \"c\" \"t\" \"t\" \"c\" \"t\" \"g\" \"c\" \"a\" \"g\" \"a\" \"t\"\n",
       "[469] \"g\" \"c\" \"a\" \"t\" \"c\" \"c\" \"a\" \"a\" \"c\" \"g\" \"c\" \"a\" \"a\" \"t\" \"g\" \"a\" \"c\" \"t\"\n",
       "[487] \"g\" \"t\" \"t\" \"g\" \"c\" \"a\" \"c\" \"a\" \"g\" \"a\" \"t\" \"g\" \"a\" \"c\" \"t\" \"a\" \"t\" \"g\"\n",
       "[505] \"a\" \"c\" \"a\" \"g\" \"c\" \"g\" \"g\" \"t\" \"a\" \"g\" \"c\" \"a\" \"t\" \"t\" \"a\" \"a\" \"c\" \"t\"\n",
       "[523] \"a\" \"t\" \"t\" \"g\" \"a\" \"t\" \"c\" \"g\" \"g\" \"a\" \"t\" \"c\" \"g\" \"c\" \"a\" \"g\" \"t\" \"t\"\n",
       "[541] \"g\" \"a\" \"t\" \"a\" \"a\" \"t\" \"a\" \"c\" \"g\" \"a\" \"c\" \"a\" \"a\" \"a\" \"t\" \"g\" \"c\" \"a\"\n",
       "[559] \"t\" \"t\" \"c\" \"a\" \"a\" \"g\" \"g\" \"c\" \"a\" \"a\" \"t\" \"g\" \"a\" \"a\" \"g\" \"t\" \"c\" \"t\"\n",
       "[577] \"a\" \"t\" \"a\" \"g\" \"a\" \"t\" \"g\" \"c\" \"t\" \"g\" \"c\" \"a\" \"a\" \"t\" \"t\" \"g\" \"a\" \"g\"\n",
       "[595] \"a\" \"a\" \"g\" \"g\" \"t\" \"a\" \"t\" \"c\" \"t\" \"a\" \"c\" \"t\" \"t\" \"a\" \"c\" \"c\" \"g\" \"t\"\n",
       "[613] \"g\" \"c\" \"g\" \"a\" \"c\" \"c\" \"c\" \"t\" \"t\" \"g\" \"g\" \"t\" \"g\" \"c\" \"t\" \"g\" \"c\" \"c\"\n",
       "[631] \"c\" \"a\" \"g\" \"a\" \"a\" \"c\" \"c\" \"g\" \"t\" \"c\" \"t\" \"g\" \"g\" \"a\" \"g\" \"c\" \"a\" \"t\"\n",
       "[649] \"a\" \"c\" \"g\" \"g\" \"t\" \"a\" \"a\" \"a\" \"c\" \"a\" \"a\" \"c\" \"c\" \"t\" \"g\" \"a\" \"a\" \"g\"\n",
       "[667] \"g\" \"t\" \"a\" \"a\" \"c\" \"t\" \"t\" \"c\" \"t\" \"g\" \"a\" \"a\" \"a\" \"a\" \"t\" \"a\" \"t\" \"t\"\n",
       "[685] \"a\" \"c\" \"a\" \"t\" \"c\" \"a\" \"g\" \"c\" \"g\" \"g\" \"a\" \"a\" \"a\" \"g\" \"c\" \"c\" \"g\" \"t\"\n",
       "[703] \"a\" \"t\" \"c\" \"c\" \"g\" \"t\" \"g\" \"a\" \"t\" \"a\" \"c\" \"t\" \"g\" \"a\" \"t\" \"a\" \"t\" \"g\"\n",
       "[721] \"g\" \"c\" \"a\" \"g\" \"a\" \"t\" \"g\" \"a\" \"g\" \"a\" \"t\" \"c\" \"a\" \"c\" \"a\" \"g\" \"c\" \"t\"\n",
       "[739] \"t\" \"a\" \"t\" \"a\" \"c\" \"a\" \"a\" \"a\" \"g\" \"a\" \"a\" \"c\" \"a\" \"a\" \"t\" \"a\" \"t\" \"t\"\n",
       "[757] \"c\" \"t\" \"t\" \"t\" \"t\" \"a\" \"c\" \"a\" \"g\" \"g\" \"c\" \"t\" \"g\" \"c\" \"t\" \"c\" \"a\" \"g\"\n",
       "[775] \"t\" \"c\" \"t\" \"a\" \"t\" \"g\" \"c\" \"t\" \"t\" \"t\" \"c\" \"c\" \"c\" \"a\" \"g\" \"t\" \"c\" \"c\"\n",
       "[793] \"a\" \"a\" \"c\" \"g\" \"c\" \"t\" \"a\" \"t\" \"g\" \"c\" \"c\" \"t\" \"c\" \"a\" \"g\" \"g\" \"g\" \"t\"\n",
       "[811] \"g\" \"t\" \"a\" \"t\" \"t\" \"a\" \"a\" \"g\" \"c\" \"a\" \"t\" \"g\" \"c\" \"t\" \"g\" \"c\" \"a\" \"g\"\n",
       "[829] \"t\" \"a\" \"a\"\n",
       "attr(,\"name\")\n",
       "[1] \"lcl|FP929062.1_cds_CBL40883.1_1\"\n",
       "attr(,\"Annot\")\n",
       "[1] \">lcl|FP929062.1_cds_CBL40883.1_1 [locus_tag=CK3_11350] [db_xref=EnsemblGenomes-Gn:CK3_11350,EnsemblGenomes-Tr:CBL40883,GOA:D7GSU1,InterPro:IPR001029,InterPro:IPR001492,UniProtKB/TrEMBL:D7GSU1] [protein=Flagellin and related hook-associated proteins] [protein_id=CBL40883.1] [location=1136773..1137603] [gbkey=CDS]\"\n",
       "attr(,\"class\")\n",
       "[1] \"SeqFastadna\"\n",
       "\n",
       "$`lcl|CM001142.1_cds_EGC94816.1_1`\n",
       "   [1] \"g\" \"t\" \"g\" \"g\" \"t\" \"a\" \"t\" \"t\" \"t\" \"g\" \"a\" \"t\" \"a\" \"a\" \"g\" \"g\" \"a\" \"a\"\n",
       "  [19] \"a\" \"a\" \"a\" \"a\" \"t\" \"c\" \"a\" \"t\" \"g\" \"g\" \"c\" \"a\" \"c\" \"a\" \"a\" \"g\" \"t\" \"c\"\n",
       "  [37] \"a\" \"t\" \"t\" \"a\" \"a\" \"t\" \"a\" \"c\" \"a\" \"a\" \"a\" \"c\" \"a\" \"g\" \"c\" \"c\" \"t\" \"g\"\n",
       "  [55] \"t\" \"c\" \"g\" \"c\" \"t\" \"g\" \"t\" \"t\" \"g\" \"a\" \"c\" \"c\" \"c\" \"a\" \"g\" \"a\" \"a\" \"t\"\n",
       "  [73] \"a\" \"a\" \"c\" \"c\" \"t\" \"g\" \"a\" \"a\" \"t\" \"a\" \"a\" \"a\" \"t\" \"c\" \"t\" \"c\" \"a\" \"g\"\n",
       "  [91] \"t\" \"c\" \"t\" \"t\" \"c\" \"t\" \"c\" \"t\" \"g\" \"a\" \"g\" \"c\" \"t\" \"c\" \"c\" \"g\" \"c\" \"c\"\n",
       " [109] \"a\" \"t\" \"t\" \"g\" \"a\" \"a\" \"c\" \"g\" \"t\" \"c\" \"t\" \"c\" \"t\" \"c\" \"t\" \"t\" \"c\" \"t\"\n",
       " [127] \"g\" \"g\" \"c\" \"c\" \"t\" \"g\" \"c\" \"g\" \"t\" \"a\" \"t\" \"t\" \"a\" \"a\" \"c\" \"a\" \"g\" \"t\"\n",
       " [145] \"g\" \"c\" \"t\" \"a\" \"a\" \"a\" \"g\" \"a\" \"t\" \"g\" \"a\" \"c\" \"g\" \"c\" \"a\" \"g\" \"c\" \"a\"\n",
       " [163] \"g\" \"g\" \"t\" \"c\" \"a\" \"g\" \"g\" \"c\" \"g\" \"a\" \"t\" \"t\" \"g\" \"c\" \"t\" \"a\" \"a\" \"c\"\n",
       " [181] \"c\" \"g\" \"t\" \"t\" \"t\" \"t\" \"a\" \"c\" \"g\" \"g\" \"c\" \"a\" \"a\" \"a\" \"t\" \"a\" \"t\" \"t\"\n",
       " [199] \"a\" \"a\" \"a\" \"g\" \"g\" \"t\" \"c\" \"t\" \"g\" \"a\" \"c\" \"t\" \"c\" \"a\" \"g\" \"g\" \"c\" \"t\"\n",
       " [217] \"t\" \"c\" \"c\" \"c\" \"g\" \"t\" \"a\" \"a\" \"c\" \"g\" \"c\" \"g\" \"a\" \"a\" \"t\" \"g\" \"a\" \"t\"\n",
       " [235] \"g\" \"g\" \"t\" \"a\" \"t\" \"t\" \"t\" \"c\" \"t\" \"g\" \"t\" \"t\" \"g\" \"c\" \"g\" \"c\" \"a\" \"g\"\n",
       " [253] \"a\" \"c\" \"c\" \"a\" \"c\" \"t\" \"g\" \"a\" \"a\" \"g\" \"g\" \"g\" \"g\" \"c\" \"g\" \"c\" \"t\" \"g\"\n",
       " [271] \"a\" \"a\" \"t\" \"g\" \"a\" \"a\" \"a\" \"t\" \"t\" \"a\" \"a\" \"c\" \"a\" \"a\" \"c\" \"a\" \"a\" \"c\"\n",
       " [289] \"c\" \"t\" \"g\" \"c\" \"a\" \"g\" \"c\" \"g\" \"t\" \"g\" \"t\" \"a\" \"c\" \"g\" \"t\" \"g\" \"a\" \"a\"\n",
       " [307] \"c\" \"t\" \"g\" \"a\" \"c\" \"t\" \"g\" \"t\" \"t\" \"c\" \"a\" \"g\" \"g\" \"c\" \"t\" \"a\" \"c\" \"g\"\n",
       " [325] \"a\" \"a\" \"c\" \"g\" \"g\" \"t\" \"a\" \"c\" \"t\" \"a\" \"a\" \"c\" \"t\" \"c\" \"t\" \"g\" \"a\" \"c\"\n",
       " [343] \"a\" \"g\" \"c\" \"g\" \"a\" \"t\" \"c\" \"t\" \"t\" \"t\" \"c\" \"t\" \"t\" \"c\" \"c\" \"a\" \"t\" \"c\"\n",
       " [361] \"c\" \"a\" \"g\" \"g\" \"c\" \"t\" \"g\" \"a\" \"a\" \"a\" \"t\" \"t\" \"a\" \"c\" \"t\" \"c\" \"a\" \"a\"\n",
       " [379] \"c\" \"g\" \"t\" \"c\" \"t\" \"g\" \"g\" \"a\" \"a\" \"g\" \"a\" \"a\" \"a\" \"t\" \"t\" \"g\" \"a\" \"c\"\n",
       " [397] \"c\" \"g\" \"t\" \"g\" \"t\" \"a\" \"t\" \"c\" \"t\" \"g\" \"a\" \"g\" \"c\" \"a\" \"a\" \"a\" \"c\" \"t\"\n",
       " [415] \"c\" \"a\" \"g\" \"t\" \"t\" \"t\" \"a\" \"a\" \"c\" \"g\" \"g\" \"c\" \"g\" \"t\" \"g\" \"a\" \"a\" \"a\"\n",
       " [433] \"g\" \"t\" \"c\" \"c\" \"t\" \"t\" \"g\" \"c\" \"t\" \"g\" \"a\" \"a\" \"a\" \"a\" \"t\" \"a\" \"a\" \"t\"\n",
       " [451] \"g\" \"a\" \"a\" \"a\" \"t\" \"g\" \"a\" \"a\" \"a\" \"a\" \"t\" \"t\" \"c\" \"a\" \"g\" \"g\" \"t\" \"t\"\n",
       " [469] \"g\" \"g\" \"t\" \"g\" \"c\" \"t\" \"a\" \"a\" \"t\" \"g\" \"a\" \"t\" \"g\" \"g\" \"t\" \"g\" \"a\" \"a\"\n",
       " [487] \"a\" \"c\" \"c\" \"a\" \"t\" \"c\" \"a\" \"c\" \"t\" \"a\" \"t\" \"c\" \"a\" \"a\" \"t\" \"c\" \"t\" \"g\"\n",
       " [505] \"g\" \"c\" \"a\" \"a\" \"a\" \"a\" \"a\" \"t\" \"t\" \"g\" \"a\" \"t\" \"g\" \"c\" \"g\" \"a\" \"a\" \"a\"\n",
       " [523] \"a\" \"c\" \"t\" \"c\" \"t\" \"c\" \"g\" \"g\" \"c\" \"c\" \"t\" \"g\" \"g\" \"a\" \"c\" \"g\" \"g\" \"t\"\n",
       " [541] \"t\" \"t\" \"t\" \"a\" \"a\" \"t\" \"a\" \"t\" \"c\" \"g\" \"a\" \"t\" \"g\" \"g\" \"c\" \"g\" \"c\" \"a\"\n",
       " [559] \"c\" \"a\" \"g\" \"a\" \"a\" \"a\" \"g\" \"c\" \"a\" \"a\" \"c\" \"t\" \"g\" \"g\" \"c\" \"a\" \"g\" \"t\"\n",
       " [577] \"g\" \"a\" \"c\" \"c\" \"t\" \"g\" \"a\" \"t\" \"t\" \"t\" \"c\" \"t\" \"a\" \"a\" \"a\" \"t\" \"t\" \"t\"\n",
       " [595] \"a\" \"a\" \"a\" \"g\" \"c\" \"g\" \"a\" \"c\" \"a\" \"g\" \"g\" \"t\" \"a\" \"c\" \"t\" \"g\" \"a\" \"t\"\n",
       " [613] \"a\" \"a\" \"c\" \"t\" \"a\" \"c\" \"g\" \"a\" \"t\" \"g\" \"t\" \"a\" \"a\" \"a\" \"c\" \"g\" \"g\" \"t\"\n",
       " [631] \"a\" \"c\" \"t\" \"g\" \"c\" \"a\" \"t\" \"a\" \"t\" \"a\" \"c\" \"c\" \"g\" \"t\" \"g\" \"a\" \"a\" \"t\"\n",
       " [649] \"g\" \"t\" \"a\" \"g\" \"a\" \"t\" \"a\" \"g\" \"c\" \"g\" \"g\" \"a\" \"g\" \"c\" \"t\" \"g\" \"t\" \"t\"\n",
       " [667] \"a\" \"a\" \"a\" \"g\" \"a\" \"t\" \"a\" \"c\" \"t\" \"a\" \"c\" \"t\" \"g\" \"g\" \"g\" \"a\" \"a\" \"t\"\n",
       " [685] \"g\" \"a\" \"t\" \"a\" \"t\" \"t\" \"t\" \"t\" \"t\" \"g\" \"t\" \"t\" \"a\" \"g\" \"t\" \"g\" \"c\" \"a\"\n",
       " [703] \"g\" \"c\" \"a\" \"g\" \"a\" \"t\" \"g\" \"g\" \"t\" \"t\" \"c\" \"a\" \"c\" \"t\" \"g\" \"a\" \"c\" \"a\"\n",
       " [721] \"a\" \"c\" \"t\" \"a\" \"a\" \"a\" \"t\" \"c\" \"t\" \"g\" \"a\" \"c\" \"a\" \"c\" \"a\" \"a\" \"a\" \"c\"\n",
       " [739] \"a\" \"t\" \"a\" \"g\" \"c\" \"t\" \"g\" \"g\" \"t\" \"a\" \"c\" \"a\" \"g\" \"g\" \"g\" \"a\" \"t\" \"t\"\n",
       " [757] \"g\" \"a\" \"t\" \"g\" \"c\" \"t\" \"a\" \"c\" \"a\" \"g\" \"c\" \"a\" \"c\" \"t\" \"c\" \"g\" \"c\" \"a\"\n",
       " [775] \"g\" \"c\" \"a\" \"g\" \"c\" \"t\" \"g\" \"c\" \"t\" \"a\" \"a\" \"g\" \"a\" \"a\" \"t\" \"a\" \"a\" \"a\"\n",
       " [793] \"a\" \"a\" \"a\" \"c\" \"a\" \"g\" \"g\" \"a\" \"t\" \"g\" \"a\" \"t\" \"a\" \"a\" \"a\" \"t\" \"t\" \"c\"\n",
       " [811] \"a\" \"c\" \"g\" \"t\" \"t\" \"t\" \"a\" \"a\" \"t\" \"g\" \"g\" \"a\" \"g\" \"t\" \"t\" \"g\" \"a\" \"a\"\n",
       " [829] \"t\" \"t\" \"c\" \"a\" \"c\" \"a\" \"a\" \"c\" \"a\" \"a\" \"c\" \"a\" \"a\" \"c\" \"t\" \"g\" \"c\" \"a\"\n",
       " [847] \"g\" \"c\" \"g\" \"g\" \"a\" \"t\" \"g\" \"c\" \"c\" \"a\" \"a\" \"t\" \"g\" \"g\" \"g\" \"a\" \"a\" \"t\"\n",
       " [865] \"g\" \"g\" \"a\" \"g\" \"c\" \"a\" \"t\" \"a\" \"t\" \"t\" \"c\" \"t\" \"g\" \"c\" \"a\" \"g\" \"a\" \"a\"\n",
       " [883] \"a\" \"t\" \"t\" \"g\" \"a\" \"t\" \"g\" \"g\" \"t\" \"a\" \"a\" \"g\" \"t\" \"c\" \"a\" \"g\" \"t\" \"g\"\n",
       " [901] \"a\" \"c\" \"a\" \"t\" \"t\" \"t\" \"a\" \"c\" \"g\" \"g\" \"t\" \"g\" \"a\" \"c\" \"a\" \"a\" \"a\" \"c\"\n",
       " [919] \"g\" \"c\" \"t\" \"g\" \"a\" \"c\" \"a\" \"c\" \"g\" \"a\" \"a\" \"a\" \"g\" \"c\" \"t\" \"t\" \"c\" \"t\"\n",
       " [937] \"t\" \"t\" \"g\" \"g\" \"c\" \"t\" \"a\" \"c\" \"g\" \"a\" \"g\" \"t\" \"g\" \"a\" \"g\" \"a\" \"c\" \"a\"\n",
       " [955] \"g\" \"t\" \"t\" \"t\" \"a\" \"c\" \"a\" \"a\" \"a\" \"a\" \"a\" \"t\" \"a\" \"g\" \"c\" \"g\" \"c\" \"t\"\n",
       " [973] \"g\" \"g\" \"c\" \"c\" \"t\" \"t\" \"t\" \"a\" \"t\" \"a\" \"c\" \"g\" \"a\" \"c\" \"a\" \"a\" \"c\" \"c\"\n",
       " [991] \"a\" \"a\" \"a\" \"g\" \"t\" \"t\" \"g\" \"a\" \"t\" \"a\" \"a\" \"c\" \"a\" \"a\" \"g\" \"g\" \"c\" \"t\"\n",
       "[1009] \"g\" \"c\" \"c\" \"a\" \"c\" \"a\" \"c\" \"t\" \"t\" \"t\" \"c\" \"c\" \"g\" \"a\" \"t\" \"c\" \"t\" \"t\"\n",
       "[1027] \"g\" \"a\" \"t\" \"c\" \"t\" \"c\" \"a\" \"a\" \"t\" \"g\" \"c\" \"a\" \"g\" \"c\" \"t\" \"a\" \"a\" \"g\"\n",
       "[1045] \"a\" \"a\" \"a\" \"a\" \"c\" \"a\" \"g\" \"g\" \"a\" \"a\" \"g\" \"t\" \"a\" \"c\" \"g\" \"t\" \"t\" \"a\"\n",
       "[1063] \"g\" \"t\" \"t\" \"g\" \"t\" \"t\" \"a\" \"a\" \"c\" \"g\" \"g\" \"t\" \"g\" \"c\" \"a\" \"a\" \"c\" \"t\"\n",
       "[1081] \"t\" \"a\" \"c\" \"g\" \"a\" \"t\" \"g\" \"t\" \"t\" \"a\" \"g\" \"t\" \"g\" \"c\" \"a\" \"g\" \"a\" \"t\"\n",
       "[1099] \"g\" \"g\" \"t\" \"a\" \"a\" \"a\" \"a\" \"c\" \"g\" \"g\" \"t\" \"a\" \"a\" \"c\" \"g\" \"g\" \"a\" \"g\"\n",
       "[1117] \"a\" \"c\" \"t\" \"g\" \"c\" \"t\" \"t\" \"c\" \"t\" \"g\" \"g\" \"t\" \"a\" \"a\" \"c\" \"a\" \"a\" \"t\"\n",
       "[1135] \"a\" \"a\" \"a\" \"g\" \"t\" \"c\" \"a\" \"t\" \"g\" \"t\" \"a\" \"t\" \"c\" \"t\" \"g\" \"a\" \"g\" \"c\"\n",
       "[1153] \"a\" \"a\" \"a\" \"t\" \"c\" \"a\" \"g\" \"a\" \"a\" \"g\" \"g\" \"t\" \"g\" \"g\" \"t\" \"a\" \"g\" \"c\"\n",
       "[1171] \"c\" \"c\" \"g\" \"a\" \"t\" \"t\" \"c\" \"t\" \"g\" \"g\" \"t\" \"a\" \"a\" \"a\" \"c\" \"g\" \"a\" \"a\"\n",
       "[1189] \"g\" \"a\" \"t\" \"g\" \"c\" \"a\" \"g\" \"c\" \"a\" \"a\" \"a\" \"a\" \"t\" \"c\" \"g\" \"t\" \"t\" \"g\"\n",
       "[1207] \"c\" \"a\" \"a\" \"t\" \"c\" \"t\" \"a\" \"c\" \"c\" \"a\" \"c\" \"c\" \"a\" \"a\" \"c\" \"c\" \"c\" \"g\"\n",
       "[1225] \"c\" \"t\" \"c\" \"g\" \"a\" \"a\" \"a\" \"c\" \"c\" \"a\" \"t\" \"c\" \"g\" \"a\" \"c\" \"a\" \"a\" \"a\"\n",
       "[1243] \"g\" \"c\" \"a\" \"t\" \"t\" \"g\" \"g\" \"c\" \"t\" \"a\" \"a\" \"a\" \"g\" \"t\" \"t\" \"g\" \"a\" \"c\"\n",
       "[1261] \"a\" \"a\" \"t\" \"c\" \"t\" \"g\" \"c\" \"g\" \"t\" \"t\" \"c\" \"t\" \"g\" \"a\" \"c\" \"c\" \"t\" \"c\"\n",
       "[1279] \"g\" \"g\" \"t\" \"g\" \"c\" \"a\" \"g\" \"t\" \"a\" \"c\" \"a\" \"a\" \"a\" \"a\" \"c\" \"c\" \"g\" \"t\"\n",
       "[1297] \"t\" \"t\" \"c\" \"g\" \"a\" \"c\" \"t\" \"c\" \"t\" \"g\" \"c\" \"t\" \"a\" \"t\" \"c\" \"a\" \"c\" \"c\"\n",
       "[1315] \"a\" \"a\" \"c\" \"c\" \"t\" \"t\" \"g\" \"g\" \"c\" \"a\" \"a\" \"c\" \"a\" \"c\" \"c\" \"g\" \"t\" \"a\"\n",
       "[1333] \"a\" \"a\" \"c\" \"a\" \"a\" \"c\" \"c\" \"t\" \"g\" \"t\" \"c\" \"t\" \"t\" \"c\" \"t\" \"g\" \"c\" \"c\"\n",
       "[1351] \"c\" \"g\" \"t\" \"a\" \"g\" \"c\" \"c\" \"g\" \"t\" \"a\" \"t\" \"c\" \"g\" \"a\" \"a\" \"g\" \"a\" \"t\"\n",
       "[1369] \"g\" \"c\" \"t\" \"g\" \"a\" \"c\" \"t\" \"a\" \"c\" \"g\" \"c\" \"g\" \"a\" \"c\" \"c\" \"g\" \"a\" \"a\"\n",
       "[1387] \"g\" \"t\" \"g\" \"t\" \"c\" \"t\" \"a\" \"a\" \"c\" \"a\" \"t\" \"g\" \"t\" \"c\" \"t\" \"c\" \"g\" \"t\"\n",
       "[1405] \"g\" \"c\" \"g\" \"c\" \"a\" \"g\" \"a\" \"t\" \"c\" \"c\" \"t\" \"g\" \"c\" \"a\" \"a\" \"c\" \"a\" \"a\"\n",
       "[1423] \"g\" \"c\" \"a\" \"g\" \"g\" \"t\" \"a\" \"c\" \"t\" \"t\" \"c\" \"t\" \"g\" \"t\" \"t\" \"c\" \"t\" \"g\"\n",
       "[1441] \"g\" \"c\" \"a\" \"c\" \"a\" \"g\" \"g\" \"c\" \"t\" \"a\" \"a\" \"c\" \"c\" \"a\" \"g\" \"a\" \"c\" \"c\"\n",
       "[1459] \"a\" \"c\" \"g\" \"c\" \"a\" \"g\" \"a\" \"a\" \"c\" \"g\" \"t\" \"a\" \"c\" \"t\" \"g\" \"t\" \"c\" \"t\"\n",
       "[1477] \"c\" \"t\" \"g\" \"c\" \"t\" \"g\" \"c\" \"g\" \"t\" \"t\" \"a\" \"a\"\n",
       "attr(,\"name\")\n",
       "[1] \"lcl|CM001142.1_cds_EGC94816.1_1\"\n",
       "attr(,\"Annot\")\n",
       "[1] \">lcl|CM001142.1_cds_EGC94816.1_1 [gene=fliC] [locus_tag=ECD227_1054] [protein=flagellin] [protein_id=EGC94816.1] [location=1220980..1222467] [gbkey=CDS]\"\n",
       "attr(,\"class\")\n",
       "[1] \"SeqFastadna\"\n"
      ]
     },
     "metadata": {},
     "output_type": "display_data"
    }
   ],
   "source": [
    "head(all.cds.host)"
   ]
  },
  {
   "cell_type": "code",
   "execution_count": 130,
   "id": "3a416517-eaa4-4f9d-a3e9-cac809793e90",
   "metadata": {},
   "outputs": [
    {
     "name": "stdout",
     "output_type": "stream",
     "text": [
      "codon_alignments/renamed.all.cds.host.fasta has been saved to  /ebio/abt3_projects2/Flagellin_Diversity/code/notebooks/shortbred/edgeR/subsampled_opt1/cds \n"
     ]
    }
   ],
   "source": [
    "#Rename using the protein accession - for selection analysis I need DNA - protein sequences with matching names\n",
    "rename.fasta(infile=\"all.cds.host.fna\",newLabels,outfile = \"codon_alignments/renamed.all.cds.host.fasta\")"
   ]
  },
  {
   "cell_type": "code",
   "execution_count": 132,
   "id": "b555c0f0-9491-4384-bb80-8e861e0dd008",
   "metadata": {},
   "outputs": [],
   "source": [
    "tmp.cds = seqinr::read.fasta(\"codon_alignments/renamed.all.cds.host.fasta\")\n",
    "match.tmp = match(names(tmp.cds),order_vec.host)\n",
    "sorted.all.cds.protLabel.host = tmp.cds[order(match.tmp)]\n",
    "write.fasta(sequences=sorted.all.cds.protLabel.host,names=names(sorted.all.cds.protLabel.host),nbchar=80,file.out = \"codon_alignments/sorted.cds.host.w.protLabels.fna\")"
   ]
  },
  {
   "cell_type": "code",
   "execution_count": 133,
   "id": "2bb3f4e1-b7d7-4a6b-ae5a-7ab396514e29",
   "metadata": {},
   "outputs": [
    {
     "data": {
      "text/html": [
       "<style>\n",
       ".list-inline {list-style: none; margin:0; padding: 0}\n",
       ".list-inline>li {display: inline-block}\n",
       ".list-inline>li:not(:last-child)::after {content: \"\\00b7\"; padding: 0 .5ex}\n",
       "</style>\n",
       "<ol class=list-inline><li>'CAI29258.1'</li><li>'EEC56699.1'</li><li>'EEG95687.1'</li><li>'ACR71277.1'</li><li>'CBL40883.1'</li><li>'EGC94816.1'</li></ol>\n"
      ],
      "text/latex": [
       "\\begin{enumerate*}\n",
       "\\item 'CAI29258.1'\n",
       "\\item 'EEC56699.1'\n",
       "\\item 'EEG95687.1'\n",
       "\\item 'ACR71277.1'\n",
       "\\item 'CBL40883.1'\n",
       "\\item 'EGC94816.1'\n",
       "\\end{enumerate*}\n"
      ],
      "text/markdown": [
       "1. 'CAI29258.1'\n",
       "2. 'EEC56699.1'\n",
       "3. 'EEG95687.1'\n",
       "4. 'ACR71277.1'\n",
       "5. 'CBL40883.1'\n",
       "6. 'EGC94816.1'\n",
       "\n",
       "\n"
      ],
      "text/plain": [
       "[1] \"CAI29258.1\" \"EEC56699.1\" \"EEG95687.1\" \"ACR71277.1\" \"CBL40883.1\"\n",
       "[6] \"EGC94816.1\""
      ]
     },
     "metadata": {},
     "output_type": "display_data"
    }
   ],
   "source": [
    "head(names(sorted.all.cds.protLabel.host))"
   ]
  },
  {
   "cell_type": "code",
   "execution_count": 134,
   "id": "60ca337d-5da5-4612-8433-4fefffe9d61e",
   "metadata": {},
   "outputs": [
    {
     "data": {
      "text/html": [
       "107"
      ],
      "text/latex": [
       "107"
      ],
      "text/markdown": [
       "107"
      ],
      "text/plain": [
       "[1] 107"
      ]
     },
     "metadata": {},
     "output_type": "display_data"
    }
   ],
   "source": [
    "nrow(newLabels)"
   ]
  },
  {
   "cell_type": "code",
   "execution_count": 135,
   "id": "1bab694c-13c1-4016-af6f-017c54e8fd82",
   "metadata": {
    "tags": []
   },
   "outputs": [
    {
     "data": {
      "text/html": [
       "<style>\n",
       ".list-inline {list-style: none; margin:0; padding: 0}\n",
       ".list-inline>li {display: inline-block}\n",
       ".list-inline>li:not(:last-child)::after {content: \"\\00b7\"; padding: 0 .5ex}\n",
       "</style>\n",
       "<ol class=list-inline><li>'CAI29258.1'</li><li>'EEC56699.1'</li><li>'EEG95687.1'</li><li>'ACR71277.1'</li><li>'CBL40883.1'</li><li>'EGC94816.1'</li></ol>\n"
      ],
      "text/latex": [
       "\\begin{enumerate*}\n",
       "\\item 'CAI29258.1'\n",
       "\\item 'EEC56699.1'\n",
       "\\item 'EEG95687.1'\n",
       "\\item 'ACR71277.1'\n",
       "\\item 'CBL40883.1'\n",
       "\\item 'EGC94816.1'\n",
       "\\end{enumerate*}\n"
      ],
      "text/markdown": [
       "1. 'CAI29258.1'\n",
       "2. 'EEC56699.1'\n",
       "3. 'EEG95687.1'\n",
       "4. 'ACR71277.1'\n",
       "5. 'CBL40883.1'\n",
       "6. 'EGC94816.1'\n",
       "\n",
       "\n"
      ],
      "text/plain": [
       "[1] \"CAI29258.1\" \"EEC56699.1\" \"EEG95687.1\" \"ACR71277.1\" \"CBL40883.1\"\n",
       "[6] \"EGC94816.1\""
      ]
     },
     "metadata": {},
     "output_type": "display_data"
    }
   ],
   "source": [
    "head(names(sorted_seqs_host))"
   ]
  },
  {
   "cell_type": "markdown",
   "id": "3fbaac4f-1b44-4100-977e-443d2de109dd",
   "metadata": {},
   "source": [
    "### B. Env-enriched flagellins"
   ]
  },
  {
   "cell_type": "markdown",
   "id": "f48c7923-4705-4697-9b10-e37af0c6d086",
   "metadata": {},
   "source": [
    "#### Sort protein fasta"
   ]
  },
  {
   "cell_type": "code",
   "execution_count": 136,
   "id": "d45d2517-a65a-4559-8dcb-53ef6ef9b721",
   "metadata": {
    "tags": []
   },
   "outputs": [],
   "source": [
    "#Table matching cds ids to protein ids\n",
    "cds.to.protein.env = getSeqNames.rem(\"all.cds.env.fna\")"
   ]
  },
  {
   "cell_type": "code",
   "execution_count": 137,
   "id": "92fb5222-8028-4471-b309-97970bf436c4",
   "metadata": {},
   "outputs": [],
   "source": [
    "#Extract all cds-matching protein sequences from flagellin database\n",
    "all.protein.with.cds.env = flagellins.markers.sb[c(which(names(flagellins.markers.sb) %in% cds.to.protein.env$Accession))]"
   ]
  },
  {
   "cell_type": "code",
   "execution_count": 138,
   "id": "d2fef131-41cd-475e-a607-4fc95ea8f6ff",
   "metadata": {},
   "outputs": [
    {
     "data": {
      "text/html": [
       "405"
      ],
      "text/latex": [
       "405"
      ],
      "text/markdown": [
       "405"
      ],
      "text/plain": [
       "[1] 405"
      ]
     },
     "metadata": {},
     "output_type": "display_data"
    }
   ],
   "source": [
    "length(all.protein.with.cds.env)"
   ]
  },
  {
   "cell_type": "code",
   "execution_count": 139,
   "id": "454bf5e9-4391-4635-b522-522c2eab3c5c",
   "metadata": {},
   "outputs": [],
   "source": [
    "#Set order of accessions\n",
    "order_vec.env =cds.to.protein.env$Accession"
   ]
  },
  {
   "cell_type": "code",
   "execution_count": 140,
   "id": "8544dcfa-6d96-431d-b174-366e8d896e88",
   "metadata": {},
   "outputs": [],
   "source": [
    "match_vec.env = match(names(all.protein.with.cds.env),order_vec.env)"
   ]
  },
  {
   "cell_type": "code",
   "execution_count": 141,
   "id": "8c43b296-7bec-4347-a660-d6e2853c2d73",
   "metadata": {},
   "outputs": [],
   "source": [
    "sorted_seqs_env = all.protein.with.cds.env[order(match_vec.env)]"
   ]
  },
  {
   "cell_type": "code",
   "execution_count": 142,
   "id": "325b9f0f-d188-4e6a-985a-1f3703cd54b1",
   "metadata": {
    "tags": []
   },
   "outputs": [
    {
     "data": {
      "text/html": [
       "<style>\n",
       ".list-inline {list-style: none; margin:0; padding: 0}\n",
       ".list-inline>li {display: inline-block}\n",
       ".list-inline>li:not(:last-child)::after {content: \"\\00b7\"; padding: 0 .5ex}\n",
       "</style>\n",
       "<ol class=list-inline><li>'AAA62844.1'</li><li>'CAA59172.1'</li><li>'AAK24938.1'</li><li>'AAR10729.1'</li><li>'BAD14977.1'</li><li>'AAW75835.1'</li></ol>\n"
      ],
      "text/latex": [
       "\\begin{enumerate*}\n",
       "\\item 'AAA62844.1'\n",
       "\\item 'CAA59172.1'\n",
       "\\item 'AAK24938.1'\n",
       "\\item 'AAR10729.1'\n",
       "\\item 'BAD14977.1'\n",
       "\\item 'AAW75835.1'\n",
       "\\end{enumerate*}\n"
      ],
      "text/markdown": [
       "1. 'AAA62844.1'\n",
       "2. 'CAA59172.1'\n",
       "3. 'AAK24938.1'\n",
       "4. 'AAR10729.1'\n",
       "5. 'BAD14977.1'\n",
       "6. 'AAW75835.1'\n",
       "\n",
       "\n"
      ],
      "text/plain": [
       "[1] \"AAA62844.1\" \"CAA59172.1\" \"AAK24938.1\" \"AAR10729.1\" \"BAD14977.1\"\n",
       "[6] \"AAW75835.1\""
      ]
     },
     "metadata": {},
     "output_type": "display_data"
    }
   ],
   "source": [
    "head(names(sorted_seqs_env))"
   ]
  },
  {
   "cell_type": "code",
   "execution_count": 143,
   "id": "4ee38d8f-2c71-4789-b306-5c17142919f7",
   "metadata": {},
   "outputs": [],
   "source": [
    "#Write file\n",
    "write.fasta(sequences=sorted_seqs_env,names=names(sorted_seqs_env),nbchar=80,file.out=\"codon_alignments/all.cds.prot.env.faa\")"
   ]
  },
  {
   "cell_type": "code",
   "execution_count": 144,
   "id": "d5f2d61a-2286-49da-a0ea-066e701cacc4",
   "metadata": {},
   "outputs": [
    {
     "data": {
      "text/html": [
       "405"
      ],
      "text/latex": [
       "405"
      ],
      "text/markdown": [
       "405"
      ],
      "text/plain": [
       "[1] 405"
      ]
     },
     "metadata": {},
     "output_type": "display_data"
    }
   ],
   "source": [
    "length(all.protein.with.cds.env)"
   ]
  },
  {
   "cell_type": "markdown",
   "id": "2a8eacb1-5391-4e9d-8837-a366a97f5f3c",
   "metadata": {},
   "source": [
    "#### Rename CDS fasta"
   ]
  },
  {
   "cell_type": "code",
   "execution_count": 145,
   "id": "529abcf4-9629-4065-9869-b27a79d7e64f",
   "metadata": {},
   "outputs": [],
   "source": [
    "#Create matrix with oldName (col1) and newName (col2)\n",
    "newLabels.env = select(cds.to.protein.env,seqName,Accession)"
   ]
  },
  {
   "cell_type": "code",
   "execution_count": 146,
   "id": "38cecc53-6f1d-4635-bba4-b1412ac536d7",
   "metadata": {
    "collapsed": true,
    "jupyter": {
     "outputs_hidden": true
    },
    "tags": []
   },
   "outputs": [
    {
     "data": {
      "text/plain": [
       "$`lcl|L15367.1_cds_AAA62844.1_1`\n",
       "   [1] \"a\" \"t\" \"g\" \"g\" \"c\" \"t\" \"t\" \"t\" \"a\" \"a\" \"c\" \"t\" \"g\" \"t\" \"a\" \"a\" \"a\" \"c\"\n",
       "  [19] \"a\" \"c\" \"c\" \"a\" \"a\" \"c\" \"a\" \"t\" \"t\" \"g\" \"c\" \"g\" \"t\" \"c\" \"g\" \"a\" \"t\" \"c\"\n",
       "  [37] \"a\" \"c\" \"t\" \"a\" \"c\" \"t\" \"c\" \"a\" \"g\" \"g\" \"g\" \"c\" \"a\" \"a\" \"c\" \"c\" \"t\" \"g\"\n",
       "  [55] \"a\" \"c\" \"c\" \"a\" \"a\" \"g\" \"g\" \"c\" \"t\" \"a\" \"g\" \"c\" \"a\" \"a\" \"c\" \"g\" \"c\" \"t\"\n",
       "  [73] \"c\" \"a\" \"g\" \"a\" \"c\" \"c\" \"a\" \"c\" \"t\" \"t\" \"c\" \"g\" \"a\" \"t\" \"g\" \"c\" \"a\" \"g\"\n",
       "  [91] \"c\" \"g\" \"t\" \"c\" \"t\" \"g\" \"t\" \"c\" \"c\" \"t\" \"c\" \"g\" \"g\" \"g\" \"t\" \"c\" \"t\" \"g\"\n",
       " [109] \"c\" \"g\" \"t\" \"a\" \"t\" \"c\" \"a\" \"a\" \"c\" \"a\" \"g\" \"c\" \"g\" \"c\" \"t\" \"a\" \"a\" \"a\"\n",
       " [127] \"g\" \"a\" \"c\" \"g\" \"a\" \"c\" \"g\" \"c\" \"t\" \"g\" \"c\" \"c\" \"g\" \"g\" \"c\" \"c\" \"t\" \"g\"\n",
       " [145] \"c\" \"a\" \"g\" \"a\" \"t\" \"c\" \"g\" \"c\" \"c\" \"a\" \"a\" \"c\" \"c\" \"g\" \"t\" \"c\" \"t\" \"g\"\n",
       " [163] \"a\" \"c\" \"c\" \"a\" \"g\" \"c\" \"c\" \"a\" \"g\" \"a\" \"t\" \"c\" \"a\" \"a\" \"t\" \"g\" \"g\" \"c\"\n",
       " [181] \"c\" \"t\" \"g\" \"g\" \"g\" \"c\" \"c\" \"a\" \"g\" \"g\" \"c\" \"t\" \"g\" \"t\" \"c\" \"a\" \"a\" \"g\"\n",
       " [199] \"a\" \"a\" \"c\" \"g\" \"c\" \"c\" \"a\" \"a\" \"c\" \"g\" \"a\" \"c\" \"g\" \"g\" \"t\" \"a\" \"t\" \"c\"\n",
       " [217] \"t\" \"c\" \"g\" \"a\" \"t\" \"c\" \"g\" \"c\" \"t\" \"c\" \"a\" \"g\" \"a\" \"c\" \"c\" \"g\" \"c\" \"t\"\n",
       " [235] \"g\" \"a\" \"a\" \"g\" \"g\" \"t\" \"g\" \"c\" \"a\" \"a\" \"t\" \"g\" \"c\" \"a\" \"g\" \"g\" \"c\" \"t\"\n",
       " [253] \"t\" \"c\" \"g\" \"a\" \"c\" \"c\" \"g\" \"a\" \"c\" \"a\" \"t\" \"c\" \"c\" \"t\" \"g\" \"c\" \"a\" \"a\"\n",
       " [271] \"a\" \"a\" \"a\" \"a\" \"t\" \"g\" \"c\" \"g\" \"t\" \"a\" \"c\" \"g\" \"c\" \"t\" \"g\" \"g\" \"c\" \"c\"\n",
       " [289] \"c\" \"t\" \"g\" \"t\" \"g\" \"c\" \"t\" \"c\" \"g\" \"g\" \"c\" \"t\" \"a\" \"c\" \"t\" \"g\" \"g\" \"c\"\n",
       " [307] \"t\" \"c\" \"g\" \"c\" \"t\" \"g\" \"a\" \"g\" \"c\" \"a\" \"a\" \"c\" \"g\" \"c\" \"a\" \"g\" \"a\" \"c\"\n",
       " [325] \"c\" \"g\" \"t\" \"a\" \"a\" \"g\" \"t\" \"c\" \"g\" \"a\" \"a\" \"c\" \"a\" \"a\" \"c\" \"g\" \"a\" \"c\"\n",
       " [343] \"g\" \"a\" \"a\" \"t\" \"a\" \"c\" \"c\" \"a\" \"g\" \"g\" \"c\" \"t\" \"c\" \"t\" \"g\" \"a\" \"c\" \"c\"\n",
       " [361] \"g\" \"c\" \"t\" \"g\" \"a\" \"g\" \"c\" \"t\" \"g\" \"a\" \"a\" \"c\" \"c\" \"g\" \"t\" \"a\" \"t\" \"c\"\n",
       " [379] \"t\" \"g\" \"c\" \"c\" \"a\" \"a\" \"a\" \"c\" \"c\" \"a\" \"c\" \"c\" \"a\" \"c\" \"c\" \"t\" \"t\" \"c\"\n",
       " [397] \"g\" \"g\" \"t\" \"g\" \"c\" \"c\" \"a\" \"g\" \"a\" \"a\" \"g\" \"c\" \"t\" \"g\" \"c\" \"t\" \"g\" \"g\"\n",
       " [415] \"a\" \"c\" \"g\" \"g\" \"t\" \"t\" \"c\" \"g\" \"t\" \"a\" \"c\" \"g\" \"g\" \"c\" \"a\" \"c\" \"c\" \"a\"\n",
       " [433] \"a\" \"g\" \"g\" \"c\" \"c\" \"a\" \"t\" \"c\" \"c\" \"a\" \"g\" \"g\" \"t\" \"c\" \"g\" \"g\" \"c\" \"g\"\n",
       " [451] \"c\" \"c\" \"a\" \"a\" \"c\" \"g\" \"c\" \"c\" \"a\" \"a\" \"c\" \"g\" \"a\" \"a\" \"a\" \"c\" \"c\" \"a\"\n",
       " [469] \"t\" \"c\" \"a\" \"a\" \"c\" \"c\" \"t\" \"g\" \"g\" \"c\" \"g\" \"c\" \"t\" \"g\" \"g\" \"a\" \"c\" \"a\"\n",
       " [487] \"a\" \"c\" \"g\" \"t\" \"t\" \"t\" \"c\" \"g\" \"g\" \"c\" \"c\" \"a\" \"a\" \"g\" \"a\" \"g\" \"c\" \"a\"\n",
       " [505] \"t\" \"c\" \"g\" \"g\" \"c\" \"t\" \"c\" \"g\" \"c\" \"a\" \"g\" \"c\" \"a\" \"g\" \"a\" \"t\" \"c\" \"a\"\n",
       " [523] \"a\" \"g\" \"t\" \"c\" \"g\" \"g\" \"g\" \"c\" \"a\" \"c\" \"t\" \"a\" \"t\" \"c\" \"g\" \"c\" \"g\" \"c\"\n",
       " [541] \"c\" \"t\" \"a\" \"g\" \"c\" \"c\" \"c\" \"a\" \"g\" \"c\" \"g\" \"t\" \"g\" \"t\" \"g\" \"g\" \"c\" \"c\"\n",
       " [559] \"g\" \"c\" \"a\" \"g\" \"c\" \"t\" \"g\" \"a\" \"t\" \"c\" \"t\" \"g\" \"g\" \"t\" \"t\" \"g\" \"t\" \"c\"\n",
       " [577] \"a\" \"c\" \"t\" \"g\" \"g\" \"c\" \"a\" \"a\" \"c\" \"g\" \"g\" \"t\" \"c\" \"a\" \"g\" \"a\" \"g\" \"c\"\n",
       " [595] \"a\" \"a\" \"a\" \"a\" \"c\" \"c\" \"g\" \"t\" \"c\" \"a\" \"g\" \"c\" \"t\" \"a\" \"t\" \"g\" \"a\" \"t\"\n",
       " [613] \"g\" \"c\" \"g\" \"g\" \"g\" \"c\" \"t\" \"c\" \"c\" \"t\" \"c\" \"g\" \"g\" \"c\" \"c\" \"a\" \"a\" \"a\"\n",
       " [631] \"g\" \"a\" \"c\" \"a\" \"t\" \"c\" \"g\" \"c\" \"t\" \"g\" \"c\" \"c\" \"a\" \"a\" \"a\" \"c\" \"t\" \"c\"\n",
       " [649] \"a\" \"a\" \"t\" \"g\" \"g\" \"c\" \"t\" \"c\" \"c\" \"a\" \"t\" \"c\" \"g\" \"g\" \"t\" \"g\" \"g\" \"c\"\n",
       " [667] \"c\" \"t\" \"g\" \"a\" \"c\" \"t\" \"g\" \"c\" \"t\" \"t\" \"c\" \"t\" \"g\" \"c\" \"c\" \"a\" \"g\" \"c\"\n",
       " [685] \"a\" \"c\" \"c\" \"g\" \"a\" \"a\" \"g\" \"t\" \"c\" \"a\" \"a\" \"a\" \"c\" \"t\" \"g\" \"g\" \"c\" \"t\"\n",
       " [703] \"g\" \"t\" \"t\" \"g\" \"c\" \"c\" \"a\" \"g\" \"t\" \"g\" \"g\" \"c\" \"g\" \"c\" \"t\" \"g\" \"c\" \"a\"\n",
       " [721] \"g\" \"c\" \"t\" \"a\" \"c\" \"t\" \"c\" \"c\" \"a\" \"g\" \"c\" \"c\" \"a\" \"a\" \"c\" \"t\" \"t\" \"t\"\n",
       " [739] \"g\" \"a\" \"c\" \"c\" \"t\" \"g\" \"a\" \"c\" \"t\" \"g\" \"t\" \"a\" \"g\" \"g\" \"c\" \"g\" \"g\" \"t\"\n",
       " [757] \"a\" \"c\" \"g\" \"a\" \"c\" \"c\" \"g\" \"t\" \"c\" \"a\" \"g\" \"c\" \"t\" \"t\" \"c\" \"a\" \"t\" \"c\"\n",
       " [775] \"g\" \"g\" \"t\" \"g\" \"t\" \"t\" \"a\" \"c\" \"t\" \"g\" \"a\" \"c\" \"a\" \"c\" \"c\" \"g\" \"c\" \"a\"\n",
       " [793] \"a\" \"g\" \"c\" \"c\" \"t\" \"g\" \"g\" \"c\" \"t\" \"g\" \"a\" \"t\" \"c\" \"a\" \"g\" \"c\" \"t\" \"g\"\n",
       " [811] \"a\" \"a\" \"g\" \"t\" \"c\" \"c\" \"a\" \"a\" \"c\" \"g\" \"c\" \"c\" \"g\" \"c\" \"c\" \"a\" \"a\" \"g\"\n",
       " [829] \"c\" \"t\" \"g\" \"g\" \"g\" \"t\" \"a\" \"t\" \"c\" \"a\" \"g\" \"c\" \"g\" \"t\" \"t\" \"a\" \"a\" \"c\"\n",
       " [847] \"t\" \"a\" \"c\" \"g\" \"a\" \"c\" \"g\" \"a\" \"a\" \"t\" \"c\" \"g\" \"a\" \"c\" \"c\" \"a\" \"a\" \"g\"\n",
       " [865] \"a\" \"g\" \"c\" \"c\" \"t\" \"g\" \"t\" \"c\" \"g\" \"g\" \"t\" \"g\" \"a\" \"a\" \"g\" \"t\" \"c\" \"g\"\n",
       " [883] \"g\" \"a\" \"c\" \"a\" \"c\" \"t\" \"g\" \"g\" \"c\" \"g\" \"a\" \"g\" \"a\" \"a\" \"c\" \"c\" \"t\" \"g\"\n",
       " [901] \"g\" \"c\" \"c\" \"t\" \"t\" \"c\" \"a\" \"c\" \"c\" \"t\" \"c\" \"c\" \"a\" \"a\" \"g\" \"g\" \"c\" \"c\"\n",
       " [919] \"g\" \"g\" \"c\" \"g\" \"c\" \"a\" \"g\" \"a\" \"c\" \"g\" \"c\" \"c\" \"a\" \"t\" \"c\" \"t\" \"c\" \"g\"\n",
       " [937] \"g\" \"t\" \"g\" \"g\" \"g\" \"t\" \"g\" \"c\" \"a\" \"c\" \"g\" \"c\" \"g\" \"a\" \"c\" \"g\" \"g\" \"c\"\n",
       " [955] \"a\" \"a\" \"c\" \"g\" \"g\" \"t\" \"g\" \"a\" \"t\" \"t\" \"t\" \"c\" \"c\" \"c\" \"a\" \"g\" \"g\" \"t\"\n",
       " [973] \"a\" \"c\" \"t\" \"c\" \"t\" \"g\" \"a\" \"c\" \"c\" \"a\" \"c\" \"g\" \"c\" \"t\" \"t\" \"t\" \"c\" \"c\"\n",
       " [991] \"g\" \"c\" \"t\" \"a\" \"c\" \"c\" \"g\" \"t\" \"t\" \"a\" \"a\" \"c\" \"g\" \"a\" \"c\" \"a\" \"a\" \"a\"\n",
       "[1009] \"t\" \"c\" \"g\" \"a\" \"c\" \"c\" \"g\" \"t\" \"t\" \"a\" \"c\" \"t\" \"g\" \"g\" \"c\" \"c\" \"a\" \"g\"\n",
       "[1027] \"a\" \"t\" \"t\" \"t\" \"c\" \"t\" \"c\" \"t\" \"g\" \"g\" \"a\" \"c\" \"t\" \"c\" \"t\" \"g\" \"c\" \"c\"\n",
       "[1045] \"a\" \"a\" \"a\" \"g\" \"g\" \"t\" \"t\" \"a\" \"c\" \"t\" \"c\" \"g\" \"g\" \"t\" \"a\" \"g\" \"c\" \"t\"\n",
       "[1063] \"a\" \"a\" \"c\" \"g\" \"g\" \"c\" \"g\" \"c\" \"c\" \"a\" \"c\" \"c\" \"g\" \"g\" \"t\" \"a\" \"c\" \"t\"\n",
       "[1081] \"g\" \"g\" \"c\" \"g\" \"c\" \"t\" \"a\" \"c\" \"c\" \"g\" \"a\" \"c\" \"c\" \"t\" \"g\" \"t\" \"t\" \"c\"\n",
       "[1099] \"g\" \"g\" \"t\" \"g\" \"c\" \"a\" \"g\" \"c\" \"t\" \"t\" \"c\" \"c\" \"a\" \"a\" \"g\" \"t\" \"c\" \"c\"\n",
       "[1117] \"t\" \"c\" \"g\" \"g\" \"c\" \"c\" \"a\" \"a\" \"g\" \"a\" \"c\" \"c\" \"a\" \"c\" \"c\" \"a\" \"t\" \"c\"\n",
       "[1135] \"g\" \"c\" \"c\" \"g\" \"a\" \"t\" \"a\" \"c\" \"c\" \"g\" \"a\" \"t\" \"g\" \"t\" \"t\" \"a\" \"c\" \"c\"\n",
       "[1153] \"g\" \"a\" \"g\" \"g\" \"c\" \"c\" \"g\" \"t\" \"c\" \"a\" \"a\" \"c\" \"g\" \"c\" \"c\" \"c\" \"a\" \"g\"\n",
       "[1171] \"a\" \"a\" \"c\" \"g\" \"c\" \"c\" \"c\" \"t\" \"g\" \"g\" \"c\" \"c\" \"g\" \"t\" \"t\" \"a\" \"t\" \"c\"\n",
       "[1189] \"g\" \"a\" \"c\" \"a\" \"a\" \"g\" \"g\" \"c\" \"c\" \"a\" \"t\" \"c\" \"g\" \"g\" \"t\" \"t\" \"c\" \"g\"\n",
       "[1207] \"a\" \"t\" \"c\" \"g\" \"a\" \"c\" \"a\" \"g\" \"c\" \"g\" \"t\" \"c\" \"c\" \"g\" \"t\" \"t\" \"c\" \"g\"\n",
       "[1225] \"g\" \"g\" \"c\" \"c\" \"t\" \"g\" \"g\" \"g\" \"t\" \"g\" \"c\" \"t\" \"a\" \"c\" \"c\" \"c\" \"a\" \"g\"\n",
       "[1243] \"a\" \"a\" \"c\" \"c\" \"g\" \"t\" \"c\" \"t\" \"g\" \"c\" \"a\" \"a\" \"a\" \"c\" \"c\" \"a\" \"c\" \"c\"\n",
       "[1261] \"g\" \"t\" \"c\" \"g\" \"a\" \"c\" \"a\" \"a\" \"c\" \"c\" \"t\" \"g\" \"c\" \"a\" \"g\" \"a\" \"a\" \"c\"\n",
       "[1279] \"a\" \"t\" \"c\" \"c\" \"a\" \"g\" \"a\" \"a\" \"g\" \"a\" \"a\" \"c\" \"t\" \"c\" \"c\" \"a\" \"c\" \"c\"\n",
       "[1297] \"g\" \"c\" \"t\" \"g\" \"c\" \"c\" \"c\" \"g\" \"c\" \"t\" \"c\" \"c\" \"a\" \"c\" \"c\" \"g\" \"t\" \"g\"\n",
       "[1315] \"c\" \"a\" \"g\" \"g\" \"a\" \"c\" \"g\" \"t\" \"g\" \"g\" \"a\" \"c\" \"t\" \"t\" \"c\" \"g\" \"c\" \"t\"\n",
       "[1333] \"t\" \"c\" \"g\" \"g\" \"a\" \"a\" \"a\" \"c\" \"t\" \"g\" \"c\" \"c\" \"g\" \"a\" \"g\" \"c\" \"t\" \"g\"\n",
       "[1351] \"a\" \"c\" \"c\" \"a\" \"a\" \"g\" \"c\" \"a\" \"g\" \"c\" \"a\" \"g\" \"a\" \"c\" \"t\" \"c\" \"t\" \"g\"\n",
       "[1369] \"c\" \"a\" \"g\" \"c\" \"a\" \"g\" \"g\" \"c\" \"t\" \"t\" \"c\" \"g\" \"a\" \"c\" \"t\" \"g\" \"c\" \"g\"\n",
       "[1387] \"a\" \"t\" \"c\" \"c\" \"t\" \"g\" \"t\" \"t\" \"g\" \"c\" \"a\" \"g\" \"g\" \"c\" \"t\" \"a\" \"a\" \"c\"\n",
       "[1405] \"c\" \"a\" \"g\" \"c\" \"t\" \"g\" \"c\" \"c\" \"a\" \"t\" \"c\" \"t\" \"t\" \"c\" \"g\" \"g\" \"t\" \"c\"\n",
       "[1423] \"c\" \"t\" \"g\" \"a\" \"a\" \"a\" \"c\" \"t\" \"g\" \"c\" \"t\" \"c\" \"c\" \"a\" \"g\" \"t\" \"a\" \"a\"\n",
       "attr(,\"name\")\n",
       "[1] \"lcl|L15367.1_cds_AAA62844.1_1\"\n",
       "attr(,\"Annot\")\n",
       "[1] \">lcl|L15367.1_cds_AAA62844.1_1 [protein=flagellin] [protein_id=AAA62844.1] [location=198..1637] [gbkey=CDS]\"\n",
       "attr(,\"class\")\n",
       "[1] \"SeqFastadna\"\n",
       "\n",
       "$`lcl|X84699.1_cds_CAA59172.1_1`\n",
       "   [1] \"a\" \"t\" \"g\" \"a\" \"c\" \"t\" \"g\" \"a\" \"g\" \"g\" \"t\" \"g\" \"a\" \"t\" \"a\" \"a\" \"a\" \"t\"\n",
       "  [19] \"a\" \"c\" \"c\" \"a\" \"a\" \"c\" \"g\" \"t\" \"g\" \"a\" \"t\" \"g\" \"t\" \"c\" \"a\" \"c\" \"t\" \"c\"\n",
       "  [37] \"a\" \"a\" \"t\" \"g\" \"c\" \"t\" \"c\" \"a\" \"a\" \"c\" \"g\" \"c\" \"a\" \"a\" \"t\" \"t\" \"t\" \"g\"\n",
       "  [55] \"a\" \"a\" \"t\" \"g\" \"c\" \"t\" \"t\" \"c\" \"a\" \"c\" \"a\" \"a\" \"a\" \"a\" \"a\" \"a\" \"t\" \"g\"\n",
       "  [73] \"a\" \"t\" \"g\" \"c\" \"a\" \"a\" \"a\" \"c\" \"a\" \"g\" \"c\" \"g\" \"a\" \"t\" \"c\" \"c\" \"a\" \"g\"\n",
       "  [91] \"c\" \"g\" \"g\" \"c\" \"t\" \"t\" \"t\" \"c\" \"t\" \"t\" \"c\" \"t\" \"g\" \"g\" \"t\" \"t\" \"t\" \"g\"\n",
       " [109] \"a\" \"g\" \"a\" \"a\" \"t\" \"t\" \"a\" \"a\" \"t\" \"a\" \"g\" \"t\" \"g\" \"c\" \"a\" \"a\" \"a\" \"a\"\n",
       " [127] \"g\" \"a\" \"t\" \"g\" \"a\" \"t\" \"g\" \"c\" \"t\" \"g\" \"c\" \"c\" \"g\" \"g\" \"g\" \"a\" \"t\" \"g\"\n",
       " [145] \"g\" \"c\" \"t\" \"a\" \"t\" \"t\" \"t\" \"c\" \"t\" \"g\" \"a\" \"g\" \"g\" \"c\" \"t\" \"a\" \"t\" \"g\"\n",
       " [163] \"a\" \"c\" \"a\" \"g\" \"c\" \"a\" \"c\" \"a\" \"a\" \"a\" \"t\" \"a\" \"a\" \"g\" \"a\" \"g\" \"g\" \"t\"\n",
       " [181] \"a\" \"t\" \"g\" \"g\" \"a\" \"t\" \"c\" \"a\" \"a\" \"g\" \"c\" \"a\" \"a\" \"t\" \"c\" \"c\" \"g\" \"t\"\n",
       " [199] \"a\" \"a\" \"t\" \"g\" \"c\" \"g\" \"a\" \"a\" \"t\" \"g\" \"a\" \"t\" \"g\" \"g\" \"t\" \"a\" \"t\" \"c\"\n",
       " [217] \"t\" \"c\" \"t\" \"t\" \"t\" \"a\" \"t\" \"c\" \"c\" \"c\" \"a\" \"a\" \"a\" \"c\" \"c\" \"g\" \"c\" \"t\"\n",
       " [235] \"g\" \"a\" \"a\" \"g\" \"g\" \"c\" \"g\" \"c\" \"a\" \"a\" \"t\" \"g\" \"c\" \"a\" \"a\" \"g\" \"a\" \"a\"\n",
       " [253] \"a\" \"c\" \"c\" \"a\" \"c\" \"t\" \"a\" \"a\" \"t\" \"a\" \"t\" \"t\" \"t\" \"t\" \"a\" \"c\" \"a\" \"a\"\n",
       " [271] \"c\" \"g\" \"g\" \"a\" \"t\" \"g\" \"c\" \"g\" \"t\" \"g\" \"a\" \"a\" \"c\" \"t\" \"t\" \"g\" \"c\" \"g\"\n",
       " [289] \"t\" \"t\" \"a\" \"c\" \"a\" \"a\" \"t\" \"c\" \"t\" \"g\" \"c\" \"t\" \"a\" \"a\" \"c\" \"t\" \"c\" \"a\"\n",
       " [307] \"a\" \"c\" \"c\" \"a\" \"a\" \"c\" \"a\" \"a\" \"c\" \"t\" \"c\" \"a\" \"g\" \"a\" \"t\" \"g\" \"a\" \"c\"\n",
       " [325] \"c\" \"g\" \"t\" \"c\" \"a\" \"a\" \"g\" \"c\" \"a\" \"a\" \"t\" \"t\" \"c\" \"a\" \"g\" \"c\" \"a\" \"a\"\n",
       " [343] \"g\" \"a\" \"a\" \"a\" \"t\" \"c\" \"a\" \"c\" \"t\" \"c\" \"a\" \"g\" \"t\" \"t\" \"a\" \"c\" \"a\" \"a\"\n",
       " [361] \"g\" \"c\" \"c\" \"g\" \"a\" \"a\" \"t\" \"t\" \"g\" \"g\" \"a\" \"c\" \"a\" \"g\" \"a\" \"a\" \"a\" \"c\"\n",
       " [379] \"g\" \"c\" \"g\" \"c\" \"a\" \"a\" \"a\" \"a\" \"c\" \"a\" \"c\" \"a\" \"c\" \"a\" \"a\" \"t\" \"t\" \"t\"\n",
       " [397] \"a\" \"a\" \"t\" \"g\" \"g\" \"t\" \"c\" \"a\" \"g\" \"c\" \"g\" \"t\" \"g\" \"t\" \"t\" \"c\" \"t\" \"c\"\n",
       " [415] \"g\" \"a\" \"t\" \"g\" \"g\" \"c\" \"t\" \"c\" \"c\" \"t\" \"t\" \"c\" \"c\" \"a\" \"a\" \"a\" \"a\" \"t\"\n",
       " [433] \"g\" \"c\" \"c\" \"a\" \"g\" \"t\" \"t\" \"t\" \"c\" \"c\" \"a\" \"a\" \"g\" \"t\" \"c\" \"g\" \"g\" \"g\"\n",
       " [451] \"g\" \"c\" \"a\" \"a\" \"a\" \"c\" \"g\" \"c\" \"t\" \"a\" \"a\" \"c\" \"c\" \"a\" \"g\" \"a\" \"c\" \"c\"\n",
       " [469] \"a\" \"t\" \"c\" \"a\" \"c\" \"c\" \"t\" \"t\" \"t\" \"t\" \"c\" \"a\" \"a\" \"t\" \"t\" \"g\" \"g\" \"c\"\n",
       " [487] \"a\" \"g\" \"c\" \"a\" \"t\" \"t\" \"a\" \"t\" \"g\" \"t\" \"c\" \"t\" \"t\" \"c\" \"a\" \"g\" \"c\" \"c\"\n",
       " [505] \"a\" \"t\" \"c\" \"g\" \"g\" \"c\" \"g\" \"g\" \"a\" \"a\" \"t\" \"t\" \"g\" \"c\" \"c\" \"a\" \"g\" \"t\"\n",
       " [523] \"c\" \"a\" \"a\" \"a\" \"c\" \"t\" \"g\" \"g\" \"t\" \"a\" \"c\" \"t\" \"g\" \"c\" \"t\" \"g\" \"t\" \"a\"\n",
       " [541] \"t\" \"c\" \"c\" \"g\" \"g\" \"t\" \"g\" \"c\" \"a\" \"g\" \"c\" \"t\" \"g\" \"c\" \"g\" \"a\" \"c\" \"t\"\n",
       " [559] \"g\" \"a\" \"t\" \"a\" \"t\" \"t\" \"a\" \"c\" \"c\" \"a\" \"t\" \"a\" \"a\" \"g\" \"c\" \"c\" \"t\" \"t\"\n",
       " [577] \"g\" \"g\" \"t\" \"g\" \"g\" \"c\" \"g\" \"g\" \"t\" \"g\" \"c\" \"g\" \"c\" \"c\" \"c\" \"a\" \"t\" \"a\"\n",
       " [595] \"t\" \"c\" \"c\" \"a\" \"t\" \"c\" \"a\" \"a\" \"c\" \"t\" \"c\" \"a\" \"a\" \"g\" \"t\" \"g\" \"c\" \"c\"\n",
       " [613] \"g\" \"g\" \"t\" \"t\" \"t\" \"c\" \"g\" \"t\" \"c\" \"g\" \"g\" \"t\" \"c\" \"c\" \"t\" \"g\" \"a\" \"t\"\n",
       " [631] \"g\" \"c\" \"c\" \"a\" \"g\" \"c\" \"c\" \"a\" \"a\" \"g\" \"a\" \"c\" \"g\" \"c\" \"a\" \"a\" \"c\" \"t\"\n",
       " [649] \"t\" \"c\" \"t\" \"g\" \"c\" \"c\" \"t\" \"a\" \"c\" \"g\" \"c\" \"a\" \"a\" \"a\" \"a\" \"g\" \"c\" \"t\"\n",
       " [667] \"g\" \"c\" \"g\" \"g\" \"c\" \"a\" \"a\" \"t\" \"t\" \"a\" \"a\" \"t\" \"g\" \"g\" \"c\" \"g\" \"c\" \"a\"\n",
       " [685] \"g\" \"g\" \"t\" \"a\" \"t\" \"c\" \"g\" \"c\" \"a\" \"g\" \"g\" \"a\" \"c\" \"t\" \"a\" \"c\" \"a\" \"a\"\n",
       " [703] \"g\" \"t\" \"c\" \"a\" \"c\" \"t\" \"g\" \"c\" \"g\" \"g\" \"t\" \"a\" \"a\" \"c\" \"c\" \"g\" \"c\" \"t\"\n",
       " [721] \"g\" \"g\" \"t\" \"a\" \"c\" \"a\" \"c\" \"a\" \"a\" \"a\" \"c\" \"g\" \"g\" \"t\" \"a\" \"g\" \"g\" \"a\"\n",
       " [739] \"c\" \"c\" \"t\" \"a\" \"t\" \"c\" \"g\" \"g\" \"t\" \"g\" \"g\" \"t\" \"a\" \"c\" \"a\" \"g\" \"c\" \"c\"\n",
       " [757] \"g\" \"g\" \"t\" \"g\" \"a\" \"c\" \"a\" \"c\" \"t\" \"t\" \"a\" \"c\" \"a\" \"a\" \"c\" \"c\" \"t\" \"a\"\n",
       " [775] \"a\" \"c\" \"a\" \"a\" \"t\" \"t\" \"a\" \"a\" \"c\" \"g\" \"g\" \"t\" \"g\" \"t\" \"c\" \"g\" \"c\" \"t\"\n",
       " [793] \"g\" \"t\" \"a\" \"t\" \"t\" \"t\" \"a\" \"c\" \"c\" \"a\" \"a\" \"t\" \"a\" \"c\" \"t\" \"g\" \"a\" \"g\"\n",
       " [811] \"c\" \"t\" \"t\" \"t\" \"c\" \"a\" \"a\" \"c\" \"a\" \"g\" \"c\" \"a\" \"t\" \"t\" \"a\" \"a\" \"g\" \"c\"\n",
       " [829] \"a\" \"a\" \"t\" \"a\" \"c\" \"c\" \"c\" \"a\" \"a\" \"t\" \"t\" \"g\" \"c\" \"g\" \"t\" \"g\" \"a\" \"t\"\n",
       " [847] \"g\" \"g\" \"t\" \"a\" \"t\" \"t\" \"a\" \"a\" \"c\" \"a\" \"g\" \"t\" \"g\" \"t\" \"g\" \"a\" \"g\" \"c\"\n",
       " [865] \"a\" \"g\" \"c\" \"c\" \"a\" \"a\" \"a\" \"c\" \"t\" \"g\" \"g\" \"t\" \"g\" \"t\" \"t\" \"c\" \"t\" \"a\"\n",
       " [883] \"g\" \"c\" \"t\" \"a\" \"c\" \"c\" \"t\" \"t\" \"g\" \"a\" \"a\" \"t\" \"g\" \"g\" \"t\" \"g\" \"g\" \"t\"\n",
       " [901] \"g\" \"a\" \"t\" \"a\" \"t\" \"t\" \"a\" \"c\" \"g\" \"t\" \"t\" \"a\" \"a\" \"c\" \"t\" \"g\" \"c\" \"c\"\n",
       " [919] \"a\" \"g\" \"t\" \"g\" \"a\" \"t\" \"g\" \"g\" \"a\" \"c\" \"g\" \"c\" \"a\" \"a\" \"t\" \"a\" \"t\" \"c\"\n",
       " [937] \"t\" \"c\" \"t\" \"g\" \"t\" \"c\" \"a\" \"c\" \"c\" \"g\" \"a\" \"a\" \"a\" \"g\" \"c\" \"g\" \"g\" \"t\"\n",
       " [955] \"a\" \"c\" \"t\" \"g\" \"g\" \"t\" \"t\" \"t\" \"t\" \"a\" \"c\" \"a\" \"g\" \"c\" \"a\" \"g\" \"g\" \"t\"\n",
       " [973] \"a\" \"c\" \"c\" \"g\" \"a\" \"t\" \"g\" \"g\" \"t\" \"t\" \"t\" \"g\" \"a\" \"c\" \"a\" \"g\" \"t\" \"a\"\n",
       " [991] \"a\" \"c\" \"t\" \"g\" \"c\" \"t\" \"g\" \"g\" \"t\" \"c\" \"c\" \"a\" \"t\" \"t\" \"t\" \"g\" \"c\" \"t\"\n",
       "[1009] \"g\" \"c\" \"t\" \"a\" \"c\" \"t\" \"t\" \"t\" \"a\" \"c\" \"g\" \"t\" \"g\" \"g\" \"g\" \"a\" \"a\" \"t\"\n",
       "[1027] \"t\" \"t\" \"a\" \"a\" \"c\" \"c\" \"a\" \"t\" \"c\" \"a\" \"g\" \"c\" \"g\" \"c\" \"a\" \"a\" \"t\" \"t\"\n",
       "[1045] \"a\" \"a\" \"t\" \"t\" \"c\" \"t\" \"a\" \"t\" \"c\" \"g\" \"c\" \"t\" \"a\" \"t\" \"t\" \"g\" \"g\" \"t\"\n",
       "[1063] \"g\" \"g\" \"t\" \"a\" \"c\" \"a\" \"g\" \"t\" \"t\" \"g\" \"c\" \"c\" \"a\" \"c\" \"a\" \"c\" \"t\" \"a\"\n",
       "[1081] \"g\" \"g\" \"c\" \"c\" \"t\" \"a\" \"t\" \"c\" \"t\" \"g\" \"c\" \"c\" \"g\" \"c\" \"a\" \"a\" \"t\" \"t\"\n",
       "[1099] \"g\" \"c\" \"t\" \"a\" \"a\" \"g\" \"g\" \"a\" \"t\" \"a\" \"c\" \"c\" \"t\" \"t\" \"a\" \"g\" \"g\" \"a\"\n",
       "[1117] \"g\" \"t\" \"c\" \"a\" \"a\" \"c\" \"t\" \"c\" \"c\" \"a\" \"t\" \"t\" \"g\" \"a\" \"c\" \"g\" \"t\" \"t\"\n",
       "[1135] \"a\" \"c\" \"g\" \"a\" \"c\" \"c\" \"a\" \"c\" \"a\" \"g\" \"c\" \"a\" \"g\" \"g\" \"t\" \"g\" \"c\" \"a\"\n",
       "[1153] \"c\" \"a\" \"a\" \"g\" \"c\" \"a\" \"g\" \"c\" \"c\" \"c\" \"t\" \"t\" \"t\" \"t\" \"a\" \"c\" \"g\" \"c\"\n",
       "[1171] \"a\" \"t\" \"t\" \"g\" \"a\" \"t\" \"t\" \"c\" \"a\" \"g\" \"c\" \"g\" \"c\" \"t\" \"t\" \"a\" \"c\" \"t\"\n",
       "[1189] \"t\" \"c\" \"a\" \"g\" \"t\" \"g\" \"a\" \"a\" \"t\" \"t\" \"c\" \"g\" \"a\" \"a\" \"c\" \"c\" \"g\" \"c\"\n",
       "[1207] \"g\" \"c\" \"t\" \"g\" \"c\" \"a\" \"a\" \"t\" \"g\" \"g\" \"g\" \"t\" \"g\" \"c\" \"t\" \"t\" \"t\" \"g\"\n",
       "[1225] \"c\" \"a\" \"a\" \"a\" \"a\" \"c\" \"c\" \"g\" \"t\" \"t\" \"t\" \"c\" \"g\" \"a\" \"c\" \"t\" \"t\" \"a\"\n",
       "[1243] \"a\" \"c\" \"c\" \"a\" \"t\" \"t\" \"g\" \"c\" \"a\" \"a\" \"a\" \"c\" \"c\" \"t\" \"g\" \"c\" \"a\" \"a\"\n",
       "[1261] \"a\" \"a\" \"c\" \"g\" \"t\" \"a\" \"g\" \"a\" \"a\" \"g\" \"a\" \"a\" \"a\" \"a\" \"c\" \"c\" \"t\" \"t\"\n",
       "[1279] \"t\" \"c\" \"c\" \"g\" \"c\" \"a\" \"g\" \"c\" \"a\" \"c\" \"g\" \"a\" \"a\" \"g\" \"c\" \"c\" \"g\" \"c\"\n",
       "[1297] \"a\" \"t\" \"t\" \"c\" \"a\" \"a\" \"g\" \"a\" \"t\" \"g\" \"c\" \"t\" \"g\" \"a\" \"t\" \"t\" \"t\" \"c\"\n",
       "[1315] \"g\" \"c\" \"a\" \"g\" \"c\" \"t\" \"g\" \"a\" \"g\" \"a\" \"c\" \"a\" \"t\" \"c\" \"a\" \"a\" \"a\" \"t\"\n",
       "[1333] \"t\" \"t\" \"a\" \"a\" \"c\" \"a\" \"a\" \"a\" \"a\" \"g\" \"g\" \"a\" \"c\" \"a\" \"a\" \"a\" \"t\" \"t\"\n",
       "[1351] \"c\" \"t\" \"a\" \"c\" \"a\" \"a\" \"c\" \"a\" \"a\" \"g\" \"c\" \"a\" \"g\" \"g\" \"t\" \"a\" \"c\" \"g\"\n",
       "[1369] \"g\" \"c\" \"a\" \"a\" \"t\" \"g\" \"c\" \"t\" \"t\" \"g\" \"c\" \"a\" \"c\" \"a\" \"a\" \"g\" \"c\" \"a\"\n",
       "[1387] \"a\" \"a\" \"c\" \"a\" \"g\" \"c\" \"c\" \"t\" \"g\" \"c\" \"c\" \"t\" \"c\" \"a\" \"a\" \"t\" \"c\" \"t\"\n",
       "[1405] \"g\" \"t\" \"g\" \"c\" \"t\" \"g\" \"a\" \"a\" \"g\" \"t\" \"t\" \"a\" \"c\" \"t\" \"t\" \"g\" \"g\" \"a\"\n",
       "[1423] \"t\" \"a\" \"a\"\n",
       "attr(,\"name\")\n",
       "[1] \"lcl|X84699.1_cds_CAA59172.1_1\"\n",
       "attr(,\"Annot\")\n",
       "[1] \">lcl|X84699.1_cds_CAA59172.1_1 [gene=fla] [db_xref=GOA:P53606,InterPro:IPR001029,InterPro:IPR001492,UniProtKB/Swiss-Prot:P53606] [protein=flagellin] [protein_id=CAA59172.1] [location=655..2079] [gbkey=CDS]\"\n",
       "attr(,\"class\")\n",
       "[1] \"SeqFastadna\"\n",
       "\n",
       "$`lcl|AE005673.1_cds_AAK24938.1_1`\n",
       "   [1] \"t\" \"t\" \"g\" \"g\" \"t\" \"c\" \"g\" \"g\" \"g\" \"g\" \"g\" \"c\" \"g\" \"g\" \"c\" \"g\" \"t\" \"c\"\n",
       "  [19] \"a\" \"g\" \"t\" \"c\" \"t\" \"g\" \"a\" \"a\" \"c\" \"g\" \"c\" \"c\" \"t\" \"t\" \"a\" \"c\" \"g\" \"c\"\n",
       "  [37] \"g\" \"g\" \"c\" \"g\" \"c\" \"t\" \"g\" \"c\" \"g\" \"g\" \"c\" \"t\" \"t\" \"t\" \"g\" \"t\" \"c\" \"c\"\n",
       "  [55] \"g\" \"a\" \"a\" \"g\" \"c\" \"g\" \"g\" \"a\" \"c\" \"g\" \"c\" \"g\" \"c\" \"g\" \"g\" \"c\" \"t\" \"g\"\n",
       "  [73] \"t\" \"c\" \"g\" \"a\" \"g\" \"c\" \"g\" \"c\" \"g\" \"g\" \"g\" \"g\" \"a\" \"a\" \"c\" \"c\" \"g\" \"c\"\n",
       "  [91] \"g\" \"t\" \"c\" \"t\" \"c\" \"g\" \"a\" \"c\" \"c\" \"g\" \"g\" \"g\" \"c\" \"g\" \"a\" \"c\" \"g\" \"c\"\n",
       " [109] \"a\" \"t\" \"c\" \"g\" \"a\" \"c\" \"t\" \"c\" \"g\" \"c\" \"c\" \"a\" \"c\" \"g\" \"c\" \"g\" \"a\" \"c\"\n",
       " [127] \"a\" \"a\" \"c\" \"g\" \"g\" \"c\" \"g\" \"c\" \"g\" \"a\" \"c\" \"c\" \"t\" \"g\" \"g\" \"a\" \"g\" \"c\"\n",
       " [145] \"a\" \"t\" \"c\" \"t\" \"c\" \"g\" \"c\" \"g\" \"g\" \"c\" \"g\" \"t\" \"a\" \"t\" \"g\" \"g\" \"c\" \"g\"\n",
       " [163] \"a\" \"c\" \"g\" \"g\" \"a\" \"a\" \"g\" \"c\" \"c\" \"c\" \"g\" \"c\" \"a\" \"g\" \"c\" \"t\" \"t\" \"c\"\n",
       " [181] \"c\" \"a\" \"g\" \"g\" \"t\" \"c\" \"g\" \"t\" \"c\" \"a\" \"a\" \"t\" \"g\" \"a\" \"c\" \"a\" \"g\" \"c\"\n",
       " [199] \"c\" \"t\" \"g\" \"g\" \"c\" \"g\" \"c\" \"g\" \"c\" \"g\" \"g\" \"c\" \"g\" \"c\" \"g\" \"t\" \"c\" \"g\"\n",
       " [217] \"a\" \"t\" \"g\" \"t\" \"t\" \"g\" \"g\" \"a\" \"c\" \"g\" \"t\" \"c\" \"g\" \"c\" \"c\" \"g\" \"c\" \"g\"\n",
       " [235] \"g\" \"c\" \"c\" \"g\" \"g\" \"g\" \"g\" \"t\" \"g\" \"g\" \"a\" \"g\" \"c\" \"a\" \"g\" \"a\" \"t\" \"c\"\n",
       " [253] \"c\" \"a\" \"c\" \"g\" \"a\" \"t\" \"t\" \"t\" \"t\" \"c\" \"t\" \"g\" \"g\" \"c\" \"g\" \"a\" \"c\" \"g\"\n",
       " [271] \"g\" \"c\" \"g\" \"c\" \"g\" \"t\" \"g\" \"a\" \"g\" \"a\" \"a\" \"g\" \"g\" \"c\" \"t\" \"c\" \"t\" \"a\"\n",
       " [289] \"g\" \"c\" \"c\" \"t\" \"t\" \"g\" \"c\" \"g\" \"c\" \"g\" \"a\" \"c\" \"c\" \"c\" \"g\" \"t\" \"c\" \"c\"\n",
       " [307] \"c\" \"t\" \"c\" \"g\" \"a\" \"c\" \"g\" \"a\" \"g\" \"c\" \"c\" \"c\" \"t\" \"c\" \"g\" \"a\" \"a\" \"g\"\n",
       " [325] \"c\" \"t\" \"c\" \"g\" \"c\" \"c\" \"c\" \"t\" \"g\" \"g\" \"t\" \"c\" \"g\" \"c\" \"c\" \"g\" \"a\" \"c\"\n",
       " [343] \"g\" \"t\" \"g\" \"a\" \"a\" \"g\" \"a\" \"t\" \"g\" \"c\" \"t\" \"t\" \"g\" \"t\" \"c\" \"g\" \"a\" \"t\"\n",
       " [361] \"c\" \"a\" \"g\" \"g\" \"t\" \"c\" \"a\" \"a\" \"t\" \"c\" \"g\" \"c\" \"g\" \"t\" \"c\" \"g\" \"c\" \"c\"\n",
       " [379] \"a\" \"t\" \"g\" \"c\" \"a\" \"a\" \"g\" \"c\" \"g\" \"g\" \"t\" \"g\" \"t\" \"t\" \"c\" \"g\" \"a\" \"c\"\n",
       " [397] \"g\" \"g\" \"c\" \"a\" \"a\" \"g\" \"c\" \"g\" \"g\" \"c\" \"c\" \"g\" \"c\" \"t\" \"g\" \"g\" \"c\" \"c\"\n",
       " [415] \"g\" \"a\" \"c\" \"a\" \"a\" \"g\" \"c\" \"t\" \"c\" \"a\" \"c\" \"a\" \"a\" \"c\" \"c\" \"g\" \"g\" \"c\"\n",
       " [433] \"t\" \"c\" \"g\" \"g\" \"t\" \"g\" \"a\" \"c\" \"c\" \"t\" \"a\" \"t\" \"a\" \"g\" \"c\" \"c\" \"a\" \"g\"\n",
       " [451] \"a\" \"c\" \"c\" \"a\" \"c\" \"c\" \"t\" \"a\" \"c\" \"a\" \"a\" \"c\" \"c\" \"c\" \"g\" \"g\" \"t\" \"g\"\n",
       " [469] \"a\" \"c\" \"a\" \"a\" \"c\" \"g\" \"g\" \"c\" \"g\" \"g\" \"c\" \"g\" \"a\" \"c\" \"g\" \"c\" \"c\" \"g\"\n",
       " [487] \"g\" \"c\" \"g\" \"a\" \"g\" \"c\" \"c\" \"t\" \"g\" \"g\" \"g\" \"c\" \"g\" \"g\" \"a\" \"g\" \"c\" \"c\"\n",
       " [505] \"t\" \"t\" \"c\" \"g\" \"t\" \"c\" \"a\" \"a\" \"c\" \"g\" \"c\" \"c\" \"t\" \"c\" \"g\" \"g\" \"g\" \"c\"\n",
       " [523] \"g\" \"t\" \"g\" \"g\" \"c\" \"c\" \"g\" \"c\" \"c\" \"c\" \"a\" \"g\" \"a\" \"c\" \"c\" \"t\" \"t\" \"t\"\n",
       " [541] \"c\" \"t\" \"c\" \"c\" \"g\" \"c\" \"g\" \"a\" \"c\" \"g\" \"g\" \"c\" \"g\" \"g\" \"c\" \"g\" \"c\" \"a\"\n",
       " [559] \"a\" \"c\" \"g\" \"c\" \"c\" \"c\" \"g\" \"g\" \"t\" \"c\" \"g\" \"g\" \"a\" \"t\" \"c\" \"g\" \"a\" \"c\"\n",
       " [577] \"c\" \"t\" \"c\" \"t\" \"a\" \"t\" \"c\" \"t\" \"g\" \"g\" \"a\" \"c\" \"g\" \"c\" \"t\" \"t\" \"a\" \"t\"\n",
       " [595] \"g\" \"g\" \"g\" \"g\" \"t\" \"g\" \"c\" \"c\" \"g\" \"g\" \"a\" \"c\" \"g\" \"t\" \"t\" \"c\" \"t\" \"g\"\n",
       " [613] \"g\" \"a\" \"g\" \"a\" \"t\" \"c\" \"t\" \"g\" \"g\" \"c\" \"a\" \"a\" \"g\" \"g\" \"c\" \"g\" \"g\" \"c\"\n",
       " [631] \"g\" \"c\" \"g\" \"c\" \"g\" \"c\" \"c\" \"g\" \"c\" \"g\" \"c\" \"g\" \"g\" \"c\" \"c\" \"a\" \"c\" \"g\"\n",
       " [649] \"g\" \"g\" \"t\" \"c\" \"a\" \"g\" \"g\" \"g\" \"c\" \"t\" \"t\" \"t\" \"g\" \"t\" \"t\" \"g\" \"g\" \"c\"\n",
       " [667] \"g\" \"g\" \"c\" \"g\" \"g\" \"c\" \"g\" \"c\" \"g\" \"c\" \"c\" \"g\" \"g\" \"t\" \"g\" \"g\" \"c\" \"c\"\n",
       " [685] \"g\" \"c\" \"g\" \"g\" \"g\" \"c\" \"a\" \"c\" \"g\" \"g\" \"c\" \"g\" \"g\" \"t\" \"g\" \"t\" \"c\" \"c\"\n",
       " [703] \"g\" \"g\" \"c\" \"c\" \"g\" \"c\" \"t\" \"c\" \"g\" \"a\" \"t\" \"c\" \"c\" \"t\" \"c\" \"a\" \"g\" \"c\"\n",
       " [721] \"t\" \"t\" \"c\" \"g\" \"a\" \"c\" \"t\" \"a\" \"c\" \"a\" \"a\" \"c\" \"c\" \"c\" \"c\" \"g\" \"c\" \"c\"\n",
       " [739] \"a\" \"g\" \"c\" \"g\" \"g\" \"c\" \"c\" \"a\" \"c\" \"g\" \"a\" \"t\" \"a\" \"t\" \"c\" \"g\" \"a\" \"g\"\n",
       " [757] \"t\" \"t\" \"c\" \"c\" \"g\" \"c\" \"t\" \"t\" \"c\" \"a\" \"a\" \"c\" \"g\" \"a\" \"g\" \"g\" \"c\" \"g\"\n",
       " [775] \"g\" \"g\" \"a\" \"a\" \"g\" \"c\" \"c\" \"t\" \"g\" \"g\" \"c\" \"c\" \"g\" \"g\" \"c\" \"a\" \"c\" \"g\"\n",
       " [793] \"g\" \"c\" \"c\" \"t\" \"g\" \"g\" \"g\" \"c\" \"g\" \"g\" \"t\" \"g\" \"g\" \"a\" \"c\" \"g\" \"c\" \"g\"\n",
       " [811] \"a\" \"t\" \"c\" \"g\" \"c\" \"c\" \"c\" \"t\" \"t\" \"c\" \"a\" \"g\" \"c\" \"c\" \"c\" \"c\" \"t\" \"g\"\n",
       " [829] \"g\" \"c\" \"c\" \"a\" \"g\" \"c\" \"g\" \"c\" \"g\" \"c\" \"g\" \"g\" \"c\" \"c\" \"a\" \"a\" \"c\" \"g\"\n",
       " [847] \"a\" \"c\" \"c\" \"a\" \"a\" \"c\" \"a\" \"c\" \"c\" \"a\" \"c\" \"c\" \"a\" \"g\" \"c\" \"t\" \"t\" \"c\"\n",
       " [865] \"a\" \"c\" \"t\" \"g\" \"t\" \"g\" \"c\" \"c\" \"g\" \"g\" \"a\" \"c\" \"g\" \"t\" \"c\" \"a\" \"c\" \"c\"\n",
       " [883] \"a\" \"c\" \"c\" \"t\" \"c\" \"g\" \"t\" \"c\" \"g\" \"g\" \"c\" \"c\" \"a\" \"c\" \"c\" \"g\" \"g\" \"c\"\n",
       " [901] \"t\" \"a\" \"c\" \"g\" \"a\" \"c\" \"t\" \"t\" \"c\" \"a\" \"c\" \"c\" \"t\" \"c\" \"c\" \"g\" \"a\" \"c\"\n",
       " [919] \"c\" \"c\" \"c\" \"a\" \"a\" \"c\" \"g\" \"g\" \"c\" \"g\" \"g\" \"g\" \"a\" \"g\" \"t\" \"g\" \"a\" \"g\"\n",
       " [937] \"c\" \"t\" \"g\" \"g\" \"t\" \"c\" \"a\" \"c\" \"c\" \"t\" \"c\" \"g\" \"c\" \"a\" \"g\" \"c\" \"c\" \"g\"\n",
       " [955] \"c\" \"t\" \"g\" \"a\" \"c\" \"g\" \"g\" \"c\" \"c\" \"g\" \"a\" \"g\" \"g\" \"c\" \"c\" \"t\" \"t\" \"g\"\n",
       " [973] \"g\" \"a\" \"c\" \"c\" \"t\" \"g\" \"g\" \"a\" \"c\" \"a\" \"c\" \"c\" \"a\" \"t\" \"c\" \"g\" \"a\" \"c\"\n",
       " [991] \"t\" \"g\" \"g\" \"a\" \"c\" \"c\" \"a\" \"a\" \"t\" \"g\" \"t\" \"c\" \"g\" \"g\" \"c\" \"g\" \"g\" \"a\"\n",
       "[1009] \"a\" \"t\" \"c\" \"t\" \"t\" \"c\" \"g\" \"a\" \"g\" \"t\" \"c\" \"c\" \"g\" \"t\" \"g\" \"g\" \"a\" \"g\"\n",
       "[1027] \"c\" \"a\" \"g\" \"g\" \"c\" \"g\" \"c\" \"t\" \"c\" \"a\" \"a\" \"c\" \"a\" \"a\" \"g\" \"a\" \"c\" \"g\"\n",
       "[1045] \"c\" \"g\" \"t\" \"g\" \"c\" \"g\" \"g\" \"c\" \"c\" \"g\" \"g\" \"t\" \"a\" \"t\" \"c\" \"t\" \"a\" \"t\"\n",
       "[1063] \"t\" \"t\" \"t\" \"g\" \"g\" \"c\" \"g\" \"g\" \"c\" \"c\" \"g\" \"c\" \"c\" \"a\" \"g\" \"g\" \"a\" \"a\"\n",
       "[1081] \"a\" \"g\" \"c\" \"t\" \"t\" \"c\" \"g\" \"c\" \"c\" \"g\" \"g\" \"c\" \"c\" \"t\" \"g\" \"a\" \"t\" \"c\"\n",
       "[1099] \"g\" \"c\" \"c\" \"c\" \"a\" \"g\" \"a\" \"a\" \"c\" \"c\" \"g\" \"c\" \"c\" \"t\" \"g\" \"a\" \"t\" \"g\"\n",
       "[1117] \"a\" \"g\" \"c\" \"g\" \"a\" \"c\" \"a\" \"c\" \"c\" \"t\" \"t\" \"g\" \"g\" \"c\" \"g\" \"a\" \"c\" \"a\"\n",
       "[1135] \"g\" \"g\" \"c\" \"g\" \"t\" \"c\" \"g\" \"g\" \"c\" \"a\" \"a\" \"t\" \"c\" \"t\" \"g\" \"g\" \"t\" \"c\"\n",
       "[1153] \"g\" \"a\" \"t\" \"g\" \"c\" \"g\" \"g\" \"a\" \"c\" \"c\" \"t\" \"c\" \"g\" \"c\" \"g\" \"c\" \"g\" \"g\"\n",
       "[1171] \"g\" \"a\" \"g\" \"t\" \"c\" \"c\" \"g\" \"c\" \"c\" \"c\" \"g\" \"c\" \"c\" \"t\" \"c\" \"c\" \"a\" \"g\"\n",
       "[1189] \"g\" \"c\" \"c\" \"c\" \"t\" \"g\" \"g\" \"a\" \"a\" \"g\" \"c\" \"c\" \"t\" \"c\" \"g\" \"g\" \"c\" \"c\"\n",
       "[1207] \"a\" \"g\" \"c\" \"c\" \"t\" \"c\" \"g\" \"c\" \"c\" \"a\" \"g\" \"c\" \"c\" \"a\" \"g\" \"g\" \"c\" \"g\"\n",
       "[1225] \"c\" \"t\" \"g\" \"t\" \"c\" \"g\" \"a\" \"t\" \"c\" \"g\" \"c\" \"c\" \"a\" \"a\" \"c\" \"a\" \"g\" \"c\"\n",
       "[1243] \"c\" \"a\" \"g\" \"c\" \"a\" \"g\" \"a\" \"g\" \"c\" \"t\" \"g\" \"g\" \"g\" \"t\" \"c\" \"c\" \"t\" \"c\"\n",
       "[1261] \"g\" \"g\" \"c\" \"c\" \"t\" \"g\" \"t\" \"t\" \"c\" \"a\" \"a\" \"c\" \"t\" \"g\" \"a\"\n",
       "attr(,\"name\")\n",
       "[1] \"lcl|AE005673.1_cds_AAK24938.1_1\"\n",
       "attr(,\"Annot\")\n",
       "[1] \">lcl|AE005673.1_cds_AAK24938.1_1 [locus_tag=CC_2976] [protein=flagellin, putative] [protein_id=AAK24938.1] [location=3195520..3196794] [gbkey=CDS]\"\n",
       "attr(,\"class\")\n",
       "[1] \"SeqFastadna\"\n",
       "\n",
       "$`lcl|AY353517.1_cds_AAR10729.1_1`\n",
       "   [1] \"a\" \"t\" \"g\" \"g\" \"c\" \"a\" \"c\" \"a\" \"a\" \"g\" \"t\" \"c\" \"a\" \"t\" \"t\" \"a\" \"a\" \"t\"\n",
       "  [19] \"a\" \"c\" \"a\" \"a\" \"a\" \"c\" \"a\" \"g\" \"c\" \"c\" \"t\" \"g\" \"t\" \"c\" \"g\" \"c\" \"t\" \"g\"\n",
       "  [37] \"t\" \"t\" \"g\" \"a\" \"c\" \"c\" \"c\" \"a\" \"g\" \"a\" \"a\" \"t\" \"a\" \"a\" \"c\" \"c\" \"t\" \"g\"\n",
       "  [55] \"a\" \"a\" \"c\" \"a\" \"a\" \"a\" \"t\" \"c\" \"c\" \"c\" \"a\" \"g\" \"t\" \"c\" \"c\" \"g\" \"c\" \"a\"\n",
       "  [73] \"c\" \"t\" \"g\" \"g\" \"g\" \"c\" \"a\" \"c\" \"c\" \"g\" \"c\" \"t\" \"a\" \"t\" \"t\" \"g\" \"a\" \"g\"\n",
       "  [91] \"c\" \"g\" \"t\" \"c\" \"t\" \"g\" \"t\" \"c\" \"t\" \"t\" \"c\" \"c\" \"g\" \"g\" \"t\" \"c\" \"t\" \"g\"\n",
       " [109] \"c\" \"g\" \"t\" \"a\" \"t\" \"c\" \"a\" \"a\" \"c\" \"a\" \"g\" \"c\" \"g\" \"c\" \"g\" \"a\" \"a\" \"a\"\n",
       " [127] \"g\" \"a\" \"c\" \"g\" \"a\" \"t\" \"g\" \"c\" \"g\" \"g\" \"c\" \"a\" \"g\" \"g\" \"t\" \"c\" \"a\" \"g\"\n",
       " [145] \"g\" \"c\" \"g\" \"a\" \"t\" \"t\" \"g\" \"c\" \"t\" \"a\" \"a\" \"c\" \"c\" \"g\" \"t\" \"t\" \"t\" \"c\"\n",
       " [163] \"a\" \"c\" \"c\" \"g\" \"c\" \"g\" \"a\" \"a\" \"c\" \"a\" \"t\" \"c\" \"a\" \"a\" \"a\" \"g\" \"g\" \"c\"\n",
       " [181] \"c\" \"t\" \"g\" \"a\" \"c\" \"t\" \"c\" \"a\" \"g\" \"g\" \"c\" \"t\" \"t\" \"c\" \"c\" \"c\" \"g\" \"t\"\n",
       " [199] \"a\" \"a\" \"c\" \"g\" \"c\" \"t\" \"a\" \"a\" \"c\" \"g\" \"a\" \"c\" \"g\" \"g\" \"t\" \"a\" \"t\" \"t\"\n",
       " [217] \"t\" \"c\" \"t\" \"a\" \"t\" \"t\" \"g\" \"c\" \"g\" \"c\" \"a\" \"g\" \"a\" \"c\" \"c\" \"a\" \"c\" \"t\"\n",
       " [235] \"g\" \"a\" \"a\" \"g\" \"g\" \"c\" \"g\" \"c\" \"g\" \"c\" \"t\" \"g\" \"a\" \"a\" \"c\" \"g\" \"a\" \"a\"\n",
       " [253] \"a\" \"t\" \"c\" \"a\" \"a\" \"c\" \"a\" \"a\" \"c\" \"a\" \"a\" \"c\" \"c\" \"t\" \"g\" \"c\" \"a\" \"g\"\n",
       " [271] \"c\" \"g\" \"t\" \"g\" \"t\" \"g\" \"c\" \"g\" \"t\" \"g\" \"a\" \"a\" \"c\" \"t\" \"g\" \"g\" \"c\" \"g\"\n",
       " [289] \"g\" \"t\" \"t\" \"c\" \"a\" \"g\" \"t\" \"c\" \"t\" \"g\" \"c\" \"t\" \"a\" \"a\" \"c\" \"a\" \"g\" \"c\"\n",
       " [307] \"a\" \"c\" \"c\" \"a\" \"a\" \"c\" \"t\" \"c\" \"c\" \"c\" \"a\" \"g\" \"t\" \"c\" \"t\" \"g\" \"a\" \"c\"\n",
       " [325] \"c\" \"t\" \"c\" \"g\" \"a\" \"c\" \"t\" \"c\" \"t\" \"a\" \"t\" \"c\" \"c\" \"a\" \"g\" \"g\" \"c\" \"t\"\n",
       " [343] \"g\" \"a\" \"a\" \"a\" \"t\" \"c\" \"a\" \"c\" \"c\" \"c\" \"a\" \"g\" \"c\" \"g\" \"t\" \"c\" \"t\" \"g\"\n",
       " [361] \"a\" \"a\" \"c\" \"g\" \"a\" \"a\" \"a\" \"t\" \"c\" \"g\" \"a\" \"c\" \"c\" \"g\" \"t\" \"g\" \"t\" \"a\"\n",
       " [379] \"t\" \"c\" \"c\" \"g\" \"g\" \"t\" \"c\" \"a\" \"g\" \"a\" \"c\" \"t\" \"c\" \"a\" \"g\" \"t\" \"t\" \"c\"\n",
       " [397] \"a\" \"a\" \"c\" \"g\" \"g\" \"c\" \"g\" \"t\" \"g\" \"a\" \"a\" \"a\" \"g\" \"t\" \"t\" \"c\" \"t\" \"g\"\n",
       " [415] \"g\" \"c\" \"g\" \"c\" \"a\" \"g\" \"g\" \"a\" \"c\" \"a\" \"a\" \"c\" \"a\" \"c\" \"c\" \"c\" \"t\" \"g\"\n",
       " [433] \"a\" \"c\" \"c\" \"a\" \"t\" \"c\" \"c\" \"a\" \"g\" \"g\" \"t\" \"t\" \"g\" \"g\" \"c\" \"g\" \"c\" \"c\"\n",
       " [451] \"a\" \"a\" \"t\" \"g\" \"a\" \"c\" \"g\" \"g\" \"t\" \"g\" \"a\" \"a\" \"a\" \"c\" \"t\" \"a\" \"t\" \"c\"\n",
       " [469] \"g\" \"a\" \"c\" \"a\" \"t\" \"c\" \"g\" \"a\" \"t\" \"c\" \"t\" \"g\" \"a\" \"a\" \"g\" \"c\" \"a\" \"g\"\n",
       " [487] \"a\" \"t\" \"c\" \"a\" \"a\" \"c\" \"t\" \"c\" \"t\" \"c\" \"a\" \"g\" \"a\" \"c\" \"c\" \"c\" \"t\" \"g\"\n",
       " [505] \"g\" \"g\" \"t\" \"c\" \"t\" \"g\" \"g\" \"a\" \"t\" \"a\" \"c\" \"g\" \"c\" \"t\" \"g\" \"a\" \"a\" \"t\"\n",
       " [523] \"g\" \"t\" \"g\" \"c\" \"a\" \"g\" \"a\" \"a\" \"a\" \"a\" \"a\" \"a\" \"t\" \"a\" \"t\" \"g\" \"a\" \"t\"\n",
       " [541] \"g\" \"t\" \"g\" \"a\" \"a\" \"g\" \"a\" \"g\" \"c\" \"g\" \"a\" \"a\" \"g\" \"t\" \"t\" \"g\" \"t\" \"t\"\n",
       " [559] \"a\" \"c\" \"t\" \"g\" \"a\" \"t\" \"g\" \"g\" \"t\" \"a\" \"g\" \"t\" \"g\" \"g\" \"t\" \"g\" \"g\" \"t\"\n",
       " [577] \"a\" \"a\" \"g\" \"g\" \"c\" \"a\" \"t\" \"t\" \"t\" \"g\" \"a\" \"t\" \"c\" \"t\" \"c\" \"a\" \"c\" \"c\"\n",
       " [595] \"g\" \"c\" \"g\" \"c\" \"t\" \"t\" \"a\" \"a\" \"t\" \"g\" \"a\" \"t\" \"a\" \"c\" \"t\" \"a\" \"a\" \"c\"\n",
       " [613] \"c\" \"t\" \"t\" \"a\" \"a\" \"g\" \"g\" \"c\" \"t\" \"g\" \"c\" \"a\" \"g\" \"t\" \"t\" \"g\" \"g\" \"t\"\n",
       " [631] \"g\" \"g\" \"g\" \"a\" \"c\" \"t\" \"c\" \"c\" \"t\" \"g\" \"c\" \"t\" \"c\" \"c\" \"g\" \"a\" \"c\" \"a\"\n",
       " [649] \"g\" \"g\" \"a\" \"a\" \"c\" \"c\" \"g\" \"c\" \"t\" \"g\" \"t\" \"a\" \"g\" \"t\" \"a\" \"a\" \"a\" \"a\"\n",
       " [667] \"g\" \"a\" \"t\" \"g\" \"a\" \"t\" \"a\" \"a\" \"a\" \"g\" \"t\" \"a\" \"t\" \"a\" \"t\" \"t\" \"a\" \"t\"\n",
       " [685] \"a\" \"a\" \"c\" \"a\" \"g\" \"c\" \"g\" \"c\" \"t\" \"g\" \"a\" \"c\" \"g\" \"a\" \"t\" \"a\" \"a\" \"a\"\n",
       " [703] \"t\" \"a\" \"t\" \"t\" \"t\" \"c\" \"g\" \"t\" \"c\" \"g\" \"a\" \"g\" \"a\" \"t\" \"t\" \"g\" \"a\" \"t\"\n",
       " [721] \"g\" \"g\" \"g\" \"c\" \"t\" \"a\" \"a\" \"g\" \"t\" \"a\" \"g\" \"t\" \"g\" \"g\" \"t\" \"a\" \"a\" \"t\"\n",
       " [739] \"g\" \"g\" \"c\" \"t\" \"t\" \"c\" \"t\" \"a\" \"t\" \"g\" \"a\" \"a\" \"g\" \"t\" \"t\" \"a\" \"g\" \"c\"\n",
       " [757] \"g\" \"c\" \"a\" \"a\" \"a\" \"t\" \"g\" \"c\" \"a\" \"a\" \"c\" \"a\" \"a\" \"c\" \"t\" \"g\" \"g\" \"t\"\n",
       " [775] \"g\" \"c\" \"t\" \"c\" \"t\" \"t\" \"a\" \"c\" \"a\" \"a\" \"t\" \"t\" \"g\" \"g\" \"t\" \"g\" \"c\" \"a\"\n",
       " [793] \"g\" \"g\" \"g\" \"t\" \"t\" \"a\" \"a\" \"c\" \"a\" \"a\" \"c\" \"g\" \"g\" \"c\" \"t\" \"g\" \"g\" \"c\"\n",
       " [811] \"g\" \"c\" \"a\" \"a\" \"c\" \"g\" \"g\" \"t\" \"a\" \"c\" \"c\" \"g\" \"g\" \"c\" \"g\" \"g\" \"g\" \"t\"\n",
       " [829] \"g\" \"c\" \"t\" \"g\" \"a\" \"a\" \"g\" \"a\" \"a\" \"g\" \"t\" \"t\" \"a\" \"c\" \"a\" \"t\" \"c\" \"t\"\n",
       " [847] \"g\" \"t\" \"g\" \"c\" \"a\" \"g\" \"t\" \"c\" \"a\" \"a\" \"a\" \"a\" \"c\" \"c\" \"c\" \"g\" \"t\" \"a\"\n",
       " [865] \"g\" \"c\" \"t\" \"c\" \"t\" \"c\" \"a\" \"g\" \"t\" \"g\" \"c\" \"t\" \"g\" \"a\" \"t\" \"g\" \"t\" \"t\"\n",
       " [883] \"a\" \"a\" \"a\" \"a\" \"a\" \"a\" \"c\" \"a\" \"a\" \"t\" \"t\" \"g\" \"a\" \"c\" \"t\" \"g\" \"a\" \"t\"\n",
       " [901] \"a\" \"g\" \"t\" \"g\" \"g\" \"c\" \"g\" \"t\" \"t\" \"a\" \"g\" \"c\" \"g\" \"t\" \"a\" \"g\" \"c\" \"g\"\n",
       " [919] \"g\" \"a\" \"c\" \"g\" \"c\" \"t\" \"g\" \"g\" \"t\" \"a\" \"a\" \"a\" \"g\" \"g\" \"c\" \"c\" \"g\" \"a\"\n",
       " [937] \"t\" \"t\" \"a\" \"g\" \"t\" \"c\" \"a\" \"c\" \"a\" \"a\" \"t\" \"g\" \"t\" \"c\" \"t\" \"t\" \"a\" \"t\"\n",
       " [955] \"a\" \"c\" \"t\" \"g\" \"a\" \"t\" \"a\" \"a\" \"a\" \"a\" \"a\" \"c\" \"g\" \"g\" \"t\" \"a\" \"a\" \"g\"\n",
       " [973] \"a\" \"c\" \"t\" \"a\" \"t\" \"t\" \"g\" \"a\" \"t\" \"g\" \"g\" \"c\" \"g\" \"g\" \"t\" \"t\" \"t\" \"c\"\n",
       " [991] \"g\" \"g\" \"t\" \"g\" \"t\" \"t\" \"a\" \"a\" \"a\" \"g\" \"t\" \"t\" \"g\" \"g\" \"g\" \"g\" \"c\" \"t\"\n",
       "[1009] \"g\" \"a\" \"t\" \"a\" \"t\" \"t\" \"t\" \"a\" \"t\" \"g\" \"c\" \"t\" \"g\" \"c\" \"a\" \"a\" \"c\" \"a\"\n",
       "[1027] \"a\" \"a\" \"a\" \"a\" \"a\" \"t\" \"a\" \"a\" \"a\" \"g\" \"a\" \"t\" \"g\" \"g\" \"a\" \"t\" \"c\" \"g\"\n",
       "[1045] \"a\" \"t\" \"c\" \"a\" \"g\" \"c\" \"a\" \"t\" \"t\" \"a\" \"a\" \"c\" \"a\" \"c\" \"c\" \"a\" \"c\" \"t\"\n",
       "[1063] \"a\" \"a\" \"a\" \"t\" \"a\" \"t\" \"a\" \"c\" \"c\" \"g\" \"a\" \"t\" \"a\" \"a\" \"a\" \"g\" \"a\" \"c\"\n",
       "[1081] \"g\" \"g\" \"c\" \"a\" \"a\" \"t\" \"a\" \"c\" \"t\" \"a\" \"a\" \"a\" \"t\" \"c\" \"t\" \"g\" \"c\" \"a\"\n",
       "[1099] \"c\" \"t\" \"a\" \"a\" \"a\" \"c\" \"a\" \"a\" \"a\" \"c\" \"t\" \"g\" \"g\" \"g\" \"t\" \"g\" \"g\" \"c\"\n",
       "[1117] \"g\" \"c\" \"a\" \"g\" \"a\" \"c\" \"g\" \"g\" \"c\" \"a\" \"a\" \"a\" \"a\" \"c\" \"c\" \"g\" \"a\" \"a\"\n",
       "[1135] \"g\" \"t\" \"t\" \"g\" \"t\" \"t\" \"t\" \"c\" \"t\" \"a\" \"t\" \"t\" \"g\" \"g\" \"t\" \"g\" \"g\" \"t\"\n",
       "[1153] \"a\" \"a\" \"a\" \"a\" \"c\" \"t\" \"t\" \"a\" \"c\" \"g\" \"c\" \"t\" \"g\" \"c\" \"g\" \"a\" \"g\" \"t\"\n",
       "[1171] \"a\" \"a\" \"a\" \"g\" \"c\" \"c\" \"g\" \"a\" \"a\" \"g\" \"g\" \"t\" \"c\" \"a\" \"c\" \"a\" \"a\" \"c\"\n",
       "[1189] \"t\" \"t\" \"t\" \"a\" \"a\" \"a\" \"g\" \"c\" \"a\" \"c\" \"a\" \"g\" \"c\" \"c\" \"c\" \"g\" \"a\" \"t\"\n",
       "[1207] \"c\" \"t\" \"g\" \"g\" \"c\" \"g\" \"g\" \"a\" \"a\" \"g\" \"c\" \"g\" \"g\" \"c\" \"t\" \"a\" \"c\" \"c\"\n",
       "[1225] \"a\" \"c\" \"a\" \"a\" \"c\" \"c\" \"a\" \"c\" \"c\" \"g\" \"a\" \"a\" \"a\" \"a\" \"c\" \"c\" \"c\" \"g\"\n",
       "[1243] \"c\" \"t\" \"g\" \"c\" \"a\" \"g\" \"a\" \"a\" \"a\" \"a\" \"t\" \"t\" \"g\" \"a\" \"t\" \"g\" \"c\" \"t\"\n",
       "[1261] \"g\" \"c\" \"g\" \"c\" \"t\" \"g\" \"g\" \"c\" \"a\" \"c\" \"a\" \"g\" \"g\" \"t\" \"t\" \"g\" \"a\" \"c\"\n",
       "[1279] \"a\" \"c\" \"g\" \"t\" \"t\" \"a\" \"c\" \"g\" \"t\" \"t\" \"c\" \"t\" \"g\" \"a\" \"c\" \"c\" \"t\" \"g\"\n",
       "[1297] \"g\" \"g\" \"t\" \"g\" \"c\" \"g\" \"g\" \"t\" \"a\" \"c\" \"a\" \"g\" \"a\" \"a\" \"c\" \"c\" \"g\" \"t\"\n",
       "[1315] \"t\" \"t\" \"c\" \"a\" \"a\" \"c\" \"t\" \"c\" \"c\" \"g\" \"c\" \"t\" \"a\" \"t\" \"c\" \"a\" \"c\" \"c\"\n",
       "[1333] \"a\" \"a\" \"c\" \"c\" \"t\" \"g\" \"g\" \"g\" \"c\" \"a\" \"a\" \"c\" \"a\" \"c\" \"c\" \"g\" \"t\" \"a\"\n",
       "[1351] \"a\" \"a\" \"c\" \"a\" \"a\" \"c\" \"c\" \"t\" \"g\" \"a\" \"c\" \"t\" \"t\" \"c\" \"t\" \"g\" \"c\" \"c\"\n",
       "[1369] \"c\" \"g\" \"t\" \"a\" \"g\" \"c\" \"c\" \"g\" \"t\" \"a\" \"t\" \"c\" \"g\" \"a\" \"a\" \"g\" \"a\" \"t\"\n",
       "[1387] \"t\" \"c\" \"c\" \"g\" \"a\" \"c\" \"t\" \"a\" \"t\" \"g\" \"c\" \"g\" \"a\" \"c\" \"c\" \"g\" \"a\" \"a\"\n",
       "[1405] \"g\" \"t\" \"c\" \"t\" \"c\" \"c\" \"a\" \"a\" \"c\" \"a\" \"t\" \"g\" \"t\" \"c\" \"t\" \"c\" \"g\" \"c\"\n",
       "[1423] \"g\" \"c\" \"g\" \"c\" \"a\" \"g\" \"a\" \"t\" \"t\" \"c\" \"t\" \"g\" \"c\" \"a\" \"g\" \"c\" \"a\" \"g\"\n",
       "[1441] \"g\" \"c\" \"a\" \"g\" \"g\" \"g\" \"a\" \"c\" \"t\" \"t\" \"c\" \"c\" \"g\" \"t\" \"t\" \"c\" \"t\" \"g\"\n",
       "[1459] \"g\" \"c\" \"g\" \"c\" \"a\" \"g\" \"g\" \"c\" \"t\" \"a\" \"a\" \"c\" \"c\" \"a\" \"g\" \"g\" \"t\" \"t\"\n",
       "[1477] \"c\" \"c\" \"g\" \"c\" \"a\" \"a\" \"a\" \"a\" \"c\" \"g\" \"t\" \"c\" \"c\" \"t\" \"c\" \"t\" \"c\" \"t\"\n",
       "[1495] \"t\" \"t\" \"a\" \"c\" \"t\" \"g\" \"c\" \"g\" \"t\" \"t\" \"a\" \"a\"\n",
       "attr(,\"name\")\n",
       "[1] \"lcl|AY353517.1_cds_AAR10729.1_1\"\n",
       "attr(,\"Annot\")\n",
       "[1] \">lcl|AY353517.1_cds_AAR10729.1_1 [gene=fliC] [protein=phase 1 flagellin] [protein_id=AAR10729.1] [location=1..1506] [gbkey=CDS]\"\n",
       "attr(,\"class\")\n",
       "[1] \"SeqFastadna\"\n",
       "\n",
       "$`lcl|AB128918.1_cds_BAD14977.1_1`\n",
       "   [1] \"a\" \"t\" \"g\" \"g\" \"c\" \"a\" \"c\" \"a\" \"a\" \"g\" \"t\" \"t\" \"a\" \"t\" \"c\" \"a\" \"a\" \"t\"\n",
       "  [19] \"a\" \"c\" \"c\" \"a\" \"a\" \"c\" \"a\" \"g\" \"c\" \"c\" \"t\" \"g\" \"t\" \"c\" \"g\" \"c\" \"t\" \"g\"\n",
       "  [37] \"t\" \"t\" \"g\" \"a\" \"c\" \"t\" \"c\" \"a\" \"g\" \"a\" \"a\" \"c\" \"a\" \"a\" \"c\" \"c\" \"t\" \"g\"\n",
       "  [55] \"a\" \"a\" \"c\" \"a\" \"a\" \"a\" \"t\" \"c\" \"t\" \"c\" \"a\" \"g\" \"t\" \"c\" \"t\" \"t\" \"c\" \"c\"\n",
       "  [73] \"c\" \"t\" \"g\" \"a\" \"g\" \"c\" \"t\" \"c\" \"a\" \"g\" \"c\" \"c\" \"a\" \"t\" \"t\" \"g\" \"a\" \"g\"\n",
       "  [91] \"c\" \"g\" \"t\" \"c\" \"t\" \"g\" \"t\" \"c\" \"t\" \"t\" \"c\" \"c\" \"g\" \"g\" \"t\" \"c\" \"t\" \"g\"\n",
       " [109] \"c\" \"g\" \"t\" \"a\" \"t\" \"c\" \"a\" \"a\" \"c\" \"a\" \"g\" \"t\" \"g\" \"c\" \"c\" \"a\" \"a\" \"a\"\n",
       " [127] \"g\" \"a\" \"c\" \"g\" \"a\" \"t\" \"g\" \"c\" \"g\" \"g\" \"c\" \"a\" \"g\" \"g\" \"t\" \"c\" \"a\" \"g\"\n",
       " [145] \"g\" \"c\" \"g\" \"a\" \"t\" \"t\" \"g\" \"c\" \"t\" \"a\" \"a\" \"c\" \"c\" \"g\" \"t\" \"t\" \"t\" \"c\"\n",
       " [163] \"a\" \"c\" \"c\" \"g\" \"c\" \"g\" \"a\" \"a\" \"c\" \"a\" \"t\" \"c\" \"a\" \"a\" \"a\" \"g\" \"g\" \"t\"\n",
       " [181] \"c\" \"t\" \"g\" \"a\" \"c\" \"t\" \"c\" \"a\" \"g\" \"g\" \"c\" \"t\" \"t\" \"c\" \"t\" \"c\" \"g\" \"t\"\n",
       " [199] \"a\" \"a\" \"c\" \"g\" \"c\" \"c\" \"a\" \"a\" \"t\" \"g\" \"a\" \"t\" \"g\" \"g\" \"t\" \"a\" \"t\" \"t\"\n",
       " [217] \"t\" \"c\" \"t\" \"g\" \"t\" \"t\" \"g\" \"c\" \"t\" \"c\" \"a\" \"g\" \"a\" \"c\" \"c\" \"a\" \"c\" \"g\"\n",
       " [235] \"g\" \"a\" \"a\" \"g\" \"g\" \"c\" \"g\" \"c\" \"a\" \"c\" \"t\" \"g\" \"t\" \"c\" \"t\" \"g\" \"a\" \"a\"\n",
       " [253] \"a\" \"t\" \"c\" \"a\" \"a\" \"c\" \"a\" \"a\" \"t\" \"a\" \"a\" \"c\" \"t\" \"t\" \"a\" \"c\" \"a\" \"a\"\n",
       " [271] \"c\" \"g\" \"t\" \"g\" \"t\" \"c\" \"c\" \"g\" \"t\" \"g\" \"a\" \"g\" \"c\" \"t\" \"t\" \"a\" \"c\" \"a\"\n",
       " [289] \"g\" \"t\" \"t\" \"c\" \"a\" \"a\" \"g\" \"c\" \"t\" \"a\" \"c\" \"t\" \"a\" \"a\" \"c\" \"g\" \"g\" \"t\"\n",
       " [307] \"a\" \"c\" \"a\" \"a\" \"a\" \"t\" \"t\" \"c\" \"t\" \"g\" \"a\" \"t\" \"a\" \"g\" \"c\" \"g\" \"a\" \"t\"\n",
       " [325] \"t\" \"t\" \"a\" \"t\" \"c\" \"a\" \"t\" \"c\" \"a\" \"a\" \"t\" \"c\" \"c\" \"a\" \"g\" \"g\" \"c\" \"g\"\n",
       " [343] \"g\" \"a\" \"a\" \"a\" \"t\" \"a\" \"a\" \"c\" \"t\" \"c\" \"a\" \"g\" \"c\" \"g\" \"a\" \"t\" \"t\" \"a\"\n",
       " [361] \"a\" \"a\" \"t\" \"g\" \"a\" \"a\" \"a\" \"t\" \"t\" \"g\" \"a\" \"t\" \"c\" \"g\" \"c\" \"g\" \"t\" \"c\"\n",
       " [379] \"t\" \"c\" \"a\" \"g\" \"g\" \"c\" \"c\" \"a\" \"a\" \"a\" \"c\" \"a\" \"c\" \"a\" \"a\" \"t\" \"t\" \"c\"\n",
       " [397] \"a\" \"a\" \"t\" \"g\" \"g\" \"t\" \"g\" \"t\" \"t\" \"a\" \"a\" \"a\" \"g\" \"t\" \"c\" \"t\" \"t\" \"a\"\n",
       " [415] \"g\" \"c\" \"t\" \"t\" \"c\" \"t\" \"a\" \"a\" \"a\" \"a\" \"a\" \"t\" \"a\" \"c\" \"c\" \"c\" \"t\" \"t\"\n",
       " [433] \"a\" \"c\" \"a\" \"a\" \"t\" \"t\" \"c\" \"a\" \"g\" \"g\" \"t\" \"t\" \"g\" \"g\" \"t\" \"g\" \"c\" \"c\"\n",
       " [451] \"a\" \"a\" \"t\" \"g\" \"a\" \"t\" \"g\" \"g\" \"t\" \"g\" \"a\" \"g\" \"a\" \"c\" \"a\" \"a\" \"t\" \"a\"\n",
       " [469] \"g\" \"a\" \"t\" \"a\" \"t\" \"t\" \"a\" \"a\" \"c\" \"c\" \"t\" \"g\" \"a\" \"a\" \"a\" \"g\" \"a\" \"a\"\n",
       " [487] \"a\" \"t\" \"a\" \"a\" \"a\" \"t\" \"t\" \"c\" \"a\" \"c\" \"a\" \"a\" \"a\" \"c\" \"a\" \"c\" \"t\" \"t\"\n",
       " [505] \"g\" \"g\" \"t\" \"t\" \"t\" \"a\" \"g\" \"a\" \"t\" \"a\" \"a\" \"g\" \"c\" \"t\" \"t\" \"a\" \"a\" \"t\"\n",
       " [523] \"g\" \"t\" \"c\" \"c\" \"a\" \"a\" \"a\" \"a\" \"a\" \"g\" \"c\" \"a\" \"t\" \"a\" \"c\" \"a\" \"c\" \"a\"\n",
       " [541] \"c\" \"c\" \"a\" \"a\" \"g\" \"t\" \"g\" \"g\" \"c\" \"g\" \"a\" \"a\" \"a\" \"a\" \"t\" \"g\" \"t\" \"g\"\n",
       " [559] \"a\" \"a\" \"a\" \"g\" \"t\" \"t\" \"g\" \"a\" \"c\" \"a\" \"c\" \"t\" \"a\" \"c\" \"a\" \"a\" \"c\" \"t\"\n",
       " [577] \"t\" \"a\" \"t\" \"a\" \"c\" \"t\" \"a\" \"c\" \"a\" \"a\" \"c\" \"t\" \"t\" \"a\" \"t\" \"a\" \"c\" \"t\"\n",
       " [595] \"g\" \"a\" \"t\" \"g\" \"g\" \"c\" \"a\" \"c\" \"t\" \"g\" \"c\" \"t\" \"a\" \"t\" \"c\" \"a\" \"a\" \"a\"\n",
       " [613] \"a\" \"a\" \"t\" \"a\" \"a\" \"a\" \"g\" \"c\" \"t\" \"g\" \"c\" \"a\" \"t\" \"t\" \"a\" \"g\" \"c\" \"t\"\n",
       " [631] \"a\" \"c\" \"t\" \"g\" \"a\" \"t\" \"g\" \"t\" \"t\" \"a\" \"a\" \"t\" \"a\" \"a\" \"t\" \"g\" \"c\" \"t\"\n",
       " [649] \"t\" \"c\" \"t\" \"t\" \"c\" \"g\" \"a\" \"t\" \"t\" \"g\" \"g\" \"g\" \"g\" \"t\" \"t\" \"a\" \"g\" \"t\"\n",
       " [667] \"g\" \"a\" \"c\" \"g\" \"c\" \"a\" \"a\" \"t\" \"t\" \"c\" \"c\" \"a\" \"g\" \"g\" \"t\" \"g\" \"a\" \"t\"\n",
       " [685] \"a\" \"t\" \"c\" \"a\" \"a\" \"a\" \"t\" \"t\" \"t\" \"a\" \"a\" \"c\" \"g\" \"a\" \"a\" \"a\" \"c\" \"a\"\n",
       " [703] \"t\" \"c\" \"t\" \"g\" \"g\" \"a\" \"a\" \"a\" \"a\" \"t\" \"a\" \"t\" \"t\" \"a\" \"c\" \"g\" \"t\" \"t\"\n",
       " [721] \"g\" \"c\" \"a\" \"a\" \"t\" \"a\" \"a\" \"c\" \"t\" \"t\" \"c\" \"a\" \"a\" \"c\" \"a\" \"g\" \"a\" \"a\"\n",
       " [739] \"c\" \"a\" \"t\" \"a\" \"a\" \"c\" \"g\" \"a\" \"t\" \"a\" \"a\" \"a\" \"a\" \"a\" \"t\" \"g\" \"g\" \"t\"\n",
       " [757] \"g\" \"a\" \"t\" \"t\" \"a\" \"t\" \"g\" \"a\" \"a\" \"a\" \"t\" \"t\" \"a\" \"c\" \"t\" \"g\" \"t\" \"t\"\n",
       " [775] \"g\" \"a\" \"t\" \"a\" \"a\" \"a\" \"g\" \"a\" \"t\" \"g\" \"g\" \"c\" \"a\" \"g\" \"c\" \"g\" \"c\" \"t\"\n",
       " [793] \"g\" \"c\" \"a\" \"t\" \"t\" \"g\" \"g\" \"t\" \"t\" \"g\" \"c\" \"g\" \"g\" \"g\" \"t\" \"c\" \"a\" \"a\"\n",
       " [811] \"t\" \"c\" \"g\" \"t\" \"c\" \"t\" \"c\" \"c\" \"a\" \"a\" \"a\" \"a\" \"t\" \"c\" \"t\" \"c\" \"t\" \"t\"\n",
       " [829] \"g\" \"a\" \"a\" \"g\" \"a\" \"t\" \"g\" \"t\" \"a\" \"g\" \"g\" \"a\" \"g\" \"c\" \"c\" \"a\" \"c\" \"a\"\n",
       " [847] \"a\" \"a\" \"a\" \"a\" \"a\" \"t\" \"g\" \"t\" \"c\" \"a\" \"c\" \"c\" \"g\" \"c\" \"a\" \"t\" \"a\" \"t\"\n",
       " [865] \"c\" \"a\" \"a\" \"g\" \"t\" \"t\" \"g\" \"c\" \"c\" \"a\" \"a\" \"c\" \"a\" \"c\" \"a\" \"c\" \"a\" \"a\"\n",
       " [883] \"t\" \"c\" \"t\" \"a\" \"a\" \"c\" \"a\" \"c\" \"a\" \"c\" \"a\" \"a\" \"t\" \"c\" \"t\" \"g\" \"t\" \"t\"\n",
       " [901] \"g\" \"a\" \"c\" \"g\" \"c\" \"t\" \"a\" \"c\" \"t\" \"g\" \"t\" \"t\" \"a\" \"g\" \"t\" \"g\" \"c\" \"a\"\n",
       " [919] \"g\" \"g\" \"a\" \"g\" \"c\" \"t\" \"a\" \"t\" \"t\" \"t\" \"c\" \"t\" \"g\" \"a\" \"a\" \"t\" \"t\" \"g\"\n",
       " [937] \"a\" \"a\" \"a\" \"a\" \"c\" \"g\" \"g\" \"g\" \"t\" \"g\" \"g\" \"t\" \"g\" \"t\" \"t\" \"g\" \"a\" \"t\"\n",
       " [955] \"a\" \"a\" \"t\" \"a\" \"c\" \"g\" \"g\" \"c\" \"a\" \"g\" \"c\" \"t\" \"g\" \"g\" \"t\" \"a\" \"a\" \"t\"\n",
       " [973] \"g\" \"c\" \"t\" \"a\" \"a\" \"g\" \"t\" \"t\" \"a\" \"g\" \"t\" \"g\" \"a\" \"a\" \"a\" \"a\" \"t\" \"g\"\n",
       " [991] \"a\" \"c\" \"c\" \"t\" \"a\" \"c\" \"a\" \"c\" \"c\" \"g\" \"a\" \"t\" \"a\" \"g\" \"c\" \"a\" \"a\" \"c\"\n",
       "[1009] \"g\" \"g\" \"t\" \"a\" \"a\" \"a\" \"a\" \"a\" \"a\" \"g\" \"t\" \"c\" \"g\" \"a\" \"a\" \"g\" \"g\" \"c\"\n",
       "[1027] \"g\" \"g\" \"t\" \"t\" \"a\" \"c\" \"g\" \"c\" \"c\" \"c\" \"t\" \"t\" \"a\" \"a\" \"a\" \"g\" \"t\" \"t\"\n",
       "[1045] \"g\" \"g\" \"t\" \"g\" \"a\" \"t\" \"g\" \"a\" \"c\" \"t\" \"a\" \"c\" \"t\" \"a\" \"t\" \"g\" \"c\" \"a\"\n",
       "[1063] \"g\" \"c\" \"t\" \"g\" \"a\" \"t\" \"t\" \"a\" \"t\" \"g\" \"a\" \"a\" \"a\" \"g\" \"c\" \"a\" \"c\" \"t\"\n",
       "[1081] \"a\" \"g\" \"c\" \"a\" \"a\" \"a\" \"a\" \"c\" \"c\" \"g\" \"t\" \"g\" \"a\" \"c\" \"t\" \"g\" \"t\" \"t\"\n",
       "[1099] \"c\" \"g\" \"t\" \"a\" \"c\" \"a\" \"a\" \"c\" \"t\" \"t\" \"c\" \"c\" \"t\" \"a\" \"t\" \"a\" \"a\" \"a\"\n",
       "[1117] \"g\" \"a\" \"t\" \"g\" \"t\" \"t\" \"g\" \"a\" \"t\" \"g\" \"g\" \"a\" \"g\" \"t\" \"a\" \"c\" \"c\" \"a\"\n",
       "[1135] \"c\" \"a\" \"g\" \"a\" \"a\" \"g\" \"g\" \"g\" \"t\" \"t\" \"t\" \"a\" \"a\" \"a\" \"t\" \"a\" \"a\" \"a\"\n",
       "[1153] \"a\" \"t\" \"c\" \"g\" \"g\" \"t\" \"g\" \"g\" \"c\" \"g\" \"c\" \"g\" \"g\" \"a\" \"c\" \"g\" \"g\" \"t\"\n",
       "[1171] \"a\" \"a\" \"a\" \"a\" \"c\" \"c\" \"g\" \"a\" \"a\" \"a\" \"c\" \"a\" \"g\" \"t\" \"a\" \"a\" \"c\" \"c\"\n",
       "[1189] \"a\" \"t\" \"a\" \"g\" \"g\" \"t\" \"g\" \"a\" \"a\" \"a\" \"a\" \"a\" \"a\" \"c\" \"t\" \"t\" \"a\" \"t\"\n",
       "[1207] \"g\" \"c\" \"c\" \"g\" \"c\" \"t\" \"g\" \"a\" \"t\" \"a\" \"a\" \"a\" \"t\" \"t\" \"a\" \"a\" \"a\" \"a\"\n",
       "[1225] \"g\" \"a\" \"t\" \"c\" \"a\" \"t\" \"g\" \"a\" \"c\" \"t\" \"t\" \"c\" \"a\" \"g\" \"t\" \"a\" \"a\" \"a\"\n",
       "[1243] \"c\" \"a\" \"a\" \"g\" \"c\" \"t\" \"a\" \"c\" \"c\" \"t\" \"t\" \"a\" \"g\" \"g\" \"t\" \"g\" \"a\" \"a\"\n",
       "[1261] \"g\" \"a\" \"a\" \"g\" \"c\" \"a\" \"a\" \"c\" \"a\" \"a\" \"c\" \"a\" \"a\" \"c\" \"t\" \"a\" \"c\" \"t\"\n",
       "[1279] \"g\" \"t\" \"a\" \"a\" \"a\" \"c\" \"c\" \"c\" \"a\" \"t\" \"t\" \"g\" \"g\" \"a\" \"t\" \"g\" \"c\" \"a\"\n",
       "[1297] \"a\" \"t\" \"t\" \"g\" \"a\" \"t\" \"a\" \"a\" \"a\" \"g\" \"c\" \"t\" \"t\" \"t\" \"a\" \"g\" \"c\" \"g\"\n",
       "[1315] \"c\" \"a\" \"g\" \"g\" \"t\" \"t\" \"g\" \"a\" \"c\" \"t\" \"c\" \"c\" \"t\" \"t\" \"g\" \"c\" \"g\" \"t\"\n",
       "[1333] \"t\" \"c\" \"a\" \"g\" \"a\" \"c\" \"t\" \"t\" \"g\" \"g\" \"g\" \"g\" \"g\" \"c\" \"g\" \"g\" \"t\" \"g\"\n",
       "[1351] \"c\" \"a\" \"g\" \"a\" \"a\" \"c\" \"c\" \"g\" \"t\" \"t\" \"t\" \"c\" \"g\" \"a\" \"c\" \"t\" \"c\" \"c\"\n",
       "[1369] \"a\" \"c\" \"a\" \"a\" \"t\" \"c\" \"a\" \"c\" \"c\" \"a\" \"a\" \"c\" \"t\" \"t\" \"g\" \"g\" \"g\" \"a\"\n",
       "[1387] \"a\" \"a\" \"t\" \"a\" \"c\" \"t\" \"c\" \"t\" \"a\" \"a\" \"a\" \"c\" \"a\" \"a\" \"c\" \"t\" \"t\" \"a\"\n",
       "[1405] \"t\" \"c\" \"t\" \"t\" \"c\" \"t\" \"g\" \"c\" \"t\" \"c\" \"g\" \"a\" \"a\" \"g\" \"c\" \"c\" \"g\" \"t\"\n",
       "[1423] \"a\" \"t\" \"t\" \"g\" \"a\" \"a\" \"g\" \"a\" \"t\" \"g\" \"c\" \"t\" \"g\" \"a\" \"c\" \"t\" \"a\" \"c\"\n",
       "[1441] \"g\" \"c\" \"g\" \"a\" \"c\" \"t\" \"g\" \"a\" \"a\" \"g\" \"t\" \"c\" \"t\" \"c\" \"t\" \"a\" \"a\" \"c\"\n",
       "[1459] \"a\" \"t\" \"g\" \"t\" \"c\" \"t\" \"c\" \"g\" \"t\" \"g\" \"c\" \"c\" \"c\" \"a\" \"g\" \"a\" \"t\" \"c\"\n",
       "[1477] \"c\" \"t\" \"g\" \"c\" \"a\" \"a\" \"c\" \"a\" \"g\" \"g\" \"c\" \"a\" \"g\" \"g\" \"c\" \"a\" \"c\" \"t\"\n",
       "[1495] \"t\" \"c\" \"t\" \"g\" \"t\" \"t\" \"t\" \"t\" \"g\" \"g\" \"c\" \"g\" \"c\" \"a\" \"a\" \"g\" \"c\" \"a\"\n",
       "[1513] \"a\" \"a\" \"c\" \"c\" \"a\" \"a\" \"a\" \"c\" \"t\" \"a\" \"c\" \"t\" \"c\" \"a\" \"g\" \"a\" \"a\" \"c\"\n",
       "[1531] \"g\" \"t\" \"g\" \"c\" \"t\" \"g\" \"t\" \"c\" \"t\" \"c\" \"t\" \"t\" \"c\" \"t\" \"g\" \"c\" \"g\" \"t\"\n",
       "[1549] \"t\" \"a\" \"a\"\n",
       "attr(,\"name\")\n",
       "[1] \"lcl|AB128918.1_cds_BAD14977.1_1\"\n",
       "attr(,\"Annot\")\n",
       "[1] \">lcl|AB128918.1_cds_BAD14977.1_1 [gene=flmA54] [protein=flagellin] [protein_id=BAD14977.1] [location=7169..8719] [gbkey=CDS]\"\n",
       "attr(,\"class\")\n",
       "[1] \"SeqFastadna\"\n",
       "\n",
       "$`lcl|AE013598.1_cds_AAW75835.1_1`\n",
       "   [1] \"t\" \"t\" \"g\" \"a\" \"t\" \"g\" \"g\" \"c\" \"c\" \"c\" \"c\" \"c\" \"c\" \"t\" \"g\" \"c\" \"g\" \"g\"\n",
       "  [19] \"a\" \"g\" \"g\" \"c\" \"t\" \"c\" \"c\" \"g\" \"g\" \"g\" \"c\" \"a\" \"a\" \"g\" \"t\" \"c\" \"c\" \"c\"\n",
       "  [37] \"c\" \"c\" \"t\" \"t\" \"g\" \"c\" \"c\" \"g\" \"g\" \"a\" \"a\" \"a\" \"a\" \"a\" \"t\" \"c\" \"g\" \"c\"\n",
       "  [55] \"t\" \"t\" \"a\" \"g\" \"g\" \"a\" \"g\" \"a\" \"a\" \"a\" \"t\" \"c\" \"a\" \"a\" \"a\" \"a\" \"t\" \"g\"\n",
       "  [73] \"g\" \"c\" \"a\" \"c\" \"a\" \"a\" \"g\" \"t\" \"a\" \"a\" \"t\" \"c\" \"a\" \"a\" \"c\" \"a\" \"c\" \"c\"\n",
       "  [91] \"a\" \"a\" \"c\" \"g\" \"t\" \"a\" \"a\" \"t\" \"g\" \"t\" \"c\" \"g\" \"c\" \"t\" \"g\" \"a\" \"a\" \"c\"\n",
       " [109] \"g\" \"c\" \"t\" \"c\" \"a\" \"g\" \"c\" \"g\" \"t\" \"a\" \"a\" \"c\" \"c\" \"t\" \"c\" \"a\" \"a\" \"c\"\n",
       " [127] \"a\" \"c\" \"c\" \"a\" \"a\" \"c\" \"a\" \"g\" \"c\" \"t\" \"c\" \"c\" \"a\" \"g\" \"c\" \"t\" \"t\" \"g\"\n",
       " [145] \"g\" \"c\" \"g\" \"c\" \"t\" \"g\" \"a\" \"g\" \"c\" \"a\" \"t\" \"c\" \"c\" \"a\" \"g\" \"c\" \"a\" \"g\"\n",
       " [163] \"c\" \"t\" \"t\" \"t\" \"c\" \"g\" \"t\" \"c\" \"g\" \"g\" \"g\" \"c\" \"a\" \"a\" \"g\" \"c\" \"g\" \"c\"\n",
       " [181] \"a\" \"t\" \"c\" \"a\" \"c\" \"c\" \"a\" \"g\" \"c\" \"t\" \"t\" \"t\" \"t\" \"c\" \"c\" \"g\" \"t\" \"a\"\n",
       " [199] \"g\" \"a\" \"c\" \"g\" \"c\" \"a\" \"g\" \"c\" \"c\" \"g\" \"g\" \"c\" \"g\" \"g\" \"c\" \"g\" \"c\" \"a\"\n",
       " [217] \"a\" \"t\" \"c\" \"g\" \"c\" \"c\" \"g\" \"a\" \"g\" \"c\" \"g\" \"t\" \"t\" \"t\" \"c\" \"a\" \"c\" \"t\"\n",
       " [235] \"a\" \"c\" \"c\" \"c\" \"a\" \"g\" \"a\" \"t\" \"c\" \"c\" \"g\" \"c\" \"g\" \"g\" \"c\" \"c\" \"t\" \"g\"\n",
       " [253] \"g\" \"a\" \"c\" \"g\" \"t\" \"t\" \"g\" \"c\" \"c\" \"t\" \"c\" \"g\" \"c\" \"g\" \"c\" \"a\" \"a\" \"c\"\n",
       " [271] \"g\" \"c\" \"c\" \"a\" \"a\" \"c\" \"g\" \"a\" \"c\" \"g\" \"g\" \"c\" \"a\" \"t\" \"c\" \"t\" \"c\" \"g\"\n",
       " [289] \"c\" \"t\" \"g\" \"t\" \"c\" \"c\" \"c\" \"a\" \"g\" \"a\" \"c\" \"c\" \"g\" \"c\" \"c\" \"g\" \"a\" \"a\"\n",
       " [307] \"g\" \"g\" \"c\" \"g\" \"c\" \"g\" \"a\" \"t\" \"g\" \"c\" \"a\" \"g\" \"g\" \"a\" \"a\" \"a\" \"t\" \"c\"\n",
       " [325] \"g\" \"g\" \"c\" \"a\" \"a\" \"c\" \"a\" \"a\" \"c\" \"c\" \"t\" \"g\" \"c\" \"a\" \"g\" \"c\" \"g\" \"t\"\n",
       " [343] \"a\" \"t\" \"c\" \"c\" \"g\" \"c\" \"g\" \"a\" \"a\" \"c\" \"t\" \"g\" \"t\" \"c\" \"a\" \"g\" \"t\" \"g\"\n",
       " [361] \"c\" \"a\" \"g\" \"t\" \"c\" \"c\" \"g\" \"c\" \"a\" \"a\" \"a\" \"t\" \"g\" \"c\" \"a\" \"a\" \"c\" \"c\"\n",
       " [379] \"a\" \"a\" \"c\" \"t\" \"c\" \"g\" \"t\" \"c\" \"c\" \"a\" \"c\" \"c\" \"g\" \"a\" \"c\" \"c\" \"g\" \"c\"\n",
       " [397] \"g\" \"a\" \"a\" \"g\" \"c\" \"g\" \"c\" \"t\" \"g\" \"a\" \"a\" \"c\" \"t\" \"c\" \"c\" \"g\" \"a\" \"a\"\n",
       " [415] \"g\" \"t\" \"c\" \"a\" \"a\" \"g\" \"c\" \"a\" \"g\" \"c\" \"t\" \"c\" \"a\" \"c\" \"c\" \"t\" \"c\" \"c\"\n",
       " [433] \"g\" \"a\" \"a\" \"a\" \"t\" \"c\" \"g\" \"a\" \"c\" \"c\" \"g\" \"g\" \"g\" \"t\" \"c\" \"g\" \"c\" \"c\"\n",
       " [451] \"a\" \"a\" \"t\" \"c\" \"a\" \"g\" \"a\" \"c\" \"c\" \"a\" \"g\" \"c\" \"t\" \"t\" \"c\" \"a\" \"a\" \"c\"\n",
       " [469] \"g\" \"g\" \"c\" \"a\" \"c\" \"c\" \"a\" \"a\" \"g\" \"c\" \"t\" \"g\" \"c\" \"t\" \"t\" \"g\" \"a\" \"c\"\n",
       " [487] \"g\" \"g\" \"c\" \"t\" \"c\" \"c\" \"t\" \"t\" \"c\" \"t\" \"c\" \"t\" \"g\" \"g\" \"c\" \"g\" \"c\" \"g\"\n",
       " [505] \"c\" \"t\" \"g\" \"t\" \"t\" \"c\" \"c\" \"a\" \"g\" \"g\" \"t\" \"c\" \"g\" \"g\" \"c\" \"g\" \"c\" \"c\"\n",
       " [523] \"g\" \"a\" \"c\" \"g\" \"c\" \"c\" \"g\" \"g\" \"c\" \"c\" \"a\" \"g\" \"a\" \"c\" \"c\" \"a\" \"t\" \"c\"\n",
       " [541] \"g\" \"g\" \"c\" \"a\" \"t\" \"c\" \"a\" \"a\" \"c\" \"a\" \"g\" \"c\" \"a\" \"t\" \"c\" \"g\" \"c\" \"c\"\n",
       " [559] \"g\" \"a\" \"c\" \"g\" \"c\" \"c\" \"a\" \"a\" \"c\" \"a\" \"t\" \"c\" \"g\" \"a\" \"t\" \"a\" \"c\" \"g\"\n",
       " [577] \"c\" \"t\" \"g\" \"g\" \"g\" \"c\" \"a\" \"a\" \"g\" \"g\" \"c\" \"c\" \"a\" \"a\" \"c\" \"t\" \"t\" \"c\"\n",
       " [595] \"g\" \"c\" \"c\" \"g\" \"c\" \"c\" \"g\" \"c\" \"c\" \"g\" \"t\" \"t\" \"t\" \"c\" \"c\" \"g\" \"c\" \"c\"\n",
       " [613] \"g\" \"c\" \"t\" \"g\" \"g\" \"c\" \"g\" \"t\" \"c\" \"a\" \"g\" \"c\" \"g\" \"g\" \"c\" \"a\" \"c\" \"c\"\n",
       " [631] \"g\" \"c\" \"c\" \"a\" \"c\" \"c\" \"g\" \"c\" \"t\" \"t\" \"c\" \"c\" \"g\" \"g\" \"t\" \"t\" \"c\" \"g\"\n",
       " [649] \"g\" \"t\" \"c\" \"a\" \"g\" \"c\" \"g\" \"g\" \"c\" \"a\" \"t\" \"c\" \"a\" \"g\" \"c\" \"c\" \"t\" \"g\"\n",
       " [667] \"t\" \"c\" \"g\" \"t\" \"t\" \"c\" \"a\" \"a\" \"g\" \"g\" \"a\" \"t\" \"g\" \"c\" \"c\" \"a\" \"g\" \"c\"\n",
       " [685] \"g\" \"g\" \"t\" \"t\" \"c\" \"g\" \"g\" \"c\" \"c\" \"a\" \"a\" \"g\" \"a\" \"g\" \"c\" \"a\" \"t\" \"c\"\n",
       " [703] \"a\" \"c\" \"c\" \"a\" \"t\" \"c\" \"g\" \"c\" \"t\" \"g\" \"a\" \"c\" \"g\" \"t\" \"c\" \"a\" \"a\" \"g\"\n",
       " [721] \"g\" \"t\" \"c\" \"g\" \"g\" \"c\" \"g\" \"c\" \"c\" \"g\" \"g\" \"c\" \"g\" \"a\" \"c\" \"a\" \"c\" \"c\"\n",
       " [739] \"g\" \"c\" \"t\" \"g\" \"c\" \"c\" \"g\" \"a\" \"c\" \"g\" \"t\" \"c\" \"a\" \"a\" \"c\" \"a\" \"a\" \"g\"\n",
       " [757] \"a\" \"a\" \"g\" \"g\" \"t\" \"t\" \"g\" \"c\" \"c\" \"t\" \"c\" \"g\" \"g\" \"c\" \"g\" \"a\" \"t\" \"c\"\n",
       " [775] \"a\" \"a\" \"c\" \"g\" \"a\" \"c\" \"a\" \"a\" \"g\" \"c\" \"t\" \"c\" \"g\" \"a\" \"c\" \"c\" \"a\" \"g\"\n",
       " [793] \"a\" \"c\" \"c\" \"g\" \"g\" \"t\" \"a\" \"t\" \"g\" \"t\" \"a\" \"c\" \"g\" \"c\" \"c\" \"t\" \"c\" \"g\"\n",
       " [811] \"a\" \"t\" \"c\" \"a\" \"a\" \"g\" \"a\" \"g\" \"c\" \"g\" \"a\" \"t\" \"g\" \"g\" \"c\" \"t\" \"c\" \"g\"\n",
       " [829] \"g\" \"t\" \"g\" \"c\" \"a\" \"g\" \"a\" \"t\" \"c\" \"g\" \"a\" \"a\" \"t\" \"c\" \"g\" \"c\" \"t\" \"g\"\n",
       " [847] \"a\" \"a\" \"g\" \"g\" \"c\" \"t\" \"g\" \"g\" \"c\" \"c\" \"a\" \"g\" \"g\" \"a\" \"c\" \"t\" \"t\" \"c\"\n",
       " [865] \"a\" \"c\" \"c\" \"t\" \"c\" \"g\" \"c\" \"t\" \"g\" \"t\" \"c\" \"g\" \"g\" \"c\" \"t\" \"g\" \"g\" \"t\"\n",
       " [883] \"a\" \"c\" \"c\" \"t\" \"c\" \"c\" \"a\" \"g\" \"c\" \"g\" \"c\" \"t\" \"g\" \"c\" \"t\" \"g\" \"g\" \"c\"\n",
       " [901] \"a\" \"t\" \"c\" \"a\" \"c\" \"c\" \"g\" \"t\" \"c\" \"g\" \"g\" \"t\" \"g\" \"c\" \"c\" \"g\" \"g\" \"c\"\n",
       " [919] \"a\" \"t\" \"c\" \"a\" \"c\" \"c\" \"a\" \"c\" \"c\" \"g\" \"c\" \"t\" \"t\" \"c\" \"g\" \"g\" \"c\" \"c\"\n",
       " [937] \"g\" \"c\" \"t\" \"t\" \"c\" \"g\" \"g\" \"g\" \"c\" \"t\" \"c\" \"c\" \"a\" \"c\" \"c\" \"g\" \"c\" \"t\"\n",
       " [955] \"t\" \"c\" \"g\" \"a\" \"c\" \"c\" \"t\" \"t\" \"g\" \"g\" \"g\" \"c\" \"a\" \"g\" \"c\" \"c\" \"t\" \"g\"\n",
       " [973] \"g\" \"a\" \"t\" \"a\" \"t\" \"c\" \"t\" \"c\" \"c\" \"a\" \"c\" \"g\" \"t\" \"t\" \"c\" \"t\" \"c\" \"g\"\n",
       " [991] \"g\" \"g\" \"c\" \"g\" \"c\" \"a\" \"c\" \"a\" \"g\" \"c\" \"a\" \"a\" \"g\" \"c\" \"a\" \"c\" \"t\" \"g\"\n",
       "[1009] \"g\" \"a\" \"a\" \"a\" \"t\" \"c\" \"g\" \"t\" \"c\" \"g\" \"a\" \"c\" \"a\" \"a\" \"g\" \"g\" \"c\" \"g\"\n",
       "[1027] \"c\" \"t\" \"g\" \"a\" \"c\" \"c\" \"a\" \"c\" \"g\" \"g\" \"t\" \"c\" \"a\" \"a\" \"c\" \"t\" \"c\" \"c\"\n",
       "[1045] \"t\" \"c\" \"g\" \"c\" \"g\" \"c\" \"g\" \"c\" \"c\" \"g\" \"a\" \"t\" \"a\" \"t\" \"g\" \"g\" \"g\" \"t\"\n",
       "[1063] \"g\" \"c\" \"g\" \"g\" \"t\" \"g\" \"c\" \"a\" \"g\" \"a\" \"a\" \"c\" \"c\" \"g\" \"c\" \"t\" \"t\" \"c\"\n",
       "[1081] \"a\" \"c\" \"c\" \"t\" \"c\" \"c\" \"a\" \"c\" \"c\" \"a\" \"t\" \"c\" \"g\" \"c\" \"c\" \"a\" \"a\" \"c\"\n",
       "[1099] \"c\" \"t\" \"g\" \"a\" \"g\" \"c\" \"g\" \"c\" \"a\" \"a\" \"c\" \"c\" \"t\" \"c\" \"g\" \"g\" \"a\" \"a\"\n",
       "[1117] \"a\" \"a\" \"c\" \"c\" \"t\" \"g\" \"t\" \"c\" \"g\" \"g\" \"c\" \"c\" \"t\" \"c\" \"a\" \"c\" \"g\" \"t\"\n",
       "[1135] \"a\" \"g\" \"c\" \"c\" \"g\" \"g\" \"a\" \"t\" \"c\" \"g\" \"c\" \"c\" \"g\" \"a\" \"t\" \"a\" \"c\" \"c\"\n",
       "[1153] \"g\" \"a\" \"c\" \"t\" \"a\" \"c\" \"g\" \"c\" \"c\" \"a\" \"a\" \"g\" \"a\" \"g\" \"c\" \"a\" \"c\" \"c\"\n",
       "[1171] \"g\" \"c\" \"c\" \"g\" \"a\" \"a\" \"c\" \"t\" \"g\" \"a\" \"c\" \"c\" \"c\" \"g\" \"c\" \"a\" \"c\" \"g\"\n",
       "[1189] \"c\" \"a\" \"g\" \"a\" \"t\" \"c\" \"c\" \"t\" \"g\" \"c\" \"a\" \"g\" \"c\" \"a\" \"g\" \"g\" \"c\" \"c\"\n",
       "[1207] \"g\" \"g\" \"t\" \"a\" \"c\" \"t\" \"g\" \"c\" \"g\" \"a\" \"t\" \"g\" \"c\" \"t\" \"g\" \"g\" \"c\" \"c\"\n",
       "[1225] \"c\" \"a\" \"g\" \"g\" \"c\" \"c\" \"a\" \"a\" \"g\" \"t\" \"c\" \"g\" \"g\" \"t\" \"t\" \"c\" \"c\" \"g\"\n",
       "[1243] \"c\" \"a\" \"g\" \"a\" \"a\" \"c\" \"g\" \"t\" \"g\" \"c\" \"t\" \"g\" \"a\" \"g\" \"c\" \"c\" \"t\" \"g\"\n",
       "[1261] \"c\" \"t\" \"g\" \"c\" \"a\" \"g\" \"t\" \"a\" \"a\"\n",
       "attr(,\"name\")\n",
       "[1] \"lcl|AE013598.1_cds_AAW75835.1_1\"\n",
       "attr(,\"Annot\")\n",
       "[1] \">lcl|AE013598.1_cds_AAW75835.1_1 [gene=fliC] [locus_tag=XOO2581] [protein=flagellar protein] [protein_id=AAW75835.1] [location=2732879..2734147] [gbkey=CDS]\"\n",
       "attr(,\"class\")\n",
       "[1] \"SeqFastadna\"\n"
      ]
     },
     "metadata": {},
     "output_type": "display_data"
    }
   ],
   "source": [
    "head(all.cds.env)"
   ]
  },
  {
   "cell_type": "code",
   "execution_count": 147,
   "id": "45daa665-cefb-451b-9a7a-c45c5c08b43a",
   "metadata": {},
   "outputs": [
    {
     "name": "stdout",
     "output_type": "stream",
     "text": [
      "codon_alignments/renamed.all.cds.env.fasta has been saved to  /ebio/abt3_projects2/Flagellin_Diversity/code/notebooks/shortbred/edgeR/subsampled_opt1/cds \n"
     ]
    }
   ],
   "source": [
    "#Rename using the protein accession - for selection analysis I need DNA - protein sequences with matching names\n",
    "rename.fasta(infile=\"all.cds.env.fna\",newLabels.env,outfile = \"codon_alignments/renamed.all.cds.env.fasta\")"
   ]
  },
  {
   "cell_type": "code",
   "execution_count": 148,
   "id": "19b12e08-6d24-4341-91d1-5226bed35284",
   "metadata": {},
   "outputs": [
    {
     "data": {
      "text/html": [
       "405"
      ],
      "text/latex": [
       "405"
      ],
      "text/markdown": [
       "405"
      ],
      "text/plain": [
       "[1] 405"
      ]
     },
     "metadata": {},
     "output_type": "display_data"
    }
   ],
   "source": [
    "length(match_vec.env)"
   ]
  },
  {
   "cell_type": "code",
   "execution_count": 151,
   "id": "5f0cc2a2-057d-4cff-8858-65e686031871",
   "metadata": {},
   "outputs": [],
   "source": [
    "tmp.cds = seqinr::read.fasta(\"codon_alignments/renamed.all.cds.env.fasta\")\n",
    "match.tmp = match(names(tmp.cds),order_vec.host)\n",
    "sorted.all.cds.protLabel.env = tmp.cds[order(match.tmp)]\n",
    "write.fasta(sequences=sorted.all.cds.protLabel.env,names=names(sorted.all.cds.protLabel.env),nbchar=80,file.out = \"codon_alignments/sorted.cds.env.w.protLabels.fna\")"
   ]
  },
  {
   "cell_type": "code",
   "execution_count": 152,
   "id": "3e725231-a93c-4176-b08a-73044af730cd",
   "metadata": {},
   "outputs": [
    {
     "data": {
      "text/html": [
       "<style>\n",
       ".list-inline {list-style: none; margin:0; padding: 0}\n",
       ".list-inline>li {display: inline-block}\n",
       ".list-inline>li:not(:last-child)::after {content: \"\\00b7\"; padding: 0 .5ex}\n",
       "</style>\n",
       "<ol class=list-inline><li>'EAP91499.1'</li><li>'EDK26613.1'</li><li>'BAD14977.1'</li><li>'EDZ58145.1'</li><li>'EEJ52905.1'</li><li>'EEO87047.1'</li></ol>\n"
      ],
      "text/latex": [
       "\\begin{enumerate*}\n",
       "\\item 'EAP91499.1'\n",
       "\\item 'EDK26613.1'\n",
       "\\item 'BAD14977.1'\n",
       "\\item 'EDZ58145.1'\n",
       "\\item 'EEJ52905.1'\n",
       "\\item 'EEO87047.1'\n",
       "\\end{enumerate*}\n"
      ],
      "text/markdown": [
       "1. 'EAP91499.1'\n",
       "2. 'EDK26613.1'\n",
       "3. 'BAD14977.1'\n",
       "4. 'EDZ58145.1'\n",
       "5. 'EEJ52905.1'\n",
       "6. 'EEO87047.1'\n",
       "\n",
       "\n"
      ],
      "text/plain": [
       "[1] \"EAP91499.1\" \"EDK26613.1\" \"BAD14977.1\" \"EDZ58145.1\" \"EEJ52905.1\"\n",
       "[6] \"EEO87047.1\""
      ]
     },
     "metadata": {},
     "output_type": "display_data"
    }
   ],
   "source": [
    "head(names(sorted.all.cds.protLabel.env))"
   ]
  },
  {
   "cell_type": "code",
   "execution_count": 153,
   "id": "104c7e84-6a2f-486a-a796-534babac1336",
   "metadata": {},
   "outputs": [
    {
     "data": {
      "text/html": [
       "407"
      ],
      "text/latex": [
       "407"
      ],
      "text/markdown": [
       "407"
      ],
      "text/plain": [
       "[1] 407"
      ]
     },
     "metadata": {},
     "output_type": "display_data"
    }
   ],
   "source": [
    "length(sorted.all.cds.protLabel.env)"
   ]
  },
  {
   "cell_type": "code",
   "execution_count": 154,
   "id": "09ebedea-43f1-46c7-a218-2e836c037304",
   "metadata": {},
   "outputs": [
    {
     "data": {
      "text/html": [
       "107"
      ],
      "text/latex": [
       "107"
      ],
      "text/markdown": [
       "107"
      ],
      "text/plain": [
       "[1] 107"
      ]
     },
     "metadata": {},
     "output_type": "display_data"
    }
   ],
   "source": [
    "nrow(newLabels)"
   ]
  },
  {
   "cell_type": "code",
   "execution_count": 155,
   "id": "eb5ca69b-140a-45ec-b6b8-d407adf3c57a",
   "metadata": {
    "tags": []
   },
   "outputs": [
    {
     "data": {
      "text/html": [
       "<style>\n",
       ".list-inline {list-style: none; margin:0; padding: 0}\n",
       ".list-inline>li {display: inline-block}\n",
       ".list-inline>li:not(:last-child)::after {content: \"\\00b7\"; padding: 0 .5ex}\n",
       "</style>\n",
       "<ol class=list-inline><li>'AAA62844.1'</li><li>'CAA59172.1'</li><li>'AAK24938.1'</li><li>'AAR10729.1'</li><li>'BAD14977.1'</li><li>'AAW75835.1'</li></ol>\n"
      ],
      "text/latex": [
       "\\begin{enumerate*}\n",
       "\\item 'AAA62844.1'\n",
       "\\item 'CAA59172.1'\n",
       "\\item 'AAK24938.1'\n",
       "\\item 'AAR10729.1'\n",
       "\\item 'BAD14977.1'\n",
       "\\item 'AAW75835.1'\n",
       "\\end{enumerate*}\n"
      ],
      "text/markdown": [
       "1. 'AAA62844.1'\n",
       "2. 'CAA59172.1'\n",
       "3. 'AAK24938.1'\n",
       "4. 'AAR10729.1'\n",
       "5. 'BAD14977.1'\n",
       "6. 'AAW75835.1'\n",
       "\n",
       "\n"
      ],
      "text/plain": [
       "[1] \"AAA62844.1\" \"CAA59172.1\" \"AAK24938.1\" \"AAR10729.1\" \"BAD14977.1\"\n",
       "[6] \"AAW75835.1\""
      ]
     },
     "metadata": {},
     "output_type": "display_data"
    }
   ],
   "source": [
    "head(names(sorted_seqs_env))"
   ]
  },
  {
   "cell_type": "markdown",
   "id": "5adc0073-4c35-411b-9ba8-2c292722bb87",
   "metadata": {},
   "source": [
    "# Sort alignments"
   ]
  },
  {
   "cell_type": "markdown",
   "id": "34129f87-63da-4bd9-8f80-b35dfb8108ff",
   "metadata": {},
   "source": [
    "#### Animals"
   ]
  },
  {
   "cell_type": "code",
   "execution_count": 158,
   "id": "4bc54f16-a2bc-4679-b965-4089c7253786",
   "metadata": {},
   "outputs": [
    {
     "data": {
      "text/html": [
       "'/ebio/abt3_projects2/Flagellin_Diversity/code/notebooks/shortbred/edgeR/subsampled_opt1/cds'"
      ],
      "text/latex": [
       "'/ebio/abt3\\_projects2/Flagellin\\_Diversity/code/notebooks/shortbred/edgeR/subsampled\\_opt1/cds'"
      ],
      "text/markdown": [
       "'/ebio/abt3_projects2/Flagellin_Diversity/code/notebooks/shortbred/edgeR/subsampled_opt1/cds'"
      ],
      "text/plain": [
       "[1] \"/ebio/abt3_projects2/Flagellin_Diversity/code/notebooks/shortbred/edgeR/subsampled_opt1/cds\""
      ]
     },
     "metadata": {},
     "output_type": "display_data"
    }
   ],
   "source": [
    "getwd()"
   ]
  },
  {
   "cell_type": "code",
   "execution_count": 157,
   "id": "4adaefe9-9c8e-44e6-a21d-e04ccbdb1471",
   "metadata": {},
   "outputs": [
    {
     "name": "stderr",
     "output_type": "stream",
     "text": [
      "Warning message in file(con, \"r\"):\n",
      "“cannot open file 'codon_alignments/alignment.all.cds.prot.animals.fasta': No such file or directory”\n"
     ]
    },
    {
     "ename": "ERROR",
     "evalue": "Error in file(con, \"r\"): cannot open the connection\n",
     "output_type": "error",
     "traceback": [
      "Error in file(con, \"r\"): cannot open the connection\nTraceback:\n",
      "1. read.fasta(\"codon_alignments/alignment.all.cds.prot.animals.fasta\")",
      "2. readLines(file)",
      "3. file(con, \"r\")"
     ]
    }
   ],
   "source": [
    "aln.animals = read.fasta(\"codon_alignments/alignment.all.cds.prot.animals.fasta\")"
   ]
  },
  {
   "cell_type": "code",
   "execution_count": null,
   "id": "616ef63e-167a-423e-a2ac-b455ea1f3469",
   "metadata": {},
   "outputs": [],
   "source": [
    "head(names(aln.animals))"
   ]
  },
  {
   "cell_type": "code",
   "execution_count": null,
   "id": "71abce98-ee40-4aff-af0a-4ead114e4918",
   "metadata": {},
   "outputs": [],
   "source": [
    "match_vec.aln = match(names(aln.animals),order_vec)"
   ]
  },
  {
   "cell_type": "code",
   "execution_count": null,
   "id": "645ad3fa-0ce6-4a4c-a192-edfa44aacce0",
   "metadata": {},
   "outputs": [],
   "source": [
    "sorted_alignment = aln.animals[order(match_vec.aln)]"
   ]
  },
  {
   "cell_type": "code",
   "execution_count": null,
   "id": "63741e22-d473-402e-b330-809ec086794b",
   "metadata": {},
   "outputs": [],
   "source": [
    "head(names(sorted_alignment))"
   ]
  },
  {
   "cell_type": "code",
   "execution_count": null,
   "id": "a4f23f06-f551-4e81-9ca5-85f24e4f0135",
   "metadata": {},
   "outputs": [],
   "source": [
    "write.fasta(sequences=sorted_alignment,names=names(sorted_alignment),nbchar=80,file.out=\"codon_alignments/sorted_alignment.prot.animals.fasta\")"
   ]
  },
  {
   "cell_type": "markdown",
   "id": "51e2ec46-495e-4bfa-9c16-abc60a3a8071",
   "metadata": {},
   "source": [
    "#### Plants"
   ]
  },
  {
   "cell_type": "code",
   "execution_count": null,
   "id": "e708d3c8-21e5-4978-9769-974131702b45",
   "metadata": {},
   "outputs": [],
   "source": [
    "aln.plants = read.fasta(\"codon_alignments/alignment.all.cds.prot.plants.fasta\")"
   ]
  },
  {
   "cell_type": "code",
   "execution_count": null,
   "id": "c6c89263-4542-4c70-b4bf-7476356989f3",
   "metadata": {},
   "outputs": [],
   "source": [
    "head(names(aln.plants))"
   ]
  },
  {
   "cell_type": "code",
   "execution_count": null,
   "id": "6e9c142e-f5bf-4c3c-974e-966c180399c5",
   "metadata": {},
   "outputs": [],
   "source": [
    "match_vec.aln.pl = match(names(aln.plants),order_vec.plants)"
   ]
  },
  {
   "cell_type": "code",
   "execution_count": null,
   "id": "ebe326c2-0b7c-4aa4-ae69-fdde3d26903c",
   "metadata": {},
   "outputs": [],
   "source": [
    "sorted_alignment.pl = aln.plants[order(match_vec.aln.pl)]"
   ]
  },
  {
   "cell_type": "code",
   "execution_count": null,
   "id": "a410325d-0330-4d8c-aff4-fa8261a3dedc",
   "metadata": {},
   "outputs": [],
   "source": [
    "head(names(sorted_alignment.pl))"
   ]
  },
  {
   "cell_type": "code",
   "execution_count": null,
   "id": "caa46407-b97e-4d13-8acb-7f8c3c9c0323",
   "metadata": {},
   "outputs": [],
   "source": [
    "write.fasta(sequences=sorted_alignment.pl,names=names(sorted_alignment.pl),nbchar=80,file.out=\"codon_alignments/sorted_alignment.prot.plants.fasta\")"
   ]
  },
  {
   "cell_type": "markdown",
   "id": "ffda7511-d737-4e1a-a472-32b0f5591ae2",
   "metadata": {},
   "source": [
    "#### Host"
   ]
  },
  {
   "cell_type": "code",
   "execution_count": null,
   "id": "b5ed547c-9183-4e18-bd24-1cd2bdba0851",
   "metadata": {},
   "outputs": [],
   "source": [
    "aln.host = read.fasta(\"codon_alignments/alignment.all.cds.prot.host.fasta\")"
   ]
  },
  {
   "cell_type": "code",
   "execution_count": null,
   "id": "2fc34b2a-41e3-447b-b30a-e037e026140b",
   "metadata": {},
   "outputs": [],
   "source": [
    "head(names(aln.host))"
   ]
  },
  {
   "cell_type": "code",
   "execution_count": null,
   "id": "32cf6193-fc73-4f01-bc46-eb063240fd27",
   "metadata": {},
   "outputs": [],
   "source": [
    "match_vec.aln.h = match(names(aln.host),order_vec.host)"
   ]
  },
  {
   "cell_type": "code",
   "execution_count": null,
   "id": "a54a13c1-8ebb-4464-9e91-609e84696317",
   "metadata": {},
   "outputs": [],
   "source": [
    "sorted_alignment.h = aln.host[order(match_vec.aln.h)]"
   ]
  },
  {
   "cell_type": "code",
   "execution_count": null,
   "id": "c004baaf-b3b3-48b9-89e2-fbfac717cdc7",
   "metadata": {},
   "outputs": [],
   "source": [
    "head(names(sorted_alignment.h))"
   ]
  },
  {
   "cell_type": "code",
   "execution_count": null,
   "id": "4a8fe16c-7f36-484f-8f6e-916ab63b73c7",
   "metadata": {},
   "outputs": [],
   "source": [
    "write.fasta(sequences=sorted_alignment.h,names=names(sorted_alignment.h),nbchar=80,file.out=\"codon_alignments/sorted_alignment.prot.host.fasta\")"
   ]
  },
  {
   "cell_type": "markdown",
   "id": "b810bd5f-dc34-4c4d-8e9a-5bf1839ea79e",
   "metadata": {},
   "source": [
    "#### Environmental"
   ]
  },
  {
   "cell_type": "code",
   "execution_count": null,
   "id": "f3bde64f-6430-4ad8-993e-a3425a778033",
   "metadata": {},
   "outputs": [],
   "source": [
    "aln.env = read.fasta(\"codon_alignments/alignment.all.cds.prot.env.fasta\")"
   ]
  },
  {
   "cell_type": "code",
   "execution_count": null,
   "id": "701d2448-7630-462e-9490-6d1d93712183",
   "metadata": {},
   "outputs": [],
   "source": [
    "head(names(aln.env))"
   ]
  },
  {
   "cell_type": "code",
   "execution_count": null,
   "id": "322a6a52-0233-48f4-aa37-d8506a4972eb",
   "metadata": {},
   "outputs": [],
   "source": [
    "match_vec.aln.env = match(names(aln.env),order_vec.env)"
   ]
  },
  {
   "cell_type": "code",
   "execution_count": null,
   "id": "5697f7f2-2544-4e57-a1e1-90baae4f4e97",
   "metadata": {},
   "outputs": [],
   "source": [
    "sorted_alignment.env = aln.env[order(match_vec.aln.env)]"
   ]
  },
  {
   "cell_type": "code",
   "execution_count": null,
   "id": "24934334-e0b1-4acb-ba0d-c8f293292688",
   "metadata": {},
   "outputs": [],
   "source": [
    "head(names(sorted_alignment.env))"
   ]
  },
  {
   "cell_type": "code",
   "execution_count": null,
   "id": "0e9cd504-2fb3-41ef-80e7-e7058ebebe88",
   "metadata": {},
   "outputs": [],
   "source": [
    "length(sorted_alignment.env)"
   ]
  },
  {
   "cell_type": "code",
   "execution_count": null,
   "id": "6af7f123-dc08-4c69-a4ab-152eb32179d7",
   "metadata": {},
   "outputs": [],
   "source": [
    "write.fasta(sequences=sorted_alignment.env,names=names(sorted_alignment.env),nbchar=80,file.out=\"codon_alignments/sorted_alignment.prot.env.fasta\")"
   ]
  },
  {
   "cell_type": "markdown",
   "id": "5e80081e-134f-43bf-b4d8-dc0bc6bef8ef",
   "metadata": {},
   "source": [
    "# Split animals_plants codon alignments"
   ]
  },
  {
   "cell_type": "code",
   "execution_count": 162,
   "id": "b619267f-3cb9-469a-bd78-b3c937c4724b",
   "metadata": {},
   "outputs": [],
   "source": [
    "paml.plants.animals = read.fasta(\"codon_alignments/paml_aln_plants.animals.fasta\")"
   ]
  },
  {
   "cell_type": "code",
   "execution_count": 168,
   "id": "7e12f084-884a-454a-870d-528f93bf4320",
   "metadata": {},
   "outputs": [
    {
     "data": {
      "text/html": [
       "192"
      ],
      "text/latex": [
       "192"
      ],
      "text/markdown": [
       "192"
      ],
      "text/plain": [
       "[1] 192"
      ]
     },
     "metadata": {},
     "output_type": "display_data"
    }
   ],
   "source": [
    "length(paml.plants.animals)"
   ]
  },
  {
   "cell_type": "code",
   "execution_count": 177,
   "id": "c83593e3-3ea0-4354-9cc3-19fd7db442b0",
   "metadata": {},
   "outputs": [],
   "source": [
    "paml.animals = paml.plants.animals[c(which(names(paml.plants.animals) %in% cds.to.protein.animals$Accession))]"
   ]
  },
  {
   "cell_type": "code",
   "execution_count": 178,
   "id": "649e5cf2-65e5-4ace-8c73-5fe69b3e45e3",
   "metadata": {},
   "outputs": [],
   "source": [
    "paml.plants = paml.plants.animals[c(which(names(paml.plants.animals) %in% cds.to.protein.plants$Accession))]"
   ]
  },
  {
   "cell_type": "code",
   "execution_count": 180,
   "id": "9ae53c73-5797-450a-9347-680aa92f7281",
   "metadata": {},
   "outputs": [],
   "source": [
    "write.fasta(sequences=paml.animals,names=names(paml.animals),nbchar=80,file.out=\"codon_alignments/paml.animals.fasta\")\n",
    "write.fasta(sequences=paml.plants,names=names(paml.plants),nbchar=80,file.out=\"codon_alignments/paml.plants.fasta\")"
   ]
  },
  {
   "cell_type": "code",
   "execution_count": 166,
   "id": "dc82d680-99dc-41a2-8d98-37aa73491712",
   "metadata": {},
   "outputs": [
    {
     "data": {
      "text/html": [
       "'/ebio/abt3_projects2/Flagellin_Diversity/code/notebooks/shortbred/edgeR/subsampled_opt1/cds'"
      ],
      "text/latex": [
       "'/ebio/abt3\\_projects2/Flagellin\\_Diversity/code/notebooks/shortbred/edgeR/subsampled\\_opt1/cds'"
      ],
      "text/markdown": [
       "'/ebio/abt3_projects2/Flagellin_Diversity/code/notebooks/shortbred/edgeR/subsampled_opt1/cds'"
      ],
      "text/plain": [
       "[1] \"/ebio/abt3_projects2/Flagellin_Diversity/code/notebooks/shortbred/edgeR/subsampled_opt1/cds\""
      ]
     },
     "metadata": {},
     "output_type": "display_data"
    }
   ],
   "source": [
    "getwd()"
   ]
  }
 ],
 "metadata": {
  "kernelspec": {
   "display_name": "R4.2.1 (py3_fla_2022)",
   "language": "R",
   "name": "py3_fla_2022-r"
  },
  "language_info": {
   "codemirror_mode": "r",
   "file_extension": ".r",
   "mimetype": "text/x-r-source",
   "name": "R",
   "pygments_lexer": "r",
   "version": "4.2.2"
  }
 },
 "nbformat": 4,
 "nbformat_minor": 5
}
