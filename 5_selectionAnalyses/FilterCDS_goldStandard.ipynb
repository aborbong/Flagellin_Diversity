{
 "cells": [
  {
   "cell_type": "markdown",
   "id": "fb1c4c5d-472b-4ca6-a12a-f7c9400889fe",
   "metadata": {},
   "source": [
    "# Filter CDS for validation test"
   ]
  },
  {
   "cell_type": "markdown",
   "id": "2ee44ec5-a18b-4eba-b5f8-e6816b95150a",
   "metadata": {},
   "source": [
    "### Set-up"
   ]
  },
  {
   "cell_type": "code",
   "execution_count": 1,
   "id": "fc6dd108-cd94-4023-bf69-79ea2b6c5900",
   "metadata": {
    "tags": []
   },
   "outputs": [
    {
     "name": "stderr",
     "output_type": "stream",
     "text": [
      "── \u001b[1mAttaching core tidyverse packages\u001b[22m ──────────────────────────────────────────────────────────────────────────────────────────────────────────────── tidyverse 2.0.0 ──\n",
      "\u001b[32m✔\u001b[39m \u001b[34mdplyr    \u001b[39m 1.0.9     \u001b[32m✔\u001b[39m \u001b[34mreadr    \u001b[39m 2.1.4\n",
      "\u001b[32m✔\u001b[39m \u001b[34mforcats  \u001b[39m 1.0.0     \u001b[32m✔\u001b[39m \u001b[34mstringr  \u001b[39m 1.4.1\n",
      "\u001b[32m✔\u001b[39m \u001b[34mggplot2  \u001b[39m 3.3.6     \u001b[32m✔\u001b[39m \u001b[34mtibble   \u001b[39m 3.2.1\n",
      "\u001b[32m✔\u001b[39m \u001b[34mlubridate\u001b[39m 1.8.0     \u001b[32m✔\u001b[39m \u001b[34mtidyr    \u001b[39m 1.2.1\n",
      "\u001b[32m✔\u001b[39m \u001b[34mpurrr    \u001b[39m 0.3.5     \n",
      "── \u001b[1mConflicts\u001b[22m ────────────────────────────────────────────────────────────────────────────────────────────────────────────────────────────────── tidyverse_conflicts() ──\n",
      "\u001b[31m✖\u001b[39m \u001b[34mdplyr\u001b[39m::\u001b[32mfilter()\u001b[39m masks \u001b[34mstats\u001b[39m::filter()\n",
      "\u001b[31m✖\u001b[39m \u001b[34mdplyr\u001b[39m::\u001b[32mlag()\u001b[39m    masks \u001b[34mstats\u001b[39m::lag()\n",
      "\u001b[36mℹ\u001b[39m Use the conflicted package (\u001b[3m\u001b[34m<http://conflicted.r-lib.org/>\u001b[39m\u001b[23m) to force all conflicts to become errors\n",
      "Loading required package: viridisLite\n",
      "\n",
      "Loading required package: permute\n",
      "\n",
      "Loading required package: lattice\n",
      "\n",
      "This is vegan 2.6-4\n",
      "\n",
      "Loading required package: maps\n",
      "\n",
      "\n",
      "Attaching package: ‘maps’\n",
      "\n",
      "\n",
      "The following object is masked from ‘package:viridis’:\n",
      "\n",
      "    unemp\n",
      "\n",
      "\n",
      "The following object is masked from ‘package:purrr’:\n",
      "\n",
      "    map\n",
      "\n",
      "\n"
     ]
    }
   ],
   "source": [
    "library(tidyverse)\n",
    "library(dplyr)\n",
    "library(readr)\n",
    "library(stringr)\n",
    "library(ggplot2)\n",
    "library(ggsci)\n",
    "library(viridis)\n",
    "library(conflicted)\n",
    "library(gridExtra)\n",
    "library(vegan)\n",
    "library(ape)\n",
    "library(lattice)\n",
    "library(permute)\n",
    "library(grid) \n",
    "library(seqinr)\n",
    "library(\"phytools\")\n",
    "library(rentrez)"
   ]
  },
  {
   "cell_type": "code",
   "execution_count": 2,
   "id": "e994d3b3-f0a2-4a8e-a374-e64f4814d0a2",
   "metadata": {
    "tags": []
   },
   "outputs": [
    {
     "name": "stderr",
     "output_type": "stream",
     "text": [
      "\u001b[1m\u001b[22m\u001b[90m[conflicted]\u001b[39m Will prefer \u001b[1m\u001b[34mdplyr\u001b[39m\u001b[22m::filter over any other package.\n",
      "\u001b[1m\u001b[22m\u001b[90m[conflicted]\u001b[39m Will prefer \u001b[1m\u001b[34mdplyr\u001b[39m\u001b[22m::rename over any other package.\n",
      "\u001b[1m\u001b[22m\u001b[90m[conflicted]\u001b[39m Will prefer \u001b[1m\u001b[34mdplyr\u001b[39m\u001b[22m::mutate over any other package.\n",
      "\u001b[1m\u001b[22m\u001b[90m[conflicted]\u001b[39m Will prefer \u001b[1m\u001b[34mdplyr\u001b[39m\u001b[22m::count over any other package.\n",
      "\u001b[1m\u001b[22m\u001b[90m[conflicted]\u001b[39m Will prefer \u001b[1m\u001b[34mseqinr\u001b[39m\u001b[22m::read.fasta over any other package.\n"
     ]
    }
   ],
   "source": [
    "conflict_prefer(\"filter\",\"dplyr\")\n",
    "conflict_prefer(\"rename\",\"dplyr\")\n",
    "conflict_prefer(\"mutate\",\"dplyr\")\n",
    "conflict_prefer(\"count\",\"dplyr\")\n",
    "conflict_prefer(\"read.fasta\",\"seqinr\")"
   ]
  },
  {
   "cell_type": "code",
   "execution_count": 3,
   "id": "03925028-da4d-441f-bb55-2db97a7ce9d5",
   "metadata": {},
   "outputs": [],
   "source": [
    "#Import miscellaneous functions for plots and edger\n",
    "source(\"/ebio/abt3_projects2/Flagellin_Diversity/code/notebooks/FlagellinDiversity/plots_functions.r\")"
   ]
  },
  {
   "cell_type": "code",
   "execution_count": 30,
   "id": "650a15af-2adc-4534-afdb-bd2a6034213c",
   "metadata": {},
   "outputs": [],
   "source": [
    "all.cds.animals = read.fasta(\"codon_alignments/renamed.all.cds.animals.fasta\")\n",
    "all.cds.plants = read.fasta(\"codon_alignments/renamed.all.cds.plants.fasta\")\n",
    "all.cds.env = read.fasta(\"codon_alignments/renamed.all.cds.env.fasta\")"
   ]
  },
  {
   "cell_type": "code",
   "execution_count": 7,
   "id": "3dae2288-427a-4069-960a-dd6f33e09afe",
   "metadata": {},
   "outputs": [
    {
     "data": {
      "text/html": [
       "'/ebio/abt3_projects2/Flagellin_Diversity/code/notebooks/shortbred/edgeR/subsampled_opt1/cds'"
      ],
      "text/latex": [
       "'/ebio/abt3\\_projects2/Flagellin\\_Diversity/code/notebooks/shortbred/edgeR/subsampled\\_opt1/cds'"
      ],
      "text/markdown": [
       "'/ebio/abt3_projects2/Flagellin_Diversity/code/notebooks/shortbred/edgeR/subsampled_opt1/cds'"
      ],
      "text/plain": [
       "[1] \"/ebio/abt3_projects2/Flagellin_Diversity/code/notebooks/shortbred/edgeR/subsampled_opt1/cds\""
      ]
     },
     "metadata": {},
     "output_type": "display_data"
    }
   ],
   "source": [
    "getwd()"
   ]
  },
  {
   "cell_type": "code",
   "execution_count": 49,
   "id": "727555ba-3ba4-4743-aa71-14e8d136fd5d",
   "metadata": {},
   "outputs": [],
   "source": [
    "join_all = c(all.cds.animals,all.cds.plants,all.cds.env)"
   ]
  },
  {
   "cell_type": "code",
   "execution_count": 59,
   "id": "437a3268-f9f1-46f0-9d3a-1c4ff4a09d82",
   "metadata": {},
   "outputs": [
    {
     "data": {
      "text/html": [
       "604"
      ],
      "text/latex": [
       "604"
      ],
      "text/markdown": [
       "604"
      ],
      "text/plain": [
       "[1] 604"
      ]
     },
     "metadata": {},
     "output_type": "display_data"
    }
   ],
   "source": [
    "length(join_all)"
   ]
  },
  {
   "cell_type": "code",
   "execution_count": 108,
   "id": "b3bf2bd9-1da2-4e1b-9cee-b878e6cbaf96",
   "metadata": {},
   "outputs": [
    {
     "data": {
      "text/html": [
       "'/ebio/abt3_projects2/Flagellin_Diversity/code/notebooks/shortbred/edgeR/subsampled_opt1/cds'"
      ],
      "text/latex": [
       "'/ebio/abt3\\_projects2/Flagellin\\_Diversity/code/notebooks/shortbred/edgeR/subsampled\\_opt1/cds'"
      ],
      "text/markdown": [
       "'/ebio/abt3_projects2/Flagellin_Diversity/code/notebooks/shortbred/edgeR/subsampled_opt1/cds'"
      ],
      "text/plain": [
       "[1] \"/ebio/abt3_projects2/Flagellin_Diversity/code/notebooks/shortbred/edgeR/subsampled_opt1/cds\""
      ]
     },
     "metadata": {},
     "output_type": "display_data"
    }
   ],
   "source": [
    "getwd()"
   ]
  },
  {
   "cell_type": "code",
   "execution_count": 113,
   "id": "d87c2f53-adb6-4862-b248-1bac78148716",
   "metadata": {},
   "outputs": [],
   "source": [
    "gs.animals = read.fasta(\"/ebio/abt3_projects2/Flagellin_Diversity/code/notebooks/shortbred/edgeR/subsampled_opt1/derep_genus_downs_animals.faa\")\n",
    "gs.plants = read.fasta(\"/ebio/abt3_projects2/Flagellin_Diversity/code/notebooks/shortbred/edgeR/subsampled_opt1/derep_genus_downs_plants.faa\")\n",
    "gs.env = read.fasta(\"/ebio/abt3_projects2/Flagellin_Diversity/code/notebooks/shortbred/edgeR/subsampled_opt1/derep_genus_downs_free_living.faa\")"
   ]
  },
  {
   "cell_type": "code",
   "execution_count": 107,
   "id": "618df56b-bcd4-4ac6-8482-7bba4c525986",
   "metadata": {},
   "outputs": [
    {
     "data": {
      "text/html": [
       "71"
      ],
      "text/latex": [
       "71"
      ],
      "text/markdown": [
       "71"
      ],
      "text/plain": [
       "[1] 71"
      ]
     },
     "metadata": {},
     "output_type": "display_data"
    }
   ],
   "source": [
    "length(targetSeqs)"
   ]
  },
  {
   "cell_type": "code",
   "execution_count": 118,
   "id": "0992d12c-bb6f-48f0-8a0c-babf8e37969a",
   "metadata": {
    "tags": []
   },
   "outputs": [],
   "source": [
    "input = join_all\n",
    "targetSeqs = gs.env\n",
    "category = \"free_living\"\n",
    "output.file = paste(\"gold_standard/cds_validation_\", category, \".fna\", sep = \"\")\n",
    "search.cds = input[c(which(names(input) %in% names(targetSeqs)))] \n",
    "\n",
    "output.cds = write.fasta(sequences=search.cds,names=names(search.cds),\n",
    "                nbchar=80,\n",
    "                file.out=output.file)"
   ]
  },
  {
   "cell_type": "code",
   "execution_count": 75,
   "id": "e252e705-7593-45e7-b4b5-6bae47c82a09",
   "metadata": {},
   "outputs": [
    {
     "data": {
      "text/html": [
       "75"
      ],
      "text/latex": [
       "75"
      ],
      "text/markdown": [
       "75"
      ],
      "text/plain": [
       "[1] 75"
      ]
     },
     "metadata": {},
     "output_type": "display_data"
    }
   ],
   "source": [
    "length(targetSeqs)"
   ]
  },
  {
   "cell_type": "code",
   "execution_count": 105,
   "id": "ad9398a0-e6e7-47ed-a0ec-615ba18f87d4",
   "metadata": {
    "tags": []
   },
   "outputs": [
    {
     "data": {
      "text/html": [
       "70"
      ],
      "text/latex": [
       "70"
      ],
      "text/markdown": [
       "70"
      ],
      "text/plain": [
       "[1] 70"
      ]
     },
     "metadata": {},
     "output_type": "display_data"
    }
   ],
   "source": [
    "length(input2)"
   ]
  },
  {
   "cell_type": "code",
   "execution_count": 86,
   "id": "a2dcee48-005c-48d7-9d95-16c0e1dcd9b7",
   "metadata": {
    "tags": []
   },
   "outputs": [
    {
     "data": {
      "text/html": [
       "82"
      ],
      "text/latex": [
       "82"
      ],
      "text/markdown": [
       "82"
      ],
      "text/plain": [
       "[1] 82"
      ]
     },
     "metadata": {},
     "output_type": "display_data"
    }
   ],
   "source": [
    "length(search.cds)"
   ]
  },
  {
   "cell_type": "code",
   "execution_count": 97,
   "id": "8a467fb7-65d5-4d39-b0cc-231ef2c56141",
   "metadata": {},
   "outputs": [],
   "source": [
    "targetSeqs = read.fasta(\"gold_standard/muscle_alignment_plants_animals_env.fasta\")"
   ]
  },
  {
   "cell_type": "code",
   "execution_count": 96,
   "id": "cc92050d-c3b2-4890-aa49-e2fb626c87f7",
   "metadata": {},
   "outputs": [],
   "source": [
    "input2 = read.fasta(\"gold_standard/cds_validation_all_75.fasta\")"
   ]
  },
  {
   "cell_type": "code",
   "execution_count": 99,
   "id": "73e9f665-0f0b-4b5d-8be7-e8a7d64473f7",
   "metadata": {},
   "outputs": [
    {
     "data": {
      "text/html": [],
      "text/latex": [],
      "text/markdown": [],
      "text/plain": [
       "character(0)"
      ]
     },
     "metadata": {},
     "output_type": "display_data"
    }
   ],
   "source": [
    "setdiff(names(targetSeqs),names(input2))"
   ]
  },
  {
   "cell_type": "code",
   "execution_count": 55,
   "id": "3c47b04f-9cd3-4701-b92f-825692e68cce",
   "metadata": {},
   "outputs": [],
   "source": [
    "#Filter alignment\n",
    "alignment = read.fasta(\"gold_standard/muscle_alignment_plants_animals_env_unmasked.fasta\")\n",
    "\n",
    "filt.alignment = alignment[c(which(names(alignment) %in% names(search.cds)))]\n",
    "write.fasta(sequences = filt.alignment, names=names(filt.alignment),\n",
    "           nbchar=80,\n",
    "           file.out = \"gold_standard/matching_muscle_alignment.plants_animals.env_unmasked.fasta\")"
   ]
  }
 ],
 "metadata": {
  "kernelspec": {
   "display_name": "R4.2.1 (py3_fla_2022)",
   "language": "R",
   "name": "py3_fla_2022-r"
  },
  "language_info": {
   "codemirror_mode": "r",
   "file_extension": ".r",
   "mimetype": "text/x-r-source",
   "name": "R",
   "pygments_lexer": "r",
   "version": "4.2.2"
  }
 },
 "nbformat": 4,
 "nbformat_minor": 5
}
